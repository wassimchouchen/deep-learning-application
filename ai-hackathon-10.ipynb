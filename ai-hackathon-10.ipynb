{
 "cells": [
  {
   "cell_type": "code",
   "execution_count": 1,
   "id": "886c5557",
   "metadata": {
    "execution": {
     "iopub.execute_input": "2022-07-17T16:04:48.486331Z",
     "iopub.status.busy": "2022-07-17T16:04:48.485524Z",
     "iopub.status.idle": "2022-07-17T16:04:48.503750Z",
     "shell.execute_reply": "2022-07-17T16:04:48.502561Z"
    },
    "papermill": {
     "duration": 0.033511,
     "end_time": "2022-07-17T16:04:48.505774",
     "exception": false,
     "start_time": "2022-07-17T16:04:48.472263",
     "status": "completed"
    },
    "tags": []
   },
   "outputs": [
    {
     "name": "stdout",
     "output_type": "stream",
     "text": [
      "/kaggle/input/ia-hackathonn/SampleSubmission.csv\n",
      "/kaggle/input/ia-hackathonn/Train (2).csv\n",
      "/kaggle/input/ia-hackathonn/Test (4).csv\n"
     ]
    }
   ],
   "source": [
    "import pandas as pd\n",
    "import numpy as np\n",
    "import os\n",
    "for dirname, _, filenames in os.walk('/kaggle/input'):\n",
    "    for filename in filenames:\n",
    "        print(os.path.join(dirname, filename))"
   ]
  },
  {
   "cell_type": "code",
   "execution_count": 2,
   "id": "50415706",
   "metadata": {
    "execution": {
     "iopub.execute_input": "2022-07-17T16:04:48.527105Z",
     "iopub.status.busy": "2022-07-17T16:04:48.526845Z",
     "iopub.status.idle": "2022-07-17T16:04:49.569079Z",
     "shell.execute_reply": "2022-07-17T16:04:49.568090Z"
    },
    "papermill": {
     "duration": 1.055348,
     "end_time": "2022-07-17T16:04:49.571543",
     "exception": false,
     "start_time": "2022-07-17T16:04:48.516195",
     "status": "completed"
    },
    "tags": []
   },
   "outputs": [],
   "source": [
    "import pandas as pd\n",
    "import numpy as np\n",
    "import matplotlib.pyplot as plt\n",
    "import seaborn as sns"
   ]
  },
  {
   "cell_type": "markdown",
   "id": "9dd28293",
   "metadata": {
    "papermill": {
     "duration": 0.009961,
     "end_time": "2022-07-17T16:04:49.591627",
     "exception": false,
     "start_time": "2022-07-17T16:04:49.581666",
     "status": "completed"
    },
    "tags": []
   },
   "source": [
    "Importing the dataset"
   ]
  },
  {
   "cell_type": "code",
   "execution_count": 3,
   "id": "3ef29887",
   "metadata": {
    "execution": {
     "iopub.execute_input": "2022-07-17T16:04:49.613727Z",
     "iopub.status.busy": "2022-07-17T16:04:49.613410Z",
     "iopub.status.idle": "2022-07-17T16:04:52.474491Z",
     "shell.execute_reply": "2022-07-17T16:04:52.473469Z"
    },
    "papermill": {
     "duration": 2.875202,
     "end_time": "2022-07-17T16:04:52.476811",
     "exception": false,
     "start_time": "2022-07-17T16:04:49.601609",
     "status": "completed"
    },
    "tags": []
   },
   "outputs": [],
   "source": [
    "df_train = pd.read_csv('../input/ia-hackathonn/Train (2).csv')\n",
    "df_test = pd.read_csv('../input/ia-hackathonn/Test (4).csv')"
   ]
  },
  {
   "cell_type": "code",
   "execution_count": 4,
   "id": "f4f8f057",
   "metadata": {
    "execution": {
     "iopub.execute_input": "2022-07-17T16:04:52.500358Z",
     "iopub.status.busy": "2022-07-17T16:04:52.500076Z",
     "iopub.status.idle": "2022-07-17T16:04:52.509002Z",
     "shell.execute_reply": "2022-07-17T16:04:52.508007Z"
    },
    "papermill": {
     "duration": 0.022808,
     "end_time": "2022-07-17T16:04:52.511277",
     "exception": false,
     "start_time": "2022-07-17T16:04:52.488469",
     "status": "completed"
    },
    "tags": []
   },
   "outputs": [
    {
     "data": {
      "text/plain": [
       "(2898, 1795)"
      ]
     },
     "execution_count": 4,
     "metadata": {},
     "output_type": "execute_result"
    }
   ],
   "source": [
    "df_train.shape"
   ]
  },
  {
   "cell_type": "code",
   "execution_count": 5,
   "id": "73675b09",
   "metadata": {
    "execution": {
     "iopub.execute_input": "2022-07-17T16:04:52.532216Z",
     "iopub.status.busy": "2022-07-17T16:04:52.531962Z",
     "iopub.status.idle": "2022-07-17T16:04:52.537846Z",
     "shell.execute_reply": "2022-07-17T16:04:52.536765Z"
    },
    "papermill": {
     "duration": 0.018637,
     "end_time": "2022-07-17T16:04:52.539847",
     "exception": false,
     "start_time": "2022-07-17T16:04:52.521210",
     "status": "completed"
    },
    "tags": []
   },
   "outputs": [
    {
     "data": {
      "text/plain": [
       "(1242, 1793)"
      ]
     },
     "execution_count": 5,
     "metadata": {},
     "output_type": "execute_result"
    }
   ],
   "source": [
    "df_test.shape"
   ]
  },
  {
   "cell_type": "code",
   "execution_count": 6,
   "id": "40a3bcdd",
   "metadata": {
    "execution": {
     "iopub.execute_input": "2022-07-17T16:04:52.561115Z",
     "iopub.status.busy": "2022-07-17T16:04:52.560870Z",
     "iopub.status.idle": "2022-07-17T16:04:52.591356Z",
     "shell.execute_reply": "2022-07-17T16:04:52.590504Z"
    },
    "papermill": {
     "duration": 0.043151,
     "end_time": "2022-07-17T16:04:52.593226",
     "exception": false,
     "start_time": "2022-07-17T16:04:52.550075",
     "status": "completed"
    },
    "tags": []
   },
   "outputs": [
    {
     "data": {
      "text/html": [
       "<div>\n",
       "<style scoped>\n",
       "    .dataframe tbody tr th:only-of-type {\n",
       "        vertical-align: middle;\n",
       "    }\n",
       "\n",
       "    .dataframe tbody tr th {\n",
       "        vertical-align: top;\n",
       "    }\n",
       "\n",
       "    .dataframe thead th {\n",
       "        text-align: right;\n",
       "    }\n",
       "</style>\n",
       "<table border=\"1\" class=\"dataframe\">\n",
       "  <thead>\n",
       "    <tr style=\"text-align: right;\">\n",
       "      <th></th>\n",
       "      <th>ID</th>\n",
       "      <th>channel_0_timestep_0</th>\n",
       "      <th>channel_0_timestep_1</th>\n",
       "      <th>channel_0_timestep_2</th>\n",
       "      <th>channel_0_timestep_3</th>\n",
       "      <th>channel_0_timestep_4</th>\n",
       "      <th>channel_0_timestep_5</th>\n",
       "      <th>channel_0_timestep_6</th>\n",
       "      <th>channel_0_timestep_7</th>\n",
       "      <th>channel_0_timestep_8</th>\n",
       "      <th>...</th>\n",
       "      <th>channel_13_timestep_120</th>\n",
       "      <th>channel_13_timestep_121</th>\n",
       "      <th>channel_13_timestep_122</th>\n",
       "      <th>channel_13_timestep_123</th>\n",
       "      <th>channel_13_timestep_124</th>\n",
       "      <th>channel_13_timestep_125</th>\n",
       "      <th>channel_13_timestep_126</th>\n",
       "      <th>channel_13_timestep_127</th>\n",
       "      <th>valence</th>\n",
       "      <th>arousal</th>\n",
       "    </tr>\n",
       "  </thead>\n",
       "  <tbody>\n",
       "    <tr>\n",
       "      <th>0</th>\n",
       "      <td>1826</td>\n",
       "      <td>0.666593</td>\n",
       "      <td>-0.127720</td>\n",
       "      <td>0.030188</td>\n",
       "      <td>0.872432</td>\n",
       "      <td>0.066428</td>\n",
       "      <td>-0.688929</td>\n",
       "      <td>0.351763</td>\n",
       "      <td>0.962038</td>\n",
       "      <td>1.171841</td>\n",
       "      <td>...</td>\n",
       "      <td>4.268692</td>\n",
       "      <td>4.296591</td>\n",
       "      <td>0.405264</td>\n",
       "      <td>-2.827268</td>\n",
       "      <td>-2.004783</td>\n",
       "      <td>1.276288</td>\n",
       "      <td>2.222049</td>\n",
       "      <td>0.158765</td>\n",
       "      <td>5.0</td>\n",
       "      <td>6.0</td>\n",
       "    </tr>\n",
       "    <tr>\n",
       "      <th>1</th>\n",
       "      <td>1959</td>\n",
       "      <td>1.439036</td>\n",
       "      <td>2.939323</td>\n",
       "      <td>4.450541</td>\n",
       "      <td>4.889985</td>\n",
       "      <td>2.808758</td>\n",
       "      <td>0.174926</td>\n",
       "      <td>-0.264143</td>\n",
       "      <td>-0.265241</td>\n",
       "      <td>-2.430413</td>\n",
       "      <td>...</td>\n",
       "      <td>-2.719914</td>\n",
       "      <td>1.040441</td>\n",
       "      <td>0.272578</td>\n",
       "      <td>0.103977</td>\n",
       "      <td>3.468313</td>\n",
       "      <td>6.880353</td>\n",
       "      <td>8.626653</td>\n",
       "      <td>9.982868</td>\n",
       "      <td>1.0</td>\n",
       "      <td>7.0</td>\n",
       "    </tr>\n",
       "    <tr>\n",
       "      <th>2</th>\n",
       "      <td>688</td>\n",
       "      <td>-6.873479</td>\n",
       "      <td>2.620711</td>\n",
       "      <td>6.368775</td>\n",
       "      <td>-0.753867</td>\n",
       "      <td>0.504129</td>\n",
       "      <td>8.989532</td>\n",
       "      <td>6.353325</td>\n",
       "      <td>-0.452068</td>\n",
       "      <td>-1.600631</td>\n",
       "      <td>...</td>\n",
       "      <td>0.051793</td>\n",
       "      <td>-5.156834</td>\n",
       "      <td>-18.325062</td>\n",
       "      <td>2.098055</td>\n",
       "      <td>17.815147</td>\n",
       "      <td>0.043855</td>\n",
       "      <td>-3.858117</td>\n",
       "      <td>17.348724</td>\n",
       "      <td>1.0</td>\n",
       "      <td>6.0</td>\n",
       "    </tr>\n",
       "    <tr>\n",
       "      <th>3</th>\n",
       "      <td>765</td>\n",
       "      <td>7.343672</td>\n",
       "      <td>-1.043033</td>\n",
       "      <td>3.394326</td>\n",
       "      <td>12.075764</td>\n",
       "      <td>2.094330</td>\n",
       "      <td>-6.726448</td>\n",
       "      <td>-2.849046</td>\n",
       "      <td>-2.859351</td>\n",
       "      <td>-3.247879</td>\n",
       "      <td>...</td>\n",
       "      <td>11.696478</td>\n",
       "      <td>5.142235</td>\n",
       "      <td>-2.881666</td>\n",
       "      <td>-3.570459</td>\n",
       "      <td>-4.366352</td>\n",
       "      <td>-4.056002</td>\n",
       "      <td>-1.489292</td>\n",
       "      <td>-2.761847</td>\n",
       "      <td>2.0</td>\n",
       "      <td>8.0</td>\n",
       "    </tr>\n",
       "    <tr>\n",
       "      <th>4</th>\n",
       "      <td>610</td>\n",
       "      <td>8.988179</td>\n",
       "      <td>1.338421</td>\n",
       "      <td>-2.789729</td>\n",
       "      <td>-4.878788</td>\n",
       "      <td>-7.294619</td>\n",
       "      <td>-6.117245</td>\n",
       "      <td>-3.501986</td>\n",
       "      <td>-3.073579</td>\n",
       "      <td>0.061395</td>\n",
       "      <td>...</td>\n",
       "      <td>5.989770</td>\n",
       "      <td>5.809627</td>\n",
       "      <td>4.878367</td>\n",
       "      <td>3.895410</td>\n",
       "      <td>0.987760</td>\n",
       "      <td>0.012008</td>\n",
       "      <td>-0.732414</td>\n",
       "      <td>-3.816425</td>\n",
       "      <td>1.0</td>\n",
       "      <td>7.0</td>\n",
       "    </tr>\n",
       "  </tbody>\n",
       "</table>\n",
       "<p>5 rows × 1795 columns</p>\n",
       "</div>"
      ],
      "text/plain": [
       "     ID  channel_0_timestep_0  channel_0_timestep_1  channel_0_timestep_2  \\\n",
       "0  1826              0.666593             -0.127720              0.030188   \n",
       "1  1959              1.439036              2.939323              4.450541   \n",
       "2   688             -6.873479              2.620711              6.368775   \n",
       "3   765              7.343672             -1.043033              3.394326   \n",
       "4   610              8.988179              1.338421             -2.789729   \n",
       "\n",
       "   channel_0_timestep_3  channel_0_timestep_4  channel_0_timestep_5  \\\n",
       "0              0.872432              0.066428             -0.688929   \n",
       "1              4.889985              2.808758              0.174926   \n",
       "2             -0.753867              0.504129              8.989532   \n",
       "3             12.075764              2.094330             -6.726448   \n",
       "4             -4.878788             -7.294619             -6.117245   \n",
       "\n",
       "   channel_0_timestep_6  channel_0_timestep_7  channel_0_timestep_8  ...  \\\n",
       "0              0.351763              0.962038              1.171841  ...   \n",
       "1             -0.264143             -0.265241             -2.430413  ...   \n",
       "2              6.353325             -0.452068             -1.600631  ...   \n",
       "3             -2.849046             -2.859351             -3.247879  ...   \n",
       "4             -3.501986             -3.073579              0.061395  ...   \n",
       "\n",
       "   channel_13_timestep_120  channel_13_timestep_121  channel_13_timestep_122  \\\n",
       "0                 4.268692                 4.296591                 0.405264   \n",
       "1                -2.719914                 1.040441                 0.272578   \n",
       "2                 0.051793                -5.156834               -18.325062   \n",
       "3                11.696478                 5.142235                -2.881666   \n",
       "4                 5.989770                 5.809627                 4.878367   \n",
       "\n",
       "   channel_13_timestep_123  channel_13_timestep_124  channel_13_timestep_125  \\\n",
       "0                -2.827268                -2.004783                 1.276288   \n",
       "1                 0.103977                 3.468313                 6.880353   \n",
       "2                 2.098055                17.815147                 0.043855   \n",
       "3                -3.570459                -4.366352                -4.056002   \n",
       "4                 3.895410                 0.987760                 0.012008   \n",
       "\n",
       "   channel_13_timestep_126  channel_13_timestep_127  valence  arousal  \n",
       "0                 2.222049                 0.158765      5.0      6.0  \n",
       "1                 8.626653                 9.982868      1.0      7.0  \n",
       "2                -3.858117                17.348724      1.0      6.0  \n",
       "3                -1.489292                -2.761847      2.0      8.0  \n",
       "4                -0.732414                -3.816425      1.0      7.0  \n",
       "\n",
       "[5 rows x 1795 columns]"
      ]
     },
     "execution_count": 6,
     "metadata": {},
     "output_type": "execute_result"
    }
   ],
   "source": [
    "df_train.head()"
   ]
  },
  {
   "cell_type": "code",
   "execution_count": 7,
   "id": "7464efba",
   "metadata": {
    "execution": {
     "iopub.execute_input": "2022-07-17T16:04:52.616490Z",
     "iopub.status.busy": "2022-07-17T16:04:52.616240Z",
     "iopub.status.idle": "2022-07-17T16:04:52.623431Z",
     "shell.execute_reply": "2022-07-17T16:04:52.622481Z"
    },
    "papermill": {
     "duration": 0.020572,
     "end_time": "2022-07-17T16:04:52.625331",
     "exception": false,
     "start_time": "2022-07-17T16:04:52.604759",
     "status": "completed"
    },
    "tags": []
   },
   "outputs": [],
   "source": [
    "v=df_train[\"valence\"]\n",
    "a=df_train[\"arousal\"]"
   ]
  },
  {
   "cell_type": "code",
   "execution_count": 8,
   "id": "ef987451",
   "metadata": {
    "execution": {
     "iopub.execute_input": "2022-07-17T16:04:52.649044Z",
     "iopub.status.busy": "2022-07-17T16:04:52.647669Z",
     "iopub.status.idle": "2022-07-17T16:04:52.658074Z",
     "shell.execute_reply": "2022-07-17T16:04:52.657103Z"
    },
    "papermill": {
     "duration": 0.024127,
     "end_time": "2022-07-17T16:04:52.660097",
     "exception": false,
     "start_time": "2022-07-17T16:04:52.635970",
     "status": "completed"
    },
    "tags": []
   },
   "outputs": [
    {
     "data": {
      "text/plain": [
       "array([6., 7., 8., 1., 5., 3., 2., 4., 9.])"
      ]
     },
     "execution_count": 8,
     "metadata": {},
     "output_type": "execute_result"
    }
   ],
   "source": [
    "a.unique()"
   ]
  },
  {
   "cell_type": "code",
   "execution_count": 9,
   "id": "55516cad",
   "metadata": {
    "execution": {
     "iopub.execute_input": "2022-07-17T16:04:52.682708Z",
     "iopub.status.busy": "2022-07-17T16:04:52.682468Z",
     "iopub.status.idle": "2022-07-17T16:04:52.689687Z",
     "shell.execute_reply": "2022-07-17T16:04:52.688808Z"
    },
    "papermill": {
     "duration": 0.020684,
     "end_time": "2022-07-17T16:04:52.691613",
     "exception": false,
     "start_time": "2022-07-17T16:04:52.670929",
     "status": "completed"
    },
    "tags": []
   },
   "outputs": [
    {
     "data": {
      "text/plain": [
       "array([5., 1., 2., 4., 3., 7.])"
      ]
     },
     "execution_count": 9,
     "metadata": {},
     "output_type": "execute_result"
    }
   ],
   "source": [
    "v.unique()"
   ]
  },
  {
   "cell_type": "code",
   "execution_count": 10,
   "id": "5a589e6d",
   "metadata": {
    "execution": {
     "iopub.execute_input": "2022-07-17T16:04:52.714548Z",
     "iopub.status.busy": "2022-07-17T16:04:52.714310Z",
     "iopub.status.idle": "2022-07-17T16:04:52.720093Z",
     "shell.execute_reply": "2022-07-17T16:04:52.719091Z"
    },
    "papermill": {
     "duration": 0.019929,
     "end_time": "2022-07-17T16:04:52.722416",
     "exception": false,
     "start_time": "2022-07-17T16:04:52.702487",
     "status": "completed"
    },
    "tags": []
   },
   "outputs": [
    {
     "data": {
      "text/plain": [
       "Index(['ID', 'channel_0_timestep_0', 'channel_0_timestep_1',\n",
       "       'channel_0_timestep_2', 'channel_0_timestep_3', 'channel_0_timestep_4',\n",
       "       'channel_0_timestep_5', 'channel_0_timestep_6', 'channel_0_timestep_7',\n",
       "       'channel_0_timestep_8',\n",
       "       ...\n",
       "       'channel_13_timestep_120', 'channel_13_timestep_121',\n",
       "       'channel_13_timestep_122', 'channel_13_timestep_123',\n",
       "       'channel_13_timestep_124', 'channel_13_timestep_125',\n",
       "       'channel_13_timestep_126', 'channel_13_timestep_127', 'valence',\n",
       "       'arousal'],\n",
       "      dtype='object', length=1795)"
      ]
     },
     "execution_count": 10,
     "metadata": {},
     "output_type": "execute_result"
    }
   ],
   "source": [
    "df_train.columns"
   ]
  },
  {
   "cell_type": "code",
   "execution_count": 11,
   "id": "bc91507f",
   "metadata": {
    "_kg_hide-output": true,
    "execution": {
     "iopub.execute_input": "2022-07-17T16:04:52.745573Z",
     "iopub.status.busy": "2022-07-17T16:04:52.745339Z",
     "iopub.status.idle": "2022-07-17T16:04:52.832309Z",
     "shell.execute_reply": "2022-07-17T16:04:52.830855Z"
    },
    "papermill": {
     "duration": 0.101692,
     "end_time": "2022-07-17T16:04:52.835204",
     "exception": false,
     "start_time": "2022-07-17T16:04:52.733512",
     "status": "completed"
    },
    "tags": []
   },
   "outputs": [
    {
     "name": "stdout",
     "output_type": "stream",
     "text": [
      "<class 'pandas.core.frame.DataFrame'>\n",
      "RangeIndex: 2898 entries, 0 to 2897\n",
      "Columns: 1795 entries, ID to arousal\n",
      "dtypes: float64(1794), int64(1)\n",
      "memory usage: 39.7 MB\n"
     ]
    }
   ],
   "source": [
    "df_train.info()"
   ]
  },
  {
   "cell_type": "code",
   "execution_count": 12,
   "id": "0d81505f",
   "metadata": {
    "execution": {
     "iopub.execute_input": "2022-07-17T16:04:52.859854Z",
     "iopub.status.busy": "2022-07-17T16:04:52.859582Z",
     "iopub.status.idle": "2022-07-17T16:04:52.864340Z",
     "shell.execute_reply": "2022-07-17T16:04:52.863362Z"
    },
    "papermill": {
     "duration": 0.018824,
     "end_time": "2022-07-17T16:04:52.866403",
     "exception": false,
     "start_time": "2022-07-17T16:04:52.847579",
     "status": "completed"
    },
    "tags": []
   },
   "outputs": [],
   "source": [
    "Id=df_test[\"ID\"]"
   ]
  },
  {
   "cell_type": "code",
   "execution_count": 13,
   "id": "f0bac4aa",
   "metadata": {
    "execution": {
     "iopub.execute_input": "2022-07-17T16:04:52.890394Z",
     "iopub.status.busy": "2022-07-17T16:04:52.890142Z",
     "iopub.status.idle": "2022-07-17T16:04:52.912105Z",
     "shell.execute_reply": "2022-07-17T16:04:52.911132Z"
    },
    "papermill": {
     "duration": 0.036192,
     "end_time": "2022-07-17T16:04:52.914226",
     "exception": false,
     "start_time": "2022-07-17T16:04:52.878034",
     "status": "completed"
    },
    "tags": []
   },
   "outputs": [
    {
     "data": {
      "text/html": [
       "<div>\n",
       "<style scoped>\n",
       "    .dataframe tbody tr th:only-of-type {\n",
       "        vertical-align: middle;\n",
       "    }\n",
       "\n",
       "    .dataframe tbody tr th {\n",
       "        vertical-align: top;\n",
       "    }\n",
       "\n",
       "    .dataframe thead th {\n",
       "        text-align: right;\n",
       "    }\n",
       "</style>\n",
       "<table border=\"1\" class=\"dataframe\">\n",
       "  <thead>\n",
       "    <tr style=\"text-align: right;\">\n",
       "      <th></th>\n",
       "      <th>ID</th>\n",
       "      <th>channel_0_timestep_0</th>\n",
       "      <th>channel_0_timestep_1</th>\n",
       "      <th>channel_0_timestep_2</th>\n",
       "      <th>channel_0_timestep_3</th>\n",
       "      <th>channel_0_timestep_4</th>\n",
       "      <th>channel_0_timestep_5</th>\n",
       "      <th>channel_0_timestep_6</th>\n",
       "      <th>channel_0_timestep_7</th>\n",
       "      <th>channel_0_timestep_8</th>\n",
       "      <th>...</th>\n",
       "      <th>channel_13_timestep_118</th>\n",
       "      <th>channel_13_timestep_119</th>\n",
       "      <th>channel_13_timestep_120</th>\n",
       "      <th>channel_13_timestep_121</th>\n",
       "      <th>channel_13_timestep_122</th>\n",
       "      <th>channel_13_timestep_123</th>\n",
       "      <th>channel_13_timestep_124</th>\n",
       "      <th>channel_13_timestep_125</th>\n",
       "      <th>channel_13_timestep_126</th>\n",
       "      <th>channel_13_timestep_127</th>\n",
       "    </tr>\n",
       "  </thead>\n",
       "  <tbody>\n",
       "    <tr>\n",
       "      <th>0</th>\n",
       "      <td>2649</td>\n",
       "      <td>0.726739</td>\n",
       "      <td>1.326801</td>\n",
       "      <td>0.419562</td>\n",
       "      <td>0.362655</td>\n",
       "      <td>1.877844</td>\n",
       "      <td>2.177589</td>\n",
       "      <td>0.881530</td>\n",
       "      <td>-0.177988</td>\n",
       "      <td>-0.107699</td>\n",
       "      <td>...</td>\n",
       "      <td>-4.538226</td>\n",
       "      <td>-6.132041</td>\n",
       "      <td>-4.516711</td>\n",
       "      <td>-4.155573</td>\n",
       "      <td>-6.451481</td>\n",
       "      <td>-5.906953</td>\n",
       "      <td>-1.217648</td>\n",
       "      <td>2.809138</td>\n",
       "      <td>5.387832</td>\n",
       "      <td>7.240309</td>\n",
       "    </tr>\n",
       "    <tr>\n",
       "      <th>1</th>\n",
       "      <td>1897</td>\n",
       "      <td>-2.290174</td>\n",
       "      <td>-1.321119</td>\n",
       "      <td>-4.212674</td>\n",
       "      <td>-2.404299</td>\n",
       "      <td>3.280274</td>\n",
       "      <td>5.224883</td>\n",
       "      <td>5.204860</td>\n",
       "      <td>3.618460</td>\n",
       "      <td>-2.801359</td>\n",
       "      <td>...</td>\n",
       "      <td>0.414722</td>\n",
       "      <td>3.437341</td>\n",
       "      <td>2.709642</td>\n",
       "      <td>-4.540618</td>\n",
       "      <td>-8.604247</td>\n",
       "      <td>-8.877815</td>\n",
       "      <td>-5.269321</td>\n",
       "      <td>4.677503</td>\n",
       "      <td>11.745440</td>\n",
       "      <td>11.366855</td>\n",
       "    </tr>\n",
       "    <tr>\n",
       "      <th>2</th>\n",
       "      <td>3973</td>\n",
       "      <td>-0.403232</td>\n",
       "      <td>-1.047966</td>\n",
       "      <td>-0.414630</td>\n",
       "      <td>-1.139564</td>\n",
       "      <td>-3.021573</td>\n",
       "      <td>-1.477372</td>\n",
       "      <td>0.307533</td>\n",
       "      <td>0.156880</td>\n",
       "      <td>0.410522</td>\n",
       "      <td>...</td>\n",
       "      <td>3.059209</td>\n",
       "      <td>0.482465</td>\n",
       "      <td>-0.488242</td>\n",
       "      <td>2.093967</td>\n",
       "      <td>0.955976</td>\n",
       "      <td>-1.962847</td>\n",
       "      <td>-0.305406</td>\n",
       "      <td>2.123710</td>\n",
       "      <td>2.303813</td>\n",
       "      <td>1.377429</td>\n",
       "    </tr>\n",
       "    <tr>\n",
       "      <th>3</th>\n",
       "      <td>3038</td>\n",
       "      <td>2.900014</td>\n",
       "      <td>0.531952</td>\n",
       "      <td>-1.543073</td>\n",
       "      <td>-2.262296</td>\n",
       "      <td>3.178448</td>\n",
       "      <td>5.404681</td>\n",
       "      <td>1.022172</td>\n",
       "      <td>1.415055</td>\n",
       "      <td>2.566809</td>\n",
       "      <td>...</td>\n",
       "      <td>-1.019735</td>\n",
       "      <td>1.108618</td>\n",
       "      <td>-1.554358</td>\n",
       "      <td>-6.510234</td>\n",
       "      <td>-8.960296</td>\n",
       "      <td>-3.087777</td>\n",
       "      <td>6.820467</td>\n",
       "      <td>12.740038</td>\n",
       "      <td>12.078416</td>\n",
       "      <td>2.254736</td>\n",
       "    </tr>\n",
       "    <tr>\n",
       "      <th>4</th>\n",
       "      <td>494</td>\n",
       "      <td>-3.372348</td>\n",
       "      <td>-1.855444</td>\n",
       "      <td>4.717225</td>\n",
       "      <td>1.641804</td>\n",
       "      <td>-8.900145</td>\n",
       "      <td>-11.168015</td>\n",
       "      <td>-9.589520</td>\n",
       "      <td>-12.598769</td>\n",
       "      <td>-9.765525</td>\n",
       "      <td>...</td>\n",
       "      <td>-12.035542</td>\n",
       "      <td>-12.719938</td>\n",
       "      <td>-9.132347</td>\n",
       "      <td>-10.269296</td>\n",
       "      <td>-6.274572</td>\n",
       "      <td>1.645681</td>\n",
       "      <td>-2.948617</td>\n",
       "      <td>-10.918031</td>\n",
       "      <td>-5.863556</td>\n",
       "      <td>-1.668832</td>\n",
       "    </tr>\n",
       "  </tbody>\n",
       "</table>\n",
       "<p>5 rows × 1793 columns</p>\n",
       "</div>"
      ],
      "text/plain": [
       "     ID  channel_0_timestep_0  channel_0_timestep_1  channel_0_timestep_2  \\\n",
       "0  2649              0.726739              1.326801              0.419562   \n",
       "1  1897             -2.290174             -1.321119             -4.212674   \n",
       "2  3973             -0.403232             -1.047966             -0.414630   \n",
       "3  3038              2.900014              0.531952             -1.543073   \n",
       "4   494             -3.372348             -1.855444              4.717225   \n",
       "\n",
       "   channel_0_timestep_3  channel_0_timestep_4  channel_0_timestep_5  \\\n",
       "0              0.362655              1.877844              2.177589   \n",
       "1             -2.404299              3.280274              5.224883   \n",
       "2             -1.139564             -3.021573             -1.477372   \n",
       "3             -2.262296              3.178448              5.404681   \n",
       "4              1.641804             -8.900145            -11.168015   \n",
       "\n",
       "   channel_0_timestep_6  channel_0_timestep_7  channel_0_timestep_8  ...  \\\n",
       "0              0.881530             -0.177988             -0.107699  ...   \n",
       "1              5.204860              3.618460             -2.801359  ...   \n",
       "2              0.307533              0.156880              0.410522  ...   \n",
       "3              1.022172              1.415055              2.566809  ...   \n",
       "4             -9.589520            -12.598769             -9.765525  ...   \n",
       "\n",
       "   channel_13_timestep_118  channel_13_timestep_119  channel_13_timestep_120  \\\n",
       "0                -4.538226                -6.132041                -4.516711   \n",
       "1                 0.414722                 3.437341                 2.709642   \n",
       "2                 3.059209                 0.482465                -0.488242   \n",
       "3                -1.019735                 1.108618                -1.554358   \n",
       "4               -12.035542               -12.719938                -9.132347   \n",
       "\n",
       "   channel_13_timestep_121  channel_13_timestep_122  channel_13_timestep_123  \\\n",
       "0                -4.155573                -6.451481                -5.906953   \n",
       "1                -4.540618                -8.604247                -8.877815   \n",
       "2                 2.093967                 0.955976                -1.962847   \n",
       "3                -6.510234                -8.960296                -3.087777   \n",
       "4               -10.269296                -6.274572                 1.645681   \n",
       "\n",
       "   channel_13_timestep_124  channel_13_timestep_125  channel_13_timestep_126  \\\n",
       "0                -1.217648                 2.809138                 5.387832   \n",
       "1                -5.269321                 4.677503                11.745440   \n",
       "2                -0.305406                 2.123710                 2.303813   \n",
       "3                 6.820467                12.740038                12.078416   \n",
       "4                -2.948617               -10.918031                -5.863556   \n",
       "\n",
       "   channel_13_timestep_127  \n",
       "0                 7.240309  \n",
       "1                11.366855  \n",
       "2                 1.377429  \n",
       "3                 2.254736  \n",
       "4                -1.668832  \n",
       "\n",
       "[5 rows x 1793 columns]"
      ]
     },
     "execution_count": 13,
     "metadata": {},
     "output_type": "execute_result"
    }
   ],
   "source": [
    "df_test.head()"
   ]
  },
  {
   "cell_type": "code",
   "execution_count": 14,
   "id": "15dadb18",
   "metadata": {
    "execution": {
     "iopub.execute_input": "2022-07-17T16:04:52.938649Z",
     "iopub.status.busy": "2022-07-17T16:04:52.938400Z",
     "iopub.status.idle": "2022-07-17T16:04:52.962705Z",
     "shell.execute_reply": "2022-07-17T16:04:52.961640Z"
    },
    "papermill": {
     "duration": 0.038723,
     "end_time": "2022-07-17T16:04:52.965014",
     "exception": false,
     "start_time": "2022-07-17T16:04:52.926291",
     "status": "completed"
    },
    "tags": []
   },
   "outputs": [],
   "source": [
    "df_train.drop(\"ID\" , axis=1, inplace=True)\n",
    "df_test.drop(\"ID\" , axis=1, inplace=True)"
   ]
  },
  {
   "cell_type": "markdown",
   "id": "e8b2d7e1",
   "metadata": {
    "papermill": {
     "duration": 0.01182,
     "end_time": "2022-07-17T16:04:52.988740",
     "exception": false,
     "start_time": "2022-07-17T16:04:52.976920",
     "status": "completed"
    },
    "tags": []
   },
   "source": [
    "Processing missing values"
   ]
  },
  {
   "cell_type": "code",
   "execution_count": 15,
   "id": "e363b02d",
   "metadata": {
    "execution": {
     "iopub.execute_input": "2022-07-17T16:04:53.012898Z",
     "iopub.status.busy": "2022-07-17T16:04:53.012598Z",
     "iopub.status.idle": "2022-07-17T16:04:53.035684Z",
     "shell.execute_reply": "2022-07-17T16:04:53.034445Z"
    },
    "papermill": {
     "duration": 0.038017,
     "end_time": "2022-07-17T16:04:53.038196",
     "exception": false,
     "start_time": "2022-07-17T16:04:53.000179",
     "status": "completed"
    },
    "tags": []
   },
   "outputs": [
    {
     "data": {
      "text/plain": [
       "channel_0_timestep_0      0\n",
       "channel_10_timestep_65    0\n",
       "channel_9_timestep_51     0\n",
       "channel_9_timestep_50     0\n",
       "channel_9_timestep_49     0\n",
       "dtype: int64"
      ]
     },
     "execution_count": 15,
     "metadata": {},
     "output_type": "execute_result"
    }
   ],
   "source": [
    "df_train.isnull().sum().sort_values(ascending =False).head(5)"
   ]
  },
  {
   "cell_type": "markdown",
   "id": "10ab7727",
   "metadata": {
    "papermill": {
     "duration": 0.011401,
     "end_time": "2022-07-17T16:04:53.061325",
     "exception": false,
     "start_time": "2022-07-17T16:04:53.049924",
     "status": "completed"
    },
    "tags": []
   },
   "source": [
    "Percentage of missing data"
   ]
  },
  {
   "cell_type": "markdown",
   "id": "ac9f9bad",
   "metadata": {
    "papermill": {
     "duration": 0.011616,
     "end_time": "2022-07-17T16:04:53.084558",
     "exception": false,
     "start_time": "2022-07-17T16:04:53.072942",
     "status": "completed"
    },
    "tags": []
   },
   "source": [
    "Treatment of left parameters having missing values"
   ]
  },
  {
   "cell_type": "markdown",
   "id": "ff886f45",
   "metadata": {
    "papermill": {
     "duration": 0.011339,
     "end_time": "2022-07-17T16:04:53.107518",
     "exception": false,
     "start_time": "2022-07-17T16:04:53.096179",
     "status": "completed"
    },
    "tags": []
   },
   "source": [
    "Removing the Id column"
   ]
  },
  {
   "cell_type": "markdown",
   "id": "81eae585",
   "metadata": {
    "papermill": {
     "duration": 0.011327,
     "end_time": "2022-07-17T16:04:53.130406",
     "exception": false,
     "start_time": "2022-07-17T16:04:53.119079",
     "status": "completed"
    },
    "tags": []
   },
   "source": [
    "# Artificial Neural Network"
   ]
  },
  {
   "cell_type": "code",
   "execution_count": 16,
   "id": "7f76dd8b",
   "metadata": {
    "execution": {
     "iopub.execute_input": "2022-07-17T16:04:53.155431Z",
     "iopub.status.busy": "2022-07-17T16:04:53.155158Z",
     "iopub.status.idle": "2022-07-17T16:04:53.172828Z",
     "shell.execute_reply": "2022-07-17T16:04:53.171963Z"
    },
    "papermill": {
     "duration": 0.032722,
     "end_time": "2022-07-17T16:04:53.174983",
     "exception": false,
     "start_time": "2022-07-17T16:04:53.142261",
     "status": "completed"
    },
    "tags": []
   },
   "outputs": [],
   "source": [
    "trainn=df_train.drop(\"valence\",axis=1)"
   ]
  },
  {
   "cell_type": "code",
   "execution_count": 17,
   "id": "bd2714e8",
   "metadata": {
    "execution": {
     "iopub.execute_input": "2022-07-17T16:04:53.200182Z",
     "iopub.status.busy": "2022-07-17T16:04:53.199914Z",
     "iopub.status.idle": "2022-07-17T16:04:53.228360Z",
     "shell.execute_reply": "2022-07-17T16:04:53.227507Z"
    },
    "papermill": {
     "duration": 0.043042,
     "end_time": "2022-07-17T16:04:53.230225",
     "exception": false,
     "start_time": "2022-07-17T16:04:53.187183",
     "status": "completed"
    },
    "tags": []
   },
   "outputs": [
    {
     "data": {
      "text/html": [
       "<div>\n",
       "<style scoped>\n",
       "    .dataframe tbody tr th:only-of-type {\n",
       "        vertical-align: middle;\n",
       "    }\n",
       "\n",
       "    .dataframe tbody tr th {\n",
       "        vertical-align: top;\n",
       "    }\n",
       "\n",
       "    .dataframe thead th {\n",
       "        text-align: right;\n",
       "    }\n",
       "</style>\n",
       "<table border=\"1\" class=\"dataframe\">\n",
       "  <thead>\n",
       "    <tr style=\"text-align: right;\">\n",
       "      <th></th>\n",
       "      <th>channel_0_timestep_0</th>\n",
       "      <th>channel_0_timestep_1</th>\n",
       "      <th>channel_0_timestep_2</th>\n",
       "      <th>channel_0_timestep_3</th>\n",
       "      <th>channel_0_timestep_4</th>\n",
       "      <th>channel_0_timestep_5</th>\n",
       "      <th>channel_0_timestep_6</th>\n",
       "      <th>channel_0_timestep_7</th>\n",
       "      <th>channel_0_timestep_8</th>\n",
       "      <th>channel_0_timestep_9</th>\n",
       "      <th>...</th>\n",
       "      <th>channel_13_timestep_119</th>\n",
       "      <th>channel_13_timestep_120</th>\n",
       "      <th>channel_13_timestep_121</th>\n",
       "      <th>channel_13_timestep_122</th>\n",
       "      <th>channel_13_timestep_123</th>\n",
       "      <th>channel_13_timestep_124</th>\n",
       "      <th>channel_13_timestep_125</th>\n",
       "      <th>channel_13_timestep_126</th>\n",
       "      <th>channel_13_timestep_127</th>\n",
       "      <th>arousal</th>\n",
       "    </tr>\n",
       "  </thead>\n",
       "  <tbody>\n",
       "    <tr>\n",
       "      <th>0</th>\n",
       "      <td>0.666593</td>\n",
       "      <td>-0.127720</td>\n",
       "      <td>0.030188</td>\n",
       "      <td>0.872432</td>\n",
       "      <td>0.066428</td>\n",
       "      <td>-0.688929</td>\n",
       "      <td>0.351763</td>\n",
       "      <td>0.962038</td>\n",
       "      <td>1.171841</td>\n",
       "      <td>2.323957</td>\n",
       "      <td>...</td>\n",
       "      <td>1.378793</td>\n",
       "      <td>4.268692</td>\n",
       "      <td>4.296591</td>\n",
       "      <td>0.405264</td>\n",
       "      <td>-2.827268</td>\n",
       "      <td>-2.004783</td>\n",
       "      <td>1.276288</td>\n",
       "      <td>2.222049</td>\n",
       "      <td>0.158765</td>\n",
       "      <td>6.0</td>\n",
       "    </tr>\n",
       "    <tr>\n",
       "      <th>1</th>\n",
       "      <td>1.439036</td>\n",
       "      <td>2.939323</td>\n",
       "      <td>4.450541</td>\n",
       "      <td>4.889985</td>\n",
       "      <td>2.808758</td>\n",
       "      <td>0.174926</td>\n",
       "      <td>-0.264143</td>\n",
       "      <td>-0.265241</td>\n",
       "      <td>-2.430413</td>\n",
       "      <td>-4.575553</td>\n",
       "      <td>...</td>\n",
       "      <td>-6.864929</td>\n",
       "      <td>-2.719914</td>\n",
       "      <td>1.040441</td>\n",
       "      <td>0.272578</td>\n",
       "      <td>0.103977</td>\n",
       "      <td>3.468313</td>\n",
       "      <td>6.880353</td>\n",
       "      <td>8.626653</td>\n",
       "      <td>9.982868</td>\n",
       "      <td>7.0</td>\n",
       "    </tr>\n",
       "    <tr>\n",
       "      <th>2</th>\n",
       "      <td>-6.873479</td>\n",
       "      <td>2.620711</td>\n",
       "      <td>6.368775</td>\n",
       "      <td>-0.753867</td>\n",
       "      <td>0.504129</td>\n",
       "      <td>8.989532</td>\n",
       "      <td>6.353325</td>\n",
       "      <td>-0.452068</td>\n",
       "      <td>-1.600631</td>\n",
       "      <td>-5.637474</td>\n",
       "      <td>...</td>\n",
       "      <td>-14.872344</td>\n",
       "      <td>0.051793</td>\n",
       "      <td>-5.156834</td>\n",
       "      <td>-18.325062</td>\n",
       "      <td>2.098055</td>\n",
       "      <td>17.815147</td>\n",
       "      <td>0.043855</td>\n",
       "      <td>-3.858117</td>\n",
       "      <td>17.348724</td>\n",
       "      <td>6.0</td>\n",
       "    </tr>\n",
       "    <tr>\n",
       "      <th>3</th>\n",
       "      <td>7.343672</td>\n",
       "      <td>-1.043033</td>\n",
       "      <td>3.394326</td>\n",
       "      <td>12.075764</td>\n",
       "      <td>2.094330</td>\n",
       "      <td>-6.726448</td>\n",
       "      <td>-2.849046</td>\n",
       "      <td>-2.859351</td>\n",
       "      <td>-3.247879</td>\n",
       "      <td>3.040648</td>\n",
       "      <td>...</td>\n",
       "      <td>6.079260</td>\n",
       "      <td>11.696478</td>\n",
       "      <td>5.142235</td>\n",
       "      <td>-2.881666</td>\n",
       "      <td>-3.570459</td>\n",
       "      <td>-4.366352</td>\n",
       "      <td>-4.056002</td>\n",
       "      <td>-1.489292</td>\n",
       "      <td>-2.761847</td>\n",
       "      <td>8.0</td>\n",
       "    </tr>\n",
       "    <tr>\n",
       "      <th>4</th>\n",
       "      <td>8.988179</td>\n",
       "      <td>1.338421</td>\n",
       "      <td>-2.789729</td>\n",
       "      <td>-4.878788</td>\n",
       "      <td>-7.294619</td>\n",
       "      <td>-6.117245</td>\n",
       "      <td>-3.501986</td>\n",
       "      <td>-3.073579</td>\n",
       "      <td>0.061395</td>\n",
       "      <td>6.580954</td>\n",
       "      <td>...</td>\n",
       "      <td>1.013592</td>\n",
       "      <td>5.989770</td>\n",
       "      <td>5.809627</td>\n",
       "      <td>4.878367</td>\n",
       "      <td>3.895410</td>\n",
       "      <td>0.987760</td>\n",
       "      <td>0.012008</td>\n",
       "      <td>-0.732414</td>\n",
       "      <td>-3.816425</td>\n",
       "      <td>7.0</td>\n",
       "    </tr>\n",
       "    <tr>\n",
       "      <th>...</th>\n",
       "      <td>...</td>\n",
       "      <td>...</td>\n",
       "      <td>...</td>\n",
       "      <td>...</td>\n",
       "      <td>...</td>\n",
       "      <td>...</td>\n",
       "      <td>...</td>\n",
       "      <td>...</td>\n",
       "      <td>...</td>\n",
       "      <td>...</td>\n",
       "      <td>...</td>\n",
       "      <td>...</td>\n",
       "      <td>...</td>\n",
       "      <td>...</td>\n",
       "      <td>...</td>\n",
       "      <td>...</td>\n",
       "      <td>...</td>\n",
       "      <td>...</td>\n",
       "      <td>...</td>\n",
       "      <td>...</td>\n",
       "      <td>...</td>\n",
       "    </tr>\n",
       "    <tr>\n",
       "      <th>2893</th>\n",
       "      <td>2.597523</td>\n",
       "      <td>-5.404371</td>\n",
       "      <td>-7.261963</td>\n",
       "      <td>-5.821558</td>\n",
       "      <td>-6.905499</td>\n",
       "      <td>-3.372167</td>\n",
       "      <td>-0.098528</td>\n",
       "      <td>-4.118333</td>\n",
       "      <td>-2.304121</td>\n",
       "      <td>2.807478</td>\n",
       "      <td>...</td>\n",
       "      <td>-11.493681</td>\n",
       "      <td>-8.553452</td>\n",
       "      <td>-4.326558</td>\n",
       "      <td>-2.547905</td>\n",
       "      <td>1.256500</td>\n",
       "      <td>8.988491</td>\n",
       "      <td>12.065654</td>\n",
       "      <td>9.896533</td>\n",
       "      <td>7.962224</td>\n",
       "      <td>3.0</td>\n",
       "    </tr>\n",
       "    <tr>\n",
       "      <th>2894</th>\n",
       "      <td>0.023456</td>\n",
       "      <td>-5.002498</td>\n",
       "      <td>-6.201032</td>\n",
       "      <td>-0.268211</td>\n",
       "      <td>1.768780</td>\n",
       "      <td>-2.178749</td>\n",
       "      <td>0.325151</td>\n",
       "      <td>7.422237</td>\n",
       "      <td>7.472040</td>\n",
       "      <td>4.527164</td>\n",
       "      <td>...</td>\n",
       "      <td>0.105220</td>\n",
       "      <td>-0.876480</td>\n",
       "      <td>1.165987</td>\n",
       "      <td>3.133366</td>\n",
       "      <td>2.900286</td>\n",
       "      <td>3.563294</td>\n",
       "      <td>3.955818</td>\n",
       "      <td>4.124920</td>\n",
       "      <td>7.065790</td>\n",
       "      <td>8.0</td>\n",
       "    </tr>\n",
       "    <tr>\n",
       "      <th>2895</th>\n",
       "      <td>0.418006</td>\n",
       "      <td>0.489591</td>\n",
       "      <td>0.399380</td>\n",
       "      <td>0.076094</td>\n",
       "      <td>-0.080600</td>\n",
       "      <td>0.114078</td>\n",
       "      <td>0.445269</td>\n",
       "      <td>0.719440</td>\n",
       "      <td>0.730063</td>\n",
       "      <td>0.520684</td>\n",
       "      <td>...</td>\n",
       "      <td>0.971298</td>\n",
       "      <td>2.296222</td>\n",
       "      <td>2.376399</td>\n",
       "      <td>1.750293</td>\n",
       "      <td>0.803550</td>\n",
       "      <td>-2.585437</td>\n",
       "      <td>-4.914431</td>\n",
       "      <td>-2.477296</td>\n",
       "      <td>-0.020557</td>\n",
       "      <td>5.0</td>\n",
       "    </tr>\n",
       "    <tr>\n",
       "      <th>2896</th>\n",
       "      <td>2.673160</td>\n",
       "      <td>1.955546</td>\n",
       "      <td>0.872103</td>\n",
       "      <td>-0.888802</td>\n",
       "      <td>-1.995294</td>\n",
       "      <td>-0.695374</td>\n",
       "      <td>1.180189</td>\n",
       "      <td>1.196407</td>\n",
       "      <td>0.016508</td>\n",
       "      <td>-1.190031</td>\n",
       "      <td>...</td>\n",
       "      <td>-5.766486</td>\n",
       "      <td>-6.545377</td>\n",
       "      <td>-3.103716</td>\n",
       "      <td>0.014929</td>\n",
       "      <td>-0.295690</td>\n",
       "      <td>1.441595</td>\n",
       "      <td>10.695235</td>\n",
       "      <td>12.365301</td>\n",
       "      <td>-1.123650</td>\n",
       "      <td>7.0</td>\n",
       "    </tr>\n",
       "    <tr>\n",
       "      <th>2897</th>\n",
       "      <td>-15.531085</td>\n",
       "      <td>-13.170703</td>\n",
       "      <td>-13.555800</td>\n",
       "      <td>-17.565762</td>\n",
       "      <td>-16.688934</td>\n",
       "      <td>-10.048054</td>\n",
       "      <td>-0.383483</td>\n",
       "      <td>14.014765</td>\n",
       "      <td>28.323889</td>\n",
       "      <td>38.613426</td>\n",
       "      <td>...</td>\n",
       "      <td>8.686493</td>\n",
       "      <td>7.239271</td>\n",
       "      <td>13.926379</td>\n",
       "      <td>20.090885</td>\n",
       "      <td>15.222136</td>\n",
       "      <td>8.454310</td>\n",
       "      <td>0.836808</td>\n",
       "      <td>-4.991370</td>\n",
       "      <td>0.566707</td>\n",
       "      <td>7.0</td>\n",
       "    </tr>\n",
       "  </tbody>\n",
       "</table>\n",
       "<p>2898 rows × 1793 columns</p>\n",
       "</div>"
      ],
      "text/plain": [
       "      channel_0_timestep_0  channel_0_timestep_1  channel_0_timestep_2  \\\n",
       "0                 0.666593             -0.127720              0.030188   \n",
       "1                 1.439036              2.939323              4.450541   \n",
       "2                -6.873479              2.620711              6.368775   \n",
       "3                 7.343672             -1.043033              3.394326   \n",
       "4                 8.988179              1.338421             -2.789729   \n",
       "...                    ...                   ...                   ...   \n",
       "2893              2.597523             -5.404371             -7.261963   \n",
       "2894              0.023456             -5.002498             -6.201032   \n",
       "2895              0.418006              0.489591              0.399380   \n",
       "2896              2.673160              1.955546              0.872103   \n",
       "2897            -15.531085            -13.170703            -13.555800   \n",
       "\n",
       "      channel_0_timestep_3  channel_0_timestep_4  channel_0_timestep_5  \\\n",
       "0                 0.872432              0.066428             -0.688929   \n",
       "1                 4.889985              2.808758              0.174926   \n",
       "2                -0.753867              0.504129              8.989532   \n",
       "3                12.075764              2.094330             -6.726448   \n",
       "4                -4.878788             -7.294619             -6.117245   \n",
       "...                    ...                   ...                   ...   \n",
       "2893             -5.821558             -6.905499             -3.372167   \n",
       "2894             -0.268211              1.768780             -2.178749   \n",
       "2895              0.076094             -0.080600              0.114078   \n",
       "2896             -0.888802             -1.995294             -0.695374   \n",
       "2897            -17.565762            -16.688934            -10.048054   \n",
       "\n",
       "      channel_0_timestep_6  channel_0_timestep_7  channel_0_timestep_8  \\\n",
       "0                 0.351763              0.962038              1.171841   \n",
       "1                -0.264143             -0.265241             -2.430413   \n",
       "2                 6.353325             -0.452068             -1.600631   \n",
       "3                -2.849046             -2.859351             -3.247879   \n",
       "4                -3.501986             -3.073579              0.061395   \n",
       "...                    ...                   ...                   ...   \n",
       "2893             -0.098528             -4.118333             -2.304121   \n",
       "2894              0.325151              7.422237              7.472040   \n",
       "2895              0.445269              0.719440              0.730063   \n",
       "2896              1.180189              1.196407              0.016508   \n",
       "2897             -0.383483             14.014765             28.323889   \n",
       "\n",
       "      channel_0_timestep_9  ...  channel_13_timestep_119  \\\n",
       "0                 2.323957  ...                 1.378793   \n",
       "1                -4.575553  ...                -6.864929   \n",
       "2                -5.637474  ...               -14.872344   \n",
       "3                 3.040648  ...                 6.079260   \n",
       "4                 6.580954  ...                 1.013592   \n",
       "...                    ...  ...                      ...   \n",
       "2893              2.807478  ...               -11.493681   \n",
       "2894              4.527164  ...                 0.105220   \n",
       "2895              0.520684  ...                 0.971298   \n",
       "2896             -1.190031  ...                -5.766486   \n",
       "2897             38.613426  ...                 8.686493   \n",
       "\n",
       "      channel_13_timestep_120  channel_13_timestep_121  \\\n",
       "0                    4.268692                 4.296591   \n",
       "1                   -2.719914                 1.040441   \n",
       "2                    0.051793                -5.156834   \n",
       "3                   11.696478                 5.142235   \n",
       "4                    5.989770                 5.809627   \n",
       "...                       ...                      ...   \n",
       "2893                -8.553452                -4.326558   \n",
       "2894                -0.876480                 1.165987   \n",
       "2895                 2.296222                 2.376399   \n",
       "2896                -6.545377                -3.103716   \n",
       "2897                 7.239271                13.926379   \n",
       "\n",
       "      channel_13_timestep_122  channel_13_timestep_123  \\\n",
       "0                    0.405264                -2.827268   \n",
       "1                    0.272578                 0.103977   \n",
       "2                  -18.325062                 2.098055   \n",
       "3                   -2.881666                -3.570459   \n",
       "4                    4.878367                 3.895410   \n",
       "...                       ...                      ...   \n",
       "2893                -2.547905                 1.256500   \n",
       "2894                 3.133366                 2.900286   \n",
       "2895                 1.750293                 0.803550   \n",
       "2896                 0.014929                -0.295690   \n",
       "2897                20.090885                15.222136   \n",
       "\n",
       "      channel_13_timestep_124  channel_13_timestep_125  \\\n",
       "0                   -2.004783                 1.276288   \n",
       "1                    3.468313                 6.880353   \n",
       "2                   17.815147                 0.043855   \n",
       "3                   -4.366352                -4.056002   \n",
       "4                    0.987760                 0.012008   \n",
       "...                       ...                      ...   \n",
       "2893                 8.988491                12.065654   \n",
       "2894                 3.563294                 3.955818   \n",
       "2895                -2.585437                -4.914431   \n",
       "2896                 1.441595                10.695235   \n",
       "2897                 8.454310                 0.836808   \n",
       "\n",
       "      channel_13_timestep_126  channel_13_timestep_127  arousal  \n",
       "0                    2.222049                 0.158765      6.0  \n",
       "1                    8.626653                 9.982868      7.0  \n",
       "2                   -3.858117                17.348724      6.0  \n",
       "3                   -1.489292                -2.761847      8.0  \n",
       "4                   -0.732414                -3.816425      7.0  \n",
       "...                       ...                      ...      ...  \n",
       "2893                 9.896533                 7.962224      3.0  \n",
       "2894                 4.124920                 7.065790      8.0  \n",
       "2895                -2.477296                -0.020557      5.0  \n",
       "2896                12.365301                -1.123650      7.0  \n",
       "2897                -4.991370                 0.566707      7.0  \n",
       "\n",
       "[2898 rows x 1793 columns]"
      ]
     },
     "execution_count": 17,
     "metadata": {},
     "output_type": "execute_result"
    }
   ],
   "source": [
    "trainn"
   ]
  },
  {
   "cell_type": "code",
   "execution_count": 18,
   "id": "d91a68eb",
   "metadata": {
    "execution": {
     "iopub.execute_input": "2022-07-17T16:04:53.257299Z",
     "iopub.status.busy": "2022-07-17T16:04:53.256763Z",
     "iopub.status.idle": "2022-07-17T16:04:53.274523Z",
     "shell.execute_reply": "2022-07-17T16:04:53.273376Z"
    },
    "papermill": {
     "duration": 0.033659,
     "end_time": "2022-07-17T16:04:53.276814",
     "exception": false,
     "start_time": "2022-07-17T16:04:53.243155",
     "status": "completed"
    },
    "tags": []
   },
   "outputs": [],
   "source": [
    "trainn=trainn.drop(\"arousal\" , axis=1 )"
   ]
  },
  {
   "cell_type": "code",
   "execution_count": 19,
   "id": "35221250",
   "metadata": {
    "execution": {
     "iopub.execute_input": "2022-07-17T16:04:53.303672Z",
     "iopub.status.busy": "2022-07-17T16:04:53.303371Z",
     "iopub.status.idle": "2022-07-17T16:04:53.309523Z",
     "shell.execute_reply": "2022-07-17T16:04:53.308598Z"
    },
    "papermill": {
     "duration": 0.022262,
     "end_time": "2022-07-17T16:04:53.311496",
     "exception": false,
     "start_time": "2022-07-17T16:04:53.289234",
     "status": "completed"
    },
    "tags": []
   },
   "outputs": [
    {
     "data": {
      "text/plain": [
       "(2898, 1792)"
      ]
     },
     "execution_count": 19,
     "metadata": {},
     "output_type": "execute_result"
    }
   ],
   "source": [
    "trainn.shape"
   ]
  },
  {
   "cell_type": "code",
   "execution_count": 20,
   "id": "326f7720",
   "metadata": {
    "execution": {
     "iopub.execute_input": "2022-07-17T16:04:53.338530Z",
     "iopub.status.busy": "2022-07-17T16:04:53.338289Z",
     "iopub.status.idle": "2022-07-17T16:04:53.366658Z",
     "shell.execute_reply": "2022-07-17T16:04:53.365783Z"
    },
    "papermill": {
     "duration": 0.044484,
     "end_time": "2022-07-17T16:04:53.368779",
     "exception": false,
     "start_time": "2022-07-17T16:04:53.324295",
     "status": "completed"
    },
    "tags": []
   },
   "outputs": [],
   "source": [
    "X_train = np.array(trainn)\n",
    "y_train = np.array(df_train[[\"valence\",\"arousal\"]])\n",
    "X_test = np.array(df_test)"
   ]
  },
  {
   "cell_type": "code",
   "execution_count": 21,
   "id": "73d8d681",
   "metadata": {
    "execution": {
     "iopub.execute_input": "2022-07-17T16:04:53.395787Z",
     "iopub.status.busy": "2022-07-17T16:04:53.395535Z",
     "iopub.status.idle": "2022-07-17T16:04:53.400394Z",
     "shell.execute_reply": "2022-07-17T16:04:53.399453Z"
    },
    "papermill": {
     "duration": 0.022751,
     "end_time": "2022-07-17T16:04:53.404099",
     "exception": false,
     "start_time": "2022-07-17T16:04:53.381348",
     "status": "completed"
    },
    "tags": []
   },
   "outputs": [
    {
     "name": "stdout",
     "output_type": "stream",
     "text": [
      "Shape of X_train (2898, 1792) \n",
      "Shape of y_test (2898, 2)\n",
      "Shape of X_test (1242, 1792)\n"
     ]
    }
   ],
   "source": [
    "print('Shape of X_train {} \\nShape of y_test {}\\nShape of X_test {}'.format(X_train.shape,y_train.shape,X_test.shape))"
   ]
  },
  {
   "cell_type": "markdown",
   "id": "a15e1950",
   "metadata": {
    "papermill": {
     "duration": 0.012627,
     "end_time": "2022-07-17T16:04:53.430468",
     "exception": false,
     "start_time": "2022-07-17T16:04:53.417841",
     "status": "completed"
    },
    "tags": []
   },
   "source": [
    "#### Feature Scaling"
   ]
  },
  {
   "cell_type": "code",
   "execution_count": 22,
   "id": "6660372a",
   "metadata": {
    "execution": {
     "iopub.execute_input": "2022-07-17T16:04:53.457701Z",
     "iopub.status.busy": "2022-07-17T16:04:53.457443Z",
     "iopub.status.idle": "2022-07-17T16:04:53.647760Z",
     "shell.execute_reply": "2022-07-17T16:04:53.646802Z"
    },
    "papermill": {
     "duration": 0.207144,
     "end_time": "2022-07-17T16:04:53.650165",
     "exception": false,
     "start_time": "2022-07-17T16:04:53.443021",
     "status": "completed"
    },
    "tags": []
   },
   "outputs": [],
   "source": [
    "from sklearn.preprocessing import MinMaxScaler\n",
    "mms = MinMaxScaler()\n",
    "X_train = mms.fit_transform(X_train)\n",
    "X_test = mms.transform(X_test)"
   ]
  },
  {
   "cell_type": "code",
   "execution_count": 23,
   "id": "87194cbf",
   "metadata": {
    "execution": {
     "iopub.execute_input": "2022-07-17T16:04:53.679445Z",
     "iopub.status.busy": "2022-07-17T16:04:53.678333Z",
     "iopub.status.idle": "2022-07-17T16:04:53.686324Z",
     "shell.execute_reply": "2022-07-17T16:04:53.684812Z"
    },
    "papermill": {
     "duration": 0.024805,
     "end_time": "2022-07-17T16:04:53.688719",
     "exception": false,
     "start_time": "2022-07-17T16:04:53.663914",
     "status": "completed"
    },
    "tags": []
   },
   "outputs": [
    {
     "data": {
      "text/plain": [
       "array([[5., 6.],\n",
       "       [1., 7.],\n",
       "       [1., 6.],\n",
       "       ...,\n",
       "       [5., 5.],\n",
       "       [4., 7.],\n",
       "       [1., 7.]])"
      ]
     },
     "execution_count": 23,
     "metadata": {},
     "output_type": "execute_result"
    }
   ],
   "source": [
    "y_train"
   ]
  },
  {
   "cell_type": "code",
   "execution_count": 24,
   "id": "011815ec",
   "metadata": {
    "execution": {
     "iopub.execute_input": "2022-07-17T16:04:53.715767Z",
     "iopub.status.busy": "2022-07-17T16:04:53.715509Z",
     "iopub.status.idle": "2022-07-17T16:04:53.720556Z",
     "shell.execute_reply": "2022-07-17T16:04:53.719755Z"
    },
    "papermill": {
     "duration": 0.020719,
     "end_time": "2022-07-17T16:04:53.722356",
     "exception": false,
     "start_time": "2022-07-17T16:04:53.701637",
     "status": "completed"
    },
    "tags": []
   },
   "outputs": [],
   "source": [
    "y_train = mms.fit_transform(y_train.reshape(-1,2))"
   ]
  },
  {
   "cell_type": "code",
   "execution_count": 25,
   "id": "905e0207",
   "metadata": {
    "execution": {
     "iopub.execute_input": "2022-07-17T16:04:53.749721Z",
     "iopub.status.busy": "2022-07-17T16:04:53.749475Z",
     "iopub.status.idle": "2022-07-17T16:04:53.755758Z",
     "shell.execute_reply": "2022-07-17T16:04:53.754734Z"
    },
    "papermill": {
     "duration": 0.022357,
     "end_time": "2022-07-17T16:04:53.758093",
     "exception": false,
     "start_time": "2022-07-17T16:04:53.735736",
     "status": "completed"
    },
    "tags": []
   },
   "outputs": [
    {
     "data": {
      "text/plain": [
       "array([[0.66666667, 0.625     ],\n",
       "       [0.        , 0.75      ],\n",
       "       [0.        , 0.625     ],\n",
       "       ...,\n",
       "       [0.66666667, 0.5       ],\n",
       "       [0.5       , 0.75      ],\n",
       "       [0.        , 0.75      ]])"
      ]
     },
     "execution_count": 25,
     "metadata": {},
     "output_type": "execute_result"
    }
   ],
   "source": [
    "y_train"
   ]
  },
  {
   "cell_type": "code",
   "execution_count": 26,
   "id": "a5290c69",
   "metadata": {
    "execution": {
     "iopub.execute_input": "2022-07-17T16:04:53.785705Z",
     "iopub.status.busy": "2022-07-17T16:04:53.784914Z",
     "iopub.status.idle": "2022-07-17T16:04:59.232507Z",
     "shell.execute_reply": "2022-07-17T16:04:59.231532Z"
    },
    "papermill": {
     "duration": 5.464141,
     "end_time": "2022-07-17T16:04:59.235152",
     "exception": false,
     "start_time": "2022-07-17T16:04:53.771011",
     "status": "completed"
    },
    "tags": []
   },
   "outputs": [],
   "source": [
    "from keras.models import Sequential\n",
    "from keras.layers import Dense,Dropout"
   ]
  },
  {
   "cell_type": "code",
   "execution_count": 27,
   "id": "fd116130",
   "metadata": {
    "execution": {
     "iopub.execute_input": "2022-07-17T16:04:59.264444Z",
     "iopub.status.busy": "2022-07-17T16:04:59.263850Z",
     "iopub.status.idle": "2022-07-17T16:05:02.251055Z",
     "shell.execute_reply": "2022-07-17T16:05:02.249016Z"
    },
    "papermill": {
     "duration": 3.004206,
     "end_time": "2022-07-17T16:05:02.253117",
     "exception": false,
     "start_time": "2022-07-17T16:04:59.248911",
     "status": "completed"
    },
    "tags": []
   },
   "outputs": [
    {
     "name": "stderr",
     "output_type": "stream",
     "text": [
      "2022-07-17 16:04:59.356888: I tensorflow/stream_executor/cuda/cuda_gpu_executor.cc:937] successful NUMA node read from SysFS had negative value (-1), but there must be at least one NUMA node, so returning NUMA node zero\n",
      "2022-07-17 16:04:59.468343: I tensorflow/stream_executor/cuda/cuda_gpu_executor.cc:937] successful NUMA node read from SysFS had negative value (-1), but there must be at least one NUMA node, so returning NUMA node zero\n",
      "2022-07-17 16:04:59.469190: I tensorflow/stream_executor/cuda/cuda_gpu_executor.cc:937] successful NUMA node read from SysFS had negative value (-1), but there must be at least one NUMA node, so returning NUMA node zero\n",
      "2022-07-17 16:04:59.470500: I tensorflow/core/platform/cpu_feature_guard.cc:142] This TensorFlow binary is optimized with oneAPI Deep Neural Network Library (oneDNN) to use the following CPU instructions in performance-critical operations:  AVX2 AVX512F FMA\n",
      "To enable them in other operations, rebuild TensorFlow with the appropriate compiler flags.\n",
      "2022-07-17 16:04:59.470812: I tensorflow/stream_executor/cuda/cuda_gpu_executor.cc:937] successful NUMA node read from SysFS had negative value (-1), but there must be at least one NUMA node, so returning NUMA node zero\n",
      "2022-07-17 16:04:59.471522: I tensorflow/stream_executor/cuda/cuda_gpu_executor.cc:937] successful NUMA node read from SysFS had negative value (-1), but there must be at least one NUMA node, so returning NUMA node zero\n",
      "2022-07-17 16:04:59.472167: I tensorflow/stream_executor/cuda/cuda_gpu_executor.cc:937] successful NUMA node read from SysFS had negative value (-1), but there must be at least one NUMA node, so returning NUMA node zero\n",
      "2022-07-17 16:05:01.899223: I tensorflow/stream_executor/cuda/cuda_gpu_executor.cc:937] successful NUMA node read from SysFS had negative value (-1), but there must be at least one NUMA node, so returning NUMA node zero\n",
      "2022-07-17 16:05:01.900125: I tensorflow/stream_executor/cuda/cuda_gpu_executor.cc:937] successful NUMA node read from SysFS had negative value (-1), but there must be at least one NUMA node, so returning NUMA node zero\n",
      "2022-07-17 16:05:01.900894: I tensorflow/stream_executor/cuda/cuda_gpu_executor.cc:937] successful NUMA node read from SysFS had negative value (-1), but there must be at least one NUMA node, so returning NUMA node zero\n",
      "2022-07-17 16:05:01.901607: I tensorflow/core/common_runtime/gpu/gpu_device.cc:1510] Created device /job:localhost/replica:0/task:0/device:GPU:0 with 15403 MB memory:  -> device: 0, name: Tesla P100-PCIE-16GB, pci bus id: 0000:00:04.0, compute capability: 6.0\n"
     ]
    }
   ],
   "source": [
    "regressor = Sequential()\n",
    "regressor.add(Dense(units=512,activation='relu',kernel_initializer='uniform'))\n",
    "regressor.add(Dense(units=128,activation='relu',kernel_initializer='uniform'))\n",
    "regressor.add(Dense(units=128,activation='relu',kernel_initializer='uniform'))\n",
    "regressor.add(Dense(units=64,activation='relu',kernel_initializer='uniform'))\n",
    "regressor.add(Dense(units=2,activation='relu',kernel_initializer='uniform'))\n",
    "regressor.compile(optimizer='adam',loss='mean_absolute_error',metrics=['mean_absolute_error'])"
   ]
  },
  {
   "cell_type": "code",
   "execution_count": 28,
   "id": "b4925a4e",
   "metadata": {
    "execution": {
     "iopub.execute_input": "2022-07-17T16:05:02.281883Z",
     "iopub.status.busy": "2022-07-17T16:05:02.281589Z",
     "iopub.status.idle": "2022-07-17T16:05:02.286349Z",
     "shell.execute_reply": "2022-07-17T16:05:02.285331Z"
    },
    "papermill": {
     "duration": 0.021866,
     "end_time": "2022-07-17T16:05:02.288708",
     "exception": false,
     "start_time": "2022-07-17T16:05:02.266842",
     "status": "completed"
    },
    "tags": []
   },
   "outputs": [],
   "source": [
    "from keras import callbacks\n",
    "early_stopping = callbacks.EarlyStopping(\n",
    "    min_delta=0.001, # minimium amount of change to count as an improvement\n",
    "    patience=20, # how many epochs to wait before stopping\n",
    "    restore_best_weights=True)"
   ]
  },
  {
   "cell_type": "code",
   "execution_count": 29,
   "id": "1f9df7c2",
   "metadata": {
    "execution": {
     "iopub.execute_input": "2022-07-17T16:05:02.317166Z",
     "iopub.status.busy": "2022-07-17T16:05:02.316914Z",
     "iopub.status.idle": "2022-07-17T16:05:43.909001Z",
     "shell.execute_reply": "2022-07-17T16:05:43.907734Z"
    },
    "papermill": {
     "duration": 41.672217,
     "end_time": "2022-07-17T16:05:43.974549",
     "exception": false,
     "start_time": "2022-07-17T16:05:02.302332",
     "status": "completed"
    },
    "tags": []
   },
   "outputs": [
    {
     "name": "stderr",
     "output_type": "stream",
     "text": [
      "2022-07-17 16:05:02.448306: I tensorflow/compiler/mlir/mlir_graph_optimization_pass.cc:185] None of the MLIR Optimization Passes are enabled (registered 2)\n"
     ]
    },
    {
     "name": "stdout",
     "output_type": "stream",
     "text": [
      "Epoch 1/50\n",
      "194/194 [==============================] - 2s 2ms/step - loss: 0.2847 - mean_absolute_error: 0.2847\n",
      "Epoch 2/50\n",
      "194/194 [==============================] - 0s 2ms/step - loss: 0.2755 - mean_absolute_error: 0.2755\n",
      "Epoch 3/50\n",
      "194/194 [==============================] - 0s 2ms/step - loss: 0.2751 - mean_absolute_error: 0.2751\n",
      "Epoch 4/50\n",
      "194/194 [==============================] - 0s 2ms/step - loss: 0.2732 - mean_absolute_error: 0.2732\n",
      "Epoch 5/50\n",
      "194/194 [==============================] - 0s 2ms/step - loss: 0.2770 - mean_absolute_error: 0.2770\n",
      "Epoch 6/50\n",
      "194/194 [==============================] - 0s 2ms/step - loss: 0.2738 - mean_absolute_error: 0.2738\n",
      "Epoch 7/50\n",
      "194/194 [==============================] - 0s 2ms/step - loss: 0.2734 - mean_absolute_error: 0.2734\n",
      "Epoch 8/50\n",
      "194/194 [==============================] - 0s 2ms/step - loss: 0.2766 - mean_absolute_error: 0.2766\n",
      "Epoch 9/50\n",
      "194/194 [==============================] - 0s 2ms/step - loss: 0.2753 - mean_absolute_error: 0.2753\n",
      "Epoch 10/50\n",
      "194/194 [==============================] - 0s 2ms/step - loss: 0.2732 - mean_absolute_error: 0.2732\n",
      "Epoch 11/50\n",
      "194/194 [==============================] - 0s 2ms/step - loss: 0.2740 - mean_absolute_error: 0.2740\n",
      "Epoch 12/50\n",
      "194/194 [==============================] - 0s 2ms/step - loss: 0.2738 - mean_absolute_error: 0.2738\n",
      "Epoch 13/50\n",
      "194/194 [==============================] - 0s 2ms/step - loss: 0.2717 - mean_absolute_error: 0.2717\n",
      "Epoch 14/50\n",
      "194/194 [==============================] - 0s 2ms/step - loss: 0.2735 - mean_absolute_error: 0.2735\n",
      "Epoch 15/50\n",
      "194/194 [==============================] - 0s 2ms/step - loss: 0.2741 - mean_absolute_error: 0.2741\n",
      "Epoch 16/50\n",
      "194/194 [==============================] - 1s 3ms/step - loss: 0.2736 - mean_absolute_error: 0.2736\n",
      "Epoch 17/50\n",
      "194/194 [==============================] - 0s 2ms/step - loss: 0.2729 - mean_absolute_error: 0.2729\n",
      "Epoch 18/50\n",
      "194/194 [==============================] - 0s 2ms/step - loss: 0.2723 - mean_absolute_error: 0.2723\n",
      "Epoch 19/50\n",
      "194/194 [==============================] - 0s 2ms/step - loss: 0.2723 - mean_absolute_error: 0.2723\n",
      "Epoch 20/50\n",
      "194/194 [==============================] - 0s 2ms/step - loss: 0.2726 - mean_absolute_error: 0.2726\n",
      "Epoch 21/50\n",
      "194/194 [==============================] - 0s 2ms/step - loss: 0.2730 - mean_absolute_error: 0.2730\n",
      "Epoch 22/50\n",
      "194/194 [==============================] - 0s 2ms/step - loss: 0.2719 - mean_absolute_error: 0.2719\n",
      "Epoch 23/50\n",
      "194/194 [==============================] - 0s 2ms/step - loss: 0.2726 - mean_absolute_error: 0.2726\n",
      "Epoch 24/50\n",
      "194/194 [==============================] - 0s 2ms/step - loss: 0.2729 - mean_absolute_error: 0.2729\n",
      "Epoch 25/50\n",
      "194/194 [==============================] - 0s 2ms/step - loss: 0.2729 - mean_absolute_error: 0.2729\n",
      "Epoch 26/50\n",
      "194/194 [==============================] - 0s 2ms/step - loss: 0.2725 - mean_absolute_error: 0.2725\n",
      "Epoch 27/50\n",
      "194/194 [==============================] - 0s 2ms/step - loss: 0.2727 - mean_absolute_error: 0.2727\n",
      "Epoch 28/50\n",
      "194/194 [==============================] - 1s 3ms/step - loss: 0.2719 - mean_absolute_error: 0.2719\n",
      "Epoch 29/50\n",
      "194/194 [==============================] - 1s 3ms/step - loss: 0.2730 - mean_absolute_error: 0.2730\n",
      "Epoch 30/50\n",
      "194/194 [==============================] - 0s 3ms/step - loss: 0.2727 - mean_absolute_error: 0.2727\n",
      "Epoch 31/50\n",
      "194/194 [==============================] - 0s 2ms/step - loss: 0.2718 - mean_absolute_error: 0.2718\n",
      "Epoch 32/50\n",
      "194/194 [==============================] - 0s 2ms/step - loss: 0.2725 - mean_absolute_error: 0.2725\n",
      "Epoch 33/50\n",
      "194/194 [==============================] - 0s 2ms/step - loss: 0.2717 - mean_absolute_error: 0.2717\n",
      "Epoch 34/50\n",
      "194/194 [==============================] - 0s 2ms/step - loss: 0.2725 - mean_absolute_error: 0.2725\n",
      "Epoch 35/50\n",
      "194/194 [==============================] - 0s 2ms/step - loss: 0.2713 - mean_absolute_error: 0.2713\n",
      "Epoch 36/50\n",
      "194/194 [==============================] - 0s 2ms/step - loss: 0.2722 - mean_absolute_error: 0.2722\n",
      "Epoch 37/50\n",
      "194/194 [==============================] - 0s 2ms/step - loss: 0.2719 - mean_absolute_error: 0.2719\n",
      "Epoch 38/50\n",
      "194/194 [==============================] - 0s 2ms/step - loss: 0.2717 - mean_absolute_error: 0.2717\n",
      "Epoch 39/50\n",
      "194/194 [==============================] - 1s 3ms/step - loss: 0.2722 - mean_absolute_error: 0.2722\n",
      "Epoch 40/50\n",
      "194/194 [==============================] - 1s 3ms/step - loss: 0.2712 - mean_absolute_error: 0.2712\n",
      "Epoch 41/50\n",
      "194/194 [==============================] - 0s 2ms/step - loss: 0.2720 - mean_absolute_error: 0.2720\n",
      "Epoch 42/50\n",
      "194/194 [==============================] - 0s 2ms/step - loss: 0.2724 - mean_absolute_error: 0.2724\n",
      "Epoch 43/50\n",
      "194/194 [==============================] - 0s 2ms/step - loss: 0.2715 - mean_absolute_error: 0.2715\n",
      "Epoch 44/50\n",
      "194/194 [==============================] - 0s 2ms/step - loss: 0.2714 - mean_absolute_error: 0.2714\n",
      "Epoch 45/50\n",
      "194/194 [==============================] - 0s 2ms/step - loss: 0.2715 - mean_absolute_error: 0.2715\n",
      "Epoch 46/50\n",
      "194/194 [==============================] - 0s 2ms/step - loss: 0.2728 - mean_absolute_error: 0.2728\n",
      "Epoch 47/50\n",
      "194/194 [==============================] - 0s 2ms/step - loss: 0.2713 - mean_absolute_error: 0.2713\n",
      "Epoch 48/50\n",
      "194/194 [==============================] - 0s 2ms/step - loss: 0.2718 - mean_absolute_error: 0.2718\n",
      "Epoch 49/50\n",
      "194/194 [==============================] - 0s 2ms/step - loss: 0.2718 - mean_absolute_error: 0.2718\n",
      "Epoch 50/50\n",
      "194/194 [==============================] - 0s 2ms/step - loss: 0.2717 - mean_absolute_error: 0.2717\n"
     ]
    },
    {
     "data": {
      "text/plain": [
       "<keras.callbacks.History at 0x7faa47e8d150>"
      ]
     },
     "execution_count": 29,
     "metadata": {},
     "output_type": "execute_result"
    }
   ],
   "source": [
    "regressor.fit(X_train,y_train,epochs=50,batch_size=15,  callbacks=[early_stopping])"
   ]
  },
  {
   "cell_type": "code",
   "execution_count": 30,
   "id": "76643a37",
   "metadata": {
    "execution": {
     "iopub.execute_input": "2022-07-17T16:05:44.064601Z",
     "iopub.status.busy": "2022-07-17T16:05:44.064270Z",
     "iopub.status.idle": "2022-07-17T16:05:44.225580Z",
     "shell.execute_reply": "2022-07-17T16:05:44.224601Z"
    },
    "papermill": {
     "duration": 0.209084,
     "end_time": "2022-07-17T16:05:44.227969",
     "exception": false,
     "start_time": "2022-07-17T16:05:44.018885",
     "status": "completed"
    },
    "tags": []
   },
   "outputs": [],
   "source": [
    "y_pred = regressor.predict(X_test) \n",
    "y_pred_original = mms.inverse_transform(y_pred.reshape(-1,2))\n",
    "y_pred_original = y_pred.reshape(-1,2)\n",
    "y_pred_original = y_pred_original.tolist()\n"
   ]
  },
  {
   "cell_type": "code",
   "execution_count": 31,
   "id": "519203a3",
   "metadata": {
    "execution": {
     "iopub.execute_input": "2022-07-17T16:05:44.319257Z",
     "iopub.status.busy": "2022-07-17T16:05:44.317573Z",
     "iopub.status.idle": "2022-07-17T16:05:44.324398Z",
     "shell.execute_reply": "2022-07-17T16:05:44.323518Z"
    },
    "papermill": {
     "duration": 0.053795,
     "end_time": "2022-07-17T16:05:44.326225",
     "exception": false,
     "start_time": "2022-07-17T16:05:44.272430",
     "status": "completed"
    },
    "tags": []
   },
   "outputs": [
    {
     "data": {
      "text/plain": [
       "[0.0, 0.6483994126319885]"
      ]
     },
     "execution_count": 31,
     "metadata": {},
     "output_type": "execute_result"
    }
   ],
   "source": [
    "y_pred_original[0]"
   ]
  },
  {
   "cell_type": "code",
   "execution_count": 32,
   "id": "f4d2baac",
   "metadata": {
    "execution": {
     "iopub.execute_input": "2022-07-17T16:05:44.417517Z",
     "iopub.status.busy": "2022-07-17T16:05:44.417210Z",
     "iopub.status.idle": "2022-07-17T16:05:44.422009Z",
     "shell.execute_reply": "2022-07-17T16:05:44.421071Z"
    },
    "papermill": {
     "duration": 0.052207,
     "end_time": "2022-07-17T16:05:44.423960",
     "exception": false,
     "start_time": "2022-07-17T16:05:44.371753",
     "status": "completed"
    },
    "tags": []
   },
   "outputs": [],
   "source": [
    "x=[i[0] for i in y_pred_original]\n",
    "y=[i[1] for i in y_pred_original]"
   ]
  },
  {
   "cell_type": "code",
   "execution_count": 33,
   "id": "9bf1dc73",
   "metadata": {
    "execution": {
     "iopub.execute_input": "2022-07-17T16:05:44.514122Z",
     "iopub.status.busy": "2022-07-17T16:05:44.513841Z",
     "iopub.status.idle": "2022-07-17T16:05:44.519243Z",
     "shell.execute_reply": "2022-07-17T16:05:44.518315Z"
    },
    "papermill": {
     "duration": 0.052547,
     "end_time": "2022-07-17T16:05:44.521114",
     "exception": false,
     "start_time": "2022-07-17T16:05:44.468567",
     "status": "completed"
    },
    "tags": []
   },
   "outputs": [],
   "source": [
    "df=pd.DataFrame({\"ID\":Id,\"x\":x,\"y\":y})"
   ]
  },
  {
   "cell_type": "code",
   "execution_count": 34,
   "id": "7fbf8c4e",
   "metadata": {
    "execution": {
     "iopub.execute_input": "2022-07-17T16:05:44.612438Z",
     "iopub.status.busy": "2022-07-17T16:05:44.611799Z",
     "iopub.status.idle": "2022-07-17T16:05:44.623037Z",
     "shell.execute_reply": "2022-07-17T16:05:44.622192Z"
    },
    "papermill": {
     "duration": 0.059526,
     "end_time": "2022-07-17T16:05:44.624893",
     "exception": false,
     "start_time": "2022-07-17T16:05:44.565367",
     "status": "completed"
    },
    "tags": []
   },
   "outputs": [],
   "source": [
    "sub10=df.to_csv(\"sub10.csv\", index=False)"
   ]
  },
  {
   "cell_type": "code",
   "execution_count": null,
   "id": "ed1982d3",
   "metadata": {
    "papermill": {
     "duration": 0.043737,
     "end_time": "2022-07-17T16:05:44.712773",
     "exception": false,
     "start_time": "2022-07-17T16:05:44.669036",
     "status": "completed"
    },
    "tags": []
   },
   "outputs": [],
   "source": []
  },
  {
   "cell_type": "markdown",
   "id": "0c4e5d00",
   "metadata": {
    "papermill": {
     "duration": 0.043878,
     "end_time": "2022-07-17T16:05:44.801041",
     "exception": false,
     "start_time": "2022-07-17T16:05:44.757163",
     "status": "completed"
    },
    "tags": []
   },
   "source": [
    "****"
   ]
  },
  {
   "cell_type": "code",
   "execution_count": 35,
   "id": "60f2c451",
   "metadata": {
    "execution": {
     "iopub.execute_input": "2022-07-17T16:05:44.892809Z",
     "iopub.status.busy": "2022-07-17T16:05:44.892492Z",
     "iopub.status.idle": "2022-07-17T16:05:44.995485Z",
     "shell.execute_reply": "2022-07-17T16:05:44.994472Z"
    },
    "papermill": {
     "duration": 0.15286,
     "end_time": "2022-07-17T16:05:44.998330",
     "exception": false,
     "start_time": "2022-07-17T16:05:44.845470",
     "status": "completed"
    },
    "tags": []
   },
   "outputs": [],
   "source": [
    "from sklearn.model_selection import train_test_split\n",
    "x_train1 , x_valid1 , y_train1, y_valid1 = train_test_split(X_train,y_train, test_size=0.1)"
   ]
  },
  {
   "cell_type": "code",
   "execution_count": 36,
   "id": "7aaef043",
   "metadata": {
    "execution": {
     "iopub.execute_input": "2022-07-17T16:05:45.090707Z",
     "iopub.status.busy": "2022-07-17T16:05:45.090380Z",
     "iopub.status.idle": "2022-07-17T16:05:45.097518Z",
     "shell.execute_reply": "2022-07-17T16:05:45.096467Z"
    },
    "papermill": {
     "duration": 0.05618,
     "end_time": "2022-07-17T16:05:45.099810",
     "exception": false,
     "start_time": "2022-07-17T16:05:45.043630",
     "status": "completed"
    },
    "tags": []
   },
   "outputs": [],
   "source": [
    "y1=[i[0] for i in y_train1]\n",
    "v1=[i[0] for i in y_valid1]\n",
    "y2=[i[1] for i in y_train1]\n",
    "v2=[i[1] for i in y_valid1]"
   ]
  },
  {
   "cell_type": "code",
   "execution_count": 37,
   "id": "61c231de",
   "metadata": {
    "execution": {
     "iopub.execute_input": "2022-07-17T16:05:45.190665Z",
     "iopub.status.busy": "2022-07-17T16:05:45.189738Z",
     "iopub.status.idle": "2022-07-17T16:06:27.362988Z",
     "shell.execute_reply": "2022-07-17T16:06:27.361880Z"
    },
    "papermill": {
     "duration": 42.262499,
     "end_time": "2022-07-17T16:06:27.406630",
     "exception": false,
     "start_time": "2022-07-17T16:05:45.144131",
     "status": "completed"
    },
    "tags": []
   },
   "outputs": [
    {
     "data": {
      "text/html": [
       "<style type='text/css'>\n",
       ".datatable table.frame { margin-bottom: 0; }\n",
       ".datatable table.frame thead { border-bottom: none; }\n",
       ".datatable table.frame tr.coltypes td {  color: #FFFFFF;  line-height: 6px;  padding: 0 0.5em;}\n",
       ".datatable .bool    { background: #DDDD99; }\n",
       ".datatable .object  { background: #565656; }\n",
       ".datatable .int     { background: #5D9E5D; }\n",
       ".datatable .float   { background: #4040CC; }\n",
       ".datatable .str     { background: #CC4040; }\n",
       ".datatable .time    { background: #40CC40; }\n",
       ".datatable .row_index {  background: var(--jp-border-color3);  border-right: 1px solid var(--jp-border-color0);  color: var(--jp-ui-font-color3);  font-size: 9px;}\n",
       ".datatable .frame tbody td { text-align: left; }\n",
       ".datatable .frame tr.coltypes .row_index {  background: var(--jp-border-color0);}\n",
       ".datatable th:nth-child(2) { padding-left: 12px; }\n",
       ".datatable .hellipsis {  color: var(--jp-cell-editor-border-color);}\n",
       ".datatable .vellipsis {  background: var(--jp-layout-color0);  color: var(--jp-cell-editor-border-color);}\n",
       ".datatable .na {  color: var(--jp-cell-editor-border-color);  font-size: 80%;}\n",
       ".datatable .sp {  opacity: 0.25;}\n",
       ".datatable .footer { font-size: 9px; }\n",
       ".datatable .frame_dimensions {  background: var(--jp-border-color3);  border-top: 1px solid var(--jp-border-color0);  color: var(--jp-ui-font-color3);  display: inline-block;  opacity: 0.6;  padding: 1px 10px 1px 5px;}\n",
       "</style>\n"
      ],
      "text/plain": [
       "<IPython.core.display.HTML object>"
      ]
     },
     "metadata": {},
     "output_type": "display_data"
    },
    {
     "name": "stderr",
     "output_type": "stream",
     "text": [
      "/opt/conda/lib/python3.7/site-packages/lightgbm/sklearn.py:726: UserWarning: 'early_stopping_rounds' argument is deprecated and will be removed in a future release of LightGBM. Pass 'early_stopping()' callback via 'callbacks' argument instead.\n",
      "  _log_warning(\"'early_stopping_rounds' argument is deprecated and will be removed in a future release of LightGBM. \"\n",
      "/opt/conda/lib/python3.7/site-packages/lightgbm/sklearn.py:736: UserWarning: 'verbose' argument is deprecated and will be removed in a future release of LightGBM. Pass 'log_evaluation()' callback via 'callbacks' argument instead.\n",
      "  _log_warning(\"'verbose' argument is deprecated and will be removed in a future release of LightGBM. \"\n"
     ]
    },
    {
     "name": "stdout",
     "output_type": "stream",
     "text": [
      "[LightGBM] [Warning] bagging_fraction is set=0.9884451442950513, subsample=1.0 will be ignored. Current value: bagging_fraction=0.9884451442950513\n",
      "[LightGBM] [Warning] feature_fraction is set=0.9101240539122566, colsample_bytree=1.0 will be ignored. Current value: feature_fraction=0.9101240539122566\n",
      "[LightGBM] [Warning] bagging_freq is set=8, subsample_freq=0 will be ignored. Current value: bagging_freq=8\n",
      "[100]\tvalid_0's l1: 0.243544\n",
      "mae: 0.24018027225355187\n"
     ]
    },
    {
     "name": "stderr",
     "output_type": "stream",
     "text": [
      "/opt/conda/lib/python3.7/site-packages/lightgbm/sklearn.py:726: UserWarning: 'early_stopping_rounds' argument is deprecated and will be removed in a future release of LightGBM. Pass 'early_stopping()' callback via 'callbacks' argument instead.\n",
      "  _log_warning(\"'early_stopping_rounds' argument is deprecated and will be removed in a future release of LightGBM. \"\n",
      "/opt/conda/lib/python3.7/site-packages/lightgbm/sklearn.py:736: UserWarning: 'verbose' argument is deprecated and will be removed in a future release of LightGBM. Pass 'log_evaluation()' callback via 'callbacks' argument instead.\n",
      "  _log_warning(\"'verbose' argument is deprecated and will be removed in a future release of LightGBM. \"\n"
     ]
    },
    {
     "name": "stdout",
     "output_type": "stream",
     "text": [
      "mae: 0.2221551724137931\n",
      "score1: 0.24018027225355187 score2: 0.2221551724137931\n"
     ]
    }
   ],
   "source": [
    "import lightgbm as lgbm\n",
    "from sklearn.metrics import mean_absolute_error\n",
    "def fit_lgbm(x_train, y_train, x_valid, y_valid, params: dict=None, verbose=100):\n",
    "    oof_pred = np.zeros(len(y_valid), dtype=np.float32)\n",
    "    model = lgbm.LGBMRegressor(**params)\n",
    "    model.fit(x_train, y_train, \n",
    "        eval_set=[(x_valid, y_valid)],  \n",
    "        early_stopping_rounds=verbose, \n",
    "        verbose=verbose)\n",
    "    oof_pred = model.predict(x_valid)\n",
    "    score = mean_absolute_error(oof_pred, y_valid)\n",
    "    print('mae:', score)\n",
    "    return oof_pred, model, score\n",
    "\n",
    "\n",
    "# training lightgbm\n",
    "\n",
    "params1 = {'objective':'mae',\n",
    "           'reg_alpha': 0.14947461820098767, \n",
    "           'reg_lambda': 0.10185644384043743,\n",
    "           'n_estimators': 3633, \n",
    "           'learning_rate': 0.08046301304430488,\n",
    "           'num_leaves': 674,\n",
    "           'feature_fraction': 0.9101240539122566,\n",
    "           'bagging_fraction': 0.9884451442950513,\n",
    "           'bagging_freq': 8,\n",
    "           'min_child_samples': 51}\n",
    "\n",
    "params2 = {\n",
    " 'objective':'mae',\n",
    " 'reg_alpha': 0.1,\n",
    " 'reg_lambda': 0.1, \n",
    " 'n_estimators': 80,\n",
    " 'learning_rate': 0.1,\n",
    " 'random_state': 42,\n",
    " \"num_leaves\": 22\n",
    "}\n",
    "\n",
    "\n",
    "\n",
    "params = {\n",
    " 'objective':'mae',\n",
    " 'reg_alpha': 0.1,\n",
    " 'reg_lambda': 0.1, \n",
    " 'n_estimators': 10000,\n",
    " 'learning_rate': 0.1,\n",
    " 'random_state': 42,\n",
    " \"num_leaves\": 100\n",
    "}\n",
    "\n",
    "\n",
    "oof1, model1, score1 = fit_lgbm(\n",
    "    x_train1, y1,\n",
    "    x_valid1, v1,\n",
    "    params1\n",
    " )\n",
    "oof2, model2, score2 = fit_lgbm(\n",
    "    x_train1, y2,\n",
    "    x_valid1, v2,\n",
    "    params2\n",
    " )\n",
    "\n",
    "\n",
    "print(f'score1: {score1}', f'score2: {score2}')"
   ]
  },
  {
   "cell_type": "markdown",
   "id": "3dad5ea3",
   "metadata": {
    "papermill": {
     "duration": 0.044538,
     "end_time": "2022-07-17T16:06:27.497081",
     "exception": false,
     "start_time": "2022-07-17T16:06:27.452543",
     "status": "completed"
    },
    "tags": []
   },
   "source": [
    "****"
   ]
  },
  {
   "cell_type": "code",
   "execution_count": 38,
   "id": "dcd07f1a",
   "metadata": {
    "execution": {
     "iopub.execute_input": "2022-07-17T16:06:27.616958Z",
     "iopub.status.busy": "2022-07-17T16:06:27.616361Z",
     "iopub.status.idle": "2022-07-17T16:06:27.629491Z",
     "shell.execute_reply": "2022-07-17T16:06:27.628039Z"
    },
    "papermill": {
     "duration": 0.090507,
     "end_time": "2022-07-17T16:06:27.633654",
     "exception": false,
     "start_time": "2022-07-17T16:06:27.543147",
     "status": "completed"
    },
    "tags": []
   },
   "outputs": [],
   "source": [
    "yy=[i[0] for i in y_train ]\n",
    "yy2=yy=[i[1] for i in y_train ]"
   ]
  },
  {
   "cell_type": "code",
   "execution_count": 39,
   "id": "0b97cdc6",
   "metadata": {
    "execution": {
     "iopub.execute_input": "2022-07-17T16:06:27.794251Z",
     "iopub.status.busy": "2022-07-17T16:06:27.793837Z",
     "iopub.status.idle": "2022-07-17T16:06:27.799422Z",
     "shell.execute_reply": "2022-07-17T16:06:27.798549Z"
    },
    "papermill": {
     "duration": 0.081693,
     "end_time": "2022-07-17T16:06:27.803939",
     "exception": false,
     "start_time": "2022-07-17T16:06:27.722246",
     "status": "completed"
    },
    "tags": []
   },
   "outputs": [],
   "source": [
    "yy = np.array(yy)\n",
    "yy2 = np.array(yy2)"
   ]
  },
  {
   "cell_type": "code",
   "execution_count": 40,
   "id": "9bb8e668",
   "metadata": {
    "collapsed": true,
    "execution": {
     "iopub.execute_input": "2022-07-17T16:06:27.952321Z",
     "iopub.status.busy": "2022-07-17T16:06:27.951639Z",
     "iopub.status.idle": "2022-07-17T16:06:52.790511Z",
     "shell.execute_reply": "2022-07-17T16:06:52.786002Z"
    },
    "jupyter": {
     "outputs_hidden": true
    },
    "papermill": {
     "duration": 24.91645,
     "end_time": "2022-07-17T16:06:52.793466",
     "exception": false,
     "start_time": "2022-07-17T16:06:27.877016",
     "status": "completed"
    },
    "tags": []
   },
   "outputs": [
    {
     "name": "stdout",
     "output_type": "stream",
     "text": [
      "Epoch 1/50\n",
      "194/194 [==============================] - 1s 3ms/step - loss: 0.2657 - mean_absolute_error: 0.2657\n",
      "Epoch 2/50\n",
      "194/194 [==============================] - 0s 3ms/step - loss: 0.2562 - mean_absolute_error: 0.2562\n",
      "Epoch 3/50\n",
      "194/194 [==============================] - 0s 3ms/step - loss: 0.2516 - mean_absolute_error: 0.2516\n",
      "Epoch 4/50\n",
      "194/194 [==============================] - 0s 2ms/step - loss: 0.2540 - mean_absolute_error: 0.2540\n",
      "Epoch 5/50\n",
      "194/194 [==============================] - 0s 3ms/step - loss: 0.2529 - mean_absolute_error: 0.2529\n",
      "Epoch 6/50\n",
      "194/194 [==============================] - 0s 3ms/step - loss: 0.2528 - mean_absolute_error: 0.2528\n",
      "Epoch 7/50\n",
      "194/194 [==============================] - 0s 2ms/step - loss: 0.2510 - mean_absolute_error: 0.2510\n",
      "Epoch 8/50\n",
      "194/194 [==============================] - 0s 2ms/step - loss: 0.2509 - mean_absolute_error: 0.2509\n",
      "Epoch 9/50\n",
      "194/194 [==============================] - 0s 2ms/step - loss: 0.2516 - mean_absolute_error: 0.2516\n",
      "Epoch 10/50\n",
      "194/194 [==============================] - 0s 2ms/step - loss: 0.2505 - mean_absolute_error: 0.2505\n",
      "Epoch 11/50\n",
      "194/194 [==============================] - 0s 2ms/step - loss: 0.2495 - mean_absolute_error: 0.2495\n",
      "Epoch 12/50\n",
      "194/194 [==============================] - 0s 2ms/step - loss: 0.2524 - mean_absolute_error: 0.2524\n",
      "Epoch 13/50\n",
      "194/194 [==============================] - 0s 2ms/step - loss: 0.2496 - mean_absolute_error: 0.2496\n",
      "Epoch 14/50\n",
      "194/194 [==============================] - 0s 2ms/step - loss: 0.2483 - mean_absolute_error: 0.2483\n",
      "Epoch 15/50\n",
      "194/194 [==============================] - 0s 2ms/step - loss: 0.2504 - mean_absolute_error: 0.2504\n",
      "Epoch 16/50\n",
      "194/194 [==============================] - 0s 2ms/step - loss: 0.2492 - mean_absolute_error: 0.2492\n",
      "Epoch 17/50\n",
      "194/194 [==============================] - 0s 2ms/step - loss: 0.2500 - mean_absolute_error: 0.2500\n",
      "Epoch 18/50\n",
      "194/194 [==============================] - 0s 2ms/step - loss: 0.2478 - mean_absolute_error: 0.2478\n",
      "Epoch 19/50\n",
      "194/194 [==============================] - 0s 2ms/step - loss: 0.2493 - mean_absolute_error: 0.2493\n",
      "Epoch 20/50\n",
      "194/194 [==============================] - 0s 2ms/step - loss: 0.2492 - mean_absolute_error: 0.2492\n",
      "Epoch 21/50\n",
      "194/194 [==============================] - 0s 2ms/step - loss: 0.2507 - mean_absolute_error: 0.2507\n",
      "Epoch 22/50\n",
      "194/194 [==============================] - 1s 4ms/step - loss: 0.2488 - mean_absolute_error: 0.2488\n",
      "Epoch 23/50\n",
      "194/194 [==============================] - 0s 2ms/step - loss: 0.2468 - mean_absolute_error: 0.2468\n",
      "Epoch 24/50\n",
      "194/194 [==============================] - 0s 2ms/step - loss: 0.2491 - mean_absolute_error: 0.2491\n",
      "Epoch 25/50\n",
      "194/194 [==============================] - 0s 2ms/step - loss: 0.2486 - mean_absolute_error: 0.2486\n",
      "Epoch 26/50\n",
      "194/194 [==============================] - 0s 2ms/step - loss: 0.2486 - mean_absolute_error: 0.2486\n",
      "Epoch 27/50\n",
      "194/194 [==============================] - 0s 2ms/step - loss: 0.2481 - mean_absolute_error: 0.2481\n",
      "Epoch 28/50\n",
      "194/194 [==============================] - 0s 2ms/step - loss: 0.2475 - mean_absolute_error: 0.2475\n",
      "Epoch 29/50\n",
      "194/194 [==============================] - 0s 2ms/step - loss: 0.2471 - mean_absolute_error: 0.2471\n",
      "Epoch 30/50\n",
      "194/194 [==============================] - 0s 2ms/step - loss: 0.2472 - mean_absolute_error: 0.2472\n",
      "Epoch 31/50\n",
      "194/194 [==============================] - 0s 2ms/step - loss: 0.2473 - mean_absolute_error: 0.2473\n",
      "Epoch 32/50\n",
      "194/194 [==============================] - 0s 2ms/step - loss: 0.2465 - mean_absolute_error: 0.2465\n",
      "Epoch 33/50\n",
      "194/194 [==============================] - 0s 2ms/step - loss: 0.2470 - mean_absolute_error: 0.2470\n",
      "Epoch 34/50\n",
      "194/194 [==============================] - 0s 2ms/step - loss: 0.2454 - mean_absolute_error: 0.2454\n",
      "Epoch 35/50\n",
      "194/194 [==============================] - 0s 2ms/step - loss: 0.2465 - mean_absolute_error: 0.2465\n",
      "Epoch 36/50\n",
      "194/194 [==============================] - 0s 2ms/step - loss: 0.2465 - mean_absolute_error: 0.2465\n",
      "Epoch 37/50\n",
      "194/194 [==============================] - 0s 2ms/step - loss: 0.2473 - mean_absolute_error: 0.2473\n",
      "Epoch 38/50\n",
      "194/194 [==============================] - 0s 2ms/step - loss: 0.2460 - mean_absolute_error: 0.2460\n",
      "Epoch 39/50\n",
      "194/194 [==============================] - 0s 2ms/step - loss: 0.2492 - mean_absolute_error: 0.2492\n",
      "Epoch 40/50\n",
      "194/194 [==============================] - 0s 2ms/step - loss: 0.2482 - mean_absolute_error: 0.2482\n",
      "Epoch 41/50\n",
      "194/194 [==============================] - 0s 2ms/step - loss: 0.2481 - mean_absolute_error: 0.2481\n",
      "Epoch 42/50\n",
      "194/194 [==============================] - 0s 2ms/step - loss: 0.2471 - mean_absolute_error: 0.2471\n",
      "Epoch 43/50\n",
      "194/194 [==============================] - 0s 2ms/step - loss: 0.2472 - mean_absolute_error: 0.2472\n",
      "Epoch 44/50\n",
      "194/194 [==============================] - 0s 2ms/step - loss: 0.2468 - mean_absolute_error: 0.2468\n",
      "Epoch 45/50\n",
      "194/194 [==============================] - 1s 4ms/step - loss: 0.2462 - mean_absolute_error: 0.2462\n",
      "Epoch 46/50\n",
      "194/194 [==============================] - 1s 3ms/step - loss: 0.2465 - mean_absolute_error: 0.2465\n",
      "Epoch 47/50\n",
      "194/194 [==============================] - 0s 2ms/step - loss: 0.2472 - mean_absolute_error: 0.2472\n",
      "Epoch 48/50\n",
      "194/194 [==============================] - 0s 2ms/step - loss: 0.2455 - mean_absolute_error: 0.2455\n",
      "Epoch 49/50\n",
      "194/194 [==============================] - 0s 2ms/step - loss: 0.2476 - mean_absolute_error: 0.2476\n",
      "Epoch 50/50\n",
      "194/194 [==============================] - 1s 4ms/step - loss: 0.2471 - mean_absolute_error: 0.2471\n"
     ]
    },
    {
     "data": {
      "text/plain": [
       "<keras.callbacks.History at 0x7fa5afbf2450>"
      ]
     },
     "execution_count": 40,
     "metadata": {},
     "output_type": "execute_result"
    }
   ],
   "source": [
    "regressor = Sequential()\n",
    "regressor.add(Dense(units=512,activation='relu',kernel_initializer='uniform'))\n",
    "regressor.add(Dense(units=128,activation='relu',kernel_initializer='uniform'))\n",
    "regressor.add(Dense(units=128,activation='relu',kernel_initializer='uniform'))\n",
    "regressor.add(Dense(units=64,activation='relu',kernel_initializer='uniform'))\n",
    "regressor.add(Dense(units=1,activation='relu',kernel_initializer='uniform'))\n",
    "regressor.compile(optimizer='adam',loss='mean_absolute_error',metrics=['mean_absolute_error'])\n",
    "regressor.fit(X_train,yy,epochs=50,batch_size=15,  callbacks=[early_stopping])"
   ]
  },
  {
   "cell_type": "code",
   "execution_count": 41,
   "id": "d739054c",
   "metadata": {
    "execution": {
     "iopub.execute_input": "2022-07-17T16:06:53.067706Z",
     "iopub.status.busy": "2022-07-17T16:06:53.067174Z",
     "iopub.status.idle": "2022-07-17T16:06:53.071687Z",
     "shell.execute_reply": "2022-07-17T16:06:53.070857Z"
    },
    "papermill": {
     "duration": 0.146163,
     "end_time": "2022-07-17T16:06:53.076155",
     "exception": false,
     "start_time": "2022-07-17T16:06:52.929992",
     "status": "completed"
    },
    "tags": []
   },
   "outputs": [],
   "source": [
    "# y_pred1 = model1.predict(X_test) \n",
    "# y_pred_original = mms.inverse_transform(y_pred1)\n"
   ]
  },
  {
   "cell_type": "code",
   "execution_count": 42,
   "id": "dfb153ce",
   "metadata": {
    "execution": {
     "iopub.execute_input": "2022-07-17T16:06:53.351019Z",
     "iopub.status.busy": "2022-07-17T16:06:53.349777Z",
     "iopub.status.idle": "2022-07-17T16:06:53.354619Z",
     "shell.execute_reply": "2022-07-17T16:06:53.353569Z"
    },
    "papermill": {
     "duration": 0.145395,
     "end_time": "2022-07-17T16:06:53.358773",
     "exception": false,
     "start_time": "2022-07-17T16:06:53.213378",
     "status": "completed"
    },
    "tags": []
   },
   "outputs": [],
   "source": [
    "# x=[i[0] for i in y_pred_original]\n",
    "# y=[i[1] for i in y_pred_original]"
   ]
  },
  {
   "cell_type": "code",
   "execution_count": 43,
   "id": "6ea28984",
   "metadata": {
    "execution": {
     "iopub.execute_input": "2022-07-17T16:06:53.600256Z",
     "iopub.status.busy": "2022-07-17T16:06:53.599916Z",
     "iopub.status.idle": "2022-07-17T16:06:53.604147Z",
     "shell.execute_reply": "2022-07-17T16:06:53.603080Z"
    },
    "papermill": {
     "duration": 0.110552,
     "end_time": "2022-07-17T16:06:53.606378",
     "exception": false,
     "start_time": "2022-07-17T16:06:53.495826",
     "status": "completed"
    },
    "tags": []
   },
   "outputs": [],
   "source": [
    "# len(y_pred_original)"
   ]
  },
  {
   "cell_type": "code",
   "execution_count": 44,
   "id": "392f4628",
   "metadata": {
    "execution": {
     "iopub.execute_input": "2022-07-17T16:06:53.765729Z",
     "iopub.status.busy": "2022-07-17T16:06:53.765020Z",
     "iopub.status.idle": "2022-07-17T16:06:53.769414Z",
     "shell.execute_reply": "2022-07-17T16:06:53.768403Z"
    },
    "papermill": {
     "duration": 0.08652,
     "end_time": "2022-07-17T16:06:53.772006",
     "exception": false,
     "start_time": "2022-07-17T16:06:53.685486",
     "status": "completed"
    },
    "tags": []
   },
   "outputs": [],
   "source": [
    "# x=[pred for i in x for pred in i]"
   ]
  },
  {
   "cell_type": "markdown",
   "id": "0c2dfa8e",
   "metadata": {
    "papermill": {
     "duration": 0.080802,
     "end_time": "2022-07-17T16:06:53.932475",
     "exception": false,
     "start_time": "2022-07-17T16:06:53.851673",
     "status": "completed"
    },
    "tags": []
   },
   "source": [
    "****"
   ]
  },
  {
   "cell_type": "code",
   "execution_count": 45,
   "id": "bf7a46dd",
   "metadata": {
    "collapsed": true,
    "execution": {
     "iopub.execute_input": "2022-07-17T16:06:54.090404Z",
     "iopub.status.busy": "2022-07-17T16:06:54.090053Z",
     "iopub.status.idle": "2022-07-17T16:07:35.476905Z",
     "shell.execute_reply": "2022-07-17T16:07:35.475813Z"
    },
    "jupyter": {
     "outputs_hidden": true
    },
    "papermill": {
     "duration": 41.579878,
     "end_time": "2022-07-17T16:07:35.590237",
     "exception": false,
     "start_time": "2022-07-17T16:06:54.010359",
     "status": "completed"
    },
    "tags": []
   },
   "outputs": [
    {
     "name": "stdout",
     "output_type": "stream",
     "text": [
      "Epoch 1/50\n",
      "194/194 [==============================] - 1s 2ms/step - loss: 0.2667 - mean_absolute_error: 0.2667\n",
      "Epoch 2/50\n",
      "194/194 [==============================] - 0s 2ms/step - loss: 0.2531 - mean_absolute_error: 0.2531\n",
      "Epoch 3/50\n",
      "194/194 [==============================] - 0s 2ms/step - loss: 0.2548 - mean_absolute_error: 0.2548\n",
      "Epoch 4/50\n",
      "194/194 [==============================] - 0s 2ms/step - loss: 0.2536 - mean_absolute_error: 0.2536\n",
      "Epoch 5/50\n",
      "194/194 [==============================] - 0s 2ms/step - loss: 0.2522 - mean_absolute_error: 0.2522\n",
      "Epoch 6/50\n",
      "194/194 [==============================] - 0s 2ms/step - loss: 0.2535 - mean_absolute_error: 0.2535\n",
      "Epoch 7/50\n",
      "194/194 [==============================] - 0s 2ms/step - loss: 0.2492 - mean_absolute_error: 0.2492\n",
      "Epoch 8/50\n",
      "194/194 [==============================] - 0s 2ms/step - loss: 0.2560 - mean_absolute_error: 0.2560\n",
      "Epoch 9/50\n",
      "194/194 [==============================] - 0s 2ms/step - loss: 0.2498 - mean_absolute_error: 0.2498\n",
      "Epoch 10/50\n",
      "194/194 [==============================] - 0s 2ms/step - loss: 0.2504 - mean_absolute_error: 0.2504\n",
      "Epoch 11/50\n",
      "194/194 [==============================] - 0s 2ms/step - loss: 0.2486 - mean_absolute_error: 0.2486\n",
      "Epoch 12/50\n",
      "194/194 [==============================] - 0s 2ms/step - loss: 0.2514 - mean_absolute_error: 0.2514\n",
      "Epoch 13/50\n",
      "194/194 [==============================] - 0s 2ms/step - loss: 0.2500 - mean_absolute_error: 0.2500\n",
      "Epoch 14/50\n",
      "194/194 [==============================] - 1s 4ms/step - loss: 0.2512 - mean_absolute_error: 0.2512\n",
      "Epoch 15/50\n",
      "194/194 [==============================] - 0s 2ms/step - loss: 0.2511 - mean_absolute_error: 0.2511\n",
      "Epoch 16/50\n",
      "194/194 [==============================] - 0s 2ms/step - loss: 0.2484 - mean_absolute_error: 0.2484\n",
      "Epoch 17/50\n",
      "194/194 [==============================] - 0s 2ms/step - loss: 0.2510 - mean_absolute_error: 0.2510\n",
      "Epoch 18/50\n",
      "194/194 [==============================] - 0s 2ms/step - loss: 0.2475 - mean_absolute_error: 0.2475\n",
      "Epoch 19/50\n",
      "194/194 [==============================] - 0s 2ms/step - loss: 0.2487 - mean_absolute_error: 0.2487\n",
      "Epoch 20/50\n",
      "194/194 [==============================] - 0s 2ms/step - loss: 0.2470 - mean_absolute_error: 0.2470\n",
      "Epoch 21/50\n",
      "194/194 [==============================] - 0s 2ms/step - loss: 0.2488 - mean_absolute_error: 0.2488\n",
      "Epoch 22/50\n",
      "194/194 [==============================] - 0s 2ms/step - loss: 0.2470 - mean_absolute_error: 0.2470\n",
      "Epoch 23/50\n",
      "194/194 [==============================] - 0s 2ms/step - loss: 0.2483 - mean_absolute_error: 0.2483\n",
      "Epoch 24/50\n",
      "194/194 [==============================] - 0s 2ms/step - loss: 0.2475 - mean_absolute_error: 0.2475\n",
      "Epoch 25/50\n",
      "194/194 [==============================] - 0s 2ms/step - loss: 0.2483 - mean_absolute_error: 0.2483\n",
      "Epoch 26/50\n",
      "194/194 [==============================] - 0s 3ms/step - loss: 0.2472 - mean_absolute_error: 0.2472\n",
      "Epoch 27/50\n",
      "194/194 [==============================] - 0s 2ms/step - loss: 0.2465 - mean_absolute_error: 0.2465\n",
      "Epoch 28/50\n",
      "194/194 [==============================] - 0s 2ms/step - loss: 0.2466 - mean_absolute_error: 0.2466\n",
      "Epoch 29/50\n",
      "194/194 [==============================] - 0s 2ms/step - loss: 0.2489 - mean_absolute_error: 0.2489\n",
      "Epoch 30/50\n",
      "194/194 [==============================] - 0s 2ms/step - loss: 0.2464 - mean_absolute_error: 0.2464\n",
      "Epoch 31/50\n",
      "194/194 [==============================] - 0s 2ms/step - loss: 0.2466 - mean_absolute_error: 0.2466\n",
      "Epoch 32/50\n",
      "194/194 [==============================] - 0s 2ms/step - loss: 0.2483 - mean_absolute_error: 0.2483\n",
      "Epoch 33/50\n",
      "194/194 [==============================] - 0s 2ms/step - loss: 0.2474 - mean_absolute_error: 0.2474\n",
      "Epoch 34/50\n",
      "194/194 [==============================] - 0s 2ms/step - loss: 0.2477 - mean_absolute_error: 0.2477\n",
      "Epoch 35/50\n",
      "194/194 [==============================] - 0s 2ms/step - loss: 0.2468 - mean_absolute_error: 0.2468\n",
      "Epoch 36/50\n",
      "194/194 [==============================] - 1s 3ms/step - loss: 0.2479 - mean_absolute_error: 0.2479\n",
      "Epoch 37/50\n",
      "194/194 [==============================] - 1s 4ms/step - loss: 0.2463 - mean_absolute_error: 0.2463\n",
      "Epoch 38/50\n",
      "194/194 [==============================] - 0s 2ms/step - loss: 0.2458 - mean_absolute_error: 0.2458\n",
      "Epoch 39/50\n",
      "194/194 [==============================] - 0s 2ms/step - loss: 0.2471 - mean_absolute_error: 0.2471\n",
      "Epoch 40/50\n",
      "194/194 [==============================] - 0s 2ms/step - loss: 0.2458 - mean_absolute_error: 0.2458\n",
      "Epoch 41/50\n",
      "194/194 [==============================] - 0s 2ms/step - loss: 0.2472 - mean_absolute_error: 0.2472\n",
      "Epoch 42/50\n",
      "194/194 [==============================] - 0s 2ms/step - loss: 0.2470 - mean_absolute_error: 0.2470\n",
      "Epoch 43/50\n",
      "194/194 [==============================] - 0s 2ms/step - loss: 0.2464 - mean_absolute_error: 0.2464\n",
      "Epoch 44/50\n",
      "194/194 [==============================] - 0s 2ms/step - loss: 0.2470 - mean_absolute_error: 0.2470\n",
      "Epoch 45/50\n",
      "194/194 [==============================] - 0s 2ms/step - loss: 0.2459 - mean_absolute_error: 0.2459\n",
      "Epoch 46/50\n",
      "194/194 [==============================] - 0s 2ms/step - loss: 0.2468 - mean_absolute_error: 0.2468\n",
      "Epoch 47/50\n",
      "194/194 [==============================] - 0s 2ms/step - loss: 0.2472 - mean_absolute_error: 0.2472\n",
      "Epoch 48/50\n",
      "194/194 [==============================] - 0s 2ms/step - loss: 0.2476 - mean_absolute_error: 0.2476\n",
      "Epoch 49/50\n",
      "194/194 [==============================] - 0s 2ms/step - loss: 0.2463 - mean_absolute_error: 0.2463\n",
      "Epoch 50/50\n",
      "194/194 [==============================] - 0s 2ms/step - loss: 0.2466 - mean_absolute_error: 0.2466\n"
     ]
    },
    {
     "data": {
      "text/plain": [
       "<keras.callbacks.History at 0x7fa9d5455210>"
      ]
     },
     "execution_count": 45,
     "metadata": {},
     "output_type": "execute_result"
    }
   ],
   "source": [
    "regressor1 = Sequential()\n",
    "regressor1.add(Dense(units=512,activation='relu',kernel_initializer='uniform'))\n",
    "regressor1.add(Dense(units=128,activation='relu',kernel_initializer='uniform'))\n",
    "regressor1.add(Dense(units=128,activation='relu',kernel_initializer='uniform'))\n",
    "regressor1.add(Dense(units=64,activation='relu',kernel_initializer='uniform'))\n",
    "regressor1.add(Dense(units=1,activation='relu',kernel_initializer='uniform'))\n",
    "regressor1.compile(optimizer='adam',loss='mean_absolute_error',metrics=['mean_absolute_error'])\n",
    "regressor1.fit(X_train,yy2,epochs=50,batch_size=15,  callbacks=[early_stopping])"
   ]
  },
  {
   "cell_type": "markdown",
   "id": "6912da5e",
   "metadata": {
    "papermill": {
     "duration": 0.158543,
     "end_time": "2022-07-17T16:07:35.858004",
     "exception": false,
     "start_time": "2022-07-17T16:07:35.699461",
     "status": "completed"
    },
    "tags": []
   },
   "source": [
    "****"
   ]
  },
  {
   "cell_type": "code",
   "execution_count": null,
   "id": "1418ccb1",
   "metadata": {
    "papermill": {
     "duration": 0.111141,
     "end_time": "2022-07-17T16:07:36.081002",
     "exception": false,
     "start_time": "2022-07-17T16:07:35.969861",
     "status": "completed"
    },
    "tags": []
   },
   "outputs": [],
   "source": []
  },
  {
   "cell_type": "code",
   "execution_count": null,
   "id": "e0f9914f",
   "metadata": {
    "papermill": {
     "duration": 0.109223,
     "end_time": "2022-07-17T16:07:36.300476",
     "exception": false,
     "start_time": "2022-07-17T16:07:36.191253",
     "status": "completed"
    },
    "tags": []
   },
   "outputs": [],
   "source": []
  },
  {
   "cell_type": "code",
   "execution_count": null,
   "id": "bde5392c",
   "metadata": {
    "papermill": {
     "duration": 0.110935,
     "end_time": "2022-07-17T16:07:36.521270",
     "exception": false,
     "start_time": "2022-07-17T16:07:36.410335",
     "status": "completed"
    },
    "tags": []
   },
   "outputs": [],
   "source": []
  }
 ],
 "metadata": {
  "kernelspec": {
   "display_name": "Python 3",
   "language": "python",
   "name": "python3"
  },
  "language_info": {
   "codemirror_mode": {
    "name": "ipython",
    "version": 3
   },
   "file_extension": ".py",
   "mimetype": "text/x-python",
   "name": "python",
   "nbconvert_exporter": "python",
   "pygments_lexer": "ipython3",
   "version": "3.7.12"
  },
  "papermill": {
   "default_parameters": {},
   "duration": 180.650556,
   "end_time": "2022-07-17T16:07:39.920176",
   "environment_variables": {},
   "exception": null,
   "input_path": "__notebook__.ipynb",
   "output_path": "__notebook__.ipynb",
   "parameters": {},
   "start_time": "2022-07-17T16:04:39.269620",
   "version": "2.3.4"
  }
 },
 "nbformat": 4,
 "nbformat_minor": 5
}
