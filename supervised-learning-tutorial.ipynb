{
 "cells": [
  {
   "cell_type": "markdown",
   "id": "762b10f3",
   "metadata": {
    "papermill": {
     "duration": 0.066596,
     "end_time": "2022-07-28T15:06:04.607093",
     "exception": false,
     "start_time": "2022-07-28T15:06:04.540497",
     "status": "completed"
    },
    "tags": []
   },
   "source": [
    "# Regression"
   ]
  },
  {
   "cell_type": "markdown",
   "id": "15ade4b0",
   "metadata": {
    "papermill": {
     "duration": 0.065402,
     "end_time": "2022-07-28T15:06:04.736913",
     "exception": false,
     "start_time": "2022-07-28T15:06:04.671511",
     "status": "completed"
    },
    "tags": []
   },
   "source": [
    "In this section, we will implement models that aim to predict the melanoma tumor size of a patient based on other attributes."
   ]
  },
  {
   "cell_type": "markdown",
   "id": "c237baf7",
   "metadata": {
    "papermill": {
     "duration": 0.065806,
     "end_time": "2022-07-28T15:06:04.910713",
     "exception": false,
     "start_time": "2022-07-28T15:06:04.844907",
     "status": "completed"
    },
    "tags": []
   },
   "source": [
    "We will be doing a multiple linear regression.  \n",
    "Our features / Independent variables (X1, X2, etc..) will be the columns of the dataset, other than tumor size which is Y."
   ]
  },
  {
   "cell_type": "code",
   "execution_count": 1,
   "id": "626528c6",
   "metadata": {
    "_cell_guid": "b1076dfc-b9ad-4769-8c92-a6c4dae69d19",
    "_uuid": "8f2839f25d086af736a60e9eeb907d3b93b6e0e5",
    "execution": {
     "iopub.execute_input": "2022-07-28T15:06:05.048917Z",
     "iopub.status.busy": "2022-07-28T15:06:05.048259Z",
     "iopub.status.idle": "2022-07-28T15:06:05.904058Z",
     "shell.execute_reply": "2022-07-28T15:06:05.904864Z",
     "shell.execute_reply.started": "2022-07-28T14:55:20.546801Z"
    },
    "papermill": {
     "duration": 0.930667,
     "end_time": "2022-07-28T15:06:05.905195",
     "exception": false,
     "start_time": "2022-07-28T15:06:04.974528",
     "status": "completed"
    },
    "tags": []
   },
   "outputs": [],
   "source": [
    "import numpy as np\n",
    "import pandas as pd\n",
    "import matplotlib.pyplot as plt\n",
    "import seaborn as sns\n",
    "from matplotlib import style\n",
    "style.use(\"seaborn-darkgrid\")"
   ]
  },
  {
   "cell_type": "code",
   "execution_count": 2,
   "id": "ffc3e719",
   "metadata": {
    "execution": {
     "iopub.execute_input": "2022-07-28T15:06:06.122644Z",
     "iopub.status.busy": "2022-07-28T15:06:06.121340Z",
     "iopub.status.idle": "2022-07-28T15:06:06.183973Z",
     "shell.execute_reply": "2022-07-28T15:06:06.184417Z",
     "shell.execute_reply.started": "2022-07-28T14:55:20.797663Z"
    },
    "papermill": {
     "duration": 0.174731,
     "end_time": "2022-07-28T15:06:06.184564",
     "exception": false,
     "start_time": "2022-07-28T15:06:06.009833",
     "status": "completed"
    },
    "tags": []
   },
   "outputs": [
    {
     "data": {
      "text/html": [
       "<div>\n",
       "<style scoped>\n",
       "    .dataframe tbody tr th:only-of-type {\n",
       "        vertical-align: middle;\n",
       "    }\n",
       "\n",
       "    .dataframe tbody tr th {\n",
       "        vertical-align: top;\n",
       "    }\n",
       "\n",
       "    .dataframe thead th {\n",
       "        text-align: right;\n",
       "    }\n",
       "</style>\n",
       "<table border=\"1\" class=\"dataframe\">\n",
       "  <thead>\n",
       "    <tr style=\"text-align: right;\">\n",
       "      <th></th>\n",
       "      <th>mass_npea</th>\n",
       "      <th>size_npear</th>\n",
       "      <th>malign_ratio</th>\n",
       "      <th>damage_size</th>\n",
       "      <th>exposed_area</th>\n",
       "      <th>std_dev_malign</th>\n",
       "      <th>err_malign</th>\n",
       "      <th>malign_penalty</th>\n",
       "      <th>damage_ratio</th>\n",
       "      <th>tumor_size</th>\n",
       "    </tr>\n",
       "  </thead>\n",
       "  <tbody>\n",
       "    <tr>\n",
       "      <th>0</th>\n",
       "      <td>6930.90</td>\n",
       "      <td>2919.02</td>\n",
       "      <td>0.42116</td>\n",
       "      <td>51.8298</td>\n",
       "      <td>9.888294e+05</td>\n",
       "      <td>109.487</td>\n",
       "      <td>2758.76</td>\n",
       "      <td>72</td>\n",
       "      <td>39.3620</td>\n",
       "      <td>14.103</td>\n",
       "    </tr>\n",
       "    <tr>\n",
       "      <th>1</th>\n",
       "      <td>15635.70</td>\n",
       "      <td>4879.36</td>\n",
       "      <td>0.31206</td>\n",
       "      <td>223.5500</td>\n",
       "      <td>2.058426e+06</td>\n",
       "      <td>248.881</td>\n",
       "      <td>5952.53</td>\n",
       "      <td>240</td>\n",
       "      <td>22.0253</td>\n",
       "      <td>2.648</td>\n",
       "    </tr>\n",
       "    <tr>\n",
       "      <th>2</th>\n",
       "      <td>10376.20</td>\n",
       "      <td>2613.88</td>\n",
       "      <td>0.25191</td>\n",
       "      <td>127.3370</td>\n",
       "      <td>1.434676e+06</td>\n",
       "      <td>160.093</td>\n",
       "      <td>4635.26</td>\n",
       "      <td>73</td>\n",
       "      <td>29.9963</td>\n",
       "      <td>1.688</td>\n",
       "    </tr>\n",
       "    <tr>\n",
       "      <th>3</th>\n",
       "      <td>13093.80</td>\n",
       "      <td>4510.06</td>\n",
       "      <td>0.34444</td>\n",
       "      <td>155.4400</td>\n",
       "      <td>1.812195e+06</td>\n",
       "      <td>173.015</td>\n",
       "      <td>5273.87</td>\n",
       "      <td>32</td>\n",
       "      <td>28.1354</td>\n",
       "      <td>3.796</td>\n",
       "    </tr>\n",
       "    <tr>\n",
       "      <th>4</th>\n",
       "      <td>7545.21</td>\n",
       "      <td>2882.36</td>\n",
       "      <td>0.38201</td>\n",
       "      <td>85.1237</td>\n",
       "      <td>1.043918e+06</td>\n",
       "      <td>124.414</td>\n",
       "      <td>3263.35</td>\n",
       "      <td>57</td>\n",
       "      <td>35.0200</td>\n",
       "      <td>18.023</td>\n",
       "    </tr>\n",
       "  </tbody>\n",
       "</table>\n",
       "</div>"
      ],
      "text/plain": [
       "   mass_npea  size_npear  malign_ratio  damage_size  exposed_area  \\\n",
       "0    6930.90     2919.02       0.42116      51.8298  9.888294e+05   \n",
       "1   15635.70     4879.36       0.31206     223.5500  2.058426e+06   \n",
       "2   10376.20     2613.88       0.25191     127.3370  1.434676e+06   \n",
       "3   13093.80     4510.06       0.34444     155.4400  1.812195e+06   \n",
       "4    7545.21     2882.36       0.38201      85.1237  1.043918e+06   \n",
       "\n",
       "   std_dev_malign  err_malign  malign_penalty  damage_ratio  tumor_size  \n",
       "0         109.487     2758.76              72       39.3620      14.103  \n",
       "1         248.881     5952.53             240       22.0253       2.648  \n",
       "2         160.093     4635.26              73       29.9963       1.688  \n",
       "3         173.015     5273.87              32       28.1354       3.796  \n",
       "4         124.414     3263.35              57       35.0200      18.023  "
      ]
     },
     "execution_count": 2,
     "metadata": {},
     "output_type": "execute_result"
    }
   ],
   "source": [
    "data = pd.read_csv(r\"../input/melanoma-tumor-size-prediction-machinehack/Train.csv\") #insert file path into the \"read_csv\" function\n",
    "data.head()"
   ]
  },
  {
   "cell_type": "code",
   "execution_count": 3,
   "id": "4cf02053",
   "metadata": {
    "execution": {
     "iopub.execute_input": "2022-07-28T15:06:06.321549Z",
     "iopub.status.busy": "2022-07-28T15:06:06.320888Z",
     "iopub.status.idle": "2022-07-28T15:06:06.323491Z",
     "shell.execute_reply": "2022-07-28T15:06:06.323975Z",
     "shell.execute_reply.started": "2022-07-28T14:55:20.865537Z"
    },
    "papermill": {
     "duration": 0.073679,
     "end_time": "2022-07-28T15:06:06.324122",
     "exception": false,
     "start_time": "2022-07-28T15:06:06.250443",
     "status": "completed"
    },
    "tags": []
   },
   "outputs": [
    {
     "data": {
      "text/plain": [
       "['mass_npea',\n",
       " 'size_npear',\n",
       " 'malign_ratio',\n",
       " 'damage_size',\n",
       " 'exposed_area',\n",
       " 'std_dev_malign',\n",
       " 'err_malign',\n",
       " 'malign_penalty',\n",
       " 'damage_ratio',\n",
       " 'tumor_size']"
      ]
     },
     "execution_count": 3,
     "metadata": {},
     "output_type": "execute_result"
    }
   ],
   "source": [
    "list(data.columns)"
   ]
  },
  {
   "cell_type": "markdown",
   "id": "7c0e5555",
   "metadata": {
    "papermill": {
     "duration": 0.065043,
     "end_time": "2022-07-28T15:06:06.454301",
     "exception": false,
     "start_time": "2022-07-28T15:06:06.389258",
     "status": "completed"
    },
    "tags": []
   },
   "source": [
    "All of these variables shown up (other than tumor_size) are the features that we will use for prediction.  \n",
    "tumor_size is the variable we will try predicting."
   ]
  },
  {
   "cell_type": "markdown",
   "id": "5cd33725",
   "metadata": {
    "papermill": {
     "duration": 0.063864,
     "end_time": "2022-07-28T15:06:06.582720",
     "exception": false,
     "start_time": "2022-07-28T15:06:06.518856",
     "status": "completed"
    },
    "tags": []
   },
   "source": [
    "Checking Missing Values:"
   ]
  },
  {
   "cell_type": "code",
   "execution_count": 4,
   "id": "e1bb7e14",
   "metadata": {
    "execution": {
     "iopub.execute_input": "2022-07-28T15:06:06.718822Z",
     "iopub.status.busy": "2022-07-28T15:06:06.717958Z",
     "iopub.status.idle": "2022-07-28T15:06:06.725729Z",
     "shell.execute_reply": "2022-07-28T15:06:06.725309Z",
     "shell.execute_reply.started": "2022-07-28T14:55:20.919016Z"
    },
    "papermill": {
     "duration": 0.079078,
     "end_time": "2022-07-28T15:06:06.725873",
     "exception": false,
     "start_time": "2022-07-28T15:06:06.646795",
     "status": "completed"
    },
    "tags": []
   },
   "outputs": [
    {
     "data": {
      "text/plain": [
       "mass_npea         0\n",
       "size_npear        0\n",
       "malign_ratio      0\n",
       "damage_size       0\n",
       "exposed_area      0\n",
       "std_dev_malign    0\n",
       "err_malign        0\n",
       "malign_penalty    0\n",
       "damage_ratio      0\n",
       "tumor_size        0\n",
       "dtype: int64"
      ]
     },
     "execution_count": 4,
     "metadata": {},
     "output_type": "execute_result"
    }
   ],
   "source": [
    "data.isna().sum()"
   ]
  },
  {
   "cell_type": "markdown",
   "id": "78c4fd4a",
   "metadata": {
    "papermill": {
     "duration": 0.065018,
     "end_time": "2022-07-28T15:06:06.856800",
     "exception": false,
     "start_time": "2022-07-28T15:06:06.791782",
     "status": "completed"
    },
    "tags": []
   },
   "source": [
    "(Number of patients, number of variables):"
   ]
  },
  {
   "cell_type": "code",
   "execution_count": 5,
   "id": "fe5fff51",
   "metadata": {
    "execution": {
     "iopub.execute_input": "2022-07-28T15:06:06.991253Z",
     "iopub.status.busy": "2022-07-28T15:06:06.990543Z",
     "iopub.status.idle": "2022-07-28T15:06:06.993103Z",
     "shell.execute_reply": "2022-07-28T15:06:06.993511Z",
     "shell.execute_reply.started": "2022-07-28T14:55:20.928885Z"
    },
    "papermill": {
     "duration": 0.072848,
     "end_time": "2022-07-28T15:06:06.993634",
     "exception": false,
     "start_time": "2022-07-28T15:06:06.920786",
     "status": "completed"
    },
    "tags": []
   },
   "outputs": [
    {
     "data": {
      "text/plain": [
       "(9146, 10)"
      ]
     },
     "execution_count": 5,
     "metadata": {},
     "output_type": "execute_result"
    }
   ],
   "source": [
    "data.shape"
   ]
  },
  {
   "cell_type": "code",
   "execution_count": 6,
   "id": "3b713607",
   "metadata": {
    "execution": {
     "iopub.execute_input": "2022-07-28T15:06:07.135648Z",
     "iopub.status.busy": "2022-07-28T15:06:07.135110Z",
     "iopub.status.idle": "2022-07-28T15:06:07.147882Z",
     "shell.execute_reply": "2022-07-28T15:06:07.147250Z",
     "shell.execute_reply.started": "2022-07-28T14:55:20.937966Z"
    },
    "papermill": {
     "duration": 0.089343,
     "end_time": "2022-07-28T15:06:07.148034",
     "exception": false,
     "start_time": "2022-07-28T15:06:07.058691",
     "status": "completed"
    },
    "tags": []
   },
   "outputs": [
    {
     "name": "stdout",
     "output_type": "stream",
     "text": [
      "<class 'pandas.core.frame.DataFrame'>\n",
      "RangeIndex: 9146 entries, 0 to 9145\n",
      "Data columns (total 10 columns):\n",
      " #   Column          Non-Null Count  Dtype  \n",
      "---  ------          --------------  -----  \n",
      " 0   mass_npea       9146 non-null   float64\n",
      " 1   size_npear      9146 non-null   float64\n",
      " 2   malign_ratio    9146 non-null   float64\n",
      " 3   damage_size     9146 non-null   float64\n",
      " 4   exposed_area    9146 non-null   float64\n",
      " 5   std_dev_malign  9146 non-null   float64\n",
      " 6   err_malign      9146 non-null   float64\n",
      " 7   malign_penalty  9146 non-null   int64  \n",
      " 8   damage_ratio    9146 non-null   float64\n",
      " 9   tumor_size      9146 non-null   float64\n",
      "dtypes: float64(9), int64(1)\n",
      "memory usage: 714.7 KB\n"
     ]
    }
   ],
   "source": [
    "data.info()"
   ]
  },
  {
   "cell_type": "markdown",
   "id": "78a696ef",
   "metadata": {
    "papermill": {
     "duration": 0.065985,
     "end_time": "2022-07-28T15:06:07.279617",
     "exception": false,
     "start_time": "2022-07-28T15:06:07.213632",
     "status": "completed"
    },
    "tags": []
   },
   "source": [
    "X: variables/features that we will use to make predictions  \n",
    "Y: The variable that will try to predict correctly"
   ]
  },
  {
   "cell_type": "code",
   "execution_count": 7,
   "id": "6b83fd0a",
   "metadata": {
    "execution": {
     "iopub.execute_input": "2022-07-28T15:06:07.418597Z",
     "iopub.status.busy": "2022-07-28T15:06:07.417697Z",
     "iopub.status.idle": "2022-07-28T15:06:07.420328Z",
     "shell.execute_reply": "2022-07-28T15:06:07.419848Z",
     "shell.execute_reply.started": "2022-07-28T14:55:22.510289Z"
    },
    "papermill": {
     "duration": 0.0739,
     "end_time": "2022-07-28T15:06:07.420442",
     "exception": false,
     "start_time": "2022-07-28T15:06:07.346542",
     "status": "completed"
    },
    "tags": []
   },
   "outputs": [],
   "source": [
    "x = data.drop(\"tumor_size\", axis=1)\n",
    "y = data[\"tumor_size\"]"
   ]
  },
  {
   "cell_type": "code",
   "execution_count": 8,
   "id": "1e03901d",
   "metadata": {
    "execution": {
     "iopub.execute_input": "2022-07-28T15:06:07.565504Z",
     "iopub.status.busy": "2022-07-28T15:06:07.564860Z",
     "iopub.status.idle": "2022-07-28T15:06:07.567669Z",
     "shell.execute_reply": "2022-07-28T15:06:07.568101Z",
     "shell.execute_reply.started": "2022-07-28T14:55:23.072617Z"
    },
    "papermill": {
     "duration": 0.081719,
     "end_time": "2022-07-28T15:06:07.568236",
     "exception": false,
     "start_time": "2022-07-28T15:06:07.486517",
     "status": "completed"
    },
    "tags": []
   },
   "outputs": [
    {
     "data": {
      "text/html": [
       "<div>\n",
       "<style scoped>\n",
       "    .dataframe tbody tr th:only-of-type {\n",
       "        vertical-align: middle;\n",
       "    }\n",
       "\n",
       "    .dataframe tbody tr th {\n",
       "        vertical-align: top;\n",
       "    }\n",
       "\n",
       "    .dataframe thead th {\n",
       "        text-align: right;\n",
       "    }\n",
       "</style>\n",
       "<table border=\"1\" class=\"dataframe\">\n",
       "  <thead>\n",
       "    <tr style=\"text-align: right;\">\n",
       "      <th></th>\n",
       "      <th>mass_npea</th>\n",
       "      <th>size_npear</th>\n",
       "      <th>malign_ratio</th>\n",
       "      <th>damage_size</th>\n",
       "      <th>exposed_area</th>\n",
       "      <th>std_dev_malign</th>\n",
       "      <th>err_malign</th>\n",
       "      <th>malign_penalty</th>\n",
       "      <th>damage_ratio</th>\n",
       "    </tr>\n",
       "  </thead>\n",
       "  <tbody>\n",
       "    <tr>\n",
       "      <th>0</th>\n",
       "      <td>6930.90</td>\n",
       "      <td>2919.02</td>\n",
       "      <td>0.42116</td>\n",
       "      <td>51.8298</td>\n",
       "      <td>9.888294e+05</td>\n",
       "      <td>109.487</td>\n",
       "      <td>2758.76</td>\n",
       "      <td>72</td>\n",
       "      <td>39.3620</td>\n",
       "    </tr>\n",
       "    <tr>\n",
       "      <th>1</th>\n",
       "      <td>15635.70</td>\n",
       "      <td>4879.36</td>\n",
       "      <td>0.31206</td>\n",
       "      <td>223.5500</td>\n",
       "      <td>2.058426e+06</td>\n",
       "      <td>248.881</td>\n",
       "      <td>5952.53</td>\n",
       "      <td>240</td>\n",
       "      <td>22.0253</td>\n",
       "    </tr>\n",
       "    <tr>\n",
       "      <th>2</th>\n",
       "      <td>10376.20</td>\n",
       "      <td>2613.88</td>\n",
       "      <td>0.25191</td>\n",
       "      <td>127.3370</td>\n",
       "      <td>1.434676e+06</td>\n",
       "      <td>160.093</td>\n",
       "      <td>4635.26</td>\n",
       "      <td>73</td>\n",
       "      <td>29.9963</td>\n",
       "    </tr>\n",
       "    <tr>\n",
       "      <th>3</th>\n",
       "      <td>13093.80</td>\n",
       "      <td>4510.06</td>\n",
       "      <td>0.34444</td>\n",
       "      <td>155.4400</td>\n",
       "      <td>1.812195e+06</td>\n",
       "      <td>173.015</td>\n",
       "      <td>5273.87</td>\n",
       "      <td>32</td>\n",
       "      <td>28.1354</td>\n",
       "    </tr>\n",
       "    <tr>\n",
       "      <th>4</th>\n",
       "      <td>7545.21</td>\n",
       "      <td>2882.36</td>\n",
       "      <td>0.38201</td>\n",
       "      <td>85.1237</td>\n",
       "      <td>1.043918e+06</td>\n",
       "      <td>124.414</td>\n",
       "      <td>3263.35</td>\n",
       "      <td>57</td>\n",
       "      <td>35.0200</td>\n",
       "    </tr>\n",
       "  </tbody>\n",
       "</table>\n",
       "</div>"
      ],
      "text/plain": [
       "   mass_npea  size_npear  malign_ratio  damage_size  exposed_area  \\\n",
       "0    6930.90     2919.02       0.42116      51.8298  9.888294e+05   \n",
       "1   15635.70     4879.36       0.31206     223.5500  2.058426e+06   \n",
       "2   10376.20     2613.88       0.25191     127.3370  1.434676e+06   \n",
       "3   13093.80     4510.06       0.34444     155.4400  1.812195e+06   \n",
       "4    7545.21     2882.36       0.38201      85.1237  1.043918e+06   \n",
       "\n",
       "   std_dev_malign  err_malign  malign_penalty  damage_ratio  \n",
       "0         109.487     2758.76              72       39.3620  \n",
       "1         248.881     5952.53             240       22.0253  \n",
       "2         160.093     4635.26              73       29.9963  \n",
       "3         173.015     5273.87              32       28.1354  \n",
       "4         124.414     3263.35              57       35.0200  "
      ]
     },
     "execution_count": 8,
     "metadata": {},
     "output_type": "execute_result"
    }
   ],
   "source": [
    "x.head()"
   ]
  },
  {
   "cell_type": "code",
   "execution_count": 9,
   "id": "536b05d4",
   "metadata": {
    "execution": {
     "iopub.execute_input": "2022-07-28T15:06:07.707701Z",
     "iopub.status.busy": "2022-07-28T15:06:07.706816Z",
     "iopub.status.idle": "2022-07-28T15:06:07.709784Z",
     "shell.execute_reply": "2022-07-28T15:06:07.710238Z",
     "shell.execute_reply.started": "2022-07-28T14:55:23.091876Z"
    },
    "papermill": {
     "duration": 0.075684,
     "end_time": "2022-07-28T15:06:07.710370",
     "exception": false,
     "start_time": "2022-07-28T15:06:07.634686",
     "status": "completed"
    },
    "tags": []
   },
   "outputs": [
    {
     "data": {
      "text/plain": [
       "0    14.103\n",
       "1     2.648\n",
       "2     1.688\n",
       "3     3.796\n",
       "4    18.023\n",
       "Name: tumor_size, dtype: float64"
      ]
     },
     "execution_count": 9,
     "metadata": {},
     "output_type": "execute_result"
    }
   ],
   "source": [
    "y.head()"
   ]
  },
  {
   "cell_type": "markdown",
   "id": "5fb065e8",
   "metadata": {
    "papermill": {
     "duration": 0.066168,
     "end_time": "2022-07-28T15:06:07.845304",
     "exception": false,
     "start_time": "2022-07-28T15:06:07.779136",
     "status": "completed"
    },
    "tags": []
   },
   "source": [
    "We have to split our data into train and test sets.  \n",
    "This means that we will not show all patients/examples to our model.  \n",
    "We will let the model learn from a certain number of patients/examples, then we will test on the ones it didn't see.  \n",
    "This is to check if the model makes good predictions for patients that it hasn't seen before.  \n",
    "We need to give the model many examples to learn from, because the more examples you give it, the better it learns.  \n",
    "So we show it most of our data (usually, about 70% to 90%) and keep a small number of examples/patients for testing."
   ]
  },
  {
   "cell_type": "code",
   "execution_count": 10,
   "id": "2635fb2d",
   "metadata": {
    "execution": {
     "iopub.execute_input": "2022-07-28T15:06:07.982842Z",
     "iopub.status.busy": "2022-07-28T15:06:07.982159Z",
     "iopub.status.idle": "2022-07-28T15:06:08.118795Z",
     "shell.execute_reply": "2022-07-28T15:06:08.118308Z",
     "shell.execute_reply.started": "2022-07-28T14:55:23.104884Z"
    },
    "papermill": {
     "duration": 0.207112,
     "end_time": "2022-07-28T15:06:08.118934",
     "exception": false,
     "start_time": "2022-07-28T15:06:07.911822",
     "status": "completed"
    },
    "tags": []
   },
   "outputs": [],
   "source": [
    "from sklearn.model_selection import train_test_split"
   ]
  },
  {
   "cell_type": "code",
   "execution_count": 11,
   "id": "952f4c48",
   "metadata": {
    "execution": {
     "iopub.execute_input": "2022-07-28T15:06:08.260227Z",
     "iopub.status.busy": "2022-07-28T15:06:08.259566Z",
     "iopub.status.idle": "2022-07-28T15:06:08.262666Z",
     "shell.execute_reply": "2022-07-28T15:06:08.262253Z",
     "shell.execute_reply.started": "2022-07-28T14:55:23.114458Z"
    },
    "papermill": {
     "duration": 0.077192,
     "end_time": "2022-07-28T15:06:08.262805",
     "exception": false,
     "start_time": "2022-07-28T15:06:08.185613",
     "status": "completed"
    },
    "tags": []
   },
   "outputs": [],
   "source": [
    "xtrain, xtest, ytrain, ytest = train_test_split(x, y, test_size=0.1, random_state=11)"
   ]
  },
  {
   "cell_type": "markdown",
   "id": "3dd1c7a8",
   "metadata": {
    "papermill": {
     "duration": 0.06641,
     "end_time": "2022-07-28T15:06:08.396077",
     "exception": false,
     "start_time": "2022-07-28T15:06:08.329667",
     "status": "completed"
    },
    "tags": []
   },
   "source": [
    "## Linear Regression"
   ]
  },
  {
   "cell_type": "markdown",
   "id": "ebd5e3c9",
   "metadata": {
    "papermill": {
     "duration": 0.065709,
     "end_time": "2022-07-28T15:06:08.527826",
     "exception": false,
     "start_time": "2022-07-28T15:06:08.462117",
     "status": "completed"
    },
    "tags": []
   },
   "source": [
    "![](http://miro.medium.com/max/1838/1*uLHXR8LKGDucpwUYHx3VaQ.png)"
   ]
  },
  {
   "cell_type": "markdown",
   "id": "3555da71",
   "metadata": {
    "papermill": {
     "duration": 0.06661,
     "end_time": "2022-07-28T15:06:08.661008",
     "exception": false,
     "start_time": "2022-07-28T15:06:08.594398",
     "status": "completed"
    },
    "tags": []
   },
   "source": [
    "![](https://www.researchgate.net/profile/Hieu-Tran-17/publication/333457161/figure/fig3/AS:763959762247682@1559153609649/Linear-Regression-model-sample-illustration.ppm)"
   ]
  },
  {
   "cell_type": "markdown",
   "id": "c01f4b9c",
   "metadata": {
    "papermill": {
     "duration": 0.06728,
     "end_time": "2022-07-28T15:06:08.794185",
     "exception": false,
     "start_time": "2022-07-28T15:06:08.726905",
     "status": "completed"
    },
    "tags": []
   },
   "source": [
    "![](https://sphweb.bumc.bu.edu/otlt/MPH-Modules/BS/R/R5_Correlation-Regression/MultipleLinearRegression-Plane.png)"
   ]
  },
  {
   "cell_type": "code",
   "execution_count": 12,
   "id": "9f56d4b9",
   "metadata": {
    "execution": {
     "iopub.execute_input": "2022-07-28T15:06:08.932011Z",
     "iopub.status.busy": "2022-07-28T15:06:08.931131Z",
     "iopub.status.idle": "2022-07-28T15:06:09.086668Z",
     "shell.execute_reply": "2022-07-28T15:06:09.086161Z",
     "shell.execute_reply.started": "2022-07-28T14:55:23.131414Z"
    },
    "papermill": {
     "duration": 0.225597,
     "end_time": "2022-07-28T15:06:09.086848",
     "exception": false,
     "start_time": "2022-07-28T15:06:08.861251",
     "status": "completed"
    },
    "tags": []
   },
   "outputs": [],
   "source": [
    "from sklearn.linear_model import LinearRegression\n",
    "model = LinearRegression()"
   ]
  },
  {
   "cell_type": "markdown",
   "id": "6ba636c1",
   "metadata": {
    "papermill": {
     "duration": 0.068136,
     "end_time": "2022-07-28T15:06:09.222417",
     "exception": false,
     "start_time": "2022-07-28T15:06:09.154281",
     "status": "completed"
    },
    "tags": []
   },
   "source": [
    "If we represent our model the following way: Y = b1.X1 + b2.X2 + ... + bn.Xn + C,  \n",
    "then the fit function allows the model to be find the best coefficient bi for each variable Xi, and the best constant term C.  \n",
    "In other words, it gives them values that produce an error that is as small as possible."
   ]
  },
  {
   "cell_type": "code",
   "execution_count": 13,
   "id": "908cf81b",
   "metadata": {
    "execution": {
     "iopub.execute_input": "2022-07-28T15:06:09.362572Z",
     "iopub.status.busy": "2022-07-28T15:06:09.361631Z",
     "iopub.status.idle": "2022-07-28T15:06:09.385620Z",
     "shell.execute_reply": "2022-07-28T15:06:09.386494Z",
     "shell.execute_reply.started": "2022-07-28T14:55:23.137876Z"
    },
    "papermill": {
     "duration": 0.097442,
     "end_time": "2022-07-28T15:06:09.386711",
     "exception": false,
     "start_time": "2022-07-28T15:06:09.289269",
     "status": "completed"
    },
    "tags": []
   },
   "outputs": [
    {
     "data": {
      "text/plain": [
       "LinearRegression()"
      ]
     },
     "execution_count": 13,
     "metadata": {},
     "output_type": "execute_result"
    }
   ],
   "source": [
    "model.fit(xtrain, ytrain)"
   ]
  },
  {
   "cell_type": "markdown",
   "id": "eb248aca",
   "metadata": {
    "papermill": {
     "duration": 0.067752,
     "end_time": "2022-07-28T15:06:09.578298",
     "exception": false,
     "start_time": "2022-07-28T15:06:09.510546",
     "status": "completed"
    },
    "tags": []
   },
   "source": [
    "Now, we need to test our model.  \n",
    "We will evaluate the predictions it makes for the patients it hasn't seen before.  "
   ]
  },
  {
   "cell_type": "markdown",
   "id": "7ae3547b",
   "metadata": {
    "papermill": {
     "duration": 0.066654,
     "end_time": "2022-07-28T15:06:09.711209",
     "exception": false,
     "start_time": "2022-07-28T15:06:09.644555",
     "status": "completed"
    },
    "tags": []
   },
   "source": [
    "The predict function tells the model to make predictions."
   ]
  },
  {
   "cell_type": "code",
   "execution_count": 14,
   "id": "45c9c118",
   "metadata": {
    "execution": {
     "iopub.execute_input": "2022-07-28T15:06:09.853516Z",
     "iopub.status.busy": "2022-07-28T15:06:09.852856Z",
     "iopub.status.idle": "2022-07-28T15:06:09.855903Z",
     "shell.execute_reply": "2022-07-28T15:06:09.855459Z",
     "shell.execute_reply.started": "2022-07-28T14:55:23.155997Z"
    },
    "papermill": {
     "duration": 0.076559,
     "end_time": "2022-07-28T15:06:09.856027",
     "exception": false,
     "start_time": "2022-07-28T15:06:09.779468",
     "status": "completed"
    },
    "tags": []
   },
   "outputs": [],
   "source": [
    "ypred = model.predict(xtest)"
   ]
  },
  {
   "cell_type": "markdown",
   "id": "11b14d7f",
   "metadata": {
    "papermill": {
     "duration": 0.066238,
     "end_time": "2022-07-28T15:06:09.988379",
     "exception": false,
     "start_time": "2022-07-28T15:06:09.922141",
     "status": "completed"
    },
    "tags": []
   },
   "source": [
    "Now we need to compare the values that the model predicted with the real values (which the model doesn't know).  \n",
    "To do this, we can calculate the \"mean absolute error\" between the real values and the predicted values.  \n",
    "The Mean Absolute Error simply means \"On average, how much error does the model make when predicting the tumor size of the patient?\""
   ]
  },
  {
   "cell_type": "code",
   "execution_count": 15,
   "id": "5d5ae508",
   "metadata": {
    "execution": {
     "iopub.execute_input": "2022-07-28T15:06:10.125392Z",
     "iopub.status.busy": "2022-07-28T15:06:10.124851Z",
     "iopub.status.idle": "2022-07-28T15:06:10.127825Z",
     "shell.execute_reply": "2022-07-28T15:06:10.127370Z",
     "shell.execute_reply.started": "2022-07-28T14:55:23.163600Z"
    },
    "papermill": {
     "duration": 0.073382,
     "end_time": "2022-07-28T15:06:10.127934",
     "exception": false,
     "start_time": "2022-07-28T15:06:10.054552",
     "status": "completed"
    },
    "tags": []
   },
   "outputs": [],
   "source": [
    "from sklearn.metrics import mean_absolute_error"
   ]
  },
  {
   "cell_type": "markdown",
   "id": "0f13d831",
   "metadata": {
    "papermill": {
     "duration": 0.066204,
     "end_time": "2022-07-28T15:06:10.260005",
     "exception": false,
     "start_time": "2022-07-28T15:06:10.193801",
     "status": "completed"
    },
    "tags": []
   },
   "source": [
    "> random_state"
   ]
  },
  {
   "cell_type": "code",
   "execution_count": 16,
   "id": "a3b641e4",
   "metadata": {
    "execution": {
     "iopub.execute_input": "2022-07-28T15:06:10.399276Z",
     "iopub.status.busy": "2022-07-28T15:06:10.398578Z",
     "iopub.status.idle": "2022-07-28T15:06:10.401471Z",
     "shell.execute_reply": "2022-07-28T15:06:10.401926Z",
     "shell.execute_reply.started": "2022-07-28T14:55:23.171792Z"
    },
    "papermill": {
     "duration": 0.075058,
     "end_time": "2022-07-28T15:06:10.402065",
     "exception": false,
     "start_time": "2022-07-28T15:06:10.327007",
     "status": "completed"
    },
    "tags": []
   },
   "outputs": [
    {
     "data": {
      "text/plain": [
       "4.112451737316707"
      ]
     },
     "execution_count": 16,
     "metadata": {},
     "output_type": "execute_result"
    }
   ],
   "source": [
    "mean_absolute_error(ytest, ypred)"
   ]
  },
  {
   "cell_type": "markdown",
   "id": "2c15454d",
   "metadata": {
    "papermill": {
     "duration": 0.066092,
     "end_time": "2022-07-28T15:06:10.537935",
     "exception": false,
     "start_time": "2022-07-28T15:06:10.471843",
     "status": "completed"
    },
    "tags": []
   },
   "source": [
    "The MAE value is 3.99 or basically 4.  \n",
    "Is that a small error or a big one?"
   ]
  },
  {
   "cell_type": "markdown",
   "id": "644cbde7",
   "metadata": {
    "papermill": {
     "duration": 0.065946,
     "end_time": "2022-07-28T15:06:10.671020",
     "exception": false,
     "start_time": "2022-07-28T15:06:10.605074",
     "status": "completed"
    },
    "tags": []
   },
   "source": [
    "Let's take a look at the real values of tumor sizes:"
   ]
  },
  {
   "cell_type": "code",
   "execution_count": 17,
   "id": "0733f772",
   "metadata": {
    "execution": {
     "iopub.execute_input": "2022-07-28T15:06:10.814338Z",
     "iopub.status.busy": "2022-07-28T15:06:10.813659Z",
     "iopub.status.idle": "2022-07-28T15:06:10.816240Z",
     "shell.execute_reply": "2022-07-28T15:06:10.816681Z",
     "shell.execute_reply.started": "2022-07-28T14:55:23.364494Z"
    },
    "papermill": {
     "duration": 0.078461,
     "end_time": "2022-07-28T15:06:10.816840",
     "exception": false,
     "start_time": "2022-07-28T15:06:10.738379",
     "status": "completed"
    },
    "tags": []
   },
   "outputs": [
    {
     "data": {
      "text/plain": [
       "3344    10.045\n",
       "4259     3.648\n",
       "8820    13.637\n",
       "204      1.598\n",
       "6172     4.202\n",
       "         ...  \n",
       "4159     1.537\n",
       "2366     6.711\n",
       "8178     2.305\n",
       "4048    14.927\n",
       "2387    19.912\n",
       "Name: tumor_size, Length: 915, dtype: float64"
      ]
     },
     "execution_count": 17,
     "metadata": {},
     "output_type": "execute_result"
    }
   ],
   "source": [
    "ytest"
   ]
  },
  {
   "cell_type": "markdown",
   "id": "23828aff",
   "metadata": {
    "papermill": {
     "duration": 0.067239,
     "end_time": "2022-07-28T15:06:10.951362",
     "exception": false,
     "start_time": "2022-07-28T15:06:10.884123",
     "status": "completed"
    },
    "tags": []
   },
   "source": [
    "If we take patient number 6700, we can see that the size of the tumor is 0.88  \n",
    "Our model makes an average error of 4.2, so it will make a prediction around 0.88 + 4.2 = 5.08.  \n",
    "5.08 is different from 4.2, and thus our model is making a BIG error for this patient.  \n",
    "If you do look at the other patients you can see that an error of 4.2 will cause predictions to be really bad and far from the truth.  \n",
    "##### What does this mean?  \n",
    "It means that a linear regression model can not make good predictions on this dataset.  \n",
    "We can also say that the equation Y = b1.X1 + b2.X2 + ... + bn.Xn + C is not a good approximation of reality in this case.  \n",
    "##### What do we do now?  \n",
    "Well, we'll be trying another model: the regression tree"
   ]
  },
  {
   "cell_type": "markdown",
   "id": "5a1708d1",
   "metadata": {
    "papermill": {
     "duration": 0.06625,
     "end_time": "2022-07-28T15:06:11.085151",
     "exception": false,
     "start_time": "2022-07-28T15:06:11.018901",
     "status": "completed"
    },
    "tags": []
   },
   "source": [
    "## Regression Tree"
   ]
  },
  {
   "cell_type": "markdown",
   "id": "56f4f1fb",
   "metadata": {
    "papermill": {
     "duration": 0.066032,
     "end_time": "2022-07-28T15:06:11.218528",
     "exception": false,
     "start_time": "2022-07-28T15:06:11.152496",
     "status": "completed"
    },
    "tags": []
   },
   "source": [
    "A decision tree predicts by asking certain questions then making judgements based on the answer.  \n",
    "Training (fitting) consists of learning what are the questions that should be asked, and what judgement to make in each possible answer.  \n",
    "The picture below illustrates this. It shows that the tree consists of nodes, each node being a question. Based on the answer, an appropriate y-value is decided. It also shows the number of samples/rows that correspond to that answer."
   ]
  },
  {
   "cell_type": "markdown",
   "id": "f45ee8ef",
   "metadata": {
    "papermill": {
     "duration": 0.066853,
     "end_time": "2022-07-28T15:06:11.352197",
     "exception": false,
     "start_time": "2022-07-28T15:06:11.285344",
     "status": "completed"
    },
    "tags": []
   },
   "source": [
    "![](https://www.statology.org/wp-content/uploads/2020/11/tree3.png)"
   ]
  },
  {
   "cell_type": "markdown",
   "id": "dd330b02",
   "metadata": {
    "papermill": {
     "duration": 0.066582,
     "end_time": "2022-07-28T15:06:11.485426",
     "exception": false,
     "start_time": "2022-07-28T15:06:11.418844",
     "status": "completed"
    },
    "tags": []
   },
   "source": [
    "*But how does the tree learn which questions to ask?*  \n",
    "Well, questions separate points, which represent clients in our case.  \n",
    "Points that represent the \"yes\" answer will be in a group, while ones that correspond to the \"no\" answer will be in a different group.  \n",
    "If points in a same group have very different y values then this question isn't useful to ask.  \n",
    "However if the question separates points into groups such that points in the same group have very similar y values then the question is good to ask.  \n",
    "**But how does the tree find the good questions?**  \n",
    "It (kind of) asks many possible questions then picks the best ones.  \n",
    "**But what kind of questions can be asked?**  \n",
    "The questions are usually inequalities related the values of features (the columns)  \n",
    "For example, one question could be \"x1 > 1.2 ?\" and another could be \"x5 < 70 ?\".  \n",
    "Each question corresponds to a split in the feature space (which basically represents the x values).  \n",
    "For example if we ask \"x2 < 23.1 ?\" then some points will be on the side of the space where x2 < 23.1 and others will be on the side where x2 >= 23.1.  \n",
    "The following picture illustrates that."
   ]
  },
  {
   "cell_type": "markdown",
   "id": "103aeb0f",
   "metadata": {
    "papermill": {
     "duration": 0.06671,
     "end_time": "2022-07-28T15:06:11.618490",
     "exception": false,
     "start_time": "2022-07-28T15:06:11.551780",
     "status": "completed"
    },
    "tags": []
   },
   "source": [
    "![](https://media.springernature.com/original/springer-static/image/prt%3A978-1-4899-7687-1%2F18/MediaObjects/978-1-4899-7687-1_18_Part_Fig1-717_HTML.gif)"
   ]
  },
  {
   "cell_type": "markdown",
   "id": "7dfe5a04",
   "metadata": {
    "papermill": {
     "duration": 0.067461,
     "end_time": "2022-07-28T15:06:11.752077",
     "exception": false,
     "start_time": "2022-07-28T15:06:11.684616",
     "status": "completed"
    },
    "tags": []
   },
   "source": [
    "A regression tree basically groups points according to their y value.  \n",
    "In other words, points that have similar y values (such as 1.2, 1.4 and 1.1) would be in the same group.  \n",
    "When predicting the y value of a sample/point/observation/example/row, the tree puts it in a group of points that have similar x values, then assigns to it the mean y value of that group.  "
   ]
  },
  {
   "cell_type": "markdown",
   "id": "22e7c77e",
   "metadata": {
    "papermill": {
     "duration": 0.06776,
     "end_time": "2022-07-28T15:06:11.889942",
     "exception": false,
     "start_time": "2022-07-28T15:06:11.822182",
     "status": "completed"
    },
    "tags": []
   },
   "source": [
    "**But how does the tree measure the \"goodness\" of a question/split?**  \n",
    "Well, the question divides points into two groups.  \n",
    "The tree algorithm calculates the average error in each group.  \n",
    "Meaning it calculates the error that corresponds to every point then calculates the average.  \n",
    "The error is the distance between the y value of that point and the average y value of the group.  \n",
    "Sometimes we the square of that distance as the error, sometimes not. But both are valid.  \n",
    "After calculating the average error for each group, the average error of the question is calculated which is the average between the two groups.  \n",
    "This is done by multiplying each group error by the number of points in that group, adding and dividing by the total number of points.  \n",
    "The following image shows examples of errors that we can use. The mean absolute error is the average distance between points and their average."
   ]
  },
  {
   "cell_type": "markdown",
   "id": "2575ed0c",
   "metadata": {
    "papermill": {
     "duration": 0.066233,
     "end_time": "2022-07-28T15:06:12.023341",
     "exception": false,
     "start_time": "2022-07-28T15:06:11.957108",
     "status": "completed"
    },
    "tags": []
   },
   "source": [
    "![](https://1.bp.blogspot.com/-kL42RjXdOEc/XMELxXVMe3I/AAAAAAAABRw/mx2RoIheodwWj0CPAqg9chwXJmpOyPyJQCLcBGAs/s1600/Loss_Functions.PNG)"
   ]
  },
  {
   "cell_type": "markdown",
   "id": "13c12237",
   "metadata": {
    "papermill": {
     "duration": 0.066092,
     "end_time": "2022-07-28T15:06:12.156630",
     "exception": false,
     "start_time": "2022-07-28T15:06:12.090538",
     "status": "completed"
    },
    "tags": []
   },
   "source": [
    "I'm sure that explaining this in paragraphs isn't the most useful thing, but I just couldn't make a tutorial with nothing but code in it.  \n",
    "There are plenty of video courses/tutorials/explanations that explain the details of decision trees really well so make sure you check them out."
   ]
  },
  {
   "cell_type": "code",
   "execution_count": 18,
   "id": "e26bd95b",
   "metadata": {
    "execution": {
     "iopub.execute_input": "2022-07-28T15:06:12.295352Z",
     "iopub.status.busy": "2022-07-28T15:06:12.294639Z",
     "iopub.status.idle": "2022-07-28T15:06:12.362540Z",
     "shell.execute_reply": "2022-07-28T15:06:12.362073Z",
     "shell.execute_reply.started": "2022-07-28T14:55:23.378980Z"
    },
    "papermill": {
     "duration": 0.139645,
     "end_time": "2022-07-28T15:06:12.362653",
     "exception": false,
     "start_time": "2022-07-28T15:06:12.223008",
     "status": "completed"
    },
    "tags": []
   },
   "outputs": [],
   "source": [
    "from sklearn.tree import DecisionTreeRegressor"
   ]
  },
  {
   "cell_type": "code",
   "execution_count": 19,
   "id": "b96bcc32",
   "metadata": {
    "execution": {
     "iopub.execute_input": "2022-07-28T15:06:12.499834Z",
     "iopub.status.busy": "2022-07-28T15:06:12.499291Z",
     "iopub.status.idle": "2022-07-28T15:06:12.502736Z",
     "shell.execute_reply": "2022-07-28T15:06:12.502329Z",
     "shell.execute_reply.started": "2022-07-28T14:55:23.386929Z"
    },
    "papermill": {
     "duration": 0.073706,
     "end_time": "2022-07-28T15:06:12.502864",
     "exception": false,
     "start_time": "2022-07-28T15:06:12.429158",
     "status": "completed"
    },
    "tags": []
   },
   "outputs": [],
   "source": [
    "regression_tree = DecisionTreeRegressor()"
   ]
  },
  {
   "cell_type": "code",
   "execution_count": 20,
   "id": "ec9f72fa",
   "metadata": {
    "execution": {
     "iopub.execute_input": "2022-07-28T15:06:12.642047Z",
     "iopub.status.busy": "2022-07-28T15:06:12.641448Z",
     "iopub.status.idle": "2022-07-28T15:06:12.739272Z",
     "shell.execute_reply": "2022-07-28T15:06:12.739647Z",
     "shell.execute_reply.started": "2022-07-28T14:55:23.396269Z"
    },
    "papermill": {
     "duration": 0.1696,
     "end_time": "2022-07-28T15:06:12.739807",
     "exception": false,
     "start_time": "2022-07-28T15:06:12.570207",
     "status": "completed"
    },
    "tags": []
   },
   "outputs": [
    {
     "data": {
      "text/plain": [
       "DecisionTreeRegressor()"
      ]
     },
     "execution_count": 20,
     "metadata": {},
     "output_type": "execute_result"
    }
   ],
   "source": [
    "regression_tree.fit(xtrain, ytrain)"
   ]
  },
  {
   "cell_type": "code",
   "execution_count": 21,
   "id": "1b9e8e8f",
   "metadata": {
    "execution": {
     "iopub.execute_input": "2022-07-28T15:06:12.882039Z",
     "iopub.status.busy": "2022-07-28T15:06:12.881161Z",
     "iopub.status.idle": "2022-07-28T15:06:12.888733Z",
     "shell.execute_reply": "2022-07-28T15:06:12.888331Z",
     "shell.execute_reply.started": "2022-07-28T14:55:23.526275Z"
    },
    "papermill": {
     "duration": 0.080856,
     "end_time": "2022-07-28T15:06:12.888875",
     "exception": false,
     "start_time": "2022-07-28T15:06:12.808019",
     "status": "completed"
    },
    "tags": []
   },
   "outputs": [
    {
     "data": {
      "text/plain": [
       "0.001459482444417446"
      ]
     },
     "execution_count": 21,
     "metadata": {},
     "output_type": "execute_result"
    }
   ],
   "source": [
    "ypred_train = regression_tree.predict(xtrain)\n",
    "mean_absolute_error(ytrain, ypred_train)"
   ]
  },
  {
   "cell_type": "code",
   "execution_count": 22,
   "id": "4cf50412",
   "metadata": {
    "execution": {
     "iopub.execute_input": "2022-07-28T15:06:13.032690Z",
     "iopub.status.busy": "2022-07-28T15:06:13.031910Z",
     "iopub.status.idle": "2022-07-28T15:06:13.036797Z",
     "shell.execute_reply": "2022-07-28T15:06:13.037189Z",
     "shell.execute_reply.started": "2022-07-28T14:55:23.541998Z"
    },
    "papermill": {
     "duration": 0.078323,
     "end_time": "2022-07-28T15:06:13.037317",
     "exception": false,
     "start_time": "2022-07-28T15:06:12.958994",
     "status": "completed"
    },
    "tags": []
   },
   "outputs": [
    {
     "data": {
      "text/plain": [
       "3.329028415300546"
      ]
     },
     "execution_count": 22,
     "metadata": {},
     "output_type": "execute_result"
    }
   ],
   "source": [
    "ypred_test = regression_tree.predict(xtest)\n",
    "mean_absolute_error(ytest, ypred_test)"
   ]
  },
  {
   "cell_type": "markdown",
   "id": "51cc53c8",
   "metadata": {
    "papermill": {
     "duration": 0.06729,
     "end_time": "2022-07-28T15:06:13.174184",
     "exception": false,
     "start_time": "2022-07-28T15:06:13.106894",
     "status": "completed"
    },
    "tags": []
   },
   "source": [
    "#### Notes:\n",
    "* The tree achieved better results than Linear Regression. This almost always the case.  \n",
    "* The tree has practically zero error on the training set. This is because it kept splitting until almost every point is in a group by itself.\n",
    "* The gap between training and testing scores is larger for the tree than it is for linear regression.\n",
    "* This is because the tree focused too much on the training data that it basically memorized it. Thus, when we tested it with data that it hasn't seen/memorized it failed to produce good results.\n",
    "* This is like memorizing 10 math exercices and hoping you get something similar in the test vs understanding exercices."
   ]
  },
  {
   "cell_type": "markdown",
   "id": "82bf193c",
   "metadata": {
    "papermill": {
     "duration": 0.068864,
     "end_time": "2022-07-28T15:06:13.310683",
     "exception": false,
     "start_time": "2022-07-28T15:06:13.241819",
     "status": "completed"
    },
    "tags": []
   },
   "source": [
    "We can improve the testing performance by telling the tree not to grow too long/deep.  \n",
    "Growing too long/deep means the tree is making more cuts in the feature space (the space defined by the features x1, x2, etc..). By making more cuts the tree adjusts better to the data that it's training on.  \n",
    "We don't want the tree to adjust too well to the training data because then it wouldn't perform that well on data that isn't perfectly similar (the testing data).  \n",
    "The \"max_depth\" parameter sets the maximum number of successive nodes / the maximum branch length / the maximum number of questions to be asked."
   ]
  },
  {
   "cell_type": "code",
   "execution_count": 23,
   "id": "566a49af",
   "metadata": {
    "execution": {
     "iopub.execute_input": "2022-07-28T15:06:13.452068Z",
     "iopub.status.busy": "2022-07-28T15:06:13.451216Z",
     "iopub.status.idle": "2022-07-28T15:06:13.453302Z",
     "shell.execute_reply": "2022-07-28T15:06:13.453718Z",
     "shell.execute_reply.started": "2022-07-28T14:55:23.554111Z"
    },
    "papermill": {
     "duration": 0.074514,
     "end_time": "2022-07-28T15:06:13.453875",
     "exception": false,
     "start_time": "2022-07-28T15:06:13.379361",
     "status": "completed"
    },
    "tags": []
   },
   "outputs": [],
   "source": [
    "another_regression_tree = DecisionTreeRegressor(max_depth=15)"
   ]
  },
  {
   "cell_type": "code",
   "execution_count": 24,
   "id": "b206c3b4",
   "metadata": {
    "execution": {
     "iopub.execute_input": "2022-07-28T15:06:13.601872Z",
     "iopub.status.busy": "2022-07-28T15:06:13.601068Z",
     "iopub.status.idle": "2022-07-28T15:06:13.684428Z",
     "shell.execute_reply": "2022-07-28T15:06:13.684861Z",
     "shell.execute_reply.started": "2022-07-28T14:55:23.561904Z"
    },
    "papermill": {
     "duration": 0.163001,
     "end_time": "2022-07-28T15:06:13.685007",
     "exception": false,
     "start_time": "2022-07-28T15:06:13.522006",
     "status": "completed"
    },
    "tags": []
   },
   "outputs": [
    {
     "data": {
      "text/plain": [
       "DecisionTreeRegressor(max_depth=15)"
      ]
     },
     "execution_count": 24,
     "metadata": {},
     "output_type": "execute_result"
    }
   ],
   "source": [
    "another_regression_tree.fit(xtrain, ytrain)"
   ]
  },
  {
   "cell_type": "code",
   "execution_count": 25,
   "id": "1dc0a182",
   "metadata": {
    "execution": {
     "iopub.execute_input": "2022-07-28T15:06:13.828175Z",
     "iopub.status.busy": "2022-07-28T15:06:13.827342Z",
     "iopub.status.idle": "2022-07-28T15:06:13.834069Z",
     "shell.execute_reply": "2022-07-28T15:06:13.833629Z",
     "shell.execute_reply.started": "2022-07-28T14:55:23.669884Z"
    },
    "papermill": {
     "duration": 0.081247,
     "end_time": "2022-07-28T15:06:13.834184",
     "exception": false,
     "start_time": "2022-07-28T15:06:13.752937",
     "status": "completed"
    },
    "tags": []
   },
   "outputs": [
    {
     "data": {
      "text/plain": [
       "0.8565271345088096"
      ]
     },
     "execution_count": 25,
     "metadata": {},
     "output_type": "execute_result"
    }
   ],
   "source": [
    "ypred_train = another_regression_tree.predict(xtrain)\n",
    "mean_absolute_error(ytrain, ypred_train)"
   ]
  },
  {
   "cell_type": "code",
   "execution_count": 26,
   "id": "f3eeddbf",
   "metadata": {
    "execution": {
     "iopub.execute_input": "2022-07-28T15:06:13.979255Z",
     "iopub.status.busy": "2022-07-28T15:06:13.978603Z",
     "iopub.status.idle": "2022-07-28T15:06:13.981194Z",
     "shell.execute_reply": "2022-07-28T15:06:13.981604Z",
     "shell.execute_reply.started": "2022-07-28T14:55:23.682357Z"
    },
    "papermill": {
     "duration": 0.078023,
     "end_time": "2022-07-28T15:06:13.981730",
     "exception": false,
     "start_time": "2022-07-28T15:06:13.903707",
     "status": "completed"
    },
    "tags": []
   },
   "outputs": [
    {
     "data": {
      "text/plain": [
       "3.2295696646823373"
      ]
     },
     "execution_count": 26,
     "metadata": {},
     "output_type": "execute_result"
    }
   ],
   "source": [
    "ypred_test = another_regression_tree.predict(xtest)\n",
    "mean_absolute_error(ytest, ypred_test)"
   ]
  },
  {
   "cell_type": "markdown",
   "id": "2e451067",
   "metadata": {
    "papermill": {
     "duration": 0.06884,
     "end_time": "2022-07-28T15:06:14.119211",
     "exception": false,
     "start_time": "2022-07-28T15:06:14.050371",
     "status": "completed"
    },
    "tags": []
   },
   "source": [
    "We can see that the training error increased because the tree isn't perfectly fit to the training data now, but the testing results are better."
   ]
  },
  {
   "cell_type": "markdown",
   "id": "d7324088",
   "metadata": {
    "papermill": {
     "duration": 0.068028,
     "end_time": "2022-07-28T15:06:14.256078",
     "exception": false,
     "start_time": "2022-07-28T15:06:14.188050",
     "status": "completed"
    },
    "tags": []
   },
   "source": [
    "# Classification"
   ]
  },
  {
   "cell_type": "markdown",
   "id": "309971d6",
   "metadata": {
    "papermill": {
     "duration": 0.068481,
     "end_time": "2022-07-28T15:06:14.393714",
     "exception": false,
     "start_time": "2022-07-28T15:06:14.325233",
     "status": "completed"
    },
    "tags": []
   },
   "source": [
    "In this section we will build models that aim to predict whether a client is satisfied or neutral/dissatisfied.  \n",
    "The following is preprocessing and exploratory analysis. It isn't very commented since it isn't the focus point of this tutorial."
   ]
  },
  {
   "cell_type": "code",
   "execution_count": 27,
   "id": "6f5068bc",
   "metadata": {
    "execution": {
     "iopub.execute_input": "2022-07-28T15:06:14.534486Z",
     "iopub.status.busy": "2022-07-28T15:06:14.533951Z",
     "iopub.status.idle": "2022-07-28T15:06:14.961152Z",
     "shell.execute_reply": "2022-07-28T15:06:14.961766Z",
     "shell.execute_reply.started": "2022-07-28T14:55:23.695219Z"
    },
    "papermill": {
     "duration": 0.500117,
     "end_time": "2022-07-28T15:06:14.961969",
     "exception": false,
     "start_time": "2022-07-28T15:06:14.461852",
     "status": "completed"
    },
    "tags": []
   },
   "outputs": [],
   "source": [
    "train=pd.read_csv(\"../input/airline-passenger-satisfaction/train.csv\")\n",
    "test=pd.read_csv(\"../input/airline-passenger-satisfaction/test.csv\")"
   ]
  },
  {
   "cell_type": "code",
   "execution_count": 28,
   "id": "bd03274d",
   "metadata": {
    "execution": {
     "iopub.execute_input": "2022-07-28T15:06:15.121679Z",
     "iopub.status.busy": "2022-07-28T15:06:15.120489Z",
     "iopub.status.idle": "2022-07-28T15:06:15.124092Z",
     "shell.execute_reply": "2022-07-28T15:06:15.123635Z",
     "shell.execute_reply.started": "2022-07-28T14:55:24.062787Z"
    },
    "papermill": {
     "duration": 0.079065,
     "end_time": "2022-07-28T15:06:15.124211",
     "exception": false,
     "start_time": "2022-07-28T15:06:15.045146",
     "status": "completed"
    },
    "tags": []
   },
   "outputs": [
    {
     "data": {
      "text/plain": [
       "['Unnamed: 0',\n",
       " 'id',\n",
       " 'Gender',\n",
       " 'Customer Type',\n",
       " 'Age',\n",
       " 'Type of Travel',\n",
       " 'Class',\n",
       " 'Flight Distance',\n",
       " 'Inflight wifi service',\n",
       " 'Departure/Arrival time convenient',\n",
       " 'Ease of Online booking',\n",
       " 'Gate location',\n",
       " 'Food and drink',\n",
       " 'Online boarding',\n",
       " 'Seat comfort',\n",
       " 'Inflight entertainment',\n",
       " 'On-board service',\n",
       " 'Leg room service',\n",
       " 'Baggage handling',\n",
       " 'Checkin service',\n",
       " 'Inflight service',\n",
       " 'Cleanliness',\n",
       " 'Departure Delay in Minutes',\n",
       " 'Arrival Delay in Minutes',\n",
       " 'satisfaction']"
      ]
     },
     "execution_count": 28,
     "metadata": {},
     "output_type": "execute_result"
    }
   ],
   "source": [
    "list(train.columns)"
   ]
  },
  {
   "cell_type": "code",
   "execution_count": 29,
   "id": "da47340d",
   "metadata": {
    "execution": {
     "iopub.execute_input": "2022-07-28T15:06:15.267832Z",
     "iopub.status.busy": "2022-07-28T15:06:15.266993Z",
     "iopub.status.idle": "2022-07-28T15:06:15.283848Z",
     "shell.execute_reply": "2022-07-28T15:06:15.284336Z",
     "shell.execute_reply.started": "2022-07-28T14:55:24.071569Z"
    },
    "papermill": {
     "duration": 0.090657,
     "end_time": "2022-07-28T15:06:15.284469",
     "exception": false,
     "start_time": "2022-07-28T15:06:15.193812",
     "status": "completed"
    },
    "tags": []
   },
   "outputs": [
    {
     "data": {
      "text/html": [
       "<div>\n",
       "<style scoped>\n",
       "    .dataframe tbody tr th:only-of-type {\n",
       "        vertical-align: middle;\n",
       "    }\n",
       "\n",
       "    .dataframe tbody tr th {\n",
       "        vertical-align: top;\n",
       "    }\n",
       "\n",
       "    .dataframe thead th {\n",
       "        text-align: right;\n",
       "    }\n",
       "</style>\n",
       "<table border=\"1\" class=\"dataframe\">\n",
       "  <thead>\n",
       "    <tr style=\"text-align: right;\">\n",
       "      <th></th>\n",
       "      <th>Unnamed: 0</th>\n",
       "      <th>id</th>\n",
       "      <th>Gender</th>\n",
       "      <th>Customer Type</th>\n",
       "      <th>Age</th>\n",
       "      <th>Type of Travel</th>\n",
       "      <th>Class</th>\n",
       "      <th>Flight Distance</th>\n",
       "      <th>Inflight wifi service</th>\n",
       "      <th>Departure/Arrival time convenient</th>\n",
       "      <th>...</th>\n",
       "      <th>Inflight entertainment</th>\n",
       "      <th>On-board service</th>\n",
       "      <th>Leg room service</th>\n",
       "      <th>Baggage handling</th>\n",
       "      <th>Checkin service</th>\n",
       "      <th>Inflight service</th>\n",
       "      <th>Cleanliness</th>\n",
       "      <th>Departure Delay in Minutes</th>\n",
       "      <th>Arrival Delay in Minutes</th>\n",
       "      <th>satisfaction</th>\n",
       "    </tr>\n",
       "  </thead>\n",
       "  <tbody>\n",
       "    <tr>\n",
       "      <th>0</th>\n",
       "      <td>0</td>\n",
       "      <td>70172</td>\n",
       "      <td>Male</td>\n",
       "      <td>Loyal Customer</td>\n",
       "      <td>13</td>\n",
       "      <td>Personal Travel</td>\n",
       "      <td>Eco Plus</td>\n",
       "      <td>460</td>\n",
       "      <td>3</td>\n",
       "      <td>4</td>\n",
       "      <td>...</td>\n",
       "      <td>5</td>\n",
       "      <td>4</td>\n",
       "      <td>3</td>\n",
       "      <td>4</td>\n",
       "      <td>4</td>\n",
       "      <td>5</td>\n",
       "      <td>5</td>\n",
       "      <td>25</td>\n",
       "      <td>18.0</td>\n",
       "      <td>neutral or dissatisfied</td>\n",
       "    </tr>\n",
       "    <tr>\n",
       "      <th>1</th>\n",
       "      <td>1</td>\n",
       "      <td>5047</td>\n",
       "      <td>Male</td>\n",
       "      <td>disloyal Customer</td>\n",
       "      <td>25</td>\n",
       "      <td>Business travel</td>\n",
       "      <td>Business</td>\n",
       "      <td>235</td>\n",
       "      <td>3</td>\n",
       "      <td>2</td>\n",
       "      <td>...</td>\n",
       "      <td>1</td>\n",
       "      <td>1</td>\n",
       "      <td>5</td>\n",
       "      <td>3</td>\n",
       "      <td>1</td>\n",
       "      <td>4</td>\n",
       "      <td>1</td>\n",
       "      <td>1</td>\n",
       "      <td>6.0</td>\n",
       "      <td>neutral or dissatisfied</td>\n",
       "    </tr>\n",
       "    <tr>\n",
       "      <th>2</th>\n",
       "      <td>2</td>\n",
       "      <td>110028</td>\n",
       "      <td>Female</td>\n",
       "      <td>Loyal Customer</td>\n",
       "      <td>26</td>\n",
       "      <td>Business travel</td>\n",
       "      <td>Business</td>\n",
       "      <td>1142</td>\n",
       "      <td>2</td>\n",
       "      <td>2</td>\n",
       "      <td>...</td>\n",
       "      <td>5</td>\n",
       "      <td>4</td>\n",
       "      <td>3</td>\n",
       "      <td>4</td>\n",
       "      <td>4</td>\n",
       "      <td>4</td>\n",
       "      <td>5</td>\n",
       "      <td>0</td>\n",
       "      <td>0.0</td>\n",
       "      <td>satisfied</td>\n",
       "    </tr>\n",
       "    <tr>\n",
       "      <th>3</th>\n",
       "      <td>3</td>\n",
       "      <td>24026</td>\n",
       "      <td>Female</td>\n",
       "      <td>Loyal Customer</td>\n",
       "      <td>25</td>\n",
       "      <td>Business travel</td>\n",
       "      <td>Business</td>\n",
       "      <td>562</td>\n",
       "      <td>2</td>\n",
       "      <td>5</td>\n",
       "      <td>...</td>\n",
       "      <td>2</td>\n",
       "      <td>2</td>\n",
       "      <td>5</td>\n",
       "      <td>3</td>\n",
       "      <td>1</td>\n",
       "      <td>4</td>\n",
       "      <td>2</td>\n",
       "      <td>11</td>\n",
       "      <td>9.0</td>\n",
       "      <td>neutral or dissatisfied</td>\n",
       "    </tr>\n",
       "    <tr>\n",
       "      <th>4</th>\n",
       "      <td>4</td>\n",
       "      <td>119299</td>\n",
       "      <td>Male</td>\n",
       "      <td>Loyal Customer</td>\n",
       "      <td>61</td>\n",
       "      <td>Business travel</td>\n",
       "      <td>Business</td>\n",
       "      <td>214</td>\n",
       "      <td>3</td>\n",
       "      <td>3</td>\n",
       "      <td>...</td>\n",
       "      <td>3</td>\n",
       "      <td>3</td>\n",
       "      <td>4</td>\n",
       "      <td>4</td>\n",
       "      <td>3</td>\n",
       "      <td>3</td>\n",
       "      <td>3</td>\n",
       "      <td>0</td>\n",
       "      <td>0.0</td>\n",
       "      <td>satisfied</td>\n",
       "    </tr>\n",
       "  </tbody>\n",
       "</table>\n",
       "<p>5 rows × 25 columns</p>\n",
       "</div>"
      ],
      "text/plain": [
       "   Unnamed: 0      id  Gender      Customer Type  Age   Type of Travel  \\\n",
       "0           0   70172    Male     Loyal Customer   13  Personal Travel   \n",
       "1           1    5047    Male  disloyal Customer   25  Business travel   \n",
       "2           2  110028  Female     Loyal Customer   26  Business travel   \n",
       "3           3   24026  Female     Loyal Customer   25  Business travel   \n",
       "4           4  119299    Male     Loyal Customer   61  Business travel   \n",
       "\n",
       "      Class  Flight Distance  Inflight wifi service  \\\n",
       "0  Eco Plus              460                      3   \n",
       "1  Business              235                      3   \n",
       "2  Business             1142                      2   \n",
       "3  Business              562                      2   \n",
       "4  Business              214                      3   \n",
       "\n",
       "   Departure/Arrival time convenient  ...  Inflight entertainment  \\\n",
       "0                                  4  ...                       5   \n",
       "1                                  2  ...                       1   \n",
       "2                                  2  ...                       5   \n",
       "3                                  5  ...                       2   \n",
       "4                                  3  ...                       3   \n",
       "\n",
       "   On-board service  Leg room service  Baggage handling  Checkin service  \\\n",
       "0                 4                 3                 4                4   \n",
       "1                 1                 5                 3                1   \n",
       "2                 4                 3                 4                4   \n",
       "3                 2                 5                 3                1   \n",
       "4                 3                 4                 4                3   \n",
       "\n",
       "   Inflight service  Cleanliness  Departure Delay in Minutes  \\\n",
       "0                 5            5                          25   \n",
       "1                 4            1                           1   \n",
       "2                 4            5                           0   \n",
       "3                 4            2                          11   \n",
       "4                 3            3                           0   \n",
       "\n",
       "   Arrival Delay in Minutes             satisfaction  \n",
       "0                      18.0  neutral or dissatisfied  \n",
       "1                       6.0  neutral or dissatisfied  \n",
       "2                       0.0                satisfied  \n",
       "3                       9.0  neutral or dissatisfied  \n",
       "4                       0.0                satisfied  \n",
       "\n",
       "[5 rows x 25 columns]"
      ]
     },
     "execution_count": 29,
     "metadata": {},
     "output_type": "execute_result"
    }
   ],
   "source": [
    "train.head()"
   ]
  },
  {
   "cell_type": "code",
   "execution_count": 30,
   "id": "2c02f56c",
   "metadata": {
    "execution": {
     "iopub.execute_input": "2022-07-28T15:06:15.444309Z",
     "iopub.status.busy": "2022-07-28T15:06:15.431705Z",
     "iopub.status.idle": "2022-07-28T15:06:15.447085Z",
     "shell.execute_reply": "2022-07-28T15:06:15.447510Z",
     "shell.execute_reply.started": "2022-07-28T14:55:24.101501Z"
    },
    "papermill": {
     "duration": 0.092854,
     "end_time": "2022-07-28T15:06:15.447642",
     "exception": false,
     "start_time": "2022-07-28T15:06:15.354788",
     "status": "completed"
    },
    "tags": []
   },
   "outputs": [
    {
     "data": {
      "text/html": [
       "<div>\n",
       "<style scoped>\n",
       "    .dataframe tbody tr th:only-of-type {\n",
       "        vertical-align: middle;\n",
       "    }\n",
       "\n",
       "    .dataframe tbody tr th {\n",
       "        vertical-align: top;\n",
       "    }\n",
       "\n",
       "    .dataframe thead th {\n",
       "        text-align: right;\n",
       "    }\n",
       "</style>\n",
       "<table border=\"1\" class=\"dataframe\">\n",
       "  <thead>\n",
       "    <tr style=\"text-align: right;\">\n",
       "      <th></th>\n",
       "      <th>Unnamed: 0</th>\n",
       "      <th>id</th>\n",
       "      <th>Gender</th>\n",
       "      <th>Customer Type</th>\n",
       "      <th>Age</th>\n",
       "      <th>Type of Travel</th>\n",
       "      <th>Class</th>\n",
       "      <th>Flight Distance</th>\n",
       "      <th>Inflight wifi service</th>\n",
       "      <th>Departure/Arrival time convenient</th>\n",
       "      <th>...</th>\n",
       "      <th>Inflight entertainment</th>\n",
       "      <th>On-board service</th>\n",
       "      <th>Leg room service</th>\n",
       "      <th>Baggage handling</th>\n",
       "      <th>Checkin service</th>\n",
       "      <th>Inflight service</th>\n",
       "      <th>Cleanliness</th>\n",
       "      <th>Departure Delay in Minutes</th>\n",
       "      <th>Arrival Delay in Minutes</th>\n",
       "      <th>satisfaction</th>\n",
       "    </tr>\n",
       "  </thead>\n",
       "  <tbody>\n",
       "    <tr>\n",
       "      <th>0</th>\n",
       "      <td>0</td>\n",
       "      <td>19556</td>\n",
       "      <td>Female</td>\n",
       "      <td>Loyal Customer</td>\n",
       "      <td>52</td>\n",
       "      <td>Business travel</td>\n",
       "      <td>Eco</td>\n",
       "      <td>160</td>\n",
       "      <td>5</td>\n",
       "      <td>4</td>\n",
       "      <td>...</td>\n",
       "      <td>5</td>\n",
       "      <td>5</td>\n",
       "      <td>5</td>\n",
       "      <td>5</td>\n",
       "      <td>2</td>\n",
       "      <td>5</td>\n",
       "      <td>5</td>\n",
       "      <td>50</td>\n",
       "      <td>44.0</td>\n",
       "      <td>satisfied</td>\n",
       "    </tr>\n",
       "    <tr>\n",
       "      <th>1</th>\n",
       "      <td>1</td>\n",
       "      <td>90035</td>\n",
       "      <td>Female</td>\n",
       "      <td>Loyal Customer</td>\n",
       "      <td>36</td>\n",
       "      <td>Business travel</td>\n",
       "      <td>Business</td>\n",
       "      <td>2863</td>\n",
       "      <td>1</td>\n",
       "      <td>1</td>\n",
       "      <td>...</td>\n",
       "      <td>4</td>\n",
       "      <td>4</td>\n",
       "      <td>4</td>\n",
       "      <td>4</td>\n",
       "      <td>3</td>\n",
       "      <td>4</td>\n",
       "      <td>5</td>\n",
       "      <td>0</td>\n",
       "      <td>0.0</td>\n",
       "      <td>satisfied</td>\n",
       "    </tr>\n",
       "    <tr>\n",
       "      <th>2</th>\n",
       "      <td>2</td>\n",
       "      <td>12360</td>\n",
       "      <td>Male</td>\n",
       "      <td>disloyal Customer</td>\n",
       "      <td>20</td>\n",
       "      <td>Business travel</td>\n",
       "      <td>Eco</td>\n",
       "      <td>192</td>\n",
       "      <td>2</td>\n",
       "      <td>0</td>\n",
       "      <td>...</td>\n",
       "      <td>2</td>\n",
       "      <td>4</td>\n",
       "      <td>1</td>\n",
       "      <td>3</td>\n",
       "      <td>2</td>\n",
       "      <td>2</td>\n",
       "      <td>2</td>\n",
       "      <td>0</td>\n",
       "      <td>0.0</td>\n",
       "      <td>neutral or dissatisfied</td>\n",
       "    </tr>\n",
       "    <tr>\n",
       "      <th>3</th>\n",
       "      <td>3</td>\n",
       "      <td>77959</td>\n",
       "      <td>Male</td>\n",
       "      <td>Loyal Customer</td>\n",
       "      <td>44</td>\n",
       "      <td>Business travel</td>\n",
       "      <td>Business</td>\n",
       "      <td>3377</td>\n",
       "      <td>0</td>\n",
       "      <td>0</td>\n",
       "      <td>...</td>\n",
       "      <td>1</td>\n",
       "      <td>1</td>\n",
       "      <td>1</td>\n",
       "      <td>1</td>\n",
       "      <td>3</td>\n",
       "      <td>1</td>\n",
       "      <td>4</td>\n",
       "      <td>0</td>\n",
       "      <td>6.0</td>\n",
       "      <td>satisfied</td>\n",
       "    </tr>\n",
       "    <tr>\n",
       "      <th>4</th>\n",
       "      <td>4</td>\n",
       "      <td>36875</td>\n",
       "      <td>Female</td>\n",
       "      <td>Loyal Customer</td>\n",
       "      <td>49</td>\n",
       "      <td>Business travel</td>\n",
       "      <td>Eco</td>\n",
       "      <td>1182</td>\n",
       "      <td>2</td>\n",
       "      <td>3</td>\n",
       "      <td>...</td>\n",
       "      <td>2</td>\n",
       "      <td>2</td>\n",
       "      <td>2</td>\n",
       "      <td>2</td>\n",
       "      <td>4</td>\n",
       "      <td>2</td>\n",
       "      <td>4</td>\n",
       "      <td>0</td>\n",
       "      <td>20.0</td>\n",
       "      <td>satisfied</td>\n",
       "    </tr>\n",
       "  </tbody>\n",
       "</table>\n",
       "<p>5 rows × 25 columns</p>\n",
       "</div>"
      ],
      "text/plain": [
       "   Unnamed: 0     id  Gender      Customer Type  Age   Type of Travel  \\\n",
       "0           0  19556  Female     Loyal Customer   52  Business travel   \n",
       "1           1  90035  Female     Loyal Customer   36  Business travel   \n",
       "2           2  12360    Male  disloyal Customer   20  Business travel   \n",
       "3           3  77959    Male     Loyal Customer   44  Business travel   \n",
       "4           4  36875  Female     Loyal Customer   49  Business travel   \n",
       "\n",
       "      Class  Flight Distance  Inflight wifi service  \\\n",
       "0       Eco              160                      5   \n",
       "1  Business             2863                      1   \n",
       "2       Eco              192                      2   \n",
       "3  Business             3377                      0   \n",
       "4       Eco             1182                      2   \n",
       "\n",
       "   Departure/Arrival time convenient  ...  Inflight entertainment  \\\n",
       "0                                  4  ...                       5   \n",
       "1                                  1  ...                       4   \n",
       "2                                  0  ...                       2   \n",
       "3                                  0  ...                       1   \n",
       "4                                  3  ...                       2   \n",
       "\n",
       "   On-board service  Leg room service  Baggage handling  Checkin service  \\\n",
       "0                 5                 5                 5                2   \n",
       "1                 4                 4                 4                3   \n",
       "2                 4                 1                 3                2   \n",
       "3                 1                 1                 1                3   \n",
       "4                 2                 2                 2                4   \n",
       "\n",
       "   Inflight service  Cleanliness  Departure Delay in Minutes  \\\n",
       "0                 5            5                          50   \n",
       "1                 4            5                           0   \n",
       "2                 2            2                           0   \n",
       "3                 1            4                           0   \n",
       "4                 2            4                           0   \n",
       "\n",
       "   Arrival Delay in Minutes             satisfaction  \n",
       "0                      44.0                satisfied  \n",
       "1                       0.0                satisfied  \n",
       "2                       0.0  neutral or dissatisfied  \n",
       "3                       6.0                satisfied  \n",
       "4                      20.0                satisfied  \n",
       "\n",
       "[5 rows x 25 columns]"
      ]
     },
     "execution_count": 30,
     "metadata": {},
     "output_type": "execute_result"
    }
   ],
   "source": [
    "test.head()"
   ]
  },
  {
   "cell_type": "code",
   "execution_count": 31,
   "id": "b0058a88",
   "metadata": {
    "execution": {
     "iopub.execute_input": "2022-07-28T15:06:15.608895Z",
     "iopub.status.busy": "2022-07-28T15:06:15.607363Z",
     "iopub.status.idle": "2022-07-28T15:06:15.612108Z",
     "shell.execute_reply": "2022-07-28T15:06:15.611553Z",
     "shell.execute_reply.started": "2022-07-28T14:55:24.133182Z"
    },
    "papermill": {
     "duration": 0.092654,
     "end_time": "2022-07-28T15:06:15.612237",
     "exception": false,
     "start_time": "2022-07-28T15:06:15.519583",
     "status": "completed"
    },
    "tags": []
   },
   "outputs": [],
   "source": [
    "train.drop([\"Unnamed: 0\", \"id\"], axis=1, inplace=True)\n",
    "test.drop([\"Unnamed: 0\", \"id\"], axis=1, inplace=True)"
   ]
  },
  {
   "cell_type": "code",
   "execution_count": 32,
   "id": "af2859fc",
   "metadata": {
    "execution": {
     "iopub.execute_input": "2022-07-28T15:06:15.815918Z",
     "iopub.status.busy": "2022-07-28T15:06:15.815129Z",
     "iopub.status.idle": "2022-07-28T15:06:15.825363Z",
     "shell.execute_reply": "2022-07-28T15:06:15.824477Z",
     "shell.execute_reply.started": "2022-07-28T14:55:24.152134Z"
    },
    "papermill": {
     "duration": 0.1361,
     "end_time": "2022-07-28T15:06:15.825478",
     "exception": false,
     "start_time": "2022-07-28T15:06:15.689378",
     "status": "completed"
    },
    "tags": []
   },
   "outputs": [
    {
     "data": {
      "text/plain": [
       "Gender                                 0\n",
       "Customer Type                          0\n",
       "Age                                    0\n",
       "Type of Travel                         0\n",
       "Class                                  0\n",
       "Flight Distance                        0\n",
       "Inflight wifi service                  0\n",
       "Departure/Arrival time convenient      0\n",
       "Ease of Online booking                 0\n",
       "Gate location                          0\n",
       "Food and drink                         0\n",
       "Online boarding                        0\n",
       "Seat comfort                           0\n",
       "Inflight entertainment                 0\n",
       "On-board service                       0\n",
       "Leg room service                       0\n",
       "Baggage handling                       0\n",
       "Checkin service                        0\n",
       "Inflight service                       0\n",
       "Cleanliness                            0\n",
       "Departure Delay in Minutes             0\n",
       "Arrival Delay in Minutes             310\n",
       "satisfaction                           0\n",
       "dtype: int64"
      ]
     },
     "execution_count": 32,
     "metadata": {},
     "output_type": "execute_result"
    }
   ],
   "source": [
    "train.isna().sum()"
   ]
  },
  {
   "cell_type": "code",
   "execution_count": 33,
   "id": "32cb7055",
   "metadata": {
    "execution": {
     "iopub.execute_input": "2022-07-28T15:06:15.984251Z",
     "iopub.status.busy": "2022-07-28T15:06:15.983518Z",
     "iopub.status.idle": "2022-07-28T15:06:15.991424Z",
     "shell.execute_reply": "2022-07-28T15:06:15.990961Z",
     "shell.execute_reply.started": "2022-07-28T14:55:24.225542Z"
    },
    "papermill": {
     "duration": 0.094171,
     "end_time": "2022-07-28T15:06:15.991553",
     "exception": false,
     "start_time": "2022-07-28T15:06:15.897382",
     "status": "completed"
    },
    "tags": []
   },
   "outputs": [
    {
     "data": {
      "text/plain": [
       "Gender                                0\n",
       "Customer Type                         0\n",
       "Age                                   0\n",
       "Type of Travel                        0\n",
       "Class                                 0\n",
       "Flight Distance                       0\n",
       "Inflight wifi service                 0\n",
       "Departure/Arrival time convenient     0\n",
       "Ease of Online booking                0\n",
       "Gate location                         0\n",
       "Food and drink                        0\n",
       "Online boarding                       0\n",
       "Seat comfort                          0\n",
       "Inflight entertainment                0\n",
       "On-board service                      0\n",
       "Leg room service                      0\n",
       "Baggage handling                      0\n",
       "Checkin service                       0\n",
       "Inflight service                      0\n",
       "Cleanliness                           0\n",
       "Departure Delay in Minutes            0\n",
       "Arrival Delay in Minutes             83\n",
       "satisfaction                          0\n",
       "dtype: int64"
      ]
     },
     "execution_count": 33,
     "metadata": {},
     "output_type": "execute_result"
    }
   ],
   "source": [
    "test.isna().sum()"
   ]
  },
  {
   "cell_type": "code",
   "execution_count": 34,
   "id": "8af0bfc3",
   "metadata": {
    "execution": {
     "iopub.execute_input": "2022-07-28T15:06:16.187815Z",
     "iopub.status.busy": "2022-07-28T15:06:16.186577Z",
     "iopub.status.idle": "2022-07-28T15:06:16.220757Z",
     "shell.execute_reply": "2022-07-28T15:06:16.220291Z",
     "shell.execute_reply.started": "2022-07-28T14:55:24.257703Z"
    },
    "papermill": {
     "duration": 0.158993,
     "end_time": "2022-07-28T15:06:16.220898",
     "exception": false,
     "start_time": "2022-07-28T15:06:16.061905",
     "status": "completed"
    },
    "tags": []
   },
   "outputs": [],
   "source": [
    "train.dropna(inplace=True)\n",
    "test.dropna(inplace=True)"
   ]
  },
  {
   "cell_type": "code",
   "execution_count": 35,
   "id": "a74af616",
   "metadata": {
    "execution": {
     "iopub.execute_input": "2022-07-28T15:06:16.417033Z",
     "iopub.status.busy": "2022-07-28T15:06:16.415883Z",
     "iopub.status.idle": "2022-07-28T15:06:16.430285Z",
     "shell.execute_reply": "2022-07-28T15:06:16.429853Z",
     "shell.execute_reply.started": "2022-07-28T14:55:24.356849Z"
    },
    "papermill": {
     "duration": 0.138342,
     "end_time": "2022-07-28T15:06:16.430406",
     "exception": false,
     "start_time": "2022-07-28T15:06:16.292064",
     "status": "completed"
    },
    "tags": []
   },
   "outputs": [
    {
     "name": "stdout",
     "output_type": "stream",
     "text": [
      "<class 'pandas.core.frame.DataFrame'>\n",
      "Int64Index: 103594 entries, 0 to 103903\n",
      "Data columns (total 23 columns):\n",
      " #   Column                             Non-Null Count   Dtype  \n",
      "---  ------                             --------------   -----  \n",
      " 0   Gender                             103594 non-null  object \n",
      " 1   Customer Type                      103594 non-null  object \n",
      " 2   Age                                103594 non-null  int64  \n",
      " 3   Type of Travel                     103594 non-null  object \n",
      " 4   Class                              103594 non-null  object \n",
      " 5   Flight Distance                    103594 non-null  int64  \n",
      " 6   Inflight wifi service              103594 non-null  int64  \n",
      " 7   Departure/Arrival time convenient  103594 non-null  int64  \n",
      " 8   Ease of Online booking             103594 non-null  int64  \n",
      " 9   Gate location                      103594 non-null  int64  \n",
      " 10  Food and drink                     103594 non-null  int64  \n",
      " 11  Online boarding                    103594 non-null  int64  \n",
      " 12  Seat comfort                       103594 non-null  int64  \n",
      " 13  Inflight entertainment             103594 non-null  int64  \n",
      " 14  On-board service                   103594 non-null  int64  \n",
      " 15  Leg room service                   103594 non-null  int64  \n",
      " 16  Baggage handling                   103594 non-null  int64  \n",
      " 17  Checkin service                    103594 non-null  int64  \n",
      " 18  Inflight service                   103594 non-null  int64  \n",
      " 19  Cleanliness                        103594 non-null  int64  \n",
      " 20  Departure Delay in Minutes         103594 non-null  int64  \n",
      " 21  Arrival Delay in Minutes           103594 non-null  float64\n",
      " 22  satisfaction                       103594 non-null  object \n",
      "dtypes: float64(1), int64(17), object(5)\n",
      "memory usage: 19.0+ MB\n"
     ]
    }
   ],
   "source": [
    "train.info()"
   ]
  },
  {
   "cell_type": "code",
   "execution_count": 36,
   "id": "119eedd0",
   "metadata": {
    "execution": {
     "iopub.execute_input": "2022-07-28T15:06:16.578904Z",
     "iopub.status.busy": "2022-07-28T15:06:16.578350Z",
     "iopub.status.idle": "2022-07-28T15:06:16.581531Z",
     "shell.execute_reply": "2022-07-28T15:06:16.581986Z",
     "shell.execute_reply.started": "2022-07-28T14:55:24.432697Z"
    },
    "papermill": {
     "duration": 0.079195,
     "end_time": "2022-07-28T15:06:16.582119",
     "exception": false,
     "start_time": "2022-07-28T15:06:16.502924",
     "status": "completed"
    },
    "tags": []
   },
   "outputs": [],
   "source": [
    "categoricals = ['Gender', 'Customer Type', 'Type of Travel', 'Class', 'satisfaction']"
   ]
  },
  {
   "cell_type": "code",
   "execution_count": 37,
   "id": "d280bc74",
   "metadata": {
    "execution": {
     "iopub.execute_input": "2022-07-28T15:06:16.863956Z",
     "iopub.status.busy": "2022-07-28T15:06:16.863100Z",
     "iopub.status.idle": "2022-07-28T15:06:16.953374Z",
     "shell.execute_reply": "2022-07-28T15:06:16.954327Z",
     "shell.execute_reply.started": "2022-07-28T14:55:24.439201Z"
    },
    "papermill": {
     "duration": 0.248974,
     "end_time": "2022-07-28T15:06:16.954552",
     "exception": false,
     "start_time": "2022-07-28T15:06:16.705578",
     "status": "completed"
    },
    "tags": []
   },
   "outputs": [
    {
     "name": "stdout",
     "output_type": "stream",
     "text": [
      "Female    52576\n",
      "Male      51018\n",
      "Name: Gender, dtype: int64\n",
      "\n",
      "\n",
      "Loyal Customer       84662\n",
      "disloyal Customer    18932\n",
      "Name: Customer Type, dtype: int64\n",
      "\n",
      "\n",
      "Business travel    71465\n",
      "Personal Travel    32129\n",
      "Name: Type of Travel, dtype: int64\n",
      "\n",
      "\n",
      "Business    49533\n",
      "Eco         46593\n",
      "Eco Plus     7468\n",
      "Name: Class, dtype: int64\n",
      "\n",
      "\n",
      "neutral or dissatisfied    58697\n",
      "satisfied                  44897\n",
      "Name: satisfaction, dtype: int64\n",
      "\n",
      "\n"
     ]
    }
   ],
   "source": [
    "for col in categoricals:\n",
    "    print(train[col].value_counts())\n",
    "    print(\"\\n\")"
   ]
  },
  {
   "cell_type": "code",
   "execution_count": 38,
   "id": "9b0b45e2",
   "metadata": {
    "execution": {
     "iopub.execute_input": "2022-07-28T15:06:17.229561Z",
     "iopub.status.busy": "2022-07-28T15:06:17.200496Z",
     "iopub.status.idle": "2022-07-28T15:06:17.475619Z",
     "shell.execute_reply": "2022-07-28T15:06:17.476678Z",
     "shell.execute_reply.started": "2022-07-28T14:55:24.535101Z"
    },
    "papermill": {
     "duration": 0.404515,
     "end_time": "2022-07-28T15:06:17.476932",
     "exception": false,
     "start_time": "2022-07-28T15:06:17.072417",
     "status": "completed"
    },
    "tags": []
   },
   "outputs": [
    {
     "data": {
      "image/png": "[encoded data removed]",
      "text/plain": [
       "<Figure size 432x288 with 1 Axes>"
      ]
     },
     "metadata": {},
     "output_type": "display_data"
    }
   ],
   "source": [
    "sns.countplot(x=train[\"satisfaction\"])\n",
    "plt.show()"
   ]
  },
  {
   "cell_type": "code",
   "execution_count": 39,
   "id": "1f0561d0",
   "metadata": {
    "execution": {
     "iopub.execute_input": "2022-07-28T15:06:17.630397Z",
     "iopub.status.busy": "2022-07-28T15:06:17.629581Z",
     "iopub.status.idle": "2022-07-28T15:06:17.903665Z",
     "shell.execute_reply": "2022-07-28T15:06:17.903094Z",
     "shell.execute_reply.started": "2022-07-28T14:55:24.791067Z"
    },
    "papermill": {
     "duration": 0.352514,
     "end_time": "2022-07-28T15:06:17.903805",
     "exception": false,
     "start_time": "2022-07-28T15:06:17.551291",
     "status": "completed"
    },
    "tags": []
   },
   "outputs": [
    {
     "data": {
      "image/png": "[encoded data removed]",
      "text/plain": [
       "<Figure size 1440x504 with 2 Axes>"
      ]
     },
     "metadata": {},
     "output_type": "display_data"
    }
   ],
   "source": [
    "plt.figure(figsize=(20,7))\n",
    "sns.heatmap(pd.crosstab(train[\"Class\"], train[\"satisfaction\"], normalize=\"index\"),\n",
    "            annot = True, cmap=\"Blues\", fmt=\".2f\", annot_kws={\"fontsize\":20})\n",
    "plt.show()"
   ]
  },
  {
   "cell_type": "markdown",
   "id": "6f791efb",
   "metadata": {
    "papermill": {
     "duration": 0.075049,
     "end_time": "2022-07-28T15:06:18.052500",
     "exception": false,
     "start_time": "2022-07-28T15:06:17.977451",
     "status": "completed"
    },
    "tags": []
   },
   "source": [
    "I've decided to encode \"Class\" labels/values based on their relationship with satisfaction:"
   ]
  },
  {
   "cell_type": "code",
   "execution_count": 40,
   "id": "29671115",
   "metadata": {
    "execution": {
     "iopub.execute_input": "2022-07-28T15:06:18.216523Z",
     "iopub.status.busy": "2022-07-28T15:06:18.215453Z",
     "iopub.status.idle": "2022-07-28T15:06:18.224357Z",
     "shell.execute_reply": "2022-07-28T15:06:18.224846Z",
     "shell.execute_reply.started": "2022-07-28T14:55:25.059225Z"
    },
    "papermill": {
     "duration": 0.098987,
     "end_time": "2022-07-28T15:06:18.224986",
     "exception": false,
     "start_time": "2022-07-28T15:06:18.125999",
     "status": "completed"
    },
    "tags": []
   },
   "outputs": [],
   "source": [
    "train[\"Class\"] = train[\"Class\"].map({\"Eco\":0, \"Eco Plus\":1, \"Business\":2})\n",
    "test[\"Class\"] = test[\"Class\"].map({\"Eco\":0, \"Eco Plus\":1, \"Business\":2})"
   ]
  },
  {
   "cell_type": "code",
   "execution_count": 41,
   "id": "beb81067",
   "metadata": {
    "execution": {
     "iopub.execute_input": "2022-07-28T15:06:18.377927Z",
     "iopub.status.busy": "2022-07-28T15:06:18.376901Z",
     "iopub.status.idle": "2022-07-28T15:06:18.459730Z",
     "shell.execute_reply": "2022-07-28T15:06:18.458698Z",
     "shell.execute_reply.started": "2022-07-28T14:55:25.091514Z"
    },
    "papermill": {
     "duration": 0.162038,
     "end_time": "2022-07-28T15:06:18.459894",
     "exception": false,
     "start_time": "2022-07-28T15:06:18.297856",
     "status": "completed"
    },
    "tags": []
   },
   "outputs": [],
   "source": [
    "train = pd.get_dummies(train, drop_first=True)\n",
    "test = pd.get_dummies(test, drop_first=True)"
   ]
  },
  {
   "cell_type": "code",
   "execution_count": 42,
   "id": "14a733c5",
   "metadata": {
    "execution": {
     "iopub.execute_input": "2022-07-28T15:06:18.626323Z",
     "iopub.status.busy": "2022-07-28T15:06:18.625600Z",
     "iopub.status.idle": "2022-07-28T15:06:18.628471Z",
     "shell.execute_reply": "2022-07-28T15:06:18.628892Z",
     "shell.execute_reply.started": "2022-07-28T14:55:25.195008Z"
    },
    "papermill": {
     "duration": 0.093347,
     "end_time": "2022-07-28T15:06:18.629028",
     "exception": false,
     "start_time": "2022-07-28T15:06:18.535681",
     "status": "completed"
    },
    "tags": []
   },
   "outputs": [
    {
     "data": {
      "text/html": [
       "<div>\n",
       "<style scoped>\n",
       "    .dataframe tbody tr th:only-of-type {\n",
       "        vertical-align: middle;\n",
       "    }\n",
       "\n",
       "    .dataframe tbody tr th {\n",
       "        vertical-align: top;\n",
       "    }\n",
       "\n",
       "    .dataframe thead th {\n",
       "        text-align: right;\n",
       "    }\n",
       "</style>\n",
       "<table border=\"1\" class=\"dataframe\">\n",
       "  <thead>\n",
       "    <tr style=\"text-align: right;\">\n",
       "      <th></th>\n",
       "      <th>Age</th>\n",
       "      <th>Class</th>\n",
       "      <th>Flight Distance</th>\n",
       "      <th>Inflight wifi service</th>\n",
       "      <th>Departure/Arrival time convenient</th>\n",
       "      <th>Ease of Online booking</th>\n",
       "      <th>Gate location</th>\n",
       "      <th>Food and drink</th>\n",
       "      <th>Online boarding</th>\n",
       "      <th>Seat comfort</th>\n",
       "      <th>...</th>\n",
       "      <th>Baggage handling</th>\n",
       "      <th>Checkin service</th>\n",
       "      <th>Inflight service</th>\n",
       "      <th>Cleanliness</th>\n",
       "      <th>Departure Delay in Minutes</th>\n",
       "      <th>Arrival Delay in Minutes</th>\n",
       "      <th>Gender_Male</th>\n",
       "      <th>Customer Type_disloyal Customer</th>\n",
       "      <th>Type of Travel_Personal Travel</th>\n",
       "      <th>satisfaction_satisfied</th>\n",
       "    </tr>\n",
       "  </thead>\n",
       "  <tbody>\n",
       "    <tr>\n",
       "      <th>0</th>\n",
       "      <td>13</td>\n",
       "      <td>1</td>\n",
       "      <td>460</td>\n",
       "      <td>3</td>\n",
       "      <td>4</td>\n",
       "      <td>3</td>\n",
       "      <td>1</td>\n",
       "      <td>5</td>\n",
       "      <td>3</td>\n",
       "      <td>5</td>\n",
       "      <td>...</td>\n",
       "      <td>4</td>\n",
       "      <td>4</td>\n",
       "      <td>5</td>\n",
       "      <td>5</td>\n",
       "      <td>25</td>\n",
       "      <td>18.0</td>\n",
       "      <td>1</td>\n",
       "      <td>0</td>\n",
       "      <td>1</td>\n",
       "      <td>0</td>\n",
       "    </tr>\n",
       "    <tr>\n",
       "      <th>1</th>\n",
       "      <td>25</td>\n",
       "      <td>2</td>\n",
       "      <td>235</td>\n",
       "      <td>3</td>\n",
       "      <td>2</td>\n",
       "      <td>3</td>\n",
       "      <td>3</td>\n",
       "      <td>1</td>\n",
       "      <td>3</td>\n",
       "      <td>1</td>\n",
       "      <td>...</td>\n",
       "      <td>3</td>\n",
       "      <td>1</td>\n",
       "      <td>4</td>\n",
       "      <td>1</td>\n",
       "      <td>1</td>\n",
       "      <td>6.0</td>\n",
       "      <td>1</td>\n",
       "      <td>1</td>\n",
       "      <td>0</td>\n",
       "      <td>0</td>\n",
       "    </tr>\n",
       "    <tr>\n",
       "      <th>2</th>\n",
       "      <td>26</td>\n",
       "      <td>2</td>\n",
       "      <td>1142</td>\n",
       "      <td>2</td>\n",
       "      <td>2</td>\n",
       "      <td>2</td>\n",
       "      <td>2</td>\n",
       "      <td>5</td>\n",
       "      <td>5</td>\n",
       "      <td>5</td>\n",
       "      <td>...</td>\n",
       "      <td>4</td>\n",
       "      <td>4</td>\n",
       "      <td>4</td>\n",
       "      <td>5</td>\n",
       "      <td>0</td>\n",
       "      <td>0.0</td>\n",
       "      <td>0</td>\n",
       "      <td>0</td>\n",
       "      <td>0</td>\n",
       "      <td>1</td>\n",
       "    </tr>\n",
       "    <tr>\n",
       "      <th>3</th>\n",
       "      <td>25</td>\n",
       "      <td>2</td>\n",
       "      <td>562</td>\n",
       "      <td>2</td>\n",
       "      <td>5</td>\n",
       "      <td>5</td>\n",
       "      <td>5</td>\n",
       "      <td>2</td>\n",
       "      <td>2</td>\n",
       "      <td>2</td>\n",
       "      <td>...</td>\n",
       "      <td>3</td>\n",
       "      <td>1</td>\n",
       "      <td>4</td>\n",
       "      <td>2</td>\n",
       "      <td>11</td>\n",
       "      <td>9.0</td>\n",
       "      <td>0</td>\n",
       "      <td>0</td>\n",
       "      <td>0</td>\n",
       "      <td>0</td>\n",
       "    </tr>\n",
       "    <tr>\n",
       "      <th>4</th>\n",
       "      <td>61</td>\n",
       "      <td>2</td>\n",
       "      <td>214</td>\n",
       "      <td>3</td>\n",
       "      <td>3</td>\n",
       "      <td>3</td>\n",
       "      <td>3</td>\n",
       "      <td>4</td>\n",
       "      <td>5</td>\n",
       "      <td>5</td>\n",
       "      <td>...</td>\n",
       "      <td>4</td>\n",
       "      <td>3</td>\n",
       "      <td>3</td>\n",
       "      <td>3</td>\n",
       "      <td>0</td>\n",
       "      <td>0.0</td>\n",
       "      <td>1</td>\n",
       "      <td>0</td>\n",
       "      <td>0</td>\n",
       "      <td>1</td>\n",
       "    </tr>\n",
       "  </tbody>\n",
       "</table>\n",
       "<p>5 rows × 23 columns</p>\n",
       "</div>"
      ],
      "text/plain": [
       "   Age  Class  Flight Distance  Inflight wifi service  \\\n",
       "0   13      1              460                      3   \n",
       "1   25      2              235                      3   \n",
       "2   26      2             1142                      2   \n",
       "3   25      2              562                      2   \n",
       "4   61      2              214                      3   \n",
       "\n",
       "   Departure/Arrival time convenient  Ease of Online booking  Gate location  \\\n",
       "0                                  4                       3              1   \n",
       "1                                  2                       3              3   \n",
       "2                                  2                       2              2   \n",
       "3                                  5                       5              5   \n",
       "4                                  3                       3              3   \n",
       "\n",
       "   Food and drink  Online boarding  Seat comfort  ...  Baggage handling  \\\n",
       "0               5                3             5  ...                 4   \n",
       "1               1                3             1  ...                 3   \n",
       "2               5                5             5  ...                 4   \n",
       "3               2                2             2  ...                 3   \n",
       "4               4                5             5  ...                 4   \n",
       "\n",
       "   Checkin service  Inflight service  Cleanliness  Departure Delay in Minutes  \\\n",
       "0                4                 5            5                          25   \n",
       "1                1                 4            1                           1   \n",
       "2                4                 4            5                           0   \n",
       "3                1                 4            2                          11   \n",
       "4                3                 3            3                           0   \n",
       "\n",
       "   Arrival Delay in Minutes  Gender_Male  Customer Type_disloyal Customer  \\\n",
       "0                      18.0            1                                0   \n",
       "1                       6.0            1                                1   \n",
       "2                       0.0            0                                0   \n",
       "3                       9.0            0                                0   \n",
       "4                       0.0            1                                0   \n",
       "\n",
       "   Type of Travel_Personal Travel  satisfaction_satisfied  \n",
       "0                               1                       0  \n",
       "1                               0                       0  \n",
       "2                               0                       1  \n",
       "3                               0                       0  \n",
       "4                               0                       1  \n",
       "\n",
       "[5 rows x 23 columns]"
      ]
     },
     "execution_count": 42,
     "metadata": {},
     "output_type": "execute_result"
    }
   ],
   "source": [
    "train.head()"
   ]
  },
  {
   "cell_type": "code",
   "execution_count": 43,
   "id": "a8b292bc",
   "metadata": {
    "execution": {
     "iopub.execute_input": "2022-07-28T15:06:18.784417Z",
     "iopub.status.busy": "2022-07-28T15:06:18.783430Z",
     "iopub.status.idle": "2022-07-28T15:06:18.794668Z",
     "shell.execute_reply": "2022-07-28T15:06:18.795219Z",
     "shell.execute_reply.started": "2022-07-28T14:55:25.221838Z"
    },
    "papermill": {
     "duration": 0.091478,
     "end_time": "2022-07-28T15:06:18.795365",
     "exception": false,
     "start_time": "2022-07-28T15:06:18.703887",
     "status": "completed"
    },
    "tags": []
   },
   "outputs": [],
   "source": [
    "target = \"satisfaction_satisfied\"\n",
    "xtrain, ytrain = train.drop(target, axis=1), train[target]\n",
    "xtest, ytest = test.drop(target, axis=1), test[target]"
   ]
  },
  {
   "cell_type": "code",
   "execution_count": 44,
   "id": "ed85bd1b",
   "metadata": {
    "execution": {
     "iopub.execute_input": "2022-07-28T15:06:18.950001Z",
     "iopub.status.busy": "2022-07-28T15:06:18.949201Z",
     "iopub.status.idle": "2022-07-28T15:06:18.964580Z",
     "shell.execute_reply": "2022-07-28T15:06:18.964991Z",
     "shell.execute_reply.started": "2022-07-28T14:55:25.237988Z"
    },
    "papermill": {
     "duration": 0.093758,
     "end_time": "2022-07-28T15:06:18.965138",
     "exception": false,
     "start_time": "2022-07-28T15:06:18.871380",
     "status": "completed"
    },
    "tags": []
   },
   "outputs": [
    {
     "data": {
      "text/html": [
       "<div>\n",
       "<style scoped>\n",
       "    .dataframe tbody tr th:only-of-type {\n",
       "        vertical-align: middle;\n",
       "    }\n",
       "\n",
       "    .dataframe tbody tr th {\n",
       "        vertical-align: top;\n",
       "    }\n",
       "\n",
       "    .dataframe thead th {\n",
       "        text-align: right;\n",
       "    }\n",
       "</style>\n",
       "<table border=\"1\" class=\"dataframe\">\n",
       "  <thead>\n",
       "    <tr style=\"text-align: right;\">\n",
       "      <th></th>\n",
       "      <th>Age</th>\n",
       "      <th>Class</th>\n",
       "      <th>Flight Distance</th>\n",
       "      <th>Inflight wifi service</th>\n",
       "      <th>Departure/Arrival time convenient</th>\n",
       "      <th>Ease of Online booking</th>\n",
       "      <th>Gate location</th>\n",
       "      <th>Food and drink</th>\n",
       "      <th>Online boarding</th>\n",
       "      <th>Seat comfort</th>\n",
       "      <th>...</th>\n",
       "      <th>Leg room service</th>\n",
       "      <th>Baggage handling</th>\n",
       "      <th>Checkin service</th>\n",
       "      <th>Inflight service</th>\n",
       "      <th>Cleanliness</th>\n",
       "      <th>Departure Delay in Minutes</th>\n",
       "      <th>Arrival Delay in Minutes</th>\n",
       "      <th>Gender_Male</th>\n",
       "      <th>Customer Type_disloyal Customer</th>\n",
       "      <th>Type of Travel_Personal Travel</th>\n",
       "    </tr>\n",
       "  </thead>\n",
       "  <tbody>\n",
       "    <tr>\n",
       "      <th>0</th>\n",
       "      <td>13</td>\n",
       "      <td>1</td>\n",
       "      <td>460</td>\n",
       "      <td>3</td>\n",
       "      <td>4</td>\n",
       "      <td>3</td>\n",
       "      <td>1</td>\n",
       "      <td>5</td>\n",
       "      <td>3</td>\n",
       "      <td>5</td>\n",
       "      <td>...</td>\n",
       "      <td>3</td>\n",
       "      <td>4</td>\n",
       "      <td>4</td>\n",
       "      <td>5</td>\n",
       "      <td>5</td>\n",
       "      <td>25</td>\n",
       "      <td>18.0</td>\n",
       "      <td>1</td>\n",
       "      <td>0</td>\n",
       "      <td>1</td>\n",
       "    </tr>\n",
       "    <tr>\n",
       "      <th>1</th>\n",
       "      <td>25</td>\n",
       "      <td>2</td>\n",
       "      <td>235</td>\n",
       "      <td>3</td>\n",
       "      <td>2</td>\n",
       "      <td>3</td>\n",
       "      <td>3</td>\n",
       "      <td>1</td>\n",
       "      <td>3</td>\n",
       "      <td>1</td>\n",
       "      <td>...</td>\n",
       "      <td>5</td>\n",
       "      <td>3</td>\n",
       "      <td>1</td>\n",
       "      <td>4</td>\n",
       "      <td>1</td>\n",
       "      <td>1</td>\n",
       "      <td>6.0</td>\n",
       "      <td>1</td>\n",
       "      <td>1</td>\n",
       "      <td>0</td>\n",
       "    </tr>\n",
       "    <tr>\n",
       "      <th>2</th>\n",
       "      <td>26</td>\n",
       "      <td>2</td>\n",
       "      <td>1142</td>\n",
       "      <td>2</td>\n",
       "      <td>2</td>\n",
       "      <td>2</td>\n",
       "      <td>2</td>\n",
       "      <td>5</td>\n",
       "      <td>5</td>\n",
       "      <td>5</td>\n",
       "      <td>...</td>\n",
       "      <td>3</td>\n",
       "      <td>4</td>\n",
       "      <td>4</td>\n",
       "      <td>4</td>\n",
       "      <td>5</td>\n",
       "      <td>0</td>\n",
       "      <td>0.0</td>\n",
       "      <td>0</td>\n",
       "      <td>0</td>\n",
       "      <td>0</td>\n",
       "    </tr>\n",
       "    <tr>\n",
       "      <th>3</th>\n",
       "      <td>25</td>\n",
       "      <td>2</td>\n",
       "      <td>562</td>\n",
       "      <td>2</td>\n",
       "      <td>5</td>\n",
       "      <td>5</td>\n",
       "      <td>5</td>\n",
       "      <td>2</td>\n",
       "      <td>2</td>\n",
       "      <td>2</td>\n",
       "      <td>...</td>\n",
       "      <td>5</td>\n",
       "      <td>3</td>\n",
       "      <td>1</td>\n",
       "      <td>4</td>\n",
       "      <td>2</td>\n",
       "      <td>11</td>\n",
       "      <td>9.0</td>\n",
       "      <td>0</td>\n",
       "      <td>0</td>\n",
       "      <td>0</td>\n",
       "    </tr>\n",
       "    <tr>\n",
       "      <th>4</th>\n",
       "      <td>61</td>\n",
       "      <td>2</td>\n",
       "      <td>214</td>\n",
       "      <td>3</td>\n",
       "      <td>3</td>\n",
       "      <td>3</td>\n",
       "      <td>3</td>\n",
       "      <td>4</td>\n",
       "      <td>5</td>\n",
       "      <td>5</td>\n",
       "      <td>...</td>\n",
       "      <td>4</td>\n",
       "      <td>4</td>\n",
       "      <td>3</td>\n",
       "      <td>3</td>\n",
       "      <td>3</td>\n",
       "      <td>0</td>\n",
       "      <td>0.0</td>\n",
       "      <td>1</td>\n",
       "      <td>0</td>\n",
       "      <td>0</td>\n",
       "    </tr>\n",
       "  </tbody>\n",
       "</table>\n",
       "<p>5 rows × 22 columns</p>\n",
       "</div>"
      ],
      "text/plain": [
       "   Age  Class  Flight Distance  Inflight wifi service  \\\n",
       "0   13      1              460                      3   \n",
       "1   25      2              235                      3   \n",
       "2   26      2             1142                      2   \n",
       "3   25      2              562                      2   \n",
       "4   61      2              214                      3   \n",
       "\n",
       "   Departure/Arrival time convenient  Ease of Online booking  Gate location  \\\n",
       "0                                  4                       3              1   \n",
       "1                                  2                       3              3   \n",
       "2                                  2                       2              2   \n",
       "3                                  5                       5              5   \n",
       "4                                  3                       3              3   \n",
       "\n",
       "   Food and drink  Online boarding  Seat comfort  ...  Leg room service  \\\n",
       "0               5                3             5  ...                 3   \n",
       "1               1                3             1  ...                 5   \n",
       "2               5                5             5  ...                 3   \n",
       "3               2                2             2  ...                 5   \n",
       "4               4                5             5  ...                 4   \n",
       "\n",
       "   Baggage handling  Checkin service  Inflight service  Cleanliness  \\\n",
       "0                 4                4                 5            5   \n",
       "1                 3                1                 4            1   \n",
       "2                 4                4                 4            5   \n",
       "3                 3                1                 4            2   \n",
       "4                 4                3                 3            3   \n",
       "\n",
       "   Departure Delay in Minutes  Arrival Delay in Minutes  Gender_Male  \\\n",
       "0                          25                      18.0            1   \n",
       "1                           1                       6.0            1   \n",
       "2                           0                       0.0            0   \n",
       "3                          11                       9.0            0   \n",
       "4                           0                       0.0            1   \n",
       "\n",
       "   Customer Type_disloyal Customer  Type of Travel_Personal Travel  \n",
       "0                                0                               1  \n",
       "1                                1                               0  \n",
       "2                                0                               0  \n",
       "3                                0                               0  \n",
       "4                                0                               0  \n",
       "\n",
       "[5 rows x 22 columns]"
      ]
     },
     "execution_count": 44,
     "metadata": {},
     "output_type": "execute_result"
    }
   ],
   "source": [
    "xtrain.head()"
   ]
  },
  {
   "cell_type": "code",
   "execution_count": 45,
   "id": "7faf5504",
   "metadata": {
    "execution": {
     "iopub.execute_input": "2022-07-28T15:06:19.125550Z",
     "iopub.status.busy": "2022-07-28T15:06:19.124889Z",
     "iopub.status.idle": "2022-07-28T15:06:19.127425Z",
     "shell.execute_reply": "2022-07-28T15:06:19.127860Z",
     "shell.execute_reply.started": "2022-07-28T14:55:25.261513Z"
    },
    "papermill": {
     "duration": 0.084071,
     "end_time": "2022-07-28T15:06:19.127995",
     "exception": false,
     "start_time": "2022-07-28T15:06:19.043924",
     "status": "completed"
    },
    "tags": []
   },
   "outputs": [
    {
     "data": {
      "text/plain": [
       "0    0\n",
       "1    0\n",
       "2    1\n",
       "3    0\n",
       "4    1\n",
       "Name: satisfaction_satisfied, dtype: uint8"
      ]
     },
     "execution_count": 45,
     "metadata": {},
     "output_type": "execute_result"
    }
   ],
   "source": [
    "ytrain.head()"
   ]
  },
  {
   "cell_type": "code",
   "execution_count": 46,
   "id": "b0ca41ab",
   "metadata": {
    "execution": {
     "iopub.execute_input": "2022-07-28T15:06:19.287461Z",
     "iopub.status.busy": "2022-07-28T15:06:19.286357Z",
     "iopub.status.idle": "2022-07-28T15:06:19.342967Z",
     "shell.execute_reply": "2022-07-28T15:06:19.342399Z",
     "shell.execute_reply.started": "2022-07-28T14:55:25.269316Z"
    },
    "papermill": {
     "duration": 0.138042,
     "end_time": "2022-07-28T15:06:19.343108",
     "exception": false,
     "start_time": "2022-07-28T15:06:19.205066",
     "status": "completed"
    },
    "tags": []
   },
   "outputs": [],
   "source": [
    "from sklearn.preprocessing import StandardScaler\n",
    "ss = StandardScaler()\n",
    "\n",
    "xtrain_array = ss.fit_transform(xtrain)\n",
    "xtrain = pd.DataFrame(xtrain_array, columns=xtrain.columns)\n",
    "\n",
    "xtest_array = ss.transform(xtest)\n",
    "xtest = pd.DataFrame(xtest_array, columns=xtrain.columns)"
   ]
  },
  {
   "cell_type": "code",
   "execution_count": 47,
   "id": "35d59680",
   "metadata": {
    "execution": {
     "iopub.execute_input": "2022-07-28T15:06:19.516599Z",
     "iopub.status.busy": "2022-07-28T15:06:19.513793Z",
     "iopub.status.idle": "2022-07-28T15:06:19.518731Z",
     "shell.execute_reply": "2022-07-28T15:06:19.519256Z",
     "shell.execute_reply.started": "2022-07-28T14:55:25.337271Z"
    },
    "papermill": {
     "duration": 0.099881,
     "end_time": "2022-07-28T15:06:19.519390",
     "exception": false,
     "start_time": "2022-07-28T15:06:19.419509",
     "status": "completed"
    },
    "tags": []
   },
   "outputs": [
    {
     "data": {
      "text/html": [
       "<div>\n",
       "<style scoped>\n",
       "    .dataframe tbody tr th:only-of-type {\n",
       "        vertical-align: middle;\n",
       "    }\n",
       "\n",
       "    .dataframe tbody tr th {\n",
       "        vertical-align: top;\n",
       "    }\n",
       "\n",
       "    .dataframe thead th {\n",
       "        text-align: right;\n",
       "    }\n",
       "</style>\n",
       "<table border=\"1\" class=\"dataframe\">\n",
       "  <thead>\n",
       "    <tr style=\"text-align: right;\">\n",
       "      <th></th>\n",
       "      <th>Age</th>\n",
       "      <th>Class</th>\n",
       "      <th>Flight Distance</th>\n",
       "      <th>Inflight wifi service</th>\n",
       "      <th>Departure/Arrival time convenient</th>\n",
       "      <th>Ease of Online booking</th>\n",
       "      <th>Gate location</th>\n",
       "      <th>Food and drink</th>\n",
       "      <th>Online boarding</th>\n",
       "      <th>Seat comfort</th>\n",
       "      <th>...</th>\n",
       "      <th>Leg room service</th>\n",
       "      <th>Baggage handling</th>\n",
       "      <th>Checkin service</th>\n",
       "      <th>Inflight service</th>\n",
       "      <th>Cleanliness</th>\n",
       "      <th>Departure Delay in Minutes</th>\n",
       "      <th>Arrival Delay in Minutes</th>\n",
       "      <th>Gender_Male</th>\n",
       "      <th>Customer Type_disloyal Customer</th>\n",
       "      <th>Type of Travel_Personal Travel</th>\n",
       "    </tr>\n",
       "  </thead>\n",
       "  <tbody>\n",
       "    <tr>\n",
       "      <th>0</th>\n",
       "      <td>-1.745542</td>\n",
       "      <td>-0.029475</td>\n",
       "      <td>-0.731305</td>\n",
       "      <td>0.203521</td>\n",
       "      <td>0.616249</td>\n",
       "      <td>0.173716</td>\n",
       "      <td>-1.547312</td>\n",
       "      <td>1.352401</td>\n",
       "      <td>-0.185632</td>\n",
       "      <td>1.182991</td>\n",
       "      <td>...</td>\n",
       "      <td>-0.267143</td>\n",
       "      <td>0.311853</td>\n",
       "      <td>0.549773</td>\n",
       "      <td>1.156211</td>\n",
       "      <td>1.305913</td>\n",
       "      <td>0.268966</td>\n",
       "      <td>0.072905</td>\n",
       "      <td>1.015154</td>\n",
       "      <td>-0.472883</td>\n",
       "      <td>1.491414</td>\n",
       "    </tr>\n",
       "    <tr>\n",
       "      <th>1</th>\n",
       "      <td>-0.951526</td>\n",
       "      <td>1.009095</td>\n",
       "      <td>-0.956916</td>\n",
       "      <td>0.203521</td>\n",
       "      <td>-0.695032</td>\n",
       "      <td>0.173716</td>\n",
       "      <td>0.017981</td>\n",
       "      <td>-1.656487</td>\n",
       "      <td>-0.185632</td>\n",
       "      <td>-1.849863</td>\n",
       "      <td>...</td>\n",
       "      <td>1.253304</td>\n",
       "      <td>-0.534854</td>\n",
       "      <td>-1.821038</td>\n",
       "      <td>0.305580</td>\n",
       "      <td>-1.742432</td>\n",
       "      <td>-0.360682</td>\n",
       "      <td>-0.237184</td>\n",
       "      <td>1.015154</td>\n",
       "      <td>2.114687</td>\n",
       "      <td>-0.670505</td>\n",
       "    </tr>\n",
       "    <tr>\n",
       "      <th>2</th>\n",
       "      <td>-0.885358</td>\n",
       "      <td>1.009095</td>\n",
       "      <td>-0.047454</td>\n",
       "      <td>-0.549571</td>\n",
       "      <td>-0.695032</td>\n",
       "      <td>-0.541118</td>\n",
       "      <td>-0.764666</td>\n",
       "      <td>1.352401</td>\n",
       "      <td>1.296479</td>\n",
       "      <td>1.182991</td>\n",
       "      <td>...</td>\n",
       "      <td>-0.267143</td>\n",
       "      <td>0.311853</td>\n",
       "      <td>0.549773</td>\n",
       "      <td>0.305580</td>\n",
       "      <td>1.305913</td>\n",
       "      <td>-0.386917</td>\n",
       "      <td>-0.392229</td>\n",
       "      <td>-0.985072</td>\n",
       "      <td>-0.472883</td>\n",
       "      <td>-0.670505</td>\n",
       "    </tr>\n",
       "    <tr>\n",
       "      <th>3</th>\n",
       "      <td>-0.951526</td>\n",
       "      <td>1.009095</td>\n",
       "      <td>-0.629028</td>\n",
       "      <td>-0.549571</td>\n",
       "      <td>1.271890</td>\n",
       "      <td>1.603383</td>\n",
       "      <td>1.583273</td>\n",
       "      <td>-0.904265</td>\n",
       "      <td>-0.926688</td>\n",
       "      <td>-1.091649</td>\n",
       "      <td>...</td>\n",
       "      <td>1.253304</td>\n",
       "      <td>-0.534854</td>\n",
       "      <td>-1.821038</td>\n",
       "      <td>0.305580</td>\n",
       "      <td>-0.980345</td>\n",
       "      <td>-0.098328</td>\n",
       "      <td>-0.159662</td>\n",
       "      <td>-0.985072</td>\n",
       "      <td>-0.472883</td>\n",
       "      <td>-0.670505</td>\n",
       "    </tr>\n",
       "    <tr>\n",
       "      <th>4</th>\n",
       "      <td>1.430521</td>\n",
       "      <td>1.009095</td>\n",
       "      <td>-0.977973</td>\n",
       "      <td>0.203521</td>\n",
       "      <td>-0.039391</td>\n",
       "      <td>0.173716</td>\n",
       "      <td>0.017981</td>\n",
       "      <td>0.600179</td>\n",
       "      <td>1.296479</td>\n",
       "      <td>1.182991</td>\n",
       "      <td>...</td>\n",
       "      <td>0.493081</td>\n",
       "      <td>0.311853</td>\n",
       "      <td>-0.240497</td>\n",
       "      <td>-0.545051</td>\n",
       "      <td>-0.218259</td>\n",
       "      <td>-0.386917</td>\n",
       "      <td>-0.392229</td>\n",
       "      <td>1.015154</td>\n",
       "      <td>-0.472883</td>\n",
       "      <td>-0.670505</td>\n",
       "    </tr>\n",
       "  </tbody>\n",
       "</table>\n",
       "<p>5 rows × 22 columns</p>\n",
       "</div>"
      ],
      "text/plain": [
       "        Age     Class  Flight Distance  Inflight wifi service  \\\n",
       "0 -1.745542 -0.029475        -0.731305               0.203521   \n",
       "1 -0.951526  1.009095        -0.956916               0.203521   \n",
       "2 -0.885358  1.009095        -0.047454              -0.549571   \n",
       "3 -0.951526  1.009095        -0.629028              -0.549571   \n",
       "4  1.430521  1.009095        -0.977973               0.203521   \n",
       "\n",
       "   Departure/Arrival time convenient  Ease of Online booking  Gate location  \\\n",
       "0                           0.616249                0.173716      -1.547312   \n",
       "1                          -0.695032                0.173716       0.017981   \n",
       "2                          -0.695032               -0.541118      -0.764666   \n",
       "3                           1.271890                1.603383       1.583273   \n",
       "4                          -0.039391                0.173716       0.017981   \n",
       "\n",
       "   Food and drink  Online boarding  Seat comfort  ...  Leg room service  \\\n",
       "0        1.352401        -0.185632      1.182991  ...         -0.267143   \n",
       "1       -1.656487        -0.185632     -1.849863  ...          1.253304   \n",
       "2        1.352401         1.296479      1.182991  ...         -0.267143   \n",
       "3       -0.904265        -0.926688     -1.091649  ...          1.253304   \n",
       "4        0.600179         1.296479      1.182991  ...          0.493081   \n",
       "\n",
       "   Baggage handling  Checkin service  Inflight service  Cleanliness  \\\n",
       "0          0.311853         0.549773          1.156211     1.305913   \n",
       "1         -0.534854        -1.821038          0.305580    -1.742432   \n",
       "2          0.311853         0.549773          0.305580     1.305913   \n",
       "3         -0.534854        -1.821038          0.305580    -0.980345   \n",
       "4          0.311853        -0.240497         -0.545051    -0.218259   \n",
       "\n",
       "   Departure Delay in Minutes  Arrival Delay in Minutes  Gender_Male  \\\n",
       "0                    0.268966                  0.072905     1.015154   \n",
       "1                   -0.360682                 -0.237184     1.015154   \n",
       "2                   -0.386917                 -0.392229    -0.985072   \n",
       "3                   -0.098328                 -0.159662    -0.985072   \n",
       "4                   -0.386917                 -0.392229     1.015154   \n",
       "\n",
       "   Customer Type_disloyal Customer  Type of Travel_Personal Travel  \n",
       "0                        -0.472883                        1.491414  \n",
       "1                         2.114687                       -0.670505  \n",
       "2                        -0.472883                       -0.670505  \n",
       "3                        -0.472883                       -0.670505  \n",
       "4                        -0.472883                       -0.670505  \n",
       "\n",
       "[5 rows x 22 columns]"
      ]
     },
     "execution_count": 47,
     "metadata": {},
     "output_type": "execute_result"
    }
   ],
   "source": [
    "xtrain.head()"
   ]
  },
  {
   "cell_type": "markdown",
   "id": "c5abb265",
   "metadata": {
    "papermill": {
     "duration": 0.076284,
     "end_time": "2022-07-28T15:06:19.672377",
     "exception": false,
     "start_time": "2022-07-28T15:06:19.596093",
     "status": "completed"
    },
    "tags": []
   },
   "source": [
    "## Logistic Regression"
   ]
  },
  {
   "cell_type": "markdown",
   "id": "2412a48f",
   "metadata": {
    "papermill": {
     "duration": 0.074368,
     "end_time": "2022-07-28T15:06:19.821907",
     "exception": false,
     "start_time": "2022-07-28T15:06:19.747539",
     "status": "completed"
    },
    "tags": []
   },
   "source": [
    "Logistic Regression is not a regression model but rather a classification model.  \n",
    "It constructs an S-shaped curve (in case of one variable x) that represents the probability of y=1."
   ]
  },
  {
   "cell_type": "markdown",
   "id": "64425a90",
   "metadata": {
    "papermill": {
     "duration": 0.075966,
     "end_time": "2022-07-28T15:06:19.974240",
     "exception": false,
     "start_time": "2022-07-28T15:06:19.898274",
     "status": "completed"
    },
    "tags": []
   },
   "source": [
    "![](https://static.javatpoint.com/tutorial/machine-learning/images/linear-regression-vs-logistic-regression.png)"
   ]
  },
  {
   "cell_type": "markdown",
   "id": "7b305d8f",
   "metadata": {
    "papermill": {
     "duration": 0.075615,
     "end_time": "2022-07-28T15:06:20.125480",
     "exception": false,
     "start_time": "2022-07-28T15:06:20.049865",
     "status": "completed"
    },
    "tags": []
   },
   "source": [
    "The logistic curve corresponds to the logistic function, which corresponds to the formula in the following image."
   ]
  },
  {
   "cell_type": "markdown",
   "id": "88e7d57e",
   "metadata": {
    "papermill": {
     "duration": 0.074858,
     "end_time": "2022-07-28T15:06:20.276320",
     "exception": false,
     "start_time": "2022-07-28T15:06:20.201462",
     "status": "completed"
    },
    "tags": []
   },
   "source": [
    "![](https://www.saedsayad.com/images/LogReg_1.png)"
   ]
  },
  {
   "cell_type": "markdown",
   "id": "4fa14562",
   "metadata": {
    "papermill": {
     "duration": 0.083578,
     "end_time": "2022-07-28T15:06:20.436567",
     "exception": false,
     "start_time": "2022-07-28T15:06:20.352989",
     "status": "completed"
    },
    "tags": []
   },
   "source": [
    "The x value that corresponds to y=0.5 is called the \"decision boundary\".  \n",
    "It separates points based on their x value into two groups.  \n",
    "One group corresponds to Y=1 and the other corresponds to y=0."
   ]
  },
  {
   "cell_type": "markdown",
   "id": "5266a8b5",
   "metadata": {
    "execution": {
     "iopub.execute_input": "2021-11-10T19:20:52.787603Z",
     "iopub.status.busy": "2021-11-10T19:20:52.787205Z",
     "iopub.status.idle": "2021-11-10T19:20:52.815961Z",
     "shell.execute_reply": "2021-11-10T19:20:52.814743Z",
     "shell.execute_reply.started": "2021-11-10T19:20:52.787496Z"
    },
    "papermill": {
     "duration": 0.075062,
     "end_time": "2022-07-28T15:06:20.590560",
     "exception": false,
     "start_time": "2022-07-28T15:06:20.515498",
     "status": "completed"
    },
    "tags": []
   },
   "source": [
    "![](https://media-exp1.licdn.com/dms/image/C4E22AQEUYF4-CUIZkw/feedshare-shrink_800/0/1636572090596?e=1639612800&v=beta&t=V0JxLlmQL5ej6acmoJ1y3Yx9bwXLjXMoY17wvgaBAxE)"
   ]
  },
  {
   "cell_type": "markdown",
   "id": "da28bb98",
   "metadata": {
    "papermill": {
     "duration": 0.075298,
     "end_time": "2022-07-28T15:06:20.741493",
     "exception": false,
     "start_time": "2022-07-28T15:06:20.666195",
     "status": "completed"
    },
    "tags": []
   },
   "source": [
    "In case of 2 variables, the S-shaped curve becomes an S-shaped surface (but kind of flat..) which we can't draw here since that would require 3 dimensions.  \n",
    "The decision boundary becomes a straight line though which we can draw.  \n",
    "This line tries to separate points into 2 classes."
   ]
  },
  {
   "cell_type": "markdown",
   "id": "fd2801b8",
   "metadata": {
    "papermill": {
     "duration": 0.075911,
     "end_time": "2022-07-28T15:06:20.893260",
     "exception": false,
     "start_time": "2022-07-28T15:06:20.817349",
     "status": "completed"
    },
    "tags": []
   },
   "source": [
    "![](https://www.researchgate.net/publication/335786324/figure/fig1/AS:802479209971712@1568337361258/Logistic-regression-and-linear-regression.jpg)"
   ]
  },
  {
   "cell_type": "markdown",
   "id": "b26d6591",
   "metadata": {
    "papermill": {
     "duration": 0.075209,
     "end_time": "2022-07-28T15:06:21.043496",
     "exception": false,
     "start_time": "2022-07-28T15:06:20.968287",
     "status": "completed"
    },
    "tags": []
   },
   "source": [
    "Of course, sometimes you can't separate the two classes (y=1 and y=0) perfectly with a straight line.  \n",
    "The following image on the right is more realistic than the one on the left."
   ]
  },
  {
   "cell_type": "markdown",
   "id": "72189359",
   "metadata": {
    "papermill": {
     "duration": 0.075392,
     "end_time": "2022-07-28T15:06:21.192986",
     "exception": false,
     "start_time": "2022-07-28T15:06:21.117594",
     "status": "completed"
    },
    "tags": []
   },
   "source": [
    "![](https://camo.githubusercontent.com/fa25e1f53a14c7839d4659edf09c1e9b7a8fcad93727a5eea63b2b4b65454164/68747470733a2f2f6d69726f2e6d656469756d2e636f6d2f6d61782f313831382f302a61585578764e7556695f2d716335566b2e706e67)"
   ]
  },
  {
   "cell_type": "code",
   "execution_count": 48,
   "id": "3f9d7248",
   "metadata": {
    "execution": {
     "iopub.execute_input": "2022-07-28T15:06:21.347568Z",
     "iopub.status.busy": "2022-07-28T15:06:21.346719Z",
     "iopub.status.idle": "2022-07-28T15:06:21.349238Z",
     "shell.execute_reply": "2022-07-28T15:06:21.348819Z",
     "shell.execute_reply.started": "2022-07-28T14:55:25.368475Z"
    },
    "papermill": {
     "duration": 0.081724,
     "end_time": "2022-07-28T15:06:21.349347",
     "exception": false,
     "start_time": "2022-07-28T15:06:21.267623",
     "status": "completed"
    },
    "tags": []
   },
   "outputs": [],
   "source": [
    "from sklearn.linear_model import LogisticRegression\n",
    "from sklearn.metrics import accuracy_score"
   ]
  },
  {
   "cell_type": "code",
   "execution_count": 49,
   "id": "d3b0fe55",
   "metadata": {
    "execution": {
     "iopub.execute_input": "2022-07-28T15:06:21.503811Z",
     "iopub.status.busy": "2022-07-28T15:06:21.502999Z",
     "iopub.status.idle": "2022-07-28T15:06:21.505487Z",
     "shell.execute_reply": "2022-07-28T15:06:21.505041Z",
     "shell.execute_reply.started": "2022-07-28T14:55:25.376594Z"
    },
    "papermill": {
     "duration": 0.080922,
     "end_time": "2022-07-28T15:06:21.505595",
     "exception": false,
     "start_time": "2022-07-28T15:06:21.424673",
     "status": "completed"
    },
    "tags": []
   },
   "outputs": [],
   "source": [
    "logreg = LogisticRegression(solver='liblinear')"
   ]
  },
  {
   "cell_type": "code",
   "execution_count": 50,
   "id": "b7547285",
   "metadata": {
    "execution": {
     "iopub.execute_input": "2022-07-28T15:06:21.658177Z",
     "iopub.status.busy": "2022-07-28T15:06:21.657376Z",
     "iopub.status.idle": "2022-07-28T15:06:22.235944Z",
     "shell.execute_reply": "2022-07-28T15:06:22.236612Z",
     "shell.execute_reply.started": "2022-07-28T14:55:25.389905Z"
    },
    "papermill": {
     "duration": 0.656253,
     "end_time": "2022-07-28T15:06:22.236808",
     "exception": false,
     "start_time": "2022-07-28T15:06:21.580555",
     "status": "completed"
    },
    "tags": []
   },
   "outputs": [
    {
     "data": {
      "text/plain": [
       "LogisticRegression(solver='liblinear')"
      ]
     },
     "execution_count": 50,
     "metadata": {},
     "output_type": "execute_result"
    }
   ],
   "source": [
    "logreg.fit(xtrain, ytrain)"
   ]
  },
  {
   "cell_type": "code",
   "execution_count": 51,
   "id": "8fd9da6f",
   "metadata": {
    "execution": {
     "iopub.execute_input": "2022-07-28T15:06:22.398586Z",
     "iopub.status.busy": "2022-07-28T15:06:22.397637Z",
     "iopub.status.idle": "2022-07-28T15:06:22.410965Z",
     "shell.execute_reply": "2022-07-28T15:06:22.412091Z",
     "shell.execute_reply.started": "2022-07-28T14:55:26.442288Z"
    },
    "papermill": {
     "duration": 0.09861,
     "end_time": "2022-07-28T15:06:22.412317",
     "exception": false,
     "start_time": "2022-07-28T15:06:22.313707",
     "status": "completed"
    },
    "tags": []
   },
   "outputs": [
    {
     "data": {
      "text/plain": [
       "0.8714324334762291"
      ]
     },
     "execution_count": 51,
     "metadata": {},
     "output_type": "execute_result"
    }
   ],
   "source": [
    "y_predicted_testing = logreg.predict(xtest)\n",
    "accuracy_score(ytest, y_predicted_testing)"
   ]
  },
  {
   "cell_type": "code",
   "execution_count": 52,
   "id": "d1febc2e",
   "metadata": {
    "execution": {
     "iopub.execute_input": "2022-07-28T15:06:22.624834Z",
     "iopub.status.busy": "2022-07-28T15:06:22.623658Z",
     "iopub.status.idle": "2022-07-28T15:06:22.645817Z",
     "shell.execute_reply": "2022-07-28T15:06:22.646817Z",
     "shell.execute_reply.started": "2022-07-28T14:55:26.460862Z"
    },
    "papermill": {
     "duration": 0.10456,
     "end_time": "2022-07-28T15:06:22.647038",
     "exception": false,
     "start_time": "2022-07-28T15:06:22.542478",
     "status": "completed"
    },
    "tags": []
   },
   "outputs": [
    {
     "data": {
      "text/plain": [
       "0.8747900457555456"
      ]
     },
     "execution_count": 52,
     "metadata": {},
     "output_type": "execute_result"
    }
   ],
   "source": [
    "y_predicted_training = logreg.predict(xtrain)\n",
    "accuracy_score(ytrain, y_predicted_training)"
   ]
  },
  {
   "cell_type": "markdown",
   "id": "da34621b",
   "metadata": {
    "papermill": {
     "duration": 0.077366,
     "end_time": "2022-07-28T15:06:22.853658",
     "exception": false,
     "start_time": "2022-07-28T15:06:22.776292",
     "status": "completed"
    },
    "tags": []
   },
   "source": [
    "# Classification Tree"
   ]
  },
  {
   "cell_type": "markdown",
   "id": "243e1d6b",
   "metadata": {
    "papermill": {
     "duration": 0.075766,
     "end_time": "2022-07-28T15:06:23.006836",
     "exception": false,
     "start_time": "2022-07-28T15:06:22.931070",
     "status": "completed"
    },
    "tags": []
   },
   "source": [
    "The same as a regression tree but predicts classes instead of numerical values."
   ]
  },
  {
   "cell_type": "markdown",
   "id": "d9174401",
   "metadata": {
    "papermill": {
     "duration": 0.075843,
     "end_time": "2022-07-28T15:06:23.158422",
     "exception": false,
     "start_time": "2022-07-28T15:06:23.082579",
     "status": "completed"
    },
    "tags": []
   },
   "source": [
    "![](https://miro.medium.com/max/569/0*Yclq0kqMAwCQcIV_.jpg)"
   ]
  },
  {
   "cell_type": "markdown",
   "id": "4df398b9",
   "metadata": {
    "papermill": {
     "duration": 0.076114,
     "end_time": "2022-07-28T15:06:23.310267",
     "exception": false,
     "start_time": "2022-07-28T15:06:23.234153",
     "status": "completed"
    },
    "tags": []
   },
   "source": [
    "![](https://raw.githubusercontent.com/valoxe/image-storage-1/master/blog-machine-learning/decision-tree-random-forest/2.png)"
   ]
  },
  {
   "cell_type": "markdown",
   "id": "ffc40632",
   "metadata": {
    "papermill": {
     "duration": 0.076449,
     "end_time": "2022-07-28T15:06:23.462475",
     "exception": false,
     "start_time": "2022-07-28T15:06:23.386026",
     "status": "completed"
    },
    "tags": []
   },
   "source": [
    "The classification tree is more flexible than logistic regression.  \n",
    "This is because in reality the data points (in this case clients) aren't always distributed in such a way that you can separate them with a straight line.  \n",
    "The following image is an example where a tree is more suitable than logistic regression."
   ]
  },
  {
   "cell_type": "markdown",
   "id": "7eae905e",
   "metadata": {
    "papermill": {
     "duration": 0.084706,
     "end_time": "2022-07-28T15:06:23.623130",
     "exception": false,
     "start_time": "2022-07-28T15:06:23.538424",
     "status": "completed"
    },
    "tags": []
   },
   "source": [
    "![](https://miro.medium.com/max/1248/1*Ixw2RgVQ4syGyCD6ArLcZw.png)"
   ]
  },
  {
   "cell_type": "markdown",
   "id": "40299fea",
   "metadata": {
    "papermill": {
     "duration": 0.082279,
     "end_time": "2022-07-28T15:06:23.782118",
     "exception": false,
     "start_time": "2022-07-28T15:06:23.699839",
     "status": "completed"
    },
    "tags": []
   },
   "source": [
    "The learning algorithm of the classification tree (which is learning what questions to ask / what splits to make) is almost the same as the regression tree algorithm.  \n",
    "Instead of evaluating a split/question by comparing y values of different groups (which is basically what the regression tree does), a split/question is evaluated by how much it sets the 2 classes apart."
   ]
  },
  {
   "cell_type": "markdown",
   "id": "5f1c98cf",
   "metadata": {
    "papermill": {
     "duration": 0.075989,
     "end_time": "2022-07-28T15:06:23.935282",
     "exception": false,
     "start_time": "2022-07-28T15:06:23.859293",
     "status": "completed"
    },
    "tags": []
   },
   "source": [
    "![](https://i.stack.imgur.com/FgdfC.jpg)"
   ]
  },
  {
   "cell_type": "markdown",
   "id": "4278b860",
   "metadata": {
    "papermill": {
     "duration": 0.07504,
     "end_time": "2022-07-28T15:06:24.085433",
     "exception": false,
     "start_time": "2022-07-28T15:06:24.010393",
     "status": "completed"
    },
    "tags": []
   },
   "source": [
    "![](https://www.researchgate.net/publication/313816842/figure/fig2/AS:962701719257088@1606537384464/A-decision-tree-with-its-decision-boundary-Each-node-of-the-decision-tree-represents-a.gif)"
   ]
  },
  {
   "cell_type": "markdown",
   "id": "1ed014a2",
   "metadata": {
    "papermill": {
     "duration": 0.074924,
     "end_time": "2022-07-28T15:06:24.236039",
     "exception": false,
     "start_time": "2022-07-28T15:06:24.161115",
     "status": "completed"
    },
    "tags": []
   },
   "source": [
    "To evaluate how good a split/question is, we calculate the 'Gini Impurity' that corresponds to it.  \n",
    "The Gini Impurity is calculated using the following formula:"
   ]
  },
  {
   "cell_type": "markdown",
   "id": "50d66652",
   "metadata": {
    "papermill": {
     "duration": 0.076493,
     "end_time": "2022-07-28T15:06:24.388247",
     "exception": false,
     "start_time": "2022-07-28T15:06:24.311754",
     "status": "completed"
    },
    "tags": []
   },
   "source": [
    "![](https://static.wixstatic.com/media/02b811_5df05513ffd4487d843bb401dfa5e0cb~mv2.png/v1/fit/w_309%2Ch_118%2Cal_c/file.png)"
   ]
  },
  {
   "cell_type": "markdown",
   "id": "74a5c514",
   "metadata": {
    "papermill": {
     "duration": 0.076572,
     "end_time": "2022-07-28T15:06:24.540130",
     "exception": false,
     "start_time": "2022-07-28T15:06:24.463558",
     "status": "completed"
    },
    "tags": []
   },
   "source": [
    "Understand why that formula is good for evaluating splits/questions is out of the scope of this tutorial since it isn't dedicated to understanding the mathematical details of algorithms but rather the main concepts.  \n",
    "However, there are plenty of resources on the internet that explain these details really well."
   ]
  },
  {
   "cell_type": "markdown",
   "id": "5c136e3a",
   "metadata": {
    "papermill": {
     "duration": 0.075174,
     "end_time": "2022-07-28T15:06:24.692064",
     "exception": false,
     "start_time": "2022-07-28T15:06:24.616890",
     "status": "completed"
    },
    "tags": []
   },
   "source": [
    "The following is an example of a tree that classifies samples / data points that belong to three classes instead of 2 ie [0, 1, 2] instead of [0, 1]"
   ]
  },
  {
   "cell_type": "markdown",
   "id": "7a097db0",
   "metadata": {
    "papermill": {
     "duration": 0.075651,
     "end_time": "2022-07-28T15:06:24.842841",
     "exception": false,
     "start_time": "2022-07-28T15:06:24.767190",
     "status": "completed"
    },
    "tags": []
   },
   "source": [
    "![](https://www.mathworks.com/matlabcentral/mlc-downloads/downloads/submissions/52003/versions/3/screenshot.jpg)"
   ]
  },
  {
   "cell_type": "markdown",
   "id": "2b41ca3d",
   "metadata": {
    "papermill": {
     "duration": 0.0756,
     "end_time": "2022-07-28T15:06:24.995534",
     "exception": false,
     "start_time": "2022-07-28T15:06:24.919934",
     "status": "completed"
    },
    "tags": []
   },
   "source": [
    "Example of a tree that is too short and doesn't separate classes very well (can be improved by allowing the tree to be longer/deeper) and a tree that is much deeper."
   ]
  },
  {
   "cell_type": "markdown",
   "id": "dec746ab",
   "metadata": {
    "papermill": {
     "duration": 0.075411,
     "end_time": "2022-07-28T15:06:25.146539",
     "exception": false,
     "start_time": "2022-07-28T15:06:25.071128",
     "status": "completed"
    },
    "tags": []
   },
   "source": [
    "![](https://www.learnbymarketing.com/wp-content/uploads/2016/03/linear-sep-decision-tree.png)"
   ]
  },
  {
   "cell_type": "code",
   "execution_count": 53,
   "id": "dc260d04",
   "metadata": {
    "execution": {
     "iopub.execute_input": "2022-07-28T15:06:25.304499Z",
     "iopub.status.busy": "2022-07-28T15:06:25.303637Z",
     "iopub.status.idle": "2022-07-28T15:06:25.305456Z",
     "shell.execute_reply": "2022-07-28T15:06:25.305928Z",
     "shell.execute_reply.started": "2022-07-28T14:55:26.500482Z"
    },
    "papermill": {
     "duration": 0.084194,
     "end_time": "2022-07-28T15:06:25.306071",
     "exception": false,
     "start_time": "2022-07-28T15:06:25.221877",
     "status": "completed"
    },
    "tags": []
   },
   "outputs": [],
   "source": [
    "from sklearn.tree import DecisionTreeClassifier\n",
    "mytree = DecisionTreeClassifier()"
   ]
  },
  {
   "cell_type": "code",
   "execution_count": 54,
   "id": "fab59f3c",
   "metadata": {
    "execution": {
     "iopub.execute_input": "2022-07-28T15:06:25.462999Z",
     "iopub.status.busy": "2022-07-28T15:06:25.462074Z",
     "iopub.status.idle": "2022-07-28T15:06:26.037603Z",
     "shell.execute_reply": "2022-07-28T15:06:26.038070Z",
     "shell.execute_reply.started": "2022-07-28T14:55:26.514074Z"
    },
    "papermill": {
     "duration": 0.656087,
     "end_time": "2022-07-28T15:06:26.038230",
     "exception": false,
     "start_time": "2022-07-28T15:06:25.382143",
     "status": "completed"
    },
    "tags": []
   },
   "outputs": [
    {
     "data": {
      "text/plain": [
       "DecisionTreeClassifier()"
      ]
     },
     "execution_count": 54,
     "metadata": {},
     "output_type": "execute_result"
    }
   ],
   "source": [
    "mytree.fit(xtrain, ytrain)"
   ]
  },
  {
   "cell_type": "code",
   "execution_count": 55,
   "id": "b283dadd",
   "metadata": {
    "execution": {
     "iopub.execute_input": "2022-07-28T15:06:26.196455Z",
     "iopub.status.busy": "2022-07-28T15:06:26.195497Z",
     "iopub.status.idle": "2022-07-28T15:06:26.221127Z",
     "shell.execute_reply": "2022-07-28T15:06:26.220651Z",
     "shell.execute_reply.started": "2022-07-28T14:55:27.293534Z"
    },
    "papermill": {
     "duration": 0.106256,
     "end_time": "2022-07-28T15:06:26.221242",
     "exception": false,
     "start_time": "2022-07-28T15:06:26.114986",
     "status": "completed"
    },
    "tags": []
   },
   "outputs": [
    {
     "data": {
      "text/plain": [
       "1.0"
      ]
     },
     "execution_count": 55,
     "metadata": {},
     "output_type": "execute_result"
    }
   ],
   "source": [
    "y_predicted_training = mytree.predict(xtrain)\n",
    "accuracy_score(ytrain, y_predicted_training)"
   ]
  },
  {
   "cell_type": "code",
   "execution_count": 56,
   "id": "a03b2e00",
   "metadata": {
    "execution": {
     "iopub.execute_input": "2022-07-28T15:06:26.380334Z",
     "iopub.status.busy": "2022-07-28T15:06:26.379537Z",
     "iopub.status.idle": "2022-07-28T15:06:26.389259Z",
     "shell.execute_reply": "2022-07-28T15:06:26.389708Z",
     "shell.execute_reply.started": "2022-07-28T14:55:27.331197Z"
    },
    "papermill": {
     "duration": 0.091383,
     "end_time": "2022-07-28T15:06:26.389864",
     "exception": false,
     "start_time": "2022-07-28T15:06:26.298481",
     "status": "completed"
    },
    "tags": []
   },
   "outputs": [
    {
     "data": {
      "text/plain": [
       "0.9467037423241803"
      ]
     },
     "execution_count": 56,
     "metadata": {},
     "output_type": "execute_result"
    }
   ],
   "source": [
    "y_predicted_testing = mytree.predict(xtest)\n",
    "accuracy_score(ytest, y_predicted_testing)"
   ]
  },
  {
   "cell_type": "markdown",
   "id": "de87d05b",
   "metadata": {
    "papermill": {
     "duration": 0.075676,
     "end_time": "2022-07-28T15:06:26.542727",
     "exception": false,
     "start_time": "2022-07-28T15:06:26.467051",
     "status": "completed"
    },
    "tags": []
   },
   "source": [
    "As always the tree is very adjusted to the training data but less to the testing data.  \n",
    "However it still gave better results than logistic regression.  \n",
    "If we tell the tree not to grow too long, then it should get better testing results."
   ]
  },
  {
   "cell_type": "code",
   "execution_count": 57,
   "id": "739371f3",
   "metadata": {
    "execution": {
     "iopub.execute_input": "2022-07-28T15:06:26.701372Z",
     "iopub.status.busy": "2022-07-28T15:06:26.700776Z",
     "iopub.status.idle": "2022-07-28T15:06:26.703654Z",
     "shell.execute_reply": "2022-07-28T15:06:26.703231Z",
     "shell.execute_reply.started": "2022-07-28T14:55:27.349974Z"
    },
    "papermill": {
     "duration": 0.082561,
     "end_time": "2022-07-28T15:06:26.703782",
     "exception": false,
     "start_time": "2022-07-28T15:06:26.621221",
     "status": "completed"
    },
    "tags": []
   },
   "outputs": [],
   "source": [
    "my_other_tree = DecisionTreeClassifier(max_depth=19)"
   ]
  },
  {
   "cell_type": "code",
   "execution_count": 58,
   "id": "f1f53264",
   "metadata": {
    "execution": {
     "iopub.execute_input": "2022-07-28T15:06:26.865587Z",
     "iopub.status.busy": "2022-07-28T15:06:26.864575Z",
     "iopub.status.idle": "2022-07-28T15:06:27.416145Z",
     "shell.execute_reply": "2022-07-28T15:06:27.415591Z",
     "shell.execute_reply.started": "2022-07-28T14:55:27.355957Z"
    },
    "papermill": {
     "duration": 0.635083,
     "end_time": "2022-07-28T15:06:27.416294",
     "exception": false,
     "start_time": "2022-07-28T15:06:26.781211",
     "status": "completed"
    },
    "tags": []
   },
   "outputs": [
    {
     "data": {
      "text/plain": [
       "DecisionTreeClassifier(max_depth=19)"
      ]
     },
     "execution_count": 58,
     "metadata": {},
     "output_type": "execute_result"
    }
   ],
   "source": [
    "my_other_tree.fit(xtrain, ytrain)"
   ]
  },
  {
   "cell_type": "code",
   "execution_count": 59,
   "id": "d4843416",
   "metadata": {
    "execution": {
     "iopub.execute_input": "2022-07-28T15:06:27.580576Z",
     "iopub.status.busy": "2022-07-28T15:06:27.579674Z",
     "iopub.status.idle": "2022-07-28T15:06:27.606615Z",
     "shell.execute_reply": "2022-07-28T15:06:27.607277Z",
     "shell.execute_reply.started": "2022-07-28T14:55:28.093443Z"
    },
    "papermill": {
     "duration": 0.113264,
     "end_time": "2022-07-28T15:06:27.607482",
     "exception": false,
     "start_time": "2022-07-28T15:06:27.494218",
     "status": "completed"
    },
    "tags": []
   },
   "outputs": [
    {
     "data": {
      "text/plain": [
       "0.9866111936984767"
      ]
     },
     "execution_count": 59,
     "metadata": {},
     "output_type": "execute_result"
    }
   ],
   "source": [
    "y_predicted_training = my_other_tree.predict(xtrain)\n",
    "accuracy_score(ytrain, y_predicted_training)"
   ]
  },
  {
   "cell_type": "code",
   "execution_count": 60,
   "id": "84b9dcbd",
   "metadata": {
    "execution": {
     "iopub.execute_input": "2022-07-28T15:06:27.886666Z",
     "iopub.status.busy": "2022-07-28T15:06:27.885884Z",
     "iopub.status.idle": "2022-07-28T15:06:27.906673Z",
     "shell.execute_reply": "2022-07-28T15:06:27.906014Z",
     "shell.execute_reply.started": "2022-07-28T14:55:28.133528Z"
    },
    "papermill": {
     "duration": 0.158861,
     "end_time": "2022-07-28T15:06:27.906845",
     "exception": false,
     "start_time": "2022-07-28T15:06:27.747984",
     "status": "completed"
    },
    "tags": []
   },
   "outputs": [
    {
     "data": {
      "text/plain": [
       "0.9528057776232959"
      ]
     },
     "execution_count": 60,
     "metadata": {},
     "output_type": "execute_result"
    }
   ],
   "source": [
    "y_predicted_testing = my_other_tree.predict(xtest)\n",
    "accuracy_score(ytest, y_predicted_testing)"
   ]
  },
  {
   "cell_type": "markdown",
   "id": "f547a78b",
   "metadata": {
    "execution": {
     "iopub.execute_input": "2021-11-07T09:31:49.91475Z",
     "iopub.status.busy": "2021-11-07T09:31:49.914397Z",
     "iopub.status.idle": "2021-11-07T09:31:49.921552Z",
     "shell.execute_reply": "2021-11-07T09:31:49.920617Z",
     "shell.execute_reply.started": "2021-11-07T09:31:49.914704Z"
    },
    "papermill": {
     "duration": 0.131048,
     "end_time": "2022-07-28T15:06:28.165557",
     "exception": false,
     "start_time": "2022-07-28T15:06:28.034509",
     "status": "completed"
    },
    "tags": []
   },
   "source": [
    "### الحمد لله الذي بنعمته تتم الصالحات"
   ]
  }
 ],
 "metadata": {
  "kernelspec": {
   "display_name": "Python 3",
   "language": "python",
   "name": "python3"
  },
  "language_info": {
   "codemirror_mode": {
    "name": "ipython",
    "version": 3
   },
   "file_extension": ".py",
   "mimetype": "text/x-python",
   "name": "python",
   "nbconvert_exporter": "python",
   "pygments_lexer": "ipython3",
   "version": "3.7.10"
  },
  "papermill": {
   "default_parameters": {},
   "duration": 32.515883,
   "end_time": "2022-07-28T15:06:28.757254",
   "environment_variables": {},
   "exception": null,
   "input_path": "__notebook__.ipynb",
   "output_path": "__notebook__.ipynb",
   "parameters": {},
   "start_time": "2022-07-28T15:05:56.241371",
   "version": "2.3.3"
  }
 },
 "nbformat": 4,
 "nbformat_minor": 5
}
