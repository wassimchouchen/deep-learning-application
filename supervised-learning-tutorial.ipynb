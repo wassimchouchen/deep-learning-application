{
 "cells": [
  {
   "cell_type": "markdown",
   "id": "44853661",
   "metadata": {
    "papermill": {
     "duration": 0.083207,
     "end_time": "2024-07-16T10:38:57.070003",
     "exception": false,
     "start_time": "2024-07-16T10:38:56.986796",
     "status": "completed"
    },
    "tags": []
   },
   "source": [
    "# Regression"
   ]
  },
  {
   "cell_type": "markdown",
   "id": "22479f08",
   "metadata": {
    "papermill": {
     "duration": 0.083177,
     "end_time": "2024-07-16T10:38:57.234337",
     "exception": false,
     "start_time": "2024-07-16T10:38:57.151160",
     "status": "completed"
    },
    "tags": []
   },
   "source": [
    "In this section, we will implement models that aim to predict the melanoma tumor size of a patient based on other attributes."
   ]
  },
  {
   "cell_type": "markdown",
   "id": "1a1fbf6b",
   "metadata": {
    "papermill": {
     "duration": 0.081999,
     "end_time": "2024-07-16T10:38:57.446007",
     "exception": false,
     "start_time": "2024-07-16T10:38:57.364008",
     "status": "completed"
    },
    "tags": []
   },
   "source": [
    "We will be doing a multiple linear regression.  \n",
    "Our features / Independent variables (X1, X2, etc..) will be the columns of the dataset, other than tumor size which is Y."
   ]
  },
  {
   "cell_type": "code",
   "execution_count": 1,
   "id": "f0565d51",
   "metadata": {
    "_cell_guid": "b1076dfc-b9ad-4769-8c92-a6c4dae69d19",
    "_uuid": "8f2839f25d086af736a60e9eeb907d3b93b6e0e5",
    "execution": {
     "iopub.execute_input": "2024-07-16T10:38:57.619191Z",
     "iopub.status.busy": "2024-07-16T10:38:57.618577Z",
     "iopub.status.idle": "2024-07-16T10:38:58.344741Z",
     "shell.execute_reply": "2024-07-16T10:38:58.344005Z",
     "shell.execute_reply.started": "2023-11-14T12:48:39.426462Z"
    },
    "papermill": {
     "duration": 0.816986,
     "end_time": "2024-07-16T10:38:58.344893",
     "exception": false,
     "start_time": "2024-07-16T10:38:57.527907",
     "status": "completed"
    },
    "tags": []
   },
   "outputs": [],
   "source": [
    "import numpy as np\n",
    "import pandas as pd\n",
    "import matplotlib.pyplot as plt\n",
    "import seaborn as sns\n",
    "from matplotlib import style\n",
    "style.use(\"seaborn-darkgrid\")"
   ]
  },
  {
   "cell_type": "code",
   "execution_count": 2,
   "id": "7bc2d80f",
   "metadata": {
    "execution": {
     "iopub.execute_input": "2024-07-16T10:38:58.514815Z",
     "iopub.status.busy": "2024-07-16T10:38:58.514027Z",
     "iopub.status.idle": "2024-07-16T10:38:58.571965Z",
     "shell.execute_reply": "2024-07-16T10:38:58.571378Z",
     "shell.execute_reply.started": "2023-11-14T12:48:40.180545Z"
    },
    "papermill": {
     "duration": 0.145598,
     "end_time": "2024-07-16T10:38:58.572130",
     "exception": false,
     "start_time": "2024-07-16T10:38:58.426532",
     "status": "completed"
    },
    "tags": []
   },
   "outputs": [
    {
     "data": {
      "text/html": [
       "<div>\n",
       "<style scoped>\n",
       "    .dataframe tbody tr th:only-of-type {\n",
       "        vertical-align: middle;\n",
       "    }\n",
       "\n",
       "    .dataframe tbody tr th {\n",
       "        vertical-align: top;\n",
       "    }\n",
       "\n",
       "    .dataframe thead th {\n",
       "        text-align: right;\n",
       "    }\n",
       "</style>\n",
       "<table border=\"1\" class=\"dataframe\">\n",
       "  <thead>\n",
       "    <tr style=\"text-align: right;\">\n",
       "      <th></th>\n",
       "      <th>mass_npea</th>\n",
       "      <th>size_npear</th>\n",
       "      <th>malign_ratio</th>\n",
       "      <th>damage_size</th>\n",
       "      <th>exposed_area</th>\n",
       "      <th>std_dev_malign</th>\n",
       "      <th>err_malign</th>\n",
       "      <th>malign_penalty</th>\n",
       "      <th>damage_ratio</th>\n",
       "      <th>tumor_size</th>\n",
       "    </tr>\n",
       "  </thead>\n",
       "  <tbody>\n",
       "    <tr>\n",
       "      <th>0</th>\n",
       "      <td>6930.90</td>\n",
       "      <td>2919.02</td>\n",
       "      <td>0.42116</td>\n",
       "      <td>51.8298</td>\n",
       "      <td>9.888294e+05</td>\n",
       "      <td>109.487</td>\n",
       "      <td>2758.76</td>\n",
       "      <td>72</td>\n",
       "      <td>39.3620</td>\n",
       "      <td>14.103</td>\n",
       "    </tr>\n",
       "    <tr>\n",
       "      <th>1</th>\n",
       "      <td>15635.70</td>\n",
       "      <td>4879.36</td>\n",
       "      <td>0.31206</td>\n",
       "      <td>223.5500</td>\n",
       "      <td>2.058426e+06</td>\n",
       "      <td>248.881</td>\n",
       "      <td>5952.53</td>\n",
       "      <td>240</td>\n",
       "      <td>22.0253</td>\n",
       "      <td>2.648</td>\n",
       "    </tr>\n",
       "    <tr>\n",
       "      <th>2</th>\n",
       "      <td>10376.20</td>\n",
       "      <td>2613.88</td>\n",
       "      <td>0.25191</td>\n",
       "      <td>127.3370</td>\n",
       "      <td>1.434676e+06</td>\n",
       "      <td>160.093</td>\n",
       "      <td>4635.26</td>\n",
       "      <td>73</td>\n",
       "      <td>29.9963</td>\n",
       "      <td>1.688</td>\n",
       "    </tr>\n",
       "    <tr>\n",
       "      <th>3</th>\n",
       "      <td>13093.80</td>\n",
       "      <td>4510.06</td>\n",
       "      <td>0.34444</td>\n",
       "      <td>155.4400</td>\n",
       "      <td>1.812195e+06</td>\n",
       "      <td>173.015</td>\n",
       "      <td>5273.87</td>\n",
       "      <td>32</td>\n",
       "      <td>28.1354</td>\n",
       "      <td>3.796</td>\n",
       "    </tr>\n",
       "    <tr>\n",
       "      <th>4</th>\n",
       "      <td>7545.21</td>\n",
       "      <td>2882.36</td>\n",
       "      <td>0.38201</td>\n",
       "      <td>85.1237</td>\n",
       "      <td>1.043918e+06</td>\n",
       "      <td>124.414</td>\n",
       "      <td>3263.35</td>\n",
       "      <td>57</td>\n",
       "      <td>35.0200</td>\n",
       "      <td>18.023</td>\n",
       "    </tr>\n",
       "  </tbody>\n",
       "</table>\n",
       "</div>"
      ],
      "text/plain": [
       "   mass_npea  size_npear  malign_ratio  damage_size  exposed_area  \\\n",
       "0    6930.90     2919.02       0.42116      51.8298  9.888294e+05   \n",
       "1   15635.70     4879.36       0.31206     223.5500  2.058426e+06   \n",
       "2   10376.20     2613.88       0.25191     127.3370  1.434676e+06   \n",
       "3   13093.80     4510.06       0.34444     155.4400  1.812195e+06   \n",
       "4    7545.21     2882.36       0.38201      85.1237  1.043918e+06   \n",
       "\n",
       "   std_dev_malign  err_malign  malign_penalty  damage_ratio  tumor_size  \n",
       "0         109.487     2758.76              72       39.3620      14.103  \n",
       "1         248.881     5952.53             240       22.0253       2.648  \n",
       "2         160.093     4635.26              73       29.9963       1.688  \n",
       "3         173.015     5273.87              32       28.1354       3.796  \n",
       "4         124.414     3263.35              57       35.0200      18.023  "
      ]
     },
     "execution_count": 2,
     "metadata": {},
     "output_type": "execute_result"
    }
   ],
   "source": [
    "data = pd.read_csv(r\"../input/melanoma-tumor-size-prediction-machinehack/Train.csv\") #insert file path into the \"read_csv\" function\n",
    "data.head()"
   ]
  },
  {
   "cell_type": "code",
   "execution_count": 3,
   "id": "23a58d6c",
   "metadata": {
    "execution": {
     "iopub.execute_input": "2024-07-16T10:38:58.745674Z",
     "iopub.status.busy": "2024-07-16T10:38:58.744972Z",
     "iopub.status.idle": "2024-07-16T10:38:58.748533Z",
     "shell.execute_reply": "2024-07-16T10:38:58.747970Z",
     "shell.execute_reply.started": "2023-11-14T12:48:40.245329Z"
    },
    "papermill": {
     "duration": 0.090281,
     "end_time": "2024-07-16T10:38:58.748655",
     "exception": false,
     "start_time": "2024-07-16T10:38:58.658374",
     "status": "completed"
    },
    "tags": []
   },
   "outputs": [
    {
     "data": {
      "text/plain": [
       "['mass_npea',\n",
       " 'size_npear',\n",
       " 'malign_ratio',\n",
       " 'damage_size',\n",
       " 'exposed_area',\n",
       " 'std_dev_malign',\n",
       " 'err_malign',\n",
       " 'malign_penalty',\n",
       " 'damage_ratio',\n",
       " 'tumor_size']"
      ]
     },
     "execution_count": 3,
     "metadata": {},
     "output_type": "execute_result"
    }
   ],
   "source": [
    "list(data.columns)"
   ]
  },
  {
   "cell_type": "markdown",
   "id": "d570ae4d",
   "metadata": {
    "papermill": {
     "duration": 0.08134,
     "end_time": "2024-07-16T10:38:58.912431",
     "exception": false,
     "start_time": "2024-07-16T10:38:58.831091",
     "status": "completed"
    },
    "tags": []
   },
   "source": [
    "All of these variables shown up (other than tumor_size) are the features that we will use for prediction.  \n",
    "tumor_size is the variable we will try predicting."
   ]
  },
  {
   "cell_type": "markdown",
   "id": "694573e2",
   "metadata": {
    "papermill": {
     "duration": 0.082261,
     "end_time": "2024-07-16T10:38:59.079438",
     "exception": false,
     "start_time": "2024-07-16T10:38:58.997177",
     "status": "completed"
    },
    "tags": []
   },
   "source": [
    "Checking Missing Values:"
   ]
  },
  {
   "cell_type": "code",
   "execution_count": 4,
   "id": "099df7aa",
   "metadata": {
    "execution": {
     "iopub.execute_input": "2024-07-16T10:38:59.250196Z",
     "iopub.status.busy": "2024-07-16T10:38:59.249289Z",
     "iopub.status.idle": "2024-07-16T10:38:59.256996Z",
     "shell.execute_reply": "2024-07-16T10:38:59.257765Z",
     "shell.execute_reply.started": "2023-11-14T12:48:40.253155Z"
    },
    "papermill": {
     "duration": 0.096426,
     "end_time": "2024-07-16T10:38:59.257941",
     "exception": false,
     "start_time": "2024-07-16T10:38:59.161515",
     "status": "completed"
    },
    "tags": []
   },
   "outputs": [
    {
     "data": {
      "text/plain": [
       "mass_npea         0\n",
       "size_npear        0\n",
       "malign_ratio      0\n",
       "damage_size       0\n",
       "exposed_area      0\n",
       "std_dev_malign    0\n",
       "err_malign        0\n",
       "malign_penalty    0\n",
       "damage_ratio      0\n",
       "tumor_size        0\n",
       "dtype: int64"
      ]
     },
     "execution_count": 4,
     "metadata": {},
     "output_type": "execute_result"
    }
   ],
   "source": [
    "data.isna().sum()"
   ]
  },
  {
   "cell_type": "markdown",
   "id": "76ecdae8",
   "metadata": {
    "papermill": {
     "duration": 0.093715,
     "end_time": "2024-07-16T10:38:59.450661",
     "exception": false,
     "start_time": "2024-07-16T10:38:59.356946",
     "status": "completed"
    },
    "tags": []
   },
   "source": [
    "(Number of patients, number of variables):"
   ]
  },
  {
   "cell_type": "code",
   "execution_count": 5,
   "id": "58530f66",
   "metadata": {
    "execution": {
     "iopub.execute_input": "2024-07-16T10:38:59.622978Z",
     "iopub.status.busy": "2024-07-16T10:38:59.622058Z",
     "iopub.status.idle": "2024-07-16T10:38:59.625146Z",
     "shell.execute_reply": "2024-07-16T10:38:59.625678Z",
     "shell.execute_reply.started": "2023-11-14T12:48:40.266923Z"
    },
    "papermill": {
     "duration": 0.090222,
     "end_time": "2024-07-16T10:38:59.625818",
     "exception": false,
     "start_time": "2024-07-16T10:38:59.535596",
     "status": "completed"
    },
    "tags": []
   },
   "outputs": [
    {
     "data": {
      "text/plain": [
       "(9146, 10)"
      ]
     },
     "execution_count": 5,
     "metadata": {},
     "output_type": "execute_result"
    }
   ],
   "source": [
    "data.shape"
   ]
  },
  {
   "cell_type": "code",
   "execution_count": 6,
   "id": "99fcf2dc",
   "metadata": {
    "execution": {
     "iopub.execute_input": "2024-07-16T10:38:59.796332Z",
     "iopub.status.busy": "2024-07-16T10:38:59.795485Z",
     "iopub.status.idle": "2024-07-16T10:38:59.814262Z",
     "shell.execute_reply": "2024-07-16T10:38:59.814722Z",
     "shell.execute_reply.started": "2023-11-14T12:48:40.275570Z"
    },
    "papermill": {
     "duration": 0.106904,
     "end_time": "2024-07-16T10:38:59.814867",
     "exception": false,
     "start_time": "2024-07-16T10:38:59.707963",
     "status": "completed"
    },
    "tags": []
   },
   "outputs": [
    {
     "name": "stdout",
     "output_type": "stream",
     "text": [
      "<class 'pandas.core.frame.DataFrame'>\n",
      "RangeIndex: 9146 entries, 0 to 9145\n",
      "Data columns (total 10 columns):\n",
      " #   Column          Non-Null Count  Dtype  \n",
      "---  ------          --------------  -----  \n",
      " 0   mass_npea       9146 non-null   float64\n",
      " 1   size_npear      9146 non-null   float64\n",
      " 2   malign_ratio    9146 non-null   float64\n",
      " 3   damage_size     9146 non-null   float64\n",
      " 4   exposed_area    9146 non-null   float64\n",
      " 5   std_dev_malign  9146 non-null   float64\n",
      " 6   err_malign      9146 non-null   float64\n",
      " 7   malign_penalty  9146 non-null   int64  \n",
      " 8   damage_ratio    9146 non-null   float64\n",
      " 9   tumor_size      9146 non-null   float64\n",
      "dtypes: float64(9), int64(1)\n",
      "memory usage: 714.7 KB\n"
     ]
    }
   ],
   "source": [
    "data.info()"
   ]
  },
  {
   "cell_type": "markdown",
   "id": "23603f01",
   "metadata": {
    "papermill": {
     "duration": 0.084022,
     "end_time": "2024-07-16T10:38:59.981730",
     "exception": false,
     "start_time": "2024-07-16T10:38:59.897708",
     "status": "completed"
    },
    "tags": []
   },
   "source": [
    "X: variables/features that we will use to make predictions  \n",
    "Y: The variable that will try to predict correctly"
   ]
  },
  {
   "cell_type": "code",
   "execution_count": 7,
   "id": "f035b0e0",
   "metadata": {
    "execution": {
     "iopub.execute_input": "2024-07-16T10:39:00.155412Z",
     "iopub.status.busy": "2024-07-16T10:39:00.154661Z",
     "iopub.status.idle": "2024-07-16T10:39:00.156983Z",
     "shell.execute_reply": "2024-07-16T10:39:00.156519Z",
     "shell.execute_reply.started": "2023-11-14T12:48:40.303697Z"
    },
    "papermill": {
     "duration": 0.090808,
     "end_time": "2024-07-16T10:39:00.157137",
     "exception": false,
     "start_time": "2024-07-16T10:39:00.066329",
     "status": "completed"
    },
    "tags": []
   },
   "outputs": [],
   "source": [
    "x = data.drop(\"tumor_size\", axis=1)\n",
    "y = data[\"tumor_size\"]"
   ]
  },
  {
   "cell_type": "code",
   "execution_count": 8,
   "id": "11dd55df",
   "metadata": {
    "execution": {
     "iopub.execute_input": "2024-07-16T10:39:00.337815Z",
     "iopub.status.busy": "2024-07-16T10:39:00.337028Z",
     "iopub.status.idle": "2024-07-16T10:39:00.340305Z",
     "shell.execute_reply": "2024-07-16T10:39:00.340787Z",
     "shell.execute_reply.started": "2023-11-14T12:48:40.309756Z"
    },
    "papermill": {
     "duration": 0.100615,
     "end_time": "2024-07-16T10:39:00.340944",
     "exception": false,
     "start_time": "2024-07-16T10:39:00.240329",
     "status": "completed"
    },
    "tags": []
   },
   "outputs": [
    {
     "data": {
      "text/html": [
       "<div>\n",
       "<style scoped>\n",
       "    .dataframe tbody tr th:only-of-type {\n",
       "        vertical-align: middle;\n",
       "    }\n",
       "\n",
       "    .dataframe tbody tr th {\n",
       "        vertical-align: top;\n",
       "    }\n",
       "\n",
       "    .dataframe thead th {\n",
       "        text-align: right;\n",
       "    }\n",
       "</style>\n",
       "<table border=\"1\" class=\"dataframe\">\n",
       "  <thead>\n",
       "    <tr style=\"text-align: right;\">\n",
       "      <th></th>\n",
       "      <th>mass_npea</th>\n",
       "      <th>size_npear</th>\n",
       "      <th>malign_ratio</th>\n",
       "      <th>damage_size</th>\n",
       "      <th>exposed_area</th>\n",
       "      <th>std_dev_malign</th>\n",
       "      <th>err_malign</th>\n",
       "      <th>malign_penalty</th>\n",
       "      <th>damage_ratio</th>\n",
       "    </tr>\n",
       "  </thead>\n",
       "  <tbody>\n",
       "    <tr>\n",
       "      <th>0</th>\n",
       "      <td>6930.90</td>\n",
       "      <td>2919.02</td>\n",
       "      <td>0.42116</td>\n",
       "      <td>51.8298</td>\n",
       "      <td>9.888294e+05</td>\n",
       "      <td>109.487</td>\n",
       "      <td>2758.76</td>\n",
       "      <td>72</td>\n",
       "      <td>39.3620</td>\n",
       "    </tr>\n",
       "    <tr>\n",
       "      <th>1</th>\n",
       "      <td>15635.70</td>\n",
       "      <td>4879.36</td>\n",
       "      <td>0.31206</td>\n",
       "      <td>223.5500</td>\n",
       "      <td>2.058426e+06</td>\n",
       "      <td>248.881</td>\n",
       "      <td>5952.53</td>\n",
       "      <td>240</td>\n",
       "      <td>22.0253</td>\n",
       "    </tr>\n",
       "    <tr>\n",
       "      <th>2</th>\n",
       "      <td>10376.20</td>\n",
       "      <td>2613.88</td>\n",
       "      <td>0.25191</td>\n",
       "      <td>127.3370</td>\n",
       "      <td>1.434676e+06</td>\n",
       "      <td>160.093</td>\n",
       "      <td>4635.26</td>\n",
       "      <td>73</td>\n",
       "      <td>29.9963</td>\n",
       "    </tr>\n",
       "    <tr>\n",
       "      <th>3</th>\n",
       "      <td>13093.80</td>\n",
       "      <td>4510.06</td>\n",
       "      <td>0.34444</td>\n",
       "      <td>155.4400</td>\n",
       "      <td>1.812195e+06</td>\n",
       "      <td>173.015</td>\n",
       "      <td>5273.87</td>\n",
       "      <td>32</td>\n",
       "      <td>28.1354</td>\n",
       "    </tr>\n",
       "    <tr>\n",
       "      <th>4</th>\n",
       "      <td>7545.21</td>\n",
       "      <td>2882.36</td>\n",
       "      <td>0.38201</td>\n",
       "      <td>85.1237</td>\n",
       "      <td>1.043918e+06</td>\n",
       "      <td>124.414</td>\n",
       "      <td>3263.35</td>\n",
       "      <td>57</td>\n",
       "      <td>35.0200</td>\n",
       "    </tr>\n",
       "  </tbody>\n",
       "</table>\n",
       "</div>"
      ],
      "text/plain": [
       "   mass_npea  size_npear  malign_ratio  damage_size  exposed_area  \\\n",
       "0    6930.90     2919.02       0.42116      51.8298  9.888294e+05   \n",
       "1   15635.70     4879.36       0.31206     223.5500  2.058426e+06   \n",
       "2   10376.20     2613.88       0.25191     127.3370  1.434676e+06   \n",
       "3   13093.80     4510.06       0.34444     155.4400  1.812195e+06   \n",
       "4    7545.21     2882.36       0.38201      85.1237  1.043918e+06   \n",
       "\n",
       "   std_dev_malign  err_malign  malign_penalty  damage_ratio  \n",
       "0         109.487     2758.76              72       39.3620  \n",
       "1         248.881     5952.53             240       22.0253  \n",
       "2         160.093     4635.26              73       29.9963  \n",
       "3         173.015     5273.87              32       28.1354  \n",
       "4         124.414     3263.35              57       35.0200  "
      ]
     },
     "execution_count": 8,
     "metadata": {},
     "output_type": "execute_result"
    }
   ],
   "source": [
    "x.head()"
   ]
  },
  {
   "cell_type": "code",
   "execution_count": 9,
   "id": "b153e0c6",
   "metadata": {
    "execution": {
     "iopub.execute_input": "2024-07-16T10:39:00.514883Z",
     "iopub.status.busy": "2024-07-16T10:39:00.514105Z",
     "iopub.status.idle": "2024-07-16T10:39:00.516810Z",
     "shell.execute_reply": "2024-07-16T10:39:00.517397Z",
     "shell.execute_reply.started": "2023-11-14T12:48:40.332272Z"
    },
    "papermill": {
     "duration": 0.092252,
     "end_time": "2024-07-16T10:39:00.517543",
     "exception": false,
     "start_time": "2024-07-16T10:39:00.425291",
     "status": "completed"
    },
    "tags": []
   },
   "outputs": [
    {
     "data": {
      "text/plain": [
       "0    14.103\n",
       "1     2.648\n",
       "2     1.688\n",
       "3     3.796\n",
       "4    18.023\n",
       "Name: tumor_size, dtype: float64"
      ]
     },
     "execution_count": 9,
     "metadata": {},
     "output_type": "execute_result"
    }
   ],
   "source": [
    "y.head()"
   ]
  },
  {
   "cell_type": "markdown",
   "id": "fddc59af",
   "metadata": {
    "papermill": {
     "duration": 0.083564,
     "end_time": "2024-07-16T10:39:00.684956",
     "exception": false,
     "start_time": "2024-07-16T10:39:00.601392",
     "status": "completed"
    },
    "tags": []
   },
   "source": [
    "We have to split our data into train and test sets.  \n",
    "This means that we will not show all patients/examples to our model.  \n",
    "We will let the model learn from a certain number of patients/examples, then we will test on the ones it didn't see.  \n",
    "This is to check if the model makes good predictions for patients that it hasn't seen before.  \n",
    "We need to give the model many examples to learn from, because the more examples you give it, the better it learns.  \n",
    "So we show it most of our data (usually, about 70% to 90%) and keep a small number of examples/patients for testing."
   ]
  },
  {
   "cell_type": "code",
   "execution_count": 10,
   "id": "1f429b10",
   "metadata": {
    "execution": {
     "iopub.execute_input": "2024-07-16T10:39:00.856724Z",
     "iopub.status.busy": "2024-07-16T10:39:00.856069Z",
     "iopub.status.idle": "2024-07-16T10:39:00.996107Z",
     "shell.execute_reply": "2024-07-16T10:39:00.995488Z",
     "shell.execute_reply.started": "2023-11-14T12:48:40.486275Z"
    },
    "papermill": {
     "duration": 0.22728,
     "end_time": "2024-07-16T10:39:00.996257",
     "exception": false,
     "start_time": "2024-07-16T10:39:00.768977",
     "status": "completed"
    },
    "tags": []
   },
   "outputs": [],
   "source": [
    "from sklearn.model_selection import train_test_split\n",
    "xtrain, xtest, ytrain, ytest = train_test_split(x, y, test_size=0.1, random_state=11)"
   ]
  },
  {
   "cell_type": "markdown",
   "id": "bc2e1a3b",
   "metadata": {
    "papermill": {
     "duration": 0.084125,
     "end_time": "2024-07-16T10:39:01.164654",
     "exception": false,
     "start_time": "2024-07-16T10:39:01.080529",
     "status": "completed"
    },
    "tags": []
   },
   "source": [
    "## Linear Regression"
   ]
  },
  {
   "cell_type": "markdown",
   "id": "813f6a5d",
   "metadata": {
    "papermill": {
     "duration": 0.083431,
     "end_time": "2024-07-16T10:39:01.332301",
     "exception": false,
     "start_time": "2024-07-16T10:39:01.248870",
     "status": "completed"
    },
    "tags": []
   },
   "source": [
    "![](http://miro.medium.com/max/1838/1*uLHXR8LKGDucpwUYHx3VaQ.png)"
   ]
  },
  {
   "cell_type": "markdown",
   "id": "6dd74f64",
   "metadata": {
    "papermill": {
     "duration": 0.083597,
     "end_time": "2024-07-16T10:39:01.499420",
     "exception": false,
     "start_time": "2024-07-16T10:39:01.415823",
     "status": "completed"
    },
    "tags": []
   },
   "source": [
    "![](https://www.researchgate.net/profile/Hieu-Tran-17/publication/333457161/figure/fig3/AS:763959762247682@1559153609649/Linear-Regression-model-sample-illustration.ppm)"
   ]
  },
  {
   "cell_type": "markdown",
   "id": "0d4adf02",
   "metadata": {
    "papermill": {
     "duration": 0.083807,
     "end_time": "2024-07-16T10:39:01.667569",
     "exception": false,
     "start_time": "2024-07-16T10:39:01.583762",
     "status": "completed"
    },
    "tags": []
   },
   "source": [
    "![](https://sphweb.bumc.bu.edu/otlt/MPH-Modules/BS/R/R5_Correlation-Regression/MultipleLinearRegression-Plane.png)"
   ]
  },
  {
   "cell_type": "code",
   "execution_count": 11,
   "id": "775f7cf1",
   "metadata": {
    "execution": {
     "iopub.execute_input": "2024-07-16T10:39:01.839904Z",
     "iopub.status.busy": "2024-07-16T10:39:01.839308Z",
     "iopub.status.idle": "2024-07-16T10:39:01.992483Z",
     "shell.execute_reply": "2024-07-16T10:39:01.991922Z",
     "shell.execute_reply.started": "2023-11-14T12:48:40.496815Z"
    },
    "papermill": {
     "duration": 0.241311,
     "end_time": "2024-07-16T10:39:01.992628",
     "exception": false,
     "start_time": "2024-07-16T10:39:01.751317",
     "status": "completed"
    },
    "tags": []
   },
   "outputs": [],
   "source": [
    "from sklearn.linear_model import LinearRegression\n",
    "model = LinearRegression()"
   ]
  },
  {
   "cell_type": "markdown",
   "id": "f39a4b9b",
   "metadata": {
    "papermill": {
     "duration": 0.085253,
     "end_time": "2024-07-16T10:39:02.164260",
     "exception": false,
     "start_time": "2024-07-16T10:39:02.079007",
     "status": "completed"
    },
    "tags": []
   },
   "source": [
    "If we represent our model the following way: Y = b1.X1 + b2.X2 + ... + bn.Xn + C,  \n",
    "then the fit function allows the model to be find the best coefficient bi for each variable Xi, and the best constant term C.  \n",
    "In other words, it gives them values that produce an error that is as small as possible."
   ]
  },
  {
   "cell_type": "code",
   "execution_count": 12,
   "id": "09416a00",
   "metadata": {
    "execution": {
     "iopub.execute_input": "2024-07-16T10:39:02.340336Z",
     "iopub.status.busy": "2024-07-16T10:39:02.339654Z",
     "iopub.status.idle": "2024-07-16T10:39:02.364319Z",
     "shell.execute_reply": "2024-07-16T10:39:02.364814Z",
     "shell.execute_reply.started": "2023-11-14T12:48:40.671341Z"
    },
    "papermill": {
     "duration": 0.114794,
     "end_time": "2024-07-16T10:39:02.364964",
     "exception": false,
     "start_time": "2024-07-16T10:39:02.250170",
     "status": "completed"
    },
    "tags": []
   },
   "outputs": [
    {
     "data": {
      "text/plain": [
       "LinearRegression()"
      ]
     },
     "execution_count": 12,
     "metadata": {},
     "output_type": "execute_result"
    }
   ],
   "source": [
    "model.fit(xtrain, ytrain)"
   ]
  },
  {
   "cell_type": "markdown",
   "id": "e3d08c5f",
   "metadata": {
    "papermill": {
     "duration": 0.08474,
     "end_time": "2024-07-16T10:39:02.535189",
     "exception": false,
     "start_time": "2024-07-16T10:39:02.450449",
     "status": "completed"
    },
    "tags": []
   },
   "source": [
    "Now, we need to test our model.  \n",
    "We will evaluate the predictions it makes for the patients it hasn't seen before.  "
   ]
  },
  {
   "cell_type": "markdown",
   "id": "b7c14da6",
   "metadata": {
    "papermill": {
     "duration": 0.0836,
     "end_time": "2024-07-16T10:39:02.702994",
     "exception": false,
     "start_time": "2024-07-16T10:39:02.619394",
     "status": "completed"
    },
    "tags": []
   },
   "source": [
    "The predict function tells the model to make predictions."
   ]
  },
  {
   "cell_type": "code",
   "execution_count": 13,
   "id": "dbd0e552",
   "metadata": {
    "execution": {
     "iopub.execute_input": "2024-07-16T10:39:02.878715Z",
     "iopub.status.busy": "2024-07-16T10:39:02.878033Z",
     "iopub.status.idle": "2024-07-16T10:39:02.881000Z",
     "shell.execute_reply": "2024-07-16T10:39:02.880403Z",
     "shell.execute_reply.started": "2023-11-14T12:48:40.698323Z"
    },
    "papermill": {
     "duration": 0.093213,
     "end_time": "2024-07-16T10:39:02.881170",
     "exception": false,
     "start_time": "2024-07-16T10:39:02.787957",
     "status": "completed"
    },
    "tags": []
   },
   "outputs": [],
   "source": [
    "ypred = model.predict(xtest)"
   ]
  },
  {
   "cell_type": "markdown",
   "id": "f7edc9f9",
   "metadata": {
    "papermill": {
     "duration": 0.08528,
     "end_time": "2024-07-16T10:39:03.053229",
     "exception": false,
     "start_time": "2024-07-16T10:39:02.967949",
     "status": "completed"
    },
    "tags": []
   },
   "source": [
    "Now we need to compare the values that the model predicted with the real values (which the model doesn't know).  \n",
    "To do this, we can calculate the \"mean absolute error\" between the real values and the predicted values.  \n",
    "The Mean Absolute Error simply means \"On average, how much error does the model make when predicting the tumor size of the patient?\""
   ]
  },
  {
   "cell_type": "code",
   "execution_count": 14,
   "id": "e7630868",
   "metadata": {
    "execution": {
     "iopub.execute_input": "2024-07-16T10:39:03.230817Z",
     "iopub.status.busy": "2024-07-16T10:39:03.230004Z",
     "iopub.status.idle": "2024-07-16T10:39:03.232804Z",
     "shell.execute_reply": "2024-07-16T10:39:03.232298Z",
     "shell.execute_reply.started": "2023-11-14T12:48:40.705639Z"
    },
    "papermill": {
     "duration": 0.093185,
     "end_time": "2024-07-16T10:39:03.232922",
     "exception": false,
     "start_time": "2024-07-16T10:39:03.139737",
     "status": "completed"
    },
    "tags": []
   },
   "outputs": [],
   "source": [
    "from sklearn.metrics import mean_absolute_error"
   ]
  },
  {
   "cell_type": "markdown",
   "id": "b3d9a7cc",
   "metadata": {
    "papermill": {
     "duration": 0.084143,
     "end_time": "2024-07-16T10:39:03.403137",
     "exception": false,
     "start_time": "2024-07-16T10:39:03.318994",
     "status": "completed"
    },
    "tags": []
   },
   "source": [
    "> random_state"
   ]
  },
  {
   "cell_type": "code",
   "execution_count": 15,
   "id": "f6c6cf2d",
   "metadata": {
    "execution": {
     "iopub.execute_input": "2024-07-16T10:39:03.577498Z",
     "iopub.status.busy": "2024-07-16T10:39:03.576672Z",
     "iopub.status.idle": "2024-07-16T10:39:03.580160Z",
     "shell.execute_reply": "2024-07-16T10:39:03.579616Z",
     "shell.execute_reply.started": "2023-11-14T12:48:40.716544Z"
    },
    "papermill": {
     "duration": 0.092941,
     "end_time": "2024-07-16T10:39:03.580296",
     "exception": false,
     "start_time": "2024-07-16T10:39:03.487355",
     "status": "completed"
    },
    "tags": []
   },
   "outputs": [
    {
     "data": {
      "text/plain": [
       "4.112451737316707"
      ]
     },
     "execution_count": 15,
     "metadata": {},
     "output_type": "execute_result"
    }
   ],
   "source": [
    "mean_absolute_error(ytest, ypred)"
   ]
  },
  {
   "cell_type": "markdown",
   "id": "e5017775",
   "metadata": {
    "papermill": {
     "duration": 0.083907,
     "end_time": "2024-07-16T10:39:03.748583",
     "exception": false,
     "start_time": "2024-07-16T10:39:03.664676",
     "status": "completed"
    },
    "tags": []
   },
   "source": [
    "The MAE value is 3.99 or basically 4.  \n",
    "Is that a small error or a big one?"
   ]
  },
  {
   "cell_type": "markdown",
   "id": "cf4ae889",
   "metadata": {
    "papermill": {
     "duration": 0.087128,
     "end_time": "2024-07-16T10:39:03.921413",
     "exception": false,
     "start_time": "2024-07-16T10:39:03.834285",
     "status": "completed"
    },
    "tags": []
   },
   "source": [
    "Let's take a look at the real values of tumor sizes:"
   ]
  },
  {
   "cell_type": "code",
   "execution_count": 16,
   "id": "c1c0184f",
   "metadata": {
    "execution": {
     "iopub.execute_input": "2024-07-16T10:39:04.104192Z",
     "iopub.status.busy": "2024-07-16T10:39:04.103349Z",
     "iopub.status.idle": "2024-07-16T10:39:04.107006Z",
     "shell.execute_reply": "2024-07-16T10:39:04.106523Z",
     "shell.execute_reply.started": "2023-11-14T12:48:40.729000Z"
    },
    "papermill": {
     "duration": 0.097612,
     "end_time": "2024-07-16T10:39:04.107178",
     "exception": false,
     "start_time": "2024-07-16T10:39:04.009566",
     "status": "completed"
    },
    "tags": []
   },
   "outputs": [
    {
     "data": {
      "text/plain": [
       "3344    10.045\n",
       "4259     3.648\n",
       "8820    13.637\n",
       "204      1.598\n",
       "6172     4.202\n",
       "         ...  \n",
       "4159     1.537\n",
       "2366     6.711\n",
       "8178     2.305\n",
       "4048    14.927\n",
       "2387    19.912\n",
       "Name: tumor_size, Length: 915, dtype: float64"
      ]
     },
     "execution_count": 16,
     "metadata": {},
     "output_type": "execute_result"
    }
   ],
   "source": [
    "ytest"
   ]
  },
  {
   "cell_type": "markdown",
   "id": "d653ce01",
   "metadata": {
    "papermill": {
     "duration": 0.08629,
     "end_time": "2024-07-16T10:39:04.278955",
     "exception": false,
     "start_time": "2024-07-16T10:39:04.192665",
     "status": "completed"
    },
    "tags": []
   },
   "source": [
    "If we take patient number 6700, we can see that the size of the tumor is 0.88  \n",
    "Our model makes an average error of 4.2, so it will make a prediction around 0.88 + 4.2 = 5.08.  \n",
    "5.08 is different from 4.2, and thus our model is making a BIG error for this patient.  \n",
    "If you do look at the other patients you can see that an error of 4.2 will cause predictions to be really bad and far from the truth.  \n",
    "##### What does this mean?  \n",
    "It means that a linear regression model can not make good predictions on this dataset.  \n",
    "We can also say that the equation Y = b1.X1 + b2.X2 + ... + bn.Xn + C is not a good approximation of reality in this case.  \n",
    "##### What do we do now?  \n",
    "Well, we'll be trying another model: the regression tree"
   ]
  },
  {
   "cell_type": "markdown",
   "id": "7b3aac4f",
   "metadata": {
    "papermill": {
     "duration": 0.085729,
     "end_time": "2024-07-16T10:39:04.450678",
     "exception": false,
     "start_time": "2024-07-16T10:39:04.364949",
     "status": "completed"
    },
    "tags": []
   },
   "source": [
    "## Regression Tree"
   ]
  },
  {
   "cell_type": "markdown",
   "id": "87d18c1d",
   "metadata": {
    "papermill": {
     "duration": 0.084884,
     "end_time": "2024-07-16T10:39:04.621659",
     "exception": false,
     "start_time": "2024-07-16T10:39:04.536775",
     "status": "completed"
    },
    "tags": []
   },
   "source": [
    "A decision tree predicts by asking certain questions then making judgements based on the answer.  \n",
    "Training (fitting) consists of learning what are the questions that should be asked, and what judgement to make in each possible answer.  \n",
    "The picture below illustrates this. It shows that the tree consists of nodes, each node being a question. Based on the answer, an appropriate y-value is decided. It also shows the number of samples/rows that correspond to that answer."
   ]
  },
  {
   "cell_type": "markdown",
   "id": "47d48b8c",
   "metadata": {
    "papermill": {
     "duration": 0.085178,
     "end_time": "2024-07-16T10:39:04.791567",
     "exception": false,
     "start_time": "2024-07-16T10:39:04.706389",
     "status": "completed"
    },
    "tags": []
   },
   "source": [
    "![](https://www.statology.org/wp-content/uploads/2020/11/tree3.png)"
   ]
  },
  {
   "cell_type": "markdown",
   "id": "f61a386a",
   "metadata": {
    "papermill": {
     "duration": 0.090883,
     "end_time": "2024-07-16T10:39:04.974686",
     "exception": false,
     "start_time": "2024-07-16T10:39:04.883803",
     "status": "completed"
    },
    "tags": []
   },
   "source": [
    "*But how does the tree learn which questions to ask?*  \n",
    "Well, questions separate points, which represent clients in our case.  \n",
    "Points that represent the \"yes\" answer will be in a group, while ones that correspond to the \"no\" answer will be in a different group.  \n",
    "If points in a same group have very different y values then this question isn't useful to ask.  \n",
    "However if the question separates points into groups such that points in the same group have very similar y values then the question is good to ask.  \n",
    "**But how does the tree find the good questions?**  \n",
    "It (kind of) asks many possible questions then picks the best ones.  \n",
    "**But what kind of questions can be asked?**  \n",
    "The questions are usually inequalities related the values of features (the columns)  \n",
    "For example, one question could be \"x1 > 1.2 ?\" and another could be \"x5 < 70 ?\".  \n",
    "Each question corresponds to a split in the feature space (which basically represents the x values).  \n",
    "For example if we ask \"x2 < 23.1 ?\" then some points will be on the side of the space where x2 < 23.1 and others will be on the side where x2 >= 23.1.  \n",
    "The following picture illustrates that."
   ]
  },
  {
   "cell_type": "markdown",
   "id": "e62a7eed",
   "metadata": {
    "papermill": {
     "duration": 0.086947,
     "end_time": "2024-07-16T10:39:05.147826",
     "exception": false,
     "start_time": "2024-07-16T10:39:05.060879",
     "status": "completed"
    },
    "tags": []
   },
   "source": [
    "![](https://media.springernature.com/original/springer-static/image/prt%3A978-1-4899-7687-1%2F18/MediaObjects/978-1-4899-7687-1_18_Part_Fig1-717_HTML.gif)"
   ]
  },
  {
   "cell_type": "markdown",
   "id": "a73cd11e",
   "metadata": {
    "papermill": {
     "duration": 0.085316,
     "end_time": "2024-07-16T10:39:05.330513",
     "exception": false,
     "start_time": "2024-07-16T10:39:05.245197",
     "status": "completed"
    },
    "tags": []
   },
   "source": [
    "A regression tree basically groups points according to their y value.  \n",
    "In other words, points that have similar y values (such as 1.2, 1.4 and 1.1) would be in the same group.  \n",
    "When predicting the y value of a sample/point/observation/example/row, the tree puts it in a group of points that have similar x values, then assigns to it the mean y value of that group.  "
   ]
  },
  {
   "cell_type": "markdown",
   "id": "53304911",
   "metadata": {
    "papermill": {
     "duration": 0.088368,
     "end_time": "2024-07-16T10:39:05.504690",
     "exception": false,
     "start_time": "2024-07-16T10:39:05.416322",
     "status": "completed"
    },
    "tags": []
   },
   "source": [
    "**But how does the tree measure the \"goodness\" of a question/split?**  \n",
    "Well, the question divides points into two groups.  \n",
    "The tree algorithm calculates the average error in each group.  \n",
    "Meaning it calculates the error that corresponds to every point then calculates the average.  \n",
    "The error is the distance between the y value of that point and the average y value of the group.  \n",
    "Sometimes we the square of that distance as the error, sometimes not. But both are valid.  \n",
    "After calculating the average error for each group, the average error of the question is calculated which is the average between the two groups.  \n",
    "This is done by multiplying each group error by the number of points in that group, adding and dividing by the total number of points.  \n",
    "The following image shows examples of errors that we can use. The mean absolute error is the average distance between points and their average."
   ]
  },
  {
   "cell_type": "markdown",
   "id": "5463937b",
   "metadata": {
    "papermill": {
     "duration": 0.085031,
     "end_time": "2024-07-16T10:39:05.676507",
     "exception": false,
     "start_time": "2024-07-16T10:39:05.591476",
     "status": "completed"
    },
    "tags": []
   },
   "source": [
    "![](https://1.bp.blogspot.com/-kL42RjXdOEc/XMELxXVMe3I/AAAAAAAABRw/mx2RoIheodwWj0CPAqg9chwXJmpOyPyJQCLcBGAs/s1600/Loss_Functions.PNG)"
   ]
  },
  {
   "cell_type": "markdown",
   "id": "a357176f",
   "metadata": {
    "papermill": {
     "duration": 0.085064,
     "end_time": "2024-07-16T10:39:05.847371",
     "exception": false,
     "start_time": "2024-07-16T10:39:05.762307",
     "status": "completed"
    },
    "tags": []
   },
   "source": [
    "I'm sure that explaining this in paragraphs isn't the most useful thing, but I just couldn't make a tutorial with nothing but code in it.  \n",
    "There are plenty of video courses/tutorials/explanations that explain the details of decision trees really well so make sure you check them out."
   ]
  },
  {
   "cell_type": "code",
   "execution_count": 17,
   "id": "e0dc42d5",
   "metadata": {
    "execution": {
     "iopub.execute_input": "2024-07-16T10:39:06.030523Z",
     "iopub.status.busy": "2024-07-16T10:39:06.028420Z",
     "iopub.status.idle": "2024-07-16T10:39:06.105353Z",
     "shell.execute_reply": "2024-07-16T10:39:06.104630Z",
     "shell.execute_reply.started": "2023-11-14T12:48:40.743885Z"
    },
    "papermill": {
     "duration": 0.16965,
     "end_time": "2024-07-16T10:39:06.105493",
     "exception": false,
     "start_time": "2024-07-16T10:39:05.935843",
     "status": "completed"
    },
    "tags": []
   },
   "outputs": [],
   "source": [
    "from sklearn.tree import DecisionTreeRegressor"
   ]
  },
  {
   "cell_type": "code",
   "execution_count": 18,
   "id": "1eae59de",
   "metadata": {
    "execution": {
     "iopub.execute_input": "2024-07-16T10:39:06.282600Z",
     "iopub.status.busy": "2024-07-16T10:39:06.281746Z",
     "iopub.status.idle": "2024-07-16T10:39:06.283830Z",
     "shell.execute_reply": "2024-07-16T10:39:06.284343Z",
     "shell.execute_reply.started": "2023-11-14T12:48:40.835929Z"
    },
    "papermill": {
     "duration": 0.092127,
     "end_time": "2024-07-16T10:39:06.284511",
     "exception": false,
     "start_time": "2024-07-16T10:39:06.192384",
     "status": "completed"
    },
    "tags": []
   },
   "outputs": [],
   "source": [
    "regression_tree = DecisionTreeRegressor()"
   ]
  },
  {
   "cell_type": "code",
   "execution_count": 19,
   "id": "d0ea81c1",
   "metadata": {
    "execution": {
     "iopub.execute_input": "2024-07-16T10:39:06.466439Z",
     "iopub.status.busy": "2024-07-16T10:39:06.465592Z",
     "iopub.status.idle": "2024-07-16T10:39:06.575960Z",
     "shell.execute_reply": "2024-07-16T10:39:06.576483Z",
     "shell.execute_reply.started": "2023-11-14T12:48:40.841064Z"
    },
    "papermill": {
     "duration": 0.205149,
     "end_time": "2024-07-16T10:39:06.576650",
     "exception": false,
     "start_time": "2024-07-16T10:39:06.371501",
     "status": "completed"
    },
    "tags": []
   },
   "outputs": [
    {
     "data": {
      "text/plain": [
       "DecisionTreeRegressor()"
      ]
     },
     "execution_count": 19,
     "metadata": {},
     "output_type": "execute_result"
    }
   ],
   "source": [
    "regression_tree.fit(xtrain, ytrain)"
   ]
  },
  {
   "cell_type": "code",
   "execution_count": 20,
   "id": "1d578a82",
   "metadata": {
    "execution": {
     "iopub.execute_input": "2024-07-16T10:39:06.760801Z",
     "iopub.status.busy": "2024-07-16T10:39:06.759889Z",
     "iopub.status.idle": "2024-07-16T10:39:06.767184Z",
     "shell.execute_reply": "2024-07-16T10:39:06.766623Z",
     "shell.execute_reply.started": "2023-11-14T12:48:40.951239Z"
    },
    "papermill": {
     "duration": 0.097986,
     "end_time": "2024-07-16T10:39:06.767322",
     "exception": false,
     "start_time": "2024-07-16T10:39:06.669336",
     "status": "completed"
    },
    "tags": []
   },
   "outputs": [
    {
     "data": {
      "text/plain": [
       "0.001459482444417446"
      ]
     },
     "execution_count": 20,
     "metadata": {},
     "output_type": "execute_result"
    }
   ],
   "source": [
    "ypred_train = regression_tree.predict(xtrain)\n",
    "mean_absolute_error(ytrain, ypred_train)"
   ]
  },
  {
   "cell_type": "code",
   "execution_count": 21,
   "id": "9470511c",
   "metadata": {
    "execution": {
     "iopub.execute_input": "2024-07-16T10:39:06.949208Z",
     "iopub.status.busy": "2024-07-16T10:39:06.948341Z",
     "iopub.status.idle": "2024-07-16T10:39:06.953708Z",
     "shell.execute_reply": "2024-07-16T10:39:06.953217Z",
     "shell.execute_reply.started": "2023-11-14T12:48:40.962896Z"
    },
    "papermill": {
     "duration": 0.097115,
     "end_time": "2024-07-16T10:39:06.953832",
     "exception": false,
     "start_time": "2024-07-16T10:39:06.856717",
     "status": "completed"
    },
    "tags": []
   },
   "outputs": [
    {
     "data": {
      "text/plain": [
       "3.4679792349726775"
      ]
     },
     "execution_count": 21,
     "metadata": {},
     "output_type": "execute_result"
    }
   ],
   "source": [
    "ypred_test = regression_tree.predict(xtest)\n",
    "mean_absolute_error(ytest, ypred_test)"
   ]
  },
  {
   "cell_type": "markdown",
   "id": "b9a2e510",
   "metadata": {
    "papermill": {
     "duration": 0.086794,
     "end_time": "2024-07-16T10:39:07.128468",
     "exception": false,
     "start_time": "2024-07-16T10:39:07.041674",
     "status": "completed"
    },
    "tags": []
   },
   "source": [
    "#### Notes:\n",
    "* The tree achieved better results than Linear Regression. This almost always the case.  \n",
    "* The tree has practically zero error on the training set. This is because it kept splitting until almost every point is in a group by itself.\n",
    "* The gap between training and testing scores is larger for the tree than it is for linear regression.\n",
    "* This is because the tree focused too much on the training data that it basically memorized it. Thus, when we tested it with data that it hasn't seen/memorized it failed to produce good results.\n",
    "* This is like memorizing 10 math exercices and hoping you get something similar in the test vs understanding exercices."
   ]
  },
  {
   "cell_type": "markdown",
   "id": "1b39977b",
   "metadata": {
    "papermill": {
     "duration": 0.086606,
     "end_time": "2024-07-16T10:39:07.302710",
     "exception": false,
     "start_time": "2024-07-16T10:39:07.216104",
     "status": "completed"
    },
    "tags": []
   },
   "source": [
    "We can improve the testing performance by telling the tree not to grow too long/deep.  \n",
    "Growing too long/deep means the tree is making more cuts in the feature space (the space defined by the features x1, x2, etc..). By making more cuts the tree adjusts better to the data that it's training on.  \n",
    "We don't want the tree to adjust too well to the training data because then it wouldn't perform that well on data that isn't perfectly similar (the testing data).  \n",
    "The \"max_depth\" parameter sets the maximum number of successive nodes / the maximum branch length / the maximum number of questions to be asked."
   ]
  },
  {
   "cell_type": "code",
   "execution_count": 22,
   "id": "e8889cd3",
   "metadata": {
    "execution": {
     "iopub.execute_input": "2024-07-16T10:39:07.481273Z",
     "iopub.status.busy": "2024-07-16T10:39:07.480301Z",
     "iopub.status.idle": "2024-07-16T10:39:07.482922Z",
     "shell.execute_reply": "2024-07-16T10:39:07.482445Z",
     "shell.execute_reply.started": "2023-11-14T12:48:40.973265Z"
    },
    "papermill": {
     "duration": 0.093547,
     "end_time": "2024-07-16T10:39:07.483069",
     "exception": false,
     "start_time": "2024-07-16T10:39:07.389522",
     "status": "completed"
    },
    "tags": []
   },
   "outputs": [],
   "source": [
    "another_regression_tree = DecisionTreeRegressor(max_depth=15)"
   ]
  },
  {
   "cell_type": "code",
   "execution_count": 23,
   "id": "920c9ab0",
   "metadata": {
    "execution": {
     "iopub.execute_input": "2024-07-16T10:39:07.667424Z",
     "iopub.status.busy": "2024-07-16T10:39:07.666616Z",
     "iopub.status.idle": "2024-07-16T10:39:07.750633Z",
     "shell.execute_reply": "2024-07-16T10:39:07.751104Z",
     "shell.execute_reply.started": "2023-11-14T12:48:40.983408Z"
    },
    "papermill": {
     "duration": 0.180563,
     "end_time": "2024-07-16T10:39:07.751265",
     "exception": false,
     "start_time": "2024-07-16T10:39:07.570702",
     "status": "completed"
    },
    "tags": []
   },
   "outputs": [
    {
     "data": {
      "text/plain": [
       "DecisionTreeRegressor(max_depth=15)"
      ]
     },
     "execution_count": 23,
     "metadata": {},
     "output_type": "execute_result"
    }
   ],
   "source": [
    "another_regression_tree.fit(xtrain, ytrain)"
   ]
  },
  {
   "cell_type": "code",
   "execution_count": 24,
   "id": "f9e30008",
   "metadata": {
    "execution": {
     "iopub.execute_input": "2024-07-16T10:39:07.929812Z",
     "iopub.status.busy": "2024-07-16T10:39:07.928938Z",
     "iopub.status.idle": "2024-07-16T10:39:07.934891Z",
     "shell.execute_reply": "2024-07-16T10:39:07.935381Z",
     "shell.execute_reply.started": "2023-11-14T12:48:41.077070Z"
    },
    "papermill": {
     "duration": 0.097425,
     "end_time": "2024-07-16T10:39:07.935536",
     "exception": false,
     "start_time": "2024-07-16T10:39:07.838111",
     "status": "completed"
    },
    "tags": []
   },
   "outputs": [
    {
     "data": {
      "text/plain": [
       "0.8565271345088096"
      ]
     },
     "execution_count": 24,
     "metadata": {},
     "output_type": "execute_result"
    }
   ],
   "source": [
    "ypred_train = another_regression_tree.predict(xtrain)\n",
    "mean_absolute_error(ytrain, ypred_train)"
   ]
  },
  {
   "cell_type": "code",
   "execution_count": 25,
   "id": "e6121d2a",
   "metadata": {
    "execution": {
     "iopub.execute_input": "2024-07-16T10:39:08.118511Z",
     "iopub.status.busy": "2024-07-16T10:39:08.116799Z",
     "iopub.status.idle": "2024-07-16T10:39:08.122012Z",
     "shell.execute_reply": "2024-07-16T10:39:08.121503Z",
     "shell.execute_reply.started": "2023-11-14T12:48:41.089389Z"
    },
    "papermill": {
     "duration": 0.097474,
     "end_time": "2024-07-16T10:39:08.122170",
     "exception": false,
     "start_time": "2024-07-16T10:39:08.024696",
     "status": "completed"
    },
    "tags": []
   },
   "outputs": [
    {
     "data": {
      "text/plain": [
       "3.233716310378867"
      ]
     },
     "execution_count": 25,
     "metadata": {},
     "output_type": "execute_result"
    }
   ],
   "source": [
    "ypred_test = another_regression_tree.predict(xtest)\n",
    "mean_absolute_error(ytest, ypred_test)"
   ]
  },
  {
   "cell_type": "markdown",
   "id": "4bcbc82a",
   "metadata": {
    "papermill": {
     "duration": 0.087591,
     "end_time": "2024-07-16T10:39:08.298684",
     "exception": false,
     "start_time": "2024-07-16T10:39:08.211093",
     "status": "completed"
    },
    "tags": []
   },
   "source": [
    "We can see that the training error increased because the tree isn't perfectly fit to the training data now, but the testing results are better."
   ]
  },
  {
   "cell_type": "markdown",
   "id": "0538ccde",
   "metadata": {
    "papermill": {
     "duration": 0.086698,
     "end_time": "2024-07-16T10:39:08.472370",
     "exception": false,
     "start_time": "2024-07-16T10:39:08.385672",
     "status": "completed"
    },
    "tags": []
   },
   "source": [
    "# Classification"
   ]
  },
  {
   "cell_type": "markdown",
   "id": "a8206c28",
   "metadata": {
    "papermill": {
     "duration": 0.087047,
     "end_time": "2024-07-16T10:39:08.646684",
     "exception": false,
     "start_time": "2024-07-16T10:39:08.559637",
     "status": "completed"
    },
    "tags": []
   },
   "source": [
    "In this section we will build models that aim to predict whether a client is satisfied or neutral/dissatisfied.  \n",
    "The following is preprocessing and exploratory analysis. It isn't very commented since it isn't the focus point of this tutorial."
   ]
  },
  {
   "cell_type": "code",
   "execution_count": 26,
   "id": "398ffd29",
   "metadata": {
    "execution": {
     "iopub.execute_input": "2024-07-16T10:39:08.826823Z",
     "iopub.status.busy": "2024-07-16T10:39:08.826130Z",
     "iopub.status.idle": "2024-07-16T10:39:09.256707Z",
     "shell.execute_reply": "2024-07-16T10:39:09.256081Z",
     "shell.execute_reply.started": "2023-11-14T12:48:41.099132Z"
    },
    "papermill": {
     "duration": 0.522898,
     "end_time": "2024-07-16T10:39:09.256847",
     "exception": false,
     "start_time": "2024-07-16T10:39:08.733949",
     "status": "completed"
    },
    "tags": []
   },
   "outputs": [],
   "source": [
    "train=pd.read_csv(\"../input/airline-passenger-satisfaction/train.csv\")\n",
    "test=pd.read_csv(\"../input/airline-passenger-satisfaction/test.csv\")"
   ]
  },
  {
   "cell_type": "code",
   "execution_count": 27,
   "id": "c266c667",
   "metadata": {
    "execution": {
     "iopub.execute_input": "2024-07-16T10:39:09.438639Z",
     "iopub.status.busy": "2024-07-16T10:39:09.437950Z",
     "iopub.status.idle": "2024-07-16T10:39:09.441412Z",
     "shell.execute_reply": "2024-07-16T10:39:09.440767Z",
     "shell.execute_reply.started": "2023-11-14T12:48:41.555007Z"
    },
    "papermill": {
     "duration": 0.095671,
     "end_time": "2024-07-16T10:39:09.441554",
     "exception": false,
     "start_time": "2024-07-16T10:39:09.345883",
     "status": "completed"
    },
    "tags": []
   },
   "outputs": [
    {
     "data": {
      "text/plain": [
       "['Unnamed: 0',\n",
       " 'id',\n",
       " 'Gender',\n",
       " 'Customer Type',\n",
       " 'Age',\n",
       " 'Type of Travel',\n",
       " 'Class',\n",
       " 'Flight Distance',\n",
       " 'Inflight wifi service',\n",
       " 'Departure/Arrival time convenient',\n",
       " 'Ease of Online booking',\n",
       " 'Gate location',\n",
       " 'Food and drink',\n",
       " 'Online boarding',\n",
       " 'Seat comfort',\n",
       " 'Inflight entertainment',\n",
       " 'On-board service',\n",
       " 'Leg room service',\n",
       " 'Baggage handling',\n",
       " 'Checkin service',\n",
       " 'Inflight service',\n",
       " 'Cleanliness',\n",
       " 'Departure Delay in Minutes',\n",
       " 'Arrival Delay in Minutes',\n",
       " 'satisfaction']"
      ]
     },
     "execution_count": 27,
     "metadata": {},
     "output_type": "execute_result"
    }
   ],
   "source": [
    "list(train.columns)"
   ]
  },
  {
   "cell_type": "code",
   "execution_count": 28,
   "id": "ffb66382",
   "metadata": {
    "execution": {
     "iopub.execute_input": "2024-07-16T10:39:09.629452Z",
     "iopub.status.busy": "2024-07-16T10:39:09.624233Z",
     "iopub.status.idle": "2024-07-16T10:39:09.641229Z",
     "shell.execute_reply": "2024-07-16T10:39:09.641717Z",
     "shell.execute_reply.started": "2023-11-14T12:48:41.562413Z"
    },
    "papermill": {
     "duration": 0.112129,
     "end_time": "2024-07-16T10:39:09.641860",
     "exception": false,
     "start_time": "2024-07-16T10:39:09.529731",
     "status": "completed"
    },
    "tags": []
   },
   "outputs": [
    {
     "data": {
      "text/html": [
       "<div>\n",
       "<style scoped>\n",
       "    .dataframe tbody tr th:only-of-type {\n",
       "        vertical-align: middle;\n",
       "    }\n",
       "\n",
       "    .dataframe tbody tr th {\n",
       "        vertical-align: top;\n",
       "    }\n",
       "\n",
       "    .dataframe thead th {\n",
       "        text-align: right;\n",
       "    }\n",
       "</style>\n",
       "<table border=\"1\" class=\"dataframe\">\n",
       "  <thead>\n",
       "    <tr style=\"text-align: right;\">\n",
       "      <th></th>\n",
       "      <th>Unnamed: 0</th>\n",
       "      <th>id</th>\n",
       "      <th>Gender</th>\n",
       "      <th>Customer Type</th>\n",
       "      <th>Age</th>\n",
       "      <th>Type of Travel</th>\n",
       "      <th>Class</th>\n",
       "      <th>Flight Distance</th>\n",
       "      <th>Inflight wifi service</th>\n",
       "      <th>Departure/Arrival time convenient</th>\n",
       "      <th>...</th>\n",
       "      <th>Inflight entertainment</th>\n",
       "      <th>On-board service</th>\n",
       "      <th>Leg room service</th>\n",
       "      <th>Baggage handling</th>\n",
       "      <th>Checkin service</th>\n",
       "      <th>Inflight service</th>\n",
       "      <th>Cleanliness</th>\n",
       "      <th>Departure Delay in Minutes</th>\n",
       "      <th>Arrival Delay in Minutes</th>\n",
       "      <th>satisfaction</th>\n",
       "    </tr>\n",
       "  </thead>\n",
       "  <tbody>\n",
       "    <tr>\n",
       "      <th>0</th>\n",
       "      <td>0</td>\n",
       "      <td>70172</td>\n",
       "      <td>Male</td>\n",
       "      <td>Loyal Customer</td>\n",
       "      <td>13</td>\n",
       "      <td>Personal Travel</td>\n",
       "      <td>Eco Plus</td>\n",
       "      <td>460</td>\n",
       "      <td>3</td>\n",
       "      <td>4</td>\n",
       "      <td>...</td>\n",
       "      <td>5</td>\n",
       "      <td>4</td>\n",
       "      <td>3</td>\n",
       "      <td>4</td>\n",
       "      <td>4</td>\n",
       "      <td>5</td>\n",
       "      <td>5</td>\n",
       "      <td>25</td>\n",
       "      <td>18.0</td>\n",
       "      <td>neutral or dissatisfied</td>\n",
       "    </tr>\n",
       "    <tr>\n",
       "      <th>1</th>\n",
       "      <td>1</td>\n",
       "      <td>5047</td>\n",
       "      <td>Male</td>\n",
       "      <td>disloyal Customer</td>\n",
       "      <td>25</td>\n",
       "      <td>Business travel</td>\n",
       "      <td>Business</td>\n",
       "      <td>235</td>\n",
       "      <td>3</td>\n",
       "      <td>2</td>\n",
       "      <td>...</td>\n",
       "      <td>1</td>\n",
       "      <td>1</td>\n",
       "      <td>5</td>\n",
       "      <td>3</td>\n",
       "      <td>1</td>\n",
       "      <td>4</td>\n",
       "      <td>1</td>\n",
       "      <td>1</td>\n",
       "      <td>6.0</td>\n",
       "      <td>neutral or dissatisfied</td>\n",
       "    </tr>\n",
       "    <tr>\n",
       "      <th>2</th>\n",
       "      <td>2</td>\n",
       "      <td>110028</td>\n",
       "      <td>Female</td>\n",
       "      <td>Loyal Customer</td>\n",
       "      <td>26</td>\n",
       "      <td>Business travel</td>\n",
       "      <td>Business</td>\n",
       "      <td>1142</td>\n",
       "      <td>2</td>\n",
       "      <td>2</td>\n",
       "      <td>...</td>\n",
       "      <td>5</td>\n",
       "      <td>4</td>\n",
       "      <td>3</td>\n",
       "      <td>4</td>\n",
       "      <td>4</td>\n",
       "      <td>4</td>\n",
       "      <td>5</td>\n",
       "      <td>0</td>\n",
       "      <td>0.0</td>\n",
       "      <td>satisfied</td>\n",
       "    </tr>\n",
       "    <tr>\n",
       "      <th>3</th>\n",
       "      <td>3</td>\n",
       "      <td>24026</td>\n",
       "      <td>Female</td>\n",
       "      <td>Loyal Customer</td>\n",
       "      <td>25</td>\n",
       "      <td>Business travel</td>\n",
       "      <td>Business</td>\n",
       "      <td>562</td>\n",
       "      <td>2</td>\n",
       "      <td>5</td>\n",
       "      <td>...</td>\n",
       "      <td>2</td>\n",
       "      <td>2</td>\n",
       "      <td>5</td>\n",
       "      <td>3</td>\n",
       "      <td>1</td>\n",
       "      <td>4</td>\n",
       "      <td>2</td>\n",
       "      <td>11</td>\n",
       "      <td>9.0</td>\n",
       "      <td>neutral or dissatisfied</td>\n",
       "    </tr>\n",
       "    <tr>\n",
       "      <th>4</th>\n",
       "      <td>4</td>\n",
       "      <td>119299</td>\n",
       "      <td>Male</td>\n",
       "      <td>Loyal Customer</td>\n",
       "      <td>61</td>\n",
       "      <td>Business travel</td>\n",
       "      <td>Business</td>\n",
       "      <td>214</td>\n",
       "      <td>3</td>\n",
       "      <td>3</td>\n",
       "      <td>...</td>\n",
       "      <td>3</td>\n",
       "      <td>3</td>\n",
       "      <td>4</td>\n",
       "      <td>4</td>\n",
       "      <td>3</td>\n",
       "      <td>3</td>\n",
       "      <td>3</td>\n",
       "      <td>0</td>\n",
       "      <td>0.0</td>\n",
       "      <td>satisfied</td>\n",
       "    </tr>\n",
       "  </tbody>\n",
       "</table>\n",
       "<p>5 rows × 25 columns</p>\n",
       "</div>"
      ],
      "text/plain": [
       "   Unnamed: 0      id  Gender      Customer Type  Age   Type of Travel  \\\n",
       "0           0   70172    Male     Loyal Customer   13  Personal Travel   \n",
       "1           1    5047    Male  disloyal Customer   25  Business travel   \n",
       "2           2  110028  Female     Loyal Customer   26  Business travel   \n",
       "3           3   24026  Female     Loyal Customer   25  Business travel   \n",
       "4           4  119299    Male     Loyal Customer   61  Business travel   \n",
       "\n",
       "      Class  Flight Distance  Inflight wifi service  \\\n",
       "0  Eco Plus              460                      3   \n",
       "1  Business              235                      3   \n",
       "2  Business             1142                      2   \n",
       "3  Business              562                      2   \n",
       "4  Business              214                      3   \n",
       "\n",
       "   Departure/Arrival time convenient  ...  Inflight entertainment  \\\n",
       "0                                  4  ...                       5   \n",
       "1                                  2  ...                       1   \n",
       "2                                  2  ...                       5   \n",
       "3                                  5  ...                       2   \n",
       "4                                  3  ...                       3   \n",
       "\n",
       "   On-board service  Leg room service  Baggage handling  Checkin service  \\\n",
       "0                 4                 3                 4                4   \n",
       "1                 1                 5                 3                1   \n",
       "2                 4                 3                 4                4   \n",
       "3                 2                 5                 3                1   \n",
       "4                 3                 4                 4                3   \n",
       "\n",
       "   Inflight service  Cleanliness  Departure Delay in Minutes  \\\n",
       "0                 5            5                          25   \n",
       "1                 4            1                           1   \n",
       "2                 4            5                           0   \n",
       "3                 4            2                          11   \n",
       "4                 3            3                           0   \n",
       "\n",
       "   Arrival Delay in Minutes             satisfaction  \n",
       "0                      18.0  neutral or dissatisfied  \n",
       "1                       6.0  neutral or dissatisfied  \n",
       "2                       0.0                satisfied  \n",
       "3                       9.0  neutral or dissatisfied  \n",
       "4                       0.0                satisfied  \n",
       "\n",
       "[5 rows x 25 columns]"
      ]
     },
     "execution_count": 28,
     "metadata": {},
     "output_type": "execute_result"
    }
   ],
   "source": [
    "train.head()"
   ]
  },
  {
   "cell_type": "code",
   "execution_count": 29,
   "id": "cffe5134",
   "metadata": {
    "execution": {
     "iopub.execute_input": "2024-07-16T10:39:09.831459Z",
     "iopub.status.busy": "2024-07-16T10:39:09.827779Z",
     "iopub.status.idle": "2024-07-16T10:39:09.850234Z",
     "shell.execute_reply": "2024-07-16T10:39:09.849627Z",
     "shell.execute_reply.started": "2023-11-14T12:48:41.593002Z"
    },
    "papermill": {
     "duration": 0.117828,
     "end_time": "2024-07-16T10:39:09.850357",
     "exception": false,
     "start_time": "2024-07-16T10:39:09.732529",
     "status": "completed"
    },
    "tags": []
   },
   "outputs": [
    {
     "data": {
      "text/html": [
       "<div>\n",
       "<style scoped>\n",
       "    .dataframe tbody tr th:only-of-type {\n",
       "        vertical-align: middle;\n",
       "    }\n",
       "\n",
       "    .dataframe tbody tr th {\n",
       "        vertical-align: top;\n",
       "    }\n",
       "\n",
       "    .dataframe thead th {\n",
       "        text-align: right;\n",
       "    }\n",
       "</style>\n",
       "<table border=\"1\" class=\"dataframe\">\n",
       "  <thead>\n",
       "    <tr style=\"text-align: right;\">\n",
       "      <th></th>\n",
       "      <th>Unnamed: 0</th>\n",
       "      <th>id</th>\n",
       "      <th>Gender</th>\n",
       "      <th>Customer Type</th>\n",
       "      <th>Age</th>\n",
       "      <th>Type of Travel</th>\n",
       "      <th>Class</th>\n",
       "      <th>Flight Distance</th>\n",
       "      <th>Inflight wifi service</th>\n",
       "      <th>Departure/Arrival time convenient</th>\n",
       "      <th>...</th>\n",
       "      <th>Inflight entertainment</th>\n",
       "      <th>On-board service</th>\n",
       "      <th>Leg room service</th>\n",
       "      <th>Baggage handling</th>\n",
       "      <th>Checkin service</th>\n",
       "      <th>Inflight service</th>\n",
       "      <th>Cleanliness</th>\n",
       "      <th>Departure Delay in Minutes</th>\n",
       "      <th>Arrival Delay in Minutes</th>\n",
       "      <th>satisfaction</th>\n",
       "    </tr>\n",
       "  </thead>\n",
       "  <tbody>\n",
       "    <tr>\n",
       "      <th>0</th>\n",
       "      <td>0</td>\n",
       "      <td>19556</td>\n",
       "      <td>Female</td>\n",
       "      <td>Loyal Customer</td>\n",
       "      <td>52</td>\n",
       "      <td>Business travel</td>\n",
       "      <td>Eco</td>\n",
       "      <td>160</td>\n",
       "      <td>5</td>\n",
       "      <td>4</td>\n",
       "      <td>...</td>\n",
       "      <td>5</td>\n",
       "      <td>5</td>\n",
       "      <td>5</td>\n",
       "      <td>5</td>\n",
       "      <td>2</td>\n",
       "      <td>5</td>\n",
       "      <td>5</td>\n",
       "      <td>50</td>\n",
       "      <td>44.0</td>\n",
       "      <td>satisfied</td>\n",
       "    </tr>\n",
       "    <tr>\n",
       "      <th>1</th>\n",
       "      <td>1</td>\n",
       "      <td>90035</td>\n",
       "      <td>Female</td>\n",
       "      <td>Loyal Customer</td>\n",
       "      <td>36</td>\n",
       "      <td>Business travel</td>\n",
       "      <td>Business</td>\n",
       "      <td>2863</td>\n",
       "      <td>1</td>\n",
       "      <td>1</td>\n",
       "      <td>...</td>\n",
       "      <td>4</td>\n",
       "      <td>4</td>\n",
       "      <td>4</td>\n",
       "      <td>4</td>\n",
       "      <td>3</td>\n",
       "      <td>4</td>\n",
       "      <td>5</td>\n",
       "      <td>0</td>\n",
       "      <td>0.0</td>\n",
       "      <td>satisfied</td>\n",
       "    </tr>\n",
       "    <tr>\n",
       "      <th>2</th>\n",
       "      <td>2</td>\n",
       "      <td>12360</td>\n",
       "      <td>Male</td>\n",
       "      <td>disloyal Customer</td>\n",
       "      <td>20</td>\n",
       "      <td>Business travel</td>\n",
       "      <td>Eco</td>\n",
       "      <td>192</td>\n",
       "      <td>2</td>\n",
       "      <td>0</td>\n",
       "      <td>...</td>\n",
       "      <td>2</td>\n",
       "      <td>4</td>\n",
       "      <td>1</td>\n",
       "      <td>3</td>\n",
       "      <td>2</td>\n",
       "      <td>2</td>\n",
       "      <td>2</td>\n",
       "      <td>0</td>\n",
       "      <td>0.0</td>\n",
       "      <td>neutral or dissatisfied</td>\n",
       "    </tr>\n",
       "    <tr>\n",
       "      <th>3</th>\n",
       "      <td>3</td>\n",
       "      <td>77959</td>\n",
       "      <td>Male</td>\n",
       "      <td>Loyal Customer</td>\n",
       "      <td>44</td>\n",
       "      <td>Business travel</td>\n",
       "      <td>Business</td>\n",
       "      <td>3377</td>\n",
       "      <td>0</td>\n",
       "      <td>0</td>\n",
       "      <td>...</td>\n",
       "      <td>1</td>\n",
       "      <td>1</td>\n",
       "      <td>1</td>\n",
       "      <td>1</td>\n",
       "      <td>3</td>\n",
       "      <td>1</td>\n",
       "      <td>4</td>\n",
       "      <td>0</td>\n",
       "      <td>6.0</td>\n",
       "      <td>satisfied</td>\n",
       "    </tr>\n",
       "    <tr>\n",
       "      <th>4</th>\n",
       "      <td>4</td>\n",
       "      <td>36875</td>\n",
       "      <td>Female</td>\n",
       "      <td>Loyal Customer</td>\n",
       "      <td>49</td>\n",
       "      <td>Business travel</td>\n",
       "      <td>Eco</td>\n",
       "      <td>1182</td>\n",
       "      <td>2</td>\n",
       "      <td>3</td>\n",
       "      <td>...</td>\n",
       "      <td>2</td>\n",
       "      <td>2</td>\n",
       "      <td>2</td>\n",
       "      <td>2</td>\n",
       "      <td>4</td>\n",
       "      <td>2</td>\n",
       "      <td>4</td>\n",
       "      <td>0</td>\n",
       "      <td>20.0</td>\n",
       "      <td>satisfied</td>\n",
       "    </tr>\n",
       "  </tbody>\n",
       "</table>\n",
       "<p>5 rows × 25 columns</p>\n",
       "</div>"
      ],
      "text/plain": [
       "   Unnamed: 0     id  Gender      Customer Type  Age   Type of Travel  \\\n",
       "0           0  19556  Female     Loyal Customer   52  Business travel   \n",
       "1           1  90035  Female     Loyal Customer   36  Business travel   \n",
       "2           2  12360    Male  disloyal Customer   20  Business travel   \n",
       "3           3  77959    Male     Loyal Customer   44  Business travel   \n",
       "4           4  36875  Female     Loyal Customer   49  Business travel   \n",
       "\n",
       "      Class  Flight Distance  Inflight wifi service  \\\n",
       "0       Eco              160                      5   \n",
       "1  Business             2863                      1   \n",
       "2       Eco              192                      2   \n",
       "3  Business             3377                      0   \n",
       "4       Eco             1182                      2   \n",
       "\n",
       "   Departure/Arrival time convenient  ...  Inflight entertainment  \\\n",
       "0                                  4  ...                       5   \n",
       "1                                  1  ...                       4   \n",
       "2                                  0  ...                       2   \n",
       "3                                  0  ...                       1   \n",
       "4                                  3  ...                       2   \n",
       "\n",
       "   On-board service  Leg room service  Baggage handling  Checkin service  \\\n",
       "0                 5                 5                 5                2   \n",
       "1                 4                 4                 4                3   \n",
       "2                 4                 1                 3                2   \n",
       "3                 1                 1                 1                3   \n",
       "4                 2                 2                 2                4   \n",
       "\n",
       "   Inflight service  Cleanliness  Departure Delay in Minutes  \\\n",
       "0                 5            5                          50   \n",
       "1                 4            5                           0   \n",
       "2                 2            2                           0   \n",
       "3                 1            4                           0   \n",
       "4                 2            4                           0   \n",
       "\n",
       "   Arrival Delay in Minutes             satisfaction  \n",
       "0                      44.0                satisfied  \n",
       "1                       0.0                satisfied  \n",
       "2                       0.0  neutral or dissatisfied  \n",
       "3                       6.0                satisfied  \n",
       "4                      20.0                satisfied  \n",
       "\n",
       "[5 rows x 25 columns]"
      ]
     },
     "execution_count": 29,
     "metadata": {},
     "output_type": "execute_result"
    }
   ],
   "source": [
    "test.head()"
   ]
  },
  {
   "cell_type": "code",
   "execution_count": 30,
   "id": "1d5e42fa",
   "metadata": {
    "execution": {
     "iopub.execute_input": "2024-07-16T10:39:10.041392Z",
     "iopub.status.busy": "2024-07-16T10:39:10.040676Z",
     "iopub.status.idle": "2024-07-16T10:39:10.054712Z",
     "shell.execute_reply": "2024-07-16T10:39:10.053982Z",
     "shell.execute_reply.started": "2023-11-14T12:48:41.619820Z"
    },
    "papermill": {
     "duration": 0.110778,
     "end_time": "2024-07-16T10:39:10.054848",
     "exception": false,
     "start_time": "2024-07-16T10:39:09.944070",
     "status": "completed"
    },
    "tags": []
   },
   "outputs": [],
   "source": [
    "train.drop([\"Unnamed: 0\", \"id\"], axis=1, inplace=True)\n",
    "test.drop([\"Unnamed: 0\", \"id\"], axis=1, inplace=True)"
   ]
  },
  {
   "cell_type": "code",
   "execution_count": 31,
   "id": "13f6a69d",
   "metadata": {
    "execution": {
     "iopub.execute_input": "2024-07-16T10:39:10.320562Z",
     "iopub.status.busy": "2024-07-16T10:39:10.319571Z",
     "iopub.status.idle": "2024-07-16T10:39:10.329448Z",
     "shell.execute_reply": "2024-07-16T10:39:10.329950Z",
     "shell.execute_reply.started": "2023-11-14T12:48:41.646457Z"
    },
    "papermill": {
     "duration": 0.178539,
     "end_time": "2024-07-16T10:39:10.330146",
     "exception": false,
     "start_time": "2024-07-16T10:39:10.151607",
     "status": "completed"
    },
    "tags": []
   },
   "outputs": [
    {
     "data": {
      "text/plain": [
       "Gender                                 0\n",
       "Customer Type                          0\n",
       "Age                                    0\n",
       "Type of Travel                         0\n",
       "Class                                  0\n",
       "Flight Distance                        0\n",
       "Inflight wifi service                  0\n",
       "Departure/Arrival time convenient      0\n",
       "Ease of Online booking                 0\n",
       "Gate location                          0\n",
       "Food and drink                         0\n",
       "Online boarding                        0\n",
       "Seat comfort                           0\n",
       "Inflight entertainment                 0\n",
       "On-board service                       0\n",
       "Leg room service                       0\n",
       "Baggage handling                       0\n",
       "Checkin service                        0\n",
       "Inflight service                       0\n",
       "Cleanliness                            0\n",
       "Departure Delay in Minutes             0\n",
       "Arrival Delay in Minutes             310\n",
       "satisfaction                           0\n",
       "dtype: int64"
      ]
     },
     "execution_count": 31,
     "metadata": {},
     "output_type": "execute_result"
    }
   ],
   "source": [
    "train.isna().sum()"
   ]
  },
  {
   "cell_type": "code",
   "execution_count": 32,
   "id": "5742773c",
   "metadata": {
    "execution": {
     "iopub.execute_input": "2024-07-16T10:39:10.542275Z",
     "iopub.status.busy": "2024-07-16T10:39:10.541549Z",
     "iopub.status.idle": "2024-07-16T10:39:10.549984Z",
     "shell.execute_reply": "2024-07-16T10:39:10.549337Z",
     "shell.execute_reply.started": "2023-11-14T12:48:41.708584Z"
    },
    "papermill": {
     "duration": 0.125766,
     "end_time": "2024-07-16T10:39:10.550135",
     "exception": false,
     "start_time": "2024-07-16T10:39:10.424369",
     "status": "completed"
    },
    "tags": []
   },
   "outputs": [
    {
     "data": {
      "text/plain": [
       "Gender                                0\n",
       "Customer Type                         0\n",
       "Age                                   0\n",
       "Type of Travel                        0\n",
       "Class                                 0\n",
       "Flight Distance                       0\n",
       "Inflight wifi service                 0\n",
       "Departure/Arrival time convenient     0\n",
       "Ease of Online booking                0\n",
       "Gate location                         0\n",
       "Food and drink                        0\n",
       "Online boarding                       0\n",
       "Seat comfort                          0\n",
       "Inflight entertainment                0\n",
       "On-board service                      0\n",
       "Leg room service                      0\n",
       "Baggage handling                      0\n",
       "Checkin service                       0\n",
       "Inflight service                      0\n",
       "Cleanliness                           0\n",
       "Departure Delay in Minutes            0\n",
       "Arrival Delay in Minutes             83\n",
       "satisfaction                          0\n",
       "dtype: int64"
      ]
     },
     "execution_count": 32,
     "metadata": {},
     "output_type": "execute_result"
    }
   ],
   "source": [
    "test.isna().sum()"
   ]
  },
  {
   "cell_type": "code",
   "execution_count": 33,
   "id": "cd750be5",
   "metadata": {
    "execution": {
     "iopub.execute_input": "2024-07-16T10:39:10.798652Z",
     "iopub.status.busy": "2024-07-16T10:39:10.797203Z",
     "iopub.status.idle": "2024-07-16T10:39:10.835133Z",
     "shell.execute_reply": "2024-07-16T10:39:10.834563Z",
     "shell.execute_reply.started": "2023-11-14T12:48:41.731477Z"
    },
    "papermill": {
     "duration": 0.186535,
     "end_time": "2024-07-16T10:39:10.835284",
     "exception": false,
     "start_time": "2024-07-16T10:39:10.648749",
     "status": "completed"
    },
    "tags": []
   },
   "outputs": [],
   "source": [
    "train.dropna(inplace=True)\n",
    "test.dropna(inplace=True)"
   ]
  },
  {
   "cell_type": "code",
   "execution_count": 34,
   "id": "d75b2722",
   "metadata": {
    "execution": {
     "iopub.execute_input": "2024-07-16T10:39:11.073433Z",
     "iopub.status.busy": "2024-07-16T10:39:11.072760Z",
     "iopub.status.idle": "2024-07-16T10:39:11.086925Z",
     "shell.execute_reply": "2024-07-16T10:39:11.086410Z",
     "shell.execute_reply.started": "2023-11-14T12:48:41.825608Z"
    },
    "papermill": {
     "duration": 0.161433,
     "end_time": "2024-07-16T10:39:11.087069",
     "exception": false,
     "start_time": "2024-07-16T10:39:10.925636",
     "status": "completed"
    },
    "tags": []
   },
   "outputs": [
    {
     "name": "stdout",
     "output_type": "stream",
     "text": [
      "<class 'pandas.core.frame.DataFrame'>\n",
      "Int64Index: 103594 entries, 0 to 103903\n",
      "Data columns (total 23 columns):\n",
      " #   Column                             Non-Null Count   Dtype  \n",
      "---  ------                             --------------   -----  \n",
      " 0   Gender                             103594 non-null  object \n",
      " 1   Customer Type                      103594 non-null  object \n",
      " 2   Age                                103594 non-null  int64  \n",
      " 3   Type of Travel                     103594 non-null  object \n",
      " 4   Class                              103594 non-null  object \n",
      " 5   Flight Distance                    103594 non-null  int64  \n",
      " 6   Inflight wifi service              103594 non-null  int64  \n",
      " 7   Departure/Arrival time convenient  103594 non-null  int64  \n",
      " 8   Ease of Online booking             103594 non-null  int64  \n",
      " 9   Gate location                      103594 non-null  int64  \n",
      " 10  Food and drink                     103594 non-null  int64  \n",
      " 11  Online boarding                    103594 non-null  int64  \n",
      " 12  Seat comfort                       103594 non-null  int64  \n",
      " 13  Inflight entertainment             103594 non-null  int64  \n",
      " 14  On-board service                   103594 non-null  int64  \n",
      " 15  Leg room service                   103594 non-null  int64  \n",
      " 16  Baggage handling                   103594 non-null  int64  \n",
      " 17  Checkin service                    103594 non-null  int64  \n",
      " 18  Inflight service                   103594 non-null  int64  \n",
      " 19  Cleanliness                        103594 non-null  int64  \n",
      " 20  Departure Delay in Minutes         103594 non-null  int64  \n",
      " 21  Arrival Delay in Minutes           103594 non-null  float64\n",
      " 22  satisfaction                       103594 non-null  object \n",
      "dtypes: float64(1), int64(17), object(5)\n",
      "memory usage: 19.0+ MB\n"
     ]
    }
   ],
   "source": [
    "train.info()"
   ]
  },
  {
   "cell_type": "code",
   "execution_count": 35,
   "id": "7dfc1683",
   "metadata": {
    "execution": {
     "iopub.execute_input": "2024-07-16T10:39:11.278564Z",
     "iopub.status.busy": "2024-07-16T10:39:11.277750Z",
     "iopub.status.idle": "2024-07-16T10:39:11.279850Z",
     "shell.execute_reply": "2024-07-16T10:39:11.280376Z",
     "shell.execute_reply.started": "2023-11-14T12:48:41.893199Z"
    },
    "papermill": {
     "duration": 0.099357,
     "end_time": "2024-07-16T10:39:11.280527",
     "exception": false,
     "start_time": "2024-07-16T10:39:11.181170",
     "status": "completed"
    },
    "tags": []
   },
   "outputs": [],
   "source": [
    "categoricals = ['Gender', 'Customer Type', 'Type of Travel', 'Class', 'satisfaction']"
   ]
  },
  {
   "cell_type": "code",
   "execution_count": 36,
   "id": "d72a5326",
   "metadata": {
    "execution": {
     "iopub.execute_input": "2024-07-16T10:39:11.543368Z",
     "iopub.status.busy": "2024-07-16T10:39:11.480568Z",
     "iopub.status.idle": "2024-07-16T10:39:11.546438Z",
     "shell.execute_reply": "2024-07-16T10:39:11.546922Z",
     "shell.execute_reply.started": "2023-11-14T12:48:41.898611Z"
    },
    "papermill": {
     "duration": 0.175272,
     "end_time": "2024-07-16T10:39:11.547101",
     "exception": false,
     "start_time": "2024-07-16T10:39:11.371829",
     "status": "completed"
    },
    "tags": []
   },
   "outputs": [
    {
     "name": "stdout",
     "output_type": "stream",
     "text": [
      "Female    52576\n",
      "Male      51018\n",
      "Name: Gender, dtype: int64\n",
      "\n",
      "\n",
      "Loyal Customer       84662\n",
      "disloyal Customer    18932\n",
      "Name: Customer Type, dtype: int64\n",
      "\n",
      "\n",
      "Business travel    71465\n",
      "Personal Travel    32129\n",
      "Name: Type of Travel, dtype: int64\n",
      "\n",
      "\n",
      "Business    49533\n",
      "Eco         46593\n",
      "Eco Plus     7468\n",
      "Name: Class, dtype: int64\n",
      "\n",
      "\n",
      "neutral or dissatisfied    58697\n",
      "satisfied                  44897\n",
      "Name: satisfaction, dtype: int64\n",
      "\n",
      "\n"
     ]
    }
   ],
   "source": [
    "for col in categoricals:\n",
    "    print(train[col].value_counts())\n",
    "    print(\"\\n\")"
   ]
  },
  {
   "cell_type": "code",
   "execution_count": 37,
   "id": "fa68d0e1",
   "metadata": {
    "execution": {
     "iopub.execute_input": "2024-07-16T10:39:11.747959Z",
     "iopub.status.busy": "2024-07-16T10:39:11.741491Z",
     "iopub.status.idle": "2024-07-16T10:39:12.062474Z",
     "shell.execute_reply": "2024-07-16T10:39:12.061604Z",
     "shell.execute_reply.started": "2023-11-14T12:48:41.987753Z"
    },
    "papermill": {
     "duration": 0.425326,
     "end_time": "2024-07-16T10:39:12.062692",
     "exception": false,
     "start_time": "2024-07-16T10:39:11.637366",
     "status": "completed"
    },
    "tags": []
   },
   "outputs": [
    {
     "data": {
      "image/png": "[encoded data removed]",
      "text/plain": [
       "<Figure size 432x288 with 1 Axes>"
      ]
     },
     "metadata": {},
     "output_type": "display_data"
    }
   ],
   "source": [
    "sns.countplot(x=train[\"satisfaction\"])\n",
    "plt.show()"
   ]
  },
  {
   "cell_type": "code",
   "execution_count": 38,
   "id": "130da22e",
   "metadata": {
    "execution": {
     "iopub.execute_input": "2024-07-16T10:39:12.268991Z",
     "iopub.status.busy": "2024-07-16T10:39:12.268377Z",
     "iopub.status.idle": "2024-07-16T10:39:12.622818Z",
     "shell.execute_reply": "2024-07-16T10:39:12.623506Z",
     "shell.execute_reply.started": "2023-11-14T12:48:42.319032Z"
    },
    "papermill": {
     "duration": 0.454975,
     "end_time": "2024-07-16T10:39:12.623719",
     "exception": false,
     "start_time": "2024-07-16T10:39:12.168744",
     "status": "completed"
    },
    "tags": []
   },
   "outputs": [
    {
     "data": {
      "image/png": "[encoded data removed]",
      "text/plain": [
       "<Figure size 1440x504 with 2 Axes>"
      ]
     },
     "metadata": {},
     "output_type": "display_data"
    }
   ],
   "source": [
    "plt.figure(figsize=(20,7))\n",
    "sns.heatmap(pd.crosstab(train[\"Class\"], train[\"satisfaction\"], normalize=\"index\"),\n",
    "            annot = True, cmap=\"Blues\", fmt=\".2f\", annot_kws={\"fontsize\":20})\n",
    "plt.show()"
   ]
  },
  {
   "cell_type": "markdown",
   "id": "91048813",
   "metadata": {
    "papermill": {
     "duration": 0.094127,
     "end_time": "2024-07-16T10:39:12.815253",
     "exception": false,
     "start_time": "2024-07-16T10:39:12.721126",
     "status": "completed"
    },
    "tags": []
   },
   "source": [
    "I've decided to encode \"Class\" labels/values based on their relationship with satisfaction:"
   ]
  },
  {
   "cell_type": "code",
   "execution_count": 39,
   "id": "468a1a2c",
   "metadata": {
    "execution": {
     "iopub.execute_input": "2024-07-16T10:39:13.021251Z",
     "iopub.status.busy": "2024-07-16T10:39:13.020534Z",
     "iopub.status.idle": "2024-07-16T10:39:13.036216Z",
     "shell.execute_reply": "2024-07-16T10:39:13.035539Z",
     "shell.execute_reply.started": "2023-11-14T12:48:42.651409Z"
    },
    "papermill": {
     "duration": 0.127447,
     "end_time": "2024-07-16T10:39:13.036353",
     "exception": false,
     "start_time": "2024-07-16T10:39:12.908906",
     "status": "completed"
    },
    "tags": []
   },
   "outputs": [],
   "source": [
    "train[\"Class\"] = train[\"Class\"].map({\"Eco\":0, \"Eco Plus\":1, \"Business\":2})\n",
    "test[\"Class\"] = test[\"Class\"].map({\"Eco\":0, \"Eco Plus\":1, \"Business\":2})"
   ]
  },
  {
   "cell_type": "code",
   "execution_count": 40,
   "id": "7ac91ce5",
   "metadata": {
    "execution": {
     "iopub.execute_input": "2024-07-16T10:39:13.254328Z",
     "iopub.status.busy": "2024-07-16T10:39:13.253606Z",
     "iopub.status.idle": "2024-07-16T10:39:13.354029Z",
     "shell.execute_reply": "2024-07-16T10:39:13.353261Z",
     "shell.execute_reply.started": "2023-11-14T12:48:42.683245Z"
    },
    "papermill": {
     "duration": 0.215461,
     "end_time": "2024-07-16T10:39:13.354248",
     "exception": false,
     "start_time": "2024-07-16T10:39:13.138787",
     "status": "completed"
    },
    "tags": []
   },
   "outputs": [],
   "source": [
    "train = pd.get_dummies(train, drop_first=True)\n",
    "test = pd.get_dummies(test, drop_first=True)"
   ]
  },
  {
   "cell_type": "code",
   "execution_count": 41,
   "id": "adff7cbc",
   "metadata": {
    "execution": {
     "iopub.execute_input": "2024-07-16T10:39:13.561234Z",
     "iopub.status.busy": "2024-07-16T10:39:13.553999Z",
     "iopub.status.idle": "2024-07-16T10:39:13.565256Z",
     "shell.execute_reply": "2024-07-16T10:39:13.564535Z",
     "shell.execute_reply.started": "2023-11-14T12:48:42.782467Z"
    },
    "papermill": {
     "duration": 0.11786,
     "end_time": "2024-07-16T10:39:13.565401",
     "exception": false,
     "start_time": "2024-07-16T10:39:13.447541",
     "status": "completed"
    },
    "tags": []
   },
   "outputs": [
    {
     "data": {
      "text/html": [
       "<div>\n",
       "<style scoped>\n",
       "    .dataframe tbody tr th:only-of-type {\n",
       "        vertical-align: middle;\n",
       "    }\n",
       "\n",
       "    .dataframe tbody tr th {\n",
       "        vertical-align: top;\n",
       "    }\n",
       "\n",
       "    .dataframe thead th {\n",
       "        text-align: right;\n",
       "    }\n",
       "</style>\n",
       "<table border=\"1\" class=\"dataframe\">\n",
       "  <thead>\n",
       "    <tr style=\"text-align: right;\">\n",
       "      <th></th>\n",
       "      <th>Age</th>\n",
       "      <th>Class</th>\n",
       "      <th>Flight Distance</th>\n",
       "      <th>Inflight wifi service</th>\n",
       "      <th>Departure/Arrival time convenient</th>\n",
       "      <th>Ease of Online booking</th>\n",
       "      <th>Gate location</th>\n",
       "      <th>Food and drink</th>\n",
       "      <th>Online boarding</th>\n",
       "      <th>Seat comfort</th>\n",
       "      <th>...</th>\n",
       "      <th>Baggage handling</th>\n",
       "      <th>Checkin service</th>\n",
       "      <th>Inflight service</th>\n",
       "      <th>Cleanliness</th>\n",
       "      <th>Departure Delay in Minutes</th>\n",
       "      <th>Arrival Delay in Minutes</th>\n",
       "      <th>Gender_Male</th>\n",
       "      <th>Customer Type_disloyal Customer</th>\n",
       "      <th>Type of Travel_Personal Travel</th>\n",
       "      <th>satisfaction_satisfied</th>\n",
       "    </tr>\n",
       "  </thead>\n",
       "  <tbody>\n",
       "    <tr>\n",
       "      <th>0</th>\n",
       "      <td>13</td>\n",
       "      <td>1</td>\n",
       "      <td>460</td>\n",
       "      <td>3</td>\n",
       "      <td>4</td>\n",
       "      <td>3</td>\n",
       "      <td>1</td>\n",
       "      <td>5</td>\n",
       "      <td>3</td>\n",
       "      <td>5</td>\n",
       "      <td>...</td>\n",
       "      <td>4</td>\n",
       "      <td>4</td>\n",
       "      <td>5</td>\n",
       "      <td>5</td>\n",
       "      <td>25</td>\n",
       "      <td>18.0</td>\n",
       "      <td>1</td>\n",
       "      <td>0</td>\n",
       "      <td>1</td>\n",
       "      <td>0</td>\n",
       "    </tr>\n",
       "    <tr>\n",
       "      <th>1</th>\n",
       "      <td>25</td>\n",
       "      <td>2</td>\n",
       "      <td>235</td>\n",
       "      <td>3</td>\n",
       "      <td>2</td>\n",
       "      <td>3</td>\n",
       "      <td>3</td>\n",
       "      <td>1</td>\n",
       "      <td>3</td>\n",
       "      <td>1</td>\n",
       "      <td>...</td>\n",
       "      <td>3</td>\n",
       "      <td>1</td>\n",
       "      <td>4</td>\n",
       "      <td>1</td>\n",
       "      <td>1</td>\n",
       "      <td>6.0</td>\n",
       "      <td>1</td>\n",
       "      <td>1</td>\n",
       "      <td>0</td>\n",
       "      <td>0</td>\n",
       "    </tr>\n",
       "    <tr>\n",
       "      <th>2</th>\n",
       "      <td>26</td>\n",
       "      <td>2</td>\n",
       "      <td>1142</td>\n",
       "      <td>2</td>\n",
       "      <td>2</td>\n",
       "      <td>2</td>\n",
       "      <td>2</td>\n",
       "      <td>5</td>\n",
       "      <td>5</td>\n",
       "      <td>5</td>\n",
       "      <td>...</td>\n",
       "      <td>4</td>\n",
       "      <td>4</td>\n",
       "      <td>4</td>\n",
       "      <td>5</td>\n",
       "      <td>0</td>\n",
       "      <td>0.0</td>\n",
       "      <td>0</td>\n",
       "      <td>0</td>\n",
       "      <td>0</td>\n",
       "      <td>1</td>\n",
       "    </tr>\n",
       "    <tr>\n",
       "      <th>3</th>\n",
       "      <td>25</td>\n",
       "      <td>2</td>\n",
       "      <td>562</td>\n",
       "      <td>2</td>\n",
       "      <td>5</td>\n",
       "      <td>5</td>\n",
       "      <td>5</td>\n",
       "      <td>2</td>\n",
       "      <td>2</td>\n",
       "      <td>2</td>\n",
       "      <td>...</td>\n",
       "      <td>3</td>\n",
       "      <td>1</td>\n",
       "      <td>4</td>\n",
       "      <td>2</td>\n",
       "      <td>11</td>\n",
       "      <td>9.0</td>\n",
       "      <td>0</td>\n",
       "      <td>0</td>\n",
       "      <td>0</td>\n",
       "      <td>0</td>\n",
       "    </tr>\n",
       "    <tr>\n",
       "      <th>4</th>\n",
       "      <td>61</td>\n",
       "      <td>2</td>\n",
       "      <td>214</td>\n",
       "      <td>3</td>\n",
       "      <td>3</td>\n",
       "      <td>3</td>\n",
       "      <td>3</td>\n",
       "      <td>4</td>\n",
       "      <td>5</td>\n",
       "      <td>5</td>\n",
       "      <td>...</td>\n",
       "      <td>4</td>\n",
       "      <td>3</td>\n",
       "      <td>3</td>\n",
       "      <td>3</td>\n",
       "      <td>0</td>\n",
       "      <td>0.0</td>\n",
       "      <td>1</td>\n",
       "      <td>0</td>\n",
       "      <td>0</td>\n",
       "      <td>1</td>\n",
       "    </tr>\n",
       "  </tbody>\n",
       "</table>\n",
       "<p>5 rows × 23 columns</p>\n",
       "</div>"
      ],
      "text/plain": [
       "   Age  Class  Flight Distance  Inflight wifi service  \\\n",
       "0   13      1              460                      3   \n",
       "1   25      2              235                      3   \n",
       "2   26      2             1142                      2   \n",
       "3   25      2              562                      2   \n",
       "4   61      2              214                      3   \n",
       "\n",
       "   Departure/Arrival time convenient  Ease of Online booking  Gate location  \\\n",
       "0                                  4                       3              1   \n",
       "1                                  2                       3              3   \n",
       "2                                  2                       2              2   \n",
       "3                                  5                       5              5   \n",
       "4                                  3                       3              3   \n",
       "\n",
       "   Food and drink  Online boarding  Seat comfort  ...  Baggage handling  \\\n",
       "0               5                3             5  ...                 4   \n",
       "1               1                3             1  ...                 3   \n",
       "2               5                5             5  ...                 4   \n",
       "3               2                2             2  ...                 3   \n",
       "4               4                5             5  ...                 4   \n",
       "\n",
       "   Checkin service  Inflight service  Cleanliness  Departure Delay in Minutes  \\\n",
       "0                4                 5            5                          25   \n",
       "1                1                 4            1                           1   \n",
       "2                4                 4            5                           0   \n",
       "3                1                 4            2                          11   \n",
       "4                3                 3            3                           0   \n",
       "\n",
       "   Arrival Delay in Minutes  Gender_Male  Customer Type_disloyal Customer  \\\n",
       "0                      18.0            1                                0   \n",
       "1                       6.0            1                                1   \n",
       "2                       0.0            0                                0   \n",
       "3                       9.0            0                                0   \n",
       "4                       0.0            1                                0   \n",
       "\n",
       "   Type of Travel_Personal Travel  satisfaction_satisfied  \n",
       "0                               1                       0  \n",
       "1                               0                       0  \n",
       "2                               0                       1  \n",
       "3                               0                       0  \n",
       "4                               0                       1  \n",
       "\n",
       "[5 rows x 23 columns]"
      ]
     },
     "execution_count": 41,
     "metadata": {},
     "output_type": "execute_result"
    }
   ],
   "source": [
    "train.head()"
   ]
  },
  {
   "cell_type": "code",
   "execution_count": 42,
   "id": "bf44425e",
   "metadata": {
    "execution": {
     "iopub.execute_input": "2024-07-16T10:39:13.763777Z",
     "iopub.status.busy": "2024-07-16T10:39:13.763175Z",
     "iopub.status.idle": "2024-07-16T10:39:13.774829Z",
     "shell.execute_reply": "2024-07-16T10:39:13.774316Z",
     "shell.execute_reply.started": "2023-11-14T12:48:42.805852Z"
    },
    "papermill": {
     "duration": 0.109252,
     "end_time": "2024-07-16T10:39:13.774951",
     "exception": false,
     "start_time": "2024-07-16T10:39:13.665699",
     "status": "completed"
    },
    "tags": []
   },
   "outputs": [],
   "source": [
    "target = \"satisfaction_satisfied\"\n",
    "xtrain, ytrain = train.drop(target, axis=1), train[target]\n",
    "xtest, ytest = test.drop(target, axis=1), test[target]"
   ]
  },
  {
   "cell_type": "code",
   "execution_count": 43,
   "id": "d28326ca",
   "metadata": {
    "execution": {
     "iopub.execute_input": "2024-07-16T10:39:13.978969Z",
     "iopub.status.busy": "2024-07-16T10:39:13.978130Z",
     "iopub.status.idle": "2024-07-16T10:39:13.981774Z",
     "shell.execute_reply": "2024-07-16T10:39:13.981269Z",
     "shell.execute_reply.started": "2023-11-14T12:48:42.822805Z"
    },
    "papermill": {
     "duration": 0.113817,
     "end_time": "2024-07-16T10:39:13.981892",
     "exception": false,
     "start_time": "2024-07-16T10:39:13.868075",
     "status": "completed"
    },
    "tags": []
   },
   "outputs": [
    {
     "data": {
      "text/html": [
       "<div>\n",
       "<style scoped>\n",
       "    .dataframe tbody tr th:only-of-type {\n",
       "        vertical-align: middle;\n",
       "    }\n",
       "\n",
       "    .dataframe tbody tr th {\n",
       "        vertical-align: top;\n",
       "    }\n",
       "\n",
       "    .dataframe thead th {\n",
       "        text-align: right;\n",
       "    }\n",
       "</style>\n",
       "<table border=\"1\" class=\"dataframe\">\n",
       "  <thead>\n",
       "    <tr style=\"text-align: right;\">\n",
       "      <th></th>\n",
       "      <th>Age</th>\n",
       "      <th>Class</th>\n",
       "      <th>Flight Distance</th>\n",
       "      <th>Inflight wifi service</th>\n",
       "      <th>Departure/Arrival time convenient</th>\n",
       "      <th>Ease of Online booking</th>\n",
       "      <th>Gate location</th>\n",
       "      <th>Food and drink</th>\n",
       "      <th>Online boarding</th>\n",
       "      <th>Seat comfort</th>\n",
       "      <th>...</th>\n",
       "      <th>Leg room service</th>\n",
       "      <th>Baggage handling</th>\n",
       "      <th>Checkin service</th>\n",
       "      <th>Inflight service</th>\n",
       "      <th>Cleanliness</th>\n",
       "      <th>Departure Delay in Minutes</th>\n",
       "      <th>Arrival Delay in Minutes</th>\n",
       "      <th>Gender_Male</th>\n",
       "      <th>Customer Type_disloyal Customer</th>\n",
       "      <th>Type of Travel_Personal Travel</th>\n",
       "    </tr>\n",
       "  </thead>\n",
       "  <tbody>\n",
       "    <tr>\n",
       "      <th>0</th>\n",
       "      <td>13</td>\n",
       "      <td>1</td>\n",
       "      <td>460</td>\n",
       "      <td>3</td>\n",
       "      <td>4</td>\n",
       "      <td>3</td>\n",
       "      <td>1</td>\n",
       "      <td>5</td>\n",
       "      <td>3</td>\n",
       "      <td>5</td>\n",
       "      <td>...</td>\n",
       "      <td>3</td>\n",
       "      <td>4</td>\n",
       "      <td>4</td>\n",
       "      <td>5</td>\n",
       "      <td>5</td>\n",
       "      <td>25</td>\n",
       "      <td>18.0</td>\n",
       "      <td>1</td>\n",
       "      <td>0</td>\n",
       "      <td>1</td>\n",
       "    </tr>\n",
       "    <tr>\n",
       "      <th>1</th>\n",
       "      <td>25</td>\n",
       "      <td>2</td>\n",
       "      <td>235</td>\n",
       "      <td>3</td>\n",
       "      <td>2</td>\n",
       "      <td>3</td>\n",
       "      <td>3</td>\n",
       "      <td>1</td>\n",
       "      <td>3</td>\n",
       "      <td>1</td>\n",
       "      <td>...</td>\n",
       "      <td>5</td>\n",
       "      <td>3</td>\n",
       "      <td>1</td>\n",
       "      <td>4</td>\n",
       "      <td>1</td>\n",
       "      <td>1</td>\n",
       "      <td>6.0</td>\n",
       "      <td>1</td>\n",
       "      <td>1</td>\n",
       "      <td>0</td>\n",
       "    </tr>\n",
       "    <tr>\n",
       "      <th>2</th>\n",
       "      <td>26</td>\n",
       "      <td>2</td>\n",
       "      <td>1142</td>\n",
       "      <td>2</td>\n",
       "      <td>2</td>\n",
       "      <td>2</td>\n",
       "      <td>2</td>\n",
       "      <td>5</td>\n",
       "      <td>5</td>\n",
       "      <td>5</td>\n",
       "      <td>...</td>\n",
       "      <td>3</td>\n",
       "      <td>4</td>\n",
       "      <td>4</td>\n",
       "      <td>4</td>\n",
       "      <td>5</td>\n",
       "      <td>0</td>\n",
       "      <td>0.0</td>\n",
       "      <td>0</td>\n",
       "      <td>0</td>\n",
       "      <td>0</td>\n",
       "    </tr>\n",
       "    <tr>\n",
       "      <th>3</th>\n",
       "      <td>25</td>\n",
       "      <td>2</td>\n",
       "      <td>562</td>\n",
       "      <td>2</td>\n",
       "      <td>5</td>\n",
       "      <td>5</td>\n",
       "      <td>5</td>\n",
       "      <td>2</td>\n",
       "      <td>2</td>\n",
       "      <td>2</td>\n",
       "      <td>...</td>\n",
       "      <td>5</td>\n",
       "      <td>3</td>\n",
       "      <td>1</td>\n",
       "      <td>4</td>\n",
       "      <td>2</td>\n",
       "      <td>11</td>\n",
       "      <td>9.0</td>\n",
       "      <td>0</td>\n",
       "      <td>0</td>\n",
       "      <td>0</td>\n",
       "    </tr>\n",
       "    <tr>\n",
       "      <th>4</th>\n",
       "      <td>61</td>\n",
       "      <td>2</td>\n",
       "      <td>214</td>\n",
       "      <td>3</td>\n",
       "      <td>3</td>\n",
       "      <td>3</td>\n",
       "      <td>3</td>\n",
       "      <td>4</td>\n",
       "      <td>5</td>\n",
       "      <td>5</td>\n",
       "      <td>...</td>\n",
       "      <td>4</td>\n",
       "      <td>4</td>\n",
       "      <td>3</td>\n",
       "      <td>3</td>\n",
       "      <td>3</td>\n",
       "      <td>0</td>\n",
       "      <td>0.0</td>\n",
       "      <td>1</td>\n",
       "      <td>0</td>\n",
       "      <td>0</td>\n",
       "    </tr>\n",
       "  </tbody>\n",
       "</table>\n",
       "<p>5 rows × 22 columns</p>\n",
       "</div>"
      ],
      "text/plain": [
       "   Age  Class  Flight Distance  Inflight wifi service  \\\n",
       "0   13      1              460                      3   \n",
       "1   25      2              235                      3   \n",
       "2   26      2             1142                      2   \n",
       "3   25      2              562                      2   \n",
       "4   61      2              214                      3   \n",
       "\n",
       "   Departure/Arrival time convenient  Ease of Online booking  Gate location  \\\n",
       "0                                  4                       3              1   \n",
       "1                                  2                       3              3   \n",
       "2                                  2                       2              2   \n",
       "3                                  5                       5              5   \n",
       "4                                  3                       3              3   \n",
       "\n",
       "   Food and drink  Online boarding  Seat comfort  ...  Leg room service  \\\n",
       "0               5                3             5  ...                 3   \n",
       "1               1                3             1  ...                 5   \n",
       "2               5                5             5  ...                 3   \n",
       "3               2                2             2  ...                 5   \n",
       "4               4                5             5  ...                 4   \n",
       "\n",
       "   Baggage handling  Checkin service  Inflight service  Cleanliness  \\\n",
       "0                 4                4                 5            5   \n",
       "1                 3                1                 4            1   \n",
       "2                 4                4                 4            5   \n",
       "3                 3                1                 4            2   \n",
       "4                 4                3                 3            3   \n",
       "\n",
       "   Departure Delay in Minutes  Arrival Delay in Minutes  Gender_Male  \\\n",
       "0                          25                      18.0            1   \n",
       "1                           1                       6.0            1   \n",
       "2                           0                       0.0            0   \n",
       "3                          11                       9.0            0   \n",
       "4                           0                       0.0            1   \n",
       "\n",
       "   Customer Type_disloyal Customer  Type of Travel_Personal Travel  \n",
       "0                                0                               1  \n",
       "1                                1                               0  \n",
       "2                                0                               0  \n",
       "3                                0                               0  \n",
       "4                                0                               0  \n",
       "\n",
       "[5 rows x 22 columns]"
      ]
     },
     "execution_count": 43,
     "metadata": {},
     "output_type": "execute_result"
    }
   ],
   "source": [
    "xtrain.head()"
   ]
  },
  {
   "cell_type": "code",
   "execution_count": 44,
   "id": "6e271f26",
   "metadata": {
    "execution": {
     "iopub.execute_input": "2024-07-16T10:39:14.180026Z",
     "iopub.status.busy": "2024-07-16T10:39:14.177241Z",
     "iopub.status.idle": "2024-07-16T10:39:14.183511Z",
     "shell.execute_reply": "2024-07-16T10:39:14.182878Z",
     "shell.execute_reply.started": "2023-11-14T12:48:42.844163Z"
    },
    "papermill": {
     "duration": 0.105437,
     "end_time": "2024-07-16T10:39:14.183658",
     "exception": false,
     "start_time": "2024-07-16T10:39:14.078221",
     "status": "completed"
    },
    "tags": []
   },
   "outputs": [
    {
     "data": {
      "text/plain": [
       "0    0\n",
       "1    0\n",
       "2    1\n",
       "3    0\n",
       "4    1\n",
       "Name: satisfaction_satisfied, dtype: uint8"
      ]
     },
     "execution_count": 44,
     "metadata": {},
     "output_type": "execute_result"
    }
   ],
   "source": [
    "ytrain.head()"
   ]
  },
  {
   "cell_type": "code",
   "execution_count": 45,
   "id": "2e3dc444",
   "metadata": {
    "execution": {
     "iopub.execute_input": "2024-07-16T10:39:14.382919Z",
     "iopub.status.busy": "2024-07-16T10:39:14.382313Z",
     "iopub.status.idle": "2024-07-16T10:39:14.435703Z",
     "shell.execute_reply": "2024-07-16T10:39:14.435005Z",
     "shell.execute_reply.started": "2023-11-14T12:48:42.856677Z"
    },
    "papermill": {
     "duration": 0.156401,
     "end_time": "2024-07-16T10:39:14.435842",
     "exception": false,
     "start_time": "2024-07-16T10:39:14.279441",
     "status": "completed"
    },
    "tags": []
   },
   "outputs": [],
   "source": [
    "from sklearn.preprocessing import StandardScaler\n",
    "ss = StandardScaler()\n",
    "\n",
    "xtrain_array = ss.fit_transform(xtrain)\n",
    "xtrain = pd.DataFrame(xtrain_array, columns=xtrain.columns)\n",
    "\n",
    "xtest_array = ss.transform(xtest)\n",
    "xtest = pd.DataFrame(xtest_array, columns=xtrain.columns)"
   ]
  },
  {
   "cell_type": "code",
   "execution_count": 46,
   "id": "17687bc5",
   "metadata": {
    "execution": {
     "iopub.execute_input": "2024-07-16T10:39:14.654191Z",
     "iopub.status.busy": "2024-07-16T10:39:14.641369Z",
     "iopub.status.idle": "2024-07-16T10:39:14.658253Z",
     "shell.execute_reply": "2024-07-16T10:39:14.657714Z",
     "shell.execute_reply.started": "2023-11-14T12:48:42.924963Z"
    },
    "papermill": {
     "duration": 0.123168,
     "end_time": "2024-07-16T10:39:14.658381",
     "exception": false,
     "start_time": "2024-07-16T10:39:14.535213",
     "status": "completed"
    },
    "tags": []
   },
   "outputs": [
    {
     "data": {
      "text/html": [
       "<div>\n",
       "<style scoped>\n",
       "    .dataframe tbody tr th:only-of-type {\n",
       "        vertical-align: middle;\n",
       "    }\n",
       "\n",
       "    .dataframe tbody tr th {\n",
       "        vertical-align: top;\n",
       "    }\n",
       "\n",
       "    .dataframe thead th {\n",
       "        text-align: right;\n",
       "    }\n",
       "</style>\n",
       "<table border=\"1\" class=\"dataframe\">\n",
       "  <thead>\n",
       "    <tr style=\"text-align: right;\">\n",
       "      <th></th>\n",
       "      <th>Age</th>\n",
       "      <th>Class</th>\n",
       "      <th>Flight Distance</th>\n",
       "      <th>Inflight wifi service</th>\n",
       "      <th>Departure/Arrival time convenient</th>\n",
       "      <th>Ease of Online booking</th>\n",
       "      <th>Gate location</th>\n",
       "      <th>Food and drink</th>\n",
       "      <th>Online boarding</th>\n",
       "      <th>Seat comfort</th>\n",
       "      <th>...</th>\n",
       "      <th>Leg room service</th>\n",
       "      <th>Baggage handling</th>\n",
       "      <th>Checkin service</th>\n",
       "      <th>Inflight service</th>\n",
       "      <th>Cleanliness</th>\n",
       "      <th>Departure Delay in Minutes</th>\n",
       "      <th>Arrival Delay in Minutes</th>\n",
       "      <th>Gender_Male</th>\n",
       "      <th>Customer Type_disloyal Customer</th>\n",
       "      <th>Type of Travel_Personal Travel</th>\n",
       "    </tr>\n",
       "  </thead>\n",
       "  <tbody>\n",
       "    <tr>\n",
       "      <th>0</th>\n",
       "      <td>-1.745542</td>\n",
       "      <td>-0.029475</td>\n",
       "      <td>-0.731305</td>\n",
       "      <td>0.203521</td>\n",
       "      <td>0.616249</td>\n",
       "      <td>0.173716</td>\n",
       "      <td>-1.547312</td>\n",
       "      <td>1.352401</td>\n",
       "      <td>-0.185632</td>\n",
       "      <td>1.182991</td>\n",
       "      <td>...</td>\n",
       "      <td>-0.267143</td>\n",
       "      <td>0.311853</td>\n",
       "      <td>0.549773</td>\n",
       "      <td>1.156211</td>\n",
       "      <td>1.305913</td>\n",
       "      <td>0.268966</td>\n",
       "      <td>0.072905</td>\n",
       "      <td>1.015154</td>\n",
       "      <td>-0.472883</td>\n",
       "      <td>1.491414</td>\n",
       "    </tr>\n",
       "    <tr>\n",
       "      <th>1</th>\n",
       "      <td>-0.951526</td>\n",
       "      <td>1.009095</td>\n",
       "      <td>-0.956916</td>\n",
       "      <td>0.203521</td>\n",
       "      <td>-0.695032</td>\n",
       "      <td>0.173716</td>\n",
       "      <td>0.017981</td>\n",
       "      <td>-1.656487</td>\n",
       "      <td>-0.185632</td>\n",
       "      <td>-1.849863</td>\n",
       "      <td>...</td>\n",
       "      <td>1.253304</td>\n",
       "      <td>-0.534854</td>\n",
       "      <td>-1.821038</td>\n",
       "      <td>0.305580</td>\n",
       "      <td>-1.742432</td>\n",
       "      <td>-0.360682</td>\n",
       "      <td>-0.237184</td>\n",
       "      <td>1.015154</td>\n",
       "      <td>2.114687</td>\n",
       "      <td>-0.670505</td>\n",
       "    </tr>\n",
       "    <tr>\n",
       "      <th>2</th>\n",
       "      <td>-0.885358</td>\n",
       "      <td>1.009095</td>\n",
       "      <td>-0.047454</td>\n",
       "      <td>-0.549571</td>\n",
       "      <td>-0.695032</td>\n",
       "      <td>-0.541118</td>\n",
       "      <td>-0.764666</td>\n",
       "      <td>1.352401</td>\n",
       "      <td>1.296479</td>\n",
       "      <td>1.182991</td>\n",
       "      <td>...</td>\n",
       "      <td>-0.267143</td>\n",
       "      <td>0.311853</td>\n",
       "      <td>0.549773</td>\n",
       "      <td>0.305580</td>\n",
       "      <td>1.305913</td>\n",
       "      <td>-0.386917</td>\n",
       "      <td>-0.392229</td>\n",
       "      <td>-0.985072</td>\n",
       "      <td>-0.472883</td>\n",
       "      <td>-0.670505</td>\n",
       "    </tr>\n",
       "    <tr>\n",
       "      <th>3</th>\n",
       "      <td>-0.951526</td>\n",
       "      <td>1.009095</td>\n",
       "      <td>-0.629028</td>\n",
       "      <td>-0.549571</td>\n",
       "      <td>1.271890</td>\n",
       "      <td>1.603383</td>\n",
       "      <td>1.583273</td>\n",
       "      <td>-0.904265</td>\n",
       "      <td>-0.926688</td>\n",
       "      <td>-1.091649</td>\n",
       "      <td>...</td>\n",
       "      <td>1.253304</td>\n",
       "      <td>-0.534854</td>\n",
       "      <td>-1.821038</td>\n",
       "      <td>0.305580</td>\n",
       "      <td>-0.980345</td>\n",
       "      <td>-0.098328</td>\n",
       "      <td>-0.159662</td>\n",
       "      <td>-0.985072</td>\n",
       "      <td>-0.472883</td>\n",
       "      <td>-0.670505</td>\n",
       "    </tr>\n",
       "    <tr>\n",
       "      <th>4</th>\n",
       "      <td>1.430521</td>\n",
       "      <td>1.009095</td>\n",
       "      <td>-0.977973</td>\n",
       "      <td>0.203521</td>\n",
       "      <td>-0.039391</td>\n",
       "      <td>0.173716</td>\n",
       "      <td>0.017981</td>\n",
       "      <td>0.600179</td>\n",
       "      <td>1.296479</td>\n",
       "      <td>1.182991</td>\n",
       "      <td>...</td>\n",
       "      <td>0.493081</td>\n",
       "      <td>0.311853</td>\n",
       "      <td>-0.240497</td>\n",
       "      <td>-0.545051</td>\n",
       "      <td>-0.218259</td>\n",
       "      <td>-0.386917</td>\n",
       "      <td>-0.392229</td>\n",
       "      <td>1.015154</td>\n",
       "      <td>-0.472883</td>\n",
       "      <td>-0.670505</td>\n",
       "    </tr>\n",
       "  </tbody>\n",
       "</table>\n",
       "<p>5 rows × 22 columns</p>\n",
       "</div>"
      ],
      "text/plain": [
       "        Age     Class  Flight Distance  Inflight wifi service  \\\n",
       "0 -1.745542 -0.029475        -0.731305               0.203521   \n",
       "1 -0.951526  1.009095        -0.956916               0.203521   \n",
       "2 -0.885358  1.009095        -0.047454              -0.549571   \n",
       "3 -0.951526  1.009095        -0.629028              -0.549571   \n",
       "4  1.430521  1.009095        -0.977973               0.203521   \n",
       "\n",
       "   Departure/Arrival time convenient  Ease of Online booking  Gate location  \\\n",
       "0                           0.616249                0.173716      -1.547312   \n",
       "1                          -0.695032                0.173716       0.017981   \n",
       "2                          -0.695032               -0.541118      -0.764666   \n",
       "3                           1.271890                1.603383       1.583273   \n",
       "4                          -0.039391                0.173716       0.017981   \n",
       "\n",
       "   Food and drink  Online boarding  Seat comfort  ...  Leg room service  \\\n",
       "0        1.352401        -0.185632      1.182991  ...         -0.267143   \n",
       "1       -1.656487        -0.185632     -1.849863  ...          1.253304   \n",
       "2        1.352401         1.296479      1.182991  ...         -0.267143   \n",
       "3       -0.904265        -0.926688     -1.091649  ...          1.253304   \n",
       "4        0.600179         1.296479      1.182991  ...          0.493081   \n",
       "\n",
       "   Baggage handling  Checkin service  Inflight service  Cleanliness  \\\n",
       "0          0.311853         0.549773          1.156211     1.305913   \n",
       "1         -0.534854        -1.821038          0.305580    -1.742432   \n",
       "2          0.311853         0.549773          0.305580     1.305913   \n",
       "3         -0.534854        -1.821038          0.305580    -0.980345   \n",
       "4          0.311853        -0.240497         -0.545051    -0.218259   \n",
       "\n",
       "   Departure Delay in Minutes  Arrival Delay in Minutes  Gender_Male  \\\n",
       "0                    0.268966                  0.072905     1.015154   \n",
       "1                   -0.360682                 -0.237184     1.015154   \n",
       "2                   -0.386917                 -0.392229    -0.985072   \n",
       "3                   -0.098328                 -0.159662    -0.985072   \n",
       "4                   -0.386917                 -0.392229     1.015154   \n",
       "\n",
       "   Customer Type_disloyal Customer  Type of Travel_Personal Travel  \n",
       "0                        -0.472883                        1.491414  \n",
       "1                         2.114687                       -0.670505  \n",
       "2                        -0.472883                       -0.670505  \n",
       "3                        -0.472883                       -0.670505  \n",
       "4                        -0.472883                       -0.670505  \n",
       "\n",
       "[5 rows x 22 columns]"
      ]
     },
     "execution_count": 46,
     "metadata": {},
     "output_type": "execute_result"
    }
   ],
   "source": [
    "xtrain.head()"
   ]
  },
  {
   "cell_type": "markdown",
   "id": "a0c32ef1",
   "metadata": {
    "papermill": {
     "duration": 0.096804,
     "end_time": "2024-07-16T10:39:14.849630",
     "exception": false,
     "start_time": "2024-07-16T10:39:14.752826",
     "status": "completed"
    },
    "tags": []
   },
   "source": [
    "## Logistic Regression"
   ]
  },
  {
   "cell_type": "markdown",
   "id": "756fe48b",
   "metadata": {
    "papermill": {
     "duration": 0.105314,
     "end_time": "2024-07-16T10:39:15.061995",
     "exception": false,
     "start_time": "2024-07-16T10:39:14.956681",
     "status": "completed"
    },
    "tags": []
   },
   "source": [
    "Logistic Regression is not a regression model but rather a classification model.  \n",
    "It constructs an S-shaped curve (in case of one variable x) that represents the probability of y=1."
   ]
  },
  {
   "cell_type": "markdown",
   "id": "c8f73cbf",
   "metadata": {
    "papermill": {
     "duration": 0.097496,
     "end_time": "2024-07-16T10:39:15.256412",
     "exception": false,
     "start_time": "2024-07-16T10:39:15.158916",
     "status": "completed"
    },
    "tags": []
   },
   "source": [
    "![](https://static.javatpoint.com/tutorial/machine-learning/images/linear-regression-vs-logistic-regression.png)"
   ]
  },
  {
   "cell_type": "markdown",
   "id": "6dbd43ab",
   "metadata": {
    "papermill": {
     "duration": 0.095615,
     "end_time": "2024-07-16T10:39:15.448057",
     "exception": false,
     "start_time": "2024-07-16T10:39:15.352442",
     "status": "completed"
    },
    "tags": []
   },
   "source": [
    "The logistic curve corresponds to the logistic function, which corresponds to the formula in the following image."
   ]
  },
  {
   "cell_type": "markdown",
   "id": "4393b140",
   "metadata": {
    "papermill": {
     "duration": 0.094921,
     "end_time": "2024-07-16T10:39:15.640521",
     "exception": false,
     "start_time": "2024-07-16T10:39:15.545600",
     "status": "completed"
    },
    "tags": []
   },
   "source": [
    "![](https://www.saedsayad.com/images/LogReg_1.png)"
   ]
  },
  {
   "cell_type": "markdown",
   "id": "b03477bd",
   "metadata": {
    "papermill": {
     "duration": 0.095503,
     "end_time": "2024-07-16T10:39:15.832161",
     "exception": false,
     "start_time": "2024-07-16T10:39:15.736658",
     "status": "completed"
    },
    "tags": []
   },
   "source": [
    "The x value that corresponds to y=0.5 is called the \"decision boundary\".  \n",
    "It separates points based on their x value into two groups.  \n",
    "One group corresponds to Y=1 and the other corresponds to y=0."
   ]
  },
  {
   "cell_type": "markdown",
   "id": "6cbfeb71",
   "metadata": {
    "papermill": {
     "duration": 0.101475,
     "end_time": "2024-07-16T10:39:16.030920",
     "exception": false,
     "start_time": "2024-07-16T10:39:15.929445",
     "status": "completed"
    },
    "tags": []
   },
   "source": [
    "In case of 2 variables, the S-shaped curve becomes an S-shaped surface (but kind of flat..) which we can't draw here since that would require 3 dimensions.  \n",
    "The decision boundary becomes a straight line though which we can draw.  \n",
    "This line tries to separate points into 2 classes."
   ]
  },
  {
   "cell_type": "markdown",
   "id": "70aa2162",
   "metadata": {
    "papermill": {
     "duration": 0.095304,
     "end_time": "2024-07-16T10:39:16.233841",
     "exception": false,
     "start_time": "2024-07-16T10:39:16.138537",
     "status": "completed"
    },
    "tags": []
   },
   "source": [
    "![](https://www.researchgate.net/publication/335786324/figure/fig1/AS:802479209971712@1568337361258/Logistic-regression-and-linear-regression.jpg)"
   ]
  },
  {
   "cell_type": "markdown",
   "id": "3475afb9",
   "metadata": {
    "papermill": {
     "duration": 0.095292,
     "end_time": "2024-07-16T10:39:16.424737",
     "exception": false,
     "start_time": "2024-07-16T10:39:16.329445",
     "status": "completed"
    },
    "tags": []
   },
   "source": [
    "Of course, sometimes you can't separate the two classes (y=1 and y=0) perfectly with a straight line.  \n",
    "The following image on the right is more realistic than the one on the left."
   ]
  },
  {
   "cell_type": "markdown",
   "id": "e4159486",
   "metadata": {
    "papermill": {
     "duration": 0.096416,
     "end_time": "2024-07-16T10:39:16.617005",
     "exception": false,
     "start_time": "2024-07-16T10:39:16.520589",
     "status": "completed"
    },
    "tags": []
   },
   "source": [
    "![](https://camo.githubusercontent.com/fa25e1f53a14c7839d4659edf09c1e9b7a8fcad93727a5eea63b2b4b65454164/68747470733a2f2f6d69726f2e6d656469756d2e636f6d2f6d61782f313831382f302a61585578764e7556695f2d716335566b2e706e67)"
   ]
  },
  {
   "cell_type": "code",
   "execution_count": 47,
   "id": "ad411af7",
   "metadata": {
    "execution": {
     "iopub.execute_input": "2024-07-16T10:39:16.811410Z",
     "iopub.status.busy": "2024-07-16T10:39:16.810665Z",
     "iopub.status.idle": "2024-07-16T10:39:16.812974Z",
     "shell.execute_reply": "2024-07-16T10:39:16.813511Z",
     "shell.execute_reply.started": "2023-11-14T12:48:42.950733Z"
    },
    "papermill": {
     "duration": 0.10164,
     "end_time": "2024-07-16T10:39:16.813663",
     "exception": false,
     "start_time": "2024-07-16T10:39:16.712023",
     "status": "completed"
    },
    "tags": []
   },
   "outputs": [],
   "source": [
    "from sklearn.linear_model import LogisticRegression\n",
    "from sklearn.metrics import accuracy_score"
   ]
  },
  {
   "cell_type": "code",
   "execution_count": 48,
   "id": "9461d45e",
   "metadata": {
    "execution": {
     "iopub.execute_input": "2024-07-16T10:39:17.006989Z",
     "iopub.status.busy": "2024-07-16T10:39:17.006136Z",
     "iopub.status.idle": "2024-07-16T10:39:17.008828Z",
     "shell.execute_reply": "2024-07-16T10:39:17.008226Z",
     "shell.execute_reply.started": "2023-11-14T12:48:42.960152Z"
    },
    "papermill": {
     "duration": 0.100985,
     "end_time": "2024-07-16T10:39:17.008948",
     "exception": false,
     "start_time": "2024-07-16T10:39:16.907963",
     "status": "completed"
    },
    "tags": []
   },
   "outputs": [],
   "source": [
    "logreg = LogisticRegression(solver='liblinear')"
   ]
  },
  {
   "cell_type": "code",
   "execution_count": 49,
   "id": "56d4fd0d",
   "metadata": {
    "execution": {
     "iopub.execute_input": "2024-07-16T10:39:17.206222Z",
     "iopub.status.busy": "2024-07-16T10:39:17.205611Z",
     "iopub.status.idle": "2024-07-16T10:39:17.985460Z",
     "shell.execute_reply": "2024-07-16T10:39:17.984879Z",
     "shell.execute_reply.started": "2023-11-14T12:48:42.970037Z"
    },
    "papermill": {
     "duration": 0.880951,
     "end_time": "2024-07-16T10:39:17.985613",
     "exception": false,
     "start_time": "2024-07-16T10:39:17.104662",
     "status": "completed"
    },
    "tags": []
   },
   "outputs": [
    {
     "data": {
      "text/plain": [
       "LogisticRegression(solver='liblinear')"
      ]
     },
     "execution_count": 49,
     "metadata": {},
     "output_type": "execute_result"
    }
   ],
   "source": [
    "logreg.fit(xtrain, ytrain)"
   ]
  },
  {
   "cell_type": "code",
   "execution_count": 50,
   "id": "3c9925f0",
   "metadata": {
    "execution": {
     "iopub.execute_input": "2024-07-16T10:39:18.194133Z",
     "iopub.status.busy": "2024-07-16T10:39:18.191245Z",
     "iopub.status.idle": "2024-07-16T10:39:18.199210Z",
     "shell.execute_reply": "2024-07-16T10:39:18.200071Z",
     "shell.execute_reply.started": "2023-11-14T12:48:43.826776Z"
    },
    "papermill": {
     "duration": 0.116815,
     "end_time": "2024-07-16T10:39:18.200355",
     "exception": false,
     "start_time": "2024-07-16T10:39:18.083540",
     "status": "completed"
    },
    "tags": []
   },
   "outputs": [
    {
     "data": {
      "text/plain": [
       "0.8714324334762291"
      ]
     },
     "execution_count": 50,
     "metadata": {},
     "output_type": "execute_result"
    }
   ],
   "source": [
    "y_predicted_testing = logreg.predict(xtest)\n",
    "accuracy_score(ytest, y_predicted_testing)"
   ]
  },
  {
   "cell_type": "code",
   "execution_count": 51,
   "id": "b041ae58",
   "metadata": {
    "execution": {
     "iopub.execute_input": "2024-07-16T10:39:18.459195Z",
     "iopub.status.busy": "2024-07-16T10:39:18.458314Z",
     "iopub.status.idle": "2024-07-16T10:39:18.483748Z",
     "shell.execute_reply": "2024-07-16T10:39:18.484918Z",
     "shell.execute_reply.started": "2023-11-14T12:48:43.843718Z"
    },
    "papermill": {
     "duration": 0.128342,
     "end_time": "2024-07-16T10:39:18.485202",
     "exception": false,
     "start_time": "2024-07-16T10:39:18.356860",
     "status": "completed"
    },
    "tags": []
   },
   "outputs": [
    {
     "data": {
      "text/plain": [
       "0.8747900457555456"
      ]
     },
     "execution_count": 51,
     "metadata": {},
     "output_type": "execute_result"
    }
   ],
   "source": [
    "y_predicted_training = logreg.predict(xtrain)\n",
    "accuracy_score(ytrain, y_predicted_training)"
   ]
  },
  {
   "cell_type": "markdown",
   "id": "431eab6d",
   "metadata": {
    "papermill": {
     "duration": 0.095878,
     "end_time": "2024-07-16T10:39:18.732461",
     "exception": false,
     "start_time": "2024-07-16T10:39:18.636583",
     "status": "completed"
    },
    "tags": []
   },
   "source": [
    "# Classification Tree"
   ]
  },
  {
   "cell_type": "markdown",
   "id": "974dbf12",
   "metadata": {
    "papermill": {
     "duration": 0.095547,
     "end_time": "2024-07-16T10:39:18.923834",
     "exception": false,
     "start_time": "2024-07-16T10:39:18.828287",
     "status": "completed"
    },
    "tags": []
   },
   "source": [
    "The same as a regression tree but predicts classes instead of numerical values."
   ]
  },
  {
   "cell_type": "markdown",
   "id": "5527393f",
   "metadata": {
    "papermill": {
     "duration": 0.096419,
     "end_time": "2024-07-16T10:39:19.116318",
     "exception": false,
     "start_time": "2024-07-16T10:39:19.019899",
     "status": "completed"
    },
    "tags": []
   },
   "source": [
    "![](https://miro.medium.com/max/569/0*Yclq0kqMAwCQcIV_.jpg)"
   ]
  },
  {
   "cell_type": "markdown",
   "id": "a4294437",
   "metadata": {
    "papermill": {
     "duration": 0.096267,
     "end_time": "2024-07-16T10:39:19.309257",
     "exception": false,
     "start_time": "2024-07-16T10:39:19.212990",
     "status": "completed"
    },
    "tags": []
   },
   "source": [
    "![](https://raw.githubusercontent.com/valoxe/image-storage-1/master/blog-machine-learning/decision-tree-random-forest/2.png)"
   ]
  },
  {
   "cell_type": "markdown",
   "id": "f00f09dc",
   "metadata": {
    "papermill": {
     "duration": 0.097863,
     "end_time": "2024-07-16T10:39:19.503324",
     "exception": false,
     "start_time": "2024-07-16T10:39:19.405461",
     "status": "completed"
    },
    "tags": []
   },
   "source": [
    "The classification tree is more flexible than logistic regression.  \n",
    "This is because in reality the data points (in this case clients) aren't always distributed in such a way that you can separate them with a straight line.  \n",
    "The following image is an example where a tree is more suitable than logistic regression."
   ]
  },
  {
   "cell_type": "markdown",
   "id": "64ee8f14",
   "metadata": {
    "papermill": {
     "duration": 0.095073,
     "end_time": "2024-07-16T10:39:19.694659",
     "exception": false,
     "start_time": "2024-07-16T10:39:19.599586",
     "status": "completed"
    },
    "tags": []
   },
   "source": [
    "![](https://miro.medium.com/max/1248/1*Ixw2RgVQ4syGyCD6ArLcZw.png)"
   ]
  },
  {
   "cell_type": "markdown",
   "id": "55270393",
   "metadata": {
    "papermill": {
     "duration": 0.094953,
     "end_time": "2024-07-16T10:39:19.885146",
     "exception": false,
     "start_time": "2024-07-16T10:39:19.790193",
     "status": "completed"
    },
    "tags": []
   },
   "source": [
    "The learning algorithm of the classification tree (which is learning what questions to ask / what splits to make) is almost the same as the regression tree algorithm.  \n",
    "Instead of evaluating a split/question by comparing y values of different groups (which is basically what the regression tree does), a split/question is evaluated by how much it sets the 2 classes apart."
   ]
  },
  {
   "cell_type": "markdown",
   "id": "c87f977e",
   "metadata": {
    "papermill": {
     "duration": 0.098405,
     "end_time": "2024-07-16T10:39:20.080297",
     "exception": false,
     "start_time": "2024-07-16T10:39:19.981892",
     "status": "completed"
    },
    "tags": []
   },
   "source": [
    "![](https://i.stack.imgur.com/FgdfC.jpg)"
   ]
  },
  {
   "cell_type": "markdown",
   "id": "1b523e35",
   "metadata": {
    "papermill": {
     "duration": 0.098033,
     "end_time": "2024-07-16T10:39:20.274717",
     "exception": false,
     "start_time": "2024-07-16T10:39:20.176684",
     "status": "completed"
    },
    "tags": []
   },
   "source": [
    "![](https://www.researchgate.net/publication/313816842/figure/fig2/AS:962701719257088@1606537384464/A-decision-tree-with-its-decision-boundary-Each-node-of-the-decision-tree-represents-a.gif)"
   ]
  },
  {
   "cell_type": "markdown",
   "id": "a0145eef",
   "metadata": {
    "papermill": {
     "duration": 0.095232,
     "end_time": "2024-07-16T10:39:20.467384",
     "exception": false,
     "start_time": "2024-07-16T10:39:20.372152",
     "status": "completed"
    },
    "tags": []
   },
   "source": [
    "To evaluate how good a split/question is, we calculate the 'Gini Impurity' that corresponds to it.  \n",
    "The Gini Impurity is calculated using the following formula:"
   ]
  },
  {
   "cell_type": "markdown",
   "id": "6d971de0",
   "metadata": {
    "papermill": {
     "duration": 0.096102,
     "end_time": "2024-07-16T10:39:20.661197",
     "exception": false,
     "start_time": "2024-07-16T10:39:20.565095",
     "status": "completed"
    },
    "tags": []
   },
   "source": [
    "![](https://static.wixstatic.com/media/02b811_5df05513ffd4487d843bb401dfa5e0cb~mv2.png/v1/fit/w_309%2Ch_118%2Cal_c/file.png)"
   ]
  },
  {
   "cell_type": "markdown",
   "id": "9c1d86a8",
   "metadata": {
    "papermill": {
     "duration": 0.094917,
     "end_time": "2024-07-16T10:39:20.851545",
     "exception": false,
     "start_time": "2024-07-16T10:39:20.756628",
     "status": "completed"
    },
    "tags": []
   },
   "source": [
    "Understand why that formula is good for evaluating splits/questions is out of the scope of this tutorial since it isn't dedicated to understanding the mathematical details of algorithms but rather the main concepts.  \n",
    "However, there are plenty of resources on the internet that explain these details really well."
   ]
  },
  {
   "cell_type": "markdown",
   "id": "8e5efae9",
   "metadata": {
    "papermill": {
     "duration": 0.097745,
     "end_time": "2024-07-16T10:39:21.044945",
     "exception": false,
     "start_time": "2024-07-16T10:39:20.947200",
     "status": "completed"
    },
    "tags": []
   },
   "source": [
    "The following is an example of a tree that classifies samples / data points that belong to three classes instead of 2 ie [0, 1, 2] instead of [0, 1]"
   ]
  },
  {
   "cell_type": "markdown",
   "id": "6e46de3d",
   "metadata": {
    "papermill": {
     "duration": 0.095879,
     "end_time": "2024-07-16T10:39:21.236766",
     "exception": false,
     "start_time": "2024-07-16T10:39:21.140887",
     "status": "completed"
    },
    "tags": []
   },
   "source": [
    "![](https://www.mathworks.com/matlabcentral/mlc-downloads/downloads/submissions/52003/versions/3/screenshot.jpg)"
   ]
  },
  {
   "cell_type": "markdown",
   "id": "d7b687e5",
   "metadata": {
    "papermill": {
     "duration": 0.095239,
     "end_time": "2024-07-16T10:39:21.427518",
     "exception": false,
     "start_time": "2024-07-16T10:39:21.332279",
     "status": "completed"
    },
    "tags": []
   },
   "source": [
    "Example of a tree that is too short and doesn't separate classes very well (can be improved by allowing the tree to be longer/deeper) and a tree that is much deeper."
   ]
  },
  {
   "cell_type": "markdown",
   "id": "c3fb3c02",
   "metadata": {
    "papermill": {
     "duration": 0.096287,
     "end_time": "2024-07-16T10:39:21.622822",
     "exception": false,
     "start_time": "2024-07-16T10:39:21.526535",
     "status": "completed"
    },
    "tags": []
   },
   "source": [
    "![](https://www.learnbymarketing.com/wp-content/uploads/2016/03/linear-sep-decision-tree.png)"
   ]
  },
  {
   "cell_type": "code",
   "execution_count": 52,
   "id": "5c0a0f99",
   "metadata": {
    "execution": {
     "iopub.execute_input": "2024-07-16T10:39:21.819114Z",
     "iopub.status.busy": "2024-07-16T10:39:21.818460Z",
     "iopub.status.idle": "2024-07-16T10:39:21.821339Z",
     "shell.execute_reply": "2024-07-16T10:39:21.820774Z",
     "shell.execute_reply.started": "2023-11-14T12:48:43.875123Z"
    },
    "papermill": {
     "duration": 0.103328,
     "end_time": "2024-07-16T10:39:21.821469",
     "exception": false,
     "start_time": "2024-07-16T10:39:21.718141",
     "status": "completed"
    },
    "tags": []
   },
   "outputs": [],
   "source": [
    "from sklearn.tree import DecisionTreeClassifier\n",
    "mytree = DecisionTreeClassifier()"
   ]
  },
  {
   "cell_type": "code",
   "execution_count": 53,
   "id": "3ea59f68",
   "metadata": {
    "execution": {
     "iopub.execute_input": "2024-07-16T10:39:22.018911Z",
     "iopub.status.busy": "2024-07-16T10:39:22.018304Z",
     "iopub.status.idle": "2024-07-16T10:39:22.863652Z",
     "shell.execute_reply": "2024-07-16T10:39:22.863118Z",
     "shell.execute_reply.started": "2023-11-14T12:48:43.882693Z"
    },
    "papermill": {
     "duration": 0.946729,
     "end_time": "2024-07-16T10:39:22.863788",
     "exception": false,
     "start_time": "2024-07-16T10:39:21.917059",
     "status": "completed"
    },
    "tags": []
   },
   "outputs": [
    {
     "data": {
      "text/plain": [
       "DecisionTreeClassifier()"
      ]
     },
     "execution_count": 53,
     "metadata": {},
     "output_type": "execute_result"
    }
   ],
   "source": [
    "mytree.fit(xtrain, ytrain)"
   ]
  },
  {
   "cell_type": "code",
   "execution_count": 54,
   "id": "e71cebce",
   "metadata": {
    "execution": {
     "iopub.execute_input": "2024-07-16T10:39:23.063974Z",
     "iopub.status.busy": "2024-07-16T10:39:23.063296Z",
     "iopub.status.idle": "2024-07-16T10:39:23.089522Z",
     "shell.execute_reply": "2024-07-16T10:39:23.088879Z",
     "shell.execute_reply.started": "2023-11-14T12:48:44.771333Z"
    },
    "papermill": {
     "duration": 0.130176,
     "end_time": "2024-07-16T10:39:23.089653",
     "exception": false,
     "start_time": "2024-07-16T10:39:22.959477",
     "status": "completed"
    },
    "tags": []
   },
   "outputs": [
    {
     "data": {
      "text/plain": [
       "1.0"
      ]
     },
     "execution_count": 54,
     "metadata": {},
     "output_type": "execute_result"
    }
   ],
   "source": [
    "y_predicted_training = mytree.predict(xtrain)\n",
    "accuracy_score(ytrain, y_predicted_training)"
   ]
  },
  {
   "cell_type": "code",
   "execution_count": 55,
   "id": "421dadd4",
   "metadata": {
    "execution": {
     "iopub.execute_input": "2024-07-16T10:39:23.293694Z",
     "iopub.status.busy": "2024-07-16T10:39:23.293014Z",
     "iopub.status.idle": "2024-07-16T10:39:23.303072Z",
     "shell.execute_reply": "2024-07-16T10:39:23.302553Z",
     "shell.execute_reply.started": "2023-11-14T12:48:44.803684Z"
    },
    "papermill": {
     "duration": 0.114559,
     "end_time": "2024-07-16T10:39:23.303206",
     "exception": false,
     "start_time": "2024-07-16T10:39:23.188647",
     "status": "completed"
    },
    "tags": []
   },
   "outputs": [
    {
     "data": {
      "text/plain": [
       "0.9479009770980574"
      ]
     },
     "execution_count": 55,
     "metadata": {},
     "output_type": "execute_result"
    }
   ],
   "source": [
    "y_predicted_testing = mytree.predict(xtest)\n",
    "accuracy_score(ytest, y_predicted_testing)"
   ]
  },
  {
   "cell_type": "markdown",
   "id": "1c3426ed",
   "metadata": {
    "papermill": {
     "duration": 0.096769,
     "end_time": "2024-07-16T10:39:23.497587",
     "exception": false,
     "start_time": "2024-07-16T10:39:23.400818",
     "status": "completed"
    },
    "tags": []
   },
   "source": [
    "As always the tree is very adjusted to the training data but less to the testing data.  \n",
    "However it still gave better results than logistic regression.  \n",
    "If we tell the tree not to grow too long, then it should get better testing results."
   ]
  },
  {
   "cell_type": "code",
   "execution_count": 56,
   "id": "46cedc42",
   "metadata": {
    "execution": {
     "iopub.execute_input": "2024-07-16T10:39:23.694746Z",
     "iopub.status.busy": "2024-07-16T10:39:23.693941Z",
     "iopub.status.idle": "2024-07-16T10:39:23.696509Z",
     "shell.execute_reply": "2024-07-16T10:39:23.695868Z",
     "shell.execute_reply.started": "2023-11-14T12:48:44.817745Z"
    },
    "papermill": {
     "duration": 0.102569,
     "end_time": "2024-07-16T10:39:23.696630",
     "exception": false,
     "start_time": "2024-07-16T10:39:23.594061",
     "status": "completed"
    },
    "tags": []
   },
   "outputs": [],
   "source": [
    "my_other_tree = DecisionTreeClassifier(max_depth=19)"
   ]
  },
  {
   "cell_type": "code",
   "execution_count": 57,
   "id": "8d0b40cc",
   "metadata": {
    "execution": {
     "iopub.execute_input": "2024-07-16T10:39:23.896776Z",
     "iopub.status.busy": "2024-07-16T10:39:23.895919Z",
     "iopub.status.idle": "2024-07-16T10:39:24.699653Z",
     "shell.execute_reply": "2024-07-16T10:39:24.699021Z",
     "shell.execute_reply.started": "2023-11-14T12:48:44.823950Z"
    },
    "papermill": {
     "duration": 0.906142,
     "end_time": "2024-07-16T10:39:24.699786",
     "exception": false,
     "start_time": "2024-07-16T10:39:23.793644",
     "status": "completed"
    },
    "tags": []
   },
   "outputs": [
    {
     "data": {
      "text/plain": [
       "DecisionTreeClassifier(max_depth=19)"
      ]
     },
     "execution_count": 57,
     "metadata": {},
     "output_type": "execute_result"
    }
   ],
   "source": [
    "my_other_tree.fit(xtrain, ytrain)"
   ]
  },
  {
   "cell_type": "code",
   "execution_count": 58,
   "id": "76a55fb8",
   "metadata": {
    "execution": {
     "iopub.execute_input": "2024-07-16T10:39:24.900015Z",
     "iopub.status.busy": "2024-07-16T10:39:24.899360Z",
     "iopub.status.idle": "2024-07-16T10:39:24.923916Z",
     "shell.execute_reply": "2024-07-16T10:39:24.923401Z",
     "shell.execute_reply.started": "2023-11-14T12:48:45.647979Z"
    },
    "papermill": {
     "duration": 0.12661,
     "end_time": "2024-07-16T10:39:24.924063",
     "exception": false,
     "start_time": "2024-07-16T10:39:24.797453",
     "status": "completed"
    },
    "tags": []
   },
   "outputs": [
    {
     "data": {
      "text/plain": [
       "0.9866111936984767"
      ]
     },
     "execution_count": 58,
     "metadata": {},
     "output_type": "execute_result"
    }
   ],
   "source": [
    "y_predicted_training = my_other_tree.predict(xtrain)\n",
    "accuracy_score(ytrain, y_predicted_training)"
   ]
  },
  {
   "cell_type": "code",
   "execution_count": 59,
   "id": "fcef289e",
   "metadata": {
    "execution": {
     "iopub.execute_input": "2024-07-16T10:39:25.128341Z",
     "iopub.status.busy": "2024-07-16T10:39:25.127675Z",
     "iopub.status.idle": "2024-07-16T10:39:25.136337Z",
     "shell.execute_reply": "2024-07-16T10:39:25.136786Z",
     "shell.execute_reply.started": "2023-11-14T12:48:45.677036Z"
    },
    "papermill": {
     "duration": 0.114548,
     "end_time": "2024-07-16T10:39:25.136935",
     "exception": false,
     "start_time": "2024-07-16T10:39:25.022387",
     "status": "completed"
    },
    "tags": []
   },
   "outputs": [
    {
     "data": {
      "text/plain": [
       "0.9527671571467192"
      ]
     },
     "execution_count": 59,
     "metadata": {},
     "output_type": "execute_result"
    }
   ],
   "source": [
    "y_predicted_testing = my_other_tree.predict(xtest)\n",
    "accuracy_score(ytest, y_predicted_testing)"
   ]
  },
  {
   "cell_type": "code",
   "execution_count": 60,
   "id": "35e26e1c",
   "metadata": {
    "collapsed": true,
    "execution": {
     "iopub.execute_input": "2024-07-16T10:39:25.340141Z",
     "iopub.status.busy": "2024-07-16T10:39:25.339473Z",
     "iopub.status.idle": "2024-07-16T10:39:35.367515Z",
     "shell.execute_reply": "2024-07-16T10:39:35.368016Z",
     "shell.execute_reply.started": "2023-11-14T12:48:45.691500Z"
    },
    "jupyter": {
     "outputs_hidden": true
    },
    "papermill": {
     "duration": 10.132513,
     "end_time": "2024-07-16T10:39:35.368217",
     "exception": false,
     "start_time": "2024-07-16T10:39:25.235704",
     "status": "completed"
    },
    "tags": []
   },
   "outputs": [
    {
     "name": "stdout",
     "output_type": "stream",
     "text": [
      "Collecting lazypredict\r\n",
      "  Downloading lazypredict-0.2.12-py2.py3-none-any.whl (12 kB)\r\n",
      "Requirement already satisfied: scikit-learn in /opt/conda/lib/python3.7/site-packages (from lazypredict) (0.23.2)\r\n",
      "Requirement already satisfied: lightgbm in /opt/conda/lib/python3.7/site-packages (from lazypredict) (3.2.1)\r\n",
      "Requirement already satisfied: joblib in /opt/conda/lib/python3.7/site-packages (from lazypredict) (1.0.1)\r\n",
      "Requirement already satisfied: click in /opt/conda/lib/python3.7/site-packages (from lazypredict) (8.0.1)\r\n",
      "Requirement already satisfied: pandas in /opt/conda/lib/python3.7/site-packages (from lazypredict) (1.3.4)\r\n",
      "Requirement already satisfied: xgboost in /opt/conda/lib/python3.7/site-packages (from lazypredict) (1.5.0)\r\n",
      "Requirement already satisfied: tqdm in /opt/conda/lib/python3.7/site-packages (from lazypredict) (4.62.3)\r\n",
      "Requirement already satisfied: importlib-metadata in /opt/conda/lib/python3.7/site-packages (from click->lazypredict) (4.8.1)\r\n",
      "Requirement already satisfied: typing-extensions>=3.6.4 in /opt/conda/lib/python3.7/site-packages (from importlib-metadata->click->lazypredict) (3.10.0.2)\r\n",
      "Requirement already satisfied: zipp>=0.5 in /opt/conda/lib/python3.7/site-packages (from importlib-metadata->click->lazypredict) (3.5.0)\r\n",
      "Requirement already satisfied: scipy in /opt/conda/lib/python3.7/site-packages (from lightgbm->lazypredict) (1.7.1)\r\n",
      "Requirement already satisfied: wheel in /opt/conda/lib/python3.7/site-packages (from lightgbm->lazypredict) (0.37.0)\r\n",
      "Requirement already satisfied: numpy in /opt/conda/lib/python3.7/site-packages (from lightgbm->lazypredict) (1.19.5)\r\n",
      "Requirement already satisfied: threadpoolctl>=2.0.0 in /opt/conda/lib/python3.7/site-packages (from scikit-learn->lazypredict) (2.2.0)\r\n",
      "Requirement already satisfied: python-dateutil>=2.7.3 in /opt/conda/lib/python3.7/site-packages (from pandas->lazypredict) (2.8.0)\r\n",
      "Requirement already satisfied: pytz>=2017.3 in /opt/conda/lib/python3.7/site-packages (from pandas->lazypredict) (2021.1)\r\n",
      "Requirement already satisfied: six>=1.5 in /opt/conda/lib/python3.7/site-packages (from python-dateutil>=2.7.3->pandas->lazypredict) (1.16.0)\r\n",
      "Installing collected packages: lazypredict\r\n",
      "Successfully installed lazypredict-0.2.12\r\n",
      "\u001b[33mWARNING: Running pip as the 'root' user can result in broken permissions and conflicting behaviour with the system package manager. It is recommended to use a virtual environment instead: https://pip.pypa.io/warnings/venv\u001b[0m\r\n"
     ]
    }
   ],
   "source": [
    "!pip install lazypredict"
   ]
  },
  {
   "cell_type": "code",
   "execution_count": 61,
   "id": "798f2357",
   "metadata": {
    "execution": {
     "iopub.execute_input": "2024-07-16T10:39:35.576357Z",
     "iopub.status.busy": "2024-07-16T10:39:35.575546Z",
     "iopub.status.idle": "2024-07-16T10:39:35.578326Z",
     "shell.execute_reply": "2024-07-16T10:39:35.578815Z",
     "shell.execute_reply.started": "2023-11-14T12:49:55.933491Z"
    },
    "papermill": {
     "duration": 0.109701,
     "end_time": "2024-07-16T10:39:35.578961",
     "exception": false,
     "start_time": "2024-07-16T10:39:35.469260",
     "status": "completed"
    },
    "tags": []
   },
   "outputs": [
    {
     "data": {
      "text/plain": [
       "pandas.core.frame.DataFrame"
      ]
     },
     "execution_count": 61,
     "metadata": {},
     "output_type": "execute_result"
    }
   ],
   "source": [
    "type(xtrain)"
   ]
  },
  {
   "cell_type": "code",
   "execution_count": 62,
   "id": "c3c124e3",
   "metadata": {
    "execution": {
     "iopub.execute_input": "2024-07-16T10:39:35.785648Z",
     "iopub.status.busy": "2024-07-16T10:39:35.784827Z",
     "iopub.status.idle": "2024-07-16T10:39:35.786942Z",
     "shell.execute_reply": "2024-07-16T10:39:35.787441Z",
     "shell.execute_reply.started": "2023-11-14T12:51:05.953846Z"
    },
    "papermill": {
     "duration": 0.107749,
     "end_time": "2024-07-16T10:39:35.787590",
     "exception": false,
     "start_time": "2024-07-16T10:39:35.679841",
     "status": "completed"
    },
    "tags": []
   },
   "outputs": [],
   "source": [
    "x_train=xtrain[:10000]\n",
    "x_test=xtest[:5000]\n",
    "y_train=ytrain[:10000]\n",
    "y_test=ytest[:5000]"
   ]
  },
  {
   "cell_type": "code",
   "execution_count": 63,
   "id": "674670fd",
   "metadata": {
    "execution": {
     "iopub.execute_input": "2024-07-16T10:39:35.997152Z",
     "iopub.status.busy": "2024-07-16T10:39:35.996513Z",
     "iopub.status.idle": "2024-07-16T10:40:12.907471Z",
     "shell.execute_reply": "2024-07-16T10:40:12.906925Z",
     "shell.execute_reply.started": "2023-11-14T12:52:01.135118Z"
    },
    "papermill": {
     "duration": 37.019597,
     "end_time": "2024-07-16T10:40:12.907610",
     "exception": false,
     "start_time": "2024-07-16T10:39:35.888013",
     "status": "completed"
    },
    "tags": []
   },
   "outputs": [
    {
     "data": {
      "text/html": [
       "<style type='text/css'>\n",
       ".datatable table.frame { margin-bottom: 0; }\n",
       ".datatable table.frame thead { border-bottom: none; }\n",
       ".datatable table.frame tr.coltypes td {  color: #FFFFFF;  line-height: 6px;  padding: 0 0.5em;}\n",
       ".datatable .bool    { background: #DDDD99; }\n",
       ".datatable .object  { background: #565656; }\n",
       ".datatable .int     { background: #5D9E5D; }\n",
       ".datatable .float   { background: #4040CC; }\n",
       ".datatable .str     { background: #CC4040; }\n",
       ".datatable .time    { background: #40CC40; }\n",
       ".datatable .row_index {  background: var(--jp-border-color3);  border-right: 1px solid var(--jp-border-color0);  color: var(--jp-ui-font-color3);  font-size: 9px;}\n",
       ".datatable .frame tbody td { text-align: left; }\n",
       ".datatable .frame tr.coltypes .row_index {  background: var(--jp-border-color0);}\n",
       ".datatable th:nth-child(2) { padding-left: 12px; }\n",
       ".datatable .hellipsis {  color: var(--jp-cell-editor-border-color);}\n",
       ".datatable .vellipsis {  background: var(--jp-layout-color0);  color: var(--jp-cell-editor-border-color);}\n",
       ".datatable .na {  color: var(--jp-cell-editor-border-color);  font-size: 80%;}\n",
       ".datatable .sp {  opacity: 0.25;}\n",
       ".datatable .footer { font-size: 9px; }\n",
       ".datatable .frame_dimensions {  background: var(--jp-border-color3);  border-top: 1px solid var(--jp-border-color0);  color: var(--jp-ui-font-color3);  display: inline-block;  opacity: 0.6;  padding: 1px 10px 1px 5px;}\n",
       "</style>\n"
      ],
      "text/plain": [
       "<IPython.core.display.HTML object>"
      ]
     },
     "metadata": {},
     "output_type": "display_data"
    },
    {
     "name": "stderr",
     "output_type": "stream",
     "text": [
      " 90%|████████▉ | 26/29 [00:32<00:02,  1.00it/s]"
     ]
    },
    {
     "name": "stdout",
     "output_type": "stream",
     "text": [
      "[10:40:11] WARNING: ../src/learner.cc:1115: Starting in XGBoost 1.3.0, the default evaluation metric used with the objective 'binary:logistic' was changed from 'error' to 'logloss'. Explicitly set eval_metric if you'd like to restore the old behavior.\n"
     ]
    },
    {
     "name": "stderr",
     "output_type": "stream",
     "text": [
      "100%|██████████| 29/29 [00:34<00:00,  1.19s/it]\n"
     ]
    },
    {
     "data": {
      "text/html": [
       "<div>\n",
       "<style scoped>\n",
       "    .dataframe tbody tr th:only-of-type {\n",
       "        vertical-align: middle;\n",
       "    }\n",
       "\n",
       "    .dataframe tbody tr th {\n",
       "        vertical-align: top;\n",
       "    }\n",
       "\n",
       "    .dataframe thead th {\n",
       "        text-align: right;\n",
       "    }\n",
       "</style>\n",
       "<table border=\"1\" class=\"dataframe\">\n",
       "  <thead>\n",
       "    <tr style=\"text-align: right;\">\n",
       "      <th></th>\n",
       "      <th>Accuracy</th>\n",
       "      <th>Balanced Accuracy</th>\n",
       "      <th>ROC AUC</th>\n",
       "      <th>F1 Score</th>\n",
       "      <th>Time Taken</th>\n",
       "    </tr>\n",
       "    <tr>\n",
       "      <th>Model</th>\n",
       "      <th></th>\n",
       "      <th></th>\n",
       "      <th></th>\n",
       "      <th></th>\n",
       "      <th></th>\n",
       "    </tr>\n",
       "  </thead>\n",
       "  <tbody>\n",
       "    <tr>\n",
       "      <th>LGBMClassifier</th>\n",
       "      <td>0.95</td>\n",
       "      <td>0.95</td>\n",
       "      <td>0.95</td>\n",
       "      <td>0.95</td>\n",
       "      <td>0.26</td>\n",
       "    </tr>\n",
       "    <tr>\n",
       "      <th>XGBClassifier</th>\n",
       "      <td>0.95</td>\n",
       "      <td>0.95</td>\n",
       "      <td>0.95</td>\n",
       "      <td>0.95</td>\n",
       "      <td>1.95</td>\n",
       "    </tr>\n",
       "    <tr>\n",
       "      <th>RandomForestClassifier</th>\n",
       "      <td>0.95</td>\n",
       "      <td>0.95</td>\n",
       "      <td>0.95</td>\n",
       "      <td>0.95</td>\n",
       "      <td>1.30</td>\n",
       "    </tr>\n",
       "    <tr>\n",
       "      <th>ExtraTreesClassifier</th>\n",
       "      <td>0.95</td>\n",
       "      <td>0.95</td>\n",
       "      <td>0.95</td>\n",
       "      <td>0.95</td>\n",
       "      <td>0.99</td>\n",
       "    </tr>\n",
       "    <tr>\n",
       "      <th>BaggingClassifier</th>\n",
       "      <td>0.94</td>\n",
       "      <td>0.94</td>\n",
       "      <td>0.94</td>\n",
       "      <td>0.94</td>\n",
       "      <td>0.43</td>\n",
       "    </tr>\n",
       "    <tr>\n",
       "      <th>SVC</th>\n",
       "      <td>0.94</td>\n",
       "      <td>0.94</td>\n",
       "      <td>0.94</td>\n",
       "      <td>0.94</td>\n",
       "      <td>2.24</td>\n",
       "    </tr>\n",
       "    <tr>\n",
       "      <th>AdaBoostClassifier</th>\n",
       "      <td>0.93</td>\n",
       "      <td>0.92</td>\n",
       "      <td>0.92</td>\n",
       "      <td>0.93</td>\n",
       "      <td>0.58</td>\n",
       "    </tr>\n",
       "    <tr>\n",
       "      <th>DecisionTreeClassifier</th>\n",
       "      <td>0.92</td>\n",
       "      <td>0.92</td>\n",
       "      <td>0.92</td>\n",
       "      <td>0.92</td>\n",
       "      <td>0.13</td>\n",
       "    </tr>\n",
       "    <tr>\n",
       "      <th>KNeighborsClassifier</th>\n",
       "      <td>0.91</td>\n",
       "      <td>0.91</td>\n",
       "      <td>0.91</td>\n",
       "      <td>0.91</td>\n",
       "      <td>1.95</td>\n",
       "    </tr>\n",
       "    <tr>\n",
       "      <th>LabelSpreading</th>\n",
       "      <td>0.89</td>\n",
       "      <td>0.89</td>\n",
       "      <td>0.89</td>\n",
       "      <td>0.89</td>\n",
       "      <td>6.32</td>\n",
       "    </tr>\n",
       "    <tr>\n",
       "      <th>LabelPropagation</th>\n",
       "      <td>0.89</td>\n",
       "      <td>0.89</td>\n",
       "      <td>0.89</td>\n",
       "      <td>0.89</td>\n",
       "      <td>5.07</td>\n",
       "    </tr>\n",
       "    <tr>\n",
       "      <th>ExtraTreeClassifier</th>\n",
       "      <td>0.88</td>\n",
       "      <td>0.88</td>\n",
       "      <td>0.88</td>\n",
       "      <td>0.88</td>\n",
       "      <td>0.04</td>\n",
       "    </tr>\n",
       "    <tr>\n",
       "      <th>LogisticRegression</th>\n",
       "      <td>0.88</td>\n",
       "      <td>0.87</td>\n",
       "      <td>0.87</td>\n",
       "      <td>0.88</td>\n",
       "      <td>0.12</td>\n",
       "    </tr>\n",
       "    <tr>\n",
       "      <th>CalibratedClassifierCV</th>\n",
       "      <td>0.88</td>\n",
       "      <td>0.87</td>\n",
       "      <td>0.87</td>\n",
       "      <td>0.88</td>\n",
       "      <td>4.53</td>\n",
       "    </tr>\n",
       "    <tr>\n",
       "      <th>LinearSVC</th>\n",
       "      <td>0.88</td>\n",
       "      <td>0.87</td>\n",
       "      <td>0.87</td>\n",
       "      <td>0.88</td>\n",
       "      <td>1.21</td>\n",
       "    </tr>\n",
       "    <tr>\n",
       "      <th>NuSVC</th>\n",
       "      <td>0.88</td>\n",
       "      <td>0.87</td>\n",
       "      <td>0.87</td>\n",
       "      <td>0.88</td>\n",
       "      <td>6.43</td>\n",
       "    </tr>\n",
       "    <tr>\n",
       "      <th>RidgeClassifier</th>\n",
       "      <td>0.87</td>\n",
       "      <td>0.87</td>\n",
       "      <td>0.87</td>\n",
       "      <td>0.87</td>\n",
       "      <td>0.05</td>\n",
       "    </tr>\n",
       "    <tr>\n",
       "      <th>RidgeClassifierCV</th>\n",
       "      <td>0.87</td>\n",
       "      <td>0.87</td>\n",
       "      <td>0.87</td>\n",
       "      <td>0.87</td>\n",
       "      <td>0.07</td>\n",
       "    </tr>\n",
       "    <tr>\n",
       "      <th>LinearDiscriminantAnalysis</th>\n",
       "      <td>0.87</td>\n",
       "      <td>0.87</td>\n",
       "      <td>0.87</td>\n",
       "      <td>0.87</td>\n",
       "      <td>0.11</td>\n",
       "    </tr>\n",
       "    <tr>\n",
       "      <th>SGDClassifier</th>\n",
       "      <td>0.86</td>\n",
       "      <td>0.86</td>\n",
       "      <td>0.86</td>\n",
       "      <td>0.86</td>\n",
       "      <td>0.15</td>\n",
       "    </tr>\n",
       "    <tr>\n",
       "      <th>GaussianNB</th>\n",
       "      <td>0.86</td>\n",
       "      <td>0.86</td>\n",
       "      <td>0.86</td>\n",
       "      <td>0.86</td>\n",
       "      <td>0.03</td>\n",
       "    </tr>\n",
       "    <tr>\n",
       "      <th>QuadraticDiscriminantAnalysis</th>\n",
       "      <td>0.86</td>\n",
       "      <td>0.85</td>\n",
       "      <td>0.85</td>\n",
       "      <td>0.86</td>\n",
       "      <td>0.08</td>\n",
       "    </tr>\n",
       "    <tr>\n",
       "      <th>BernoulliNB</th>\n",
       "      <td>0.84</td>\n",
       "      <td>0.84</td>\n",
       "      <td>0.84</td>\n",
       "      <td>0.84</td>\n",
       "      <td>0.05</td>\n",
       "    </tr>\n",
       "    <tr>\n",
       "      <th>NearestCentroid</th>\n",
       "      <td>0.82</td>\n",
       "      <td>0.82</td>\n",
       "      <td>0.82</td>\n",
       "      <td>0.82</td>\n",
       "      <td>0.07</td>\n",
       "    </tr>\n",
       "    <tr>\n",
       "      <th>Perceptron</th>\n",
       "      <td>0.80</td>\n",
       "      <td>0.81</td>\n",
       "      <td>0.81</td>\n",
       "      <td>0.80</td>\n",
       "      <td>0.08</td>\n",
       "    </tr>\n",
       "    <tr>\n",
       "      <th>PassiveAggressiveClassifier</th>\n",
       "      <td>0.79</td>\n",
       "      <td>0.79</td>\n",
       "      <td>0.79</td>\n",
       "      <td>0.79</td>\n",
       "      <td>0.09</td>\n",
       "    </tr>\n",
       "    <tr>\n",
       "      <th>DummyClassifier</th>\n",
       "      <td>0.50</td>\n",
       "      <td>0.49</td>\n",
       "      <td>0.49</td>\n",
       "      <td>0.50</td>\n",
       "      <td>0.03</td>\n",
       "    </tr>\n",
       "  </tbody>\n",
       "</table>\n",
       "</div>"
      ],
      "text/plain": [
       "                               Accuracy  Balanced Accuracy  ROC AUC  F1 Score  \\\n",
       "Model                                                                           \n",
       "LGBMClassifier                     0.95               0.95     0.95      0.95   \n",
       "XGBClassifier                      0.95               0.95     0.95      0.95   \n",
       "RandomForestClassifier             0.95               0.95     0.95      0.95   \n",
       "ExtraTreesClassifier               0.95               0.95     0.95      0.95   \n",
       "BaggingClassifier                  0.94               0.94     0.94      0.94   \n",
       "SVC                                0.94               0.94     0.94      0.94   \n",
       "AdaBoostClassifier                 0.93               0.92     0.92      0.93   \n",
       "DecisionTreeClassifier             0.92               0.92     0.92      0.92   \n",
       "KNeighborsClassifier               0.91               0.91     0.91      0.91   \n",
       "LabelSpreading                     0.89               0.89     0.89      0.89   \n",
       "LabelPropagation                   0.89               0.89     0.89      0.89   \n",
       "ExtraTreeClassifier                0.88               0.88     0.88      0.88   \n",
       "LogisticRegression                 0.88               0.87     0.87      0.88   \n",
       "CalibratedClassifierCV             0.88               0.87     0.87      0.88   \n",
       "LinearSVC                          0.88               0.87     0.87      0.88   \n",
       "NuSVC                              0.88               0.87     0.87      0.88   \n",
       "RidgeClassifier                    0.87               0.87     0.87      0.87   \n",
       "RidgeClassifierCV                  0.87               0.87     0.87      0.87   \n",
       "LinearDiscriminantAnalysis         0.87               0.87     0.87      0.87   \n",
       "SGDClassifier                      0.86               0.86     0.86      0.86   \n",
       "GaussianNB                         0.86               0.86     0.86      0.86   \n",
       "QuadraticDiscriminantAnalysis      0.86               0.85     0.85      0.86   \n",
       "BernoulliNB                        0.84               0.84     0.84      0.84   \n",
       "NearestCentroid                    0.82               0.82     0.82      0.82   \n",
       "Perceptron                         0.80               0.81     0.81      0.80   \n",
       "PassiveAggressiveClassifier        0.79               0.79     0.79      0.79   \n",
       "DummyClassifier                    0.50               0.49     0.49      0.50   \n",
       "\n",
       "                               Time Taken  \n",
       "Model                                      \n",
       "LGBMClassifier                       0.26  \n",
       "XGBClassifier                        1.95  \n",
       "RandomForestClassifier               1.30  \n",
       "ExtraTreesClassifier                 0.99  \n",
       "BaggingClassifier                    0.43  \n",
       "SVC                                  2.24  \n",
       "AdaBoostClassifier                   0.58  \n",
       "DecisionTreeClassifier               0.13  \n",
       "KNeighborsClassifier                 1.95  \n",
       "LabelSpreading                       6.32  \n",
       "LabelPropagation                     5.07  \n",
       "ExtraTreeClassifier                  0.04  \n",
       "LogisticRegression                   0.12  \n",
       "CalibratedClassifierCV               4.53  \n",
       "LinearSVC                            1.21  \n",
       "NuSVC                                6.43  \n",
       "RidgeClassifier                      0.05  \n",
       "RidgeClassifierCV                    0.07  \n",
       "LinearDiscriminantAnalysis           0.11  \n",
       "SGDClassifier                        0.15  \n",
       "GaussianNB                           0.03  \n",
       "QuadraticDiscriminantAnalysis        0.08  \n",
       "BernoulliNB                          0.05  \n",
       "NearestCentroid                      0.07  \n",
       "Perceptron                           0.08  \n",
       "PassiveAggressiveClassifier          0.09  \n",
       "DummyClassifier                      0.03  "
      ]
     },
     "execution_count": 63,
     "metadata": {},
     "output_type": "execute_result"
    }
   ],
   "source": [
    "from lazypredict.Supervised import LazyClassifier\n",
    "clf = LazyClassifier(verbose=0,ignore_warnings=True, custom_metric=None)\n",
    "models,predictions = clf.fit(x_train, x_test, y_train, y_test)\n",
    "models"
   ]
  }
 ],
 "metadata": {
  "kaggle": {
   "accelerator": "gpu",
   "dataSources": [
    {
     "datasetId": 522275,
     "sourceId": 959195,
     "sourceType": "datasetVersion"
    },
    {
     "datasetId": 820589,
     "sourceId": 1403662,
     "sourceType": "datasetVersion"
    },
    {
     "datasetId": 1708531,
     "sourceId": 2797102,
     "sourceType": "datasetVersion"
    }
   ],
   "dockerImageVersionId": 30145,
   "isGpuEnabled": true,
   "isInternetEnabled": true,
   "language": "python",
   "sourceType": "notebook"
  },
  "kernelspec": {
   "display_name": "Python 3",
   "language": "python",
   "name": "python3"
  },
  "language_info": {
   "codemirror_mode": {
    "name": "ipython",
    "version": 3
   },
   "file_extension": ".py",
   "mimetype": "text/x-python",
   "name": "python",
   "nbconvert_exporter": "python",
   "pygments_lexer": "ipython3",
   "version": "3.7.10"
  },
  "papermill": {
   "default_parameters": {},
   "duration": 85.697055,
   "end_time": "2024-07-16T10:40:14.128494",
   "environment_variables": {},
   "exception": null,
   "input_path": "__notebook__.ipynb",
   "output_path": "__notebook__.ipynb",
   "parameters": {},
   "start_time": "2024-07-16T10:38:48.431439",
   "version": "2.3.3"
  }
 },
 "nbformat": 4,
 "nbformat_minor": 5
}
