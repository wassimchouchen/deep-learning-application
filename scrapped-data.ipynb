{
 "cells": [
  {
   "cell_type": "code",
   "execution_count": 1,
   "id": "7184ba34",
   "metadata": {
    "_cell_guid": "b1076dfc-b9ad-4769-8c92-a6c4dae69d19",
    "_uuid": "8f2839f25d086af736a60e9eeb907d3b93b6e0e5",
    "execution": {
     "iopub.execute_input": "2022-07-11T18:10:52.651169Z",
     "iopub.status.busy": "2022-07-11T18:10:52.650582Z",
     "iopub.status.idle": "2022-07-11T18:10:52.662699Z",
     "shell.execute_reply": "2022-07-11T18:10:52.661444Z"
    },
    "papermill": {
     "duration": 0.021814,
     "end_time": "2022-07-11T18:10:52.665125",
     "exception": false,
     "start_time": "2022-07-11T18:10:52.643311",
     "status": "completed"
    },
    "tags": []
   },
   "outputs": [],
   "source": [
    "import numpy as np \n",
    "import pandas as pd \n"
   ]
  },
  {
   "cell_type": "code",
   "execution_count": 2,
   "id": "a02b9282",
   "metadata": {
    "execution": {
     "iopub.execute_input": "2022-07-11T18:10:52.675006Z",
     "iopub.status.busy": "2022-07-11T18:10:52.674468Z",
     "iopub.status.idle": "2022-07-11T18:10:52.864486Z",
     "shell.execute_reply": "2022-07-11T18:10:52.863663Z"
    },
    "papermill": {
     "duration": 0.196805,
     "end_time": "2022-07-11T18:10:52.866437",
     "exception": false,
     "start_time": "2022-07-11T18:10:52.669632",
     "status": "completed"
    },
    "tags": []
   },
   "outputs": [],
   "source": [
    "data=pd.read_csv(\"../input/french/free-french.csv\")"
   ]
  },
  {
   "cell_type": "code",
   "execution_count": 3,
   "id": "dad38531",
   "metadata": {
    "execution": {
     "iopub.execute_input": "2022-07-11T18:10:52.874827Z",
     "iopub.status.busy": "2022-07-11T18:10:52.873888Z",
     "iopub.status.idle": "2022-07-11T18:10:52.898197Z",
     "shell.execute_reply": "2022-07-11T18:10:52.897132Z"
    },
    "papermill": {
     "duration": 0.031499,
     "end_time": "2022-07-11T18:10:52.901257",
     "exception": false,
     "start_time": "2022-07-11T18:10:52.869758",
     "status": "completed"
    },
    "tags": []
   },
   "outputs": [
    {
     "data": {
      "text/html": [
       "<div>\n",
       "<style scoped>\n",
       "    .dataframe tbody tr th:only-of-type {\n",
       "        vertical-align: middle;\n",
       "    }\n",
       "\n",
       "    .dataframe tbody tr th {\n",
       "        vertical-align: top;\n",
       "    }\n",
       "\n",
       "    .dataframe thead th {\n",
       "        text-align: right;\n",
       "    }\n",
       "</style>\n",
       "<table border=\"1\" class=\"dataframe\">\n",
       "  <thead>\n",
       "    <tr style=\"text-align: right;\">\n",
       "      <th></th>\n",
       "      <th>web-scraper-order</th>\n",
       "      <th>web-scraper-start-url</th>\n",
       "      <th>links</th>\n",
       "      <th>links-href</th>\n",
       "      <th>title</th>\n",
       "      <th>text</th>\n",
       "    </tr>\n",
       "  </thead>\n",
       "  <tbody>\n",
       "    <tr>\n",
       "      <th>0</th>\n",
       "      <td>1657559551-10354</td>\n",
       "      <td>https://french.kwiziq.com/learn/reading</td>\n",
       "      <td>Léo et Popi : la Galette des Rois</td>\n",
       "      <td>https://french.kwiziq.com/learn/reading/leo-et...</td>\n",
       "      <td>NaN</td>\n",
       "      <td>Mmmh ... c'est bon !</td>\n",
       "    </tr>\n",
       "    <tr>\n",
       "      <th>1</th>\n",
       "      <td>1657558464-2316</td>\n",
       "      <td>https://french.kwiziq.com/learn/reading</td>\n",
       "      <td>Visite de Marseille</td>\n",
       "      <td>https://french.kwiziq.com/learn/reading/visite...</td>\n",
       "      <td>NaN</td>\n",
       "      <td>se trouvait le \"Logis du Panier\".</td>\n",
       "    </tr>\n",
       "    <tr>\n",
       "      <th>2</th>\n",
       "      <td>1657559453-9695</td>\n",
       "      <td>https://french.kwiziq.com/learn/reading</td>\n",
       "      <td>Menton's Lemon Festival</td>\n",
       "      <td>https://french.kwiziq.com/learn/reading/menton...</td>\n",
       "      <td>Les coulisses de la fête du citron de Menton</td>\n",
       "      <td>depuis plus de quinze ans.</td>\n",
       "    </tr>\n",
       "    <tr>\n",
       "      <th>3</th>\n",
       "      <td>1657559839-11749</td>\n",
       "      <td>https://french.kwiziq.com/learn/reading</td>\n",
       "      <td>Éclipse en Guadeloupe</td>\n",
       "      <td>https://french.kwiziq.com/learn/reading/eclips...</td>\n",
       "      <td>NaN</td>\n",
       "      <td>Et pour cause, peu de professionnels avaient e...</td>\n",
       "    </tr>\n",
       "    <tr>\n",
       "      <th>4</th>\n",
       "      <td>1657558548-3064</td>\n",
       "      <td>https://french.kwiziq.com/learn/reading</td>\n",
       "      <td>Réalisatrices françaises</td>\n",
       "      <td>https://french.kwiziq.com/learn/reading/realis...</td>\n",
       "      <td>NaN</td>\n",
       "      <td>Ce ne sont peut-être pas les plus faciles à re...</td>\n",
       "    </tr>\n",
       "    <tr>\n",
       "      <th>...</th>\n",
       "      <td>...</td>\n",
       "      <td>...</td>\n",
       "      <td>...</td>\n",
       "      <td>...</td>\n",
       "      <td>...</td>\n",
       "      <td>...</td>\n",
       "    </tr>\n",
       "    <tr>\n",
       "      <th>13543</th>\n",
       "      <td>1657558744-4517</td>\n",
       "      <td>https://french.kwiziq.com/learn/reading</td>\n",
       "      <td>Le Louvre : 800 ans d'Histoire</td>\n",
       "      <td>https://french.kwiziq.com/learn/reading/le-lou...</td>\n",
       "      <td>NaN</td>\n",
       "      <td>une puissante forteresse de plan carré,</td>\n",
       "    </tr>\n",
       "    <tr>\n",
       "      <th>13544</th>\n",
       "      <td>1657559628-10673</td>\n",
       "      <td>https://french.kwiziq.com/learn/reading</td>\n",
       "      <td>Le Festival du cinéma américain de Deauville</td>\n",
       "      <td>https://french.kwiziq.com/learn/reading/le-fes...</td>\n",
       "      <td>Le Festival du Cinéma Américain de Deauville</td>\n",
       "      <td>le Festival de Deauville n'était pas compétitif.</td>\n",
       "    </tr>\n",
       "    <tr>\n",
       "      <th>13545</th>\n",
       "      <td>1657558555-3120</td>\n",
       "      <td>https://french.kwiziq.com/learn/reading</td>\n",
       "      <td>Quel est le sens spirituel du Carnaval et du M...</td>\n",
       "      <td>https://french.kwiziq.com/learn/reading/quel-e...</td>\n",
       "      <td>Quel est le sens spirituel du Carnaval et du M...</td>\n",
       "      <td>Allez, cette semaine, je vous propose de décou...</td>\n",
       "    </tr>\n",
       "    <tr>\n",
       "      <th>13546</th>\n",
       "      <td>1657559551-10360</td>\n",
       "      <td>https://french.kwiziq.com/learn/reading</td>\n",
       "      <td>Léo et Popi : la Galette des Rois</td>\n",
       "      <td>https://french.kwiziq.com/learn/reading/leo-et...</td>\n",
       "      <td>NaN</td>\n",
       "      <td>Espérons qu'elle est dans cette part...</td>\n",
       "    </tr>\n",
       "    <tr>\n",
       "      <th>13547</th>\n",
       "      <td>1657559852-11839</td>\n",
       "      <td>https://french.kwiziq.com/learn/reading</td>\n",
       "      <td>Divali : la Fête des Lumières à Vancouver</td>\n",
       "      <td>https://french.kwiziq.com/learn/reading/divali...</td>\n",
       "      <td>Divali : la Fête des Lumières à Vancouver</td>\n",
       "      <td>et on organise de grands repas.</td>\n",
       "    </tr>\n",
       "  </tbody>\n",
       "</table>\n",
       "<p>13548 rows × 6 columns</p>\n",
       "</div>"
      ],
      "text/plain": [
       "      web-scraper-order                    web-scraper-start-url  \\\n",
       "0      1657559551-10354  https://french.kwiziq.com/learn/reading   \n",
       "1       1657558464-2316  https://french.kwiziq.com/learn/reading   \n",
       "2       1657559453-9695  https://french.kwiziq.com/learn/reading   \n",
       "3      1657559839-11749  https://french.kwiziq.com/learn/reading   \n",
       "4       1657558548-3064  https://french.kwiziq.com/learn/reading   \n",
       "...                 ...                                      ...   \n",
       "13543   1657558744-4517  https://french.kwiziq.com/learn/reading   \n",
       "13544  1657559628-10673  https://french.kwiziq.com/learn/reading   \n",
       "13545   1657558555-3120  https://french.kwiziq.com/learn/reading   \n",
       "13546  1657559551-10360  https://french.kwiziq.com/learn/reading   \n",
       "13547  1657559852-11839  https://french.kwiziq.com/learn/reading   \n",
       "\n",
       "                                                   links  \\\n",
       "0                      Léo et Popi : la Galette des Rois   \n",
       "1                                    Visite de Marseille   \n",
       "2                                Menton's Lemon Festival   \n",
       "3                                  Éclipse en Guadeloupe   \n",
       "4                               Réalisatrices françaises   \n",
       "...                                                  ...   \n",
       "13543                     Le Louvre : 800 ans d'Histoire   \n",
       "13544       Le Festival du cinéma américain de Deauville   \n",
       "13545  Quel est le sens spirituel du Carnaval et du M...   \n",
       "13546                  Léo et Popi : la Galette des Rois   \n",
       "13547          Divali : la Fête des Lumières à Vancouver   \n",
       "\n",
       "                                              links-href  \\\n",
       "0      https://french.kwiziq.com/learn/reading/leo-et...   \n",
       "1      https://french.kwiziq.com/learn/reading/visite...   \n",
       "2      https://french.kwiziq.com/learn/reading/menton...   \n",
       "3      https://french.kwiziq.com/learn/reading/eclips...   \n",
       "4      https://french.kwiziq.com/learn/reading/realis...   \n",
       "...                                                  ...   \n",
       "13543  https://french.kwiziq.com/learn/reading/le-lou...   \n",
       "13544  https://french.kwiziq.com/learn/reading/le-fes...   \n",
       "13545  https://french.kwiziq.com/learn/reading/quel-e...   \n",
       "13546  https://french.kwiziq.com/learn/reading/leo-et...   \n",
       "13547  https://french.kwiziq.com/learn/reading/divali...   \n",
       "\n",
       "                                                   title  \\\n",
       "0                                                    NaN   \n",
       "1                                                    NaN   \n",
       "2           Les coulisses de la fête du citron de Menton   \n",
       "3                                                    NaN   \n",
       "4                                                    NaN   \n",
       "...                                                  ...   \n",
       "13543                                                NaN   \n",
       "13544       Le Festival du Cinéma Américain de Deauville   \n",
       "13545  Quel est le sens spirituel du Carnaval et du M...   \n",
       "13546                                                NaN   \n",
       "13547          Divali : la Fête des Lumières à Vancouver   \n",
       "\n",
       "                                                    text  \n",
       "0                                   Mmmh ... c'est bon !  \n",
       "1                      se trouvait le \"Logis du Panier\".  \n",
       "2                             depuis plus de quinze ans.  \n",
       "3      Et pour cause, peu de professionnels avaient e...  \n",
       "4      Ce ne sont peut-être pas les plus faciles à re...  \n",
       "...                                                  ...  \n",
       "13543            une puissante forteresse de plan carré,  \n",
       "13544   le Festival de Deauville n'était pas compétitif.  \n",
       "13545  Allez, cette semaine, je vous propose de décou...  \n",
       "13546            Espérons qu'elle est dans cette part...  \n",
       "13547                    et on organise de grands repas.  \n",
       "\n",
       "[13548 rows x 6 columns]"
      ]
     },
     "execution_count": 3,
     "metadata": {},
     "output_type": "execute_result"
    }
   ],
   "source": [
    "data"
   ]
  },
  {
   "cell_type": "code",
   "execution_count": 4,
   "id": "b918e91c",
   "metadata": {
    "execution": {
     "iopub.execute_input": "2022-07-11T18:10:52.913820Z",
     "iopub.status.busy": "2022-07-11T18:10:52.913269Z",
     "iopub.status.idle": "2022-07-11T18:10:52.922990Z",
     "shell.execute_reply": "2022-07-11T18:10:52.922278Z"
    },
    "papermill": {
     "duration": 0.018063,
     "end_time": "2022-07-11T18:10:52.924958",
     "exception": false,
     "start_time": "2022-07-11T18:10:52.906895",
     "status": "completed"
    },
    "tags": []
   },
   "outputs": [],
   "source": [
    "n_data=data[[\"title\",\"text\"]]"
   ]
  },
  {
   "cell_type": "code",
   "execution_count": 5,
   "id": "c33f5913",
   "metadata": {
    "execution": {
     "iopub.execute_input": "2022-07-11T18:10:52.933741Z",
     "iopub.status.busy": "2022-07-11T18:10:52.932973Z",
     "iopub.status.idle": "2022-07-11T18:10:52.941973Z",
     "shell.execute_reply": "2022-07-11T18:10:52.941391Z"
    },
    "papermill": {
     "duration": 0.014927,
     "end_time": "2022-07-11T18:10:52.943548",
     "exception": false,
     "start_time": "2022-07-11T18:10:52.928621",
     "status": "completed"
    },
    "tags": []
   },
   "outputs": [
    {
     "data": {
      "text/html": [
       "<div>\n",
       "<style scoped>\n",
       "    .dataframe tbody tr th:only-of-type {\n",
       "        vertical-align: middle;\n",
       "    }\n",
       "\n",
       "    .dataframe tbody tr th {\n",
       "        vertical-align: top;\n",
       "    }\n",
       "\n",
       "    .dataframe thead th {\n",
       "        text-align: right;\n",
       "    }\n",
       "</style>\n",
       "<table border=\"1\" class=\"dataframe\">\n",
       "  <thead>\n",
       "    <tr style=\"text-align: right;\">\n",
       "      <th></th>\n",
       "      <th>title</th>\n",
       "      <th>text</th>\n",
       "    </tr>\n",
       "  </thead>\n",
       "  <tbody>\n",
       "    <tr>\n",
       "      <th>0</th>\n",
       "      <td>NaN</td>\n",
       "      <td>Mmmh ... c'est bon !</td>\n",
       "    </tr>\n",
       "    <tr>\n",
       "      <th>1</th>\n",
       "      <td>NaN</td>\n",
       "      <td>se trouvait le \"Logis du Panier\".</td>\n",
       "    </tr>\n",
       "    <tr>\n",
       "      <th>2</th>\n",
       "      <td>Les coulisses de la fête du citron de Menton</td>\n",
       "      <td>depuis plus de quinze ans.</td>\n",
       "    </tr>\n",
       "    <tr>\n",
       "      <th>3</th>\n",
       "      <td>NaN</td>\n",
       "      <td>Et pour cause, peu de professionnels avaient e...</td>\n",
       "    </tr>\n",
       "    <tr>\n",
       "      <th>4</th>\n",
       "      <td>NaN</td>\n",
       "      <td>Ce ne sont peut-être pas les plus faciles à re...</td>\n",
       "    </tr>\n",
       "    <tr>\n",
       "      <th>...</th>\n",
       "      <td>...</td>\n",
       "      <td>...</td>\n",
       "    </tr>\n",
       "    <tr>\n",
       "      <th>13543</th>\n",
       "      <td>NaN</td>\n",
       "      <td>une puissante forteresse de plan carré,</td>\n",
       "    </tr>\n",
       "    <tr>\n",
       "      <th>13544</th>\n",
       "      <td>Le Festival du Cinéma Américain de Deauville</td>\n",
       "      <td>le Festival de Deauville n'était pas compétitif.</td>\n",
       "    </tr>\n",
       "    <tr>\n",
       "      <th>13545</th>\n",
       "      <td>Quel est le sens spirituel du Carnaval et du M...</td>\n",
       "      <td>Allez, cette semaine, je vous propose de décou...</td>\n",
       "    </tr>\n",
       "    <tr>\n",
       "      <th>13546</th>\n",
       "      <td>NaN</td>\n",
       "      <td>Espérons qu'elle est dans cette part...</td>\n",
       "    </tr>\n",
       "    <tr>\n",
       "      <th>13547</th>\n",
       "      <td>Divali : la Fête des Lumières à Vancouver</td>\n",
       "      <td>et on organise de grands repas.</td>\n",
       "    </tr>\n",
       "  </tbody>\n",
       "</table>\n",
       "<p>13548 rows × 2 columns</p>\n",
       "</div>"
      ],
      "text/plain": [
       "                                                   title  \\\n",
       "0                                                    NaN   \n",
       "1                                                    NaN   \n",
       "2           Les coulisses de la fête du citron de Menton   \n",
       "3                                                    NaN   \n",
       "4                                                    NaN   \n",
       "...                                                  ...   \n",
       "13543                                                NaN   \n",
       "13544       Le Festival du Cinéma Américain de Deauville   \n",
       "13545  Quel est le sens spirituel du Carnaval et du M...   \n",
       "13546                                                NaN   \n",
       "13547          Divali : la Fête des Lumières à Vancouver   \n",
       "\n",
       "                                                    text  \n",
       "0                                   Mmmh ... c'est bon !  \n",
       "1                      se trouvait le \"Logis du Panier\".  \n",
       "2                             depuis plus de quinze ans.  \n",
       "3      Et pour cause, peu de professionnels avaient e...  \n",
       "4      Ce ne sont peut-être pas les plus faciles à re...  \n",
       "...                                                  ...  \n",
       "13543            une puissante forteresse de plan carré,  \n",
       "13544   le Festival de Deauville n'était pas compétitif.  \n",
       "13545  Allez, cette semaine, je vous propose de décou...  \n",
       "13546            Espérons qu'elle est dans cette part...  \n",
       "13547                    et on organise de grands repas.  \n",
       "\n",
       "[13548 rows x 2 columns]"
      ]
     },
     "execution_count": 5,
     "metadata": {},
     "output_type": "execute_result"
    }
   ],
   "source": [
    "n_data"
   ]
  },
  {
   "cell_type": "code",
   "execution_count": 6,
   "id": "4c17f457",
   "metadata": {
    "execution": {
     "iopub.execute_input": "2022-07-11T18:10:52.952877Z",
     "iopub.status.busy": "2022-07-11T18:10:52.952111Z",
     "iopub.status.idle": "2022-07-11T18:10:52.958095Z",
     "shell.execute_reply": "2022-07-11T18:10:52.957281Z"
    },
    "papermill": {
     "duration": 0.012684,
     "end_time": "2022-07-11T18:10:52.960015",
     "exception": false,
     "start_time": "2022-07-11T18:10:52.947331",
     "status": "completed"
    },
    "tags": []
   },
   "outputs": [],
   "source": [
    "text=n_data[\"text\"]\n",
    "title=n_data[\"title\"]"
   ]
  },
  {
   "cell_type": "code",
   "execution_count": 7,
   "id": "edf6481a",
   "metadata": {
    "execution": {
     "iopub.execute_input": "2022-07-11T18:10:52.968510Z",
     "iopub.status.busy": "2022-07-11T18:10:52.968194Z",
     "iopub.status.idle": "2022-07-11T18:10:52.974921Z",
     "shell.execute_reply": "2022-07-11T18:10:52.973900Z"
    },
    "papermill": {
     "duration": 0.01296,
     "end_time": "2022-07-11T18:10:52.976671",
     "exception": false,
     "start_time": "2022-07-11T18:10:52.963711",
     "status": "completed"
    },
    "tags": []
   },
   "outputs": [
    {
     "data": {
      "text/plain": [
       "8550"
      ]
     },
     "execution_count": 7,
     "metadata": {},
     "output_type": "execute_result"
    }
   ],
   "source": [
    "title.isna().sum()"
   ]
  },
  {
   "cell_type": "code",
   "execution_count": 8,
   "id": "fc7eb23b",
   "metadata": {
    "execution": {
     "iopub.execute_input": "2022-07-11T18:10:52.985640Z",
     "iopub.status.busy": "2022-07-11T18:10:52.985317Z",
     "iopub.status.idle": "2022-07-11T18:10:52.991977Z",
     "shell.execute_reply": "2022-07-11T18:10:52.991021Z"
    },
    "papermill": {
     "duration": 0.013151,
     "end_time": "2022-07-11T18:10:52.993637",
     "exception": false,
     "start_time": "2022-07-11T18:10:52.980486",
     "status": "completed"
    },
    "tags": []
   },
   "outputs": [
    {
     "data": {
      "text/plain": [
       "36"
      ]
     },
     "execution_count": 8,
     "metadata": {},
     "output_type": "execute_result"
    }
   ],
   "source": [
    "text.isna().sum()"
   ]
  },
  {
   "cell_type": "code",
   "execution_count": 9,
   "id": "80b3c41e",
   "metadata": {
    "execution": {
     "iopub.execute_input": "2022-07-11T18:10:53.003220Z",
     "iopub.status.busy": "2022-07-11T18:10:53.002650Z",
     "iopub.status.idle": "2022-07-11T18:10:53.008207Z",
     "shell.execute_reply": "2022-07-11T18:10:53.007455Z"
    },
    "papermill": {
     "duration": 0.012173,
     "end_time": "2022-07-11T18:10:53.009743",
     "exception": false,
     "start_time": "2022-07-11T18:10:52.997570",
     "status": "completed"
    },
    "tags": []
   },
   "outputs": [
    {
     "data": {
      "text/plain": [
       "'depuis plus de quinze ans.'"
      ]
     },
     "execution_count": 9,
     "metadata": {},
     "output_type": "execute_result"
    }
   ],
   "source": [
    "text[2]"
   ]
  },
  {
   "cell_type": "code",
   "execution_count": 10,
   "id": "8a3b0519",
   "metadata": {
    "execution": {
     "iopub.execute_input": "2022-07-11T18:10:53.019361Z",
     "iopub.status.busy": "2022-07-11T18:10:53.018837Z",
     "iopub.status.idle": "2022-07-11T18:10:53.025186Z",
     "shell.execute_reply": "2022-07-11T18:10:53.024473Z"
    },
    "papermill": {
     "duration": 0.013273,
     "end_time": "2022-07-11T18:10:53.026956",
     "exception": false,
     "start_time": "2022-07-11T18:10:53.013683",
     "status": "completed"
    },
    "tags": []
   },
   "outputs": [],
   "source": [
    "title = title[title.notnull()]\n",
    "title = title.reset_index(drop=True)"
   ]
  },
  {
   "cell_type": "code",
   "execution_count": 11,
   "id": "14bbc332",
   "metadata": {
    "execution": {
     "iopub.execute_input": "2022-07-11T18:10:53.036690Z",
     "iopub.status.busy": "2022-07-11T18:10:53.036161Z",
     "iopub.status.idle": "2022-07-11T18:10:53.042879Z",
     "shell.execute_reply": "2022-07-11T18:10:53.042184Z"
    },
    "papermill": {
     "duration": 0.013796,
     "end_time": "2022-07-11T18:10:53.044794",
     "exception": false,
     "start_time": "2022-07-11T18:10:53.030998",
     "status": "completed"
    },
    "tags": []
   },
   "outputs": [
    {
     "data": {
      "text/plain": [
       "0            Les coulisses de la fête du citron de Menton\n",
       "1                                      La chasse aux œufs\n",
       "2                                       La Fête des Pères\n",
       "3            Parle-t-on français ailleurs dans le monde ?\n",
       "4               L'histoire de Saint-Sylvestre 31 décembre\n",
       "                              ...                        \n",
       "4993                             Vendée Globe 2016 / 2017\n",
       "4994         Le Festival du Cinéma Américain de Deauville\n",
       "4995         Le Festival du Cinéma Américain de Deauville\n",
       "4996    Quel est le sens spirituel du Carnaval et du M...\n",
       "4997            Divali : la Fête des Lumières à Vancouver\n",
       "Name: title, Length: 4998, dtype: object"
      ]
     },
     "execution_count": 11,
     "metadata": {},
     "output_type": "execute_result"
    }
   ],
   "source": [
    "title"
   ]
  },
  {
   "cell_type": "code",
   "execution_count": 12,
   "id": "c9559311",
   "metadata": {
    "execution": {
     "iopub.execute_input": "2022-07-11T18:10:53.054838Z",
     "iopub.status.busy": "2022-07-11T18:10:53.054212Z",
     "iopub.status.idle": "2022-07-11T18:10:53.061178Z",
     "shell.execute_reply": "2022-07-11T18:10:53.060415Z"
    },
    "papermill": {
     "duration": 0.014016,
     "end_time": "2022-07-11T18:10:53.062995",
     "exception": false,
     "start_time": "2022-07-11T18:10:53.048979",
     "status": "completed"
    },
    "tags": []
   },
   "outputs": [],
   "source": [
    "n_data = n_data[pd.notnull(n_data['text'])]"
   ]
  },
  {
   "cell_type": "code",
   "execution_count": 13,
   "id": "151b487f",
   "metadata": {
    "execution": {
     "iopub.execute_input": "2022-07-11T18:10:53.073329Z",
     "iopub.status.busy": "2022-07-11T18:10:53.072677Z",
     "iopub.status.idle": "2022-07-11T18:10:53.082079Z",
     "shell.execute_reply": "2022-07-11T18:10:53.081318Z"
    },
    "papermill": {
     "duration": 0.016351,
     "end_time": "2022-07-11T18:10:53.083682",
     "exception": false,
     "start_time": "2022-07-11T18:10:53.067331",
     "status": "completed"
    },
    "tags": []
   },
   "outputs": [
    {
     "data": {
      "text/html": [
       "<div>\n",
       "<style scoped>\n",
       "    .dataframe tbody tr th:only-of-type {\n",
       "        vertical-align: middle;\n",
       "    }\n",
       "\n",
       "    .dataframe tbody tr th {\n",
       "        vertical-align: top;\n",
       "    }\n",
       "\n",
       "    .dataframe thead th {\n",
       "        text-align: right;\n",
       "    }\n",
       "</style>\n",
       "<table border=\"1\" class=\"dataframe\">\n",
       "  <thead>\n",
       "    <tr style=\"text-align: right;\">\n",
       "      <th></th>\n",
       "      <th>title</th>\n",
       "      <th>text</th>\n",
       "    </tr>\n",
       "  </thead>\n",
       "  <tbody>\n",
       "    <tr>\n",
       "      <th>0</th>\n",
       "      <td>NaN</td>\n",
       "      <td>Mmmh ... c'est bon !</td>\n",
       "    </tr>\n",
       "    <tr>\n",
       "      <th>1</th>\n",
       "      <td>NaN</td>\n",
       "      <td>se trouvait le \"Logis du Panier\".</td>\n",
       "    </tr>\n",
       "    <tr>\n",
       "      <th>2</th>\n",
       "      <td>Les coulisses de la fête du citron de Menton</td>\n",
       "      <td>depuis plus de quinze ans.</td>\n",
       "    </tr>\n",
       "    <tr>\n",
       "      <th>3</th>\n",
       "      <td>NaN</td>\n",
       "      <td>Et pour cause, peu de professionnels avaient e...</td>\n",
       "    </tr>\n",
       "    <tr>\n",
       "      <th>4</th>\n",
       "      <td>NaN</td>\n",
       "      <td>Ce ne sont peut-être pas les plus faciles à re...</td>\n",
       "    </tr>\n",
       "    <tr>\n",
       "      <th>...</th>\n",
       "      <td>...</td>\n",
       "      <td>...</td>\n",
       "    </tr>\n",
       "    <tr>\n",
       "      <th>13543</th>\n",
       "      <td>NaN</td>\n",
       "      <td>une puissante forteresse de plan carré,</td>\n",
       "    </tr>\n",
       "    <tr>\n",
       "      <th>13544</th>\n",
       "      <td>Le Festival du Cinéma Américain de Deauville</td>\n",
       "      <td>le Festival de Deauville n'était pas compétitif.</td>\n",
       "    </tr>\n",
       "    <tr>\n",
       "      <th>13545</th>\n",
       "      <td>Quel est le sens spirituel du Carnaval et du M...</td>\n",
       "      <td>Allez, cette semaine, je vous propose de décou...</td>\n",
       "    </tr>\n",
       "    <tr>\n",
       "      <th>13546</th>\n",
       "      <td>NaN</td>\n",
       "      <td>Espérons qu'elle est dans cette part...</td>\n",
       "    </tr>\n",
       "    <tr>\n",
       "      <th>13547</th>\n",
       "      <td>Divali : la Fête des Lumières à Vancouver</td>\n",
       "      <td>et on organise de grands repas.</td>\n",
       "    </tr>\n",
       "  </tbody>\n",
       "</table>\n",
       "<p>13512 rows × 2 columns</p>\n",
       "</div>"
      ],
      "text/plain": [
       "                                                   title  \\\n",
       "0                                                    NaN   \n",
       "1                                                    NaN   \n",
       "2           Les coulisses de la fête du citron de Menton   \n",
       "3                                                    NaN   \n",
       "4                                                    NaN   \n",
       "...                                                  ...   \n",
       "13543                                                NaN   \n",
       "13544       Le Festival du Cinéma Américain de Deauville   \n",
       "13545  Quel est le sens spirituel du Carnaval et du M...   \n",
       "13546                                                NaN   \n",
       "13547          Divali : la Fête des Lumières à Vancouver   \n",
       "\n",
       "                                                    text  \n",
       "0                                   Mmmh ... c'est bon !  \n",
       "1                      se trouvait le \"Logis du Panier\".  \n",
       "2                             depuis plus de quinze ans.  \n",
       "3      Et pour cause, peu de professionnels avaient e...  \n",
       "4      Ce ne sont peut-être pas les plus faciles à re...  \n",
       "...                                                  ...  \n",
       "13543            une puissante forteresse de plan carré,  \n",
       "13544   le Festival de Deauville n'était pas compétitif.  \n",
       "13545  Allez, cette semaine, je vous propose de décou...  \n",
       "13546            Espérons qu'elle est dans cette part...  \n",
       "13547                    et on organise de grands repas.  \n",
       "\n",
       "[13512 rows x 2 columns]"
      ]
     },
     "execution_count": 13,
     "metadata": {},
     "output_type": "execute_result"
    }
   ],
   "source": [
    "n_data"
   ]
  },
  {
   "cell_type": "code",
   "execution_count": null,
   "id": "63cdd94c",
   "metadata": {
    "papermill": {
     "duration": 0.003868,
     "end_time": "2022-07-11T18:10:53.091887",
     "exception": false,
     "start_time": "2022-07-11T18:10:53.088019",
     "status": "completed"
    },
    "tags": []
   },
   "outputs": [],
   "source": []
  }
 ],
 "metadata": {
  "kernelspec": {
   "display_name": "Python 3",
   "language": "python",
   "name": "python3"
  },
  "language_info": {
   "codemirror_mode": {
    "name": "ipython",
    "version": 3
   },
   "file_extension": ".py",
   "mimetype": "text/x-python",
   "name": "python",
   "nbconvert_exporter": "python",
   "pygments_lexer": "ipython3",
   "version": "3.7.12"
  },
  "papermill": {
   "default_parameters": {},
   "duration": 8.590358,
   "end_time": "2022-07-11T18:10:53.814692",
   "environment_variables": {},
   "exception": null,
   "input_path": "__notebook__.ipynb",
   "output_path": "__notebook__.ipynb",
   "parameters": {},
   "start_time": "2022-07-11T18:10:45.224334",
   "version": "2.3.4"
  }
 },
 "nbformat": 4,
 "nbformat_minor": 5
}
