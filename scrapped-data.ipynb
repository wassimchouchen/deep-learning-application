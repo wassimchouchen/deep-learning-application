{
 "cells": [
  {
   "cell_type": "code",
   "execution_count": 1,
   "id": "e1416071",
   "metadata": {
    "_cell_guid": "b1076dfc-b9ad-4769-8c92-a6c4dae69d19",
    "_uuid": "8f2839f25d086af736a60e9eeb907d3b93b6e0e5",
    "execution": {
     "iopub.execute_input": "2022-07-11T17:43:11.564924Z",
     "iopub.status.busy": "2022-07-11T17:43:11.564165Z",
     "iopub.status.idle": "2022-07-11T17:43:11.592758Z",
     "shell.execute_reply": "2022-07-11T17:43:11.590816Z"
    },
    "papermill": {
     "duration": 0.043127,
     "end_time": "2022-07-11T17:43:11.597246",
     "exception": false,
     "start_time": "2022-07-11T17:43:11.554119",
     "status": "completed"
    },
    "tags": []
   },
   "outputs": [],
   "source": [
    "import numpy as np \n",
    "import pandas as pd \n"
   ]
  },
  {
   "cell_type": "code",
   "execution_count": 2,
   "id": "6f728585",
   "metadata": {
    "execution": {
     "iopub.execute_input": "2022-07-11T17:43:11.612216Z",
     "iopub.status.busy": "2022-07-11T17:43:11.611184Z",
     "iopub.status.idle": "2022-07-11T17:43:11.728406Z",
     "shell.execute_reply": "2022-07-11T17:43:11.727104Z"
    },
    "papermill": {
     "duration": 0.128116,
     "end_time": "2022-07-11T17:43:11.731663",
     "exception": false,
     "start_time": "2022-07-11T17:43:11.603547",
     "status": "completed"
    },
    "tags": []
   },
   "outputs": [],
   "source": [
    "data=pd.read_csv(\"../input/french/free-french.csv\")"
   ]
  },
  {
   "cell_type": "code",
   "execution_count": 3,
   "id": "04183ed8",
   "metadata": {
    "execution": {
     "iopub.execute_input": "2022-07-11T17:43:11.741732Z",
     "iopub.status.busy": "2022-07-11T17:43:11.741354Z",
     "iopub.status.idle": "2022-07-11T17:43:11.768601Z",
     "shell.execute_reply": "2022-07-11T17:43:11.767368Z"
    },
    "papermill": {
     "duration": 0.036669,
     "end_time": "2022-07-11T17:43:11.772346",
     "exception": false,
     "start_time": "2022-07-11T17:43:11.735677",
     "status": "completed"
    },
    "tags": []
   },
   "outputs": [
    {
     "data": {
      "text/html": [
       "<div>\n",
       "<style scoped>\n",
       "    .dataframe tbody tr th:only-of-type {\n",
       "        vertical-align: middle;\n",
       "    }\n",
       "\n",
       "    .dataframe tbody tr th {\n",
       "        vertical-align: top;\n",
       "    }\n",
       "\n",
       "    .dataframe thead th {\n",
       "        text-align: right;\n",
       "    }\n",
       "</style>\n",
       "<table border=\"1\" class=\"dataframe\">\n",
       "  <thead>\n",
       "    <tr style=\"text-align: right;\">\n",
       "      <th></th>\n",
       "      <th>web-scraper-order</th>\n",
       "      <th>web-scraper-start-url</th>\n",
       "      <th>links</th>\n",
       "      <th>links-href</th>\n",
       "      <th>title</th>\n",
       "      <th>text</th>\n",
       "    </tr>\n",
       "  </thead>\n",
       "  <tbody>\n",
       "    <tr>\n",
       "      <th>0</th>\n",
       "      <td>1657559551-10354</td>\n",
       "      <td>https://french.kwiziq.com/learn/reading</td>\n",
       "      <td>Léo et Popi : la Galette des Rois</td>\n",
       "      <td>https://french.kwiziq.com/learn/reading/leo-et...</td>\n",
       "      <td>NaN</td>\n",
       "      <td>Mmmh ... c'est bon !</td>\n",
       "    </tr>\n",
       "    <tr>\n",
       "      <th>1</th>\n",
       "      <td>1657558464-2316</td>\n",
       "      <td>https://french.kwiziq.com/learn/reading</td>\n",
       "      <td>Visite de Marseille</td>\n",
       "      <td>https://french.kwiziq.com/learn/reading/visite...</td>\n",
       "      <td>NaN</td>\n",
       "      <td>se trouvait le \"Logis du Panier\".</td>\n",
       "    </tr>\n",
       "    <tr>\n",
       "      <th>2</th>\n",
       "      <td>1657559453-9695</td>\n",
       "      <td>https://french.kwiziq.com/learn/reading</td>\n",
       "      <td>Menton's Lemon Festival</td>\n",
       "      <td>https://french.kwiziq.com/learn/reading/menton...</td>\n",
       "      <td>Les coulisses de la fête du citron de Menton</td>\n",
       "      <td>depuis plus de quinze ans.</td>\n",
       "    </tr>\n",
       "    <tr>\n",
       "      <th>3</th>\n",
       "      <td>1657559839-11749</td>\n",
       "      <td>https://french.kwiziq.com/learn/reading</td>\n",
       "      <td>Éclipse en Guadeloupe</td>\n",
       "      <td>https://french.kwiziq.com/learn/reading/eclips...</td>\n",
       "      <td>NaN</td>\n",
       "      <td>Et pour cause, peu de professionnels avaient e...</td>\n",
       "    </tr>\n",
       "    <tr>\n",
       "      <th>4</th>\n",
       "      <td>1657558548-3064</td>\n",
       "      <td>https://french.kwiziq.com/learn/reading</td>\n",
       "      <td>Réalisatrices françaises</td>\n",
       "      <td>https://french.kwiziq.com/learn/reading/realis...</td>\n",
       "      <td>NaN</td>\n",
       "      <td>Ce ne sont peut-être pas les plus faciles à re...</td>\n",
       "    </tr>\n",
       "    <tr>\n",
       "      <th>...</th>\n",
       "      <td>...</td>\n",
       "      <td>...</td>\n",
       "      <td>...</td>\n",
       "      <td>...</td>\n",
       "      <td>...</td>\n",
       "      <td>...</td>\n",
       "    </tr>\n",
       "    <tr>\n",
       "      <th>13543</th>\n",
       "      <td>1657558744-4517</td>\n",
       "      <td>https://french.kwiziq.com/learn/reading</td>\n",
       "      <td>Le Louvre : 800 ans d'Histoire</td>\n",
       "      <td>https://french.kwiziq.com/learn/reading/le-lou...</td>\n",
       "      <td>NaN</td>\n",
       "      <td>une puissante forteresse de plan carré,</td>\n",
       "    </tr>\n",
       "    <tr>\n",
       "      <th>13544</th>\n",
       "      <td>1657559628-10673</td>\n",
       "      <td>https://french.kwiziq.com/learn/reading</td>\n",
       "      <td>Le Festival du cinéma américain de Deauville</td>\n",
       "      <td>https://french.kwiziq.com/learn/reading/le-fes...</td>\n",
       "      <td>Le Festival du Cinéma Américain de Deauville</td>\n",
       "      <td>le Festival de Deauville n'était pas compétitif.</td>\n",
       "    </tr>\n",
       "    <tr>\n",
       "      <th>13545</th>\n",
       "      <td>1657558555-3120</td>\n",
       "      <td>https://french.kwiziq.com/learn/reading</td>\n",
       "      <td>Quel est le sens spirituel du Carnaval et du M...</td>\n",
       "      <td>https://french.kwiziq.com/learn/reading/quel-e...</td>\n",
       "      <td>Quel est le sens spirituel du Carnaval et du M...</td>\n",
       "      <td>Allez, cette semaine, je vous propose de décou...</td>\n",
       "    </tr>\n",
       "    <tr>\n",
       "      <th>13546</th>\n",
       "      <td>1657559551-10360</td>\n",
       "      <td>https://french.kwiziq.com/learn/reading</td>\n",
       "      <td>Léo et Popi : la Galette des Rois</td>\n",
       "      <td>https://french.kwiziq.com/learn/reading/leo-et...</td>\n",
       "      <td>NaN</td>\n",
       "      <td>Espérons qu'elle est dans cette part...</td>\n",
       "    </tr>\n",
       "    <tr>\n",
       "      <th>13547</th>\n",
       "      <td>1657559852-11839</td>\n",
       "      <td>https://french.kwiziq.com/learn/reading</td>\n",
       "      <td>Divali : la Fête des Lumières à Vancouver</td>\n",
       "      <td>https://french.kwiziq.com/learn/reading/divali...</td>\n",
       "      <td>Divali : la Fête des Lumières à Vancouver</td>\n",
       "      <td>et on organise de grands repas.</td>\n",
       "    </tr>\n",
       "  </tbody>\n",
       "</table>\n",
       "<p>13548 rows × 6 columns</p>\n",
       "</div>"
      ],
      "text/plain": [
       "      web-scraper-order                    web-scraper-start-url  \\\n",
       "0      1657559551-10354  https://french.kwiziq.com/learn/reading   \n",
       "1       1657558464-2316  https://french.kwiziq.com/learn/reading   \n",
       "2       1657559453-9695  https://french.kwiziq.com/learn/reading   \n",
       "3      1657559839-11749  https://french.kwiziq.com/learn/reading   \n",
       "4       1657558548-3064  https://french.kwiziq.com/learn/reading   \n",
       "...                 ...                                      ...   \n",
       "13543   1657558744-4517  https://french.kwiziq.com/learn/reading   \n",
       "13544  1657559628-10673  https://french.kwiziq.com/learn/reading   \n",
       "13545   1657558555-3120  https://french.kwiziq.com/learn/reading   \n",
       "13546  1657559551-10360  https://french.kwiziq.com/learn/reading   \n",
       "13547  1657559852-11839  https://french.kwiziq.com/learn/reading   \n",
       "\n",
       "                                                   links  \\\n",
       "0                      Léo et Popi : la Galette des Rois   \n",
       "1                                    Visite de Marseille   \n",
       "2                                Menton's Lemon Festival   \n",
       "3                                  Éclipse en Guadeloupe   \n",
       "4                               Réalisatrices françaises   \n",
       "...                                                  ...   \n",
       "13543                     Le Louvre : 800 ans d'Histoire   \n",
       "13544       Le Festival du cinéma américain de Deauville   \n",
       "13545  Quel est le sens spirituel du Carnaval et du M...   \n",
       "13546                  Léo et Popi : la Galette des Rois   \n",
       "13547          Divali : la Fête des Lumières à Vancouver   \n",
       "\n",
       "                                              links-href  \\\n",
       "0      https://french.kwiziq.com/learn/reading/leo-et...   \n",
       "1      https://french.kwiziq.com/learn/reading/visite...   \n",
       "2      https://french.kwiziq.com/learn/reading/menton...   \n",
       "3      https://french.kwiziq.com/learn/reading/eclips...   \n",
       "4      https://french.kwiziq.com/learn/reading/realis...   \n",
       "...                                                  ...   \n",
       "13543  https://french.kwiziq.com/learn/reading/le-lou...   \n",
       "13544  https://french.kwiziq.com/learn/reading/le-fes...   \n",
       "13545  https://french.kwiziq.com/learn/reading/quel-e...   \n",
       "13546  https://french.kwiziq.com/learn/reading/leo-et...   \n",
       "13547  https://french.kwiziq.com/learn/reading/divali...   \n",
       "\n",
       "                                                   title  \\\n",
       "0                                                    NaN   \n",
       "1                                                    NaN   \n",
       "2           Les coulisses de la fête du citron de Menton   \n",
       "3                                                    NaN   \n",
       "4                                                    NaN   \n",
       "...                                                  ...   \n",
       "13543                                                NaN   \n",
       "13544       Le Festival du Cinéma Américain de Deauville   \n",
       "13545  Quel est le sens spirituel du Carnaval et du M...   \n",
       "13546                                                NaN   \n",
       "13547          Divali : la Fête des Lumières à Vancouver   \n",
       "\n",
       "                                                    text  \n",
       "0                                   Mmmh ... c'est bon !  \n",
       "1                      se trouvait le \"Logis du Panier\".  \n",
       "2                             depuis plus de quinze ans.  \n",
       "3      Et pour cause, peu de professionnels avaient e...  \n",
       "4      Ce ne sont peut-être pas les plus faciles à re...  \n",
       "...                                                  ...  \n",
       "13543            une puissante forteresse de plan carré,  \n",
       "13544   le Festival de Deauville n'était pas compétitif.  \n",
       "13545  Allez, cette semaine, je vous propose de décou...  \n",
       "13546            Espérons qu'elle est dans cette part...  \n",
       "13547                    et on organise de grands repas.  \n",
       "\n",
       "[13548 rows x 6 columns]"
      ]
     },
     "execution_count": 3,
     "metadata": {},
     "output_type": "execute_result"
    }
   ],
   "source": [
    "data"
   ]
  },
  {
   "cell_type": "code",
   "execution_count": 4,
   "id": "b7a86d81",
   "metadata": {
    "execution": {
     "iopub.execute_input": "2022-07-11T17:43:11.783272Z",
     "iopub.status.busy": "2022-07-11T17:43:11.782389Z",
     "iopub.status.idle": "2022-07-11T17:43:11.793318Z",
     "shell.execute_reply": "2022-07-11T17:43:11.792086Z"
    },
    "papermill": {
     "duration": 0.020274,
     "end_time": "2022-07-11T17:43:11.796850",
     "exception": false,
     "start_time": "2022-07-11T17:43:11.776576",
     "status": "completed"
    },
    "tags": []
   },
   "outputs": [],
   "source": [
    "n_data=data[[\"title\",\"text\"]]"
   ]
  },
  {
   "cell_type": "code",
   "execution_count": 5,
   "id": "3f08beec",
   "metadata": {
    "execution": {
     "iopub.execute_input": "2022-07-11T17:43:11.807424Z",
     "iopub.status.busy": "2022-07-11T17:43:11.806967Z",
     "iopub.status.idle": "2022-07-11T17:43:11.823642Z",
     "shell.execute_reply": "2022-07-11T17:43:11.822173Z"
    },
    "papermill": {
     "duration": 0.025442,
     "end_time": "2022-07-11T17:43:11.826828",
     "exception": false,
     "start_time": "2022-07-11T17:43:11.801386",
     "status": "completed"
    },
    "tags": []
   },
   "outputs": [
    {
     "data": {
      "text/html": [
       "<div>\n",
       "<style scoped>\n",
       "    .dataframe tbody tr th:only-of-type {\n",
       "        vertical-align: middle;\n",
       "    }\n",
       "\n",
       "    .dataframe tbody tr th {\n",
       "        vertical-align: top;\n",
       "    }\n",
       "\n",
       "    .dataframe thead th {\n",
       "        text-align: right;\n",
       "    }\n",
       "</style>\n",
       "<table border=\"1\" class=\"dataframe\">\n",
       "  <thead>\n",
       "    <tr style=\"text-align: right;\">\n",
       "      <th></th>\n",
       "      <th>title</th>\n",
       "      <th>text</th>\n",
       "    </tr>\n",
       "  </thead>\n",
       "  <tbody>\n",
       "    <tr>\n",
       "      <th>0</th>\n",
       "      <td>NaN</td>\n",
       "      <td>Mmmh ... c'est bon !</td>\n",
       "    </tr>\n",
       "    <tr>\n",
       "      <th>1</th>\n",
       "      <td>NaN</td>\n",
       "      <td>se trouvait le \"Logis du Panier\".</td>\n",
       "    </tr>\n",
       "    <tr>\n",
       "      <th>2</th>\n",
       "      <td>Les coulisses de la fête du citron de Menton</td>\n",
       "      <td>depuis plus de quinze ans.</td>\n",
       "    </tr>\n",
       "    <tr>\n",
       "      <th>3</th>\n",
       "      <td>NaN</td>\n",
       "      <td>Et pour cause, peu de professionnels avaient e...</td>\n",
       "    </tr>\n",
       "    <tr>\n",
       "      <th>4</th>\n",
       "      <td>NaN</td>\n",
       "      <td>Ce ne sont peut-être pas les plus faciles à re...</td>\n",
       "    </tr>\n",
       "    <tr>\n",
       "      <th>...</th>\n",
       "      <td>...</td>\n",
       "      <td>...</td>\n",
       "    </tr>\n",
       "    <tr>\n",
       "      <th>13543</th>\n",
       "      <td>NaN</td>\n",
       "      <td>une puissante forteresse de plan carré,</td>\n",
       "    </tr>\n",
       "    <tr>\n",
       "      <th>13544</th>\n",
       "      <td>Le Festival du Cinéma Américain de Deauville</td>\n",
       "      <td>le Festival de Deauville n'était pas compétitif.</td>\n",
       "    </tr>\n",
       "    <tr>\n",
       "      <th>13545</th>\n",
       "      <td>Quel est le sens spirituel du Carnaval et du M...</td>\n",
       "      <td>Allez, cette semaine, je vous propose de décou...</td>\n",
       "    </tr>\n",
       "    <tr>\n",
       "      <th>13546</th>\n",
       "      <td>NaN</td>\n",
       "      <td>Espérons qu'elle est dans cette part...</td>\n",
       "    </tr>\n",
       "    <tr>\n",
       "      <th>13547</th>\n",
       "      <td>Divali : la Fête des Lumières à Vancouver</td>\n",
       "      <td>et on organise de grands repas.</td>\n",
       "    </tr>\n",
       "  </tbody>\n",
       "</table>\n",
       "<p>13548 rows × 2 columns</p>\n",
       "</div>"
      ],
      "text/plain": [
       "                                                   title  \\\n",
       "0                                                    NaN   \n",
       "1                                                    NaN   \n",
       "2           Les coulisses de la fête du citron de Menton   \n",
       "3                                                    NaN   \n",
       "4                                                    NaN   \n",
       "...                                                  ...   \n",
       "13543                                                NaN   \n",
       "13544       Le Festival du Cinéma Américain de Deauville   \n",
       "13545  Quel est le sens spirituel du Carnaval et du M...   \n",
       "13546                                                NaN   \n",
       "13547          Divali : la Fête des Lumières à Vancouver   \n",
       "\n",
       "                                                    text  \n",
       "0                                   Mmmh ... c'est bon !  \n",
       "1                      se trouvait le \"Logis du Panier\".  \n",
       "2                             depuis plus de quinze ans.  \n",
       "3      Et pour cause, peu de professionnels avaient e...  \n",
       "4      Ce ne sont peut-être pas les plus faciles à re...  \n",
       "...                                                  ...  \n",
       "13543            une puissante forteresse de plan carré,  \n",
       "13544   le Festival de Deauville n'était pas compétitif.  \n",
       "13545  Allez, cette semaine, je vous propose de décou...  \n",
       "13546            Espérons qu'elle est dans cette part...  \n",
       "13547                    et on organise de grands repas.  \n",
       "\n",
       "[13548 rows x 2 columns]"
      ]
     },
     "execution_count": 5,
     "metadata": {},
     "output_type": "execute_result"
    }
   ],
   "source": [
    "n_data"
   ]
  },
  {
   "cell_type": "code",
   "execution_count": 6,
   "id": "882f3e69",
   "metadata": {
    "execution": {
     "iopub.execute_input": "2022-07-11T17:43:11.838916Z",
     "iopub.status.busy": "2022-07-11T17:43:11.837952Z",
     "iopub.status.idle": "2022-07-11T17:43:11.845256Z",
     "shell.execute_reply": "2022-07-11T17:43:11.844241Z"
    },
    "papermill": {
     "duration": 0.016528,
     "end_time": "2022-07-11T17:43:11.848138",
     "exception": false,
     "start_time": "2022-07-11T17:43:11.831610",
     "status": "completed"
    },
    "tags": []
   },
   "outputs": [],
   "source": [
    "text=n_data[\"text\"]\n",
    "title=n_data[\"title\"]"
   ]
  },
  {
   "cell_type": "code",
   "execution_count": 7,
   "id": "0697c061",
   "metadata": {
    "execution": {
     "iopub.execute_input": "2022-07-11T17:43:11.859043Z",
     "iopub.status.busy": "2022-07-11T17:43:11.858459Z",
     "iopub.status.idle": "2022-07-11T17:43:11.869323Z",
     "shell.execute_reply": "2022-07-11T17:43:11.867637Z"
    },
    "papermill": {
     "duration": 0.019411,
     "end_time": "2022-07-11T17:43:11.872042",
     "exception": false,
     "start_time": "2022-07-11T17:43:11.852631",
     "status": "completed"
    },
    "tags": []
   },
   "outputs": [
    {
     "data": {
      "text/plain": [
       "8550"
      ]
     },
     "execution_count": 7,
     "metadata": {},
     "output_type": "execute_result"
    }
   ],
   "source": [
    "title.isna().sum()"
   ]
  },
  {
   "cell_type": "code",
   "execution_count": 8,
   "id": "c4443887",
   "metadata": {
    "execution": {
     "iopub.execute_input": "2022-07-11T17:43:11.886670Z",
     "iopub.status.busy": "2022-07-11T17:43:11.885494Z",
     "iopub.status.idle": "2022-07-11T17:43:11.895217Z",
     "shell.execute_reply": "2022-07-11T17:43:11.893817Z"
    },
    "papermill": {
     "duration": 0.019958,
     "end_time": "2022-07-11T17:43:11.897761",
     "exception": false,
     "start_time": "2022-07-11T17:43:11.877803",
     "status": "completed"
    },
    "tags": []
   },
   "outputs": [
    {
     "data": {
      "text/plain": [
       "36"
      ]
     },
     "execution_count": 8,
     "metadata": {},
     "output_type": "execute_result"
    }
   ],
   "source": [
    "text.isna().sum()"
   ]
  },
  {
   "cell_type": "code",
   "execution_count": 9,
   "id": "fa972e26",
   "metadata": {
    "execution": {
     "iopub.execute_input": "2022-07-11T17:43:11.911308Z",
     "iopub.status.busy": "2022-07-11T17:43:11.910523Z",
     "iopub.status.idle": "2022-07-11T17:43:11.917156Z",
     "shell.execute_reply": "2022-07-11T17:43:11.916026Z"
    },
    "papermill": {
     "duration": 0.016816,
     "end_time": "2022-07-11T17:43:11.919865",
     "exception": false,
     "start_time": "2022-07-11T17:43:11.903049",
     "status": "completed"
    },
    "tags": []
   },
   "outputs": [
    {
     "data": {
      "text/plain": [
       "'depuis plus de quinze ans.'"
      ]
     },
     "execution_count": 9,
     "metadata": {},
     "output_type": "execute_result"
    }
   ],
   "source": [
    "text[2]"
   ]
  },
  {
   "cell_type": "code",
   "execution_count": null,
   "id": "d9e86de6",
   "metadata": {
    "papermill": {
     "duration": 0.004709,
     "end_time": "2022-07-11T17:43:11.930216",
     "exception": false,
     "start_time": "2022-07-11T17:43:11.925507",
     "status": "completed"
    },
    "tags": []
   },
   "outputs": [],
   "source": []
  }
 ],
 "metadata": {
  "kernelspec": {
   "display_name": "Python 3",
   "language": "python",
   "name": "python3"
  },
  "language_info": {
   "codemirror_mode": {
    "name": "ipython",
    "version": 3
   },
   "file_extension": ".py",
   "mimetype": "text/x-python",
   "name": "python",
   "nbconvert_exporter": "python",
   "pygments_lexer": "ipython3",
   "version": "3.7.12"
  },
  "papermill": {
   "default_parameters": {},
   "duration": 11.399712,
   "end_time": "2022-07-11T17:43:12.657825",
   "environment_variables": {},
   "exception": null,
   "input_path": "__notebook__.ipynb",
   "output_path": "__notebook__.ipynb",
   "parameters": {},
   "start_time": "2022-07-11T17:43:01.258113",
   "version": "2.3.4"
  }
 },
 "nbformat": 4,
 "nbformat_minor": 5
}
