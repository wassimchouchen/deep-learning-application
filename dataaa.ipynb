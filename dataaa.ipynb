{
 "cells": [
  {
   "cell_type": "code",
   "execution_count": 1,
   "id": "91f6198e",
   "metadata": {
    "_cell_guid": "b1076dfc-b9ad-4769-8c92-a6c4dae69d19",
    "_uuid": "8f2839f25d086af736a60e9eeb907d3b93b6e0e5",
    "execution": {
     "iopub.execute_input": "2022-07-12T19:03:28.003361Z",
     "iopub.status.busy": "2022-07-12T19:03:28.002880Z",
     "iopub.status.idle": "2022-07-12T19:03:28.026505Z",
     "shell.execute_reply": "2022-07-12T19:03:28.025507Z"
    },
    "papermill": {
     "duration": 0.033741,
     "end_time": "2022-07-12T19:03:28.030536",
     "exception": false,
     "start_time": "2022-07-12T19:03:27.996795",
     "status": "completed"
    },
    "tags": []
   },
   "outputs": [
    {
     "name": "stdout",
     "output_type": "stream",
     "text": [
      "/kaggle/input/finalfrenchdata/final (1).csv\n",
      "/kaggle/input/finalfrenchdata/final.csv\n",
      "/kaggle/input/finalfrenchdata/final (2).csv\n",
      "/kaggle/input/frenchh/free-french (2).csv\n",
      "/kaggle/input/frenchh/french.csv\n",
      "/kaggle/input/french/free-french.csv\n"
     ]
    }
   ],
   "source": [
    "# This Python 3 environment comes with many helpful analytics libraries installed\n",
    "# It is defined by the kaggle/python Docker image: https://github.com/kaggle/docker-python\n",
    "# For example, here's several helpful packages to load\n",
    "\n",
    "import numpy as np # linear algebra\n",
    "import pandas as pd # data processing, CSV file I/O (e.g. pd.read_csv)\n",
    "\n",
    "# Input data files are available in the read-only \"../input/\" directory\n",
    "# For example, running this (by clicking run or pressing Shift+Enter) will list all files under the input directory\n",
    "\n",
    "import os\n",
    "for dirname, _, filenames in os.walk('/kaggle/input'):\n",
    "    for filename in filenames:\n",
    "        print(os.path.join(dirname, filename))\n"
   ]
  },
  {
   "cell_type": "code",
   "execution_count": 2,
   "id": "e82f9af2",
   "metadata": {
    "execution": {
     "iopub.execute_input": "2022-07-12T19:03:28.044257Z",
     "iopub.status.busy": "2022-07-12T19:03:28.043275Z",
     "iopub.status.idle": "2022-07-12T19:03:30.455935Z",
     "shell.execute_reply": "2022-07-12T19:03:30.454697Z"
    },
    "papermill": {
     "duration": 2.422157,
     "end_time": "2022-07-12T19:03:30.458746",
     "exception": false,
     "start_time": "2022-07-12T19:03:28.036589",
     "status": "completed"
    },
    "tags": []
   },
   "outputs": [],
   "source": [
    "data=pd.read_csv(\"../input/frenchh/french.csv\")\n",
    "data2=pd.read_csv(\"../input/frenchh/free-french (2).csv\")\n",
    "final=pd.read_csv(\"../input/finalfrenchdata/final (2).csv\")"
   ]
  },
  {
   "cell_type": "code",
   "execution_count": 3,
   "id": "34451247",
   "metadata": {
    "execution": {
     "iopub.execute_input": "2022-07-12T19:03:30.468510Z",
     "iopub.status.busy": "2022-07-12T19:03:30.468120Z",
     "iopub.status.idle": "2022-07-12T19:03:30.495310Z",
     "shell.execute_reply": "2022-07-12T19:03:30.494033Z"
    },
    "papermill": {
     "duration": 0.035875,
     "end_time": "2022-07-12T19:03:30.498553",
     "exception": false,
     "start_time": "2022-07-12T19:03:30.462678",
     "status": "completed"
    },
    "tags": []
   },
   "outputs": [
    {
     "data": {
      "text/html": [
       "<div>\n",
       "<style scoped>\n",
       "    .dataframe tbody tr th:only-of-type {\n",
       "        vertical-align: middle;\n",
       "    }\n",
       "\n",
       "    .dataframe tbody tr th {\n",
       "        vertical-align: top;\n",
       "    }\n",
       "\n",
       "    .dataframe thead th {\n",
       "        text-align: right;\n",
       "    }\n",
       "</style>\n",
       "<table border=\"1\" class=\"dataframe\">\n",
       "  <thead>\n",
       "    <tr style=\"text-align: right;\">\n",
       "      <th></th>\n",
       "      <th>web-scraper-order</th>\n",
       "      <th>web-scraper-start-url</th>\n",
       "      <th>link</th>\n",
       "      <th>link-href</th>\n",
       "      <th>title</th>\n",
       "      <th>text_html</th>\n",
       "      <th>text_group</th>\n",
       "    </tr>\n",
       "  </thead>\n",
       "  <tbody>\n",
       "    <tr>\n",
       "      <th>0</th>\n",
       "      <td>1657623614-25367</td>\n",
       "      <td>https://french.kwiziq.com/learn/reading</td>\n",
       "      <td>Édith Piaf - portrait français</td>\n",
       "      <td>https://french.kwiziq.com/learn/reading/edith-...</td>\n",
       "      <td>NaN</td>\n",
       "      <td>Elle meurt en 1963 à l’âge de 47 ans.</td>\n",
       "      <td>[{\"text_group\":\"Édith Piaf, une chanteuse au c...</td>\n",
       "    </tr>\n",
       "    <tr>\n",
       "      <th>1</th>\n",
       "      <td>1657622969-17428</td>\n",
       "      <td>https://french.kwiziq.com/learn/reading</td>\n",
       "      <td>Lettre au Père Noël</td>\n",
       "      <td>https://french.kwiziq.com/learn/reading/lettre...</td>\n",
       "      <td>NaN</td>\n",
       "      <td>pour préparer tous nos cadeaux&amp;nbsp;!</td>\n",
       "      <td>[{\"text_group\":\"Lettre au Père Noël Cher Père ...</td>\n",
       "    </tr>\n",
       "    <tr>\n",
       "      <th>2</th>\n",
       "      <td>1657623092-19316</td>\n",
       "      <td>https://french.kwiziq.com/learn/reading</td>\n",
       "      <td>Héritage de Johnny Hallyday</td>\n",
       "      <td>https://french.kwiziq.com/learn/reading/herita...</td>\n",
       "      <td>NaN</td>\n",
       "      <td>et ainsi qu'au barreau de New York.</td>\n",
       "      <td>[{\"text_group\":\"Héritage de Johnny Hallyday Av...</td>\n",
       "    </tr>\n",
       "    <tr>\n",
       "      <th>3</th>\n",
       "      <td>1657622826-15064</td>\n",
       "      <td>https://french.kwiziq.com/learn/reading</td>\n",
       "      <td>Kwiziq dans le \"Crystal Maze\"</td>\n",
       "      <td>https://french.kwiziq.com/learn/reading/kwiziq...</td>\n",
       "      <td>NaN</td>\n",
       "      <td>Et qui aurait pensé qu'attraper de petits morc...</td>\n",
       "      <td>[{\"text_group\":\"Kwiziq dans le \\\"Crystal Maze\\...</td>\n",
       "    </tr>\n",
       "    <tr>\n",
       "      <th>4</th>\n",
       "      <td>1657623171-20831</td>\n",
       "      <td>https://french.kwiziq.com/learn/reading</td>\n",
       "      <td>Comme Avant (ConfinementSong)</td>\n",
       "      <td>https://french.kwiziq.com/learn/reading/comme-...</td>\n",
       "      <td>NaN</td>\n",
       "      <td>Quand on se transpirait dessus à la salle de s...</td>\n",
       "      <td>[{\"text_group\":\"Comme Avant (ConfinementSong) ...</td>\n",
       "    </tr>\n",
       "  </tbody>\n",
       "</table>\n",
       "</div>"
      ],
      "text/plain": [
       "  web-scraper-order                    web-scraper-start-url  \\\n",
       "0  1657623614-25367  https://french.kwiziq.com/learn/reading   \n",
       "1  1657622969-17428  https://french.kwiziq.com/learn/reading   \n",
       "2  1657623092-19316  https://french.kwiziq.com/learn/reading   \n",
       "3  1657622826-15064  https://french.kwiziq.com/learn/reading   \n",
       "4  1657623171-20831  https://french.kwiziq.com/learn/reading   \n",
       "\n",
       "                             link  \\\n",
       "0  Édith Piaf - portrait français   \n",
       "1             Lettre au Père Noël   \n",
       "2     Héritage de Johnny Hallyday   \n",
       "3   Kwiziq dans le \"Crystal Maze\"   \n",
       "4   Comme Avant (ConfinementSong)   \n",
       "\n",
       "                                           link-href  title  \\\n",
       "0  https://french.kwiziq.com/learn/reading/edith-...    NaN   \n",
       "1  https://french.kwiziq.com/learn/reading/lettre...    NaN   \n",
       "2  https://french.kwiziq.com/learn/reading/herita...    NaN   \n",
       "3  https://french.kwiziq.com/learn/reading/kwiziq...    NaN   \n",
       "4  https://french.kwiziq.com/learn/reading/comme-...    NaN   \n",
       "\n",
       "                                           text_html  \\\n",
       "0              Elle meurt en 1963 à l’âge de 47 ans.   \n",
       "1              pour préparer tous nos cadeaux&nbsp;!   \n",
       "2                et ainsi qu'au barreau de New York.   \n",
       "3  Et qui aurait pensé qu'attraper de petits morc...   \n",
       "4  Quand on se transpirait dessus à la salle de s...   \n",
       "\n",
       "                                          text_group  \n",
       "0  [{\"text_group\":\"Édith Piaf, une chanteuse au c...  \n",
       "1  [{\"text_group\":\"Lettre au Père Noël Cher Père ...  \n",
       "2  [{\"text_group\":\"Héritage de Johnny Hallyday Av...  \n",
       "3  [{\"text_group\":\"Kwiziq dans le \\\"Crystal Maze\\...  \n",
       "4  [{\"text_group\":\"Comme Avant (ConfinementSong) ...  "
      ]
     },
     "execution_count": 3,
     "metadata": {},
     "output_type": "execute_result"
    }
   ],
   "source": [
    "final.head()"
   ]
  },
  {
   "cell_type": "code",
   "execution_count": 4,
   "id": "0a22ff31",
   "metadata": {
    "execution": {
     "iopub.execute_input": "2022-07-12T19:03:30.509167Z",
     "iopub.status.busy": "2022-07-12T19:03:30.508755Z",
     "iopub.status.idle": "2022-07-12T19:03:30.519575Z",
     "shell.execute_reply": "2022-07-12T19:03:30.518300Z"
    },
    "papermill": {
     "duration": 0.0196,
     "end_time": "2022-07-12T19:03:30.522669",
     "exception": false,
     "start_time": "2022-07-12T19:03:30.503069",
     "status": "completed"
    },
    "tags": []
   },
   "outputs": [],
   "source": [
    "link=final[\"link\"]"
   ]
  },
  {
   "cell_type": "code",
   "execution_count": 5,
   "id": "0a929e54",
   "metadata": {
    "execution": {
     "iopub.execute_input": "2022-07-12T19:03:30.534693Z",
     "iopub.status.busy": "2022-07-12T19:03:30.534116Z",
     "iopub.status.idle": "2022-07-12T19:03:30.539992Z",
     "shell.execute_reply": "2022-07-12T19:03:30.538237Z"
    },
    "papermill": {
     "duration": 0.01522,
     "end_time": "2022-07-12T19:03:30.542887",
     "exception": false,
     "start_time": "2022-07-12T19:03:30.527667",
     "status": "completed"
    },
    "tags": []
   },
   "outputs": [],
   "source": [
    "links=final[\"link-href\"]"
   ]
  },
  {
   "cell_type": "code",
   "execution_count": 6,
   "id": "41de5e4b",
   "metadata": {
    "execution": {
     "iopub.execute_input": "2022-07-12T19:03:30.553974Z",
     "iopub.status.busy": "2022-07-12T19:03:30.553586Z",
     "iopub.status.idle": "2022-07-12T19:03:30.856080Z",
     "shell.execute_reply": "2022-07-12T19:03:30.854761Z"
    },
    "papermill": {
     "duration": 0.310522,
     "end_time": "2022-07-12T19:03:30.858439",
     "exception": false,
     "start_time": "2022-07-12T19:03:30.547917",
     "status": "completed"
    },
    "tags": []
   },
   "outputs": [],
   "source": [
    "txt=[]\n",
    "link=[]\n",
    "for i in range(final.shape[0]):\n",
    "    L=[]\n",
    "    l=[]\n",
    "    if final.loc[i,\"link-href\"] not in link:\n",
    "            L=final.loc[i,\"text_group\"].split(\"}\")\n",
    "            l=L[0].split(\":\")\n",
    "            txt.append(l[1:len(l)])\n",
    "    link.append(final.loc[i,\"link-href\"])\n",
    "    \n",
    "    "
   ]
  },
  {
   "cell_type": "code",
   "execution_count": 7,
   "id": "4dd22a28",
   "metadata": {
    "execution": {
     "iopub.execute_input": "2022-07-12T19:03:30.869609Z",
     "iopub.status.busy": "2022-07-12T19:03:30.868609Z",
     "iopub.status.idle": "2022-07-12T19:03:30.878199Z",
     "shell.execute_reply": "2022-07-12T19:03:30.876964Z"
    },
    "papermill": {
     "duration": 0.018301,
     "end_time": "2022-07-12T19:03:30.880985",
     "exception": false,
     "start_time": "2022-07-12T19:03:30.862684",
     "status": "completed"
    },
    "tags": []
   },
   "outputs": [],
   "source": [
    "title=final[\"link\"]\n",
    "titl=title.unique()"
   ]
  },
  {
   "cell_type": "code",
   "execution_count": 8,
   "id": "9b951f35",
   "metadata": {
    "execution": {
     "iopub.execute_input": "2022-07-12T19:03:30.891150Z",
     "iopub.status.busy": "2022-07-12T19:03:30.890648Z",
     "iopub.status.idle": "2022-07-12T19:03:30.898213Z",
     "shell.execute_reply": "2022-07-12T19:03:30.896938Z"
    },
    "papermill": {
     "duration": 0.015481,
     "end_time": "2022-07-12T19:03:30.900667",
     "exception": false,
     "start_time": "2022-07-12T19:03:30.885186",
     "status": "completed"
    },
    "tags": []
   },
   "outputs": [
    {
     "data": {
      "text/plain": [
       "279"
      ]
     },
     "execution_count": 8,
     "metadata": {},
     "output_type": "execute_result"
    }
   ],
   "source": [
    "len(txt)"
   ]
  },
  {
   "cell_type": "code",
   "execution_count": 9,
   "id": "f032ff26",
   "metadata": {
    "execution": {
     "iopub.execute_input": "2022-07-12T19:03:30.910936Z",
     "iopub.status.busy": "2022-07-12T19:03:30.910483Z",
     "iopub.status.idle": "2022-07-12T19:03:30.919381Z",
     "shell.execute_reply": "2022-07-12T19:03:30.917922Z"
    },
    "papermill": {
     "duration": 0.017314,
     "end_time": "2022-07-12T19:03:30.922216",
     "exception": false,
     "start_time": "2022-07-12T19:03:30.904902",
     "status": "completed"
    },
    "tags": []
   },
   "outputs": [
    {
     "data": {
      "text/plain": [
       "279"
      ]
     },
     "execution_count": 9,
     "metadata": {},
     "output_type": "execute_result"
    }
   ],
   "source": [
    "len(titl)"
   ]
  },
  {
   "cell_type": "code",
   "execution_count": 10,
   "id": "a4df4d1a",
   "metadata": {
    "execution": {
     "iopub.execute_input": "2022-07-12T19:03:30.933837Z",
     "iopub.status.busy": "2022-07-12T19:03:30.932760Z",
     "iopub.status.idle": "2022-07-12T19:03:30.940200Z",
     "shell.execute_reply": "2022-07-12T19:03:30.938770Z"
    },
    "papermill": {
     "duration": 0.016316,
     "end_time": "2022-07-12T19:03:30.943175",
     "exception": false,
     "start_time": "2022-07-12T19:03:30.926859",
     "status": "completed"
    },
    "tags": []
   },
   "outputs": [],
   "source": [
    "french=pd.DataFrame({\"title\":titl,\"text\":txt})"
   ]
  },
  {
   "cell_type": "code",
   "execution_count": 11,
   "id": "cb8fa55d",
   "metadata": {
    "execution": {
     "iopub.execute_input": "2022-07-12T19:03:30.954749Z",
     "iopub.status.busy": "2022-07-12T19:03:30.953702Z",
     "iopub.status.idle": "2022-07-12T19:03:30.984698Z",
     "shell.execute_reply": "2022-07-12T19:03:30.983371Z"
    },
    "papermill": {
     "duration": 0.040125,
     "end_time": "2022-07-12T19:03:30.987849",
     "exception": false,
     "start_time": "2022-07-12T19:03:30.947724",
     "status": "completed"
    },
    "tags": []
   },
   "outputs": [],
   "source": [
    "french.to_csv(\"french.csv\", index=False)"
   ]
  },
  {
   "cell_type": "code",
   "execution_count": 12,
   "id": "46394f0e",
   "metadata": {
    "execution": {
     "iopub.execute_input": "2022-07-12T19:03:30.998596Z",
     "iopub.status.busy": "2022-07-12T19:03:30.998178Z",
     "iopub.status.idle": "2022-07-12T19:03:31.006218Z",
     "shell.execute_reply": "2022-07-12T19:03:31.005146Z"
    },
    "papermill": {
     "duration": 0.016191,
     "end_time": "2022-07-12T19:03:31.008487",
     "exception": false,
     "start_time": "2022-07-12T19:03:30.992296",
     "status": "completed"
    },
    "tags": []
   },
   "outputs": [
    {
     "data": {
      "text/plain": [
       "['\"Cher journal Le lundi 8 janvier Cher journal, \\\\n Tous les lundis,  c\\'est la même chose. Mon réveil sonne à six heures et demie, je me rendors pendant un quart d\\'heure, et je me lève vers sept heures moins le quart. Ensuite, je prends ma douche pour finir de me réveiller. Après, je vais dans la cuisine et je bois mon café. Parfois, comme ce matin, il me reste des croissants du weekend, sinon je mange des biscottes beurrées. Je n\\'ai pas vraiment d\\'appétit le matin, même si je sais que c\\'est le repas le plus important de la journée. Je profite aussi du petit-déjeuner pour lire les infos en ligne. En général, c\\'est à ce moment-là que   je me rends compte que je suis en retard\\xa0! Je cours dans ma chambre, et je me dépêche de m\\'habiller et de me maquiller, puis je vais prendre le métro\\xa0! Peut-être que je devrais avancer un peu mon réveil pour éviter ça\\xa0! \\\\n Oui, cher Journal, c\\'est décidé,  lundi prochain, je mettrai mon réveil plus tôt\\xa0!\"']"
      ]
     },
     "execution_count": 12,
     "metadata": {},
     "output_type": "execute_result"
    }
   ],
   "source": [
    "french.loc[7,\"text\"]"
   ]
  },
  {
   "cell_type": "markdown",
   "id": "93e9e72f",
   "metadata": {
    "papermill": {
     "duration": 0.003993,
     "end_time": "2022-07-12T19:03:31.016936",
     "exception": false,
     "start_time": "2022-07-12T19:03:31.012943",
     "status": "completed"
    },
    "tags": []
   },
   "source": [
    "****"
   ]
  },
  {
   "cell_type": "code",
   "execution_count": null,
   "id": "7ef7a096",
   "metadata": {
    "execution": {
     "iopub.execute_input": "2022-07-12T18:49:16.761884Z",
     "iopub.status.busy": "2022-07-12T18:49:16.761392Z",
     "iopub.status.idle": "2022-07-12T18:49:16.770277Z",
     "shell.execute_reply": "2022-07-12T18:49:16.768691Z",
     "shell.execute_reply.started": "2022-07-12T18:49:16.761845Z"
    },
    "papermill": {
     "duration": 0.004035,
     "end_time": "2022-07-12T19:03:31.025194",
     "exception": false,
     "start_time": "2022-07-12T19:03:31.021159",
     "status": "completed"
    },
    "tags": []
   },
   "outputs": [],
   "source": []
  },
  {
   "cell_type": "code",
   "execution_count": null,
   "id": "860ca8be",
   "metadata": {
    "papermill": {
     "duration": 0.004477,
     "end_time": "2022-07-12T19:03:31.034261",
     "exception": false,
     "start_time": "2022-07-12T19:03:31.029784",
     "status": "completed"
    },
    "tags": []
   },
   "outputs": [],
   "source": []
  }
 ],
 "metadata": {
  "kernelspec": {
   "display_name": "Python 3",
   "language": "python",
   "name": "python3"
  },
  "language_info": {
   "codemirror_mode": {
    "name": "ipython",
    "version": 3
   },
   "file_extension": ".py",
   "mimetype": "text/x-python",
   "name": "python",
   "nbconvert_exporter": "python",
   "pygments_lexer": "ipython3",
   "version": "3.7.12"
  },
  "papermill": {
   "default_parameters": {},
   "duration": 13.756817,
   "end_time": "2022-07-12T19:03:31.763473",
   "environment_variables": {},
   "exception": null,
   "input_path": "__notebook__.ipynb",
   "output_path": "__notebook__.ipynb",
   "parameters": {},
   "start_time": "2022-07-12T19:03:18.006656",
   "version": "2.3.4"
  }
 },
 "nbformat": 4,
 "nbformat_minor": 5
}
