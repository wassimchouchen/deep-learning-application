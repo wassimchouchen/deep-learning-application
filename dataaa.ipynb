{
 "cells": [
  {
   "cell_type": "code",
   "execution_count": 1,
   "id": "48430611",
   "metadata": {
    "_cell_guid": "b1076dfc-b9ad-4769-8c92-a6c4dae69d19",
    "_uuid": "8f2839f25d086af736a60e9eeb907d3b93b6e0e5",
    "execution": {
     "iopub.execute_input": "2022-07-12T13:06:37.522948Z",
     "iopub.status.busy": "2022-07-12T13:06:37.522453Z",
     "iopub.status.idle": "2022-07-12T13:06:37.558427Z",
     "shell.execute_reply": "2022-07-12T13:06:37.557473Z"
    },
    "papermill": {
     "duration": 0.047534,
     "end_time": "2022-07-12T13:06:37.561028",
     "exception": false,
     "start_time": "2022-07-12T13:06:37.513494",
     "status": "completed"
    },
    "tags": []
   },
   "outputs": [
    {
     "name": "stdout",
     "output_type": "stream",
     "text": [
      "/kaggle/input/frenchh/free-french (2).csv\n",
      "/kaggle/input/frenchh/french.csv\n",
      "/kaggle/input/french/free-french.csv\n"
     ]
    }
   ],
   "source": [
    "# This Python 3 environment comes with many helpful analytics libraries installed\n",
    "# It is defined by the kaggle/python Docker image: https://github.com/kaggle/docker-python\n",
    "# For example, here's several helpful packages to load\n",
    "\n",
    "import numpy as np # linear algebra\n",
    "import pandas as pd # data processing, CSV file I/O (e.g. pd.read_csv)\n",
    "\n",
    "# Input data files are available in the read-only \"../input/\" directory\n",
    "# For example, running this (by clicking run or pressing Shift+Enter) will list all files under the input directory\n",
    "\n",
    "import os\n",
    "for dirname, _, filenames in os.walk('/kaggle/input'):\n",
    "    for filename in filenames:\n",
    "        print(os.path.join(dirname, filename))\n"
   ]
  },
  {
   "cell_type": "code",
   "execution_count": 2,
   "id": "b95ee147",
   "metadata": {
    "execution": {
     "iopub.execute_input": "2022-07-12T13:06:37.575928Z",
     "iopub.status.busy": "2022-07-12T13:06:37.574934Z",
     "iopub.status.idle": "2022-07-12T13:06:37.703139Z",
     "shell.execute_reply": "2022-07-12T13:06:37.701735Z"
    },
    "papermill": {
     "duration": 0.138537,
     "end_time": "2022-07-12T13:06:37.706002",
     "exception": false,
     "start_time": "2022-07-12T13:06:37.567465",
     "status": "completed"
    },
    "tags": []
   },
   "outputs": [],
   "source": [
    "data=pd.read_csv(\"../input/frenchh/french.csv\")\n",
    "data2=pd.read_csv(\"../input/frenchh/free-french (2).csv\")"
   ]
  },
  {
   "cell_type": "code",
   "execution_count": 3,
   "id": "7f9dc0af",
   "metadata": {
    "execution": {
     "iopub.execute_input": "2022-07-12T13:06:37.719958Z",
     "iopub.status.busy": "2022-07-12T13:06:37.719527Z",
     "iopub.status.idle": "2022-07-12T13:06:37.733499Z",
     "shell.execute_reply": "2022-07-12T13:06:37.732170Z"
    },
    "papermill": {
     "duration": 0.024176,
     "end_time": "2022-07-12T13:06:37.736158",
     "exception": false,
     "start_time": "2022-07-12T13:06:37.711982",
     "status": "completed"
    },
    "tags": []
   },
   "outputs": [],
   "source": [
    "text=data[\"textt\"]"
   ]
  },
  {
   "cell_type": "code",
   "execution_count": 4,
   "id": "92b6faff",
   "metadata": {
    "execution": {
     "iopub.execute_input": "2022-07-12T13:06:37.751631Z",
     "iopub.status.busy": "2022-07-12T13:06:37.751211Z",
     "iopub.status.idle": "2022-07-12T13:06:37.756538Z",
     "shell.execute_reply": "2022-07-12T13:06:37.755329Z"
    },
    "papermill": {
     "duration": 0.016606,
     "end_time": "2022-07-12T13:06:37.759212",
     "exception": false,
     "start_time": "2022-07-12T13:06:37.742606",
     "status": "completed"
    },
    "tags": []
   },
   "outputs": [],
   "source": [
    "link=data[\"link-href\"]"
   ]
  },
  {
   "cell_type": "code",
   "execution_count": null,
   "id": "0683f0c1",
   "metadata": {
    "execution": {
     "iopub.execute_input": "2022-07-12T09:53:55.502697Z",
     "iopub.status.busy": "2022-07-12T09:53:55.501522Z",
     "iopub.status.idle": "2022-07-12T09:53:55.512338Z",
     "shell.execute_reply": "2022-07-12T09:53:55.511524Z",
     "shell.execute_reply.started": "2022-07-12T09:53:55.502645Z"
    },
    "papermill": {
     "duration": 0.005659,
     "end_time": "2022-07-12T13:06:37.771148",
     "exception": false,
     "start_time": "2022-07-12T13:06:37.765489",
     "status": "completed"
    },
    "tags": []
   },
   "outputs": [],
   "source": []
  },
  {
   "cell_type": "code",
   "execution_count": 5,
   "id": "846a3e23",
   "metadata": {
    "execution": {
     "iopub.execute_input": "2022-07-12T13:06:37.785213Z",
     "iopub.status.busy": "2022-07-12T13:06:37.784398Z",
     "iopub.status.idle": "2022-07-12T13:06:37.793404Z",
     "shell.execute_reply": "2022-07-12T13:06:37.792514Z"
    },
    "papermill": {
     "duration": 0.018794,
     "end_time": "2022-07-12T13:06:37.795756",
     "exception": false,
     "start_time": "2022-07-12T13:06:37.776962",
     "status": "completed"
    },
    "tags": []
   },
   "outputs": [
    {
     "data": {
      "text/plain": [
       "\"Quand j'étais petite,\""
      ]
     },
     "execution_count": 5,
     "metadata": {},
     "output_type": "execute_result"
    }
   ],
   "source": [
    "text[0]"
   ]
  },
  {
   "cell_type": "code",
   "execution_count": 6,
   "id": "8baa6c17",
   "metadata": {
    "execution": {
     "iopub.execute_input": "2022-07-12T13:06:37.810240Z",
     "iopub.status.busy": "2022-07-12T13:06:37.809795Z",
     "iopub.status.idle": "2022-07-12T13:06:37.814539Z",
     "shell.execute_reply": "2022-07-12T13:06:37.813693Z"
    },
    "papermill": {
     "duration": 0.014665,
     "end_time": "2022-07-12T13:06:37.816516",
     "exception": false,
     "start_time": "2022-07-12T13:06:37.801851",
     "status": "completed"
    },
    "tags": []
   },
   "outputs": [],
   "source": [
    "title=data[\"link\"]"
   ]
  },
  {
   "cell_type": "code",
   "execution_count": 7,
   "id": "594c4a7b",
   "metadata": {
    "execution": {
     "iopub.execute_input": "2022-07-12T13:06:37.831269Z",
     "iopub.status.busy": "2022-07-12T13:06:37.830498Z",
     "iopub.status.idle": "2022-07-12T13:06:37.839312Z",
     "shell.execute_reply": "2022-07-12T13:06:37.838142Z"
    },
    "papermill": {
     "duration": 0.019236,
     "end_time": "2022-07-12T13:06:37.841746",
     "exception": false,
     "start_time": "2022-07-12T13:06:37.822510",
     "status": "completed"
    },
    "tags": []
   },
   "outputs": [
    {
     "data": {
      "text/plain": [
       "0             Septembre chez mes grands-parents\n",
       "1      Le Kig ha Farz (Spécialités de Bretagne)\n",
       "2                                  Ouragan Irma\n",
       "3                                          Hajj\n",
       "4                       L'anniversaire de Cyril\n",
       "                         ...                   \n",
       "272                               La Chandeleur\n",
       "273     Le Farz Fourn (Spécialités de Bretagne)\n",
       "274                          Festival de Cannes\n",
       "275                           Pollution à Paris\n",
       "276                    Vendée Globe 2016 / 2017\n",
       "Name: link, Length: 277, dtype: object"
      ]
     },
     "execution_count": 7,
     "metadata": {},
     "output_type": "execute_result"
    }
   ],
   "source": [
    "title"
   ]
  },
  {
   "cell_type": "markdown",
   "id": "629a6ac9",
   "metadata": {
    "papermill": {
     "duration": 0.005974,
     "end_time": "2022-07-12T13:06:37.853828",
     "exception": false,
     "start_time": "2022-07-12T13:06:37.847854",
     "status": "completed"
    },
    "tags": []
   },
   "source": [
    "****"
   ]
  },
  {
   "cell_type": "code",
   "execution_count": 8,
   "id": "220af93c",
   "metadata": {
    "execution": {
     "iopub.execute_input": "2022-07-12T13:06:37.868055Z",
     "iopub.status.busy": "2022-07-12T13:06:37.867598Z",
     "iopub.status.idle": "2022-07-12T13:06:37.873463Z",
     "shell.execute_reply": "2022-07-12T13:06:37.872409Z"
    },
    "papermill": {
     "duration": 0.015745,
     "end_time": "2022-07-12T13:06:37.875793",
     "exception": false,
     "start_time": "2022-07-12T13:06:37.860048",
     "status": "completed"
    },
    "tags": []
   },
   "outputs": [],
   "source": [
    "french_data=pd.DataFrame({\"link\":link,\"title\": title, \"text\": text})"
   ]
  },
  {
   "cell_type": "code",
   "execution_count": 9,
   "id": "9ef4f5ab",
   "metadata": {
    "execution": {
     "iopub.execute_input": "2022-07-12T13:06:37.891091Z",
     "iopub.status.busy": "2022-07-12T13:06:37.890123Z",
     "iopub.status.idle": "2022-07-12T13:06:37.907894Z",
     "shell.execute_reply": "2022-07-12T13:06:37.906968Z"
    },
    "papermill": {
     "duration": 0.02784,
     "end_time": "2022-07-12T13:06:37.910166",
     "exception": false,
     "start_time": "2022-07-12T13:06:37.882326",
     "status": "completed"
    },
    "tags": []
   },
   "outputs": [
    {
     "data": {
      "text/html": [
       "<div>\n",
       "<style scoped>\n",
       "    .dataframe tbody tr th:only-of-type {\n",
       "        vertical-align: middle;\n",
       "    }\n",
       "\n",
       "    .dataframe tbody tr th {\n",
       "        vertical-align: top;\n",
       "    }\n",
       "\n",
       "    .dataframe thead th {\n",
       "        text-align: right;\n",
       "    }\n",
       "</style>\n",
       "<table border=\"1\" class=\"dataframe\">\n",
       "  <thead>\n",
       "    <tr style=\"text-align: right;\">\n",
       "      <th></th>\n",
       "      <th>link</th>\n",
       "      <th>title</th>\n",
       "      <th>text</th>\n",
       "    </tr>\n",
       "  </thead>\n",
       "  <tbody>\n",
       "    <tr>\n",
       "      <th>0</th>\n",
       "      <td>https://french.kwiziq.com/learn/reading/septem...</td>\n",
       "      <td>Septembre chez mes grands-parents</td>\n",
       "      <td>Quand j'étais petite,</td>\n",
       "    </tr>\n",
       "    <tr>\n",
       "      <th>1</th>\n",
       "      <td>https://french.kwiziq.com/learn/reading/le-kig...</td>\n",
       "      <td>Le Kig ha Farz (Spécialités de Bretagne)</td>\n",
       "      <td>Le Kig ha Farz est un plat traditionnel du rép...</td>\n",
       "    </tr>\n",
       "    <tr>\n",
       "      <th>2</th>\n",
       "      <td>https://french.kwiziq.com/learn/reading/ouraga...</td>\n",
       "      <td>Ouragan Irma</td>\n",
       "      <td>Fin août 2017, un orage tropical s'est formé a...</td>\n",
       "    </tr>\n",
       "    <tr>\n",
       "      <th>3</th>\n",
       "      <td>https://french.kwiziq.com/learn/reading/hajj</td>\n",
       "      <td>Hajj</td>\n",
       "      <td>Près de deux millions de fidèles</td>\n",
       "    </tr>\n",
       "    <tr>\n",
       "      <th>4</th>\n",
       "      <td>https://french.kwiziq.com/learn/reading/l-anni...</td>\n",
       "      <td>L'anniversaire de Cyril</td>\n",
       "      <td>Mardi dernier, c'était l'anniversaire de Cyril,</td>\n",
       "    </tr>\n",
       "    <tr>\n",
       "      <th>...</th>\n",
       "      <td>...</td>\n",
       "      <td>...</td>\n",
       "      <td>...</td>\n",
       "    </tr>\n",
       "    <tr>\n",
       "      <th>272</th>\n",
       "      <td>https://french.kwiziq.com/learn/reading/la-cha...</td>\n",
       "      <td>La Chandeleur</td>\n",
       "      <td>Bonjour ! Le 2 février, c'est la Chandeleur,</td>\n",
       "    </tr>\n",
       "    <tr>\n",
       "      <th>273</th>\n",
       "      <td>https://french.kwiziq.com/learn/reading/le-far...</td>\n",
       "      <td>Le Farz Fourn (Spécialités de Bretagne)</td>\n",
       "      <td>Est-ce que vous connaissez cette spécialité</td>\n",
       "    </tr>\n",
       "    <tr>\n",
       "      <th>274</th>\n",
       "      <td>https://french.kwiziq.com/learn/reading/festiv...</td>\n",
       "      <td>Festival de Cannes</td>\n",
       "      <td>Le Festival de Cannes est né le 20 septembre 1...</td>\n",
       "    </tr>\n",
       "    <tr>\n",
       "      <th>275</th>\n",
       "      <td>https://french.kwiziq.com/learn/reading/pollut...</td>\n",
       "      <td>Pollution à Paris</td>\n",
       "      <td>La Ville Lumière brille moins fort</td>\n",
       "    </tr>\n",
       "    <tr>\n",
       "      <th>276</th>\n",
       "      <td>https://french.kwiziq.com/learn/reading/vendee...</td>\n",
       "      <td>Vendée Globe 2016 / 2017</td>\n",
       "      <td>Enfin la délivrance après soixante-quatorze jo...</td>\n",
       "    </tr>\n",
       "  </tbody>\n",
       "</table>\n",
       "<p>277 rows × 3 columns</p>\n",
       "</div>"
      ],
      "text/plain": [
       "                                                  link  \\\n",
       "0    https://french.kwiziq.com/learn/reading/septem...   \n",
       "1    https://french.kwiziq.com/learn/reading/le-kig...   \n",
       "2    https://french.kwiziq.com/learn/reading/ouraga...   \n",
       "3         https://french.kwiziq.com/learn/reading/hajj   \n",
       "4    https://french.kwiziq.com/learn/reading/l-anni...   \n",
       "..                                                 ...   \n",
       "272  https://french.kwiziq.com/learn/reading/la-cha...   \n",
       "273  https://french.kwiziq.com/learn/reading/le-far...   \n",
       "274  https://french.kwiziq.com/learn/reading/festiv...   \n",
       "275  https://french.kwiziq.com/learn/reading/pollut...   \n",
       "276  https://french.kwiziq.com/learn/reading/vendee...   \n",
       "\n",
       "                                        title  \\\n",
       "0           Septembre chez mes grands-parents   \n",
       "1    Le Kig ha Farz (Spécialités de Bretagne)   \n",
       "2                                Ouragan Irma   \n",
       "3                                        Hajj   \n",
       "4                     L'anniversaire de Cyril   \n",
       "..                                        ...   \n",
       "272                             La Chandeleur   \n",
       "273   Le Farz Fourn (Spécialités de Bretagne)   \n",
       "274                        Festival de Cannes   \n",
       "275                         Pollution à Paris   \n",
       "276                  Vendée Globe 2016 / 2017   \n",
       "\n",
       "                                                  text  \n",
       "0                                Quand j'étais petite,  \n",
       "1    Le Kig ha Farz est un plat traditionnel du rép...  \n",
       "2    Fin août 2017, un orage tropical s'est formé a...  \n",
       "3                     Près de deux millions de fidèles  \n",
       "4      Mardi dernier, c'était l'anniversaire de Cyril,  \n",
       "..                                                 ...  \n",
       "272       Bonjour ! Le 2 février, c'est la Chandeleur,  \n",
       "273        Est-ce que vous connaissez cette spécialité  \n",
       "274  Le Festival de Cannes est né le 20 septembre 1...  \n",
       "275                 La Ville Lumière brille moins fort  \n",
       "276  Enfin la délivrance après soixante-quatorze jo...  \n",
       "\n",
       "[277 rows x 3 columns]"
      ]
     },
     "execution_count": 9,
     "metadata": {},
     "output_type": "execute_result"
    }
   ],
   "source": [
    "french_data"
   ]
  },
  {
   "cell_type": "markdown",
   "id": "e9ee5994",
   "metadata": {
    "papermill": {
     "duration": 0.006275,
     "end_time": "2022-07-12T13:06:37.922839",
     "exception": false,
     "start_time": "2022-07-12T13:06:37.916564",
     "status": "completed"
    },
    "tags": []
   },
   "source": [
    "****"
   ]
  },
  {
   "cell_type": "code",
   "execution_count": 10,
   "id": "491f9f6e",
   "metadata": {
    "execution": {
     "iopub.execute_input": "2022-07-12T13:06:37.938019Z",
     "iopub.status.busy": "2022-07-12T13:06:37.937292Z",
     "iopub.status.idle": "2022-07-12T13:06:38.065857Z",
     "shell.execute_reply": "2022-07-12T13:06:38.064963Z"
    },
    "papermill": {
     "duration": 0.138947,
     "end_time": "2022-07-12T13:06:38.068427",
     "exception": false,
     "start_time": "2022-07-12T13:06:37.929480",
     "status": "completed"
    },
    "tags": []
   },
   "outputs": [],
   "source": [
    "df=pd.read_csv(\"../input/french/free-french.csv\")"
   ]
  },
  {
   "cell_type": "code",
   "execution_count": 11,
   "id": "5dd2df9a",
   "metadata": {
    "execution": {
     "iopub.execute_input": "2022-07-12T13:06:38.084083Z",
     "iopub.status.busy": "2022-07-12T13:06:38.083634Z",
     "iopub.status.idle": "2022-07-12T13:06:38.089437Z",
     "shell.execute_reply": "2022-07-12T13:06:38.088059Z"
    },
    "papermill": {
     "duration": 0.016736,
     "end_time": "2022-07-12T13:06:38.092101",
     "exception": false,
     "start_time": "2022-07-12T13:06:38.075365",
     "status": "completed"
    },
    "tags": []
   },
   "outputs": [],
   "source": [
    "links=df[\"links\"]"
   ]
  },
  {
   "cell_type": "code",
   "execution_count": 12,
   "id": "dfd7a397",
   "metadata": {
    "execution": {
     "iopub.execute_input": "2022-07-12T13:06:38.107189Z",
     "iopub.status.busy": "2022-07-12T13:06:38.106747Z",
     "iopub.status.idle": "2022-07-12T13:06:38.118044Z",
     "shell.execute_reply": "2022-07-12T13:06:38.117258Z"
    },
    "papermill": {
     "duration": 0.021215,
     "end_time": "2022-07-12T13:06:38.120158",
     "exception": false,
     "start_time": "2022-07-12T13:06:38.098943",
     "status": "completed"
    },
    "tags": []
   },
   "outputs": [
    {
     "data": {
      "text/plain": [
       "277"
      ]
     },
     "execution_count": 12,
     "metadata": {},
     "output_type": "execute_result"
    }
   ],
   "source": [
    "links.nunique()"
   ]
  },
  {
   "cell_type": "code",
   "execution_count": 13,
   "id": "36b8f06e",
   "metadata": {
    "execution": {
     "iopub.execute_input": "2022-07-12T13:06:38.135036Z",
     "iopub.status.busy": "2022-07-12T13:06:38.134581Z",
     "iopub.status.idle": "2022-07-12T13:06:38.152661Z",
     "shell.execute_reply": "2022-07-12T13:06:38.151280Z"
    },
    "papermill": {
     "duration": 0.028584,
     "end_time": "2022-07-12T13:06:38.155188",
     "exception": false,
     "start_time": "2022-07-12T13:06:38.126604",
     "status": "completed"
    },
    "tags": []
   },
   "outputs": [
    {
     "data": {
      "text/html": [
       "<div>\n",
       "<style scoped>\n",
       "    .dataframe tbody tr th:only-of-type {\n",
       "        vertical-align: middle;\n",
       "    }\n",
       "\n",
       "    .dataframe tbody tr th {\n",
       "        vertical-align: top;\n",
       "    }\n",
       "\n",
       "    .dataframe thead th {\n",
       "        text-align: right;\n",
       "    }\n",
       "</style>\n",
       "<table border=\"1\" class=\"dataframe\">\n",
       "  <thead>\n",
       "    <tr style=\"text-align: right;\">\n",
       "      <th></th>\n",
       "      <th>web-scraper-order</th>\n",
       "      <th>web-scraper-start-url</th>\n",
       "      <th>links</th>\n",
       "      <th>links-href</th>\n",
       "      <th>title</th>\n",
       "      <th>text</th>\n",
       "    </tr>\n",
       "  </thead>\n",
       "  <tbody>\n",
       "    <tr>\n",
       "      <th>0</th>\n",
       "      <td>1657559551-10354</td>\n",
       "      <td>https://french.kwiziq.com/learn/reading</td>\n",
       "      <td>Léo et Popi : la Galette des Rois</td>\n",
       "      <td>https://french.kwiziq.com/learn/reading/leo-et...</td>\n",
       "      <td>NaN</td>\n",
       "      <td>Mmmh ... c'est bon !</td>\n",
       "    </tr>\n",
       "    <tr>\n",
       "      <th>1</th>\n",
       "      <td>1657558464-2316</td>\n",
       "      <td>https://french.kwiziq.com/learn/reading</td>\n",
       "      <td>Visite de Marseille</td>\n",
       "      <td>https://french.kwiziq.com/learn/reading/visite...</td>\n",
       "      <td>NaN</td>\n",
       "      <td>se trouvait le \"Logis du Panier\".</td>\n",
       "    </tr>\n",
       "    <tr>\n",
       "      <th>2</th>\n",
       "      <td>1657559453-9695</td>\n",
       "      <td>https://french.kwiziq.com/learn/reading</td>\n",
       "      <td>Menton's Lemon Festival</td>\n",
       "      <td>https://french.kwiziq.com/learn/reading/menton...</td>\n",
       "      <td>Les coulisses de la fête du citron de Menton</td>\n",
       "      <td>depuis plus de quinze ans.</td>\n",
       "    </tr>\n",
       "    <tr>\n",
       "      <th>3</th>\n",
       "      <td>1657559839-11749</td>\n",
       "      <td>https://french.kwiziq.com/learn/reading</td>\n",
       "      <td>Éclipse en Guadeloupe</td>\n",
       "      <td>https://french.kwiziq.com/learn/reading/eclips...</td>\n",
       "      <td>NaN</td>\n",
       "      <td>Et pour cause, peu de professionnels avaient e...</td>\n",
       "    </tr>\n",
       "    <tr>\n",
       "      <th>4</th>\n",
       "      <td>1657558548-3064</td>\n",
       "      <td>https://french.kwiziq.com/learn/reading</td>\n",
       "      <td>Réalisatrices françaises</td>\n",
       "      <td>https://french.kwiziq.com/learn/reading/realis...</td>\n",
       "      <td>NaN</td>\n",
       "      <td>Ce ne sont peut-être pas les plus faciles à re...</td>\n",
       "    </tr>\n",
       "    <tr>\n",
       "      <th>...</th>\n",
       "      <td>...</td>\n",
       "      <td>...</td>\n",
       "      <td>...</td>\n",
       "      <td>...</td>\n",
       "      <td>...</td>\n",
       "      <td>...</td>\n",
       "    </tr>\n",
       "    <tr>\n",
       "      <th>13543</th>\n",
       "      <td>1657558744-4517</td>\n",
       "      <td>https://french.kwiziq.com/learn/reading</td>\n",
       "      <td>Le Louvre : 800 ans d'Histoire</td>\n",
       "      <td>https://french.kwiziq.com/learn/reading/le-lou...</td>\n",
       "      <td>NaN</td>\n",
       "      <td>une puissante forteresse de plan carré,</td>\n",
       "    </tr>\n",
       "    <tr>\n",
       "      <th>13544</th>\n",
       "      <td>1657559628-10673</td>\n",
       "      <td>https://french.kwiziq.com/learn/reading</td>\n",
       "      <td>Le Festival du cinéma américain de Deauville</td>\n",
       "      <td>https://french.kwiziq.com/learn/reading/le-fes...</td>\n",
       "      <td>Le Festival du Cinéma Américain de Deauville</td>\n",
       "      <td>le Festival de Deauville n'était pas compétitif.</td>\n",
       "    </tr>\n",
       "    <tr>\n",
       "      <th>13545</th>\n",
       "      <td>1657558555-3120</td>\n",
       "      <td>https://french.kwiziq.com/learn/reading</td>\n",
       "      <td>Quel est le sens spirituel du Carnaval et du M...</td>\n",
       "      <td>https://french.kwiziq.com/learn/reading/quel-e...</td>\n",
       "      <td>Quel est le sens spirituel du Carnaval et du M...</td>\n",
       "      <td>Allez, cette semaine, je vous propose de décou...</td>\n",
       "    </tr>\n",
       "    <tr>\n",
       "      <th>13546</th>\n",
       "      <td>1657559551-10360</td>\n",
       "      <td>https://french.kwiziq.com/learn/reading</td>\n",
       "      <td>Léo et Popi : la Galette des Rois</td>\n",
       "      <td>https://french.kwiziq.com/learn/reading/leo-et...</td>\n",
       "      <td>NaN</td>\n",
       "      <td>Espérons qu'elle est dans cette part...</td>\n",
       "    </tr>\n",
       "    <tr>\n",
       "      <th>13547</th>\n",
       "      <td>1657559852-11839</td>\n",
       "      <td>https://french.kwiziq.com/learn/reading</td>\n",
       "      <td>Divali : la Fête des Lumières à Vancouver</td>\n",
       "      <td>https://french.kwiziq.com/learn/reading/divali...</td>\n",
       "      <td>Divali : la Fête des Lumières à Vancouver</td>\n",
       "      <td>et on organise de grands repas.</td>\n",
       "    </tr>\n",
       "  </tbody>\n",
       "</table>\n",
       "<p>13548 rows × 6 columns</p>\n",
       "</div>"
      ],
      "text/plain": [
       "      web-scraper-order                    web-scraper-start-url  \\\n",
       "0      1657559551-10354  https://french.kwiziq.com/learn/reading   \n",
       "1       1657558464-2316  https://french.kwiziq.com/learn/reading   \n",
       "2       1657559453-9695  https://french.kwiziq.com/learn/reading   \n",
       "3      1657559839-11749  https://french.kwiziq.com/learn/reading   \n",
       "4       1657558548-3064  https://french.kwiziq.com/learn/reading   \n",
       "...                 ...                                      ...   \n",
       "13543   1657558744-4517  https://french.kwiziq.com/learn/reading   \n",
       "13544  1657559628-10673  https://french.kwiziq.com/learn/reading   \n",
       "13545   1657558555-3120  https://french.kwiziq.com/learn/reading   \n",
       "13546  1657559551-10360  https://french.kwiziq.com/learn/reading   \n",
       "13547  1657559852-11839  https://french.kwiziq.com/learn/reading   \n",
       "\n",
       "                                                   links  \\\n",
       "0                      Léo et Popi : la Galette des Rois   \n",
       "1                                    Visite de Marseille   \n",
       "2                                Menton's Lemon Festival   \n",
       "3                                  Éclipse en Guadeloupe   \n",
       "4                               Réalisatrices françaises   \n",
       "...                                                  ...   \n",
       "13543                     Le Louvre : 800 ans d'Histoire   \n",
       "13544       Le Festival du cinéma américain de Deauville   \n",
       "13545  Quel est le sens spirituel du Carnaval et du M...   \n",
       "13546                  Léo et Popi : la Galette des Rois   \n",
       "13547          Divali : la Fête des Lumières à Vancouver   \n",
       "\n",
       "                                              links-href  \\\n",
       "0      https://french.kwiziq.com/learn/reading/leo-et...   \n",
       "1      https://french.kwiziq.com/learn/reading/visite...   \n",
       "2      https://french.kwiziq.com/learn/reading/menton...   \n",
       "3      https://french.kwiziq.com/learn/reading/eclips...   \n",
       "4      https://french.kwiziq.com/learn/reading/realis...   \n",
       "...                                                  ...   \n",
       "13543  https://french.kwiziq.com/learn/reading/le-lou...   \n",
       "13544  https://french.kwiziq.com/learn/reading/le-fes...   \n",
       "13545  https://french.kwiziq.com/learn/reading/quel-e...   \n",
       "13546  https://french.kwiziq.com/learn/reading/leo-et...   \n",
       "13547  https://french.kwiziq.com/learn/reading/divali...   \n",
       "\n",
       "                                                   title  \\\n",
       "0                                                    NaN   \n",
       "1                                                    NaN   \n",
       "2           Les coulisses de la fête du citron de Menton   \n",
       "3                                                    NaN   \n",
       "4                                                    NaN   \n",
       "...                                                  ...   \n",
       "13543                                                NaN   \n",
       "13544       Le Festival du Cinéma Américain de Deauville   \n",
       "13545  Quel est le sens spirituel du Carnaval et du M...   \n",
       "13546                                                NaN   \n",
       "13547          Divali : la Fête des Lumières à Vancouver   \n",
       "\n",
       "                                                    text  \n",
       "0                                   Mmmh ... c'est bon !  \n",
       "1                      se trouvait le \"Logis du Panier\".  \n",
       "2                             depuis plus de quinze ans.  \n",
       "3      Et pour cause, peu de professionnels avaient e...  \n",
       "4      Ce ne sont peut-être pas les plus faciles à re...  \n",
       "...                                                  ...  \n",
       "13543            une puissante forteresse de plan carré,  \n",
       "13544   le Festival de Deauville n'était pas compétitif.  \n",
       "13545  Allez, cette semaine, je vous propose de décou...  \n",
       "13546            Espérons qu'elle est dans cette part...  \n",
       "13547                    et on organise de grands repas.  \n",
       "\n",
       "[13548 rows x 6 columns]"
      ]
     },
     "execution_count": 13,
     "metadata": {},
     "output_type": "execute_result"
    }
   ],
   "source": [
    "df"
   ]
  },
  {
   "cell_type": "code",
   "execution_count": 14,
   "id": "7afe1f8b",
   "metadata": {
    "execution": {
     "iopub.execute_input": "2022-07-12T13:06:38.172639Z",
     "iopub.status.busy": "2022-07-12T13:06:38.171910Z",
     "iopub.status.idle": "2022-07-12T13:06:38.189363Z",
     "shell.execute_reply": "2022-07-12T13:06:38.188239Z"
    },
    "papermill": {
     "duration": 0.028911,
     "end_time": "2022-07-12T13:06:38.191951",
     "exception": false,
     "start_time": "2022-07-12T13:06:38.163040",
     "status": "completed"
    },
    "tags": []
   },
   "outputs": [
    {
     "data": {
      "text/html": [
       "<div>\n",
       "<style scoped>\n",
       "    .dataframe tbody tr th:only-of-type {\n",
       "        vertical-align: middle;\n",
       "    }\n",
       "\n",
       "    .dataframe tbody tr th {\n",
       "        vertical-align: top;\n",
       "    }\n",
       "\n",
       "    .dataframe thead th {\n",
       "        text-align: right;\n",
       "    }\n",
       "</style>\n",
       "<table border=\"1\" class=\"dataframe\">\n",
       "  <thead>\n",
       "    <tr style=\"text-align: right;\">\n",
       "      <th></th>\n",
       "      <th>web-scraper-order</th>\n",
       "      <th>web-scraper-start-url</th>\n",
       "      <th>links</th>\n",
       "      <th>links-href</th>\n",
       "      <th>title</th>\n",
       "      <th>text</th>\n",
       "    </tr>\n",
       "  </thead>\n",
       "  <tbody>\n",
       "    <tr>\n",
       "      <th>0</th>\n",
       "      <td>1657561664-18168</td>\n",
       "      <td>https://french.kwiziq.com/learn/reading</td>\n",
       "      <td>Le drapeau tricolore (Les Symboles de la Répub...</td>\n",
       "      <td>https://french.kwiziq.com/learn/reading/le-dra...</td>\n",
       "      <td>NaN</td>\n",
       "      <td>Le drapeau tricolore (Les Symboles de la Répub...</td>\n",
       "    </tr>\n",
       "    <tr>\n",
       "      <th>1</th>\n",
       "      <td>1657561547-17632</td>\n",
       "      <td>https://french.kwiziq.com/learn/reading</td>\n",
       "      <td>Les Bêtises de Cambrai et les Chardons Lorrain...</td>\n",
       "      <td>https://french.kwiziq.com/learn/reading/les-be...</td>\n",
       "      <td>NaN</td>\n",
       "      <td>On n'a pas du tout de trace</td>\n",
       "    </tr>\n",
       "    <tr>\n",
       "      <th>2</th>\n",
       "      <td>1657562225-21144</td>\n",
       "      <td>https://french.kwiziq.com/learn/reading</td>\n",
       "      <td>Beaujolais nouveau : ne l'appelez plus piquette !</td>\n",
       "      <td>https://french.kwiziq.com/learn/reading/beaujo...</td>\n",
       "      <td>Beaujolais nouveau : ne l'appelez plus piquette !</td>\n",
       "      <td>NaN</td>\n",
       "    </tr>\n",
       "    <tr>\n",
       "      <th>3</th>\n",
       "      <td>1657563408-25834</td>\n",
       "      <td>https://french.kwiziq.com/learn/reading</td>\n",
       "      <td>Comment est née la langue française ?</td>\n",
       "      <td>https://french.kwiziq.com/learn/reading/commen...</td>\n",
       "      <td>NaN</td>\n",
       "      <td>Tu vois, une langue, c'est vivant.</td>\n",
       "    </tr>\n",
       "    <tr>\n",
       "      <th>4</th>\n",
       "      <td>1657563356-25581</td>\n",
       "      <td>https://french.kwiziq.com/learn/reading</td>\n",
       "      <td>D'où vient la tradition du marché de Noël ?</td>\n",
       "      <td>https://french.kwiziq.com/learn/reading/d-ou-v...</td>\n",
       "      <td>NaN</td>\n",
       "      <td>la ville alsacienne présente son marché</td>\n",
       "    </tr>\n",
       "    <tr>\n",
       "      <th>...</th>\n",
       "      <td>...</td>\n",
       "      <td>...</td>\n",
       "      <td>...</td>\n",
       "      <td>...</td>\n",
       "      <td>...</td>\n",
       "      <td>...</td>\n",
       "    </tr>\n",
       "    <tr>\n",
       "      <th>13619</th>\n",
       "      <td>1657561780-18756</td>\n",
       "      <td>https://french.kwiziq.com/learn/reading</td>\n",
       "      <td>La Bohème - Charles Aznavour</td>\n",
       "      <td>https://french.kwiziq.com/learn/reading/la-boh...</td>\n",
       "      <td>NaN</td>\n",
       "      <td>Nous prenait une toile</td>\n",
       "    </tr>\n",
       "    <tr>\n",
       "      <th>13620</th>\n",
       "      <td>1657562837-23906</td>\n",
       "      <td>https://french.kwiziq.com/learn/reading</td>\n",
       "      <td>Les bonnes résolutions de fin d'année</td>\n",
       "      <td>https://french.kwiziq.com/learn/reading/les-bo...</td>\n",
       "      <td>NaN</td>\n",
       "      <td>Un petit peu quand même !</td>\n",
       "    </tr>\n",
       "    <tr>\n",
       "      <th>13621</th>\n",
       "      <td>1657561217-15990</td>\n",
       "      <td>https://french.kwiziq.com/learn/reading</td>\n",
       "      <td>Visite de la Côte Fleurie (Normandie)</td>\n",
       "      <td>https://french.kwiziq.com/learn/reading/visite...</td>\n",
       "      <td>NaN</td>\n",
       "      <td>mais aussi un authentique petit port de pêche.</td>\n",
       "    </tr>\n",
       "    <tr>\n",
       "      <th>13622</th>\n",
       "      <td>1657562119-20560</td>\n",
       "      <td>https://french.kwiziq.com/learn/reading</td>\n",
       "      <td>Comment préparer son bagage en cabine</td>\n",
       "      <td>https://french.kwiziq.com/learn/reading/commen...</td>\n",
       "      <td>NaN</td>\n",
       "      <td>Or, une valise \"cabine\", c'est petit.</td>\n",
       "    </tr>\n",
       "    <tr>\n",
       "      <th>13623</th>\n",
       "      <td>1657562526-22577</td>\n",
       "      <td>https://french.kwiziq.com/learn/reading</td>\n",
       "      <td>Public holidays in France</td>\n",
       "      <td>https://french.kwiziq.com/learn/reading/public...</td>\n",
       "      <td>NaN</td>\n",
       "      <td>c'est-à-dire, des fêtes civiles ou religieuses</td>\n",
       "    </tr>\n",
       "  </tbody>\n",
       "</table>\n",
       "<p>13624 rows × 6 columns</p>\n",
       "</div>"
      ],
      "text/plain": [
       "      web-scraper-order                    web-scraper-start-url  \\\n",
       "0      1657561664-18168  https://french.kwiziq.com/learn/reading   \n",
       "1      1657561547-17632  https://french.kwiziq.com/learn/reading   \n",
       "2      1657562225-21144  https://french.kwiziq.com/learn/reading   \n",
       "3      1657563408-25834  https://french.kwiziq.com/learn/reading   \n",
       "4      1657563356-25581  https://french.kwiziq.com/learn/reading   \n",
       "...                 ...                                      ...   \n",
       "13619  1657561780-18756  https://french.kwiziq.com/learn/reading   \n",
       "13620  1657562837-23906  https://french.kwiziq.com/learn/reading   \n",
       "13621  1657561217-15990  https://french.kwiziq.com/learn/reading   \n",
       "13622  1657562119-20560  https://french.kwiziq.com/learn/reading   \n",
       "13623  1657562526-22577  https://french.kwiziq.com/learn/reading   \n",
       "\n",
       "                                                   links  \\\n",
       "0      Le drapeau tricolore (Les Symboles de la Répub...   \n",
       "1      Les Bêtises de Cambrai et les Chardons Lorrain...   \n",
       "2      Beaujolais nouveau : ne l'appelez plus piquette !   \n",
       "3                  Comment est née la langue française ?   \n",
       "4            D'où vient la tradition du marché de Noël ?   \n",
       "...                                                  ...   \n",
       "13619                       La Bohème - Charles Aznavour   \n",
       "13620              Les bonnes résolutions de fin d'année   \n",
       "13621              Visite de la Côte Fleurie (Normandie)   \n",
       "13622              Comment préparer son bagage en cabine   \n",
       "13623                          Public holidays in France   \n",
       "\n",
       "                                              links-href  \\\n",
       "0      https://french.kwiziq.com/learn/reading/le-dra...   \n",
       "1      https://french.kwiziq.com/learn/reading/les-be...   \n",
       "2      https://french.kwiziq.com/learn/reading/beaujo...   \n",
       "3      https://french.kwiziq.com/learn/reading/commen...   \n",
       "4      https://french.kwiziq.com/learn/reading/d-ou-v...   \n",
       "...                                                  ...   \n",
       "13619  https://french.kwiziq.com/learn/reading/la-boh...   \n",
       "13620  https://french.kwiziq.com/learn/reading/les-bo...   \n",
       "13621  https://french.kwiziq.com/learn/reading/visite...   \n",
       "13622  https://french.kwiziq.com/learn/reading/commen...   \n",
       "13623  https://french.kwiziq.com/learn/reading/public...   \n",
       "\n",
       "                                                   title  \\\n",
       "0                                                    NaN   \n",
       "1                                                    NaN   \n",
       "2      Beaujolais nouveau : ne l'appelez plus piquette !   \n",
       "3                                                    NaN   \n",
       "4                                                    NaN   \n",
       "...                                                  ...   \n",
       "13619                                                NaN   \n",
       "13620                                                NaN   \n",
       "13621                                                NaN   \n",
       "13622                                                NaN   \n",
       "13623                                                NaN   \n",
       "\n",
       "                                                    text  \n",
       "0      Le drapeau tricolore (Les Symboles de la Répub...  \n",
       "1                            On n'a pas du tout de trace  \n",
       "2                                                    NaN  \n",
       "3                     Tu vois, une langue, c'est vivant.  \n",
       "4                la ville alsacienne présente son marché  \n",
       "...                                                  ...  \n",
       "13619                             Nous prenait une toile  \n",
       "13620                          Un petit peu quand même !  \n",
       "13621     mais aussi un authentique petit port de pêche.  \n",
       "13622              Or, une valise \"cabine\", c'est petit.  \n",
       "13623     c'est-à-dire, des fêtes civiles ou religieuses  \n",
       "\n",
       "[13624 rows x 6 columns]"
      ]
     },
     "execution_count": 14,
     "metadata": {},
     "output_type": "execute_result"
    }
   ],
   "source": [
    "data2"
   ]
  },
  {
   "cell_type": "code",
   "execution_count": 15,
   "id": "fdf9d6b2",
   "metadata": {
    "execution": {
     "iopub.execute_input": "2022-07-12T13:06:38.209366Z",
     "iopub.status.busy": "2022-07-12T13:06:38.208680Z",
     "iopub.status.idle": "2022-07-12T13:06:38.398215Z",
     "shell.execute_reply": "2022-07-12T13:06:38.396928Z"
    },
    "papermill": {
     "duration": 0.201368,
     "end_time": "2022-07-12T13:06:38.400869",
     "exception": false,
     "start_time": "2022-07-12T13:06:38.199501",
     "status": "completed"
    },
    "tags": []
   },
   "outputs": [],
   "source": [
    "ch=\"\"\n",
    "for i in range(data2.shape[0]):\n",
    "    if data2.loc[i,\"links-href\"]=='https://french.kwiziq.com/learn/reading/la-toussaint':\n",
    "        ch=ch+str(data2.loc[i,\"text\"])"
   ]
  },
  {
   "cell_type": "code",
   "execution_count": null,
   "id": "3c4bee6e",
   "metadata": {
    "papermill": {
     "duration": 0.00711,
     "end_time": "2022-07-12T13:06:38.415360",
     "exception": false,
     "start_time": "2022-07-12T13:06:38.408250",
     "status": "completed"
    },
    "tags": []
   },
   "outputs": [],
   "source": []
  }
 ],
 "metadata": {
  "kernelspec": {
   "display_name": "Python 3",
   "language": "python",
   "name": "python3"
  },
  "language_info": {
   "codemirror_mode": {
    "name": "ipython",
    "version": 3
   },
   "file_extension": ".py",
   "mimetype": "text/x-python",
   "name": "python",
   "nbconvert_exporter": "python",
   "pygments_lexer": "ipython3",
   "version": "3.7.12"
  },
  "papermill": {
   "default_parameters": {},
   "duration": 13.094469,
   "end_time": "2022-07-12T13:06:39.146116",
   "environment_variables": {},
   "exception": null,
   "input_path": "__notebook__.ipynb",
   "output_path": "__notebook__.ipynb",
   "parameters": {},
   "start_time": "2022-07-12T13:06:26.051647",
   "version": "2.3.4"
  }
 },
 "nbformat": 4,
 "nbformat_minor": 5
}
