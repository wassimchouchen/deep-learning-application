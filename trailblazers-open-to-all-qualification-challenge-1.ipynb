{
 "cells": [
  {
   "cell_type": "code",
   "execution_count": 1,
   "id": "3f89b888",
   "metadata": {
    "_cell_guid": "b1076dfc-b9ad-4769-8c92-a6c4dae69d19",
    "_uuid": "8f2839f25d086af736a60e9eeb907d3b93b6e0e5",
    "execution": {
     "iopub.execute_input": "2022-07-21T10:06:48.439883Z",
     "iopub.status.busy": "2022-07-21T10:06:48.436732Z",
     "iopub.status.idle": "2022-07-21T10:06:54.814890Z",
     "shell.execute_reply": "2022-07-21T10:06:54.813897Z"
    },
    "papermill": {
     "duration": 6.39588,
     "end_time": "2022-07-21T10:06:54.817281",
     "exception": false,
     "start_time": "2022-07-21T10:06:48.421401",
     "status": "completed"
    },
    "tags": []
   },
   "outputs": [],
   "source": [
    "import numpy as np\n",
    "import pandas as pd\n",
    "import matplotlib.pyplot as plt\n",
    "import os\n",
    "import shutil\n",
    "import tensorflow as tf\n",
    "import pathlib\n",
    "import PIL\n",
    "import time\n",
    "import zipfile\n",
    "import random\n",
    "from tensorflow import keras as ks\n",
    "from tensorflow.keras.layers import *\n",
    "from keras.utils.np_utils import to_categorical \n",
    "from keras.models import Sequential\n",
    "from keras.preprocessing.image import ImageDataGenerator\n",
    "from keras.callbacks import ReduceLROnPlateau\n",
    "from sklearn.model_selection import train_test_split\n",
    "import warnings\n",
    "warnings.filterwarnings('ignore')"
   ]
  },
  {
   "cell_type": "code",
   "execution_count": 2,
   "id": "3b9f93bd",
   "metadata": {
    "execution": {
     "iopub.execute_input": "2022-07-21T10:06:54.834026Z",
     "iopub.status.busy": "2022-07-21T10:06:54.832689Z",
     "iopub.status.idle": "2022-07-21T10:06:56.150651Z",
     "shell.execute_reply": "2022-07-21T10:06:56.149549Z"
    },
    "papermill": {
     "duration": 1.328801,
     "end_time": "2022-07-21T10:06:56.153396",
     "exception": false,
     "start_time": "2022-07-21T10:06:54.824595",
     "status": "completed"
    },
    "tags": []
   },
   "outputs": [],
   "source": [
    "train_df=pd.read_csv(\"../input/trailblazers-open-to-all-qualification-challenge/Train (3).csv\")\n",
    "test_df=pd.read_csv(\"../input/trailblazers-open-to-all-qualification-challenge/Test (5).csv\")\n",
    "sub=pd.read_csv(\"../input/trailblazers-open-to-all-qualification-challenge/SampleSubmission (1).csv\")"
   ]
  },
  {
   "cell_type": "code",
   "execution_count": 3,
   "id": "64b57c54",
   "metadata": {
    "execution": {
     "iopub.execute_input": "2022-07-21T10:06:56.173150Z",
     "iopub.status.busy": "2022-07-21T10:06:56.171139Z",
     "iopub.status.idle": "2022-07-21T10:06:56.211128Z",
     "shell.execute_reply": "2022-07-21T10:06:56.209779Z"
    },
    "papermill": {
     "duration": 0.053786,
     "end_time": "2022-07-21T10:06:56.215766",
     "exception": false,
     "start_time": "2022-07-21T10:06:56.161980",
     "status": "completed"
    },
    "tags": []
   },
   "outputs": [
    {
     "data": {
      "text/html": [
       "<div>\n",
       "<style scoped>\n",
       "    .dataframe tbody tr th:only-of-type {\n",
       "        vertical-align: middle;\n",
       "    }\n",
       "\n",
       "    .dataframe tbody tr th {\n",
       "        vertical-align: top;\n",
       "    }\n",
       "\n",
       "    .dataframe thead th {\n",
       "        text-align: right;\n",
       "    }\n",
       "</style>\n",
       "<table border=\"1\" class=\"dataframe\">\n",
       "  <thead>\n",
       "    <tr style=\"text-align: right;\">\n",
       "      <th></th>\n",
       "      <th>Place_ID X Date</th>\n",
       "      <th>Date</th>\n",
       "      <th>Place_ID</th>\n",
       "      <th>target</th>\n",
       "      <th>target_min</th>\n",
       "      <th>target_max</th>\n",
       "      <th>target_variance</th>\n",
       "      <th>target_count</th>\n",
       "      <th>precipitable_water_entire_atmosphere</th>\n",
       "      <th>relative_humidity_2m_above_ground</th>\n",
       "      <th>...</th>\n",
       "      <th>L3_SO2_sensor_zenith_angle</th>\n",
       "      <th>L3_SO2_solar_azimuth_angle</th>\n",
       "      <th>L3_SO2_solar_zenith_angle</th>\n",
       "      <th>L3_CH4_CH4_column_volume_mixing_ratio_dry_air</th>\n",
       "      <th>L3_CH4_aerosol_height</th>\n",
       "      <th>L3_CH4_aerosol_optical_depth</th>\n",
       "      <th>L3_CH4_sensor_azimuth_angle</th>\n",
       "      <th>L3_CH4_sensor_zenith_angle</th>\n",
       "      <th>L3_CH4_solar_azimuth_angle</th>\n",
       "      <th>L3_CH4_solar_zenith_angle</th>\n",
       "    </tr>\n",
       "  </thead>\n",
       "  <tbody>\n",
       "    <tr>\n",
       "      <th>0</th>\n",
       "      <td>010Q650 X 2020-01-02</td>\n",
       "      <td>2020-01-02</td>\n",
       "      <td>010Q650</td>\n",
       "      <td>38.0</td>\n",
       "      <td>23.0</td>\n",
       "      <td>53.0</td>\n",
       "      <td>769.50</td>\n",
       "      <td>92</td>\n",
       "      <td>11.000000</td>\n",
       "      <td>60.200001</td>\n",
       "      <td>...</td>\n",
       "      <td>38.593017</td>\n",
       "      <td>-61.752587</td>\n",
       "      <td>22.363665</td>\n",
       "      <td>1793.793579</td>\n",
       "      <td>3227.855469</td>\n",
       "      <td>0.010579</td>\n",
       "      <td>74.481049</td>\n",
       "      <td>37.501499</td>\n",
       "      <td>-62.142639</td>\n",
       "      <td>22.545118</td>\n",
       "    </tr>\n",
       "    <tr>\n",
       "      <th>1</th>\n",
       "      <td>010Q650 X 2020-01-03</td>\n",
       "      <td>2020-01-03</td>\n",
       "      <td>010Q650</td>\n",
       "      <td>39.0</td>\n",
       "      <td>25.0</td>\n",
       "      <td>63.0</td>\n",
       "      <td>1319.85</td>\n",
       "      <td>91</td>\n",
       "      <td>14.600000</td>\n",
       "      <td>48.799999</td>\n",
       "      <td>...</td>\n",
       "      <td>59.624912</td>\n",
       "      <td>-67.693509</td>\n",
       "      <td>28.614804</td>\n",
       "      <td>1789.960449</td>\n",
       "      <td>3384.226562</td>\n",
       "      <td>0.015104</td>\n",
       "      <td>75.630043</td>\n",
       "      <td>55.657486</td>\n",
       "      <td>-53.868134</td>\n",
       "      <td>19.293652</td>\n",
       "    </tr>\n",
       "    <tr>\n",
       "      <th>2</th>\n",
       "      <td>010Q650 X 2020-01-04</td>\n",
       "      <td>2020-01-04</td>\n",
       "      <td>010Q650</td>\n",
       "      <td>24.0</td>\n",
       "      <td>8.0</td>\n",
       "      <td>56.0</td>\n",
       "      <td>1181.96</td>\n",
       "      <td>96</td>\n",
       "      <td>16.400000</td>\n",
       "      <td>33.400002</td>\n",
       "      <td>...</td>\n",
       "      <td>49.839714</td>\n",
       "      <td>-78.342701</td>\n",
       "      <td>34.296977</td>\n",
       "      <td>NaN</td>\n",
       "      <td>NaN</td>\n",
       "      <td>NaN</td>\n",
       "      <td>NaN</td>\n",
       "      <td>NaN</td>\n",
       "      <td>NaN</td>\n",
       "      <td>NaN</td>\n",
       "    </tr>\n",
       "    <tr>\n",
       "      <th>3</th>\n",
       "      <td>010Q650 X 2020-01-05</td>\n",
       "      <td>2020-01-05</td>\n",
       "      <td>010Q650</td>\n",
       "      <td>49.0</td>\n",
       "      <td>10.0</td>\n",
       "      <td>55.0</td>\n",
       "      <td>1113.67</td>\n",
       "      <td>96</td>\n",
       "      <td>6.911948</td>\n",
       "      <td>21.300001</td>\n",
       "      <td>...</td>\n",
       "      <td>29.181258</td>\n",
       "      <td>-73.896588</td>\n",
       "      <td>30.545446</td>\n",
       "      <td>NaN</td>\n",
       "      <td>NaN</td>\n",
       "      <td>NaN</td>\n",
       "      <td>NaN</td>\n",
       "      <td>NaN</td>\n",
       "      <td>NaN</td>\n",
       "      <td>NaN</td>\n",
       "    </tr>\n",
       "    <tr>\n",
       "      <th>4</th>\n",
       "      <td>010Q650 X 2020-01-06</td>\n",
       "      <td>2020-01-06</td>\n",
       "      <td>010Q650</td>\n",
       "      <td>21.0</td>\n",
       "      <td>9.0</td>\n",
       "      <td>52.0</td>\n",
       "      <td>1164.82</td>\n",
       "      <td>95</td>\n",
       "      <td>13.900001</td>\n",
       "      <td>44.700001</td>\n",
       "      <td>...</td>\n",
       "      <td>0.797294</td>\n",
       "      <td>-68.612480</td>\n",
       "      <td>26.899694</td>\n",
       "      <td>NaN</td>\n",
       "      <td>NaN</td>\n",
       "      <td>NaN</td>\n",
       "      <td>NaN</td>\n",
       "      <td>NaN</td>\n",
       "      <td>NaN</td>\n",
       "      <td>NaN</td>\n",
       "    </tr>\n",
       "  </tbody>\n",
       "</table>\n",
       "<p>5 rows × 82 columns</p>\n",
       "</div>"
      ],
      "text/plain": [
       "        Place_ID X Date        Date Place_ID  target  target_min  target_max  \\\n",
       "0  010Q650 X 2020-01-02  2020-01-02  010Q650    38.0        23.0        53.0   \n",
       "1  010Q650 X 2020-01-03  2020-01-03  010Q650    39.0        25.0        63.0   \n",
       "2  010Q650 X 2020-01-04  2020-01-04  010Q650    24.0         8.0        56.0   \n",
       "3  010Q650 X 2020-01-05  2020-01-05  010Q650    49.0        10.0        55.0   \n",
       "4  010Q650 X 2020-01-06  2020-01-06  010Q650    21.0         9.0        52.0   \n",
       "\n",
       "   target_variance  target_count  precipitable_water_entire_atmosphere  \\\n",
       "0           769.50            92                             11.000000   \n",
       "1          1319.85            91                             14.600000   \n",
       "2          1181.96            96                             16.400000   \n",
       "3          1113.67            96                              6.911948   \n",
       "4          1164.82            95                             13.900001   \n",
       "\n",
       "   relative_humidity_2m_above_ground  ...  L3_SO2_sensor_zenith_angle  \\\n",
       "0                          60.200001  ...                   38.593017   \n",
       "1                          48.799999  ...                   59.624912   \n",
       "2                          33.400002  ...                   49.839714   \n",
       "3                          21.300001  ...                   29.181258   \n",
       "4                          44.700001  ...                    0.797294   \n",
       "\n",
       "   L3_SO2_solar_azimuth_angle  L3_SO2_solar_zenith_angle  \\\n",
       "0                  -61.752587                  22.363665   \n",
       "1                  -67.693509                  28.614804   \n",
       "2                  -78.342701                  34.296977   \n",
       "3                  -73.896588                  30.545446   \n",
       "4                  -68.612480                  26.899694   \n",
       "\n",
       "   L3_CH4_CH4_column_volume_mixing_ratio_dry_air  L3_CH4_aerosol_height  \\\n",
       "0                                    1793.793579            3227.855469   \n",
       "1                                    1789.960449            3384.226562   \n",
       "2                                            NaN                    NaN   \n",
       "3                                            NaN                    NaN   \n",
       "4                                            NaN                    NaN   \n",
       "\n",
       "   L3_CH4_aerosol_optical_depth  L3_CH4_sensor_azimuth_angle  \\\n",
       "0                      0.010579                    74.481049   \n",
       "1                      0.015104                    75.630043   \n",
       "2                           NaN                          NaN   \n",
       "3                           NaN                          NaN   \n",
       "4                           NaN                          NaN   \n",
       "\n",
       "   L3_CH4_sensor_zenith_angle  L3_CH4_solar_azimuth_angle  \\\n",
       "0                   37.501499                  -62.142639   \n",
       "1                   55.657486                  -53.868134   \n",
       "2                         NaN                         NaN   \n",
       "3                         NaN                         NaN   \n",
       "4                         NaN                         NaN   \n",
       "\n",
       "   L3_CH4_solar_zenith_angle  \n",
       "0                  22.545118  \n",
       "1                  19.293652  \n",
       "2                        NaN  \n",
       "3                        NaN  \n",
       "4                        NaN  \n",
       "\n",
       "[5 rows x 82 columns]"
      ]
     },
     "execution_count": 3,
     "metadata": {},
     "output_type": "execute_result"
    }
   ],
   "source": [
    "train_df.head()"
   ]
  },
  {
   "cell_type": "code",
   "execution_count": 4,
   "id": "8ffb469e",
   "metadata": {
    "execution": {
     "iopub.execute_input": "2022-07-21T10:06:56.236106Z",
     "iopub.status.busy": "2022-07-21T10:06:56.234338Z",
     "iopub.status.idle": "2022-07-21T10:06:56.262714Z",
     "shell.execute_reply": "2022-07-21T10:06:56.261564Z"
    },
    "papermill": {
     "duration": 0.040589,
     "end_time": "2022-07-21T10:06:56.265427",
     "exception": false,
     "start_time": "2022-07-21T10:06:56.224838",
     "status": "completed"
    },
    "tags": []
   },
   "outputs": [
    {
     "data": {
      "text/html": [
       "<div>\n",
       "<style scoped>\n",
       "    .dataframe tbody tr th:only-of-type {\n",
       "        vertical-align: middle;\n",
       "    }\n",
       "\n",
       "    .dataframe tbody tr th {\n",
       "        vertical-align: top;\n",
       "    }\n",
       "\n",
       "    .dataframe thead th {\n",
       "        text-align: right;\n",
       "    }\n",
       "</style>\n",
       "<table border=\"1\" class=\"dataframe\">\n",
       "  <thead>\n",
       "    <tr style=\"text-align: right;\">\n",
       "      <th></th>\n",
       "      <th>Place_ID X Date</th>\n",
       "      <th>Date</th>\n",
       "      <th>Place_ID</th>\n",
       "      <th>precipitable_water_entire_atmosphere</th>\n",
       "      <th>relative_humidity_2m_above_ground</th>\n",
       "      <th>specific_humidity_2m_above_ground</th>\n",
       "      <th>temperature_2m_above_ground</th>\n",
       "      <th>u_component_of_wind_10m_above_ground</th>\n",
       "      <th>v_component_of_wind_10m_above_ground</th>\n",
       "      <th>L3_NO2_NO2_column_number_density</th>\n",
       "      <th>...</th>\n",
       "      <th>L3_SO2_sensor_zenith_angle</th>\n",
       "      <th>L3_SO2_solar_azimuth_angle</th>\n",
       "      <th>L3_SO2_solar_zenith_angle</th>\n",
       "      <th>L3_CH4_CH4_column_volume_mixing_ratio_dry_air</th>\n",
       "      <th>L3_CH4_aerosol_height</th>\n",
       "      <th>L3_CH4_aerosol_optical_depth</th>\n",
       "      <th>L3_CH4_sensor_azimuth_angle</th>\n",
       "      <th>L3_CH4_sensor_zenith_angle</th>\n",
       "      <th>L3_CH4_solar_azimuth_angle</th>\n",
       "      <th>L3_CH4_solar_zenith_angle</th>\n",
       "    </tr>\n",
       "  </thead>\n",
       "  <tbody>\n",
       "    <tr>\n",
       "      <th>0</th>\n",
       "      <td>0OS9LVX X 2020-01-02</td>\n",
       "      <td>2020-01-02</td>\n",
       "      <td>0OS9LVX</td>\n",
       "      <td>11.600000</td>\n",
       "      <td>30.200001</td>\n",
       "      <td>0.00409</td>\n",
       "      <td>14.656824</td>\n",
       "      <td>3.956377</td>\n",
       "      <td>0.712605</td>\n",
       "      <td>0.000053</td>\n",
       "      <td>...</td>\n",
       "      <td>1.445658</td>\n",
       "      <td>-95.984984</td>\n",
       "      <td>22.942019</td>\n",
       "      <td>NaN</td>\n",
       "      <td>NaN</td>\n",
       "      <td>NaN</td>\n",
       "      <td>NaN</td>\n",
       "      <td>NaN</td>\n",
       "      <td>NaN</td>\n",
       "      <td>NaN</td>\n",
       "    </tr>\n",
       "    <tr>\n",
       "      <th>1</th>\n",
       "      <td>0OS9LVX X 2020-01-03</td>\n",
       "      <td>2020-01-03</td>\n",
       "      <td>0OS9LVX</td>\n",
       "      <td>18.300001</td>\n",
       "      <td>42.900002</td>\n",
       "      <td>0.00595</td>\n",
       "      <td>15.026544</td>\n",
       "      <td>4.230430</td>\n",
       "      <td>0.661892</td>\n",
       "      <td>0.000050</td>\n",
       "      <td>...</td>\n",
       "      <td>34.641758</td>\n",
       "      <td>-95.014908</td>\n",
       "      <td>18.539116</td>\n",
       "      <td>NaN</td>\n",
       "      <td>NaN</td>\n",
       "      <td>NaN</td>\n",
       "      <td>NaN</td>\n",
       "      <td>NaN</td>\n",
       "      <td>NaN</td>\n",
       "      <td>NaN</td>\n",
       "    </tr>\n",
       "    <tr>\n",
       "      <th>2</th>\n",
       "      <td>0OS9LVX X 2020-01-04</td>\n",
       "      <td>2020-01-04</td>\n",
       "      <td>0OS9LVX</td>\n",
       "      <td>17.600000</td>\n",
       "      <td>41.299999</td>\n",
       "      <td>0.00590</td>\n",
       "      <td>15.511041</td>\n",
       "      <td>5.245728</td>\n",
       "      <td>1.640559</td>\n",
       "      <td>0.000050</td>\n",
       "      <td>...</td>\n",
       "      <td>55.872276</td>\n",
       "      <td>-94.015418</td>\n",
       "      <td>14.140820</td>\n",
       "      <td>NaN</td>\n",
       "      <td>NaN</td>\n",
       "      <td>NaN</td>\n",
       "      <td>NaN</td>\n",
       "      <td>NaN</td>\n",
       "      <td>NaN</td>\n",
       "      <td>NaN</td>\n",
       "    </tr>\n",
       "    <tr>\n",
       "      <th>3</th>\n",
       "      <td>0OS9LVX X 2020-01-05</td>\n",
       "      <td>2020-01-05</td>\n",
       "      <td>0OS9LVX</td>\n",
       "      <td>15.011948</td>\n",
       "      <td>53.100002</td>\n",
       "      <td>0.00709</td>\n",
       "      <td>14.441858</td>\n",
       "      <td>5.454001</td>\n",
       "      <td>-0.190532</td>\n",
       "      <td>0.000055</td>\n",
       "      <td>...</td>\n",
       "      <td>59.174188</td>\n",
       "      <td>-97.247602</td>\n",
       "      <td>32.730553</td>\n",
       "      <td>NaN</td>\n",
       "      <td>NaN</td>\n",
       "      <td>NaN</td>\n",
       "      <td>NaN</td>\n",
       "      <td>NaN</td>\n",
       "      <td>NaN</td>\n",
       "      <td>NaN</td>\n",
       "    </tr>\n",
       "    <tr>\n",
       "      <th>4</th>\n",
       "      <td>0OS9LVX X 2020-01-06</td>\n",
       "      <td>2020-01-06</td>\n",
       "      <td>0OS9LVX</td>\n",
       "      <td>9.700000</td>\n",
       "      <td>71.599998</td>\n",
       "      <td>0.00808</td>\n",
       "      <td>11.896295</td>\n",
       "      <td>3.511787</td>\n",
       "      <td>-0.279441</td>\n",
       "      <td>0.000055</td>\n",
       "      <td>...</td>\n",
       "      <td>40.925873</td>\n",
       "      <td>-96.057265</td>\n",
       "      <td>28.320527</td>\n",
       "      <td>1831.261597</td>\n",
       "      <td>3229.118652</td>\n",
       "      <td>0.031068</td>\n",
       "      <td>-100.278343</td>\n",
       "      <td>41.84708</td>\n",
       "      <td>-95.910744</td>\n",
       "      <td>28.498789</td>\n",
       "    </tr>\n",
       "  </tbody>\n",
       "</table>\n",
       "<p>5 rows × 77 columns</p>\n",
       "</div>"
      ],
      "text/plain": [
       "        Place_ID X Date        Date Place_ID  \\\n",
       "0  0OS9LVX X 2020-01-02  2020-01-02  0OS9LVX   \n",
       "1  0OS9LVX X 2020-01-03  2020-01-03  0OS9LVX   \n",
       "2  0OS9LVX X 2020-01-04  2020-01-04  0OS9LVX   \n",
       "3  0OS9LVX X 2020-01-05  2020-01-05  0OS9LVX   \n",
       "4  0OS9LVX X 2020-01-06  2020-01-06  0OS9LVX   \n",
       "\n",
       "   precipitable_water_entire_atmosphere  relative_humidity_2m_above_ground  \\\n",
       "0                             11.600000                          30.200001   \n",
       "1                             18.300001                          42.900002   \n",
       "2                             17.600000                          41.299999   \n",
       "3                             15.011948                          53.100002   \n",
       "4                              9.700000                          71.599998   \n",
       "\n",
       "   specific_humidity_2m_above_ground  temperature_2m_above_ground  \\\n",
       "0                            0.00409                    14.656824   \n",
       "1                            0.00595                    15.026544   \n",
       "2                            0.00590                    15.511041   \n",
       "3                            0.00709                    14.441858   \n",
       "4                            0.00808                    11.896295   \n",
       "\n",
       "   u_component_of_wind_10m_above_ground  v_component_of_wind_10m_above_ground  \\\n",
       "0                              3.956377                              0.712605   \n",
       "1                              4.230430                              0.661892   \n",
       "2                              5.245728                              1.640559   \n",
       "3                              5.454001                             -0.190532   \n",
       "4                              3.511787                             -0.279441   \n",
       "\n",
       "   L3_NO2_NO2_column_number_density  ...  L3_SO2_sensor_zenith_angle  \\\n",
       "0                          0.000053  ...                    1.445658   \n",
       "1                          0.000050  ...                   34.641758   \n",
       "2                          0.000050  ...                   55.872276   \n",
       "3                          0.000055  ...                   59.174188   \n",
       "4                          0.000055  ...                   40.925873   \n",
       "\n",
       "   L3_SO2_solar_azimuth_angle  L3_SO2_solar_zenith_angle  \\\n",
       "0                  -95.984984                  22.942019   \n",
       "1                  -95.014908                  18.539116   \n",
       "2                  -94.015418                  14.140820   \n",
       "3                  -97.247602                  32.730553   \n",
       "4                  -96.057265                  28.320527   \n",
       "\n",
       "   L3_CH4_CH4_column_volume_mixing_ratio_dry_air  L3_CH4_aerosol_height  \\\n",
       "0                                            NaN                    NaN   \n",
       "1                                            NaN                    NaN   \n",
       "2                                            NaN                    NaN   \n",
       "3                                            NaN                    NaN   \n",
       "4                                    1831.261597            3229.118652   \n",
       "\n",
       "   L3_CH4_aerosol_optical_depth  L3_CH4_sensor_azimuth_angle  \\\n",
       "0                           NaN                          NaN   \n",
       "1                           NaN                          NaN   \n",
       "2                           NaN                          NaN   \n",
       "3                           NaN                          NaN   \n",
       "4                      0.031068                  -100.278343   \n",
       "\n",
       "   L3_CH4_sensor_zenith_angle  L3_CH4_solar_azimuth_angle  \\\n",
       "0                         NaN                         NaN   \n",
       "1                         NaN                         NaN   \n",
       "2                         NaN                         NaN   \n",
       "3                         NaN                         NaN   \n",
       "4                    41.84708                  -95.910744   \n",
       "\n",
       "   L3_CH4_solar_zenith_angle  \n",
       "0                        NaN  \n",
       "1                        NaN  \n",
       "2                        NaN  \n",
       "3                        NaN  \n",
       "4                  28.498789  \n",
       "\n",
       "[5 rows x 77 columns]"
      ]
     },
     "execution_count": 4,
     "metadata": {},
     "output_type": "execute_result"
    }
   ],
   "source": [
    "test_df.head()"
   ]
  },
  {
   "cell_type": "code",
   "execution_count": 5,
   "id": "4c3a43e0",
   "metadata": {
    "execution": {
     "iopub.execute_input": "2022-07-21T10:06:56.285613Z",
     "iopub.status.busy": "2022-07-21T10:06:56.284268Z",
     "iopub.status.idle": "2022-07-21T10:06:56.292296Z",
     "shell.execute_reply": "2022-07-21T10:06:56.291344Z"
    },
    "papermill": {
     "duration": 0.019914,
     "end_time": "2022-07-21T10:06:56.294453",
     "exception": false,
     "start_time": "2022-07-21T10:06:56.274539",
     "status": "completed"
    },
    "tags": []
   },
   "outputs": [],
   "source": [
    "Id=test_df[\"Place_ID X Date\"]"
   ]
  },
  {
   "cell_type": "code",
   "execution_count": 6,
   "id": "69568300",
   "metadata": {
    "execution": {
     "iopub.execute_input": "2022-07-21T10:06:56.312797Z",
     "iopub.status.busy": "2022-07-21T10:06:56.312479Z",
     "iopub.status.idle": "2022-07-21T10:06:56.319515Z",
     "shell.execute_reply": "2022-07-21T10:06:56.318534Z"
    },
    "papermill": {
     "duration": 0.018308,
     "end_time": "2022-07-21T10:06:56.321566",
     "exception": false,
     "start_time": "2022-07-21T10:06:56.303258",
     "status": "completed"
    },
    "tags": []
   },
   "outputs": [
    {
     "data": {
      "text/plain": [
       "(30557, 82)"
      ]
     },
     "execution_count": 6,
     "metadata": {},
     "output_type": "execute_result"
    }
   ],
   "source": [
    "train_df.shape"
   ]
  },
  {
   "cell_type": "code",
   "execution_count": 7,
   "id": "3420fd7b",
   "metadata": {
    "execution": {
     "iopub.execute_input": "2022-07-21T10:06:56.339053Z",
     "iopub.status.busy": "2022-07-21T10:06:56.338740Z",
     "iopub.status.idle": "2022-07-21T10:06:56.344678Z",
     "shell.execute_reply": "2022-07-21T10:06:56.343730Z"
    },
    "papermill": {
     "duration": 0.017032,
     "end_time": "2022-07-21T10:06:56.346676",
     "exception": false,
     "start_time": "2022-07-21T10:06:56.329644",
     "status": "completed"
    },
    "tags": []
   },
   "outputs": [
    {
     "data": {
      "text/plain": [
       "(16136, 77)"
      ]
     },
     "execution_count": 7,
     "metadata": {},
     "output_type": "execute_result"
    }
   ],
   "source": [
    "test_df.shape"
   ]
  },
  {
   "cell_type": "code",
   "execution_count": 8,
   "id": "a21fc291",
   "metadata": {
    "execution": {
     "iopub.execute_input": "2022-07-21T10:06:56.364935Z",
     "iopub.status.busy": "2022-07-21T10:06:56.364632Z",
     "iopub.status.idle": "2022-07-21T10:06:56.389243Z",
     "shell.execute_reply": "2022-07-21T10:06:56.388324Z"
    },
    "papermill": {
     "duration": 0.036256,
     "end_time": "2022-07-21T10:06:56.391341",
     "exception": false,
     "start_time": "2022-07-21T10:06:56.355085",
     "status": "completed"
    },
    "tags": []
   },
   "outputs": [
    {
     "data": {
      "text/html": [
       "<div>\n",
       "<style scoped>\n",
       "    .dataframe tbody tr th:only-of-type {\n",
       "        vertical-align: middle;\n",
       "    }\n",
       "\n",
       "    .dataframe tbody tr th {\n",
       "        vertical-align: top;\n",
       "    }\n",
       "\n",
       "    .dataframe thead th {\n",
       "        text-align: right;\n",
       "    }\n",
       "</style>\n",
       "<table border=\"1\" class=\"dataframe\">\n",
       "  <thead>\n",
       "    <tr style=\"text-align: right;\">\n",
       "      <th></th>\n",
       "      <th>Place_ID X Date</th>\n",
       "      <th>Date</th>\n",
       "      <th>Place_ID</th>\n",
       "      <th>precipitable_water_entire_atmosphere</th>\n",
       "      <th>relative_humidity_2m_above_ground</th>\n",
       "      <th>specific_humidity_2m_above_ground</th>\n",
       "      <th>temperature_2m_above_ground</th>\n",
       "      <th>u_component_of_wind_10m_above_ground</th>\n",
       "      <th>v_component_of_wind_10m_above_ground</th>\n",
       "      <th>L3_NO2_NO2_column_number_density</th>\n",
       "      <th>...</th>\n",
       "      <th>L3_SO2_sensor_zenith_angle</th>\n",
       "      <th>L3_SO2_solar_azimuth_angle</th>\n",
       "      <th>L3_SO2_solar_zenith_angle</th>\n",
       "      <th>L3_CH4_CH4_column_volume_mixing_ratio_dry_air</th>\n",
       "      <th>L3_CH4_aerosol_height</th>\n",
       "      <th>L3_CH4_aerosol_optical_depth</th>\n",
       "      <th>L3_CH4_sensor_azimuth_angle</th>\n",
       "      <th>L3_CH4_sensor_zenith_angle</th>\n",
       "      <th>L3_CH4_solar_azimuth_angle</th>\n",
       "      <th>L3_CH4_solar_zenith_angle</th>\n",
       "    </tr>\n",
       "  </thead>\n",
       "  <tbody>\n",
       "    <tr>\n",
       "      <th>0</th>\n",
       "      <td>0OS9LVX X 2020-01-02</td>\n",
       "      <td>2020-01-02</td>\n",
       "      <td>0OS9LVX</td>\n",
       "      <td>11.600000</td>\n",
       "      <td>30.200001</td>\n",
       "      <td>0.00409</td>\n",
       "      <td>14.656824</td>\n",
       "      <td>3.956377</td>\n",
       "      <td>0.712605</td>\n",
       "      <td>0.000053</td>\n",
       "      <td>...</td>\n",
       "      <td>1.445658</td>\n",
       "      <td>-95.984984</td>\n",
       "      <td>22.942019</td>\n",
       "      <td>NaN</td>\n",
       "      <td>NaN</td>\n",
       "      <td>NaN</td>\n",
       "      <td>NaN</td>\n",
       "      <td>NaN</td>\n",
       "      <td>NaN</td>\n",
       "      <td>NaN</td>\n",
       "    </tr>\n",
       "    <tr>\n",
       "      <th>1</th>\n",
       "      <td>0OS9LVX X 2020-01-03</td>\n",
       "      <td>2020-01-03</td>\n",
       "      <td>0OS9LVX</td>\n",
       "      <td>18.300001</td>\n",
       "      <td>42.900002</td>\n",
       "      <td>0.00595</td>\n",
       "      <td>15.026544</td>\n",
       "      <td>4.230430</td>\n",
       "      <td>0.661892</td>\n",
       "      <td>0.000050</td>\n",
       "      <td>...</td>\n",
       "      <td>34.641758</td>\n",
       "      <td>-95.014908</td>\n",
       "      <td>18.539116</td>\n",
       "      <td>NaN</td>\n",
       "      <td>NaN</td>\n",
       "      <td>NaN</td>\n",
       "      <td>NaN</td>\n",
       "      <td>NaN</td>\n",
       "      <td>NaN</td>\n",
       "      <td>NaN</td>\n",
       "    </tr>\n",
       "    <tr>\n",
       "      <th>2</th>\n",
       "      <td>0OS9LVX X 2020-01-04</td>\n",
       "      <td>2020-01-04</td>\n",
       "      <td>0OS9LVX</td>\n",
       "      <td>17.600000</td>\n",
       "      <td>41.299999</td>\n",
       "      <td>0.00590</td>\n",
       "      <td>15.511041</td>\n",
       "      <td>5.245728</td>\n",
       "      <td>1.640559</td>\n",
       "      <td>0.000050</td>\n",
       "      <td>...</td>\n",
       "      <td>55.872276</td>\n",
       "      <td>-94.015418</td>\n",
       "      <td>14.140820</td>\n",
       "      <td>NaN</td>\n",
       "      <td>NaN</td>\n",
       "      <td>NaN</td>\n",
       "      <td>NaN</td>\n",
       "      <td>NaN</td>\n",
       "      <td>NaN</td>\n",
       "      <td>NaN</td>\n",
       "    </tr>\n",
       "    <tr>\n",
       "      <th>3</th>\n",
       "      <td>0OS9LVX X 2020-01-05</td>\n",
       "      <td>2020-01-05</td>\n",
       "      <td>0OS9LVX</td>\n",
       "      <td>15.011948</td>\n",
       "      <td>53.100002</td>\n",
       "      <td>0.00709</td>\n",
       "      <td>14.441858</td>\n",
       "      <td>5.454001</td>\n",
       "      <td>-0.190532</td>\n",
       "      <td>0.000055</td>\n",
       "      <td>...</td>\n",
       "      <td>59.174188</td>\n",
       "      <td>-97.247602</td>\n",
       "      <td>32.730553</td>\n",
       "      <td>NaN</td>\n",
       "      <td>NaN</td>\n",
       "      <td>NaN</td>\n",
       "      <td>NaN</td>\n",
       "      <td>NaN</td>\n",
       "      <td>NaN</td>\n",
       "      <td>NaN</td>\n",
       "    </tr>\n",
       "    <tr>\n",
       "      <th>4</th>\n",
       "      <td>0OS9LVX X 2020-01-06</td>\n",
       "      <td>2020-01-06</td>\n",
       "      <td>0OS9LVX</td>\n",
       "      <td>9.700000</td>\n",
       "      <td>71.599998</td>\n",
       "      <td>0.00808</td>\n",
       "      <td>11.896295</td>\n",
       "      <td>3.511787</td>\n",
       "      <td>-0.279441</td>\n",
       "      <td>0.000055</td>\n",
       "      <td>...</td>\n",
       "      <td>40.925873</td>\n",
       "      <td>-96.057265</td>\n",
       "      <td>28.320527</td>\n",
       "      <td>1831.261597</td>\n",
       "      <td>3229.118652</td>\n",
       "      <td>0.031068</td>\n",
       "      <td>-100.278343</td>\n",
       "      <td>41.84708</td>\n",
       "      <td>-95.910744</td>\n",
       "      <td>28.498789</td>\n",
       "    </tr>\n",
       "  </tbody>\n",
       "</table>\n",
       "<p>5 rows × 77 columns</p>\n",
       "</div>"
      ],
      "text/plain": [
       "        Place_ID X Date        Date Place_ID  \\\n",
       "0  0OS9LVX X 2020-01-02  2020-01-02  0OS9LVX   \n",
       "1  0OS9LVX X 2020-01-03  2020-01-03  0OS9LVX   \n",
       "2  0OS9LVX X 2020-01-04  2020-01-04  0OS9LVX   \n",
       "3  0OS9LVX X 2020-01-05  2020-01-05  0OS9LVX   \n",
       "4  0OS9LVX X 2020-01-06  2020-01-06  0OS9LVX   \n",
       "\n",
       "   precipitable_water_entire_atmosphere  relative_humidity_2m_above_ground  \\\n",
       "0                             11.600000                          30.200001   \n",
       "1                             18.300001                          42.900002   \n",
       "2                             17.600000                          41.299999   \n",
       "3                             15.011948                          53.100002   \n",
       "4                              9.700000                          71.599998   \n",
       "\n",
       "   specific_humidity_2m_above_ground  temperature_2m_above_ground  \\\n",
       "0                            0.00409                    14.656824   \n",
       "1                            0.00595                    15.026544   \n",
       "2                            0.00590                    15.511041   \n",
       "3                            0.00709                    14.441858   \n",
       "4                            0.00808                    11.896295   \n",
       "\n",
       "   u_component_of_wind_10m_above_ground  v_component_of_wind_10m_above_ground  \\\n",
       "0                              3.956377                              0.712605   \n",
       "1                              4.230430                              0.661892   \n",
       "2                              5.245728                              1.640559   \n",
       "3                              5.454001                             -0.190532   \n",
       "4                              3.511787                             -0.279441   \n",
       "\n",
       "   L3_NO2_NO2_column_number_density  ...  L3_SO2_sensor_zenith_angle  \\\n",
       "0                          0.000053  ...                    1.445658   \n",
       "1                          0.000050  ...                   34.641758   \n",
       "2                          0.000050  ...                   55.872276   \n",
       "3                          0.000055  ...                   59.174188   \n",
       "4                          0.000055  ...                   40.925873   \n",
       "\n",
       "   L3_SO2_solar_azimuth_angle  L3_SO2_solar_zenith_angle  \\\n",
       "0                  -95.984984                  22.942019   \n",
       "1                  -95.014908                  18.539116   \n",
       "2                  -94.015418                  14.140820   \n",
       "3                  -97.247602                  32.730553   \n",
       "4                  -96.057265                  28.320527   \n",
       "\n",
       "   L3_CH4_CH4_column_volume_mixing_ratio_dry_air  L3_CH4_aerosol_height  \\\n",
       "0                                            NaN                    NaN   \n",
       "1                                            NaN                    NaN   \n",
       "2                                            NaN                    NaN   \n",
       "3                                            NaN                    NaN   \n",
       "4                                    1831.261597            3229.118652   \n",
       "\n",
       "   L3_CH4_aerosol_optical_depth  L3_CH4_sensor_azimuth_angle  \\\n",
       "0                           NaN                          NaN   \n",
       "1                           NaN                          NaN   \n",
       "2                           NaN                          NaN   \n",
       "3                           NaN                          NaN   \n",
       "4                      0.031068                  -100.278343   \n",
       "\n",
       "   L3_CH4_sensor_zenith_angle  L3_CH4_solar_azimuth_angle  \\\n",
       "0                         NaN                         NaN   \n",
       "1                         NaN                         NaN   \n",
       "2                         NaN                         NaN   \n",
       "3                         NaN                         NaN   \n",
       "4                    41.84708                  -95.910744   \n",
       "\n",
       "   L3_CH4_solar_zenith_angle  \n",
       "0                        NaN  \n",
       "1                        NaN  \n",
       "2                        NaN  \n",
       "3                        NaN  \n",
       "4                  28.498789  \n",
       "\n",
       "[5 rows x 77 columns]"
      ]
     },
     "execution_count": 8,
     "metadata": {},
     "output_type": "execute_result"
    }
   ],
   "source": [
    "test_df.head()"
   ]
  },
  {
   "cell_type": "code",
   "execution_count": 9,
   "id": "2c469862",
   "metadata": {
    "execution": {
     "iopub.execute_input": "2022-07-21T10:06:56.409351Z",
     "iopub.status.busy": "2022-07-21T10:06:56.409050Z",
     "iopub.status.idle": "2022-07-21T10:06:56.413682Z",
     "shell.execute_reply": "2022-07-21T10:06:56.412733Z"
    },
    "papermill": {
     "duration": 0.015925,
     "end_time": "2022-07-21T10:06:56.415832",
     "exception": false,
     "start_time": "2022-07-21T10:06:56.399907",
     "status": "completed"
    },
    "tags": []
   },
   "outputs": [],
   "source": [
    "L=[i for i in train_df.columns if i not in test_df.columns]"
   ]
  },
  {
   "cell_type": "code",
   "execution_count": 10,
   "id": "a4cefba4",
   "metadata": {
    "execution": {
     "iopub.execute_input": "2022-07-21T10:06:56.433442Z",
     "iopub.status.busy": "2022-07-21T10:06:56.433128Z",
     "iopub.status.idle": "2022-07-21T10:06:56.438837Z",
     "shell.execute_reply": "2022-07-21T10:06:56.437960Z"
    },
    "papermill": {
     "duration": 0.016993,
     "end_time": "2022-07-21T10:06:56.440814",
     "exception": false,
     "start_time": "2022-07-21T10:06:56.423821",
     "status": "completed"
    },
    "tags": []
   },
   "outputs": [
    {
     "data": {
      "text/plain": [
       "['target', 'target_min', 'target_max', 'target_variance', 'target_count']"
      ]
     },
     "execution_count": 10,
     "metadata": {},
     "output_type": "execute_result"
    }
   ],
   "source": [
    "L"
   ]
  },
  {
   "cell_type": "code",
   "execution_count": 11,
   "id": "3b02ee2e",
   "metadata": {
    "execution": {
     "iopub.execute_input": "2022-07-21T10:06:56.458213Z",
     "iopub.status.busy": "2022-07-21T10:06:56.457918Z",
     "iopub.status.idle": "2022-07-21T10:06:56.468699Z",
     "shell.execute_reply": "2022-07-21T10:06:56.467613Z"
    },
    "papermill": {
     "duration": 0.022172,
     "end_time": "2022-07-21T10:06:56.471092",
     "exception": false,
     "start_time": "2022-07-21T10:06:56.448920",
     "status": "completed"
    },
    "tags": []
   },
   "outputs": [
    {
     "data": {
      "text/plain": [
       "375"
      ]
     },
     "execution_count": 11,
     "metadata": {},
     "output_type": "execute_result"
    }
   ],
   "source": [
    "train_df[\"target\"].nunique()"
   ]
  },
  {
   "cell_type": "code",
   "execution_count": 12,
   "id": "637b5a34",
   "metadata": {
    "execution": {
     "iopub.execute_input": "2022-07-21T10:06:56.490090Z",
     "iopub.status.busy": "2022-07-21T10:06:56.489793Z",
     "iopub.status.idle": "2022-07-21T10:06:56.512146Z",
     "shell.execute_reply": "2022-07-21T10:06:56.511114Z"
    },
    "papermill": {
     "duration": 0.03392,
     "end_time": "2022-07-21T10:06:56.514438",
     "exception": false,
     "start_time": "2022-07-21T10:06:56.480518",
     "status": "completed"
    },
    "tags": []
   },
   "outputs": [
    {
     "data": {
      "text/plain": [
       "L3_CH4_solar_zenith_angle                              24765\n",
       "L3_CH4_solar_azimuth_angle                             24765\n",
       "L3_CH4_sensor_zenith_angle                             24765\n",
       "L3_CH4_sensor_azimuth_angle                            24765\n",
       "L3_CH4_aerosol_optical_depth                           24765\n",
       "L3_CH4_aerosol_height                                  24765\n",
       "L3_CH4_CH4_column_volume_mixing_ratio_dry_air          24765\n",
       "L3_NO2_tropospheric_NO2_column_number_density           8669\n",
       "L3_HCHO_tropospheric_HCHO_column_number_density_amf     7425\n",
       "L3_HCHO_tropospheric_HCHO_column_number_density         7425\n",
       "L3_HCHO_solar_zenith_angle                              7425\n",
       "L3_HCHO_solar_azimuth_angle                             7425\n",
       "L3_HCHO_sensor_zenith_angle                             7425\n",
       "L3_HCHO_sensor_azimuth_angle                            7425\n",
       "L3_HCHO_cloud_fraction                                  7425\n",
       "L3_HCHO_HCHO_slant_column_number_density                7425\n",
       "L3_SO2_absorbing_aerosol_index                          7308\n",
       "L3_SO2_SO2_slant_column_number_density                  7237\n",
       "L3_SO2_solar_zenith_angle                               7237\n",
       "L3_SO2_SO2_column_number_density_amf                    7237\n",
       "dtype: int64"
      ]
     },
     "execution_count": 12,
     "metadata": {},
     "output_type": "execute_result"
    }
   ],
   "source": [
    "train_df.isna().sum().sort_values(ascending =False).head(20)"
   ]
  },
  {
   "cell_type": "code",
   "execution_count": 13,
   "id": "ff97dfe9",
   "metadata": {
    "execution": {
     "iopub.execute_input": "2022-07-21T10:06:56.532688Z",
     "iopub.status.busy": "2022-07-21T10:06:56.532380Z",
     "iopub.status.idle": "2022-07-21T10:06:56.555269Z",
     "shell.execute_reply": "2022-07-21T10:06:56.554186Z"
    },
    "papermill": {
     "duration": 0.034844,
     "end_time": "2022-07-21T10:06:56.557659",
     "exception": false,
     "start_time": "2022-07-21T10:06:56.522815",
     "status": "completed"
    },
    "tags": []
   },
   "outputs": [
    {
     "data": {
      "text/plain": [
       "L3_CH4_solar_zenith_angle                              0.810453\n",
       "L3_CH4_solar_azimuth_angle                             0.810453\n",
       "L3_CH4_sensor_zenith_angle                             0.810453\n",
       "L3_CH4_sensor_azimuth_angle                            0.810453\n",
       "L3_CH4_aerosol_optical_depth                           0.810453\n",
       "L3_CH4_aerosol_height                                  0.810453\n",
       "L3_CH4_CH4_column_volume_mixing_ratio_dry_air          0.810453\n",
       "L3_NO2_tropospheric_NO2_column_number_density          0.283699\n",
       "L3_HCHO_tropospheric_HCHO_column_number_density_amf    0.242989\n",
       "L3_HCHO_tropospheric_HCHO_column_number_density        0.242989\n",
       "L3_HCHO_solar_zenith_angle                             0.242989\n",
       "L3_HCHO_solar_azimuth_angle                            0.242989\n",
       "L3_HCHO_sensor_zenith_angle                            0.242989\n",
       "L3_HCHO_sensor_azimuth_angle                           0.242989\n",
       "L3_HCHO_cloud_fraction                                 0.242989\n",
       "L3_HCHO_HCHO_slant_column_number_density               0.242989\n",
       "L3_SO2_absorbing_aerosol_index                         0.239160\n",
       "L3_SO2_SO2_slant_column_number_density                 0.236836\n",
       "L3_SO2_solar_zenith_angle                              0.236836\n",
       "L3_SO2_SO2_column_number_density_amf                   0.236836\n",
       "dtype: float64"
      ]
     },
     "execution_count": 13,
     "metadata": {},
     "output_type": "execute_result"
    }
   ],
   "source": [
    "train_df.isna().sum().sort_values(ascending =False).head(20)/len(train_df)"
   ]
  },
  {
   "cell_type": "code",
   "execution_count": 14,
   "id": "14c84e37",
   "metadata": {
    "execution": {
     "iopub.execute_input": "2022-07-21T10:06:56.576709Z",
     "iopub.status.busy": "2022-07-21T10:06:56.576391Z",
     "iopub.status.idle": "2022-07-21T10:06:56.590060Z",
     "shell.execute_reply": "2022-07-21T10:06:56.589169Z"
    },
    "papermill": {
     "duration": 0.025849,
     "end_time": "2022-07-21T10:06:56.592389",
     "exception": false,
     "start_time": "2022-07-21T10:06:56.566540",
     "status": "completed"
    },
    "tags": []
   },
   "outputs": [],
   "source": [
    "train_df.drop([\"L3_CH4_solar_zenith_angle\",\"L3_CH4_solar_azimuth_angle\",\"L3_CH4_sensor_zenith_angle\",\"L3_CH4_sensor_azimuth_angle\",\"L3_CH4_aerosol_optical_depth\",\n",
    "             \"L3_CH4_aerosol_height\",\"L3_CH4_CH4_column_volume_mixing_ratio_dry_air\",\"Place_ID X Date\",\"Place_ID\"], axis=1, inplace=True)\n"
   ]
  },
  {
   "cell_type": "code",
   "execution_count": 15,
   "id": "64d3065f",
   "metadata": {
    "execution": {
     "iopub.execute_input": "2022-07-21T10:06:56.614201Z",
     "iopub.status.busy": "2022-07-21T10:06:56.613844Z",
     "iopub.status.idle": "2022-07-21T10:06:56.620242Z",
     "shell.execute_reply": "2022-07-21T10:06:56.619217Z"
    },
    "papermill": {
     "duration": 0.019853,
     "end_time": "2022-07-21T10:06:56.622395",
     "exception": false,
     "start_time": "2022-07-21T10:06:56.602542",
     "status": "completed"
    },
    "tags": []
   },
   "outputs": [
    {
     "data": {
      "text/plain": [
       "(30557, 73)"
      ]
     },
     "execution_count": 15,
     "metadata": {},
     "output_type": "execute_result"
    }
   ],
   "source": [
    "train_df.shape"
   ]
  },
  {
   "cell_type": "code",
   "execution_count": 16,
   "id": "7417e50f",
   "metadata": {
    "execution": {
     "iopub.execute_input": "2022-07-21T10:06:56.644149Z",
     "iopub.status.busy": "2022-07-21T10:06:56.643109Z",
     "iopub.status.idle": "2022-07-21T10:06:56.671496Z",
     "shell.execute_reply": "2022-07-21T10:06:56.670360Z"
    },
    "papermill": {
     "duration": 0.042405,
     "end_time": "2022-07-21T10:06:56.674842",
     "exception": false,
     "start_time": "2022-07-21T10:06:56.632437",
     "status": "completed"
    },
    "tags": []
   },
   "outputs": [
    {
     "data": {
      "text/html": [
       "<div>\n",
       "<style scoped>\n",
       "    .dataframe tbody tr th:only-of-type {\n",
       "        vertical-align: middle;\n",
       "    }\n",
       "\n",
       "    .dataframe tbody tr th {\n",
       "        vertical-align: top;\n",
       "    }\n",
       "\n",
       "    .dataframe thead th {\n",
       "        text-align: right;\n",
       "    }\n",
       "</style>\n",
       "<table border=\"1\" class=\"dataframe\">\n",
       "  <thead>\n",
       "    <tr style=\"text-align: right;\">\n",
       "      <th></th>\n",
       "      <th>Date</th>\n",
       "      <th>target</th>\n",
       "      <th>target_min</th>\n",
       "      <th>target_max</th>\n",
       "      <th>target_variance</th>\n",
       "      <th>target_count</th>\n",
       "      <th>precipitable_water_entire_atmosphere</th>\n",
       "      <th>relative_humidity_2m_above_ground</th>\n",
       "      <th>specific_humidity_2m_above_ground</th>\n",
       "      <th>temperature_2m_above_ground</th>\n",
       "      <th>...</th>\n",
       "      <th>L3_AER_AI_solar_zenith_angle</th>\n",
       "      <th>L3_SO2_SO2_column_number_density</th>\n",
       "      <th>L3_SO2_SO2_column_number_density_amf</th>\n",
       "      <th>L3_SO2_SO2_slant_column_number_density</th>\n",
       "      <th>L3_SO2_absorbing_aerosol_index</th>\n",
       "      <th>L3_SO2_cloud_fraction</th>\n",
       "      <th>L3_SO2_sensor_azimuth_angle</th>\n",
       "      <th>L3_SO2_sensor_zenith_angle</th>\n",
       "      <th>L3_SO2_solar_azimuth_angle</th>\n",
       "      <th>L3_SO2_solar_zenith_angle</th>\n",
       "    </tr>\n",
       "  </thead>\n",
       "  <tbody>\n",
       "    <tr>\n",
       "      <th>0</th>\n",
       "      <td>2020-01-02</td>\n",
       "      <td>38.0</td>\n",
       "      <td>23.0</td>\n",
       "      <td>53.0</td>\n",
       "      <td>769.50</td>\n",
       "      <td>92</td>\n",
       "      <td>11.000000</td>\n",
       "      <td>60.200001</td>\n",
       "      <td>0.00804</td>\n",
       "      <td>18.516840</td>\n",
       "      <td>...</td>\n",
       "      <td>22.358167</td>\n",
       "      <td>-0.000127</td>\n",
       "      <td>0.312521</td>\n",
       "      <td>-0.000040</td>\n",
       "      <td>-1.861476</td>\n",
       "      <td>0.000000</td>\n",
       "      <td>76.536426</td>\n",
       "      <td>38.593017</td>\n",
       "      <td>-61.752587</td>\n",
       "      <td>22.363665</td>\n",
       "    </tr>\n",
       "    <tr>\n",
       "      <th>1</th>\n",
       "      <td>2020-01-03</td>\n",
       "      <td>39.0</td>\n",
       "      <td>25.0</td>\n",
       "      <td>63.0</td>\n",
       "      <td>1319.85</td>\n",
       "      <td>91</td>\n",
       "      <td>14.600000</td>\n",
       "      <td>48.799999</td>\n",
       "      <td>0.00839</td>\n",
       "      <td>22.546533</td>\n",
       "      <td>...</td>\n",
       "      <td>28.614804</td>\n",
       "      <td>0.000150</td>\n",
       "      <td>0.433957</td>\n",
       "      <td>0.000050</td>\n",
       "      <td>-1.452612</td>\n",
       "      <td>0.059433</td>\n",
       "      <td>-14.708036</td>\n",
       "      <td>59.624912</td>\n",
       "      <td>-67.693509</td>\n",
       "      <td>28.614804</td>\n",
       "    </tr>\n",
       "    <tr>\n",
       "      <th>2</th>\n",
       "      <td>2020-01-04</td>\n",
       "      <td>24.0</td>\n",
       "      <td>8.0</td>\n",
       "      <td>56.0</td>\n",
       "      <td>1181.96</td>\n",
       "      <td>96</td>\n",
       "      <td>16.400000</td>\n",
       "      <td>33.400002</td>\n",
       "      <td>0.00750</td>\n",
       "      <td>27.031030</td>\n",
       "      <td>...</td>\n",
       "      <td>34.296977</td>\n",
       "      <td>0.000150</td>\n",
       "      <td>0.356925</td>\n",
       "      <td>0.000053</td>\n",
       "      <td>-1.572950</td>\n",
       "      <td>0.082063</td>\n",
       "      <td>-105.201338</td>\n",
       "      <td>49.839714</td>\n",
       "      <td>-78.342701</td>\n",
       "      <td>34.296977</td>\n",
       "    </tr>\n",
       "    <tr>\n",
       "      <th>3</th>\n",
       "      <td>2020-01-05</td>\n",
       "      <td>49.0</td>\n",
       "      <td>10.0</td>\n",
       "      <td>55.0</td>\n",
       "      <td>1113.67</td>\n",
       "      <td>96</td>\n",
       "      <td>6.911948</td>\n",
       "      <td>21.300001</td>\n",
       "      <td>0.00391</td>\n",
       "      <td>23.971857</td>\n",
       "      <td>...</td>\n",
       "      <td>30.545393</td>\n",
       "      <td>0.000227</td>\n",
       "      <td>0.584522</td>\n",
       "      <td>0.000110</td>\n",
       "      <td>-1.239317</td>\n",
       "      <td>0.121261</td>\n",
       "      <td>-104.334066</td>\n",
       "      <td>29.181258</td>\n",
       "      <td>-73.896588</td>\n",
       "      <td>30.545446</td>\n",
       "    </tr>\n",
       "    <tr>\n",
       "      <th>4</th>\n",
       "      <td>2020-01-06</td>\n",
       "      <td>21.0</td>\n",
       "      <td>9.0</td>\n",
       "      <td>52.0</td>\n",
       "      <td>1164.82</td>\n",
       "      <td>95</td>\n",
       "      <td>13.900001</td>\n",
       "      <td>44.700001</td>\n",
       "      <td>0.00535</td>\n",
       "      <td>16.816309</td>\n",
       "      <td>...</td>\n",
       "      <td>26.899694</td>\n",
       "      <td>0.000390</td>\n",
       "      <td>0.408047</td>\n",
       "      <td>0.000159</td>\n",
       "      <td>0.202489</td>\n",
       "      <td>0.037919</td>\n",
       "      <td>58.850179</td>\n",
       "      <td>0.797294</td>\n",
       "      <td>-68.612480</td>\n",
       "      <td>26.899694</td>\n",
       "    </tr>\n",
       "  </tbody>\n",
       "</table>\n",
       "<p>5 rows × 73 columns</p>\n",
       "</div>"
      ],
      "text/plain": [
       "         Date  target  target_min  target_max  target_variance  target_count  \\\n",
       "0  2020-01-02    38.0        23.0        53.0           769.50            92   \n",
       "1  2020-01-03    39.0        25.0        63.0          1319.85            91   \n",
       "2  2020-01-04    24.0         8.0        56.0          1181.96            96   \n",
       "3  2020-01-05    49.0        10.0        55.0          1113.67            96   \n",
       "4  2020-01-06    21.0         9.0        52.0          1164.82            95   \n",
       "\n",
       "   precipitable_water_entire_atmosphere  relative_humidity_2m_above_ground  \\\n",
       "0                             11.000000                          60.200001   \n",
       "1                             14.600000                          48.799999   \n",
       "2                             16.400000                          33.400002   \n",
       "3                              6.911948                          21.300001   \n",
       "4                             13.900001                          44.700001   \n",
       "\n",
       "   specific_humidity_2m_above_ground  temperature_2m_above_ground  ...  \\\n",
       "0                            0.00804                    18.516840  ...   \n",
       "1                            0.00839                    22.546533  ...   \n",
       "2                            0.00750                    27.031030  ...   \n",
       "3                            0.00391                    23.971857  ...   \n",
       "4                            0.00535                    16.816309  ...   \n",
       "\n",
       "   L3_AER_AI_solar_zenith_angle  L3_SO2_SO2_column_number_density  \\\n",
       "0                     22.358167                         -0.000127   \n",
       "1                     28.614804                          0.000150   \n",
       "2                     34.296977                          0.000150   \n",
       "3                     30.545393                          0.000227   \n",
       "4                     26.899694                          0.000390   \n",
       "\n",
       "   L3_SO2_SO2_column_number_density_amf  \\\n",
       "0                              0.312521   \n",
       "1                              0.433957   \n",
       "2                              0.356925   \n",
       "3                              0.584522   \n",
       "4                              0.408047   \n",
       "\n",
       "   L3_SO2_SO2_slant_column_number_density  L3_SO2_absorbing_aerosol_index  \\\n",
       "0                               -0.000040                       -1.861476   \n",
       "1                                0.000050                       -1.452612   \n",
       "2                                0.000053                       -1.572950   \n",
       "3                                0.000110                       -1.239317   \n",
       "4                                0.000159                        0.202489   \n",
       "\n",
       "   L3_SO2_cloud_fraction  L3_SO2_sensor_azimuth_angle  \\\n",
       "0               0.000000                    76.536426   \n",
       "1               0.059433                   -14.708036   \n",
       "2               0.082063                  -105.201338   \n",
       "3               0.121261                  -104.334066   \n",
       "4               0.037919                    58.850179   \n",
       "\n",
       "   L3_SO2_sensor_zenith_angle  L3_SO2_solar_azimuth_angle  \\\n",
       "0                   38.593017                  -61.752587   \n",
       "1                   59.624912                  -67.693509   \n",
       "2                   49.839714                  -78.342701   \n",
       "3                   29.181258                  -73.896588   \n",
       "4                    0.797294                  -68.612480   \n",
       "\n",
       "   L3_SO2_solar_zenith_angle  \n",
       "0                  22.363665  \n",
       "1                  28.614804  \n",
       "2                  34.296977  \n",
       "3                  30.545446  \n",
       "4                  26.899694  \n",
       "\n",
       "[5 rows x 73 columns]"
      ]
     },
     "execution_count": 16,
     "metadata": {},
     "output_type": "execute_result"
    }
   ],
   "source": [
    "train_df.head()"
   ]
  },
  {
   "cell_type": "code",
   "execution_count": 17,
   "id": "f189a5e4",
   "metadata": {
    "execution": {
     "iopub.execute_input": "2022-07-21T10:06:56.695032Z",
     "iopub.status.busy": "2022-07-21T10:06:56.694717Z",
     "iopub.status.idle": "2022-07-21T10:06:56.725417Z",
     "shell.execute_reply": "2022-07-21T10:06:56.724369Z"
    },
    "papermill": {
     "duration": 0.044109,
     "end_time": "2022-07-21T10:06:56.728688",
     "exception": false,
     "start_time": "2022-07-21T10:06:56.684579",
     "status": "completed"
    },
    "tags": []
   },
   "outputs": [
    {
     "name": "stdout",
     "output_type": "stream",
     "text": [
      "<class 'pandas.core.frame.DataFrame'>\n",
      "RangeIndex: 30557 entries, 0 to 30556\n",
      "Data columns (total 73 columns):\n",
      " #   Column                                               Non-Null Count  Dtype  \n",
      "---  ------                                               --------------  -----  \n",
      " 0   Date                                                 30557 non-null  object \n",
      " 1   target                                               30557 non-null  float64\n",
      " 2   target_min                                           30557 non-null  float64\n",
      " 3   target_max                                           30557 non-null  float64\n",
      " 4   target_variance                                      30557 non-null  float64\n",
      " 5   target_count                                         30557 non-null  int64  \n",
      " 6   precipitable_water_entire_atmosphere                 30557 non-null  float64\n",
      " 7   relative_humidity_2m_above_ground                    30557 non-null  float64\n",
      " 8   specific_humidity_2m_above_ground                    30557 non-null  float64\n",
      " 9   temperature_2m_above_ground                          30557 non-null  float64\n",
      " 10  u_component_of_wind_10m_above_ground                 30557 non-null  float64\n",
      " 11  v_component_of_wind_10m_above_ground                 30557 non-null  float64\n",
      " 12  L3_NO2_NO2_column_number_density                     28368 non-null  float64\n",
      " 13  L3_NO2_NO2_slant_column_number_density               28368 non-null  float64\n",
      " 14  L3_NO2_absorbing_aerosol_index                       28368 non-null  float64\n",
      " 15  L3_NO2_cloud_fraction                                28368 non-null  float64\n",
      " 16  L3_NO2_sensor_altitude                               28368 non-null  float64\n",
      " 17  L3_NO2_sensor_azimuth_angle                          28367 non-null  float64\n",
      " 18  L3_NO2_sensor_zenith_angle                           28367 non-null  float64\n",
      " 19  L3_NO2_solar_azimuth_angle                           28367 non-null  float64\n",
      " 20  L3_NO2_solar_zenith_angle                            28367 non-null  float64\n",
      " 21  L3_NO2_stratospheric_NO2_column_number_density       28367 non-null  float64\n",
      " 22  L3_NO2_tropopause_pressure                           28367 non-null  float64\n",
      " 23  L3_NO2_tropospheric_NO2_column_number_density        21888 non-null  float64\n",
      " 24  L3_O3_O3_column_number_density                       30274 non-null  float64\n",
      " 25  L3_O3_O3_effective_temperature                       30274 non-null  float64\n",
      " 26  L3_O3_cloud_fraction                                 30274 non-null  float64\n",
      " 27  L3_O3_sensor_azimuth_angle                           30274 non-null  float64\n",
      " 28  L3_O3_sensor_zenith_angle                            30274 non-null  float64\n",
      " 29  L3_O3_solar_azimuth_angle                            30274 non-null  float64\n",
      " 30  L3_O3_solar_zenith_angle                             30274 non-null  float64\n",
      " 31  L3_CO_CO_column_number_density                       25134 non-null  float64\n",
      " 32  L3_CO_H2O_column_number_density                      25134 non-null  float64\n",
      " 33  L3_CO_cloud_height                                   25134 non-null  float64\n",
      " 34  L3_CO_sensor_altitude                                25134 non-null  float64\n",
      " 35  L3_CO_sensor_azimuth_angle                           25134 non-null  float64\n",
      " 36  L3_CO_sensor_zenith_angle                            25134 non-null  float64\n",
      " 37  L3_CO_solar_azimuth_angle                            25134 non-null  float64\n",
      " 38  L3_CO_solar_zenith_angle                             25134 non-null  float64\n",
      " 39  L3_HCHO_HCHO_slant_column_number_density             23132 non-null  float64\n",
      " 40  L3_HCHO_cloud_fraction                               23132 non-null  float64\n",
      " 41  L3_HCHO_sensor_azimuth_angle                         23132 non-null  float64\n",
      " 42  L3_HCHO_sensor_zenith_angle                          23132 non-null  float64\n",
      " 43  L3_HCHO_solar_azimuth_angle                          23132 non-null  float64\n",
      " 44  L3_HCHO_solar_zenith_angle                           23132 non-null  float64\n",
      " 45  L3_HCHO_tropospheric_HCHO_column_number_density      23132 non-null  float64\n",
      " 46  L3_HCHO_tropospheric_HCHO_column_number_density_amf  23132 non-null  float64\n",
      " 47  L3_CLOUD_cloud_base_height                           29035 non-null  float64\n",
      " 48  L3_CLOUD_cloud_base_pressure                         29035 non-null  float64\n",
      " 49  L3_CLOUD_cloud_fraction                              30183 non-null  float64\n",
      " 50  L3_CLOUD_cloud_optical_depth                         29035 non-null  float64\n",
      " 51  L3_CLOUD_cloud_top_height                            29035 non-null  float64\n",
      " 52  L3_CLOUD_cloud_top_pressure                          29035 non-null  float64\n",
      " 53  L3_CLOUD_sensor_azimuth_angle                        30183 non-null  float64\n",
      " 54  L3_CLOUD_sensor_zenith_angle                         30183 non-null  float64\n",
      " 55  L3_CLOUD_solar_azimuth_angle                         30183 non-null  float64\n",
      " 56  L3_CLOUD_solar_zenith_angle                          30183 non-null  float64\n",
      " 57  L3_CLOUD_surface_albedo                              29035 non-null  float64\n",
      " 58  L3_AER_AI_absorbing_aerosol_index                    30360 non-null  float64\n",
      " 59  L3_AER_AI_sensor_altitude                            30360 non-null  float64\n",
      " 60  L3_AER_AI_sensor_azimuth_angle                       30360 non-null  float64\n",
      " 61  L3_AER_AI_sensor_zenith_angle                        30360 non-null  float64\n",
      " 62  L3_AER_AI_solar_azimuth_angle                        30360 non-null  float64\n",
      " 63  L3_AER_AI_solar_zenith_angle                         30360 non-null  float64\n",
      " 64  L3_SO2_SO2_column_number_density                     23320 non-null  float64\n",
      " 65  L3_SO2_SO2_column_number_density_amf                 23320 non-null  float64\n",
      " 66  L3_SO2_SO2_slant_column_number_density               23320 non-null  float64\n",
      " 67  L3_SO2_absorbing_aerosol_index                       23249 non-null  float64\n",
      " 68  L3_SO2_cloud_fraction                                23320 non-null  float64\n",
      " 69  L3_SO2_sensor_azimuth_angle                          23320 non-null  float64\n",
      " 70  L3_SO2_sensor_zenith_angle                           23320 non-null  float64\n",
      " 71  L3_SO2_solar_azimuth_angle                           23320 non-null  float64\n",
      " 72  L3_SO2_solar_zenith_angle                            23320 non-null  float64\n",
      "dtypes: float64(71), int64(1), object(1)\n",
      "memory usage: 17.0+ MB\n"
     ]
    }
   ],
   "source": [
    "train_df.info()"
   ]
  },
  {
   "cell_type": "code",
   "execution_count": 18,
   "id": "0f9eae4f",
   "metadata": {
    "execution": {
     "iopub.execute_input": "2022-07-21T10:06:56.752629Z",
     "iopub.status.busy": "2022-07-21T10:06:56.751743Z",
     "iopub.status.idle": "2022-07-21T10:06:56.757019Z",
     "shell.execute_reply": "2022-07-21T10:06:56.755971Z"
    },
    "papermill": {
     "duration": 0.020654,
     "end_time": "2022-07-21T10:06:56.759410",
     "exception": false,
     "start_time": "2022-07-21T10:06:56.738756",
     "status": "completed"
    },
    "tags": []
   },
   "outputs": [],
   "source": [
    "# import caalltegory_encoders as ce\n",
    "# ordenc=ce.OrdinalEncoder(cols=['Espèce'])\n",
    "# train_df=ordenc.fit_transform(train_df)\n",
    "# Test=ordenc.fit_transform(Test)"
   ]
  },
  {
   "cell_type": "code",
   "execution_count": 19,
   "id": "53b9f0a8",
   "metadata": {
    "execution": {
     "iopub.execute_input": "2022-07-21T10:06:56.782559Z",
     "iopub.status.busy": "2022-07-21T10:06:56.781564Z",
     "iopub.status.idle": "2022-07-21T10:06:56.816483Z",
     "shell.execute_reply": "2022-07-21T10:06:56.815511Z"
    },
    "papermill": {
     "duration": 0.049076,
     "end_time": "2022-07-21T10:06:56.819006",
     "exception": false,
     "start_time": "2022-07-21T10:06:56.769930",
     "status": "completed"
    },
    "tags": []
   },
   "outputs": [],
   "source": [
    "import datetime as dt\n",
    "train_df[\"Date\"]=pd.to_datetime(train_df[\"Date\"])\n",
    "train_df['Date_year'] =train_df[\"Date\"].dt.year\n",
    "train_df['Date_month'] = train_df[\"Date\"].dt.month\n",
    "train_df['Date_day'] = train_df[\"Date\"].dt.day\n",
    "train_df.drop(\"Date\", axis=1, inplace=True)"
   ]
  },
  {
   "cell_type": "code",
   "execution_count": 20,
   "id": "78770ab1",
   "metadata": {
    "execution": {
     "iopub.execute_input": "2022-07-21T10:06:56.839808Z",
     "iopub.status.busy": "2022-07-21T10:06:56.839481Z",
     "iopub.status.idle": "2022-07-21T10:06:56.843879Z",
     "shell.execute_reply": "2022-07-21T10:06:56.842903Z"
    },
    "papermill": {
     "duration": 0.017247,
     "end_time": "2022-07-21T10:06:56.845922",
     "exception": false,
     "start_time": "2022-07-21T10:06:56.828675",
     "status": "completed"
    },
    "tags": []
   },
   "outputs": [],
   "source": [
    "# from sklearn.experimental import enable_iterative_imputer\n",
    "# from sklearn.impute import IterativeImputer\n",
    "# from sklearn.ensemble import RandomForestRegressor\n",
    "# estimator=RandomForestRegressor(max_depth=8)\n",
    "# mice = IterativeImputer(estimator=estimator,random_state=11,skip_complete=True)\n",
    "# # impdata=mice.fit_transform(train_df)\n",
    "# # impdata=pd.DataFrame(impdata,columns=train_df.columns)"
   ]
  },
  {
   "cell_type": "code",
   "execution_count": 21,
   "id": "c6a15de8",
   "metadata": {
    "execution": {
     "iopub.execute_input": "2022-07-21T10:06:56.864875Z",
     "iopub.status.busy": "2022-07-21T10:06:56.864577Z",
     "iopub.status.idle": "2022-07-21T10:06:56.877196Z",
     "shell.execute_reply": "2022-07-21T10:06:56.876190Z"
    },
    "papermill": {
     "duration": 0.024311,
     "end_time": "2022-07-21T10:06:56.879140",
     "exception": false,
     "start_time": "2022-07-21T10:06:56.854829",
     "status": "completed"
    },
    "tags": []
   },
   "outputs": [],
   "source": [
    "train=train_df.drop(\"target\",axis=1)"
   ]
  },
  {
   "cell_type": "code",
   "execution_count": 22,
   "id": "9307860d",
   "metadata": {
    "execution": {
     "iopub.execute_input": "2022-07-21T10:06:56.900548Z",
     "iopub.status.busy": "2022-07-21T10:06:56.898905Z",
     "iopub.status.idle": "2022-07-21T10:06:56.924969Z",
     "shell.execute_reply": "2022-07-21T10:06:56.924043Z"
    },
    "papermill": {
     "duration": 0.038343,
     "end_time": "2022-07-21T10:06:56.927167",
     "exception": false,
     "start_time": "2022-07-21T10:06:56.888824",
     "status": "completed"
    },
    "tags": []
   },
   "outputs": [],
   "source": [
    "test_df.drop([\"L3_CH4_solar_zenith_angle\",\"L3_CH4_solar_azimuth_angle\",\"L3_CH4_sensor_zenith_angle\",\"L3_CH4_sensor_azimuth_angle\",\"L3_CH4_aerosol_optical_depth\",\n",
    "             \"L3_CH4_aerosol_height\",\"L3_CH4_CH4_column_volume_mixing_ratio_dry_air\",\"Place_ID X Date\",\"Place_ID\"], axis=1, inplace=True)\n",
    "\n",
    "test_df[\"Date\"]=pd.to_datetime(test_df[\"Date\"])\n",
    "test_df['Date_year'] =test_df[\"Date\"].dt.year\n",
    "test_df['Date_month'] = test_df[\"Date\"].dt.month\n",
    "test_df['Date_day'] = test_df[\"Date\"].dt.day\n",
    "test_df.drop(\"Date\", axis=1, inplace=True)\n",
    "# test_impdata=mice.transform(test_df)\n",
    "# test_imputed=pd.DataFrame(test_impdata,columns=train_df.columns)"
   ]
  },
  {
   "cell_type": "code",
   "execution_count": 23,
   "id": "559e2d0f",
   "metadata": {
    "execution": {
     "iopub.execute_input": "2022-07-21T10:06:56.948172Z",
     "iopub.status.busy": "2022-07-21T10:06:56.947265Z",
     "iopub.status.idle": "2022-07-21T10:06:56.955288Z",
     "shell.execute_reply": "2022-07-21T10:06:56.954432Z"
    },
    "papermill": {
     "duration": 0.020583,
     "end_time": "2022-07-21T10:06:56.957240",
     "exception": false,
     "start_time": "2022-07-21T10:06:56.936657",
     "status": "completed"
    },
    "tags": []
   },
   "outputs": [],
   "source": [
    "test_df[\"1\"]=range(test_df.shape[0])\n",
    "test_df[\"2\"]=range(test_df.shape[0])\n",
    "test_df[\"3\"]=range(test_df.shape[0])\n",
    "test_df[\"4\"]=range(test_df.shape[0])"
   ]
  },
  {
   "cell_type": "code",
   "execution_count": 24,
   "id": "074523f9",
   "metadata": {
    "execution": {
     "iopub.execute_input": "2022-07-21T10:06:56.976991Z",
     "iopub.status.busy": "2022-07-21T10:06:56.976419Z",
     "iopub.status.idle": "2022-07-21T10:06:56.981791Z",
     "shell.execute_reply": "2022-07-21T10:06:56.980737Z"
    },
    "papermill": {
     "duration": 0.018036,
     "end_time": "2022-07-21T10:06:56.984455",
     "exception": false,
     "start_time": "2022-07-21T10:06:56.966419",
     "status": "completed"
    },
    "tags": []
   },
   "outputs": [],
   "source": [
    "y_train = train_df[[\"target\"]]"
   ]
  },
  {
   "cell_type": "code",
   "execution_count": 25,
   "id": "3704d38f",
   "metadata": {
    "execution": {
     "iopub.execute_input": "2022-07-21T10:06:57.005114Z",
     "iopub.status.busy": "2022-07-21T10:06:57.004256Z",
     "iopub.status.idle": "2022-07-21T10:06:57.009185Z",
     "shell.execute_reply": "2022-07-21T10:06:57.008317Z"
    },
    "papermill": {
     "duration": 0.016942,
     "end_time": "2022-07-21T10:06:57.011166",
     "exception": false,
     "start_time": "2022-07-21T10:06:56.994224",
     "status": "completed"
    },
    "tags": []
   },
   "outputs": [],
   "source": [
    "# X_train = np.array(train)\n",
    "# y_train = np.array(train_df[[\"target\"]])\n",
    "# X_test = np.array(test_df)"
   ]
  },
  {
   "cell_type": "code",
   "execution_count": 26,
   "id": "450cb199",
   "metadata": {
    "execution": {
     "iopub.execute_input": "2022-07-21T10:06:57.031106Z",
     "iopub.status.busy": "2022-07-21T10:06:57.030232Z",
     "iopub.status.idle": "2022-07-21T10:06:57.086732Z",
     "shell.execute_reply": "2022-07-21T10:06:57.085767Z"
    },
    "papermill": {
     "duration": 0.068785,
     "end_time": "2022-07-21T10:06:57.089042",
     "exception": false,
     "start_time": "2022-07-21T10:06:57.020257",
     "status": "completed"
    },
    "tags": []
   },
   "outputs": [],
   "source": [
    "from sklearn.preprocessing import MinMaxScaler\n",
    "mms = MinMaxScaler()\n",
    "X_train = mms.fit_transform(train)\n",
    "X_test = mms.transform(test_df)\n",
    "y_train = mms.fit_transform(y_train)"
   ]
  },
  {
   "cell_type": "code",
   "execution_count": 27,
   "id": "3e2be9cb",
   "metadata": {
    "execution": {
     "iopub.execute_input": "2022-07-21T10:06:57.109088Z",
     "iopub.status.busy": "2022-07-21T10:06:57.108755Z",
     "iopub.status.idle": "2022-07-21T10:06:57.115038Z",
     "shell.execute_reply": "2022-07-21T10:06:57.114134Z"
    },
    "papermill": {
     "duration": 0.018672,
     "end_time": "2022-07-21T10:06:57.117061",
     "exception": false,
     "start_time": "2022-07-21T10:06:57.098389",
     "status": "completed"
    },
    "tags": []
   },
   "outputs": [
    {
     "data": {
      "text/plain": [
       "((16136, 74), (30557, 74))"
      ]
     },
     "execution_count": 27,
     "metadata": {},
     "output_type": "execute_result"
    }
   ],
   "source": [
    "X_test.shape, X_train.shape"
   ]
  },
  {
   "cell_type": "code",
   "execution_count": 28,
   "id": "1b04dd32",
   "metadata": {
    "execution": {
     "iopub.execute_input": "2022-07-21T10:06:57.137056Z",
     "iopub.status.busy": "2022-07-21T10:06:57.136762Z",
     "iopub.status.idle": "2022-07-21T10:06:57.140881Z",
     "shell.execute_reply": "2022-07-21T10:06:57.139825Z"
    },
    "papermill": {
     "duration": 0.017134,
     "end_time": "2022-07-21T10:06:57.143288",
     "exception": false,
     "start_time": "2022-07-21T10:06:57.126154",
     "status": "completed"
    },
    "tags": []
   },
   "outputs": [],
   "source": [
    "\n",
    "# X_test1=np.delete(X_test, 70, 1)\n",
    "# X_test2=np.delete(X_test1, 71, 1)\n",
    "# X_test3=np.delete(X_test2, 72, 1)\n",
    "# X_test4=np.delete(X_test3, 73, 1)"
   ]
  },
  {
   "cell_type": "code",
   "execution_count": 29,
   "id": "de170d1d",
   "metadata": {
    "execution": {
     "iopub.execute_input": "2022-07-21T10:06:57.162927Z",
     "iopub.status.busy": "2022-07-21T10:06:57.162641Z",
     "iopub.status.idle": "2022-07-21T10:06:57.168403Z",
     "shell.execute_reply": "2022-07-21T10:06:57.167544Z"
    },
    "papermill": {
     "duration": 0.018026,
     "end_time": "2022-07-21T10:06:57.170421",
     "exception": false,
     "start_time": "2022-07-21T10:06:57.152395",
     "status": "completed"
    },
    "tags": []
   },
   "outputs": [
    {
     "data": {
      "text/plain": [
       "((16136, 74), (30557, 74))"
      ]
     },
     "execution_count": 29,
     "metadata": {},
     "output_type": "execute_result"
    }
   ],
   "source": [
    "X_test.shape, X_train.shape"
   ]
  },
  {
   "cell_type": "code",
   "execution_count": null,
   "id": "2a35136e",
   "metadata": {
    "papermill": {
     "duration": 0.009162,
     "end_time": "2022-07-21T10:06:57.189332",
     "exception": false,
     "start_time": "2022-07-21T10:06:57.180170",
     "status": "completed"
    },
    "tags": []
   },
   "outputs": [],
   "source": []
  }
 ],
 "metadata": {
  "kernelspec": {
   "display_name": "Python 3",
   "language": "python",
   "name": "python3"
  },
  "language_info": {
   "codemirror_mode": {
    "name": "ipython",
    "version": 3
   },
   "file_extension": ".py",
   "mimetype": "text/x-python",
   "name": "python",
   "nbconvert_exporter": "python",
   "pygments_lexer": "ipython3",
   "version": "3.7.12"
  },
  "papermill": {
   "default_parameters": {},
   "duration": 20.367831,
   "end_time": "2022-07-21T10:07:00.481771",
   "environment_variables": {},
   "exception": null,
   "input_path": "__notebook__.ipynb",
   "output_path": "__notebook__.ipynb",
   "parameters": {},
   "start_time": "2022-07-21T10:06:40.113940",
   "version": "2.3.4"
  }
 },
 "nbformat": 4,
 "nbformat_minor": 5
}
