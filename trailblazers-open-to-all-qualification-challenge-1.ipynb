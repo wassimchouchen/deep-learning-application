{
 "cells": [
  {
   "cell_type": "code",
   "execution_count": 1,
   "id": "2acb59ca",
   "metadata": {
    "_cell_guid": "b1076dfc-b9ad-4769-8c92-a6c4dae69d19",
    "_uuid": "8f2839f25d086af736a60e9eeb907d3b93b6e0e5",
    "execution": {
     "iopub.execute_input": "2022-07-22T12:00:03.010964Z",
     "iopub.status.busy": "2022-07-22T12:00:03.010426Z",
     "iopub.status.idle": "2022-07-22T12:00:09.300334Z",
     "shell.execute_reply": "2022-07-22T12:00:09.299099Z"
    },
    "papermill": {
     "duration": 6.3095,
     "end_time": "2022-07-22T12:00:09.303332",
     "exception": false,
     "start_time": "2022-07-22T12:00:02.993832",
     "status": "completed"
    },
    "tags": []
   },
   "outputs": [],
   "source": [
    "import numpy as np\n",
    "import pandas as pd\n",
    "import matplotlib.pyplot as plt\n",
    "import os\n",
    "import shutil\n",
    "import tensorflow as tf\n",
    "import pathlib\n",
    "import PIL\n",
    "import time\n",
    "import zipfile\n",
    "import random\n",
    "from tensorflow import keras as ks\n",
    "from tensorflow.keras.layers import *\n",
    "from keras.utils.np_utils import to_categorical \n",
    "from keras.models import Sequential\n",
    "from keras.preprocessing.image import ImageDataGenerator\n",
    "from keras.callbacks import ReduceLROnPlateau\n",
    "from sklearn.model_selection import train_test_split\n",
    "import warnings\n",
    "warnings.filterwarnings('ignore')"
   ]
  },
  {
   "cell_type": "code",
   "execution_count": 2,
   "id": "4632afd6",
   "metadata": {
    "execution": {
     "iopub.execute_input": "2022-07-22T12:00:09.334649Z",
     "iopub.status.busy": "2022-07-22T12:00:09.333854Z",
     "iopub.status.idle": "2022-07-22T12:00:10.799587Z",
     "shell.execute_reply": "2022-07-22T12:00:10.798611Z"
    },
    "papermill": {
     "duration": 1.483376,
     "end_time": "2022-07-22T12:00:10.802030",
     "exception": false,
     "start_time": "2022-07-22T12:00:09.318654",
     "status": "completed"
    },
    "tags": []
   },
   "outputs": [],
   "source": [
    "train_df=pd.read_csv(\"../input/trailblazers-open-to-all-qualification-challenge/Train (3).csv\")\n",
    "test_df=pd.read_csv(\"../input/trailblazers-open-to-all-qualification-challenge/Test (5).csv\")\n",
    "sub=pd.read_csv(\"../input/trailblazers-open-to-all-qualification-challenge/SampleSubmission (1).csv\")"
   ]
  },
  {
   "cell_type": "code",
   "execution_count": 3,
   "id": "a027e5c1",
   "metadata": {
    "execution": {
     "iopub.execute_input": "2022-07-22T12:00:10.830481Z",
     "iopub.status.busy": "2022-07-22T12:00:10.830124Z",
     "iopub.status.idle": "2022-07-22T12:00:10.866256Z",
     "shell.execute_reply": "2022-07-22T12:00:10.865225Z"
    },
    "papermill": {
     "duration": 0.052916,
     "end_time": "2022-07-22T12:00:10.868774",
     "exception": false,
     "start_time": "2022-07-22T12:00:10.815858",
     "status": "completed"
    },
    "tags": []
   },
   "outputs": [
    {
     "data": {
      "text/html": [
       "<div>\n",
       "<style scoped>\n",
       "    .dataframe tbody tr th:only-of-type {\n",
       "        vertical-align: middle;\n",
       "    }\n",
       "\n",
       "    .dataframe tbody tr th {\n",
       "        vertical-align: top;\n",
       "    }\n",
       "\n",
       "    .dataframe thead th {\n",
       "        text-align: right;\n",
       "    }\n",
       "</style>\n",
       "<table border=\"1\" class=\"dataframe\">\n",
       "  <thead>\n",
       "    <tr style=\"text-align: right;\">\n",
       "      <th></th>\n",
       "      <th>Place_ID X Date</th>\n",
       "      <th>Date</th>\n",
       "      <th>Place_ID</th>\n",
       "      <th>target</th>\n",
       "      <th>target_min</th>\n",
       "      <th>target_max</th>\n",
       "      <th>target_variance</th>\n",
       "      <th>target_count</th>\n",
       "      <th>precipitable_water_entire_atmosphere</th>\n",
       "      <th>relative_humidity_2m_above_ground</th>\n",
       "      <th>...</th>\n",
       "      <th>L3_SO2_sensor_zenith_angle</th>\n",
       "      <th>L3_SO2_solar_azimuth_angle</th>\n",
       "      <th>L3_SO2_solar_zenith_angle</th>\n",
       "      <th>L3_CH4_CH4_column_volume_mixing_ratio_dry_air</th>\n",
       "      <th>L3_CH4_aerosol_height</th>\n",
       "      <th>L3_CH4_aerosol_optical_depth</th>\n",
       "      <th>L3_CH4_sensor_azimuth_angle</th>\n",
       "      <th>L3_CH4_sensor_zenith_angle</th>\n",
       "      <th>L3_CH4_solar_azimuth_angle</th>\n",
       "      <th>L3_CH4_solar_zenith_angle</th>\n",
       "    </tr>\n",
       "  </thead>\n",
       "  <tbody>\n",
       "    <tr>\n",
       "      <th>0</th>\n",
       "      <td>010Q650 X 2020-01-02</td>\n",
       "      <td>2020-01-02</td>\n",
       "      <td>010Q650</td>\n",
       "      <td>38.0</td>\n",
       "      <td>23.0</td>\n",
       "      <td>53.0</td>\n",
       "      <td>769.50</td>\n",
       "      <td>92</td>\n",
       "      <td>11.000000</td>\n",
       "      <td>60.200001</td>\n",
       "      <td>...</td>\n",
       "      <td>38.593017</td>\n",
       "      <td>-61.752587</td>\n",
       "      <td>22.363665</td>\n",
       "      <td>1793.793579</td>\n",
       "      <td>3227.855469</td>\n",
       "      <td>0.010579</td>\n",
       "      <td>74.481049</td>\n",
       "      <td>37.501499</td>\n",
       "      <td>-62.142639</td>\n",
       "      <td>22.545118</td>\n",
       "    </tr>\n",
       "    <tr>\n",
       "      <th>1</th>\n",
       "      <td>010Q650 X 2020-01-03</td>\n",
       "      <td>2020-01-03</td>\n",
       "      <td>010Q650</td>\n",
       "      <td>39.0</td>\n",
       "      <td>25.0</td>\n",
       "      <td>63.0</td>\n",
       "      <td>1319.85</td>\n",
       "      <td>91</td>\n",
       "      <td>14.600000</td>\n",
       "      <td>48.799999</td>\n",
       "      <td>...</td>\n",
       "      <td>59.624912</td>\n",
       "      <td>-67.693509</td>\n",
       "      <td>28.614804</td>\n",
       "      <td>1789.960449</td>\n",
       "      <td>3384.226562</td>\n",
       "      <td>0.015104</td>\n",
       "      <td>75.630043</td>\n",
       "      <td>55.657486</td>\n",
       "      <td>-53.868134</td>\n",
       "      <td>19.293652</td>\n",
       "    </tr>\n",
       "    <tr>\n",
       "      <th>2</th>\n",
       "      <td>010Q650 X 2020-01-04</td>\n",
       "      <td>2020-01-04</td>\n",
       "      <td>010Q650</td>\n",
       "      <td>24.0</td>\n",
       "      <td>8.0</td>\n",
       "      <td>56.0</td>\n",
       "      <td>1181.96</td>\n",
       "      <td>96</td>\n",
       "      <td>16.400000</td>\n",
       "      <td>33.400002</td>\n",
       "      <td>...</td>\n",
       "      <td>49.839714</td>\n",
       "      <td>-78.342701</td>\n",
       "      <td>34.296977</td>\n",
       "      <td>NaN</td>\n",
       "      <td>NaN</td>\n",
       "      <td>NaN</td>\n",
       "      <td>NaN</td>\n",
       "      <td>NaN</td>\n",
       "      <td>NaN</td>\n",
       "      <td>NaN</td>\n",
       "    </tr>\n",
       "    <tr>\n",
       "      <th>3</th>\n",
       "      <td>010Q650 X 2020-01-05</td>\n",
       "      <td>2020-01-05</td>\n",
       "      <td>010Q650</td>\n",
       "      <td>49.0</td>\n",
       "      <td>10.0</td>\n",
       "      <td>55.0</td>\n",
       "      <td>1113.67</td>\n",
       "      <td>96</td>\n",
       "      <td>6.911948</td>\n",
       "      <td>21.300001</td>\n",
       "      <td>...</td>\n",
       "      <td>29.181258</td>\n",
       "      <td>-73.896588</td>\n",
       "      <td>30.545446</td>\n",
       "      <td>NaN</td>\n",
       "      <td>NaN</td>\n",
       "      <td>NaN</td>\n",
       "      <td>NaN</td>\n",
       "      <td>NaN</td>\n",
       "      <td>NaN</td>\n",
       "      <td>NaN</td>\n",
       "    </tr>\n",
       "    <tr>\n",
       "      <th>4</th>\n",
       "      <td>010Q650 X 2020-01-06</td>\n",
       "      <td>2020-01-06</td>\n",
       "      <td>010Q650</td>\n",
       "      <td>21.0</td>\n",
       "      <td>9.0</td>\n",
       "      <td>52.0</td>\n",
       "      <td>1164.82</td>\n",
       "      <td>95</td>\n",
       "      <td>13.900001</td>\n",
       "      <td>44.700001</td>\n",
       "      <td>...</td>\n",
       "      <td>0.797294</td>\n",
       "      <td>-68.612480</td>\n",
       "      <td>26.899694</td>\n",
       "      <td>NaN</td>\n",
       "      <td>NaN</td>\n",
       "      <td>NaN</td>\n",
       "      <td>NaN</td>\n",
       "      <td>NaN</td>\n",
       "      <td>NaN</td>\n",
       "      <td>NaN</td>\n",
       "    </tr>\n",
       "  </tbody>\n",
       "</table>\n",
       "<p>5 rows × 82 columns</p>\n",
       "</div>"
      ],
      "text/plain": [
       "        Place_ID X Date        Date Place_ID  target  target_min  target_max  \\\n",
       "0  010Q650 X 2020-01-02  2020-01-02  010Q650    38.0        23.0        53.0   \n",
       "1  010Q650 X 2020-01-03  2020-01-03  010Q650    39.0        25.0        63.0   \n",
       "2  010Q650 X 2020-01-04  2020-01-04  010Q650    24.0         8.0        56.0   \n",
       "3  010Q650 X 2020-01-05  2020-01-05  010Q650    49.0        10.0        55.0   \n",
       "4  010Q650 X 2020-01-06  2020-01-06  010Q650    21.0         9.0        52.0   \n",
       "\n",
       "   target_variance  target_count  precipitable_water_entire_atmosphere  \\\n",
       "0           769.50            92                             11.000000   \n",
       "1          1319.85            91                             14.600000   \n",
       "2          1181.96            96                             16.400000   \n",
       "3          1113.67            96                              6.911948   \n",
       "4          1164.82            95                             13.900001   \n",
       "\n",
       "   relative_humidity_2m_above_ground  ...  L3_SO2_sensor_zenith_angle  \\\n",
       "0                          60.200001  ...                   38.593017   \n",
       "1                          48.799999  ...                   59.624912   \n",
       "2                          33.400002  ...                   49.839714   \n",
       "3                          21.300001  ...                   29.181258   \n",
       "4                          44.700001  ...                    0.797294   \n",
       "\n",
       "   L3_SO2_solar_azimuth_angle  L3_SO2_solar_zenith_angle  \\\n",
       "0                  -61.752587                  22.363665   \n",
       "1                  -67.693509                  28.614804   \n",
       "2                  -78.342701                  34.296977   \n",
       "3                  -73.896588                  30.545446   \n",
       "4                  -68.612480                  26.899694   \n",
       "\n",
       "   L3_CH4_CH4_column_volume_mixing_ratio_dry_air  L3_CH4_aerosol_height  \\\n",
       "0                                    1793.793579            3227.855469   \n",
       "1                                    1789.960449            3384.226562   \n",
       "2                                            NaN                    NaN   \n",
       "3                                            NaN                    NaN   \n",
       "4                                            NaN                    NaN   \n",
       "\n",
       "   L3_CH4_aerosol_optical_depth  L3_CH4_sensor_azimuth_angle  \\\n",
       "0                      0.010579                    74.481049   \n",
       "1                      0.015104                    75.630043   \n",
       "2                           NaN                          NaN   \n",
       "3                           NaN                          NaN   \n",
       "4                           NaN                          NaN   \n",
       "\n",
       "   L3_CH4_sensor_zenith_angle  L3_CH4_solar_azimuth_angle  \\\n",
       "0                   37.501499                  -62.142639   \n",
       "1                   55.657486                  -53.868134   \n",
       "2                         NaN                         NaN   \n",
       "3                         NaN                         NaN   \n",
       "4                         NaN                         NaN   \n",
       "\n",
       "   L3_CH4_solar_zenith_angle  \n",
       "0                  22.545118  \n",
       "1                  19.293652  \n",
       "2                        NaN  \n",
       "3                        NaN  \n",
       "4                        NaN  \n",
       "\n",
       "[5 rows x 82 columns]"
      ]
     },
     "execution_count": 3,
     "metadata": {},
     "output_type": "execute_result"
    }
   ],
   "source": [
    "train_df.head()"
   ]
  },
  {
   "cell_type": "code",
   "execution_count": 4,
   "id": "254f593e",
   "metadata": {
    "execution": {
     "iopub.execute_input": "2022-07-22T12:00:10.899447Z",
     "iopub.status.busy": "2022-07-22T12:00:10.897924Z",
     "iopub.status.idle": "2022-07-22T12:00:10.923590Z",
     "shell.execute_reply": "2022-07-22T12:00:10.922428Z"
    },
    "papermill": {
     "duration": 0.044073,
     "end_time": "2022-07-22T12:00:10.926724",
     "exception": false,
     "start_time": "2022-07-22T12:00:10.882651",
     "status": "completed"
    },
    "tags": []
   },
   "outputs": [
    {
     "data": {
      "text/html": [
       "<div>\n",
       "<style scoped>\n",
       "    .dataframe tbody tr th:only-of-type {\n",
       "        vertical-align: middle;\n",
       "    }\n",
       "\n",
       "    .dataframe tbody tr th {\n",
       "        vertical-align: top;\n",
       "    }\n",
       "\n",
       "    .dataframe thead th {\n",
       "        text-align: right;\n",
       "    }\n",
       "</style>\n",
       "<table border=\"1\" class=\"dataframe\">\n",
       "  <thead>\n",
       "    <tr style=\"text-align: right;\">\n",
       "      <th></th>\n",
       "      <th>Place_ID X Date</th>\n",
       "      <th>Date</th>\n",
       "      <th>Place_ID</th>\n",
       "      <th>precipitable_water_entire_atmosphere</th>\n",
       "      <th>relative_humidity_2m_above_ground</th>\n",
       "      <th>specific_humidity_2m_above_ground</th>\n",
       "      <th>temperature_2m_above_ground</th>\n",
       "      <th>u_component_of_wind_10m_above_ground</th>\n",
       "      <th>v_component_of_wind_10m_above_ground</th>\n",
       "      <th>L3_NO2_NO2_column_number_density</th>\n",
       "      <th>...</th>\n",
       "      <th>L3_SO2_sensor_zenith_angle</th>\n",
       "      <th>L3_SO2_solar_azimuth_angle</th>\n",
       "      <th>L3_SO2_solar_zenith_angle</th>\n",
       "      <th>L3_CH4_CH4_column_volume_mixing_ratio_dry_air</th>\n",
       "      <th>L3_CH4_aerosol_height</th>\n",
       "      <th>L3_CH4_aerosol_optical_depth</th>\n",
       "      <th>L3_CH4_sensor_azimuth_angle</th>\n",
       "      <th>L3_CH4_sensor_zenith_angle</th>\n",
       "      <th>L3_CH4_solar_azimuth_angle</th>\n",
       "      <th>L3_CH4_solar_zenith_angle</th>\n",
       "    </tr>\n",
       "  </thead>\n",
       "  <tbody>\n",
       "    <tr>\n",
       "      <th>0</th>\n",
       "      <td>0OS9LVX X 2020-01-02</td>\n",
       "      <td>2020-01-02</td>\n",
       "      <td>0OS9LVX</td>\n",
       "      <td>11.600000</td>\n",
       "      <td>30.200001</td>\n",
       "      <td>0.00409</td>\n",
       "      <td>14.656824</td>\n",
       "      <td>3.956377</td>\n",
       "      <td>0.712605</td>\n",
       "      <td>0.000053</td>\n",
       "      <td>...</td>\n",
       "      <td>1.445658</td>\n",
       "      <td>-95.984984</td>\n",
       "      <td>22.942019</td>\n",
       "      <td>NaN</td>\n",
       "      <td>NaN</td>\n",
       "      <td>NaN</td>\n",
       "      <td>NaN</td>\n",
       "      <td>NaN</td>\n",
       "      <td>NaN</td>\n",
       "      <td>NaN</td>\n",
       "    </tr>\n",
       "    <tr>\n",
       "      <th>1</th>\n",
       "      <td>0OS9LVX X 2020-01-03</td>\n",
       "      <td>2020-01-03</td>\n",
       "      <td>0OS9LVX</td>\n",
       "      <td>18.300001</td>\n",
       "      <td>42.900002</td>\n",
       "      <td>0.00595</td>\n",
       "      <td>15.026544</td>\n",
       "      <td>4.230430</td>\n",
       "      <td>0.661892</td>\n",
       "      <td>0.000050</td>\n",
       "      <td>...</td>\n",
       "      <td>34.641758</td>\n",
       "      <td>-95.014908</td>\n",
       "      <td>18.539116</td>\n",
       "      <td>NaN</td>\n",
       "      <td>NaN</td>\n",
       "      <td>NaN</td>\n",
       "      <td>NaN</td>\n",
       "      <td>NaN</td>\n",
       "      <td>NaN</td>\n",
       "      <td>NaN</td>\n",
       "    </tr>\n",
       "    <tr>\n",
       "      <th>2</th>\n",
       "      <td>0OS9LVX X 2020-01-04</td>\n",
       "      <td>2020-01-04</td>\n",
       "      <td>0OS9LVX</td>\n",
       "      <td>17.600000</td>\n",
       "      <td>41.299999</td>\n",
       "      <td>0.00590</td>\n",
       "      <td>15.511041</td>\n",
       "      <td>5.245728</td>\n",
       "      <td>1.640559</td>\n",
       "      <td>0.000050</td>\n",
       "      <td>...</td>\n",
       "      <td>55.872276</td>\n",
       "      <td>-94.015418</td>\n",
       "      <td>14.140820</td>\n",
       "      <td>NaN</td>\n",
       "      <td>NaN</td>\n",
       "      <td>NaN</td>\n",
       "      <td>NaN</td>\n",
       "      <td>NaN</td>\n",
       "      <td>NaN</td>\n",
       "      <td>NaN</td>\n",
       "    </tr>\n",
       "    <tr>\n",
       "      <th>3</th>\n",
       "      <td>0OS9LVX X 2020-01-05</td>\n",
       "      <td>2020-01-05</td>\n",
       "      <td>0OS9LVX</td>\n",
       "      <td>15.011948</td>\n",
       "      <td>53.100002</td>\n",
       "      <td>0.00709</td>\n",
       "      <td>14.441858</td>\n",
       "      <td>5.454001</td>\n",
       "      <td>-0.190532</td>\n",
       "      <td>0.000055</td>\n",
       "      <td>...</td>\n",
       "      <td>59.174188</td>\n",
       "      <td>-97.247602</td>\n",
       "      <td>32.730553</td>\n",
       "      <td>NaN</td>\n",
       "      <td>NaN</td>\n",
       "      <td>NaN</td>\n",
       "      <td>NaN</td>\n",
       "      <td>NaN</td>\n",
       "      <td>NaN</td>\n",
       "      <td>NaN</td>\n",
       "    </tr>\n",
       "    <tr>\n",
       "      <th>4</th>\n",
       "      <td>0OS9LVX X 2020-01-06</td>\n",
       "      <td>2020-01-06</td>\n",
       "      <td>0OS9LVX</td>\n",
       "      <td>9.700000</td>\n",
       "      <td>71.599998</td>\n",
       "      <td>0.00808</td>\n",
       "      <td>11.896295</td>\n",
       "      <td>3.511787</td>\n",
       "      <td>-0.279441</td>\n",
       "      <td>0.000055</td>\n",
       "      <td>...</td>\n",
       "      <td>40.925873</td>\n",
       "      <td>-96.057265</td>\n",
       "      <td>28.320527</td>\n",
       "      <td>1831.261597</td>\n",
       "      <td>3229.118652</td>\n",
       "      <td>0.031068</td>\n",
       "      <td>-100.278343</td>\n",
       "      <td>41.84708</td>\n",
       "      <td>-95.910744</td>\n",
       "      <td>28.498789</td>\n",
       "    </tr>\n",
       "  </tbody>\n",
       "</table>\n",
       "<p>5 rows × 77 columns</p>\n",
       "</div>"
      ],
      "text/plain": [
       "        Place_ID X Date        Date Place_ID  \\\n",
       "0  0OS9LVX X 2020-01-02  2020-01-02  0OS9LVX   \n",
       "1  0OS9LVX X 2020-01-03  2020-01-03  0OS9LVX   \n",
       "2  0OS9LVX X 2020-01-04  2020-01-04  0OS9LVX   \n",
       "3  0OS9LVX X 2020-01-05  2020-01-05  0OS9LVX   \n",
       "4  0OS9LVX X 2020-01-06  2020-01-06  0OS9LVX   \n",
       "\n",
       "   precipitable_water_entire_atmosphere  relative_humidity_2m_above_ground  \\\n",
       "0                             11.600000                          30.200001   \n",
       "1                             18.300001                          42.900002   \n",
       "2                             17.600000                          41.299999   \n",
       "3                             15.011948                          53.100002   \n",
       "4                              9.700000                          71.599998   \n",
       "\n",
       "   specific_humidity_2m_above_ground  temperature_2m_above_ground  \\\n",
       "0                            0.00409                    14.656824   \n",
       "1                            0.00595                    15.026544   \n",
       "2                            0.00590                    15.511041   \n",
       "3                            0.00709                    14.441858   \n",
       "4                            0.00808                    11.896295   \n",
       "\n",
       "   u_component_of_wind_10m_above_ground  v_component_of_wind_10m_above_ground  \\\n",
       "0                              3.956377                              0.712605   \n",
       "1                              4.230430                              0.661892   \n",
       "2                              5.245728                              1.640559   \n",
       "3                              5.454001                             -0.190532   \n",
       "4                              3.511787                             -0.279441   \n",
       "\n",
       "   L3_NO2_NO2_column_number_density  ...  L3_SO2_sensor_zenith_angle  \\\n",
       "0                          0.000053  ...                    1.445658   \n",
       "1                          0.000050  ...                   34.641758   \n",
       "2                          0.000050  ...                   55.872276   \n",
       "3                          0.000055  ...                   59.174188   \n",
       "4                          0.000055  ...                   40.925873   \n",
       "\n",
       "   L3_SO2_solar_azimuth_angle  L3_SO2_solar_zenith_angle  \\\n",
       "0                  -95.984984                  22.942019   \n",
       "1                  -95.014908                  18.539116   \n",
       "2                  -94.015418                  14.140820   \n",
       "3                  -97.247602                  32.730553   \n",
       "4                  -96.057265                  28.320527   \n",
       "\n",
       "   L3_CH4_CH4_column_volume_mixing_ratio_dry_air  L3_CH4_aerosol_height  \\\n",
       "0                                            NaN                    NaN   \n",
       "1                                            NaN                    NaN   \n",
       "2                                            NaN                    NaN   \n",
       "3                                            NaN                    NaN   \n",
       "4                                    1831.261597            3229.118652   \n",
       "\n",
       "   L3_CH4_aerosol_optical_depth  L3_CH4_sensor_azimuth_angle  \\\n",
       "0                           NaN                          NaN   \n",
       "1                           NaN                          NaN   \n",
       "2                           NaN                          NaN   \n",
       "3                           NaN                          NaN   \n",
       "4                      0.031068                  -100.278343   \n",
       "\n",
       "   L3_CH4_sensor_zenith_angle  L3_CH4_solar_azimuth_angle  \\\n",
       "0                         NaN                         NaN   \n",
       "1                         NaN                         NaN   \n",
       "2                         NaN                         NaN   \n",
       "3                         NaN                         NaN   \n",
       "4                    41.84708                  -95.910744   \n",
       "\n",
       "   L3_CH4_solar_zenith_angle  \n",
       "0                        NaN  \n",
       "1                        NaN  \n",
       "2                        NaN  \n",
       "3                        NaN  \n",
       "4                  28.498789  \n",
       "\n",
       "[5 rows x 77 columns]"
      ]
     },
     "execution_count": 4,
     "metadata": {},
     "output_type": "execute_result"
    }
   ],
   "source": [
    "test_df.head()"
   ]
  },
  {
   "cell_type": "code",
   "execution_count": 5,
   "id": "f35bf203",
   "metadata": {
    "execution": {
     "iopub.execute_input": "2022-07-22T12:00:10.955846Z",
     "iopub.status.busy": "2022-07-22T12:00:10.955561Z",
     "iopub.status.idle": "2022-07-22T12:00:10.963193Z",
     "shell.execute_reply": "2022-07-22T12:00:10.962328Z"
    },
    "papermill": {
     "duration": 0.024376,
     "end_time": "2022-07-22T12:00:10.965277",
     "exception": false,
     "start_time": "2022-07-22T12:00:10.940901",
     "status": "completed"
    },
    "tags": []
   },
   "outputs": [],
   "source": [
    "Id=test_df[\"Place_ID X Date\"]"
   ]
  },
  {
   "cell_type": "code",
   "execution_count": 6,
   "id": "b5201027",
   "metadata": {
    "execution": {
     "iopub.execute_input": "2022-07-22T12:00:10.994298Z",
     "iopub.status.busy": "2022-07-22T12:00:10.994010Z",
     "iopub.status.idle": "2022-07-22T12:00:11.000295Z",
     "shell.execute_reply": "2022-07-22T12:00:10.999106Z"
    },
    "papermill": {
     "duration": 0.022971,
     "end_time": "2022-07-22T12:00:11.002463",
     "exception": false,
     "start_time": "2022-07-22T12:00:10.979492",
     "status": "completed"
    },
    "tags": []
   },
   "outputs": [
    {
     "data": {
      "text/plain": [
       "(30557, 82)"
      ]
     },
     "execution_count": 6,
     "metadata": {},
     "output_type": "execute_result"
    }
   ],
   "source": [
    "train_df.shape"
   ]
  },
  {
   "cell_type": "code",
   "execution_count": 7,
   "id": "2dbd5441",
   "metadata": {
    "execution": {
     "iopub.execute_input": "2022-07-22T12:00:11.031702Z",
     "iopub.status.busy": "2022-07-22T12:00:11.031439Z",
     "iopub.status.idle": "2022-07-22T12:00:11.038105Z",
     "shell.execute_reply": "2022-07-22T12:00:11.037119Z"
    },
    "papermill": {
     "duration": 0.023424,
     "end_time": "2022-07-22T12:00:11.040178",
     "exception": false,
     "start_time": "2022-07-22T12:00:11.016754",
     "status": "completed"
    },
    "tags": []
   },
   "outputs": [
    {
     "data": {
      "text/plain": [
       "(16136, 77)"
      ]
     },
     "execution_count": 7,
     "metadata": {},
     "output_type": "execute_result"
    }
   ],
   "source": [
    "test_df.shape"
   ]
  },
  {
   "cell_type": "code",
   "execution_count": 8,
   "id": "ca68bed1",
   "metadata": {
    "execution": {
     "iopub.execute_input": "2022-07-22T12:00:11.067588Z",
     "iopub.status.busy": "2022-07-22T12:00:11.067336Z",
     "iopub.status.idle": "2022-07-22T12:00:11.092599Z",
     "shell.execute_reply": "2022-07-22T12:00:11.091449Z"
    },
    "papermill": {
     "duration": 0.042413,
     "end_time": "2022-07-22T12:00:11.095585",
     "exception": false,
     "start_time": "2022-07-22T12:00:11.053172",
     "status": "completed"
    },
    "tags": []
   },
   "outputs": [
    {
     "data": {
      "text/html": [
       "<div>\n",
       "<style scoped>\n",
       "    .dataframe tbody tr th:only-of-type {\n",
       "        vertical-align: middle;\n",
       "    }\n",
       "\n",
       "    .dataframe tbody tr th {\n",
       "        vertical-align: top;\n",
       "    }\n",
       "\n",
       "    .dataframe thead th {\n",
       "        text-align: right;\n",
       "    }\n",
       "</style>\n",
       "<table border=\"1\" class=\"dataframe\">\n",
       "  <thead>\n",
       "    <tr style=\"text-align: right;\">\n",
       "      <th></th>\n",
       "      <th>Place_ID X Date</th>\n",
       "      <th>Date</th>\n",
       "      <th>Place_ID</th>\n",
       "      <th>precipitable_water_entire_atmosphere</th>\n",
       "      <th>relative_humidity_2m_above_ground</th>\n",
       "      <th>specific_humidity_2m_above_ground</th>\n",
       "      <th>temperature_2m_above_ground</th>\n",
       "      <th>u_component_of_wind_10m_above_ground</th>\n",
       "      <th>v_component_of_wind_10m_above_ground</th>\n",
       "      <th>L3_NO2_NO2_column_number_density</th>\n",
       "      <th>...</th>\n",
       "      <th>L3_SO2_sensor_zenith_angle</th>\n",
       "      <th>L3_SO2_solar_azimuth_angle</th>\n",
       "      <th>L3_SO2_solar_zenith_angle</th>\n",
       "      <th>L3_CH4_CH4_column_volume_mixing_ratio_dry_air</th>\n",
       "      <th>L3_CH4_aerosol_height</th>\n",
       "      <th>L3_CH4_aerosol_optical_depth</th>\n",
       "      <th>L3_CH4_sensor_azimuth_angle</th>\n",
       "      <th>L3_CH4_sensor_zenith_angle</th>\n",
       "      <th>L3_CH4_solar_azimuth_angle</th>\n",
       "      <th>L3_CH4_solar_zenith_angle</th>\n",
       "    </tr>\n",
       "  </thead>\n",
       "  <tbody>\n",
       "    <tr>\n",
       "      <th>0</th>\n",
       "      <td>0OS9LVX X 2020-01-02</td>\n",
       "      <td>2020-01-02</td>\n",
       "      <td>0OS9LVX</td>\n",
       "      <td>11.600000</td>\n",
       "      <td>30.200001</td>\n",
       "      <td>0.00409</td>\n",
       "      <td>14.656824</td>\n",
       "      <td>3.956377</td>\n",
       "      <td>0.712605</td>\n",
       "      <td>0.000053</td>\n",
       "      <td>...</td>\n",
       "      <td>1.445658</td>\n",
       "      <td>-95.984984</td>\n",
       "      <td>22.942019</td>\n",
       "      <td>NaN</td>\n",
       "      <td>NaN</td>\n",
       "      <td>NaN</td>\n",
       "      <td>NaN</td>\n",
       "      <td>NaN</td>\n",
       "      <td>NaN</td>\n",
       "      <td>NaN</td>\n",
       "    </tr>\n",
       "    <tr>\n",
       "      <th>1</th>\n",
       "      <td>0OS9LVX X 2020-01-03</td>\n",
       "      <td>2020-01-03</td>\n",
       "      <td>0OS9LVX</td>\n",
       "      <td>18.300001</td>\n",
       "      <td>42.900002</td>\n",
       "      <td>0.00595</td>\n",
       "      <td>15.026544</td>\n",
       "      <td>4.230430</td>\n",
       "      <td>0.661892</td>\n",
       "      <td>0.000050</td>\n",
       "      <td>...</td>\n",
       "      <td>34.641758</td>\n",
       "      <td>-95.014908</td>\n",
       "      <td>18.539116</td>\n",
       "      <td>NaN</td>\n",
       "      <td>NaN</td>\n",
       "      <td>NaN</td>\n",
       "      <td>NaN</td>\n",
       "      <td>NaN</td>\n",
       "      <td>NaN</td>\n",
       "      <td>NaN</td>\n",
       "    </tr>\n",
       "    <tr>\n",
       "      <th>2</th>\n",
       "      <td>0OS9LVX X 2020-01-04</td>\n",
       "      <td>2020-01-04</td>\n",
       "      <td>0OS9LVX</td>\n",
       "      <td>17.600000</td>\n",
       "      <td>41.299999</td>\n",
       "      <td>0.00590</td>\n",
       "      <td>15.511041</td>\n",
       "      <td>5.245728</td>\n",
       "      <td>1.640559</td>\n",
       "      <td>0.000050</td>\n",
       "      <td>...</td>\n",
       "      <td>55.872276</td>\n",
       "      <td>-94.015418</td>\n",
       "      <td>14.140820</td>\n",
       "      <td>NaN</td>\n",
       "      <td>NaN</td>\n",
       "      <td>NaN</td>\n",
       "      <td>NaN</td>\n",
       "      <td>NaN</td>\n",
       "      <td>NaN</td>\n",
       "      <td>NaN</td>\n",
       "    </tr>\n",
       "    <tr>\n",
       "      <th>3</th>\n",
       "      <td>0OS9LVX X 2020-01-05</td>\n",
       "      <td>2020-01-05</td>\n",
       "      <td>0OS9LVX</td>\n",
       "      <td>15.011948</td>\n",
       "      <td>53.100002</td>\n",
       "      <td>0.00709</td>\n",
       "      <td>14.441858</td>\n",
       "      <td>5.454001</td>\n",
       "      <td>-0.190532</td>\n",
       "      <td>0.000055</td>\n",
       "      <td>...</td>\n",
       "      <td>59.174188</td>\n",
       "      <td>-97.247602</td>\n",
       "      <td>32.730553</td>\n",
       "      <td>NaN</td>\n",
       "      <td>NaN</td>\n",
       "      <td>NaN</td>\n",
       "      <td>NaN</td>\n",
       "      <td>NaN</td>\n",
       "      <td>NaN</td>\n",
       "      <td>NaN</td>\n",
       "    </tr>\n",
       "    <tr>\n",
       "      <th>4</th>\n",
       "      <td>0OS9LVX X 2020-01-06</td>\n",
       "      <td>2020-01-06</td>\n",
       "      <td>0OS9LVX</td>\n",
       "      <td>9.700000</td>\n",
       "      <td>71.599998</td>\n",
       "      <td>0.00808</td>\n",
       "      <td>11.896295</td>\n",
       "      <td>3.511787</td>\n",
       "      <td>-0.279441</td>\n",
       "      <td>0.000055</td>\n",
       "      <td>...</td>\n",
       "      <td>40.925873</td>\n",
       "      <td>-96.057265</td>\n",
       "      <td>28.320527</td>\n",
       "      <td>1831.261597</td>\n",
       "      <td>3229.118652</td>\n",
       "      <td>0.031068</td>\n",
       "      <td>-100.278343</td>\n",
       "      <td>41.84708</td>\n",
       "      <td>-95.910744</td>\n",
       "      <td>28.498789</td>\n",
       "    </tr>\n",
       "  </tbody>\n",
       "</table>\n",
       "<p>5 rows × 77 columns</p>\n",
       "</div>"
      ],
      "text/plain": [
       "        Place_ID X Date        Date Place_ID  \\\n",
       "0  0OS9LVX X 2020-01-02  2020-01-02  0OS9LVX   \n",
       "1  0OS9LVX X 2020-01-03  2020-01-03  0OS9LVX   \n",
       "2  0OS9LVX X 2020-01-04  2020-01-04  0OS9LVX   \n",
       "3  0OS9LVX X 2020-01-05  2020-01-05  0OS9LVX   \n",
       "4  0OS9LVX X 2020-01-06  2020-01-06  0OS9LVX   \n",
       "\n",
       "   precipitable_water_entire_atmosphere  relative_humidity_2m_above_ground  \\\n",
       "0                             11.600000                          30.200001   \n",
       "1                             18.300001                          42.900002   \n",
       "2                             17.600000                          41.299999   \n",
       "3                             15.011948                          53.100002   \n",
       "4                              9.700000                          71.599998   \n",
       "\n",
       "   specific_humidity_2m_above_ground  temperature_2m_above_ground  \\\n",
       "0                            0.00409                    14.656824   \n",
       "1                            0.00595                    15.026544   \n",
       "2                            0.00590                    15.511041   \n",
       "3                            0.00709                    14.441858   \n",
       "4                            0.00808                    11.896295   \n",
       "\n",
       "   u_component_of_wind_10m_above_ground  v_component_of_wind_10m_above_ground  \\\n",
       "0                              3.956377                              0.712605   \n",
       "1                              4.230430                              0.661892   \n",
       "2                              5.245728                              1.640559   \n",
       "3                              5.454001                             -0.190532   \n",
       "4                              3.511787                             -0.279441   \n",
       "\n",
       "   L3_NO2_NO2_column_number_density  ...  L3_SO2_sensor_zenith_angle  \\\n",
       "0                          0.000053  ...                    1.445658   \n",
       "1                          0.000050  ...                   34.641758   \n",
       "2                          0.000050  ...                   55.872276   \n",
       "3                          0.000055  ...                   59.174188   \n",
       "4                          0.000055  ...                   40.925873   \n",
       "\n",
       "   L3_SO2_solar_azimuth_angle  L3_SO2_solar_zenith_angle  \\\n",
       "0                  -95.984984                  22.942019   \n",
       "1                  -95.014908                  18.539116   \n",
       "2                  -94.015418                  14.140820   \n",
       "3                  -97.247602                  32.730553   \n",
       "4                  -96.057265                  28.320527   \n",
       "\n",
       "   L3_CH4_CH4_column_volume_mixing_ratio_dry_air  L3_CH4_aerosol_height  \\\n",
       "0                                            NaN                    NaN   \n",
       "1                                            NaN                    NaN   \n",
       "2                                            NaN                    NaN   \n",
       "3                                            NaN                    NaN   \n",
       "4                                    1831.261597            3229.118652   \n",
       "\n",
       "   L3_CH4_aerosol_optical_depth  L3_CH4_sensor_azimuth_angle  \\\n",
       "0                           NaN                          NaN   \n",
       "1                           NaN                          NaN   \n",
       "2                           NaN                          NaN   \n",
       "3                           NaN                          NaN   \n",
       "4                      0.031068                  -100.278343   \n",
       "\n",
       "   L3_CH4_sensor_zenith_angle  L3_CH4_solar_azimuth_angle  \\\n",
       "0                         NaN                         NaN   \n",
       "1                         NaN                         NaN   \n",
       "2                         NaN                         NaN   \n",
       "3                         NaN                         NaN   \n",
       "4                    41.84708                  -95.910744   \n",
       "\n",
       "   L3_CH4_solar_zenith_angle  \n",
       "0                        NaN  \n",
       "1                        NaN  \n",
       "2                        NaN  \n",
       "3                        NaN  \n",
       "4                  28.498789  \n",
       "\n",
       "[5 rows x 77 columns]"
      ]
     },
     "execution_count": 8,
     "metadata": {},
     "output_type": "execute_result"
    }
   ],
   "source": [
    "test_df.head()"
   ]
  },
  {
   "cell_type": "code",
   "execution_count": 9,
   "id": "fa425a46",
   "metadata": {
    "execution": {
     "iopub.execute_input": "2022-07-22T12:00:11.124916Z",
     "iopub.status.busy": "2022-07-22T12:00:11.124615Z",
     "iopub.status.idle": "2022-07-22T12:00:11.130059Z",
     "shell.execute_reply": "2022-07-22T12:00:11.129180Z"
    },
    "papermill": {
     "duration": 0.022802,
     "end_time": "2022-07-22T12:00:11.132425",
     "exception": false,
     "start_time": "2022-07-22T12:00:11.109623",
     "status": "completed"
    },
    "tags": []
   },
   "outputs": [],
   "source": [
    "L=[i for i in train_df.columns if i not in test_df.columns]"
   ]
  },
  {
   "cell_type": "code",
   "execution_count": 10,
   "id": "5307d4bb",
   "metadata": {
    "execution": {
     "iopub.execute_input": "2022-07-22T12:00:11.163556Z",
     "iopub.status.busy": "2022-07-22T12:00:11.163302Z",
     "iopub.status.idle": "2022-07-22T12:00:11.169424Z",
     "shell.execute_reply": "2022-07-22T12:00:11.168275Z"
    },
    "papermill": {
     "duration": 0.026254,
     "end_time": "2022-07-22T12:00:11.172849",
     "exception": false,
     "start_time": "2022-07-22T12:00:11.146595",
     "status": "completed"
    },
    "tags": []
   },
   "outputs": [
    {
     "data": {
      "text/plain": [
       "['target', 'target_min', 'target_max', 'target_variance', 'target_count']"
      ]
     },
     "execution_count": 10,
     "metadata": {},
     "output_type": "execute_result"
    }
   ],
   "source": [
    "L"
   ]
  },
  {
   "cell_type": "code",
   "execution_count": 11,
   "id": "5b18de6a",
   "metadata": {
    "execution": {
     "iopub.execute_input": "2022-07-22T12:00:11.202601Z",
     "iopub.status.busy": "2022-07-22T12:00:11.201855Z",
     "iopub.status.idle": "2022-07-22T12:00:11.213223Z",
     "shell.execute_reply": "2022-07-22T12:00:11.212136Z"
    },
    "papermill": {
     "duration": 0.028811,
     "end_time": "2022-07-22T12:00:11.215539",
     "exception": false,
     "start_time": "2022-07-22T12:00:11.186728",
     "status": "completed"
    },
    "tags": []
   },
   "outputs": [
    {
     "data": {
      "text/plain": [
       "375"
      ]
     },
     "execution_count": 11,
     "metadata": {},
     "output_type": "execute_result"
    }
   ],
   "source": [
    "train_df[\"target\"].nunique()"
   ]
  },
  {
   "cell_type": "code",
   "execution_count": 12,
   "id": "eb5628af",
   "metadata": {
    "execution": {
     "iopub.execute_input": "2022-07-22T12:00:11.245851Z",
     "iopub.status.busy": "2022-07-22T12:00:11.245583Z",
     "iopub.status.idle": "2022-07-22T12:00:11.267183Z",
     "shell.execute_reply": "2022-07-22T12:00:11.266256Z"
    },
    "papermill": {
     "duration": 0.039529,
     "end_time": "2022-07-22T12:00:11.269648",
     "exception": false,
     "start_time": "2022-07-22T12:00:11.230119",
     "status": "completed"
    },
    "tags": []
   },
   "outputs": [
    {
     "data": {
      "text/plain": [
       "L3_CH4_solar_zenith_angle                              24765\n",
       "L3_CH4_solar_azimuth_angle                             24765\n",
       "L3_CH4_sensor_zenith_angle                             24765\n",
       "L3_CH4_sensor_azimuth_angle                            24765\n",
       "L3_CH4_aerosol_optical_depth                           24765\n",
       "L3_CH4_aerosol_height                                  24765\n",
       "L3_CH4_CH4_column_volume_mixing_ratio_dry_air          24765\n",
       "L3_NO2_tropospheric_NO2_column_number_density           8669\n",
       "L3_HCHO_tropospheric_HCHO_column_number_density_amf     7425\n",
       "L3_HCHO_tropospheric_HCHO_column_number_density         7425\n",
       "L3_HCHO_solar_zenith_angle                              7425\n",
       "L3_HCHO_solar_azimuth_angle                             7425\n",
       "L3_HCHO_sensor_zenith_angle                             7425\n",
       "L3_HCHO_sensor_azimuth_angle                            7425\n",
       "L3_HCHO_cloud_fraction                                  7425\n",
       "L3_HCHO_HCHO_slant_column_number_density                7425\n",
       "L3_SO2_absorbing_aerosol_index                          7308\n",
       "L3_SO2_SO2_slant_column_number_density                  7237\n",
       "L3_SO2_solar_zenith_angle                               7237\n",
       "L3_SO2_SO2_column_number_density_amf                    7237\n",
       "dtype: int64"
      ]
     },
     "execution_count": 12,
     "metadata": {},
     "output_type": "execute_result"
    }
   ],
   "source": [
    "train_df.isna().sum().sort_values(ascending =False).head(20)"
   ]
  },
  {
   "cell_type": "code",
   "execution_count": 13,
   "id": "4d98924c",
   "metadata": {
    "execution": {
     "iopub.execute_input": "2022-07-22T12:00:11.299595Z",
     "iopub.status.busy": "2022-07-22T12:00:11.299334Z",
     "iopub.status.idle": "2022-07-22T12:00:11.322671Z",
     "shell.execute_reply": "2022-07-22T12:00:11.321531Z"
    },
    "papermill": {
     "duration": 0.040917,
     "end_time": "2022-07-22T12:00:11.325293",
     "exception": false,
     "start_time": "2022-07-22T12:00:11.284376",
     "status": "completed"
    },
    "tags": []
   },
   "outputs": [
    {
     "data": {
      "text/plain": [
       "L3_CH4_solar_zenith_angle                              0.810453\n",
       "L3_CH4_solar_azimuth_angle                             0.810453\n",
       "L3_CH4_sensor_zenith_angle                             0.810453\n",
       "L3_CH4_sensor_azimuth_angle                            0.810453\n",
       "L3_CH4_aerosol_optical_depth                           0.810453\n",
       "L3_CH4_aerosol_height                                  0.810453\n",
       "L3_CH4_CH4_column_volume_mixing_ratio_dry_air          0.810453\n",
       "L3_NO2_tropospheric_NO2_column_number_density          0.283699\n",
       "L3_HCHO_tropospheric_HCHO_column_number_density_amf    0.242989\n",
       "L3_HCHO_tropospheric_HCHO_column_number_density        0.242989\n",
       "L3_HCHO_solar_zenith_angle                             0.242989\n",
       "L3_HCHO_solar_azimuth_angle                            0.242989\n",
       "L3_HCHO_sensor_zenith_angle                            0.242989\n",
       "L3_HCHO_sensor_azimuth_angle                           0.242989\n",
       "L3_HCHO_cloud_fraction                                 0.242989\n",
       "L3_HCHO_HCHO_slant_column_number_density               0.242989\n",
       "L3_SO2_absorbing_aerosol_index                         0.239160\n",
       "L3_SO2_SO2_slant_column_number_density                 0.236836\n",
       "L3_SO2_solar_zenith_angle                              0.236836\n",
       "L3_SO2_SO2_column_number_density_amf                   0.236836\n",
       "dtype: float64"
      ]
     },
     "execution_count": 13,
     "metadata": {},
     "output_type": "execute_result"
    }
   ],
   "source": [
    "train_df.isna().sum().sort_values(ascending =False).head(20)/len(train_df)"
   ]
  },
  {
   "cell_type": "code",
   "execution_count": 14,
   "id": "643bf270",
   "metadata": {
    "execution": {
     "iopub.execute_input": "2022-07-22T12:00:11.356809Z",
     "iopub.status.busy": "2022-07-22T12:00:11.356528Z",
     "iopub.status.idle": "2022-07-22T12:00:11.369750Z",
     "shell.execute_reply": "2022-07-22T12:00:11.368862Z"
    },
    "papermill": {
     "duration": 0.030678,
     "end_time": "2022-07-22T12:00:11.371773",
     "exception": false,
     "start_time": "2022-07-22T12:00:11.341095",
     "status": "completed"
    },
    "tags": []
   },
   "outputs": [],
   "source": [
    "train_df.drop([\"L3_CH4_solar_zenith_angle\",\"L3_CH4_solar_azimuth_angle\",\"L3_CH4_sensor_zenith_angle\",\"L3_CH4_sensor_azimuth_angle\",\"L3_CH4_aerosol_optical_depth\",\n",
    "             \"L3_CH4_aerosol_height\",\"L3_CH4_CH4_column_volume_mixing_ratio_dry_air\",\"Place_ID X Date\",\"Place_ID\"], axis=1, inplace=True)\n"
   ]
  },
  {
   "cell_type": "code",
   "execution_count": 15,
   "id": "dfa9524d",
   "metadata": {
    "execution": {
     "iopub.execute_input": "2022-07-22T12:00:11.402723Z",
     "iopub.status.busy": "2022-07-22T12:00:11.401919Z",
     "iopub.status.idle": "2022-07-22T12:00:11.409116Z",
     "shell.execute_reply": "2022-07-22T12:00:11.408223Z"
    },
    "papermill": {
     "duration": 0.024573,
     "end_time": "2022-07-22T12:00:11.411155",
     "exception": false,
     "start_time": "2022-07-22T12:00:11.386582",
     "status": "completed"
    },
    "tags": []
   },
   "outputs": [
    {
     "data": {
      "text/plain": [
       "(30557, 73)"
      ]
     },
     "execution_count": 15,
     "metadata": {},
     "output_type": "execute_result"
    }
   ],
   "source": [
    "train_df.shape"
   ]
  },
  {
   "cell_type": "code",
   "execution_count": 16,
   "id": "de90b699",
   "metadata": {
    "execution": {
     "iopub.execute_input": "2022-07-22T12:00:11.442310Z",
     "iopub.status.busy": "2022-07-22T12:00:11.442035Z",
     "iopub.status.idle": "2022-07-22T12:00:11.470507Z",
     "shell.execute_reply": "2022-07-22T12:00:11.469404Z"
    },
    "papermill": {
     "duration": 0.047189,
     "end_time": "2022-07-22T12:00:11.473146",
     "exception": false,
     "start_time": "2022-07-22T12:00:11.425957",
     "status": "completed"
    },
    "tags": []
   },
   "outputs": [
    {
     "data": {
      "text/html": [
       "<div>\n",
       "<style scoped>\n",
       "    .dataframe tbody tr th:only-of-type {\n",
       "        vertical-align: middle;\n",
       "    }\n",
       "\n",
       "    .dataframe tbody tr th {\n",
       "        vertical-align: top;\n",
       "    }\n",
       "\n",
       "    .dataframe thead th {\n",
       "        text-align: right;\n",
       "    }\n",
       "</style>\n",
       "<table border=\"1\" class=\"dataframe\">\n",
       "  <thead>\n",
       "    <tr style=\"text-align: right;\">\n",
       "      <th></th>\n",
       "      <th>Date</th>\n",
       "      <th>target</th>\n",
       "      <th>target_min</th>\n",
       "      <th>target_max</th>\n",
       "      <th>target_variance</th>\n",
       "      <th>target_count</th>\n",
       "      <th>precipitable_water_entire_atmosphere</th>\n",
       "      <th>relative_humidity_2m_above_ground</th>\n",
       "      <th>specific_humidity_2m_above_ground</th>\n",
       "      <th>temperature_2m_above_ground</th>\n",
       "      <th>...</th>\n",
       "      <th>L3_AER_AI_solar_zenith_angle</th>\n",
       "      <th>L3_SO2_SO2_column_number_density</th>\n",
       "      <th>L3_SO2_SO2_column_number_density_amf</th>\n",
       "      <th>L3_SO2_SO2_slant_column_number_density</th>\n",
       "      <th>L3_SO2_absorbing_aerosol_index</th>\n",
       "      <th>L3_SO2_cloud_fraction</th>\n",
       "      <th>L3_SO2_sensor_azimuth_angle</th>\n",
       "      <th>L3_SO2_sensor_zenith_angle</th>\n",
       "      <th>L3_SO2_solar_azimuth_angle</th>\n",
       "      <th>L3_SO2_solar_zenith_angle</th>\n",
       "    </tr>\n",
       "  </thead>\n",
       "  <tbody>\n",
       "    <tr>\n",
       "      <th>0</th>\n",
       "      <td>2020-01-02</td>\n",
       "      <td>38.0</td>\n",
       "      <td>23.0</td>\n",
       "      <td>53.0</td>\n",
       "      <td>769.50</td>\n",
       "      <td>92</td>\n",
       "      <td>11.000000</td>\n",
       "      <td>60.200001</td>\n",
       "      <td>0.00804</td>\n",
       "      <td>18.516840</td>\n",
       "      <td>...</td>\n",
       "      <td>22.358167</td>\n",
       "      <td>-0.000127</td>\n",
       "      <td>0.312521</td>\n",
       "      <td>-0.000040</td>\n",
       "      <td>-1.861476</td>\n",
       "      <td>0.000000</td>\n",
       "      <td>76.536426</td>\n",
       "      <td>38.593017</td>\n",
       "      <td>-61.752587</td>\n",
       "      <td>22.363665</td>\n",
       "    </tr>\n",
       "    <tr>\n",
       "      <th>1</th>\n",
       "      <td>2020-01-03</td>\n",
       "      <td>39.0</td>\n",
       "      <td>25.0</td>\n",
       "      <td>63.0</td>\n",
       "      <td>1319.85</td>\n",
       "      <td>91</td>\n",
       "      <td>14.600000</td>\n",
       "      <td>48.799999</td>\n",
       "      <td>0.00839</td>\n",
       "      <td>22.546533</td>\n",
       "      <td>...</td>\n",
       "      <td>28.614804</td>\n",
       "      <td>0.000150</td>\n",
       "      <td>0.433957</td>\n",
       "      <td>0.000050</td>\n",
       "      <td>-1.452612</td>\n",
       "      <td>0.059433</td>\n",
       "      <td>-14.708036</td>\n",
       "      <td>59.624912</td>\n",
       "      <td>-67.693509</td>\n",
       "      <td>28.614804</td>\n",
       "    </tr>\n",
       "    <tr>\n",
       "      <th>2</th>\n",
       "      <td>2020-01-04</td>\n",
       "      <td>24.0</td>\n",
       "      <td>8.0</td>\n",
       "      <td>56.0</td>\n",
       "      <td>1181.96</td>\n",
       "      <td>96</td>\n",
       "      <td>16.400000</td>\n",
       "      <td>33.400002</td>\n",
       "      <td>0.00750</td>\n",
       "      <td>27.031030</td>\n",
       "      <td>...</td>\n",
       "      <td>34.296977</td>\n",
       "      <td>0.000150</td>\n",
       "      <td>0.356925</td>\n",
       "      <td>0.000053</td>\n",
       "      <td>-1.572950</td>\n",
       "      <td>0.082063</td>\n",
       "      <td>-105.201338</td>\n",
       "      <td>49.839714</td>\n",
       "      <td>-78.342701</td>\n",
       "      <td>34.296977</td>\n",
       "    </tr>\n",
       "    <tr>\n",
       "      <th>3</th>\n",
       "      <td>2020-01-05</td>\n",
       "      <td>49.0</td>\n",
       "      <td>10.0</td>\n",
       "      <td>55.0</td>\n",
       "      <td>1113.67</td>\n",
       "      <td>96</td>\n",
       "      <td>6.911948</td>\n",
       "      <td>21.300001</td>\n",
       "      <td>0.00391</td>\n",
       "      <td>23.971857</td>\n",
       "      <td>...</td>\n",
       "      <td>30.545393</td>\n",
       "      <td>0.000227</td>\n",
       "      <td>0.584522</td>\n",
       "      <td>0.000110</td>\n",
       "      <td>-1.239317</td>\n",
       "      <td>0.121261</td>\n",
       "      <td>-104.334066</td>\n",
       "      <td>29.181258</td>\n",
       "      <td>-73.896588</td>\n",
       "      <td>30.545446</td>\n",
       "    </tr>\n",
       "    <tr>\n",
       "      <th>4</th>\n",
       "      <td>2020-01-06</td>\n",
       "      <td>21.0</td>\n",
       "      <td>9.0</td>\n",
       "      <td>52.0</td>\n",
       "      <td>1164.82</td>\n",
       "      <td>95</td>\n",
       "      <td>13.900001</td>\n",
       "      <td>44.700001</td>\n",
       "      <td>0.00535</td>\n",
       "      <td>16.816309</td>\n",
       "      <td>...</td>\n",
       "      <td>26.899694</td>\n",
       "      <td>0.000390</td>\n",
       "      <td>0.408047</td>\n",
       "      <td>0.000159</td>\n",
       "      <td>0.202489</td>\n",
       "      <td>0.037919</td>\n",
       "      <td>58.850179</td>\n",
       "      <td>0.797294</td>\n",
       "      <td>-68.612480</td>\n",
       "      <td>26.899694</td>\n",
       "    </tr>\n",
       "  </tbody>\n",
       "</table>\n",
       "<p>5 rows × 73 columns</p>\n",
       "</div>"
      ],
      "text/plain": [
       "         Date  target  target_min  target_max  target_variance  target_count  \\\n",
       "0  2020-01-02    38.0        23.0        53.0           769.50            92   \n",
       "1  2020-01-03    39.0        25.0        63.0          1319.85            91   \n",
       "2  2020-01-04    24.0         8.0        56.0          1181.96            96   \n",
       "3  2020-01-05    49.0        10.0        55.0          1113.67            96   \n",
       "4  2020-01-06    21.0         9.0        52.0          1164.82            95   \n",
       "\n",
       "   precipitable_water_entire_atmosphere  relative_humidity_2m_above_ground  \\\n",
       "0                             11.000000                          60.200001   \n",
       "1                             14.600000                          48.799999   \n",
       "2                             16.400000                          33.400002   \n",
       "3                              6.911948                          21.300001   \n",
       "4                             13.900001                          44.700001   \n",
       "\n",
       "   specific_humidity_2m_above_ground  temperature_2m_above_ground  ...  \\\n",
       "0                            0.00804                    18.516840  ...   \n",
       "1                            0.00839                    22.546533  ...   \n",
       "2                            0.00750                    27.031030  ...   \n",
       "3                            0.00391                    23.971857  ...   \n",
       "4                            0.00535                    16.816309  ...   \n",
       "\n",
       "   L3_AER_AI_solar_zenith_angle  L3_SO2_SO2_column_number_density  \\\n",
       "0                     22.358167                         -0.000127   \n",
       "1                     28.614804                          0.000150   \n",
       "2                     34.296977                          0.000150   \n",
       "3                     30.545393                          0.000227   \n",
       "4                     26.899694                          0.000390   \n",
       "\n",
       "   L3_SO2_SO2_column_number_density_amf  \\\n",
       "0                              0.312521   \n",
       "1                              0.433957   \n",
       "2                              0.356925   \n",
       "3                              0.584522   \n",
       "4                              0.408047   \n",
       "\n",
       "   L3_SO2_SO2_slant_column_number_density  L3_SO2_absorbing_aerosol_index  \\\n",
       "0                               -0.000040                       -1.861476   \n",
       "1                                0.000050                       -1.452612   \n",
       "2                                0.000053                       -1.572950   \n",
       "3                                0.000110                       -1.239317   \n",
       "4                                0.000159                        0.202489   \n",
       "\n",
       "   L3_SO2_cloud_fraction  L3_SO2_sensor_azimuth_angle  \\\n",
       "0               0.000000                    76.536426   \n",
       "1               0.059433                   -14.708036   \n",
       "2               0.082063                  -105.201338   \n",
       "3               0.121261                  -104.334066   \n",
       "4               0.037919                    58.850179   \n",
       "\n",
       "   L3_SO2_sensor_zenith_angle  L3_SO2_solar_azimuth_angle  \\\n",
       "0                   38.593017                  -61.752587   \n",
       "1                   59.624912                  -67.693509   \n",
       "2                   49.839714                  -78.342701   \n",
       "3                   29.181258                  -73.896588   \n",
       "4                    0.797294                  -68.612480   \n",
       "\n",
       "   L3_SO2_solar_zenith_angle  \n",
       "0                  22.363665  \n",
       "1                  28.614804  \n",
       "2                  34.296977  \n",
       "3                  30.545446  \n",
       "4                  26.899694  \n",
       "\n",
       "[5 rows x 73 columns]"
      ]
     },
     "execution_count": 16,
     "metadata": {},
     "output_type": "execute_result"
    }
   ],
   "source": [
    "train_df.head()"
   ]
  },
  {
   "cell_type": "code",
   "execution_count": 17,
   "id": "4ef4fd90",
   "metadata": {
    "collapsed": true,
    "execution": {
     "iopub.execute_input": "2022-07-22T12:00:11.505175Z",
     "iopub.status.busy": "2022-07-22T12:00:11.504634Z",
     "iopub.status.idle": "2022-07-22T12:00:11.534697Z",
     "shell.execute_reply": "2022-07-22T12:00:11.533486Z"
    },
    "jupyter": {
     "outputs_hidden": true
    },
    "papermill": {
     "duration": 0.0506,
     "end_time": "2022-07-22T12:00:11.538726",
     "exception": false,
     "start_time": "2022-07-22T12:00:11.488126",
     "status": "completed"
    },
    "tags": []
   },
   "outputs": [
    {
     "name": "stdout",
     "output_type": "stream",
     "text": [
      "<class 'pandas.core.frame.DataFrame'>\n",
      "RangeIndex: 30557 entries, 0 to 30556\n",
      "Data columns (total 73 columns):\n",
      " #   Column                                               Non-Null Count  Dtype  \n",
      "---  ------                                               --------------  -----  \n",
      " 0   Date                                                 30557 non-null  object \n",
      " 1   target                                               30557 non-null  float64\n",
      " 2   target_min                                           30557 non-null  float64\n",
      " 3   target_max                                           30557 non-null  float64\n",
      " 4   target_variance                                      30557 non-null  float64\n",
      " 5   target_count                                         30557 non-null  int64  \n",
      " 6   precipitable_water_entire_atmosphere                 30557 non-null  float64\n",
      " 7   relative_humidity_2m_above_ground                    30557 non-null  float64\n",
      " 8   specific_humidity_2m_above_ground                    30557 non-null  float64\n",
      " 9   temperature_2m_above_ground                          30557 non-null  float64\n",
      " 10  u_component_of_wind_10m_above_ground                 30557 non-null  float64\n",
      " 11  v_component_of_wind_10m_above_ground                 30557 non-null  float64\n",
      " 12  L3_NO2_NO2_column_number_density                     28368 non-null  float64\n",
      " 13  L3_NO2_NO2_slant_column_number_density               28368 non-null  float64\n",
      " 14  L3_NO2_absorbing_aerosol_index                       28368 non-null  float64\n",
      " 15  L3_NO2_cloud_fraction                                28368 non-null  float64\n",
      " 16  L3_NO2_sensor_altitude                               28368 non-null  float64\n",
      " 17  L3_NO2_sensor_azimuth_angle                          28367 non-null  float64\n",
      " 18  L3_NO2_sensor_zenith_angle                           28367 non-null  float64\n",
      " 19  L3_NO2_solar_azimuth_angle                           28367 non-null  float64\n",
      " 20  L3_NO2_solar_zenith_angle                            28367 non-null  float64\n",
      " 21  L3_NO2_stratospheric_NO2_column_number_density       28367 non-null  float64\n",
      " 22  L3_NO2_tropopause_pressure                           28367 non-null  float64\n",
      " 23  L3_NO2_tropospheric_NO2_column_number_density        21888 non-null  float64\n",
      " 24  L3_O3_O3_column_number_density                       30274 non-null  float64\n",
      " 25  L3_O3_O3_effective_temperature                       30274 non-null  float64\n",
      " 26  L3_O3_cloud_fraction                                 30274 non-null  float64\n",
      " 27  L3_O3_sensor_azimuth_angle                           30274 non-null  float64\n",
      " 28  L3_O3_sensor_zenith_angle                            30274 non-null  float64\n",
      " 29  L3_O3_solar_azimuth_angle                            30274 non-null  float64\n",
      " 30  L3_O3_solar_zenith_angle                             30274 non-null  float64\n",
      " 31  L3_CO_CO_column_number_density                       25134 non-null  float64\n",
      " 32  L3_CO_H2O_column_number_density                      25134 non-null  float64\n",
      " 33  L3_CO_cloud_height                                   25134 non-null  float64\n",
      " 34  L3_CO_sensor_altitude                                25134 non-null  float64\n",
      " 35  L3_CO_sensor_azimuth_angle                           25134 non-null  float64\n",
      " 36  L3_CO_sensor_zenith_angle                            25134 non-null  float64\n",
      " 37  L3_CO_solar_azimuth_angle                            25134 non-null  float64\n",
      " 38  L3_CO_solar_zenith_angle                             25134 non-null  float64\n",
      " 39  L3_HCHO_HCHO_slant_column_number_density             23132 non-null  float64\n",
      " 40  L3_HCHO_cloud_fraction                               23132 non-null  float64\n",
      " 41  L3_HCHO_sensor_azimuth_angle                         23132 non-null  float64\n",
      " 42  L3_HCHO_sensor_zenith_angle                          23132 non-null  float64\n",
      " 43  L3_HCHO_solar_azimuth_angle                          23132 non-null  float64\n",
      " 44  L3_HCHO_solar_zenith_angle                           23132 non-null  float64\n",
      " 45  L3_HCHO_tropospheric_HCHO_column_number_density      23132 non-null  float64\n",
      " 46  L3_HCHO_tropospheric_HCHO_column_number_density_amf  23132 non-null  float64\n",
      " 47  L3_CLOUD_cloud_base_height                           29035 non-null  float64\n",
      " 48  L3_CLOUD_cloud_base_pressure                         29035 non-null  float64\n",
      " 49  L3_CLOUD_cloud_fraction                              30183 non-null  float64\n",
      " 50  L3_CLOUD_cloud_optical_depth                         29035 non-null  float64\n",
      " 51  L3_CLOUD_cloud_top_height                            29035 non-null  float64\n",
      " 52  L3_CLOUD_cloud_top_pressure                          29035 non-null  float64\n",
      " 53  L3_CLOUD_sensor_azimuth_angle                        30183 non-null  float64\n",
      " 54  L3_CLOUD_sensor_zenith_angle                         30183 non-null  float64\n",
      " 55  L3_CLOUD_solar_azimuth_angle                         30183 non-null  float64\n",
      " 56  L3_CLOUD_solar_zenith_angle                          30183 non-null  float64\n",
      " 57  L3_CLOUD_surface_albedo                              29035 non-null  float64\n",
      " 58  L3_AER_AI_absorbing_aerosol_index                    30360 non-null  float64\n",
      " 59  L3_AER_AI_sensor_altitude                            30360 non-null  float64\n",
      " 60  L3_AER_AI_sensor_azimuth_angle                       30360 non-null  float64\n",
      " 61  L3_AER_AI_sensor_zenith_angle                        30360 non-null  float64\n",
      " 62  L3_AER_AI_solar_azimuth_angle                        30360 non-null  float64\n",
      " 63  L3_AER_AI_solar_zenith_angle                         30360 non-null  float64\n",
      " 64  L3_SO2_SO2_column_number_density                     23320 non-null  float64\n",
      " 65  L3_SO2_SO2_column_number_density_amf                 23320 non-null  float64\n",
      " 66  L3_SO2_SO2_slant_column_number_density               23320 non-null  float64\n",
      " 67  L3_SO2_absorbing_aerosol_index                       23249 non-null  float64\n",
      " 68  L3_SO2_cloud_fraction                                23320 non-null  float64\n",
      " 69  L3_SO2_sensor_azimuth_angle                          23320 non-null  float64\n",
      " 70  L3_SO2_sensor_zenith_angle                           23320 non-null  float64\n",
      " 71  L3_SO2_solar_azimuth_angle                           23320 non-null  float64\n",
      " 72  L3_SO2_solar_zenith_angle                            23320 non-null  float64\n",
      "dtypes: float64(71), int64(1), object(1)\n",
      "memory usage: 17.0+ MB\n"
     ]
    }
   ],
   "source": [
    "train_df.info()"
   ]
  },
  {
   "cell_type": "code",
   "execution_count": 18,
   "id": "3f5597de",
   "metadata": {
    "execution": {
     "iopub.execute_input": "2022-07-22T12:00:11.570796Z",
     "iopub.status.busy": "2022-07-22T12:00:11.570539Z",
     "iopub.status.idle": "2022-07-22T12:00:11.574897Z",
     "shell.execute_reply": "2022-07-22T12:00:11.573883Z"
    },
    "papermill": {
     "duration": 0.021951,
     "end_time": "2022-07-22T12:00:11.576973",
     "exception": false,
     "start_time": "2022-07-22T12:00:11.555022",
     "status": "completed"
    },
    "tags": []
   },
   "outputs": [],
   "source": [
    "# import caalltegory_encoders as ce\n",
    "# ordenc=ce.OrdinalEncoder(cols=['Espèce'])\n",
    "# train_df=ordenc.fit_transform(train_df)\n",
    "# Test=ordenc.fit_transform(Test)"
   ]
  },
  {
   "cell_type": "code",
   "execution_count": 19,
   "id": "26e7a8a5",
   "metadata": {
    "execution": {
     "iopub.execute_input": "2022-07-22T12:00:11.607904Z",
     "iopub.status.busy": "2022-07-22T12:00:11.607643Z",
     "iopub.status.idle": "2022-07-22T12:00:11.639407Z",
     "shell.execute_reply": "2022-07-22T12:00:11.638548Z"
    },
    "papermill": {
     "duration": 0.049714,
     "end_time": "2022-07-22T12:00:11.641387",
     "exception": false,
     "start_time": "2022-07-22T12:00:11.591673",
     "status": "completed"
    },
    "tags": []
   },
   "outputs": [],
   "source": [
    "import datetime as dt\n",
    "train_df[\"Date\"]=pd.to_datetime(train_df[\"Date\"])\n",
    "train_df['Date_year'] =train_df[\"Date\"].dt.year\n",
    "train_df['Date_month'] = train_df[\"Date\"].dt.month\n",
    "train_df['Date_day'] = train_df[\"Date\"].dt.day\n",
    "train_df.drop(\"Date\", axis=1, inplace=True)"
   ]
  },
  {
   "cell_type": "code",
   "execution_count": 20,
   "id": "65a11e50",
   "metadata": {
    "execution": {
     "iopub.execute_input": "2022-07-22T12:00:11.672607Z",
     "iopub.status.busy": "2022-07-22T12:00:11.671850Z",
     "iopub.status.idle": "2022-07-22T12:00:11.676765Z",
     "shell.execute_reply": "2022-07-22T12:00:11.675895Z"
    },
    "papermill": {
     "duration": 0.022456,
     "end_time": "2022-07-22T12:00:11.678736",
     "exception": false,
     "start_time": "2022-07-22T12:00:11.656280",
     "status": "completed"
    },
    "tags": []
   },
   "outputs": [],
   "source": [
    "# from sklearn.experimental import enable_iterative_imputer\n",
    "# from sklearn.impute import IterativeImputer\n",
    "# from sklearn.ensemble import RandomForestRegressor\n",
    "# estimator=RandomForestRegressor(max_depth=8)\n",
    "# mice = IterativeImputer(estimator=estimator,random_state=11,skip_complete=True)\n",
    "# # impdata=mice.fit_transform(train_df)\n",
    "# # impdata=pd.DataFrame(impdata,columns=train_df.columns)"
   ]
  },
  {
   "cell_type": "code",
   "execution_count": 21,
   "id": "60355733",
   "metadata": {
    "execution": {
     "iopub.execute_input": "2022-07-22T12:00:11.710634Z",
     "iopub.status.busy": "2022-07-22T12:00:11.710119Z",
     "iopub.status.idle": "2022-07-22T12:00:11.722186Z",
     "shell.execute_reply": "2022-07-22T12:00:11.721249Z"
    },
    "papermill": {
     "duration": 0.03024,
     "end_time": "2022-07-22T12:00:11.724209",
     "exception": false,
     "start_time": "2022-07-22T12:00:11.693969",
     "status": "completed"
    },
    "tags": []
   },
   "outputs": [],
   "source": [
    "df_train=train_df.drop(\"target\",axis=1)"
   ]
  },
  {
   "cell_type": "code",
   "execution_count": 22,
   "id": "5f39a7f2",
   "metadata": {
    "execution": {
     "iopub.execute_input": "2022-07-22T12:00:11.756140Z",
     "iopub.status.busy": "2022-07-22T12:00:11.755396Z",
     "iopub.status.idle": "2022-07-22T12:00:11.778994Z",
     "shell.execute_reply": "2022-07-22T12:00:11.778141Z"
    },
    "papermill": {
     "duration": 0.04176,
     "end_time": "2022-07-22T12:00:11.781108",
     "exception": false,
     "start_time": "2022-07-22T12:00:11.739348",
     "status": "completed"
    },
    "tags": []
   },
   "outputs": [],
   "source": [
    "test_df.drop([\"L3_CH4_solar_zenith_angle\",\"L3_CH4_solar_azimuth_angle\",\"L3_CH4_sensor_zenith_angle\",\"L3_CH4_sensor_azimuth_angle\",\"L3_CH4_aerosol_optical_depth\",\n",
    "             \"L3_CH4_aerosol_height\",\"L3_CH4_CH4_column_volume_mixing_ratio_dry_air\",\"Place_ID X Date\",\"Place_ID\"], axis=1, inplace=True)\n",
    "\n",
    "test_df[\"Date\"]=pd.to_datetime(test_df[\"Date\"])\n",
    "test_df['Date_year'] =test_df[\"Date\"].dt.year\n",
    "test_df['Date_month'] = test_df[\"Date\"].dt.month\n",
    "test_df['Date_day'] = test_df[\"Date\"].dt.day\n",
    "test_df.drop(\"Date\", axis=1, inplace=True)\n",
    "# test_impdata=mice.transform(test_df)\n",
    "# test_imputed=pd.DataFrame(test_impdata,columns=train_df.columns)"
   ]
  },
  {
   "cell_type": "code",
   "execution_count": 23,
   "id": "37b1d121",
   "metadata": {
    "execution": {
     "iopub.execute_input": "2022-07-22T12:00:11.814441Z",
     "iopub.status.busy": "2022-07-22T12:00:11.812815Z",
     "iopub.status.idle": "2022-07-22T12:00:11.818043Z",
     "shell.execute_reply": "2022-07-22T12:00:11.817231Z"
    },
    "papermill": {
     "duration": 0.023782,
     "end_time": "2022-07-22T12:00:11.820098",
     "exception": false,
     "start_time": "2022-07-22T12:00:11.796316",
     "status": "completed"
    },
    "tags": []
   },
   "outputs": [],
   "source": [
    "df_test=test_df"
   ]
  },
  {
   "cell_type": "code",
   "execution_count": 24,
   "id": "b7ac8e04",
   "metadata": {
    "execution": {
     "iopub.execute_input": "2022-07-22T12:00:11.851835Z",
     "iopub.status.busy": "2022-07-22T12:00:11.851571Z",
     "iopub.status.idle": "2022-07-22T12:00:11.856302Z",
     "shell.execute_reply": "2022-07-22T12:00:11.855350Z"
    },
    "papermill": {
     "duration": 0.023011,
     "end_time": "2022-07-22T12:00:11.858560",
     "exception": false,
     "start_time": "2022-07-22T12:00:11.835549",
     "status": "completed"
    },
    "tags": []
   },
   "outputs": [],
   "source": [
    "y_train = train_df[[\"target\"]]"
   ]
  },
  {
   "cell_type": "code",
   "execution_count": 25,
   "id": "b3e04e23",
   "metadata": {
    "execution": {
     "iopub.execute_input": "2022-07-22T12:00:11.890656Z",
     "iopub.status.busy": "2022-07-22T12:00:11.890181Z",
     "iopub.status.idle": "2022-07-22T12:00:11.895696Z",
     "shell.execute_reply": "2022-07-22T12:00:11.894783Z"
    },
    "papermill": {
     "duration": 0.023815,
     "end_time": "2022-07-22T12:00:11.897701",
     "exception": false,
     "start_time": "2022-07-22T12:00:11.873886",
     "status": "completed"
    },
    "tags": []
   },
   "outputs": [],
   "source": [
    "# X_train = np.array(train)\n",
    "# y_train = np.array(train_df[[\"target\"]])\n",
    "# X_test = np.array(test_df)"
   ]
  },
  {
   "cell_type": "code",
   "execution_count": 26,
   "id": "d56c415a",
   "metadata": {
    "execution": {
     "iopub.execute_input": "2022-07-22T12:00:11.930397Z",
     "iopub.status.busy": "2022-07-22T12:00:11.929566Z",
     "iopub.status.idle": "2022-07-22T12:00:11.944243Z",
     "shell.execute_reply": "2022-07-22T12:00:11.942610Z"
    },
    "papermill": {
     "duration": 0.033392,
     "end_time": "2022-07-22T12:00:11.946445",
     "exception": false,
     "start_time": "2022-07-22T12:00:11.913053",
     "status": "completed"
    },
    "tags": []
   },
   "outputs": [
    {
     "data": {
      "text/plain": [
       "target_min                                 0\n",
       "target_max                                 0\n",
       "target_variance                            0\n",
       "target_count                               0\n",
       "precipitable_water_entire_atmosphere       0\n",
       "                                        ... \n",
       "L3_SO2_solar_azimuth_angle              7237\n",
       "L3_SO2_solar_zenith_angle               7237\n",
       "Date_year                                  0\n",
       "Date_month                                 0\n",
       "Date_day                                   0\n",
       "Length: 74, dtype: int64"
      ]
     },
     "execution_count": 26,
     "metadata": {},
     "output_type": "execute_result"
    }
   ],
   "source": [
    "df_train.isna().sum()"
   ]
  },
  {
   "cell_type": "code",
   "execution_count": 27,
   "id": "2397950c",
   "metadata": {
    "execution": {
     "iopub.execute_input": "2022-07-22T12:00:11.979501Z",
     "iopub.status.busy": "2022-07-22T12:00:11.978763Z",
     "iopub.status.idle": "2022-07-22T12:01:35.453899Z",
     "shell.execute_reply": "2022-07-22T12:01:35.452829Z"
    },
    "papermill": {
     "duration": 83.494967,
     "end_time": "2022-07-22T12:01:35.456803",
     "exception": false,
     "start_time": "2022-07-22T12:00:11.961836",
     "status": "completed"
    },
    "tags": []
   },
   "outputs": [],
   "source": [
    "import random\n",
    "missing_values = df_train.columns[df_train.isna().any()].to_list()\n",
    "for each in missing_values:\n",
    "    if (df_train[each].dtypes =='float64'):\n",
    "        minimum= int(df_train[each].quantile(0.25))\n",
    "        maximum= int(df_train[each].quantile(0.75))\n",
    "        A=df_train[df_train[each].isnull()].index.tolist()\n",
    "        for i in A:\n",
    "            df_train.loc[i,each]=random.randint(minimum,maximum)\n",
    "        df_train[each]=pd.to_numeric(df_train[each])\n",
    "   \n",
    "\n",
    "    elif(df_train[each].dtypes == 'object'):\n",
    "        if ('True' in str(df_train[each].str.contains('No').unique().tolist())):\n",
    "            df_train[each].fillna('No',inplace=True)\n",
    "        elif('True' in str(df_train[each].str.contains('None').unique().tolist())):\n",
    "            df_train[each].fillna('None',inplace=True)\n",
    "        elif('True' in str(df_train[each].str.contains('Unf').unique().tolist())):\n",
    "            df_train[each].fillna('Unf',inplace=True)\n",
    "        else:\n",
    "            A=df_train[df_train[each].isnull()].index.tolist()\n",
    "            unique = df_train[each].unique().tolist()\n",
    "            unique=pd.Series(unique).dropna().tolist()\n",
    "            for i in A:\n",
    "                df_train.loc[i,each]=random.choice(unique)\n",
    "\n",
    "\n",
    "missing_values = df_test.columns[df_test.isna().any()].to_list()\n",
    "for each in missing_values:\n",
    "    if (df_test[each].dtypes =='float64'):\n",
    "        minimum= int(df_test[each].quantile(0.25))\n",
    "        maximum= int(df_test[each].quantile(0.75))\n",
    "        A=df_test[df_test[each].isnull()].index.tolist()\n",
    "        for i in A:\n",
    "            df_test.loc[i,each]=random.randint(minimum,maximum)\n",
    "        df_test[each]=pd.to_numeric(df_test[each])\n",
    "   \n",
    "\n",
    "    elif(df_test[each].dtypes == 'object'):\n",
    "        if ('True' in str(df_test[each].str.contains('No').unique().tolist())):\n",
    "            df_test[each].fillna('No',inplace=True)\n",
    "        elif('True' in str(df_test[each].str.contains('None').unique().tolist())):\n",
    "            df_test[each].fillna('None',inplace=True)\n",
    "        elif('True' in str(df_test[each].str.contains('Unf').unique().tolist())):\n",
    "            df_test[each].fillna('Unf',inplace=True)\n",
    "        else:\n",
    "            A=df_test[df_test[each].isnull()].index.tolist()\n",
    "            unique = df_test[each].unique().tolist()\n",
    "            unique=pd.Series(unique).dropna().tolist()\n",
    "            for i in A:\n",
    "                df_test.loc[i,each]=random.choice(unique)"
   ]
  },
  {
   "cell_type": "code",
   "execution_count": 28,
   "id": "ac7ae489",
   "metadata": {
    "execution": {
     "iopub.execute_input": "2022-07-22T12:01:35.489686Z",
     "iopub.status.busy": "2022-07-22T12:01:35.489026Z",
     "iopub.status.idle": "2022-07-22T12:01:35.537613Z",
     "shell.execute_reply": "2022-07-22T12:01:35.536498Z"
    },
    "papermill": {
     "duration": 0.067523,
     "end_time": "2022-07-22T12:01:35.540330",
     "exception": false,
     "start_time": "2022-07-22T12:01:35.472807",
     "status": "completed"
    },
    "tags": []
   },
   "outputs": [],
   "source": [
    "from sklearn.preprocessing import MinMaxScaler\n",
    "mms = MinMaxScaler()\n",
    "X_train = mms.fit_transform(df_train)\n",
    "X_test = mms.fit_transform(df_test)\n"
   ]
  },
  {
   "cell_type": "code",
   "execution_count": 29,
   "id": "3b05d336",
   "metadata": {
    "execution": {
     "iopub.execute_input": "2022-07-22T12:01:35.571789Z",
     "iopub.status.busy": "2022-07-22T12:01:35.571480Z",
     "iopub.status.idle": "2022-07-22T12:01:35.579398Z",
     "shell.execute_reply": "2022-07-22T12:01:35.578567Z"
    },
    "papermill": {
     "duration": 0.02589,
     "end_time": "2022-07-22T12:01:35.581376",
     "exception": false,
     "start_time": "2022-07-22T12:01:35.555486",
     "status": "completed"
    },
    "tags": []
   },
   "outputs": [],
   "source": [
    "y_train = mms.fit_transform(y_train)"
   ]
  },
  {
   "cell_type": "code",
   "execution_count": 30,
   "id": "7f642a9c",
   "metadata": {
    "execution": {
     "iopub.execute_input": "2022-07-22T12:01:35.612124Z",
     "iopub.status.busy": "2022-07-22T12:01:35.611865Z",
     "iopub.status.idle": "2022-07-22T12:01:35.617264Z",
     "shell.execute_reply": "2022-07-22T12:01:35.616377Z"
    },
    "papermill": {
     "duration": 0.023174,
     "end_time": "2022-07-22T12:01:35.619214",
     "exception": false,
     "start_time": "2022-07-22T12:01:35.596040",
     "status": "completed"
    },
    "tags": []
   },
   "outputs": [
    {
     "data": {
      "text/plain": [
       "((16136, 70), (30557, 74))"
      ]
     },
     "execution_count": 30,
     "metadata": {},
     "output_type": "execute_result"
    }
   ],
   "source": [
    "X_test.shape, X_train.shape"
   ]
  },
  {
   "cell_type": "code",
   "execution_count": 31,
   "id": "50a99360",
   "metadata": {
    "execution": {
     "iopub.execute_input": "2022-07-22T12:01:35.650622Z",
     "iopub.status.busy": "2022-07-22T12:01:35.650085Z",
     "iopub.status.idle": "2022-07-22T12:01:35.669506Z",
     "shell.execute_reply": "2022-07-22T12:01:35.668529Z"
    },
    "papermill": {
     "duration": 0.037346,
     "end_time": "2022-07-22T12:01:35.671807",
     "exception": false,
     "start_time": "2022-07-22T12:01:35.634461",
     "status": "completed"
    },
    "tags": []
   },
   "outputs": [],
   "source": [
    "from sklearn.model_selection import train_test_split\n",
    "xtrain, xtest, ytrain, ytest = train_test_split(X_train, y_train, test_size=0.1)"
   ]
  },
  {
   "cell_type": "code",
   "execution_count": 32,
   "id": "b07f5c40",
   "metadata": {
    "execution": {
     "iopub.execute_input": "2022-07-22T12:01:35.704128Z",
     "iopub.status.busy": "2022-07-22T12:01:35.703853Z",
     "iopub.status.idle": "2022-07-22T12:01:35.991799Z",
     "shell.execute_reply": "2022-07-22T12:01:35.990172Z"
    },
    "papermill": {
     "duration": 0.30835,
     "end_time": "2022-07-22T12:01:35.995537",
     "exception": false,
     "start_time": "2022-07-22T12:01:35.687187",
     "status": "completed"
    },
    "tags": []
   },
   "outputs": [],
   "source": [
    "from sklearn.decomposition import PCA\n",
    "pca = PCA()\n",
    "rd_xtrain = pca.fit_transform(xtrain)\n",
    "rd_xtest = pca.transform(xtest)"
   ]
  },
  {
   "cell_type": "code",
   "execution_count": 33,
   "id": "30de63d8",
   "metadata": {
    "execution": {
     "iopub.execute_input": "2022-07-22T12:01:36.109869Z",
     "iopub.status.busy": "2022-07-22T12:01:36.109407Z",
     "iopub.status.idle": "2022-07-22T12:01:36.209426Z",
     "shell.execute_reply": "2022-07-22T12:01:36.208158Z"
    },
    "papermill": {
     "duration": 0.160403,
     "end_time": "2022-07-22T12:01:36.212842",
     "exception": false,
     "start_time": "2022-07-22T12:01:36.052439",
     "status": "completed"
    },
    "tags": []
   },
   "outputs": [],
   "source": [
    "x_test=pca.fit_transform(X_test)[:,:20]"
   ]
  },
  {
   "cell_type": "code",
   "execution_count": 34,
   "id": "5cd742c6",
   "metadata": {
    "execution": {
     "iopub.execute_input": "2022-07-22T12:01:36.271700Z",
     "iopub.status.busy": "2022-07-22T12:01:36.271255Z",
     "iopub.status.idle": "2022-07-22T12:01:36.282275Z",
     "shell.execute_reply": "2022-07-22T12:01:36.281292Z"
    },
    "papermill": {
     "duration": 0.043365,
     "end_time": "2022-07-22T12:01:36.285424",
     "exception": false,
     "start_time": "2022-07-22T12:01:36.242059",
     "status": "completed"
    },
    "tags": []
   },
   "outputs": [
    {
     "data": {
      "text/plain": [
       "(16136, 20)"
      ]
     },
     "execution_count": 34,
     "metadata": {},
     "output_type": "execute_result"
    }
   ],
   "source": [
    "x_test.shape"
   ]
  },
  {
   "cell_type": "code",
   "execution_count": 35,
   "id": "7d7adf83",
   "metadata": {
    "execution": {
     "iopub.execute_input": "2022-07-22T12:01:36.339899Z",
     "iopub.status.busy": "2022-07-22T12:01:36.339615Z",
     "iopub.status.idle": "2022-07-22T12:01:36.345439Z",
     "shell.execute_reply": "2022-07-22T12:01:36.344548Z"
    },
    "papermill": {
     "duration": 0.033763,
     "end_time": "2022-07-22T12:01:36.347287",
     "exception": false,
     "start_time": "2022-07-22T12:01:36.313524",
     "status": "completed"
    },
    "tags": []
   },
   "outputs": [
    {
     "data": {
      "text/plain": [
       "(70,)"
      ]
     },
     "execution_count": 35,
     "metadata": {},
     "output_type": "execute_result"
    }
   ],
   "source": [
    "explained_variance=pca.explained_variance_ratio_\n",
    "explained_variance.shape"
   ]
  },
  {
   "cell_type": "code",
   "execution_count": 36,
   "id": "5cfbeb18",
   "metadata": {
    "execution": {
     "iopub.execute_input": "2022-07-22T12:01:36.379396Z",
     "iopub.status.busy": "2022-07-22T12:01:36.379134Z",
     "iopub.status.idle": "2022-07-22T12:01:36.383280Z",
     "shell.execute_reply": "2022-07-22T12:01:36.382323Z"
    },
    "papermill": {
     "duration": 0.022701,
     "end_time": "2022-07-22T12:01:36.385414",
     "exception": false,
     "start_time": "2022-07-22T12:01:36.362713",
     "status": "completed"
    },
    "tags": []
   },
   "outputs": [],
   "source": [
    "# with plt.style.context('dark_background'):\n",
    "#     plt.figure(figsize=(12, 6))\n",
    "\n",
    "#     plt.bar(range(74), explained_variance, alpha=0.5, align='center',label='individual explained variance')\n",
    "#     plt.ylabel('Explained variance ratio')\n",
    "#     plt.xlabel('Principal components')\n",
    "#     plt.legend(loc='best')\n",
    "#     plt.tight_layout()"
   ]
  },
  {
   "cell_type": "code",
   "execution_count": 37,
   "id": "64b0e6af",
   "metadata": {
    "execution": {
     "iopub.execute_input": "2022-07-22T12:01:36.417660Z",
     "iopub.status.busy": "2022-07-22T12:01:36.416804Z",
     "iopub.status.idle": "2022-07-22T12:01:36.422018Z",
     "shell.execute_reply": "2022-07-22T12:01:36.421100Z"
    },
    "papermill": {
     "duration": 0.023568,
     "end_time": "2022-07-22T12:01:36.424035",
     "exception": false,
     "start_time": "2022-07-22T12:01:36.400467",
     "status": "completed"
    },
    "tags": []
   },
   "outputs": [],
   "source": [
    "xtrain_ = rd_xtrain[:, :20]\n",
    "xtest_ = rd_xtest[:, :20]"
   ]
  },
  {
   "cell_type": "code",
   "execution_count": 38,
   "id": "1e45a33f",
   "metadata": {
    "execution": {
     "iopub.execute_input": "2022-07-22T12:01:36.456300Z",
     "iopub.status.busy": "2022-07-22T12:01:36.455466Z",
     "iopub.status.idle": "2022-07-22T12:01:36.462429Z",
     "shell.execute_reply": "2022-07-22T12:01:36.461444Z"
    },
    "papermill": {
     "duration": 0.024823,
     "end_time": "2022-07-22T12:01:36.464352",
     "exception": false,
     "start_time": "2022-07-22T12:01:36.439529",
     "status": "completed"
    },
    "tags": []
   },
   "outputs": [
    {
     "data": {
      "text/plain": [
       "((27501, 20), (3056, 20))"
      ]
     },
     "execution_count": 38,
     "metadata": {},
     "output_type": "execute_result"
    }
   ],
   "source": [
    "xtrain_.shape, xtest_.shape"
   ]
  },
  {
   "cell_type": "markdown",
   "id": "a1d632dd",
   "metadata": {
    "papermill": {
     "duration": 0.015673,
     "end_time": "2022-07-22T12:01:36.495579",
     "exception": false,
     "start_time": "2022-07-22T12:01:36.479906",
     "status": "completed"
    },
    "tags": []
   },
   "source": [
    "****"
   ]
  },
  {
   "cell_type": "code",
   "execution_count": 39,
   "id": "d1a9e800",
   "metadata": {
    "execution": {
     "iopub.execute_input": "2022-07-22T12:01:36.527874Z",
     "iopub.status.busy": "2022-07-22T12:01:36.527619Z",
     "iopub.status.idle": "2022-07-22T12:02:23.206279Z",
     "shell.execute_reply": "2022-07-22T12:02:23.205033Z"
    },
    "papermill": {
     "duration": 46.697398,
     "end_time": "2022-07-22T12:02:23.208899",
     "exception": false,
     "start_time": "2022-07-22T12:01:36.511501",
     "status": "completed"
    },
    "tags": []
   },
   "outputs": [],
   "source": [
    "from sklearn.ensemble import RandomForestRegressor\n",
    "Rf = RandomForestRegressor(min_samples_split=15)\n",
    "Rf.fit(xtrain_, ytrain)\n",
    "ypred=Rf.predict(xtest_)"
   ]
  },
  {
   "cell_type": "code",
   "execution_count": 40,
   "id": "aadba98e",
   "metadata": {
    "execution": {
     "iopub.execute_input": "2022-07-22T12:02:23.242037Z",
     "iopub.status.busy": "2022-07-22T12:02:23.241747Z",
     "iopub.status.idle": "2022-07-22T12:02:23.249277Z",
     "shell.execute_reply": "2022-07-22T12:02:23.248255Z"
    },
    "papermill": {
     "duration": 0.026169,
     "end_time": "2022-07-22T12:02:23.251278",
     "exception": false,
     "start_time": "2022-07-22T12:02:23.225109",
     "status": "completed"
    },
    "tags": []
   },
   "outputs": [
    {
     "data": {
      "text/plain": [
       "0.03421906076120557"
      ]
     },
     "execution_count": 40,
     "metadata": {},
     "output_type": "execute_result"
    }
   ],
   "source": [
    "from sklearn.metrics import mean_absolute_error\n",
    "mean_absolute_error(ytest, ypred)"
   ]
  },
  {
   "cell_type": "code",
   "execution_count": 41,
   "id": "ccd36664",
   "metadata": {
    "execution": {
     "iopub.execute_input": "2022-07-22T12:02:23.284207Z",
     "iopub.status.busy": "2022-07-22T12:02:23.283348Z",
     "iopub.status.idle": "2022-07-22T12:02:26.631108Z",
     "shell.execute_reply": "2022-07-22T12:02:26.630136Z"
    },
    "papermill": {
     "duration": 3.366438,
     "end_time": "2022-07-22T12:02:26.633334",
     "exception": false,
     "start_time": "2022-07-22T12:02:23.266896",
     "status": "completed"
    },
    "tags": []
   },
   "outputs": [
    {
     "data": {
      "text/plain": [
       "RandomForestRegressor(min_samples_split=15)"
      ]
     },
     "execution_count": 41,
     "metadata": {},
     "output_type": "execute_result"
    }
   ],
   "source": [
    "Rf.fit(xtest_, ytest)"
   ]
  },
  {
   "cell_type": "code",
   "execution_count": 42,
   "id": "9f315e1c",
   "metadata": {
    "execution": {
     "iopub.execute_input": "2022-07-22T12:02:26.667786Z",
     "iopub.status.busy": "2022-07-22T12:02:26.667472Z",
     "iopub.status.idle": "2022-07-22T12:02:26.853507Z",
     "shell.execute_reply": "2022-07-22T12:02:26.852448Z"
    },
    "papermill": {
     "duration": 0.205501,
     "end_time": "2022-07-22T12:02:26.855881",
     "exception": false,
     "start_time": "2022-07-22T12:02:26.650380",
     "status": "completed"
    },
    "tags": []
   },
   "outputs": [],
   "source": [
    "y_pred4 = Rf.predict(x_test) \n",
    "y_pred_original4 = mms.inverse_transform(y_pred4.reshape(-1,1))\n",
    "y_pred_original4=y_pred_original4.tolist()\n",
    "y_pred_original4=[i[0] for i in y_pred_original4]"
   ]
  },
  {
   "cell_type": "code",
   "execution_count": 43,
   "id": "f774fa8a",
   "metadata": {
    "execution": {
     "iopub.execute_input": "2022-07-22T12:02:26.889772Z",
     "iopub.status.busy": "2022-07-22T12:02:26.889470Z",
     "iopub.status.idle": "2022-07-22T12:02:26.956078Z",
     "shell.execute_reply": "2022-07-22T12:02:26.955117Z"
    },
    "papermill": {
     "duration": 0.085957,
     "end_time": "2022-07-22T12:02:26.958331",
     "exception": false,
     "start_time": "2022-07-22T12:02:26.872374",
     "status": "completed"
    },
    "tags": []
   },
   "outputs": [],
   "source": [
    "submission = pd.DataFrame({'Place_ID X Date\t': Id,'target': y_pred_original4})\n",
    "submission.to_csv('submission4.csv', index=False)"
   ]
  },
  {
   "cell_type": "markdown",
   "id": "6e2868ba",
   "metadata": {
    "papermill": {
     "duration": 0.016169,
     "end_time": "2022-07-22T12:02:26.990088",
     "exception": false,
     "start_time": "2022-07-22T12:02:26.973919",
     "status": "completed"
    },
    "tags": []
   },
   "source": [
    "****"
   ]
  },
  {
   "cell_type": "markdown",
   "id": "07dbda6a",
   "metadata": {
    "papermill": {
     "duration": 0.015209,
     "end_time": "2022-07-22T12:02:27.021617",
     "exception": false,
     "start_time": "2022-07-22T12:02:27.006408",
     "status": "completed"
    },
    "tags": []
   },
   "source": [
    "****"
   ]
  },
  {
   "cell_type": "code",
   "execution_count": 44,
   "id": "3e7dfd65",
   "metadata": {
    "execution": {
     "iopub.execute_input": "2022-07-22T12:02:27.055335Z",
     "iopub.status.busy": "2022-07-22T12:02:27.054944Z",
     "iopub.status.idle": "2022-07-22T12:02:27.059829Z",
     "shell.execute_reply": "2022-07-22T12:02:27.058760Z"
    },
    "papermill": {
     "duration": 0.024905,
     "end_time": "2022-07-22T12:02:27.061985",
     "exception": false,
     "start_time": "2022-07-22T12:02:27.037080",
     "status": "completed"
    },
    "tags": []
   },
   "outputs": [],
   "source": [
    "from keras.models import Sequential\n",
    "from keras.layers import Dense,Dropout"
   ]
  },
  {
   "cell_type": "code",
   "execution_count": 45,
   "id": "dbfbbea8",
   "metadata": {
    "execution": {
     "iopub.execute_input": "2022-07-22T12:02:27.096836Z",
     "iopub.status.busy": "2022-07-22T12:02:27.095986Z",
     "iopub.status.idle": "2022-07-22T12:02:29.738329Z",
     "shell.execute_reply": "2022-07-22T12:02:29.737184Z"
    },
    "papermill": {
     "duration": 2.663221,
     "end_time": "2022-07-22T12:02:29.741917",
     "exception": false,
     "start_time": "2022-07-22T12:02:27.078696",
     "status": "completed"
    },
    "tags": []
   },
   "outputs": [
    {
     "name": "stderr",
     "output_type": "stream",
     "text": [
      "2022-07-22 12:02:27.183281: I tensorflow/stream_executor/cuda/cuda_gpu_executor.cc:937] successful NUMA node read from SysFS had negative value (-1), but there must be at least one NUMA node, so returning NUMA node zero\n",
      "2022-07-22 12:02:27.285651: I tensorflow/stream_executor/cuda/cuda_gpu_executor.cc:937] successful NUMA node read from SysFS had negative value (-1), but there must be at least one NUMA node, so returning NUMA node zero\n",
      "2022-07-22 12:02:27.286529: I tensorflow/stream_executor/cuda/cuda_gpu_executor.cc:937] successful NUMA node read from SysFS had negative value (-1), but there must be at least one NUMA node, so returning NUMA node zero\n",
      "2022-07-22 12:02:27.288424: I tensorflow/core/platform/cpu_feature_guard.cc:142] This TensorFlow binary is optimized with oneAPI Deep Neural Network Library (oneDNN) to use the following CPU instructions in performance-critical operations:  AVX2 AVX512F FMA\n",
      "To enable them in other operations, rebuild TensorFlow with the appropriate compiler flags.\n",
      "2022-07-22 12:02:27.288786: I tensorflow/stream_executor/cuda/cuda_gpu_executor.cc:937] successful NUMA node read from SysFS had negative value (-1), but there must be at least one NUMA node, so returning NUMA node zero\n",
      "2022-07-22 12:02:27.289670: I tensorflow/stream_executor/cuda/cuda_gpu_executor.cc:937] successful NUMA node read from SysFS had negative value (-1), but there must be at least one NUMA node, so returning NUMA node zero\n",
      "2022-07-22 12:02:27.290438: I tensorflow/stream_executor/cuda/cuda_gpu_executor.cc:937] successful NUMA node read from SysFS had negative value (-1), but there must be at least one NUMA node, so returning NUMA node zero\n",
      "2022-07-22 12:02:29.357290: I tensorflow/stream_executor/cuda/cuda_gpu_executor.cc:937] successful NUMA node read from SysFS had negative value (-1), but there must be at least one NUMA node, so returning NUMA node zero\n",
      "2022-07-22 12:02:29.358440: I tensorflow/stream_executor/cuda/cuda_gpu_executor.cc:937] successful NUMA node read from SysFS had negative value (-1), but there must be at least one NUMA node, so returning NUMA node zero\n",
      "2022-07-22 12:02:29.359451: I tensorflow/stream_executor/cuda/cuda_gpu_executor.cc:937] successful NUMA node read from SysFS had negative value (-1), but there must be at least one NUMA node, so returning NUMA node zero\n",
      "2022-07-22 12:02:29.360458: I tensorflow/core/common_runtime/gpu/gpu_device.cc:1510] Created device /job:localhost/replica:0/task:0/device:GPU:0 with 15403 MB memory:  -> device: 0, name: Tesla P100-PCIE-16GB, pci bus id: 0000:00:04.0, compute capability: 6.0\n"
     ]
    }
   ],
   "source": [
    "regressor = Sequential()\n",
    "regressor.add(Dense(units=512,activation='relu',kernel_initializer='uniform'))\n",
    "regressor.add(Dense(units=256,activation='relu',kernel_initializer='uniform'))\n",
    "regressor.add(Dense(units=256,activation='relu',kernel_initializer='uniform'))\n",
    "regressor.add(Dense(units=128,activation='relu',kernel_initializer='uniform'))\n",
    "regressor.add(Dense(units=1,activation='relu',kernel_initializer='uniform'))"
   ]
  },
  {
   "cell_type": "code",
   "execution_count": 46,
   "id": "46d2ee9c",
   "metadata": {
    "execution": {
     "iopub.execute_input": "2022-07-22T12:02:29.777510Z",
     "iopub.status.busy": "2022-07-22T12:02:29.775665Z",
     "iopub.status.idle": "2022-07-22T12:02:29.793534Z",
     "shell.execute_reply": "2022-07-22T12:02:29.792626Z"
    },
    "papermill": {
     "duration": 0.036725,
     "end_time": "2022-07-22T12:02:29.795548",
     "exception": false,
     "start_time": "2022-07-22T12:02:29.758823",
     "status": "completed"
    },
    "tags": []
   },
   "outputs": [],
   "source": [
    "regressor.compile(optimizer='adam',loss='mean_absolute_error',metrics=['mean_absolute_error'])"
   ]
  },
  {
   "cell_type": "code",
   "execution_count": 47,
   "id": "6fef01ec",
   "metadata": {
    "collapsed": true,
    "execution": {
     "iopub.execute_input": "2022-07-22T12:02:29.828700Z",
     "iopub.status.busy": "2022-07-22T12:02:29.828008Z",
     "iopub.status.idle": "2022-07-22T12:20:48.450458Z",
     "shell.execute_reply": "2022-07-22T12:20:48.449387Z"
    },
    "jupyter": {
     "outputs_hidden": true
    },
    "papermill": {
     "duration": 1098.641221,
     "end_time": "2022-07-22T12:20:48.452600",
     "exception": false,
     "start_time": "2022-07-22T12:02:29.811379",
     "status": "completed"
    },
    "tags": []
   },
   "outputs": [
    {
     "name": "stderr",
     "output_type": "stream",
     "text": [
      "2022-07-22 12:02:29.902749: I tensorflow/compiler/mlir/mlir_graph_optimization_pass.cc:185] None of the MLIR Optimization Passes are enabled (registered 2)\n"
     ]
    },
    {
     "name": "stdout",
     "output_type": "stream",
     "text": [
      "Epoch 1/250\n",
      "1834/1834 [==============================] - 6s 2ms/step - loss: 0.0360 - mean_absolute_error: 0.0360\n",
      "Epoch 2/250\n",
      "1834/1834 [==============================] - 4s 2ms/step - loss: 0.0339 - mean_absolute_error: 0.0339\n",
      "Epoch 3/250\n",
      "1834/1834 [==============================] - 5s 3ms/step - loss: 0.0328 - mean_absolute_error: 0.0328\n",
      "Epoch 4/250\n",
      "1834/1834 [==============================] - 4s 2ms/step - loss: 0.0321 - mean_absolute_error: 0.0321\n",
      "Epoch 5/250\n",
      "1834/1834 [==============================] - 5s 2ms/step - loss: 0.0313 - mean_absolute_error: 0.0313\n",
      "Epoch 6/250\n",
      "1834/1834 [==============================] - 4s 2ms/step - loss: 0.0308 - mean_absolute_error: 0.0308\n",
      "Epoch 7/250\n",
      "1834/1834 [==============================] - 4s 2ms/step - loss: 0.0302 - mean_absolute_error: 0.0302\n",
      "Epoch 8/250\n",
      "1834/1834 [==============================] - 4s 2ms/step - loss: 0.0297 - mean_absolute_error: 0.0297\n",
      "Epoch 9/250\n",
      "1834/1834 [==============================] - 4s 2ms/step - loss: 0.0292 - mean_absolute_error: 0.0292\n",
      "Epoch 10/250\n",
      "1834/1834 [==============================] - 5s 3ms/step - loss: 0.0288 - mean_absolute_error: 0.0288\n",
      "Epoch 11/250\n",
      "1834/1834 [==============================] - 4s 2ms/step - loss: 0.0285 - mean_absolute_error: 0.0285\n",
      "Epoch 12/250\n",
      "1834/1834 [==============================] - 4s 2ms/step - loss: 0.0280 - mean_absolute_error: 0.0280\n",
      "Epoch 13/250\n",
      "1834/1834 [==============================] - 5s 3ms/step - loss: 0.0277 - mean_absolute_error: 0.0277\n",
      "Epoch 14/250\n",
      "1834/1834 [==============================] - 4s 2ms/step - loss: 0.0271 - mean_absolute_error: 0.0271\n",
      "Epoch 15/250\n",
      "1834/1834 [==============================] - 4s 2ms/step - loss: 0.0268 - mean_absolute_error: 0.0268\n",
      "Epoch 16/250\n",
      "1834/1834 [==============================] - 4s 2ms/step - loss: 0.0264 - mean_absolute_error: 0.0264\n",
      "Epoch 17/250\n",
      "1834/1834 [==============================] - 4s 2ms/step - loss: 0.0260 - mean_absolute_error: 0.0260\n",
      "Epoch 18/250\n",
      "1834/1834 [==============================] - 5s 3ms/step - loss: 0.0257 - mean_absolute_error: 0.0257\n",
      "Epoch 19/250\n",
      "1834/1834 [==============================] - 4s 2ms/step - loss: 0.0253 - mean_absolute_error: 0.0253\n",
      "Epoch 20/250\n",
      "1834/1834 [==============================] - 4s 2ms/step - loss: 0.0251 - mean_absolute_error: 0.0251\n",
      "Epoch 21/250\n",
      "1834/1834 [==============================] - 4s 2ms/step - loss: 0.0248 - mean_absolute_error: 0.0248\n",
      "Epoch 22/250\n",
      "1834/1834 [==============================] - 4s 2ms/step - loss: 0.0244 - mean_absolute_error: 0.0244\n",
      "Epoch 23/250\n",
      "1834/1834 [==============================] - 4s 2ms/step - loss: 0.0241 - mean_absolute_error: 0.0241\n",
      "Epoch 24/250\n",
      "1834/1834 [==============================] - 4s 2ms/step - loss: 0.0239 - mean_absolute_error: 0.0239\n",
      "Epoch 25/250\n",
      "1834/1834 [==============================] - 5s 3ms/step - loss: 0.0236 - mean_absolute_error: 0.0236\n",
      "Epoch 26/250\n",
      "1834/1834 [==============================] - 4s 2ms/step - loss: 0.0232 - mean_absolute_error: 0.0232\n",
      "Epoch 27/250\n",
      "1834/1834 [==============================] - 4s 2ms/step - loss: 0.0230 - mean_absolute_error: 0.0230\n",
      "Epoch 28/250\n",
      "1834/1834 [==============================] - 5s 3ms/step - loss: 0.0227 - mean_absolute_error: 0.0227\n",
      "Epoch 29/250\n",
      "1834/1834 [==============================] - 4s 2ms/step - loss: 0.0226 - mean_absolute_error: 0.0226\n",
      "Epoch 30/250\n",
      "1834/1834 [==============================] - 4s 2ms/step - loss: 0.0223 - mean_absolute_error: 0.0223\n",
      "Epoch 31/250\n",
      "1834/1834 [==============================] - 4s 2ms/step - loss: 0.0221 - mean_absolute_error: 0.0221\n",
      "Epoch 32/250\n",
      "1834/1834 [==============================] - 4s 2ms/step - loss: 0.0219 - mean_absolute_error: 0.0219\n",
      "Epoch 33/250\n",
      "1834/1834 [==============================] - 5s 3ms/step - loss: 0.0216 - mean_absolute_error: 0.0216\n",
      "Epoch 34/250\n",
      "1834/1834 [==============================] - 4s 2ms/step - loss: 0.0215 - mean_absolute_error: 0.0215\n",
      "Epoch 35/250\n",
      "1834/1834 [==============================] - 5s 3ms/step - loss: 0.0212 - mean_absolute_error: 0.0212\n",
      "Epoch 36/250\n",
      "1834/1834 [==============================] - 4s 2ms/step - loss: 0.0210 - mean_absolute_error: 0.0210\n",
      "Epoch 37/250\n",
      "1834/1834 [==============================] - 4s 2ms/step - loss: 0.0207 - mean_absolute_error: 0.0207\n",
      "Epoch 38/250\n",
      "1834/1834 [==============================] - 4s 2ms/step - loss: 0.0206 - mean_absolute_error: 0.0206\n",
      "Epoch 39/250\n",
      "1834/1834 [==============================] - 4s 2ms/step - loss: 0.0203 - mean_absolute_error: 0.0203\n",
      "Epoch 40/250\n",
      "1834/1834 [==============================] - 5s 3ms/step - loss: 0.0201 - mean_absolute_error: 0.0201\n",
      "Epoch 41/250\n",
      "1834/1834 [==============================] - 4s 2ms/step - loss: 0.0201 - mean_absolute_error: 0.0201\n",
      "Epoch 42/250\n",
      "1834/1834 [==============================] - 5s 2ms/step - loss: 0.0197 - mean_absolute_error: 0.0197\n",
      "Epoch 43/250\n",
      "1834/1834 [==============================] - 4s 2ms/step - loss: 0.0195 - mean_absolute_error: 0.0195\n",
      "Epoch 44/250\n",
      "1834/1834 [==============================] - 4s 2ms/step - loss: 0.0195 - mean_absolute_error: 0.0195\n",
      "Epoch 45/250\n",
      "1834/1834 [==============================] - 4s 2ms/step - loss: 0.0193 - mean_absolute_error: 0.0193\n",
      "Epoch 46/250\n",
      "1834/1834 [==============================] - 4s 2ms/step - loss: 0.0191 - mean_absolute_error: 0.0191\n",
      "Epoch 47/250\n",
      "1834/1834 [==============================] - 4s 2ms/step - loss: 0.0189 - mean_absolute_error: 0.0189\n",
      "Epoch 48/250\n",
      "1834/1834 [==============================] - 5s 3ms/step - loss: 0.0188 - mean_absolute_error: 0.0188\n",
      "Epoch 49/250\n",
      "1834/1834 [==============================] - 4s 2ms/step - loss: 0.0185 - mean_absolute_error: 0.0185\n",
      "Epoch 50/250\n",
      "1834/1834 [==============================] - 4s 2ms/step - loss: 0.0184 - mean_absolute_error: 0.0184\n",
      "Epoch 51/250\n",
      "1834/1834 [==============================] - 4s 2ms/step - loss: 0.0182 - mean_absolute_error: 0.0182\n",
      "Epoch 52/250\n",
      "1834/1834 [==============================] - 4s 2ms/step - loss: 0.0181 - mean_absolute_error: 0.0181\n",
      "Epoch 53/250\n",
      "1834/1834 [==============================] - 4s 2ms/step - loss: 0.0179 - mean_absolute_error: 0.0179\n",
      "Epoch 54/250\n",
      "1834/1834 [==============================] - 4s 2ms/step - loss: 0.0180 - mean_absolute_error: 0.0180\n",
      "Epoch 55/250\n",
      "1834/1834 [==============================] - 5s 3ms/step - loss: 0.0177 - mean_absolute_error: 0.0177\n",
      "Epoch 56/250\n",
      "1834/1834 [==============================] - 4s 2ms/step - loss: 0.0176 - mean_absolute_error: 0.0176\n",
      "Epoch 57/250\n",
      "1834/1834 [==============================] - 4s 2ms/step - loss: 0.0176 - mean_absolute_error: 0.0176\n",
      "Epoch 58/250\n",
      "1834/1834 [==============================] - 4s 2ms/step - loss: 0.0173 - mean_absolute_error: 0.0173\n",
      "Epoch 59/250\n",
      "1834/1834 [==============================] - 4s 2ms/step - loss: 0.0172 - mean_absolute_error: 0.0172\n",
      "Epoch 60/250\n",
      "1834/1834 [==============================] - 4s 2ms/step - loss: 0.0170 - mean_absolute_error: 0.0170\n",
      "Epoch 61/250\n",
      "1834/1834 [==============================] - 4s 2ms/step - loss: 0.0169 - mean_absolute_error: 0.0169\n",
      "Epoch 62/250\n",
      "1834/1834 [==============================] - 4s 2ms/step - loss: 0.0167 - mean_absolute_error: 0.0167\n",
      "Epoch 63/250\n",
      "1834/1834 [==============================] - 5s 3ms/step - loss: 0.0167 - mean_absolute_error: 0.0167\n",
      "Epoch 64/250\n",
      "1834/1834 [==============================] - 4s 2ms/step - loss: 0.0167 - mean_absolute_error: 0.0167\n",
      "Epoch 65/250\n",
      "1834/1834 [==============================] - 4s 2ms/step - loss: 0.0164 - mean_absolute_error: 0.0164\n",
      "Epoch 66/250\n",
      "1834/1834 [==============================] - 4s 2ms/step - loss: 0.0164 - mean_absolute_error: 0.0164\n",
      "Epoch 67/250\n",
      "1834/1834 [==============================] - 4s 2ms/step - loss: 0.0162 - mean_absolute_error: 0.0162\n",
      "Epoch 68/250\n",
      "1834/1834 [==============================] - 4s 2ms/step - loss: 0.0161 - mean_absolute_error: 0.0161\n",
      "Epoch 69/250\n",
      "1834/1834 [==============================] - 4s 2ms/step - loss: 0.0160 - mean_absolute_error: 0.0160\n",
      "Epoch 70/250\n",
      "1834/1834 [==============================] - 5s 3ms/step - loss: 0.0159 - mean_absolute_error: 0.0159\n",
      "Epoch 71/250\n",
      "1834/1834 [==============================] - 4s 2ms/step - loss: 0.0157 - mean_absolute_error: 0.0157\n",
      "Epoch 72/250\n",
      "1834/1834 [==============================] - 4s 2ms/step - loss: 0.0157 - mean_absolute_error: 0.0157\n",
      "Epoch 73/250\n",
      "1834/1834 [==============================] - 4s 2ms/step - loss: 0.0156 - mean_absolute_error: 0.0156\n",
      "Epoch 74/250\n",
      "1834/1834 [==============================] - 4s 2ms/step - loss: 0.0155 - mean_absolute_error: 0.0155\n",
      "Epoch 75/250\n",
      "1834/1834 [==============================] - 4s 2ms/step - loss: 0.0153 - mean_absolute_error: 0.0153\n",
      "Epoch 76/250\n",
      "1834/1834 [==============================] - 4s 2ms/step - loss: 0.0153 - mean_absolute_error: 0.0153\n",
      "Epoch 77/250\n",
      "1834/1834 [==============================] - 5s 3ms/step - loss: 0.0152 - mean_absolute_error: 0.0152\n",
      "Epoch 78/250\n",
      "1834/1834 [==============================] - 5s 3ms/step - loss: 0.0151 - mean_absolute_error: 0.0151\n",
      "Epoch 79/250\n",
      "1834/1834 [==============================] - 4s 2ms/step - loss: 0.0150 - mean_absolute_error: 0.0150\n",
      "Epoch 80/250\n",
      "1834/1834 [==============================] - 4s 2ms/step - loss: 0.0149 - mean_absolute_error: 0.0149\n",
      "Epoch 81/250\n",
      "1834/1834 [==============================] - 4s 2ms/step - loss: 0.0149 - mean_absolute_error: 0.0149\n",
      "Epoch 82/250\n",
      "1834/1834 [==============================] - 4s 2ms/step - loss: 0.0149 - mean_absolute_error: 0.0149\n",
      "Epoch 83/250\n",
      "1834/1834 [==============================] - 4s 2ms/step - loss: 0.0147 - mean_absolute_error: 0.0147\n",
      "Epoch 84/250\n",
      "1834/1834 [==============================] - 4s 2ms/step - loss: 0.0146 - mean_absolute_error: 0.0146\n",
      "Epoch 85/250\n",
      "1834/1834 [==============================] - 5s 3ms/step - loss: 0.0146 - mean_absolute_error: 0.0146\n",
      "Epoch 86/250\n",
      "1834/1834 [==============================] - 4s 2ms/step - loss: 0.0145 - mean_absolute_error: 0.0145\n",
      "Epoch 87/250\n",
      "1834/1834 [==============================] - 4s 2ms/step - loss: 0.0144 - mean_absolute_error: 0.0144\n",
      "Epoch 88/250\n",
      "1834/1834 [==============================] - 4s 2ms/step - loss: 0.0144 - mean_absolute_error: 0.0144\n",
      "Epoch 89/250\n",
      "1834/1834 [==============================] - 4s 2ms/step - loss: 0.0143 - mean_absolute_error: 0.0143\n",
      "Epoch 90/250\n",
      "1834/1834 [==============================] - 4s 2ms/step - loss: 0.0142 - mean_absolute_error: 0.0142\n",
      "Epoch 91/250\n",
      "1834/1834 [==============================] - 4s 2ms/step - loss: 0.0141 - mean_absolute_error: 0.0141\n",
      "Epoch 92/250\n",
      "1834/1834 [==============================] - 4s 2ms/step - loss: 0.0140 - mean_absolute_error: 0.0140\n",
      "Epoch 93/250\n",
      "1834/1834 [==============================] - 5s 3ms/step - loss: 0.0139 - mean_absolute_error: 0.0139\n",
      "Epoch 94/250\n",
      "1834/1834 [==============================] - 4s 2ms/step - loss: 0.0139 - mean_absolute_error: 0.0139\n",
      "Epoch 95/250\n",
      "1834/1834 [==============================] - 4s 2ms/step - loss: 0.0138 - mean_absolute_error: 0.0138\n",
      "Epoch 96/250\n",
      "1834/1834 [==============================] - 4s 2ms/step - loss: 0.0136 - mean_absolute_error: 0.0136\n",
      "Epoch 97/250\n",
      "1834/1834 [==============================] - 4s 2ms/step - loss: 0.0137 - mean_absolute_error: 0.0137\n",
      "Epoch 98/250\n",
      "1834/1834 [==============================] - 5s 3ms/step - loss: 0.0135 - mean_absolute_error: 0.0135\n",
      "Epoch 99/250\n",
      "1834/1834 [==============================] - 4s 2ms/step - loss: 0.0136 - mean_absolute_error: 0.0136\n",
      "Epoch 100/250\n",
      "1834/1834 [==============================] - 5s 3ms/step - loss: 0.0134 - mean_absolute_error: 0.0134\n",
      "Epoch 101/250\n",
      "1834/1834 [==============================] - 4s 2ms/step - loss: 0.0134 - mean_absolute_error: 0.0134\n",
      "Epoch 102/250\n",
      "1834/1834 [==============================] - 4s 2ms/step - loss: 0.0134 - mean_absolute_error: 0.0134\n",
      "Epoch 103/250\n",
      "1834/1834 [==============================] - 4s 2ms/step - loss: 0.0133 - mean_absolute_error: 0.0133\n",
      "Epoch 104/250\n",
      "1834/1834 [==============================] - 4s 2ms/step - loss: 0.0133 - mean_absolute_error: 0.0133\n",
      "Epoch 105/250\n",
      "1834/1834 [==============================] - 5s 3ms/step - loss: 0.0131 - mean_absolute_error: 0.0131\n",
      "Epoch 106/250\n",
      "1834/1834 [==============================] - 4s 2ms/step - loss: 0.0132 - mean_absolute_error: 0.0132\n",
      "Epoch 107/250\n",
      "1834/1834 [==============================] - 4s 2ms/step - loss: 0.0131 - mean_absolute_error: 0.0131\n",
      "Epoch 108/250\n",
      "1834/1834 [==============================] - 5s 3ms/step - loss: 0.0130 - mean_absolute_error: 0.0130\n",
      "Epoch 109/250\n",
      "1834/1834 [==============================] - 4s 2ms/step - loss: 0.0130 - mean_absolute_error: 0.0130\n",
      "Epoch 110/250\n",
      "1834/1834 [==============================] - 4s 2ms/step - loss: 0.0129 - mean_absolute_error: 0.0129\n",
      "Epoch 111/250\n",
      "1834/1834 [==============================] - 4s 2ms/step - loss: 0.0130 - mean_absolute_error: 0.0130\n",
      "Epoch 112/250\n",
      "1834/1834 [==============================] - 4s 2ms/step - loss: 0.0129 - mean_absolute_error: 0.0129\n",
      "Epoch 113/250\n",
      "1834/1834 [==============================] - 5s 3ms/step - loss: 0.0128 - mean_absolute_error: 0.0128\n",
      "Epoch 114/250\n",
      "1834/1834 [==============================] - 4s 2ms/step - loss: 0.0127 - mean_absolute_error: 0.0127\n",
      "Epoch 115/250\n",
      "1834/1834 [==============================] - 5s 3ms/step - loss: 0.0127 - mean_absolute_error: 0.0127\n",
      "Epoch 116/250\n",
      "1834/1834 [==============================] - 4s 2ms/step - loss: 0.0125 - mean_absolute_error: 0.0125\n",
      "Epoch 117/250\n",
      "1834/1834 [==============================] - 4s 2ms/step - loss: 0.0125 - mean_absolute_error: 0.0125\n",
      "Epoch 118/250\n",
      "1834/1834 [==============================] - 4s 2ms/step - loss: 0.0125 - mean_absolute_error: 0.0125\n",
      "Epoch 119/250\n",
      "1834/1834 [==============================] - 4s 2ms/step - loss: 0.0124 - mean_absolute_error: 0.0124\n",
      "Epoch 120/250\n",
      "1834/1834 [==============================] - 5s 3ms/step - loss: 0.0124 - mean_absolute_error: 0.0124\n",
      "Epoch 121/250\n",
      "1834/1834 [==============================] - 4s 2ms/step - loss: 0.0123 - mean_absolute_error: 0.0123\n",
      "Epoch 122/250\n",
      "1834/1834 [==============================] - 4s 2ms/step - loss: 0.0122 - mean_absolute_error: 0.0122\n",
      "Epoch 123/250\n",
      "1834/1834 [==============================] - 5s 3ms/step - loss: 0.0122 - mean_absolute_error: 0.0122\n",
      "Epoch 124/250\n",
      "1834/1834 [==============================] - 4s 2ms/step - loss: 0.0121 - mean_absolute_error: 0.0121\n",
      "Epoch 125/250\n",
      "1834/1834 [==============================] - 4s 2ms/step - loss: 0.0122 - mean_absolute_error: 0.0122\n",
      "Epoch 126/250\n",
      "1834/1834 [==============================] - 4s 2ms/step - loss: 0.0121 - mean_absolute_error: 0.0121\n",
      "Epoch 127/250\n",
      "1834/1834 [==============================] - 5s 3ms/step - loss: 0.0121 - mean_absolute_error: 0.0121\n",
      "Epoch 128/250\n",
      "1834/1834 [==============================] - 4s 2ms/step - loss: 0.0120 - mean_absolute_error: 0.0120\n",
      "Epoch 129/250\n",
      "1834/1834 [==============================] - 4s 2ms/step - loss: 0.0119 - mean_absolute_error: 0.0119\n",
      "Epoch 130/250\n",
      "1834/1834 [==============================] - 5s 3ms/step - loss: 0.0118 - mean_absolute_error: 0.0118\n",
      "Epoch 131/250\n",
      "1834/1834 [==============================] - 4s 2ms/step - loss: 0.0118 - mean_absolute_error: 0.0118\n",
      "Epoch 132/250\n",
      "1834/1834 [==============================] - 4s 2ms/step - loss: 0.0118 - mean_absolute_error: 0.0118\n",
      "Epoch 133/250\n",
      "1834/1834 [==============================] - 4s 2ms/step - loss: 0.0118 - mean_absolute_error: 0.0118\n",
      "Epoch 134/250\n",
      "1834/1834 [==============================] - 5s 3ms/step - loss: 0.0118 - mean_absolute_error: 0.0118\n",
      "Epoch 135/250\n",
      "1834/1834 [==============================] - 4s 2ms/step - loss: 0.0117 - mean_absolute_error: 0.0117\n",
      "Epoch 136/250\n",
      "1834/1834 [==============================] - 4s 2ms/step - loss: 0.0116 - mean_absolute_error: 0.0116\n",
      "Epoch 137/250\n",
      "1834/1834 [==============================] - 4s 2ms/step - loss: 0.0117 - mean_absolute_error: 0.0117\n",
      "Epoch 138/250\n",
      "1834/1834 [==============================] - 5s 3ms/step - loss: 0.0115 - mean_absolute_error: 0.0115\n",
      "Epoch 139/250\n",
      "1834/1834 [==============================] - 4s 2ms/step - loss: 0.0116 - mean_absolute_error: 0.0116\n",
      "Epoch 140/250\n",
      "1834/1834 [==============================] - 4s 2ms/step - loss: 0.0115 - mean_absolute_error: 0.0115\n",
      "Epoch 141/250\n",
      "1834/1834 [==============================] - 4s 2ms/step - loss: 0.0114 - mean_absolute_error: 0.0114\n",
      "Epoch 142/250\n",
      "1834/1834 [==============================] - 4s 2ms/step - loss: 0.0114 - mean_absolute_error: 0.0114\n",
      "Epoch 143/250\n",
      "1834/1834 [==============================] - 4s 2ms/step - loss: 0.0115 - mean_absolute_error: 0.0115\n",
      "Epoch 144/250\n",
      "1834/1834 [==============================] - 4s 2ms/step - loss: 0.0115 - mean_absolute_error: 0.0115\n",
      "Epoch 145/250\n",
      "1834/1834 [==============================] - 5s 3ms/step - loss: 0.0114 - mean_absolute_error: 0.0114\n",
      "Epoch 146/250\n",
      "1834/1834 [==============================] - 4s 2ms/step - loss: 0.0113 - mean_absolute_error: 0.0113\n",
      "Epoch 147/250\n",
      "1834/1834 [==============================] - 4s 2ms/step - loss: 0.0113 - mean_absolute_error: 0.0113\n",
      "Epoch 148/250\n",
      "1834/1834 [==============================] - 5s 3ms/step - loss: 0.0112 - mean_absolute_error: 0.0112\n",
      "Epoch 149/250\n",
      "1834/1834 [==============================] - 4s 2ms/step - loss: 0.0111 - mean_absolute_error: 0.0111\n",
      "Epoch 150/250\n",
      "1834/1834 [==============================] - 4s 2ms/step - loss: 0.0111 - mean_absolute_error: 0.0111\n",
      "Epoch 151/250\n",
      "1834/1834 [==============================] - 4s 2ms/step - loss: 0.0111 - mean_absolute_error: 0.0111\n",
      "Epoch 152/250\n",
      "1834/1834 [==============================] - 4s 2ms/step - loss: 0.0110 - mean_absolute_error: 0.0110\n",
      "Epoch 153/250\n",
      "1834/1834 [==============================] - 5s 3ms/step - loss: 0.0110 - mean_absolute_error: 0.0110\n",
      "Epoch 154/250\n",
      "1834/1834 [==============================] - 4s 2ms/step - loss: 0.0111 - mean_absolute_error: 0.0111\n",
      "Epoch 155/250\n",
      "1834/1834 [==============================] - 4s 2ms/step - loss: 0.0110 - mean_absolute_error: 0.0110\n",
      "Epoch 156/250\n",
      "1834/1834 [==============================] - 5s 3ms/step - loss: 0.0110 - mean_absolute_error: 0.0110\n",
      "Epoch 157/250\n",
      "1834/1834 [==============================] - 4s 2ms/step - loss: 0.0110 - mean_absolute_error: 0.0110\n",
      "Epoch 158/250\n",
      "1834/1834 [==============================] - 5s 2ms/step - loss: 0.0108 - mean_absolute_error: 0.0108\n",
      "Epoch 159/250\n",
      "1834/1834 [==============================] - 4s 2ms/step - loss: 0.0109 - mean_absolute_error: 0.0109\n",
      "Epoch 160/250\n",
      "1834/1834 [==============================] - 5s 3ms/step - loss: 0.0108 - mean_absolute_error: 0.0108\n",
      "Epoch 161/250\n",
      "1834/1834 [==============================] - 4s 2ms/step - loss: 0.0107 - mean_absolute_error: 0.0107\n",
      "Epoch 162/250\n",
      "1834/1834 [==============================] - 4s 2ms/step - loss: 0.0107 - mean_absolute_error: 0.0107\n",
      "Epoch 163/250\n",
      "1834/1834 [==============================] - 5s 3ms/step - loss: 0.0107 - mean_absolute_error: 0.0107\n",
      "Epoch 164/250\n",
      "1834/1834 [==============================] - 4s 2ms/step - loss: 0.0108 - mean_absolute_error: 0.0108\n",
      "Epoch 165/250\n",
      "1834/1834 [==============================] - 4s 2ms/step - loss: 0.0107 - mean_absolute_error: 0.0107\n",
      "Epoch 166/250\n",
      "1834/1834 [==============================] - 4s 2ms/step - loss: 0.0106 - mean_absolute_error: 0.0106\n",
      "Epoch 167/250\n",
      "1834/1834 [==============================] - 4s 2ms/step - loss: 0.0106 - mean_absolute_error: 0.0106\n",
      "Epoch 168/250\n",
      "1834/1834 [==============================] - 5s 3ms/step - loss: 0.0106 - mean_absolute_error: 0.0106\n",
      "Epoch 169/250\n",
      "1834/1834 [==============================] - 4s 2ms/step - loss: 0.0106 - mean_absolute_error: 0.0106\n",
      "Epoch 170/250\n",
      "1834/1834 [==============================] - 5s 3ms/step - loss: 0.0105 - mean_absolute_error: 0.0105\n",
      "Epoch 171/250\n",
      "1834/1834 [==============================] - 4s 2ms/step - loss: 0.0105 - mean_absolute_error: 0.0105\n",
      "Epoch 172/250\n",
      "1834/1834 [==============================] - 4s 2ms/step - loss: 0.0104 - mean_absolute_error: 0.0104\n",
      "Epoch 173/250\n",
      "1834/1834 [==============================] - 4s 2ms/step - loss: 0.0104 - mean_absolute_error: 0.0104\n",
      "Epoch 174/250\n",
      "1834/1834 [==============================] - 4s 2ms/step - loss: 0.0104 - mean_absolute_error: 0.0104\n",
      "Epoch 175/250\n",
      "1834/1834 [==============================] - 5s 3ms/step - loss: 0.0104 - mean_absolute_error: 0.0104\n",
      "Epoch 176/250\n",
      "1834/1834 [==============================] - 4s 2ms/step - loss: 0.0103 - mean_absolute_error: 0.0103\n",
      "Epoch 177/250\n",
      "1834/1834 [==============================] - 4s 2ms/step - loss: 0.0104 - mean_absolute_error: 0.0104\n",
      "Epoch 178/250\n",
      "1834/1834 [==============================] - 5s 3ms/step - loss: 0.0103 - mean_absolute_error: 0.0103\n",
      "Epoch 179/250\n",
      "1834/1834 [==============================] - 4s 2ms/step - loss: 0.0102 - mean_absolute_error: 0.0102\n",
      "Epoch 180/250\n",
      "1834/1834 [==============================] - 4s 2ms/step - loss: 0.0103 - mean_absolute_error: 0.0103\n",
      "Epoch 181/250\n",
      "1834/1834 [==============================] - 4s 2ms/step - loss: 0.0102 - mean_absolute_error: 0.0102\n",
      "Epoch 182/250\n",
      "1834/1834 [==============================] - 4s 2ms/step - loss: 0.0102 - mean_absolute_error: 0.0102\n",
      "Epoch 183/250\n",
      "1834/1834 [==============================] - 5s 3ms/step - loss: 0.0102 - mean_absolute_error: 0.0102\n",
      "Epoch 184/250\n",
      "1834/1834 [==============================] - 4s 2ms/step - loss: 0.0101 - mean_absolute_error: 0.0101\n",
      "Epoch 185/250\n",
      "1834/1834 [==============================] - 5s 3ms/step - loss: 0.0100 - mean_absolute_error: 0.0100\n",
      "Epoch 186/250\n",
      "1834/1834 [==============================] - 4s 2ms/step - loss: 0.0101 - mean_absolute_error: 0.0101\n",
      "Epoch 187/250\n",
      "1834/1834 [==============================] - 4s 2ms/step - loss: 0.0100 - mean_absolute_error: 0.0100\n",
      "Epoch 188/250\n",
      "1834/1834 [==============================] - 5s 2ms/step - loss: 0.0099 - mean_absolute_error: 0.0099\n",
      "Epoch 189/250\n",
      "1834/1834 [==============================] - 4s 2ms/step - loss: 0.0099 - mean_absolute_error: 0.0099\n",
      "Epoch 190/250\n",
      "1834/1834 [==============================] - 5s 3ms/step - loss: 0.0100 - mean_absolute_error: 0.0100\n",
      "Epoch 191/250\n",
      "1834/1834 [==============================] - 4s 2ms/step - loss: 0.0099 - mean_absolute_error: 0.0099\n",
      "Epoch 192/250\n",
      "1834/1834 [==============================] - 4s 2ms/step - loss: 0.0099 - mean_absolute_error: 0.0099\n",
      "Epoch 193/250\n",
      "1834/1834 [==============================] - 5s 3ms/step - loss: 0.0099 - mean_absolute_error: 0.0099\n",
      "Epoch 194/250\n",
      "1834/1834 [==============================] - 4s 2ms/step - loss: 0.0098 - mean_absolute_error: 0.0098\n",
      "Epoch 195/250\n",
      "1834/1834 [==============================] - 4s 2ms/step - loss: 0.0099 - mean_absolute_error: 0.0099\n",
      "Epoch 196/250\n",
      "1834/1834 [==============================] - 4s 2ms/step - loss: 0.0098 - mean_absolute_error: 0.0098\n",
      "Epoch 197/250\n",
      "1834/1834 [==============================] - 4s 2ms/step - loss: 0.0098 - mean_absolute_error: 0.0098\n",
      "Epoch 198/250\n",
      "1834/1834 [==============================] - 5s 3ms/step - loss: 0.0097 - mean_absolute_error: 0.0097\n",
      "Epoch 199/250\n",
      "1834/1834 [==============================] - 4s 2ms/step - loss: 0.0098 - mean_absolute_error: 0.0098\n",
      "Epoch 200/250\n",
      "1834/1834 [==============================] - 5s 3ms/step - loss: 0.0097 - mean_absolute_error: 0.0097\n",
      "Epoch 201/250\n",
      "1834/1834 [==============================] - 4s 2ms/step - loss: 0.0097 - mean_absolute_error: 0.0097\n",
      "Epoch 202/250\n",
      "1834/1834 [==============================] - 4s 2ms/step - loss: 0.0096 - mean_absolute_error: 0.0096\n",
      "Epoch 203/250\n",
      "1834/1834 [==============================] - 4s 2ms/step - loss: 0.0095 - mean_absolute_error: 0.0095\n",
      "Epoch 204/250\n",
      "1834/1834 [==============================] - 4s 2ms/step - loss: 0.0096 - mean_absolute_error: 0.0096\n",
      "Epoch 205/250\n",
      "1834/1834 [==============================] - 4s 2ms/step - loss: 0.0097 - mean_absolute_error: 0.0097\n",
      "Epoch 206/250\n",
      "1834/1834 [==============================] - 5s 3ms/step - loss: 0.0096 - mean_absolute_error: 0.0096\n",
      "Epoch 207/250\n",
      "1834/1834 [==============================] - 4s 2ms/step - loss: 0.0096 - mean_absolute_error: 0.0096\n",
      "Epoch 208/250\n",
      "1834/1834 [==============================] - 5s 3ms/step - loss: 0.0096 - mean_absolute_error: 0.0096\n",
      "Epoch 209/250\n",
      "1834/1834 [==============================] - 4s 2ms/step - loss: 0.0096 - mean_absolute_error: 0.0096\n",
      "Epoch 210/250\n",
      "1834/1834 [==============================] - 4s 2ms/step - loss: 0.0094 - mean_absolute_error: 0.0094\n",
      "Epoch 211/250\n",
      "1834/1834 [==============================] - 4s 2ms/step - loss: 0.0095 - mean_absolute_error: 0.0095\n",
      "Epoch 212/250\n",
      "1834/1834 [==============================] - 4s 2ms/step - loss: 0.0095 - mean_absolute_error: 0.0095\n",
      "Epoch 213/250\n",
      "1834/1834 [==============================] - 5s 3ms/step - loss: 0.0096 - mean_absolute_error: 0.0096\n",
      "Epoch 214/250\n",
      "1834/1834 [==============================] - 4s 2ms/step - loss: 0.0095 - mean_absolute_error: 0.0095\n",
      "Epoch 215/250\n",
      "1834/1834 [==============================] - 4s 2ms/step - loss: 0.0094 - mean_absolute_error: 0.0094\n",
      "Epoch 216/250\n",
      "1834/1834 [==============================] - 5s 3ms/step - loss: 0.0094 - mean_absolute_error: 0.0094\n",
      "Epoch 217/250\n",
      "1834/1834 [==============================] - 4s 2ms/step - loss: 0.0095 - mean_absolute_error: 0.0095\n",
      "Epoch 218/250\n",
      "1834/1834 [==============================] - 5s 2ms/step - loss: 0.0094 - mean_absolute_error: 0.0094\n",
      "Epoch 219/250\n",
      "1834/1834 [==============================] - 4s 2ms/step - loss: 0.0093 - mean_absolute_error: 0.0093\n",
      "Epoch 220/250\n",
      "1834/1834 [==============================] - 4s 2ms/step - loss: 0.0093 - mean_absolute_error: 0.0093\n",
      "Epoch 221/250\n",
      "1834/1834 [==============================] - 5s 3ms/step - loss: 0.0093 - mean_absolute_error: 0.0093\n",
      "Epoch 222/250\n",
      "1834/1834 [==============================] - 4s 2ms/step - loss: 0.0093 - mean_absolute_error: 0.0093\n",
      "Epoch 223/250\n",
      "1834/1834 [==============================] - 5s 3ms/step - loss: 0.0094 - mean_absolute_error: 0.0094\n",
      "Epoch 224/250\n",
      "1834/1834 [==============================] - 4s 2ms/step - loss: 0.0093 - mean_absolute_error: 0.0093\n",
      "Epoch 225/250\n",
      "1834/1834 [==============================] - 4s 2ms/step - loss: 0.0092 - mean_absolute_error: 0.0092\n",
      "Epoch 226/250\n",
      "1834/1834 [==============================] - 4s 2ms/step - loss: 0.0092 - mean_absolute_error: 0.0092\n",
      "Epoch 227/250\n",
      "1834/1834 [==============================] - 4s 2ms/step - loss: 0.0092 - mean_absolute_error: 0.0092\n",
      "Epoch 228/250\n",
      "1834/1834 [==============================] - 5s 3ms/step - loss: 0.0092 - mean_absolute_error: 0.0092\n",
      "Epoch 229/250\n",
      "1834/1834 [==============================] - 4s 2ms/step - loss: 0.0092 - mean_absolute_error: 0.0092\n",
      "Epoch 230/250\n",
      "1834/1834 [==============================] - 4s 2ms/step - loss: 0.0092 - mean_absolute_error: 0.0092\n",
      "Epoch 231/250\n",
      "1834/1834 [==============================] - 5s 3ms/step - loss: 0.0091 - mean_absolute_error: 0.0091\n",
      "Epoch 232/250\n",
      "1834/1834 [==============================] - 4s 2ms/step - loss: 0.0091 - mean_absolute_error: 0.0091\n",
      "Epoch 233/250\n",
      "1834/1834 [==============================] - 4s 2ms/step - loss: 0.0091 - mean_absolute_error: 0.0091\n",
      "Epoch 234/250\n",
      "1834/1834 [==============================] - 4s 2ms/step - loss: 0.0091 - mean_absolute_error: 0.0091\n",
      "Epoch 235/250\n",
      "1834/1834 [==============================] - 4s 2ms/step - loss: 0.0090 - mean_absolute_error: 0.0090\n",
      "Epoch 236/250\n",
      "1834/1834 [==============================] - 5s 3ms/step - loss: 0.0090 - mean_absolute_error: 0.0090\n",
      "Epoch 237/250\n",
      "1834/1834 [==============================] - 4s 2ms/step - loss: 0.0090 - mean_absolute_error: 0.0090\n",
      "Epoch 238/250\n",
      "1834/1834 [==============================] - 5s 3ms/step - loss: 0.0090 - mean_absolute_error: 0.0090\n",
      "Epoch 239/250\n",
      "1834/1834 [==============================] - 4s 2ms/step - loss: 0.0090 - mean_absolute_error: 0.0090\n",
      "Epoch 240/250\n",
      "1834/1834 [==============================] - 4s 2ms/step - loss: 0.0089 - mean_absolute_error: 0.0089\n",
      "Epoch 241/250\n",
      "1834/1834 [==============================] - 4s 2ms/step - loss: 0.0091 - mean_absolute_error: 0.0091\n",
      "Epoch 242/250\n",
      "1834/1834 [==============================] - 4s 2ms/step - loss: 0.0090 - mean_absolute_error: 0.0090\n",
      "Epoch 243/250\n",
      "1834/1834 [==============================] - 5s 3ms/step - loss: 0.0089 - mean_absolute_error: 0.0089\n",
      "Epoch 244/250\n",
      "1834/1834 [==============================] - 4s 2ms/step - loss: 0.0090 - mean_absolute_error: 0.0090\n",
      "Epoch 245/250\n",
      "1834/1834 [==============================] - 4s 2ms/step - loss: 0.0089 - mean_absolute_error: 0.0089\n",
      "Epoch 246/250\n",
      "1834/1834 [==============================] - 5s 3ms/step - loss: 0.0088 - mean_absolute_error: 0.0088\n",
      "Epoch 247/250\n",
      "1834/1834 [==============================] - 4s 2ms/step - loss: 0.0088 - mean_absolute_error: 0.0088\n",
      "Epoch 248/250\n",
      "1834/1834 [==============================] - 4s 2ms/step - loss: 0.0088 - mean_absolute_error: 0.0088\n",
      "Epoch 249/250\n",
      "1834/1834 [==============================] - 4s 2ms/step - loss: 0.0088 - mean_absolute_error: 0.0088\n",
      "Epoch 250/250\n",
      "1834/1834 [==============================] - 4s 2ms/step - loss: 0.0088 - mean_absolute_error: 0.0088\n"
     ]
    },
    {
     "data": {
      "text/plain": [
       "<keras.callbacks.History at 0x7f42dc4fab10>"
      ]
     },
     "execution_count": 47,
     "metadata": {},
     "output_type": "execute_result"
    }
   ],
   "source": [
    "regressor.fit(xtrain_,ytrain,epochs=250,batch_size=15)"
   ]
  },
  {
   "cell_type": "code",
   "execution_count": 48,
   "id": "4581b9cf",
   "metadata": {
    "execution": {
     "iopub.execute_input": "2022-07-22T12:20:52.233405Z",
     "iopub.status.busy": "2022-07-22T12:20:52.233030Z",
     "iopub.status.idle": "2022-07-22T12:20:52.237658Z",
     "shell.execute_reply": "2022-07-22T12:20:52.236631Z"
    },
    "papermill": {
     "duration": 1.463958,
     "end_time": "2022-07-22T12:20:52.239833",
     "exception": false,
     "start_time": "2022-07-22T12:20:50.775875",
     "status": "completed"
    },
    "tags": []
   },
   "outputs": [],
   "source": [
    "# y_pred2 = regressor.predict(x_test) \n",
    "# y_pred_original2 = mms.inverse_transform(y_pred2.reshape(-1,1))\n",
    "# y_pred_original2=y_pred_original2.tolist()\n",
    "# y_pred_original2=[i[0] for i in y_pred_original2]"
   ]
  },
  {
   "cell_type": "code",
   "execution_count": 49,
   "id": "c88d08f8",
   "metadata": {
    "execution": {
     "iopub.execute_input": "2022-07-22T12:20:55.120943Z",
     "iopub.status.busy": "2022-07-22T12:20:55.120482Z",
     "iopub.status.idle": "2022-07-22T12:20:55.126683Z",
     "shell.execute_reply": "2022-07-22T12:20:55.125390Z"
    },
    "papermill": {
     "duration": 1.460813,
     "end_time": "2022-07-22T12:20:55.129672",
     "exception": false,
     "start_time": "2022-07-22T12:20:53.668859",
     "status": "completed"
    },
    "tags": []
   },
   "outputs": [],
   "source": [
    "# submission = pd.DataFrame({'Place_ID X Date\t': Id,'target': y_pred_original2})\n",
    "# submission.to_csv('submission2.csv', index=False)"
   ]
  },
  {
   "cell_type": "markdown",
   "id": "52de2da4",
   "metadata": {
    "papermill": {
     "duration": 1.437878,
     "end_time": "2022-07-22T12:20:57.936004",
     "exception": false,
     "start_time": "2022-07-22T12:20:56.498126",
     "status": "completed"
    },
    "tags": []
   },
   "source": [
    "****"
   ]
  },
  {
   "cell_type": "code",
   "execution_count": 50,
   "id": "b19763cd",
   "metadata": {
    "collapsed": true,
    "execution": {
     "iopub.execute_input": "2022-07-22T12:21:01.037632Z",
     "iopub.status.busy": "2022-07-22T12:21:01.037052Z",
     "iopub.status.idle": "2022-07-22T12:21:01.042533Z",
     "shell.execute_reply": "2022-07-22T12:21:01.041490Z"
    },
    "jupyter": {
     "outputs_hidden": true
    },
    "papermill": {
     "duration": 1.673906,
     "end_time": "2022-07-22T12:21:01.045089",
     "exception": false,
     "start_time": "2022-07-22T12:20:59.371183",
     "status": "completed"
    },
    "tags": []
   },
   "outputs": [],
   "source": [
    "# regressor.fit(X_train,y_train,epochs=250,batch_size=15)"
   ]
  },
  {
   "cell_type": "code",
   "execution_count": 51,
   "id": "aa94b05e",
   "metadata": {
    "execution": {
     "iopub.execute_input": "2022-07-22T12:21:03.916789Z",
     "iopub.status.busy": "2022-07-22T12:21:03.915697Z",
     "iopub.status.idle": "2022-07-22T12:21:03.921377Z",
     "shell.execute_reply": "2022-07-22T12:21:03.920435Z"
    },
    "papermill": {
     "duration": 1.442258,
     "end_time": "2022-07-22T12:21:03.923509",
     "exception": false,
     "start_time": "2022-07-22T12:21:02.481251",
     "status": "completed"
    },
    "tags": []
   },
   "outputs": [],
   "source": [
    "# y_pred3 = regressor.predict(X_test) \n",
    "# y_pred_original3 = mms.inverse_transform(y_pred3.reshape(-1,1))\n",
    "# y_pred_original3=y_pred_original3.tolist()\n",
    "# y_pred_original3=[i[0] for i in y_pred_original3]"
   ]
  },
  {
   "cell_type": "code",
   "execution_count": 52,
   "id": "01a2008f",
   "metadata": {
    "execution": {
     "iopub.execute_input": "2022-07-22T12:21:06.733213Z",
     "iopub.status.busy": "2022-07-22T12:21:06.732634Z",
     "iopub.status.idle": "2022-07-22T12:21:06.737916Z",
     "shell.execute_reply": "2022-07-22T12:21:06.736911Z"
    },
    "papermill": {
     "duration": 1.427363,
     "end_time": "2022-07-22T12:21:06.740117",
     "exception": false,
     "start_time": "2022-07-22T12:21:05.312754",
     "status": "completed"
    },
    "tags": []
   },
   "outputs": [],
   "source": [
    "# submission = pd.DataFrame({'Place_ID X Date\t': Id,'target': y_pred_original3})\n",
    "# submission.to_csv('submission3.csv', index=False)"
   ]
  },
  {
   "cell_type": "markdown",
   "id": "34c29ea7",
   "metadata": {
    "papermill": {
     "duration": 1.425517,
     "end_time": "2022-07-22T12:21:09.594380",
     "exception": false,
     "start_time": "2022-07-22T12:21:08.168863",
     "status": "completed"
    },
    "tags": []
   },
   "source": [
    "****"
   ]
  },
  {
   "cell_type": "code",
   "execution_count": null,
   "id": "c201a43c",
   "metadata": {
    "papermill": {
     "duration": 1.621899,
     "end_time": "2022-07-22T12:21:12.711116",
     "exception": false,
     "start_time": "2022-07-22T12:21:11.089217",
     "status": "completed"
    },
    "tags": []
   },
   "outputs": [],
   "source": []
  }
 ],
 "metadata": {
  "kernelspec": {
   "display_name": "Python 3",
   "language": "python",
   "name": "python3"
  },
  "language_info": {
   "codemirror_mode": {
    "name": "ipython",
    "version": 3
   },
   "file_extension": ".py",
   "mimetype": "text/x-python",
   "name": "python",
   "nbconvert_exporter": "python",
   "pygments_lexer": "ipython3",
   "version": "3.7.12"
  },
  "papermill": {
   "default_parameters": {},
   "duration": 1283.33975,
   "end_time": "2022-07-22T12:21:17.385640",
   "environment_variables": {},
   "exception": null,
   "input_path": "__notebook__.ipynb",
   "output_path": "__notebook__.ipynb",
   "parameters": {},
   "start_time": "2022-07-22T11:59:54.045890",
   "version": "2.3.4"
  }
 },
 "nbformat": 4,
 "nbformat_minor": 5
}
