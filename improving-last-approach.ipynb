{
 "cells": [
  {
   "cell_type": "code",
   "execution_count": 1,
   "id": "15621ab4",
   "metadata": {
    "execution": {
     "iopub.execute_input": "2023-01-22T22:42:54.865859Z",
     "iopub.status.busy": "2023-01-22T22:42:54.864937Z",
     "iopub.status.idle": "2023-01-22T22:42:56.345466Z",
     "shell.execute_reply": "2023-01-22T22:42:56.343918Z"
    },
    "papermill": {
     "duration": 1.491364,
     "end_time": "2023-01-22T22:42:56.348607",
     "exception": false,
     "start_time": "2023-01-22T22:42:54.857243",
     "status": "completed"
    },
    "tags": []
   },
   "outputs": [],
   "source": [
    "import numpy as np \n",
    "import pandas as pd \n",
    "import re\n",
    "from sklearn.feature_extraction.text import TfidfVectorizer\n",
    "from sklearn.metrics.pairwise import cosine_similarity\n",
    "from sklearn.cluster import KMeans\n",
    "import matplotlib.pyplot as plt\n",
    "from matplotlib.pyplot import style\n",
    "style.use(\"ggplot\")\n",
    "from sklearn.decomposition import PCA\n",
    "from mpl_toolkits.mplot3d import Axes3D"
   ]
  },
  {
   "cell_type": "code",
   "execution_count": 2,
   "id": "06a0753d",
   "metadata": {
    "execution": {
     "iopub.execute_input": "2023-01-22T22:42:56.359393Z",
     "iopub.status.busy": "2023-01-22T22:42:56.358945Z",
     "iopub.status.idle": "2023-01-22T22:42:59.611081Z",
     "shell.execute_reply": "2023-01-22T22:42:59.609973Z"
    },
    "papermill": {
     "duration": 3.26059,
     "end_time": "2023-01-22T22:42:59.613839",
     "exception": false,
     "start_time": "2023-01-22T22:42:56.353249",
     "status": "completed"
    },
    "tags": []
   },
   "outputs": [
    {
     "data": {
      "text/html": [
       "<div>\n",
       "<style scoped>\n",
       "    .dataframe tbody tr th:only-of-type {\n",
       "        vertical-align: middle;\n",
       "    }\n",
       "\n",
       "    .dataframe tbody tr th {\n",
       "        vertical-align: top;\n",
       "    }\n",
       "\n",
       "    .dataframe thead th {\n",
       "        text-align: right;\n",
       "    }\n",
       "</style>\n",
       "<table border=\"1\" class=\"dataframe\">\n",
       "  <thead>\n",
       "    <tr style=\"text-align: right;\">\n",
       "      <th></th>\n",
       "      <th>Transaction Date</th>\n",
       "      <th>Customer ID</th>\n",
       "      <th>Product Description</th>\n",
       "    </tr>\n",
       "  </thead>\n",
       "  <tbody>\n",
       "    <tr>\n",
       "      <th>0</th>\n",
       "      <td>2014-01-01</td>\n",
       "      <td>1249</td>\n",
       "      <td>citrus fruit</td>\n",
       "    </tr>\n",
       "    <tr>\n",
       "      <th>1</th>\n",
       "      <td>2014-01-01</td>\n",
       "      <td>1249</td>\n",
       "      <td>coffee</td>\n",
       "    </tr>\n",
       "    <tr>\n",
       "      <th>2</th>\n",
       "      <td>2014-01-01</td>\n",
       "      <td>1249</td>\n",
       "      <td>italian sausage</td>\n",
       "    </tr>\n",
       "    <tr>\n",
       "      <th>3</th>\n",
       "      <td>2014-01-01</td>\n",
       "      <td>1249</td>\n",
       "      <td>sausage</td>\n",
       "    </tr>\n",
       "    <tr>\n",
       "      <th>4</th>\n",
       "      <td>2014-01-01</td>\n",
       "      <td>1381</td>\n",
       "      <td>curd</td>\n",
       "    </tr>\n",
       "  </tbody>\n",
       "</table>\n",
       "</div>"
      ],
      "text/plain": [
       "  Transaction Date  Customer ID Product Description\n",
       "0       2014-01-01         1249        citrus fruit\n",
       "1       2014-01-01         1249              coffee\n",
       "2       2014-01-01         1249     italian sausage\n",
       "3       2014-01-01         1249             sausage\n",
       "4       2014-01-01         1381                curd"
      ]
     },
     "execution_count": 2,
     "metadata": {},
     "output_type": "execute_result"
    }
   ],
   "source": [
    "data = pd.read_excel('/kaggle/input/basket-analysis/Basket Analysis - Data.xlsx')\n",
    "data.head()"
   ]
  },
  {
   "cell_type": "code",
   "execution_count": 3,
   "id": "2c655246",
   "metadata": {
    "execution": {
     "iopub.execute_input": "2023-01-22T22:42:59.624535Z",
     "iopub.status.busy": "2023-01-22T22:42:59.623924Z",
     "iopub.status.idle": "2023-01-22T22:42:59.640586Z",
     "shell.execute_reply": "2023-01-22T22:42:59.639415Z"
    },
    "papermill": {
     "duration": 0.024739,
     "end_time": "2023-01-22T22:42:59.643032",
     "exception": false,
     "start_time": "2023-01-22T22:42:59.618293",
     "status": "completed"
    },
    "tags": []
   },
   "outputs": [
    {
     "data": {
      "text/plain": [
       "(3898, array([1249, 1381, 1440, ..., 4755, 1963, 4565]))"
      ]
     },
     "execution_count": 3,
     "metadata": {},
     "output_type": "execute_result"
    }
   ],
   "source": [
    "data[\"Customer ID\"].nunique(),data[\"Customer ID\"].unique()"
   ]
  },
  {
   "cell_type": "code",
   "execution_count": 4,
   "id": "df27846a",
   "metadata": {
    "execution": {
     "iopub.execute_input": "2023-01-22T22:42:59.653951Z",
     "iopub.status.busy": "2023-01-22T22:42:59.653534Z",
     "iopub.status.idle": "2023-01-22T22:42:59.664471Z",
     "shell.execute_reply": "2023-01-22T22:42:59.663322Z"
    },
    "papermill": {
     "duration": 0.019419,
     "end_time": "2023-01-22T22:42:59.667152",
     "exception": false,
     "start_time": "2023-01-22T22:42:59.647733",
     "status": "completed"
    },
    "tags": []
   },
   "outputs": [
    {
     "data": {
      "text/plain": [
       "170"
      ]
     },
     "execution_count": 4,
     "metadata": {},
     "output_type": "execute_result"
    }
   ],
   "source": [
    "data[\"Product Description\"].nunique()"
   ]
  },
  {
   "cell_type": "code",
   "execution_count": 5,
   "id": "eca1fb32",
   "metadata": {
    "execution": {
     "iopub.execute_input": "2023-01-22T22:42:59.678874Z",
     "iopub.status.busy": "2023-01-22T22:42:59.678023Z",
     "iopub.status.idle": "2023-01-22T22:42:59.683767Z",
     "shell.execute_reply": "2023-01-22T22:42:59.682847Z"
    },
    "papermill": {
     "duration": 0.014117,
     "end_time": "2023-01-22T22:42:59.685966",
     "exception": false,
     "start_time": "2023-01-22T22:42:59.671849",
     "status": "completed"
    },
    "tags": []
   },
   "outputs": [],
   "source": [
    "ID=data[\"Customer ID\"].unique()\n",
    "ID.tolist()\n",
    "ID.sort()"
   ]
  },
  {
   "cell_type": "code",
   "execution_count": 6,
   "id": "73d9b446",
   "metadata": {
    "execution": {
     "iopub.execute_input": "2023-01-22T22:42:59.697007Z",
     "iopub.status.busy": "2023-01-22T22:42:59.696657Z",
     "iopub.status.idle": "2023-01-22T22:42:59.842580Z",
     "shell.execute_reply": "2023-01-22T22:42:59.841284Z"
    },
    "papermill": {
     "duration": 0.154793,
     "end_time": "2023-01-22T22:42:59.845265",
     "exception": false,
     "start_time": "2023-01-22T22:42:59.690472",
     "status": "completed"
    },
    "tags": []
   },
   "outputs": [
    {
     "data": {
      "text/html": [
       "<div>\n",
       "<style scoped>\n",
       "    .dataframe tbody tr th:only-of-type {\n",
       "        vertical-align: middle;\n",
       "    }\n",
       "\n",
       "    .dataframe tbody tr th {\n",
       "        vertical-align: top;\n",
       "    }\n",
       "\n",
       "    .dataframe thead th {\n",
       "        text-align: right;\n",
       "    }\n",
       "</style>\n",
       "<table border=\"1\" class=\"dataframe\">\n",
       "  <thead>\n",
       "    <tr style=\"text-align: right;\">\n",
       "      <th></th>\n",
       "      <th>item</th>\n",
       "      <th>products</th>\n",
       "    </tr>\n",
       "  </thead>\n",
       "  <tbody>\n",
       "    <tr>\n",
       "      <th>0</th>\n",
       "      <td>1000</td>\n",
       "      <td>'pastry' 'salty snack' 'small milk' 'med milk'...</td>\n",
       "    </tr>\n",
       "    <tr>\n",
       "      <th>1</th>\n",
       "      <td>1001</td>\n",
       "      <td>'rollsbuns' 'sausage' 'small milk' 'med milk' ...</td>\n",
       "    </tr>\n",
       "  </tbody>\n",
       "</table>\n",
       "</div>"
      ],
      "text/plain": [
       "   item                                           products\n",
       "0  1000  'pastry' 'salty snack' 'small milk' 'med milk'...\n",
       "1  1001  'rollsbuns' 'sausage' 'small milk' 'med milk' ..."
      ]
     },
     "execution_count": 6,
     "metadata": {},
     "output_type": "execute_result"
    }
   ],
   "source": [
    "item=data.groupby('Customer ID')['Product Description'].apply(list)\n",
    "items=[]\n",
    "for i in range(3898):\n",
    "    items.append(item.iloc[i])\n",
    "basket=pd.DataFrame({\"item\":ID,\"products\":items})\n",
    "basket['products'] = basket['products'].astype(str)\n",
    "regex = r'[\\[\\]/,]'\n",
    "basket['products'] = basket['products'].apply(lambda x: re.sub(regex, '', x))\n",
    "basket.head(2)"
   ]
  },
  {
   "cell_type": "code",
   "execution_count": 7,
   "id": "f5c16a7b",
   "metadata": {
    "execution": {
     "iopub.execute_input": "2023-01-22T22:42:59.856651Z",
     "iopub.status.busy": "2023-01-22T22:42:59.855760Z",
     "iopub.status.idle": "2023-01-22T22:42:59.946168Z",
     "shell.execute_reply": "2023-01-22T22:42:59.945209Z"
    },
    "papermill": {
     "duration": 0.09865,
     "end_time": "2023-01-22T22:42:59.948635",
     "exception": false,
     "start_time": "2023-01-22T22:42:59.849985",
     "status": "completed"
    },
    "tags": []
   },
   "outputs": [
    {
     "data": {
      "text/html": [
       "<div>\n",
       "<style scoped>\n",
       "    .dataframe tbody tr th:only-of-type {\n",
       "        vertical-align: middle;\n",
       "    }\n",
       "\n",
       "    .dataframe tbody tr th {\n",
       "        vertical-align: top;\n",
       "    }\n",
       "\n",
       "    .dataframe thead th {\n",
       "        text-align: right;\n",
       "    }\n",
       "</style>\n",
       "<table border=\"1\" class=\"dataframe\">\n",
       "  <thead>\n",
       "    <tr style=\"text-align: right;\">\n",
       "      <th></th>\n",
       "      <th>item</th>\n",
       "      <th>products</th>\n",
       "    </tr>\n",
       "  </thead>\n",
       "  <tbody>\n",
       "    <tr>\n",
       "      <th>0</th>\n",
       "      <td>1000</td>\n",
       "      <td>'pastry' 'salty_snack' 'small_milk' 'med_milk'...</td>\n",
       "    </tr>\n",
       "    <tr>\n",
       "      <th>1</th>\n",
       "      <td>1001</td>\n",
       "      <td>'rollsbuns' 'sausage' 'small_milk' 'med_milk' ...</td>\n",
       "    </tr>\n",
       "    <tr>\n",
       "      <th>2</th>\n",
       "      <td>1002</td>\n",
       "      <td>'frozen_vegetables' 'other_vegetables' 'butter...</td>\n",
       "    </tr>\n",
       "    <tr>\n",
       "      <th>3</th>\n",
       "      <td>1003</td>\n",
       "      <td>'dental_care' 'frozen_meals' 'sauces' 'rollsbu...</td>\n",
       "    </tr>\n",
       "    <tr>\n",
       "      <th>4</th>\n",
       "      <td>1004</td>\n",
       "      <td>'med_milk' 'pip_fruit' 'tropical_fruit' 'cling...</td>\n",
       "    </tr>\n",
       "    <tr>\n",
       "      <th>...</th>\n",
       "      <td>...</td>\n",
       "      <td>...</td>\n",
       "    </tr>\n",
       "    <tr>\n",
       "      <th>3893</th>\n",
       "      <td>4996</td>\n",
       "      <td>'salty_snack' 'tropical_fruit' 'bottled_beer' ...</td>\n",
       "    </tr>\n",
       "    <tr>\n",
       "      <th>3894</th>\n",
       "      <td>4997</td>\n",
       "      <td>'canned_beer' 'italian_sausage' 'large_milk' '...</td>\n",
       "    </tr>\n",
       "    <tr>\n",
       "      <th>3895</th>\n",
       "      <td>4998</td>\n",
       "      <td>'curd' 'rollsbuns'</td>\n",
       "    </tr>\n",
       "    <tr>\n",
       "      <th>3896</th>\n",
       "      <td>4999</td>\n",
       "      <td>'herbs' 'newspapers' 'semi-finished_bread' 'de...</td>\n",
       "    </tr>\n",
       "    <tr>\n",
       "      <th>3897</th>\n",
       "      <td>5000</td>\n",
       "      <td>'fruitvegetable_juice' 'onions' 'bottled_beer'...</td>\n",
       "    </tr>\n",
       "  </tbody>\n",
       "</table>\n",
       "<p>3898 rows × 2 columns</p>\n",
       "</div>"
      ],
      "text/plain": [
       "      item                                           products\n",
       "0     1000  'pastry' 'salty_snack' 'small_milk' 'med_milk'...\n",
       "1     1001  'rollsbuns' 'sausage' 'small_milk' 'med_milk' ...\n",
       "2     1002  'frozen_vegetables' 'other_vegetables' 'butter...\n",
       "3     1003  'dental_care' 'frozen_meals' 'sauces' 'rollsbu...\n",
       "4     1004  'med_milk' 'pip_fruit' 'tropical_fruit' 'cling...\n",
       "...    ...                                                ...\n",
       "3893  4996  'salty_snack' 'tropical_fruit' 'bottled_beer' ...\n",
       "3894  4997  'canned_beer' 'italian_sausage' 'large_milk' '...\n",
       "3895  4998                                 'curd' 'rollsbuns'\n",
       "3896  4999  'herbs' 'newspapers' 'semi-finished_bread' 'de...\n",
       "3897  5000  'fruitvegetable_juice' 'onions' 'bottled_beer'...\n",
       "\n",
       "[3898 rows x 2 columns]"
      ]
     },
     "execution_count": 7,
     "metadata": {},
     "output_type": "execute_result"
    }
   ],
   "source": [
    "#concatenate multi-word product names together\n",
    "basket['products'] = basket['products'].apply(lambda x: re.sub(r'(\\w+)\\s(\\w+)', r'\\1_\\2', x))\n",
    "basket"
   ]
  },
  {
   "cell_type": "code",
   "execution_count": 8,
   "id": "10c8e929",
   "metadata": {
    "execution": {
     "iopub.execute_input": "2023-01-22T22:42:59.961592Z",
     "iopub.status.busy": "2023-01-22T22:42:59.960674Z",
     "iopub.status.idle": "2023-01-22T22:43:00.866089Z",
     "shell.execute_reply": "2023-01-22T22:43:00.865075Z"
    },
    "papermill": {
     "duration": 0.916939,
     "end_time": "2023-01-22T22:43:00.871256",
     "exception": false,
     "start_time": "2023-01-22T22:42:59.954317",
     "status": "completed"
    },
    "tags": []
   },
   "outputs": [
    {
     "name": "stdout",
     "output_type": "stream",
     "text": [
      "Cluster 1: artif, baby_cosmetics, bags, bathroom_cleaner, cocoa_drinks, cooking_chocolate, cookware, cream, frozen_chicken, frozen_fruits, hair_spray, honey, kitchen_utensil, make_up, nut_snack, organic_products, organic_sausage, potato_products, preservation_products, prosecco, pudding_powder, remover, rubbing_alcohol, skin_care, soap, specialty_vegetables, sweetener, tidbits, toilet_cleaner, whisky\n",
      "Cluster 2: berries, beverages, butter_milk, candy, cat_food, cereals, chewing_gum, chocolate, coffee, cream_cheese, delete, dessert, detergent, frozen_meals, grapes, ham, hamburger_meat, hard_cheese, hygiene_articles, ice_cream, meat, misc, napkins, oil, onions, pasta, pickled_vegetables, products, redblush_wine, salty_snack, sliced_cheese, specialty_bar, specialty_chocolate, sugar, waffles, white_bread, white_wine\n",
      "Cluster 3: abrasive_cleaner, baking_powder, brandy, cake_bar, candles, canned_fish, canned_fruit, canned_vegetables, chocolate_marshmallow, cleaner, cling_filmbags, condensed_milk, curd_cheese, decalcifier, dental_care, dish_cleaner, dishes, dog_food, female_sanitary, finished_products, fish, flour, flower_soilfertilizer, frozen_dessert, frozen_fish, frozen_potato, house_keeping, instant_coffee, instant_food, jam, ketchup, kitchen_towels, light_bulbs, liqueur, liver_loaf, male_cosmetics, mayonnaise, meat_spreads, mustard, nutsprunes, packaged_fruitvegetables, pet_care, photofilm, popcorn, pot_plants, processed_cheese, ready_soups, rice, roll_products, rum, salt, seasonal_products, snack_products, soft_cheese, softener, soups, sparkling_wine, specialty_cheese, specialty_fat, spices, spread_cheese, sweet_spreads, syrup, tea, turkey, vinegar, zwieback\n",
      "Cluster 4: finished_bread, semi\n",
      "Cluster 5: bakery_product, long_life\n",
      "Cluster 6: beef, bottled_beer, bottled_water, brown_bread, butter, canned_beer, chicken, citrus_fruit, curd, domestic_eggs, frozen_vegetables, fruitvegetable_juice, herbs, italian_sausage, large_milk, margarine, med_milk, newspapers, other_vegetables, pastry, pip_fruit, pork, rollsbuns, root_vegetables, salad_dressing, sauces, sausage, shopping_bags, small_milk, soda, tropical_fruit, whippedsour_cream, yogurt\n",
      "Cluster 7: milk, uht\n",
      "Cluster 8: flower, seeds\n",
      "Cluster 9: appetizer, liquor\n"
     ]
    },
    {
     "name": "stderr",
     "output_type": "stream",
     "text": [
      "/opt/conda/lib/python3.7/site-packages/sklearn/utils/deprecation.py:87: FutureWarning: Function get_feature_names is deprecated; get_feature_names is deprecated in 1.0 and will be removed in 1.2. Please use get_feature_names_out instead.\n",
      "  warnings.warn(msg, category=FutureWarning)\n"
     ]
    }
   ],
   "source": [
    "# Vectorize the data\n",
    "tfidf = TfidfVectorizer()\n",
    "tfidf_matrix = tfidf.fit_transform(basket['products'])\n",
    "\n",
    "# Compute the similarity between products\n",
    "products_similarities = cosine_similarity(tfidf_matrix.T)\n",
    "\n",
    "# Compute the similarity between products using euclidean_distances\n",
    "# from sklearn.metrics.pairwise import euclidean_distances\n",
    "# products_similarities = euclidean_distances(svd_matrix)\n",
    "# Define the number of clusters\n",
    "n_clusters = 9\n",
    "\n",
    "# Perform k-means clustering\n",
    "km = KMeans(n_clusters=n_clusters,random_state=0)\n",
    "km.fit(products_similarities)\n",
    "\n",
    "# Print the products in each cluster\n",
    "for i in range(n_clusters):\n",
    "    indices = np.where(km.labels_ == i)[0]\n",
    "    print(\"Cluster {}: {}\".format(i+1, ', '.join(np.array(tfidf.get_feature_names())[indices].tolist())))\n",
    "#     print(\"\\n\\n\")"
   ]
  },
  {
   "cell_type": "code",
   "execution_count": 9,
   "id": "f4b641ce",
   "metadata": {
    "execution": {
     "iopub.execute_input": "2023-01-22T22:43:00.905576Z",
     "iopub.status.busy": "2023-01-22T22:43:00.905145Z",
     "iopub.status.idle": "2023-01-22T22:43:00.919920Z",
     "shell.execute_reply": "2023-01-22T22:43:00.918424Z"
    },
    "papermill": {
     "duration": 0.029532,
     "end_time": "2023-01-22T22:43:00.924984",
     "exception": false,
     "start_time": "2023-01-22T22:43:00.895452",
     "status": "completed"
    },
    "tags": []
   },
   "outputs": [
    {
     "name": "stdout",
     "output_type": "stream",
     "text": [
      "For n_clusters = 9 The average silhouette_score is : 0.08247222109636614\n"
     ]
    }
   ],
   "source": [
    "from sklearn.metrics import silhouette_score\n",
    "\n",
    "silhouette_avg = silhouette_score(products_similarities, km.labels_)\n",
    "print(\"For n_clusters =\", n_clusters, \"The average silhouette_score is :\", silhouette_avg)\n"
   ]
  },
  {
   "cell_type": "code",
   "execution_count": 10,
   "id": "30b7f577",
   "metadata": {
    "execution": {
     "iopub.execute_input": "2023-01-22T22:43:00.956432Z",
     "iopub.status.busy": "2023-01-22T22:43:00.955677Z",
     "iopub.status.idle": "2023-01-22T22:43:01.760497Z",
     "shell.execute_reply": "2023-01-22T22:43:01.759328Z"
    },
    "papermill": {
     "duration": 0.823782,
     "end_time": "2023-01-22T22:43:01.763764",
     "exception": false,
     "start_time": "2023-01-22T22:43:00.939982",
     "status": "completed"
    },
    "tags": []
   },
   "outputs": [
    {
     "data": {
      "image/png": "[encoded data removed]",
      "text/plain": [
       "<Figure size 864x576 with 1 Axes>"
      ]
     },
     "metadata": {},
     "output_type": "display_data"
    }
   ],
   "source": [
    "# Reduce the dimensionality of the data to 2D\n",
    "pca = PCA(n_components=2)\n",
    "pca_result = pca.fit_transform(products_similarities)\n",
    "\n",
    "# Plot the results\n",
    "plt.figure(figsize=(12,8))\n",
    "for i in range(n_clusters):\n",
    "    indices = np.where(km.labels_ == i)[0]\n",
    "    plt.scatter(pca_result[indices, 0], pca_result[indices, 1], label=f'Cluster {i+1}')\n",
    "#     for j, product in enumerate(np.array(tfidf.get_feature_names())[indices.tolist()]):\n",
    "#         plt.annotate(product, (pca_result[indices, 0][j], pca_result[indices, 1][j]))\n",
    "plt.legend()\n",
    "plt.show()"
   ]
  },
  {
   "cell_type": "code",
   "execution_count": 11,
   "id": "d6e16692",
   "metadata": {
    "execution": {
     "iopub.execute_input": "2023-01-22T22:43:01.777959Z",
     "iopub.status.busy": "2023-01-22T22:43:01.776906Z",
     "iopub.status.idle": "2023-01-22T22:43:02.266560Z",
     "shell.execute_reply": "2023-01-22T22:43:02.265771Z"
    },
    "papermill": {
     "duration": 0.49886,
     "end_time": "2023-01-22T22:43:02.268713",
     "exception": false,
     "start_time": "2023-01-22T22:43:01.769853",
     "status": "completed"
    },
    "tags": []
   },
   "outputs": [
    {
     "name": "stderr",
     "output_type": "stream",
     "text": [
      "/opt/conda/lib/python3.7/site-packages/sklearn/utils/deprecation.py:87: FutureWarning: Function get_feature_names is deprecated; get_feature_names is deprecated in 1.0 and will be removed in 1.2. Please use get_feature_names_out instead.\n",
      "  warnings.warn(msg, category=FutureWarning)\n"
     ]
    },
    {
     "data": {
      "text/html": [
       "        <script type=\"text/javascript\">\n",
       "        window.PlotlyConfig = {MathJaxConfig: 'local'};\n",
       "        if (window.MathJax && window.MathJax.Hub && window.MathJax.Hub.Config) {window.MathJax.Hub.Config({SVG: {font: \"STIX-Web\"}});}\n",
       "        if (typeof require !== 'undefined') {\n",
       "        require.undef(\"plotly\");\n",
       "        requirejs.config({\n",
       "            paths: {\n",
       "                'plotly': ['https://cdn.plot.ly/plotly-2.16.1.min']\n",
       "            }\n",
       "        });\n",
       "        require(['plotly'], function(Plotly) {\n",
       "            window._Plotly = Plotly;\n",
       "        });\n",
       "        }\n",
       "        </script>\n",
       "        "
      ]
     },
     "metadata": {},
     "output_type": "display_data"
    },
    {
     "data": {
      "text/html": [
       "<div>                            <div id=\"030bf8db-3f5e-417b-9d1f-163bfa0713e4\" class=\"plotly-graph-div\" style=\"height:525px; width:100%;\"></div>            <script type=\"text/javascript\">                require([\"plotly\"], function(Plotly) {                    window.PLOTLYENV=window.PLOTLYENV || {};                                    if (document.getElementById(\"030bf8db-3f5e-417b-9d1f-163bfa0713e4\")) {                    Plotly.newPlot(                        \"030bf8db-3f5e-417b-9d1f-163bfa0713e4\",                        [{\"marker\":{\"color\":\"rgb(31, 119, 180)\",\"size\":10},\"mode\":\"markers\",\"name\":\"Cluster 1\",\"text\":[\"artif\",\"baby_cosmetics\",\"bags\",\"bathroom_cleaner\",\"cocoa_drinks\",\"cooking_chocolate\",\"cookware\",\"cream\",\"frozen_chicken\",\"frozen_fruits\",\"hair_spray\",\"honey\",\"kitchen_utensil\",\"make_up\",\"nut_snack\",\"organic_products\",\"organic_sausage\",\"potato_products\",\"preservation_products\",\"prosecco\",\"pudding_powder\",\"remover\",\"rubbing_alcohol\",\"skin_care\",\"soap\",\"specialty_vegetables\",\"sweetener\",\"tidbits\",\"toilet_cleaner\",\"whisky\"],\"x\":[-0.419002622695224,-0.5742081266527009,-0.5210945373764492,-0.4300714638568851,-0.4175443989343397,-0.4590970626976163,-0.39388910155427775,-0.49142502509679686,-0.5471087130378767,-0.48344506498420553,-0.5019264704388432,-0.4391100421823403,-0.5508779086136586,-0.5678641587840833,-0.39112393699600806,-0.46959149389505583,-0.379248517797127,-0.3749607863367064,-0.5792054446622801,-0.4311185288723322,-0.4118729174428034,-0.5678641587840833,-0.48619139020530455,-0.392942624878465,-0.40945732504497173,-0.47619204558480493,-0.41900262269522426,-0.3803802733984528,-0.5118371265949868,-0.45054784329680003],\"y\":[0.9975205362722662,0.09820868734707489,-0.06897063359202747,-0.04881029018428428,-0.01391679829443202,-0.045115086423257865,0.016037268108396608,-0.04823211990641154,-0.04965921485089996,-0.07656221360722897,0.009572625442967272,0.010144794895559852,-0.043053212361870916,0.9418866984031464,-0.06143926971911136,-0.0368380081150198,-0.02867543765359445,-0.03394873082561857,-0.055603303529438416,-0.016176261633755185,-0.0397699971010889,0.9418866984031464,-0.04253273197474416,-0.044333796340227036,-0.016186759407277023,-0.06177830596873048,0.9975205362722663,-0.05176587971380587,-0.061091968691771636,-0.07890311230596692],\"z\":[0.14428482440279547,-0.019333053689267618,-0.006607341233795638,-0.020396402473610766,-0.012148525244142836,-0.03960168916208368,-0.07676584894236554,-0.06243689321891585,-0.050772653056581435,-0.04300152007356632,-0.032877834909563135,0.11918259229440227,-0.041575395107525115,0.10465348203267086,-0.02763556558271535,-0.034766508832326654,-0.13647203211002187,-0.06720798318326592,-0.05093537844061046,-0.027534251446017472,-0.002722035294216332,0.10465348203267083,-0.03530881257905313,0.003224483515913236,0.033440757338770936,-0.036933065304679505,0.1442848244027952,-0.059316231169572436,-0.0559173601018731,-0.015299623814833041],\"type\":\"scatter3d\"},{\"marker\":{\"color\":\"rgb(255, 127, 14)\",\"size\":10},\"mode\":\"markers\",\"name\":\"Cluster 2\",\"text\":[\"berries\",\"beverages\",\"butter_milk\",\"candy\",\"cat_food\",\"cereals\",\"chewing_gum\",\"chocolate\",\"coffee\",\"cream_cheese\",\"delete\",\"dessert\",\"detergent\",\"frozen_meals\",\"grapes\",\"ham\",\"hamburger_meat\",\"hard_cheese\",\"hygiene_articles\",\"ice_cream\",\"meat\",\"misc\",\"napkins\",\"oil\",\"onions\",\"pasta\",\"pickled_vegetables\",\"products\",\"redblush_wine\",\"salty_snack\",\"sliced_cheese\",\"specialty_bar\",\"specialty_chocolate\",\"sugar\",\"waffles\",\"white_bread\",\"white_wine\"],\"x\":[0.24759737634040818,0.4687164002194658,0.148847940127326,0.133269848968092,0.061181253915564206,0.41849684991910396,0.04974759915398735,0.3338413759519713,0.3840371916457261,0.27414140188775177,-0.04625847056705319,0.26993403421055795,-0.042137266891181246,0.18843987303602378,0.09776801142157202,0.18346099916959965,0.25294969265592965,0.13485833716824613,0.10431540962771377,0.10379473111306402,0.1445028505595423,0.18421733185684575,0.26544069500515,0.09786858355897576,0.24385950522511476,-0.06262938536060729,-0.019203144858137577,0.09054160422343137,0.002255741732165088,0.19281538836744877,0.0780719066999663,0.11698918117158442,0.13201646565309919,0.22651476893554015,0.21171026174960472,0.33271866284085627,0.0842896855803262],\"y\":[0.010371071416757997,0.1361492692102569,0.018985682068251616,-0.029697667983240937,0.0333369119589445,-0.02878893484424891,0.025039609182950655,-0.05508497078779842,-0.011747541850618843,0.07592005072966898,-0.0582191588362728,-0.007568014708863338,-0.010392854283698596,-0.02646491807761769,0.003007351497128846,0.048638701248317186,0.01958214216240921,-0.04138723391694856,-0.03179908622039055,0.010732396728742816,-0.0059091005904247495,0.13378343737538662,-0.02431737561783328,-0.024192517912265937,-0.031702964528678906,0.007047184667289021,0.0015282623398105316,-0.432275646234547,0.03329343551916325,0.03202835879778288,-0.035686081834046916,0.030392131853259254,0.016543248164995132,0.06225223920262767,-0.03091716392744777,0.006158188814903211,-0.05646481563603372],\"z\":[-0.00007672581092698204,0.055966758177694656,-0.08330283324944954,-0.06430097268983685,-0.024498656454432156,0.01605629458895087,-0.001851360123058847,0.08249116466446688,0.006631026182033489,0.01044745744505447,-0.044719367455954166,-0.045709593641399364,-0.0029005906078832444,0.025124076525066815,-0.03210438680151637,-0.017788311211127224,-0.0019019589699297566,0.01165308038523515,-0.023178344604939782,0.005646115098694119,-0.07708416981534921,0.085672298389371,-0.06469952408631693,-0.007783787323258125,0.02244319337690264,0.02453227467716613,-0.02783626398677921,0.23740211867922809,-0.01868079838609891,-0.08880552035167522,-0.04069147493426823,-0.004445255964315117,-0.0002844967259648021,0.012519383767087416,-0.03289313411521428,-0.0286932116531367,-0.01943780166985087],\"type\":\"scatter3d\"},{\"marker\":{\"color\":\"rgb(44, 160, 44)\",\"size\":10},\"mode\":\"markers\",\"name\":\"Cluster 3\",\"text\":[\"abrasive_cleaner\",\"baking_powder\",\"brandy\",\"cake_bar\",\"candles\",\"canned_fish\",\"canned_fruit\",\"canned_vegetables\",\"chocolate_marshmallow\",\"cleaner\",\"cling_filmbags\",\"condensed_milk\",\"curd_cheese\",\"decalcifier\",\"dental_care\",\"dish_cleaner\",\"dishes\",\"dog_food\",\"female_sanitary\",\"finished_products\",\"fish\",\"flour\",\"flower_soilfertilizer\",\"frozen_dessert\",\"frozen_fish\",\"frozen_potato\",\"house_keeping\",\"instant_coffee\",\"instant_food\",\"jam\",\"ketchup\",\"kitchen_towels\",\"light_bulbs\",\"liqueur\",\"liver_loaf\",\"male_cosmetics\",\"mayonnaise\",\"meat_spreads\",\"mustard\",\"nutsprunes\",\"packaged_fruitvegetables\",\"pet_care\",\"photofilm\",\"popcorn\",\"pot_plants\",\"processed_cheese\",\"ready_soups\",\"rice\",\"roll_products\",\"rum\",\"salt\",\"seasonal_products\",\"snack_products\",\"soft_cheese\",\"softener\",\"soups\",\"sparkling_wine\",\"specialty_cheese\",\"specialty_fat\",\"spices\",\"spread_cheese\",\"sweet_spreads\",\"syrup\",\"tea\",\"turkey\",\"vinegar\",\"zwieback\"],\"x\":[-0.36327282674764677,-0.0735866002860771,-0.3354816571310265,-0.15072486124568285,-0.18735516247043837,-0.09946226371263782,-0.36114390955503395,-0.16836172904445562,-0.2716950030333149,-0.36786108338974255,-0.21447718896144283,-0.11831233412966981,-0.2357580565587859,-0.48066667456518253,-0.3117966539967633,-0.17555789274323233,-0.04685772220363389,-0.21559307106678063,-0.2989234253918621,-0.24523409501331933,-0.05087961784975583,-0.02368166278756852,-0.41186569640198856,-0.12908495771203782,-0.11151153335818148,-0.21568026195615642,-0.2602035030554719,-0.24600393042562493,-0.22156290379783944,-0.3226018956204753,-0.33162594600199236,-0.3431046397279922,-0.35151317238401686,-0.4950725027759272,-0.2924241904800128,-0.28101448899844844,-0.19333344491375373,-0.2984183492088415,-0.1605400810336389,-0.3411498006374077,-0.07795227548183266,-0.16817784476457628,-0.20007450034212707,-0.26899699551080547,-0.09769375840572846,-0.03254774769316997,-0.4454582970400743,-0.27643676212798163,-0.1897169510301127,-0.3403492642791061,-0.15657145997373395,-0.12251340735832389,-0.3662935027710483,-0.009428859078393713,-0.28888584581765825,-0.2994079695818399,-0.26785787319582494,-0.2021597943707238,-0.3727463244548435,-0.32411176734467334,-0.15550929196064175,-0.21499297243670074,-0.39388380732792044,-0.36221323469584904,-0.1962018128075201,-0.2781893203167575,-0.18215292414882983],\"y\":[-0.057063894971405106,-0.03946433227653671,-0.00039960968555957096,-0.05494963027733951,0.0398246210667598,-0.03996021636679863,-0.04413580512684104,-0.05860064688182056,-0.06592463830870413,-0.053354648599248676,-0.01274899562841973,-0.04000198184130369,-0.054217151892032175,-0.04744099582998892,-0.053837535726814774,-0.07041674960784014,-0.04105818541217854,-0.019158097449072098,-0.21875158097669814,0.04778354765592454,0.014828849044959645,-0.048563582216568216,-0.046548558914975474,-0.02230247774266732,-0.04793383290418161,-0.28714459708046125,-0.17678437363550364,0.03450051315413662,-0.2519165435648135,-0.06966005066122692,-0.04716908785027621,-0.03863635526857999,-0.061430206288733094,-0.058225246575581674,-0.03105767020220437,-0.058824681133563074,0.003090843210173942,-0.015167173727762575,-0.06061988975727417,-0.04316225193496653,-0.008280187790628576,-0.05760748480917001,-0.02981848548168527,-0.05791777516964357,-0.07939105584442359,-0.04736951382798633,-0.05549142901174708,-0.03471643756862762,-0.06548400035625078,-0.032318275334069405,-0.05780544798171905,-0.02129887536291153,-0.04653856573250122,-0.047867906069993596,-0.03692302006199848,-0.06683807599744214,0.007344771358573934,-0.06229327097828523,0.0744481098418377,0.0715238281047645,0.023178432130063615,-0.06497911928806954,-0.048772450892958216,-0.04581622269180011,0.019779979895753384,-0.06742052320922809,-0.05293863876273862],\"z\":[-0.03677972536780418,0.022323223049319583,-0.046360767516051914,0.017201416392685936,0.01359642595703854,-0.013412812980455805,0.01818784539300486,0.007635885915858102,-0.02140369387742958,-0.09487368608527927,-0.062345102996999316,-0.012880360350104885,-0.03367312246148028,-0.03693399702496153,0.01277116179390432,0.01575748761777984,-0.07456313047961964,0.0009935521063174305,0.056990866583627973,-0.03835202026859051,0.02700743694058999,-0.022254735008177668,0.020571123450698905,-0.0031585213835471824,0.001626882011322601,0.08766604374116321,0.10393537721276828,0.03817916948548556,0.16340864867362695,0.058458817001772745,0.010774272079888639,-0.06737525814114742,0.03495315885340889,-0.01450972685754238,0.039224749747806174,-0.03943078777621549,-0.007502971617414722,-0.017304668387376557,-0.013796544627351616,-0.05524261937525944,-0.06358785426024598,0.05081626632685053,-0.004839005243037862,0.0018606103619527932,-0.019434521936009325,-0.041381533837003,-0.028394473205301397,-0.06860332867090599,-0.039900947028751604,-0.00794437715681718,-0.0021659893540894376,-0.02132108165997964,-0.0027793735826120965,-0.010850072895743053,-0.025893355026826593,-0.03883430695678626,-0.007548380788488863,0.00965474918735598,-0.025677662300924685,-0.03725895253643236,-0.03639091399114358,0.01999318461163512,-0.024853394174608374,-0.05743193612197392,-0.016377581854360244,0.019838153113356904,-0.0031272630572908304],\"type\":\"scatter3d\"},{\"marker\":{\"color\":\"rgb(214, 39, 40)\",\"size\":10},\"mode\":\"markers\",\"name\":\"Cluster 4\",\"text\":[\"finished_bread\",\"semi\"],\"x\":[0.015586662126380511,0.015586662126380511],\"y\":[0.036813606476533076,0.03681360647653308],\"z\":[-0.7652431459706576,-0.7652431459706577],\"type\":\"scatter3d\"},{\"marker\":{\"color\":\"rgb(148, 103, 189)\",\"size\":10},\"mode\":\"markers\",\"name\":\"Cluster 5\",\"text\":[\"bakery_product\",\"long_life\"],\"x\":[0.20009796107312344,0.20009796107312344],\"y\":[-0.1843815732385029,-0.18438157323850277],\"z\":[0.5615885129896656,0.5615885129896656],\"type\":\"scatter3d\"},{\"marker\":{\"color\":\"rgb(140, 86, 75)\",\"size\":10},\"mode\":\"markers\",\"name\":\"Cluster 6\",\"text\":[\"beef\",\"bottled_beer\",\"bottled_water\",\"brown_bread\",\"butter\",\"canned_beer\",\"chicken\",\"citrus_fruit\",\"curd\",\"domestic_eggs\",\"frozen_vegetables\",\"fruitvegetable_juice\",\"herbs\",\"italian_sausage\",\"large_milk\",\"margarine\",\"med_milk\",\"newspapers\",\"other_vegetables\",\"pastry\",\"pip_fruit\",\"pork\",\"rollsbuns\",\"root_vegetables\",\"salad_dressing\",\"sauces\",\"sausage\",\"shopping_bags\",\"small_milk\",\"soda\",\"tropical_fruit\",\"whippedsour_cream\",\"yogurt\"],\"x\":[0.42017762800072084,0.7044332964196953,0.7660662935811671,0.5324760321387167,0.477376589445916,0.6316619097541682,0.5001950634315153,0.65788274840206,0.47341758318347005,0.4991955162883784,0.3888734403289713,0.45281585857678924,0.5235596974341048,0.8656425211677541,0.6947336543191343,0.43813994436413306,0.8431804482897154,0.5347276931931403,1.3409841603397827,0.6927841411043887,0.6290182020954799,0.5595741021985603,1.2749938610649463,1.0637686345598996,0.41664405732648824,0.43093353326901274,1.0737663377053706,0.744132941080702,1.0341310691535512,1.1748151992153708,0.840383673855939,0.555497135936385,1.1555746463596397],\"y\":[0.007216314162255316,0.0038442126004690595,0.04972248746898826,0.012494901584592134,0.049900894904499477,0.05124447644334868,-0.03571541064500532,0.021652395698000218,0.009997311941287588,0.008790475092619888,0.016622807172873778,-0.012134729866081474,0.026273520079016698,0.06820830800133518,0.06677259857782705,-0.0016469643614434601,-0.013158029547412064,0.021667958730522265,0.09134457208800827,0.00020275911392670293,-0.006614546529227524,0.04407181305902734,0.04008932659915061,0.04630383067969774,-0.0008188444641307686,0.020425978623569256,0.04817914758927981,0.058203050048794315,0.028792391124122435,0.06203023356131469,0.04625023850356141,-0.008419968048864352,0.03112048342028701],\"z\":[-0.057917742356352414,-0.005264192037246191,0.0014856913986959666,-0.014351000119380512,-0.006538212758408383,0.009604240104011622,0.019294978827993154,0.0330305096343343,0.0371657793331001,0.019390591971463325,-0.03862002614713854,0.02687813858117891,0.03302510815964715,0.01596142195343153,-0.021844393333008836,-0.01311035534036316,-0.03201671275294041,0.03701602803849107,-0.004349659279074053,0.0281398637970497,-0.008932232852247802,0.02195811491682447,0.02659742730900773,0.02369180095850317,0.04685761513404255,-0.052604949534075296,0.03475541989991442,-0.05920419458935735,0.031886994979223274,0.02489418574932397,-0.027540218629406366,0.018082022667769038,0.013575806663706287],\"type\":\"scatter3d\"},{\"marker\":{\"color\":\"rgb(227, 119, 194)\",\"size\":10},\"mode\":\"markers\",\"name\":\"Cluster 7\",\"text\":[\"milk\",\"uht\"],\"x\":[0.33551669221107,0.33551669221107],\"y\":[-0.00393070389151625,-0.00393070389151625],\"z\":[-0.3170717588422449,-0.3170717588422449],\"type\":\"scatter3d\"},{\"marker\":{\"color\":\"rgb(127, 127, 127)\",\"size\":10},\"mode\":\"markers\",\"name\":\"Cluster 8\",\"text\":[\"flower\",\"seeds\"],\"x\":[-0.21953011502212189,-0.21953011502212189],\"y\":[-0.05645909149509876,-0.05645909149509876],\"z\":[0.9426449731084651,0.9426449731084651],\"type\":\"scatter3d\"},{\"marker\":{\"color\":\"rgb(188, 189, 34)\",\"size\":10},\"mode\":\"markers\",\"name\":\"Cluster 9\",\"text\":[\"appetizer\",\"liquor\"],\"x\":[-0.18823743243592286,0.06647581414053079],\"y\":[-0.06395609264653768,-0.03641617147556142],\"z\":[-0.04241745624491354,-0.06016864843502351],\"type\":\"scatter3d\"}],                        {\"scene\":{\"xaxis\":{\"title\":{\"text\":\"PC1\"}},\"yaxis\":{\"title\":{\"text\":\"PC2\"}},\"zaxis\":{\"title\":{\"text\":\"PC3\"}}},\"title\":{\"text\":\"3D Plot\"},\"template\":{\"data\":{\"histogram2dcontour\":[{\"type\":\"histogram2dcontour\",\"colorbar\":{\"outlinewidth\":0,\"ticks\":\"\"},\"colorscale\":[[0.0,\"#0d0887\"],[0.1111111111111111,\"#46039f\"],[0.2222222222222222,\"#7201a8\"],[0.3333333333333333,\"#9c179e\"],[0.4444444444444444,\"#bd3786\"],[0.5555555555555556,\"#d8576b\"],[0.6666666666666666,\"#ed7953\"],[0.7777777777777778,\"#fb9f3a\"],[0.8888888888888888,\"#fdca26\"],[1.0,\"#f0f921\"]]}],\"choropleth\":[{\"type\":\"choropleth\",\"colorbar\":{\"outlinewidth\":0,\"ticks\":\"\"}}],\"histogram2d\":[{\"type\":\"histogram2d\",\"colorbar\":{\"outlinewidth\":0,\"ticks\":\"\"},\"colorscale\":[[0.0,\"#0d0887\"],[0.1111111111111111,\"#46039f\"],[0.2222222222222222,\"#7201a8\"],[0.3333333333333333,\"#9c179e\"],[0.4444444444444444,\"#bd3786\"],[0.5555555555555556,\"#d8576b\"],[0.6666666666666666,\"#ed7953\"],[0.7777777777777778,\"#fb9f3a\"],[0.8888888888888888,\"#fdca26\"],[1.0,\"#f0f921\"]]}],\"heatmap\":[{\"type\":\"heatmap\",\"colorbar\":{\"outlinewidth\":0,\"ticks\":\"\"},\"colorscale\":[[0.0,\"#0d0887\"],[0.1111111111111111,\"#46039f\"],[0.2222222222222222,\"#7201a8\"],[0.3333333333333333,\"#9c179e\"],[0.4444444444444444,\"#bd3786\"],[0.5555555555555556,\"#d8576b\"],[0.6666666666666666,\"#ed7953\"],[0.7777777777777778,\"#fb9f3a\"],[0.8888888888888888,\"#fdca26\"],[1.0,\"#f0f921\"]]}],\"heatmapgl\":[{\"type\":\"heatmapgl\",\"colorbar\":{\"outlinewidth\":0,\"ticks\":\"\"},\"colorscale\":[[0.0,\"#0d0887\"],[0.1111111111111111,\"#46039f\"],[0.2222222222222222,\"#7201a8\"],[0.3333333333333333,\"#9c179e\"],[0.4444444444444444,\"#bd3786\"],[0.5555555555555556,\"#d8576b\"],[0.6666666666666666,\"#ed7953\"],[0.7777777777777778,\"#fb9f3a\"],[0.8888888888888888,\"#fdca26\"],[1.0,\"#f0f921\"]]}],\"contourcarpet\":[{\"type\":\"contourcarpet\",\"colorbar\":{\"outlinewidth\":0,\"ticks\":\"\"}}],\"contour\":[{\"type\":\"contour\",\"colorbar\":{\"outlinewidth\":0,\"ticks\":\"\"},\"colorscale\":[[0.0,\"#0d0887\"],[0.1111111111111111,\"#46039f\"],[0.2222222222222222,\"#7201a8\"],[0.3333333333333333,\"#9c179e\"],[0.4444444444444444,\"#bd3786\"],[0.5555555555555556,\"#d8576b\"],[0.6666666666666666,\"#ed7953\"],[0.7777777777777778,\"#fb9f3a\"],[0.8888888888888888,\"#fdca26\"],[1.0,\"#f0f921\"]]}],\"surface\":[{\"type\":\"surface\",\"colorbar\":{\"outlinewidth\":0,\"ticks\":\"\"},\"colorscale\":[[0.0,\"#0d0887\"],[0.1111111111111111,\"#46039f\"],[0.2222222222222222,\"#7201a8\"],[0.3333333333333333,\"#9c179e\"],[0.4444444444444444,\"#bd3786\"],[0.5555555555555556,\"#d8576b\"],[0.6666666666666666,\"#ed7953\"],[0.7777777777777778,\"#fb9f3a\"],[0.8888888888888888,\"#fdca26\"],[1.0,\"#f0f921\"]]}],\"mesh3d\":[{\"type\":\"mesh3d\",\"colorbar\":{\"outlinewidth\":0,\"ticks\":\"\"}}],\"scatter\":[{\"fillpattern\":{\"fillmode\":\"overlay\",\"size\":10,\"solidity\":0.2},\"type\":\"scatter\"}],\"parcoords\":[{\"type\":\"parcoords\",\"line\":{\"colorbar\":{\"outlinewidth\":0,\"ticks\":\"\"}}}],\"scatterpolargl\":[{\"type\":\"scatterpolargl\",\"marker\":{\"colorbar\":{\"outlinewidth\":0,\"ticks\":\"\"}}}],\"bar\":[{\"error_x\":{\"color\":\"#2a3f5f\"},\"error_y\":{\"color\":\"#2a3f5f\"},\"marker\":{\"line\":{\"color\":\"#E5ECF6\",\"width\":0.5},\"pattern\":{\"fillmode\":\"overlay\",\"size\":10,\"solidity\":0.2}},\"type\":\"bar\"}],\"scattergeo\":[{\"type\":\"scattergeo\",\"marker\":{\"colorbar\":{\"outlinewidth\":0,\"ticks\":\"\"}}}],\"scatterpolar\":[{\"type\":\"scatterpolar\",\"marker\":{\"colorbar\":{\"outlinewidth\":0,\"ticks\":\"\"}}}],\"histogram\":[{\"marker\":{\"pattern\":{\"fillmode\":\"overlay\",\"size\":10,\"solidity\":0.2}},\"type\":\"histogram\"}],\"scattergl\":[{\"type\":\"scattergl\",\"marker\":{\"colorbar\":{\"outlinewidth\":0,\"ticks\":\"\"}}}],\"scatter3d\":[{\"type\":\"scatter3d\",\"line\":{\"colorbar\":{\"outlinewidth\":0,\"ticks\":\"\"}},\"marker\":{\"colorbar\":{\"outlinewidth\":0,\"ticks\":\"\"}}}],\"scattermapbox\":[{\"type\":\"scattermapbox\",\"marker\":{\"colorbar\":{\"outlinewidth\":0,\"ticks\":\"\"}}}],\"scatterternary\":[{\"type\":\"scatterternary\",\"marker\":{\"colorbar\":{\"outlinewidth\":0,\"ticks\":\"\"}}}],\"scattercarpet\":[{\"type\":\"scattercarpet\",\"marker\":{\"colorbar\":{\"outlinewidth\":0,\"ticks\":\"\"}}}],\"carpet\":[{\"aaxis\":{\"endlinecolor\":\"#2a3f5f\",\"gridcolor\":\"white\",\"linecolor\":\"white\",\"minorgridcolor\":\"white\",\"startlinecolor\":\"#2a3f5f\"},\"baxis\":{\"endlinecolor\":\"#2a3f5f\",\"gridcolor\":\"white\",\"linecolor\":\"white\",\"minorgridcolor\":\"white\",\"startlinecolor\":\"#2a3f5f\"},\"type\":\"carpet\"}],\"table\":[{\"cells\":{\"fill\":{\"color\":\"#EBF0F8\"},\"line\":{\"color\":\"white\"}},\"header\":{\"fill\":{\"color\":\"#C8D4E3\"},\"line\":{\"color\":\"white\"}},\"type\":\"table\"}],\"barpolar\":[{\"marker\":{\"line\":{\"color\":\"#E5ECF6\",\"width\":0.5},\"pattern\":{\"fillmode\":\"overlay\",\"size\":10,\"solidity\":0.2}},\"type\":\"barpolar\"}],\"pie\":[{\"automargin\":true,\"type\":\"pie\"}]},\"layout\":{\"autotypenumbers\":\"strict\",\"colorway\":[\"#636efa\",\"#EF553B\",\"#00cc96\",\"#ab63fa\",\"#FFA15A\",\"#19d3f3\",\"#FF6692\",\"#B6E880\",\"#FF97FF\",\"#FECB52\"],\"font\":{\"color\":\"#2a3f5f\"},\"hovermode\":\"closest\",\"hoverlabel\":{\"align\":\"left\"},\"paper_bgcolor\":\"white\",\"plot_bgcolor\":\"#E5ECF6\",\"polar\":{\"bgcolor\":\"#E5ECF6\",\"angularaxis\":{\"gridcolor\":\"white\",\"linecolor\":\"white\",\"ticks\":\"\"},\"radialaxis\":{\"gridcolor\":\"white\",\"linecolor\":\"white\",\"ticks\":\"\"}},\"ternary\":{\"bgcolor\":\"#E5ECF6\",\"aaxis\":{\"gridcolor\":\"white\",\"linecolor\":\"white\",\"ticks\":\"\"},\"baxis\":{\"gridcolor\":\"white\",\"linecolor\":\"white\",\"ticks\":\"\"},\"caxis\":{\"gridcolor\":\"white\",\"linecolor\":\"white\",\"ticks\":\"\"}},\"coloraxis\":{\"colorbar\":{\"outlinewidth\":0,\"ticks\":\"\"}},\"colorscale\":{\"sequential\":[[0.0,\"#0d0887\"],[0.1111111111111111,\"#46039f\"],[0.2222222222222222,\"#7201a8\"],[0.3333333333333333,\"#9c179e\"],[0.4444444444444444,\"#bd3786\"],[0.5555555555555556,\"#d8576b\"],[0.6666666666666666,\"#ed7953\"],[0.7777777777777778,\"#fb9f3a\"],[0.8888888888888888,\"#fdca26\"],[1.0,\"#f0f921\"]],\"sequentialminus\":[[0.0,\"#0d0887\"],[0.1111111111111111,\"#46039f\"],[0.2222222222222222,\"#7201a8\"],[0.3333333333333333,\"#9c179e\"],[0.4444444444444444,\"#bd3786\"],[0.5555555555555556,\"#d8576b\"],[0.6666666666666666,\"#ed7953\"],[0.7777777777777778,\"#fb9f3a\"],[0.8888888888888888,\"#fdca26\"],[1.0,\"#f0f921\"]],\"diverging\":[[0,\"#8e0152\"],[0.1,\"#c51b7d\"],[0.2,\"#de77ae\"],[0.3,\"#f1b6da\"],[0.4,\"#fde0ef\"],[0.5,\"#f7f7f7\"],[0.6,\"#e6f5d0\"],[0.7,\"#b8e186\"],[0.8,\"#7fbc41\"],[0.9,\"#4d9221\"],[1,\"#276419\"]]},\"xaxis\":{\"gridcolor\":\"white\",\"linecolor\":\"white\",\"ticks\":\"\",\"title\":{\"standoff\":15},\"zerolinecolor\":\"white\",\"automargin\":true,\"zerolinewidth\":2},\"yaxis\":{\"gridcolor\":\"white\",\"linecolor\":\"white\",\"ticks\":\"\",\"title\":{\"standoff\":15},\"zerolinecolor\":\"white\",\"automargin\":true,\"zerolinewidth\":2},\"scene\":{\"xaxis\":{\"backgroundcolor\":\"#E5ECF6\",\"gridcolor\":\"white\",\"linecolor\":\"white\",\"showbackground\":true,\"ticks\":\"\",\"zerolinecolor\":\"white\",\"gridwidth\":2},\"yaxis\":{\"backgroundcolor\":\"#E5ECF6\",\"gridcolor\":\"white\",\"linecolor\":\"white\",\"showbackground\":true,\"ticks\":\"\",\"zerolinecolor\":\"white\",\"gridwidth\":2},\"zaxis\":{\"backgroundcolor\":\"#E5ECF6\",\"gridcolor\":\"white\",\"linecolor\":\"white\",\"showbackground\":true,\"ticks\":\"\",\"zerolinecolor\":\"white\",\"gridwidth\":2}},\"shapedefaults\":{\"line\":{\"color\":\"#2a3f5f\"}},\"annotationdefaults\":{\"arrowcolor\":\"#2a3f5f\",\"arrowhead\":0,\"arrowwidth\":1},\"geo\":{\"bgcolor\":\"white\",\"landcolor\":\"#E5ECF6\",\"subunitcolor\":\"white\",\"showland\":true,\"showlakes\":true,\"lakecolor\":\"white\"},\"title\":{\"x\":0.05},\"mapbox\":{\"style\":\"light\"}}}},                        {\"responsive\": true}                    ).then(function(){\n",
       "                            \n",
       "var gd = document.getElementById('030bf8db-3f5e-417b-9d1f-163bfa0713e4');\n",
       "var x = new MutationObserver(function (mutations, observer) {{\n",
       "        var display = window.getComputedStyle(gd).display;\n",
       "        if (!display || display === 'none') {{\n",
       "            console.log([gd, 'removed!']);\n",
       "            Plotly.purge(gd);\n",
       "            observer.disconnect();\n",
       "        }}\n",
       "}});\n",
       "\n",
       "// Listen for the removal of the full notebook cells\n",
       "var notebookContainer = gd.closest('#notebook-container');\n",
       "if (notebookContainer) {{\n",
       "    x.observe(notebookContainer, {childList: true});\n",
       "}}\n",
       "\n",
       "// Listen for the clearing of the current output cell\n",
       "var outputEl = gd.closest('.output');\n",
       "if (outputEl) {{\n",
       "    x.observe(outputEl, {childList: true});\n",
       "}}\n",
       "\n",
       "                        })                };                });            </script>        </div>"
      ]
     },
     "metadata": {},
     "output_type": "display_data"
    },
    {
     "data": {
      "image/png": "[encoded data removed]",
      "text/plain": [
       "<Figure size 864x504 with 1 Axes>"
      ]
     },
     "metadata": {},
     "output_type": "display_data"
    }
   ],
   "source": [
    "import plotly.colors\n",
    "import plotly.graph_objs as go\n",
    "# Reduce the dimensionality of the data to 2D\n",
    "pca = PCA(n_components=3)\n",
    "pca_result = pca.fit_transform(products_similarities)\n",
    "fig = plt.figure(figsize=(12,7))\n",
    "ax = fig.add_subplot(111, projection='3d')\n",
    "offset = 0.1\n",
    "data = []\n",
    "for i in range(n_clusters):\n",
    "    indices = np.where(km.labels_ == i)[0]\n",
    "    trace = go.Scatter3d(x=pca_result[indices, 0], y=pca_result[indices, 1], z=pca_result[indices, 2], mode='markers',\n",
    "    marker=dict(size=10, color=plotly.colors.DEFAULT_PLOTLY_COLORS[i]),\n",
    "    text=[tfidf.get_feature_names()[i] for i in indices],\n",
    "    name=f'Cluster {i+1}')\n",
    "    data.append(trace)\n",
    "\n",
    "\n",
    "layout = go.Layout(title='3D Plot',scene=dict(xaxis=dict(title='PC1'), yaxis=dict(title='PC2'), zaxis=dict(title='PC3')))\n",
    "fig = go.Figure(data=data, layout=layout)\n",
    "fig.show()"
   ]
  },
  {
   "cell_type": "code",
   "execution_count": 12,
   "id": "88118cd9",
   "metadata": {
    "execution": {
     "iopub.execute_input": "2023-01-22T22:43:02.287752Z",
     "iopub.status.busy": "2023-01-22T22:43:02.287084Z",
     "iopub.status.idle": "2023-01-22T22:43:02.629368Z",
     "shell.execute_reply": "2023-01-22T22:43:02.628209Z"
    },
    "papermill": {
     "duration": 0.353354,
     "end_time": "2023-01-22T22:43:02.631726",
     "exception": false,
     "start_time": "2023-01-22T22:43:02.278372",
     "status": "completed"
    },
    "tags": []
   },
   "outputs": [
    {
     "name": "stderr",
     "output_type": "stream",
     "text": [
      "/opt/conda/lib/python3.7/site-packages/sklearn/utils/deprecation.py:87: FutureWarning:\n",
      "\n",
      "Function get_feature_names is deprecated; get_feature_names is deprecated in 1.0 and will be removed in 1.2. Please use get_feature_names_out instead.\n",
      "\n"
     ]
    },
    {
     "data": {
      "text/html": [
       "<div>\n",
       "<style scoped>\n",
       "    .dataframe tbody tr th:only-of-type {\n",
       "        vertical-align: middle;\n",
       "    }\n",
       "\n",
       "    .dataframe tbody tr th {\n",
       "        vertical-align: top;\n",
       "    }\n",
       "\n",
       "    .dataframe thead th {\n",
       "        text-align: right;\n",
       "    }\n",
       "</style>\n",
       "<table border=\"1\" class=\"dataframe\">\n",
       "  <thead>\n",
       "    <tr style=\"text-align: right;\">\n",
       "      <th></th>\n",
       "      <th>Product</th>\n",
       "      <th>Similar Products</th>\n",
       "    </tr>\n",
       "  </thead>\n",
       "  <tbody>\n",
       "    <tr>\n",
       "      <th>0</th>\n",
       "      <td>abrasive_cleaner</td>\n",
       "      <td>[abrasive_cleaner, meat_spreads, med_milk, ket...</td>\n",
       "    </tr>\n",
       "    <tr>\n",
       "      <th>1</th>\n",
       "      <td>appetizer</td>\n",
       "      <td>[appetizer, liquor, soda, rollsbuns, other_veg...</td>\n",
       "    </tr>\n",
       "    <tr>\n",
       "      <th>2</th>\n",
       "      <td>artif</td>\n",
       "      <td>[artif, sweetener, baby_cosmetics, make_up, re...</td>\n",
       "    </tr>\n",
       "    <tr>\n",
       "      <th>3</th>\n",
       "      <td>baby_cosmetics</td>\n",
       "      <td>[baby_cosmetics, artif, sweetener, skin_care, ...</td>\n",
       "    </tr>\n",
       "    <tr>\n",
       "      <th>4</th>\n",
       "      <td>bags</td>\n",
       "      <td>[bags, liver_loaf, female_sanitary, instant_co...</td>\n",
       "    </tr>\n",
       "    <tr>\n",
       "      <th>...</th>\n",
       "      <td>...</td>\n",
       "      <td>...</td>\n",
       "    </tr>\n",
       "    <tr>\n",
       "      <th>172</th>\n",
       "      <td>whisky</td>\n",
       "      <td>[whisky, flour, frozen_potato, curd_cheese, bo...</td>\n",
       "    </tr>\n",
       "    <tr>\n",
       "      <th>173</th>\n",
       "      <td>white_bread</td>\n",
       "      <td>[white_bread, small_milk, rollsbuns, yogurt, o...</td>\n",
       "    </tr>\n",
       "    <tr>\n",
       "      <th>174</th>\n",
       "      <td>white_wine</td>\n",
       "      <td>[white_wine, small_milk, sausage, yogurt, othe...</td>\n",
       "    </tr>\n",
       "    <tr>\n",
       "      <th>175</th>\n",
       "      <td>yogurt</td>\n",
       "      <td>[yogurt, small_milk, other_vegetables, rollsbu...</td>\n",
       "    </tr>\n",
       "    <tr>\n",
       "      <th>176</th>\n",
       "      <td>zwieback</td>\n",
       "      <td>[zwieback, soda, mustard, sausage, med_milk, c...</td>\n",
       "    </tr>\n",
       "  </tbody>\n",
       "</table>\n",
       "<p>177 rows × 2 columns</p>\n",
       "</div>"
      ],
      "text/plain": [
       "              Product                                   Similar Products\n",
       "0    abrasive_cleaner  [abrasive_cleaner, meat_spreads, med_milk, ket...\n",
       "1           appetizer  [appetizer, liquor, soda, rollsbuns, other_veg...\n",
       "2               artif  [artif, sweetener, baby_cosmetics, make_up, re...\n",
       "3      baby_cosmetics  [baby_cosmetics, artif, sweetener, skin_care, ...\n",
       "4                bags  [bags, liver_loaf, female_sanitary, instant_co...\n",
       "..                ...                                                ...\n",
       "172            whisky  [whisky, flour, frozen_potato, curd_cheese, bo...\n",
       "173       white_bread  [white_bread, small_milk, rollsbuns, yogurt, o...\n",
       "174        white_wine  [white_wine, small_milk, sausage, yogurt, othe...\n",
       "175            yogurt  [yogurt, small_milk, other_vegetables, rollsbu...\n",
       "176          zwieback  [zwieback, soda, mustard, sausage, med_milk, c...\n",
       "\n",
       "[177 rows x 2 columns]"
      ]
     },
     "execution_count": 12,
     "metadata": {},
     "output_type": "execute_result"
    }
   ],
   "source": [
    "# Get the index of the products\n",
    "products_index = tfidf.get_feature_names()\n",
    "\n",
    "# Create an empty dataframe with 2 columns: 'Product' and 'Similar Products'\n",
    "similar = pd.DataFrame(columns=['Product', 'Similar Products'])\n",
    "\n",
    "# Iterate over each product\n",
    "for i, product in enumerate(products_index):\n",
    "    # Get the indices of the top 10 similar products\n",
    "    top_10_similar_indices = np.argsort(-products_similarities[i])[:10]\n",
    "    # Get the names of the top 10 similar products\n",
    "    top_10_similar_products = [products_index[index] for index in top_10_similar_indices]\n",
    "    # Add a new row to the dataframe with the product name and its top 10 similar products\n",
    "    similar = similar.append({'Product': product, 'Similar Products': top_10_similar_products}, ignore_index=True)\n",
    "similar"
   ]
  },
  {
   "cell_type": "code",
   "execution_count": 13,
   "id": "ee63e9d1",
   "metadata": {
    "execution": {
     "iopub.execute_input": "2023-01-22T22:43:02.649537Z",
     "iopub.status.busy": "2023-01-22T22:43:02.648403Z",
     "iopub.status.idle": "2023-01-22T22:43:02.653858Z",
     "shell.execute_reply": "2023-01-22T22:43:02.652815Z"
    },
    "papermill": {
     "duration": 0.016487,
     "end_time": "2023-01-22T22:43:02.656140",
     "exception": false,
     "start_time": "2023-01-22T22:43:02.639653",
     "status": "completed"
    },
    "tags": []
   },
   "outputs": [],
   "source": [
    "# # Vectorize the data\n",
    "# tfidf = TfidfVectorizer()\n",
    "# tfidf_matrix = tfidf.fit_transform(basket['products'])\n",
    "\n",
    "# # Compute the similarity between products\n",
    "# # products_similarities = cosine_similarity(tfidf_matrix.T)\n",
    "\n",
    "# # Compute the similarity between products using euclidean_distances\n",
    "# # from sklearn.metrics.pairwise import euclidean_distances\n",
    "# # products_similarities = euclidean_distances(tfidf_matrix)\n",
    "\n",
    "# # Define the number of clusters\n",
    "# n_clusters = 9\n",
    "# # Perform k-means clustering\n",
    "# km = KMeans(n_clusters=n_clusters)\n",
    "# km.fit(products_similarities)\n",
    "\n",
    "# # Print the products in each cluster\n",
    "# for i in range(n_clusters):\n",
    "#     indices = np.where(km.labels_ == i)[0]\n",
    "#     print(\"Cluster {}: {}\".format(i+1, ', '.join(np.array(tfidf.get_feature_names_out())[indices].tolist())))\n",
    "#     print(\"\\n\\n\")"
   ]
  },
  {
   "cell_type": "code",
   "execution_count": 14,
   "id": "275bfed2",
   "metadata": {
    "execution": {
     "iopub.execute_input": "2023-01-22T22:43:02.672492Z",
     "iopub.status.busy": "2023-01-22T22:43:02.672078Z",
     "iopub.status.idle": "2023-01-22T22:43:02.677344Z",
     "shell.execute_reply": "2023-01-22T22:43:02.676374Z"
    },
    "papermill": {
     "duration": 0.016017,
     "end_time": "2023-01-22T22:43:02.679360",
     "exception": false,
     "start_time": "2023-01-22T22:43:02.663343",
     "status": "completed"
    },
    "tags": []
   },
   "outputs": [],
   "source": [
    "# tfidf = TfidfVectorizer()\n",
    "# tfidf_matrix = tfidf.fit_transform(basket['products'])\n",
    "\n",
    "# # Dimensionality reduction\n",
    "# from sklearn.decomposition import TruncatedSVD\n",
    "# svd = TruncatedSVD(n_components=100)\n",
    "# svd_matrix = svd.fit_transform(tfidf_matrix)\n",
    "\n",
    "# # Compute the similarity between products using cosine_similarity\n",
    "# products_similarities = cosine_similarity(svd_matrix)\n",
    "\n",
    "# # # Compute the similarity between products using euclidean_distances\n",
    "# # from sklearn.metrics.pairwise import euclidean_distances\n",
    "# # products_similarities = euclidean_distances(svd_matrix)\n",
    "\n",
    "\n",
    "# # Clustering\n",
    "# from sklearn.cluster import AgglomerativeClustering\n",
    "# n_clusters=7\n",
    "# agg_clustering = AgglomerativeClustering(n_clusters=n_clusters)\n",
    "# agg_clustering.fit(products_similarities)\n",
    "\n",
    "# # Print the products in each cluster\n",
    "# for i in np.unique(agg_clustering.labels_):\n",
    "#     indices = np.where(agg_clustering.labels_ == i)[0]\n",
    "#     print(\"Cluster {}: {}\".format(i+1, ', '.join(np.array(tfidf.get_feature_names_out())[indices].tolist())))\n",
    "#     print(\"\\n\\n\\n\")"
   ]
  }
 ],
 "metadata": {
  "kernelspec": {
   "display_name": "Python 3",
   "language": "python",
   "name": "python3"
  },
  "language_info": {
   "codemirror_mode": {
    "name": "ipython",
    "version": 3
   },
   "file_extension": ".py",
   "mimetype": "text/x-python",
   "name": "python",
   "nbconvert_exporter": "python",
   "pygments_lexer": "ipython3",
   "version": "3.7.12"
  },
  "papermill": {
   "default_parameters": {},
   "duration": 17.522229,
   "end_time": "2023-01-22T22:43:03.507150",
   "environment_variables": {},
   "exception": null,
   "input_path": "__notebook__.ipynb",
   "output_path": "__notebook__.ipynb",
   "parameters": {},
   "start_time": "2023-01-22T22:42:45.984921",
   "version": "2.3.4"
  }
 },
 "nbformat": 4,
 "nbformat_minor": 5
}
