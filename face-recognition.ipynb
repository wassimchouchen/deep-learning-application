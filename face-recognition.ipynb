{
 "cells": [
  {
   "cell_type": "code",
   "execution_count": 1,
   "id": "a0f3fa7f",
   "metadata": {
    "_cell_guid": "b1076dfc-b9ad-4769-8c92-a6c4dae69d19",
    "_uuid": "8f2839f25d086af736a60e9eeb907d3b93b6e0e5",
    "execution": {
     "iopub.execute_input": "2022-04-30T10:30:19.849408Z",
     "iopub.status.busy": "2022-04-30T10:30:19.848942Z",
     "iopub.status.idle": "2022-04-30T10:30:27.672794Z",
     "shell.execute_reply": "2022-04-30T10:30:27.671780Z"
    },
    "papermill": {
     "duration": 7.835791,
     "end_time": "2022-04-30T10:30:27.675619",
     "exception": false,
     "start_time": "2022-04-30T10:30:19.839828",
     "status": "completed"
    },
    "tags": []
   },
   "outputs": [],
   "source": [
    "import tensorflow as tf\n",
    "from tensorflow import keras as ks\n",
    "import pandas as pd\n",
    "import numpy as np\n",
    "import matplotlib.pyplot as plt\n",
    "import matplotlib.style as stl\n",
    "stl.use(\"ggplot\")\n",
    "import seaborn as sns\n",
    "import os\n",
    "from tqdm import tqdm\n",
    "import cv2\n",
    "from os import listdir\n",
    "from sklearn.model_selection import train_test_split\n",
    "import warnings\n",
    "warnings.filterwarnings('ignore')\n",
    "from tensorflow.keras.utils import to_categorical\n",
    "from keras.preprocessing.image import ImageDataGenerator"
   ]
  },
  {
   "cell_type": "code",
   "execution_count": 2,
   "id": "1e0d1ddd",
   "metadata": {
    "execution": {
     "iopub.execute_input": "2022-04-30T10:30:27.688899Z",
     "iopub.status.busy": "2022-04-30T10:30:27.688617Z",
     "iopub.status.idle": "2022-04-30T10:30:27.692990Z",
     "shell.execute_reply": "2022-04-30T10:30:27.692133Z"
    },
    "papermill": {
     "duration": 0.013569,
     "end_time": "2022-04-30T10:30:27.695225",
     "exception": false,
     "start_time": "2022-04-30T10:30:27.681656",
     "status": "completed"
    },
    "tags": []
   },
   "outputs": [],
   "source": [
    "def list_files(directory, contains):\n",
    "    return list(f for f in listdir(directory) if contains in f)"
   ]
  },
  {
   "cell_type": "code",
   "execution_count": 3,
   "id": "6ed8e423",
   "metadata": {
    "execution": {
     "iopub.execute_input": "2022-04-30T10:30:27.709089Z",
     "iopub.status.busy": "2022-04-30T10:30:27.708514Z",
     "iopub.status.idle": "2022-04-30T10:30:27.712652Z",
     "shell.execute_reply": "2022-04-30T10:30:27.711768Z"
    },
    "papermill": {
     "duration": 0.013322,
     "end_time": "2022-04-30T10:30:27.714656",
     "exception": false,
     "start_time": "2022-04-30T10:30:27.701334",
     "status": "completed"
    },
    "tags": []
   },
   "outputs": [],
   "source": [
    "directory = \"../input/opencv-facial-recognition-lbph/yalefaces/\"\n",
    "directory_train='../input/opencv-facial-recognition-lbph/yalefaces/train/'\n",
    "directory_test='../input/opencv-facial-recognition-lbph/yalefaces/test/'"
   ]
  },
  {
   "cell_type": "code",
   "execution_count": 4,
   "id": "3adcdb00",
   "metadata": {
    "execution": {
     "iopub.execute_input": "2022-04-30T10:30:27.728165Z",
     "iopub.status.busy": "2022-04-30T10:30:27.727607Z",
     "iopub.status.idle": "2022-04-30T10:30:27.798037Z",
     "shell.execute_reply": "2022-04-30T10:30:27.797427Z"
    },
    "papermill": {
     "duration": 0.079823,
     "end_time": "2022-04-30T10:30:27.800187",
     "exception": false,
     "start_time": "2022-04-30T10:30:27.720364",
     "status": "completed"
    },
    "tags": []
   },
   "outputs": [
    {
     "data": {
      "text/html": [
       "<div>\n",
       "<style scoped>\n",
       "    .dataframe tbody tr th:only-of-type {\n",
       "        vertical-align: middle;\n",
       "    }\n",
       "\n",
       "    .dataframe tbody tr th {\n",
       "        vertical-align: top;\n",
       "    }\n",
       "\n",
       "    .dataframe thead th {\n",
       "        text-align: right;\n",
       "    }\n",
       "</style>\n",
       "<table border=\"1\" class=\"dataframe\">\n",
       "  <thead>\n",
       "    <tr style=\"text-align: right;\">\n",
       "      <th></th>\n",
       "      <th>subject</th>\n",
       "      <th>category</th>\n",
       "      <th>2</th>\n",
       "      <th>filename</th>\n",
       "    </tr>\n",
       "  </thead>\n",
       "  <tbody>\n",
       "    <tr>\n",
       "      <th>0</th>\n",
       "      <td>15</td>\n",
       "      <td>happy</td>\n",
       "      <td>gif</td>\n",
       "      <td>subject15.happy.gif</td>\n",
       "    </tr>\n",
       "    <tr>\n",
       "      <th>1</th>\n",
       "      <td>13</td>\n",
       "      <td>noglasses</td>\n",
       "      <td>gif</td>\n",
       "      <td>subject13.noglasses.gif</td>\n",
       "    </tr>\n",
       "    <tr>\n",
       "      <th>2</th>\n",
       "      <td>1</td>\n",
       "      <td>normal</td>\n",
       "      <td>gif</td>\n",
       "      <td>subject01.normal.gif</td>\n",
       "    </tr>\n",
       "    <tr>\n",
       "      <th>3</th>\n",
       "      <td>15</td>\n",
       "      <td>surprised</td>\n",
       "      <td>gif</td>\n",
       "      <td>subject15.surprised.gif</td>\n",
       "    </tr>\n",
       "    <tr>\n",
       "      <th>4</th>\n",
       "      <td>14</td>\n",
       "      <td>wink</td>\n",
       "      <td>gif</td>\n",
       "      <td>subject14.wink.gif</td>\n",
       "    </tr>\n",
       "    <tr>\n",
       "      <th>...</th>\n",
       "      <td>...</td>\n",
       "      <td>...</td>\n",
       "      <td>...</td>\n",
       "      <td>...</td>\n",
       "    </tr>\n",
       "    <tr>\n",
       "      <th>130</th>\n",
       "      <td>5</td>\n",
       "      <td>sad</td>\n",
       "      <td>gif</td>\n",
       "      <td>subject05.sad.gif</td>\n",
       "    </tr>\n",
       "    <tr>\n",
       "      <th>131</th>\n",
       "      <td>3</td>\n",
       "      <td>surprised</td>\n",
       "      <td>gif</td>\n",
       "      <td>subject03.surprised.gif</td>\n",
       "    </tr>\n",
       "    <tr>\n",
       "      <th>132</th>\n",
       "      <td>4</td>\n",
       "      <td>sad</td>\n",
       "      <td>gif</td>\n",
       "      <td>subject04.sad.gif</td>\n",
       "    </tr>\n",
       "    <tr>\n",
       "      <th>133</th>\n",
       "      <td>7</td>\n",
       "      <td>normal</td>\n",
       "      <td>gif</td>\n",
       "      <td>subject07.normal.gif</td>\n",
       "    </tr>\n",
       "    <tr>\n",
       "      <th>134</th>\n",
       "      <td>2</td>\n",
       "      <td>surprised</td>\n",
       "      <td>gif</td>\n",
       "      <td>subject02.surprised.gif</td>\n",
       "    </tr>\n",
       "  </tbody>\n",
       "</table>\n",
       "<p>135 rows × 4 columns</p>\n",
       "</div>"
      ],
      "text/plain": [
       "     subject   category    2                 filename\n",
       "0         15      happy  gif      subject15.happy.gif\n",
       "1         13  noglasses  gif  subject13.noglasses.gif\n",
       "2          1     normal  gif     subject01.normal.gif\n",
       "3         15  surprised  gif  subject15.surprised.gif\n",
       "4         14       wink  gif       subject14.wink.gif\n",
       "..       ...        ...  ...                      ...\n",
       "130        5        sad  gif        subject05.sad.gif\n",
       "131        3  surprised  gif  subject03.surprised.gif\n",
       "132        4        sad  gif        subject04.sad.gif\n",
       "133        7     normal  gif     subject07.normal.gif\n",
       "134        2  surprised  gif  subject02.surprised.gif\n",
       "\n",
       "[135 rows x 4 columns]"
      ]
     },
     "execution_count": 4,
     "metadata": {},
     "output_type": "execute_result"
    }
   ],
   "source": [
    "filenames = pd.DataFrame(list_files(directory_train, \"subject\"))\n",
    "\n",
    "data_train = filenames[0].str.split(\".\", expand=True)\n",
    "data_train[\"filename\"] = filenames\n",
    "\n",
    "data_train = data_train.rename(columns = {0:\"subject\", 1:\"category\"})\n",
    "data_train['subject'] = data_train.subject.str.replace('subject' , '')\n",
    "data_train.apply(pd.to_numeric, errors='coerce').dropna()\n",
    "data_train['subject'] = pd.to_numeric(data_train[\"subject\"])\n",
    "data_train"
   ]
  },
  {
   "cell_type": "code",
   "execution_count": null,
   "id": "9c53e358",
   "metadata": {
    "papermill": {
     "duration": 0.006084,
     "end_time": "2022-04-30T10:30:27.812767",
     "exception": false,
     "start_time": "2022-04-30T10:30:27.806683",
     "status": "completed"
    },
    "tags": []
   },
   "outputs": [],
   "source": []
  },
  {
   "cell_type": "code",
   "execution_count": null,
   "id": "3402bc66",
   "metadata": {
    "papermill": {
     "duration": 0.006156,
     "end_time": "2022-04-30T10:30:27.825328",
     "exception": false,
     "start_time": "2022-04-30T10:30:27.819172",
     "status": "completed"
    },
    "tags": []
   },
   "outputs": [],
   "source": []
  }
 ],
 "metadata": {
  "kernelspec": {
   "display_name": "Python 3",
   "language": "python",
   "name": "python3"
  },
  "language_info": {
   "codemirror_mode": {
    "name": "ipython",
    "version": 3
   },
   "file_extension": ".py",
   "mimetype": "text/x-python",
   "name": "python",
   "nbconvert_exporter": "python",
   "pygments_lexer": "ipython3",
   "version": "3.7.12"
  },
  "papermill": {
   "default_parameters": {},
   "duration": 20.664827,
   "end_time": "2022-04-30T10:30:31.259857",
   "environment_variables": {},
   "exception": null,
   "input_path": "__notebook__.ipynb",
   "output_path": "__notebook__.ipynb",
   "parameters": {},
   "start_time": "2022-04-30T10:30:10.595030",
   "version": "2.3.4"
  }
 },
 "nbformat": 4,
 "nbformat_minor": 5
}
