{
 "cells": [
  {
   "cell_type": "code",
   "execution_count": 1,
   "id": "39e30101",
   "metadata": {
    "_cell_guid": "b1076dfc-b9ad-4769-8c92-a6c4dae69d19",
    "_uuid": "8f2839f25d086af736a60e9eeb907d3b93b6e0e5",
    "execution": {
     "iopub.execute_input": "2022-04-30T21:24:10.875684Z",
     "iopub.status.busy": "2022-04-30T21:24:10.875200Z",
     "iopub.status.idle": "2022-04-30T21:24:17.901780Z",
     "shell.execute_reply": "2022-04-30T21:24:17.900899Z"
    },
    "papermill": {
     "duration": 7.045414,
     "end_time": "2022-04-30T21:24:17.904418",
     "exception": false,
     "start_time": "2022-04-30T21:24:10.859004",
     "status": "completed"
    },
    "tags": []
   },
   "outputs": [],
   "source": [
    "import tensorflow as tf\n",
    "from tensorflow import keras as ks\n",
    "import pandas as pd\n",
    "import numpy as np\n",
    "import matplotlib.pyplot as plt\n",
    "import matplotlib.style as stl\n",
    "stl.use(\"ggplot\")\n",
    "import seaborn as sns\n",
    "import os\n",
    "from tqdm import tqdm\n",
    "import cv2\n",
    "from os import listdir\n",
    "from sklearn.model_selection import train_test_split\n",
    "import warnings\n",
    "warnings.filterwarnings('ignore')\n",
    "from tensorflow.keras.utils import to_categorical\n",
    "from keras.preprocessing.image import ImageDataGenerator\n"
   ]
  },
  {
   "cell_type": "code",
   "execution_count": 2,
   "id": "4d88c266",
   "metadata": {
    "execution": {
     "iopub.execute_input": "2022-04-30T21:24:17.931274Z",
     "iopub.status.busy": "2022-04-30T21:24:17.930976Z",
     "iopub.status.idle": "2022-04-30T21:24:17.935554Z",
     "shell.execute_reply": "2022-04-30T21:24:17.934992Z"
    },
    "papermill": {
     "duration": 0.019703,
     "end_time": "2022-04-30T21:24:17.937232",
     "exception": false,
     "start_time": "2022-04-30T21:24:17.917529",
     "status": "completed"
    },
    "tags": []
   },
   "outputs": [],
   "source": [
    "def list_files(directory, contains):\n",
    "    return list(f for f in listdir(directory) if contains in f)"
   ]
  },
  {
   "cell_type": "code",
   "execution_count": 3,
   "id": "e6487913",
   "metadata": {
    "execution": {
     "iopub.execute_input": "2022-04-30T21:24:17.963549Z",
     "iopub.status.busy": "2022-04-30T21:24:17.962819Z",
     "iopub.status.idle": "2022-04-30T21:24:17.966386Z",
     "shell.execute_reply": "2022-04-30T21:24:17.965827Z"
    },
    "papermill": {
     "duration": 0.01872,
     "end_time": "2022-04-30T21:24:17.968156",
     "exception": false,
     "start_time": "2022-04-30T21:24:17.949436",
     "status": "completed"
    },
    "tags": []
   },
   "outputs": [],
   "source": [
    "directory = \"../input/opencv-facial-recognition-lbph/yalefaces/\""
   ]
  },
  {
   "cell_type": "code",
   "execution_count": 4,
   "id": "05695596",
   "metadata": {
    "execution": {
     "iopub.execute_input": "2022-04-30T21:24:17.994747Z",
     "iopub.status.busy": "2022-04-30T21:24:17.994292Z",
     "iopub.status.idle": "2022-04-30T21:24:18.068883Z",
     "shell.execute_reply": "2022-04-30T21:24:18.068279Z"
    },
    "papermill": {
     "duration": 0.090799,
     "end_time": "2022-04-30T21:24:18.071143",
     "exception": false,
     "start_time": "2022-04-30T21:24:17.980344",
     "status": "completed"
    },
    "tags": []
   },
   "outputs": [],
   "source": [
    "directory_train='../input/opencv-facial-recognition-lbph/yalefaces/train/'\n",
    "\n",
    "filenames = pd.DataFrame(list_files(directory_train, \"subject\"))\n",
    "\n",
    "data = filenames[0].str.split(\".\", expand=True)\n",
    "data[\"filename\"] = filenames\n",
    "\n",
    "data = data.rename(columns = {0:\"subject\", 1:\"category\"})\n",
    "data['subject'] = data.subject.str.replace('subject' , '')\n",
    "data.apply(pd.to_numeric, errors='coerce').dropna()\n",
    "data['subject'] = pd.to_numeric(data[\"subject\"])\n"
   ]
  },
  {
   "cell_type": "code",
   "execution_count": 5,
   "id": "cf92cf74",
   "metadata": {
    "execution": {
     "iopub.execute_input": "2022-04-30T21:24:18.097429Z",
     "iopub.status.busy": "2022-04-30T21:24:18.096959Z",
     "iopub.status.idle": "2022-04-30T21:24:18.121800Z",
     "shell.execute_reply": "2022-04-30T21:24:18.121203Z"
    },
    "papermill": {
     "duration": 0.040714,
     "end_time": "2022-04-30T21:24:18.124118",
     "exception": false,
     "start_time": "2022-04-30T21:24:18.083404",
     "status": "completed"
    },
    "tags": []
   },
   "outputs": [],
   "source": [
    "directory_test='../input/opencv-facial-recognition-lbph/yalefaces/test/'\n",
    "filenames = pd.DataFrame(list_files(directory_test, \"subject\"))\n",
    "\n",
    "datatest = filenames[0].str.split(\".\", expand=True)\n",
    "datatest[\"filename\"] = filenames\n",
    "\n",
    "datatest = datatest.rename(columns = {0:\"subject\", 1:\"category\"})\n",
    "datatest['subject'] = datatest.subject.str.replace('subject' , '')\n",
    "datatest.apply(pd.to_numeric, errors='coerce').dropna()\n",
    "datatest['subject'] = pd.to_numeric(datatest[\"subject\"])"
   ]
  },
  {
   "cell_type": "code",
   "execution_count": 6,
   "id": "d24070cb",
   "metadata": {
    "execution": {
     "iopub.execute_input": "2022-04-30T21:24:18.150691Z",
     "iopub.status.busy": "2022-04-30T21:24:18.150220Z",
     "iopub.status.idle": "2022-04-30T21:24:18.166343Z",
     "shell.execute_reply": "2022-04-30T21:24:18.165785Z"
    },
    "papermill": {
     "duration": 0.032286,
     "end_time": "2022-04-30T21:24:18.168730",
     "exception": false,
     "start_time": "2022-04-30T21:24:18.136444",
     "status": "completed"
    },
    "tags": []
   },
   "outputs": [
    {
     "data": {
      "text/html": [
       "<div>\n",
       "<style scoped>\n",
       "    .dataframe tbody tr th:only-of-type {\n",
       "        vertical-align: middle;\n",
       "    }\n",
       "\n",
       "    .dataframe tbody tr th {\n",
       "        vertical-align: top;\n",
       "    }\n",
       "\n",
       "    .dataframe thead th {\n",
       "        text-align: right;\n",
       "    }\n",
       "</style>\n",
       "<table border=\"1\" class=\"dataframe\">\n",
       "  <thead>\n",
       "    <tr style=\"text-align: right;\">\n",
       "      <th></th>\n",
       "      <th>subject</th>\n",
       "      <th>category</th>\n",
       "      <th>2</th>\n",
       "      <th>filename</th>\n",
       "    </tr>\n",
       "  </thead>\n",
       "  <tbody>\n",
       "    <tr>\n",
       "      <th>0</th>\n",
       "      <td>15</td>\n",
       "      <td>happy</td>\n",
       "      <td>gif</td>\n",
       "      <td>subject15.happy.gif</td>\n",
       "    </tr>\n",
       "    <tr>\n",
       "      <th>1</th>\n",
       "      <td>13</td>\n",
       "      <td>noglasses</td>\n",
       "      <td>gif</td>\n",
       "      <td>subject13.noglasses.gif</td>\n",
       "    </tr>\n",
       "    <tr>\n",
       "      <th>2</th>\n",
       "      <td>1</td>\n",
       "      <td>normal</td>\n",
       "      <td>gif</td>\n",
       "      <td>subject01.normal.gif</td>\n",
       "    </tr>\n",
       "    <tr>\n",
       "      <th>3</th>\n",
       "      <td>15</td>\n",
       "      <td>surprised</td>\n",
       "      <td>gif</td>\n",
       "      <td>subject15.surprised.gif</td>\n",
       "    </tr>\n",
       "    <tr>\n",
       "      <th>4</th>\n",
       "      <td>14</td>\n",
       "      <td>wink</td>\n",
       "      <td>gif</td>\n",
       "      <td>subject14.wink.gif</td>\n",
       "    </tr>\n",
       "  </tbody>\n",
       "</table>\n",
       "</div>"
      ],
      "text/plain": [
       "   subject   category    2                 filename\n",
       "0       15      happy  gif      subject15.happy.gif\n",
       "1       13  noglasses  gif  subject13.noglasses.gif\n",
       "2        1     normal  gif     subject01.normal.gif\n",
       "3       15  surprised  gif  subject15.surprised.gif\n",
       "4       14       wink  gif       subject14.wink.gif"
      ]
     },
     "execution_count": 6,
     "metadata": {},
     "output_type": "execute_result"
    }
   ],
   "source": [
    "data.head()"
   ]
  },
  {
   "cell_type": "code",
   "execution_count": 7,
   "id": "1b5b5bc9",
   "metadata": {
    "execution": {
     "iopub.execute_input": "2022-04-30T21:24:18.196838Z",
     "iopub.status.busy": "2022-04-30T21:24:18.196139Z",
     "iopub.status.idle": "2022-04-30T21:24:18.209968Z",
     "shell.execute_reply": "2022-04-30T21:24:18.209139Z"
    },
    "papermill": {
     "duration": 0.030138,
     "end_time": "2022-04-30T21:24:18.212085",
     "exception": false,
     "start_time": "2022-04-30T21:24:18.181947",
     "status": "completed"
    },
    "tags": []
   },
   "outputs": [
    {
     "data": {
      "text/html": [
       "<div>\n",
       "<style scoped>\n",
       "    .dataframe tbody tr th:only-of-type {\n",
       "        vertical-align: middle;\n",
       "    }\n",
       "\n",
       "    .dataframe tbody tr th {\n",
       "        vertical-align: top;\n",
       "    }\n",
       "\n",
       "    .dataframe thead th {\n",
       "        text-align: right;\n",
       "    }\n",
       "</style>\n",
       "<table border=\"1\" class=\"dataframe\">\n",
       "  <thead>\n",
       "    <tr style=\"text-align: right;\">\n",
       "      <th></th>\n",
       "      <th>subject</th>\n",
       "      <th>category</th>\n",
       "      <th>2</th>\n",
       "      <th>filename</th>\n",
       "    </tr>\n",
       "  </thead>\n",
       "  <tbody>\n",
       "    <tr>\n",
       "      <th>0</th>\n",
       "      <td>15</td>\n",
       "      <td>happy</td>\n",
       "      <td>gif</td>\n",
       "      <td>subject15.happy.gif</td>\n",
       "    </tr>\n",
       "    <tr>\n",
       "      <th>1</th>\n",
       "      <td>13</td>\n",
       "      <td>noglasses</td>\n",
       "      <td>gif</td>\n",
       "      <td>subject13.noglasses.gif</td>\n",
       "    </tr>\n",
       "    <tr>\n",
       "      <th>2</th>\n",
       "      <td>1</td>\n",
       "      <td>normal</td>\n",
       "      <td>gif</td>\n",
       "      <td>subject01.normal.gif</td>\n",
       "    </tr>\n",
       "    <tr>\n",
       "      <th>3</th>\n",
       "      <td>15</td>\n",
       "      <td>surprised</td>\n",
       "      <td>gif</td>\n",
       "      <td>subject15.surprised.gif</td>\n",
       "    </tr>\n",
       "    <tr>\n",
       "      <th>4</th>\n",
       "      <td>14</td>\n",
       "      <td>wink</td>\n",
       "      <td>gif</td>\n",
       "      <td>subject14.wink.gif</td>\n",
       "    </tr>\n",
       "  </tbody>\n",
       "</table>\n",
       "</div>"
      ],
      "text/plain": [
       "   subject   category    2                 filename\n",
       "0       15      happy  gif      subject15.happy.gif\n",
       "1       13  noglasses  gif  subject13.noglasses.gif\n",
       "2        1     normal  gif     subject01.normal.gif\n",
       "3       15  surprised  gif  subject15.surprised.gif\n",
       "4       14       wink  gif       subject14.wink.gif"
      ]
     },
     "execution_count": 7,
     "metadata": {},
     "output_type": "execute_result"
    }
   ],
   "source": [
    "data.head()"
   ]
  },
  {
   "cell_type": "code",
   "execution_count": 8,
   "id": "73b44250",
   "metadata": {
    "execution": {
     "iopub.execute_input": "2022-04-30T21:24:18.240738Z",
     "iopub.status.busy": "2022-04-30T21:24:18.240204Z",
     "iopub.status.idle": "2022-04-30T21:24:18.245540Z",
     "shell.execute_reply": "2022-04-30T21:24:18.244982Z"
    },
    "papermill": {
     "duration": 0.022373,
     "end_time": "2022-04-30T21:24:18.247864",
     "exception": false,
     "start_time": "2022-04-30T21:24:18.225491",
     "status": "completed"
    },
    "tags": []
   },
   "outputs": [],
   "source": [
    "data=data.drop(2, axis=1)"
   ]
  },
  {
   "cell_type": "code",
   "execution_count": 9,
   "id": "abfbe92f",
   "metadata": {
    "execution": {
     "iopub.execute_input": "2022-04-30T21:24:18.277017Z",
     "iopub.status.busy": "2022-04-30T21:24:18.276393Z",
     "iopub.status.idle": "2022-04-30T21:24:18.283305Z",
     "shell.execute_reply": "2022-04-30T21:24:18.282445Z"
    },
    "papermill": {
     "duration": 0.023726,
     "end_time": "2022-04-30T21:24:18.285293",
     "exception": false,
     "start_time": "2022-04-30T21:24:18.261567",
     "status": "completed"
    },
    "tags": []
   },
   "outputs": [
    {
     "data": {
      "text/plain": [
       "array(['happy', 'noglasses', 'normal', 'surprised', 'wink', 'sleepy',\n",
       "       'glasses', 'sad', 'rightlight', 'leftlight', 'centerlight'],\n",
       "      dtype=object)"
      ]
     },
     "execution_count": 9,
     "metadata": {},
     "output_type": "execute_result"
    }
   ],
   "source": [
    "data[\"category\"].unique()"
   ]
  },
  {
   "cell_type": "code",
   "execution_count": 10,
   "id": "55ee3c90",
   "metadata": {
    "execution": {
     "iopub.execute_input": "2022-04-30T21:24:18.314645Z",
     "iopub.status.busy": "2022-04-30T21:24:18.314086Z",
     "iopub.status.idle": "2022-04-30T21:24:18.320550Z",
     "shell.execute_reply": "2022-04-30T21:24:18.319888Z"
    },
    "papermill": {
     "duration": 0.023453,
     "end_time": "2022-04-30T21:24:18.322402",
     "exception": false,
     "start_time": "2022-04-30T21:24:18.298949",
     "status": "completed"
    },
    "tags": []
   },
   "outputs": [
    {
     "data": {
      "text/plain": [
       "array([15, 13,  1, 14, 11,  6, 12,  2,  3, 10,  8,  7,  5,  9,  4])"
      ]
     },
     "execution_count": 10,
     "metadata": {},
     "output_type": "execute_result"
    }
   ],
   "source": [
    "data[\"subject\"].unique()"
   ]
  },
  {
   "cell_type": "code",
   "execution_count": null,
   "id": "aeface42",
   "metadata": {
    "papermill": {
     "duration": 0.013677,
     "end_time": "2022-04-30T21:24:18.350008",
     "exception": false,
     "start_time": "2022-04-30T21:24:18.336331",
     "status": "completed"
    },
    "tags": []
   },
   "outputs": [],
   "source": []
  }
 ],
 "metadata": {
  "kernelspec": {
   "display_name": "Python 3",
   "language": "python",
   "name": "python3"
  },
  "language_info": {
   "codemirror_mode": {
    "name": "ipython",
    "version": 3
   },
   "file_extension": ".py",
   "mimetype": "text/x-python",
   "name": "python",
   "nbconvert_exporter": "python",
   "pygments_lexer": "ipython3",
   "version": "3.7.12"
  },
  "papermill": {
   "default_parameters": {},
   "duration": 20.548339,
   "end_time": "2022-04-30T21:24:21.781586",
   "environment_variables": {},
   "exception": null,
   "input_path": "__notebook__.ipynb",
   "output_path": "__notebook__.ipynb",
   "parameters": {},
   "start_time": "2022-04-30T21:24:01.233247",
   "version": "2.3.4"
  }
 },
 "nbformat": 4,
 "nbformat_minor": 5
}
