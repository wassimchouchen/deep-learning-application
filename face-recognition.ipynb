{
 "cells": [
  {
   "cell_type": "code",
   "execution_count": 1,
   "id": "5dcb1e8b",
   "metadata": {
    "_cell_guid": "b1076dfc-b9ad-4769-8c92-a6c4dae69d19",
    "_uuid": "8f2839f25d086af736a60e9eeb907d3b93b6e0e5",
    "execution": {
     "iopub.execute_input": "2022-04-30T21:30:28.325348Z",
     "iopub.status.busy": "2022-04-30T21:30:28.324827Z",
     "iopub.status.idle": "2022-04-30T21:30:36.004172Z",
     "shell.execute_reply": "2022-04-30T21:30:36.003145Z"
    },
    "papermill": {
     "duration": 7.699156,
     "end_time": "2022-04-30T21:30:36.007113",
     "exception": false,
     "start_time": "2022-04-30T21:30:28.307957",
     "status": "completed"
    },
    "tags": []
   },
   "outputs": [],
   "source": [
    "import tensorflow as tf\n",
    "from tensorflow import keras as ks\n",
    "import pandas as pd\n",
    "import numpy as np\n",
    "import matplotlib.pyplot as plt\n",
    "import matplotlib.style as stl\n",
    "stl.use(\"ggplot\")\n",
    "import seaborn as sns\n",
    "import os\n",
    "from tqdm import tqdm\n",
    "import cv2\n",
    "from os import listdir\n",
    "from sklearn.model_selection import train_test_split\n",
    "import warnings\n",
    "warnings.filterwarnings('ignore')\n",
    "from tensorflow.keras.utils import to_categorical\n",
    "from keras.preprocessing.image import ImageDataGenerator\n"
   ]
  },
  {
   "cell_type": "code",
   "execution_count": 2,
   "id": "3f9684a1",
   "metadata": {
    "execution": {
     "iopub.execute_input": "2022-04-30T21:30:36.038422Z",
     "iopub.status.busy": "2022-04-30T21:30:36.037946Z",
     "iopub.status.idle": "2022-04-30T21:30:36.041960Z",
     "shell.execute_reply": "2022-04-30T21:30:36.041287Z"
    },
    "papermill": {
     "duration": 0.022256,
     "end_time": "2022-04-30T21:30:36.043983",
     "exception": false,
     "start_time": "2022-04-30T21:30:36.021727",
     "status": "completed"
    },
    "tags": []
   },
   "outputs": [],
   "source": [
    "def list_files(directory, contains):\n",
    "    return list(f for f in listdir(directory) if contains in f)"
   ]
  },
  {
   "cell_type": "code",
   "execution_count": 3,
   "id": "3aaa4dec",
   "metadata": {
    "execution": {
     "iopub.execute_input": "2022-04-30T21:30:36.074513Z",
     "iopub.status.busy": "2022-04-30T21:30:36.074179Z",
     "iopub.status.idle": "2022-04-30T21:30:36.078225Z",
     "shell.execute_reply": "2022-04-30T21:30:36.077194Z"
    },
    "papermill": {
     "duration": 0.021433,
     "end_time": "2022-04-30T21:30:36.080262",
     "exception": false,
     "start_time": "2022-04-30T21:30:36.058829",
     "status": "completed"
    },
    "tags": []
   },
   "outputs": [],
   "source": [
    "directory = \"../input/opencv-facial-recognition-lbph/yalefaces/\""
   ]
  },
  {
   "cell_type": "code",
   "execution_count": 4,
   "id": "08370fea",
   "metadata": {
    "execution": {
     "iopub.execute_input": "2022-04-30T21:30:36.110091Z",
     "iopub.status.busy": "2022-04-30T21:30:36.109820Z",
     "iopub.status.idle": "2022-04-30T21:30:36.172841Z",
     "shell.execute_reply": "2022-04-30T21:30:36.172117Z"
    },
    "papermill": {
     "duration": 0.080695,
     "end_time": "2022-04-30T21:30:36.175145",
     "exception": false,
     "start_time": "2022-04-30T21:30:36.094450",
     "status": "completed"
    },
    "tags": []
   },
   "outputs": [],
   "source": [
    "directory_train='../input/opencv-facial-recognition-lbph/yalefaces/train/'\n",
    "\n",
    "filenames = pd.DataFrame(list_files(directory_train, \"subject\"))\n",
    "\n",
    "data = filenames[0].str.split(\".\", expand=True)\n",
    "data[\"filename\"] = filenames\n",
    "\n",
    "data = data.rename(columns = {0:\"subject\", 1:\"category\"})\n",
    "data['subject'] = data.subject.str.replace('subject' , '')\n",
    "data.apply(pd.to_numeric, errors='coerce').dropna()\n",
    "data['subject'] = pd.to_numeric(data[\"subject\"])\n"
   ]
  },
  {
   "cell_type": "code",
   "execution_count": 5,
   "id": "e6c626b3",
   "metadata": {
    "execution": {
     "iopub.execute_input": "2022-04-30T21:30:36.204655Z",
     "iopub.status.busy": "2022-04-30T21:30:36.204117Z",
     "iopub.status.idle": "2022-04-30T21:30:36.226295Z",
     "shell.execute_reply": "2022-04-30T21:30:36.225648Z"
    },
    "papermill": {
     "duration": 0.0393,
     "end_time": "2022-04-30T21:30:36.228441",
     "exception": false,
     "start_time": "2022-04-30T21:30:36.189141",
     "status": "completed"
    },
    "tags": []
   },
   "outputs": [],
   "source": [
    "directory_test='../input/opencv-facial-recognition-lbph/yalefaces/test/'\n",
    "filenames = pd.DataFrame(list_files(directory_test, \"subject\"))\n",
    "\n",
    "datatest = filenames[0].str.split(\".\", expand=True)\n",
    "datatest[\"filename\"] = filenames\n",
    "\n",
    "datatest = datatest.rename(columns = {0:\"subject\", 1:\"category\"})\n",
    "datatest['subject'] = datatest.subject.str.replace('subject' , '')\n",
    "datatest.apply(pd.to_numeric, errors='coerce').dropna()\n",
    "datatest['subject'] = pd.to_numeric(datatest[\"subject\"])"
   ]
  },
  {
   "cell_type": "code",
   "execution_count": 6,
   "id": "93708577",
   "metadata": {
    "execution": {
     "iopub.execute_input": "2022-04-30T21:30:36.258205Z",
     "iopub.status.busy": "2022-04-30T21:30:36.257802Z",
     "iopub.status.idle": "2022-04-30T21:30:36.275742Z",
     "shell.execute_reply": "2022-04-30T21:30:36.274793Z"
    },
    "papermill": {
     "duration": 0.036074,
     "end_time": "2022-04-30T21:30:36.278487",
     "exception": false,
     "start_time": "2022-04-30T21:30:36.242413",
     "status": "completed"
    },
    "tags": []
   },
   "outputs": [
    {
     "data": {
      "text/html": [
       "<div>\n",
       "<style scoped>\n",
       "    .dataframe tbody tr th:only-of-type {\n",
       "        vertical-align: middle;\n",
       "    }\n",
       "\n",
       "    .dataframe tbody tr th {\n",
       "        vertical-align: top;\n",
       "    }\n",
       "\n",
       "    .dataframe thead th {\n",
       "        text-align: right;\n",
       "    }\n",
       "</style>\n",
       "<table border=\"1\" class=\"dataframe\">\n",
       "  <thead>\n",
       "    <tr style=\"text-align: right;\">\n",
       "      <th></th>\n",
       "      <th>subject</th>\n",
       "      <th>category</th>\n",
       "      <th>2</th>\n",
       "      <th>filename</th>\n",
       "    </tr>\n",
       "  </thead>\n",
       "  <tbody>\n",
       "    <tr>\n",
       "      <th>0</th>\n",
       "      <td>15</td>\n",
       "      <td>happy</td>\n",
       "      <td>gif</td>\n",
       "      <td>subject15.happy.gif</td>\n",
       "    </tr>\n",
       "    <tr>\n",
       "      <th>1</th>\n",
       "      <td>13</td>\n",
       "      <td>noglasses</td>\n",
       "      <td>gif</td>\n",
       "      <td>subject13.noglasses.gif</td>\n",
       "    </tr>\n",
       "    <tr>\n",
       "      <th>2</th>\n",
       "      <td>1</td>\n",
       "      <td>normal</td>\n",
       "      <td>gif</td>\n",
       "      <td>subject01.normal.gif</td>\n",
       "    </tr>\n",
       "    <tr>\n",
       "      <th>3</th>\n",
       "      <td>15</td>\n",
       "      <td>surprised</td>\n",
       "      <td>gif</td>\n",
       "      <td>subject15.surprised.gif</td>\n",
       "    </tr>\n",
       "    <tr>\n",
       "      <th>4</th>\n",
       "      <td>14</td>\n",
       "      <td>wink</td>\n",
       "      <td>gif</td>\n",
       "      <td>subject14.wink.gif</td>\n",
       "    </tr>\n",
       "  </tbody>\n",
       "</table>\n",
       "</div>"
      ],
      "text/plain": [
       "   subject   category    2                 filename\n",
       "0       15      happy  gif      subject15.happy.gif\n",
       "1       13  noglasses  gif  subject13.noglasses.gif\n",
       "2        1     normal  gif     subject01.normal.gif\n",
       "3       15  surprised  gif  subject15.surprised.gif\n",
       "4       14       wink  gif       subject14.wink.gif"
      ]
     },
     "execution_count": 6,
     "metadata": {},
     "output_type": "execute_result"
    }
   ],
   "source": [
    "data.head()"
   ]
  },
  {
   "cell_type": "code",
   "execution_count": 7,
   "id": "d58f2fe0",
   "metadata": {
    "execution": {
     "iopub.execute_input": "2022-04-30T21:30:36.309877Z",
     "iopub.status.busy": "2022-04-30T21:30:36.309033Z",
     "iopub.status.idle": "2022-04-30T21:30:36.320165Z",
     "shell.execute_reply": "2022-04-30T21:30:36.319257Z"
    },
    "papermill": {
     "duration": 0.028995,
     "end_time": "2022-04-30T21:30:36.322240",
     "exception": false,
     "start_time": "2022-04-30T21:30:36.293245",
     "status": "completed"
    },
    "tags": []
   },
   "outputs": [
    {
     "data": {
      "text/html": [
       "<div>\n",
       "<style scoped>\n",
       "    .dataframe tbody tr th:only-of-type {\n",
       "        vertical-align: middle;\n",
       "    }\n",
       "\n",
       "    .dataframe tbody tr th {\n",
       "        vertical-align: top;\n",
       "    }\n",
       "\n",
       "    .dataframe thead th {\n",
       "        text-align: right;\n",
       "    }\n",
       "</style>\n",
       "<table border=\"1\" class=\"dataframe\">\n",
       "  <thead>\n",
       "    <tr style=\"text-align: right;\">\n",
       "      <th></th>\n",
       "      <th>subject</th>\n",
       "      <th>category</th>\n",
       "      <th>2</th>\n",
       "      <th>filename</th>\n",
       "    </tr>\n",
       "  </thead>\n",
       "  <tbody>\n",
       "    <tr>\n",
       "      <th>0</th>\n",
       "      <td>15</td>\n",
       "      <td>happy</td>\n",
       "      <td>gif</td>\n",
       "      <td>subject15.happy.gif</td>\n",
       "    </tr>\n",
       "    <tr>\n",
       "      <th>1</th>\n",
       "      <td>13</td>\n",
       "      <td>noglasses</td>\n",
       "      <td>gif</td>\n",
       "      <td>subject13.noglasses.gif</td>\n",
       "    </tr>\n",
       "    <tr>\n",
       "      <th>2</th>\n",
       "      <td>1</td>\n",
       "      <td>normal</td>\n",
       "      <td>gif</td>\n",
       "      <td>subject01.normal.gif</td>\n",
       "    </tr>\n",
       "    <tr>\n",
       "      <th>3</th>\n",
       "      <td>15</td>\n",
       "      <td>surprised</td>\n",
       "      <td>gif</td>\n",
       "      <td>subject15.surprised.gif</td>\n",
       "    </tr>\n",
       "    <tr>\n",
       "      <th>4</th>\n",
       "      <td>14</td>\n",
       "      <td>wink</td>\n",
       "      <td>gif</td>\n",
       "      <td>subject14.wink.gif</td>\n",
       "    </tr>\n",
       "  </tbody>\n",
       "</table>\n",
       "</div>"
      ],
      "text/plain": [
       "   subject   category    2                 filename\n",
       "0       15      happy  gif      subject15.happy.gif\n",
       "1       13  noglasses  gif  subject13.noglasses.gif\n",
       "2        1     normal  gif     subject01.normal.gif\n",
       "3       15  surprised  gif  subject15.surprised.gif\n",
       "4       14       wink  gif       subject14.wink.gif"
      ]
     },
     "execution_count": 7,
     "metadata": {},
     "output_type": "execute_result"
    }
   ],
   "source": [
    "data.head()"
   ]
  },
  {
   "cell_type": "code",
   "execution_count": 8,
   "id": "0e528d17",
   "metadata": {
    "execution": {
     "iopub.execute_input": "2022-04-30T21:30:36.354475Z",
     "iopub.status.busy": "2022-04-30T21:30:36.353813Z",
     "iopub.status.idle": "2022-04-30T21:30:36.359406Z",
     "shell.execute_reply": "2022-04-30T21:30:36.358361Z"
    },
    "papermill": {
     "duration": 0.024155,
     "end_time": "2022-04-30T21:30:36.361595",
     "exception": false,
     "start_time": "2022-04-30T21:30:36.337440",
     "status": "completed"
    },
    "tags": []
   },
   "outputs": [],
   "source": [
    "data=data.drop(2, axis=1)"
   ]
  },
  {
   "cell_type": "code",
   "execution_count": 9,
   "id": "06896f07",
   "metadata": {
    "execution": {
     "iopub.execute_input": "2022-04-30T21:30:36.394987Z",
     "iopub.status.busy": "2022-04-30T21:30:36.394368Z",
     "iopub.status.idle": "2022-04-30T21:30:36.401191Z",
     "shell.execute_reply": "2022-04-30T21:30:36.400362Z"
    },
    "papermill": {
     "duration": 0.026239,
     "end_time": "2022-04-30T21:30:36.403223",
     "exception": false,
     "start_time": "2022-04-30T21:30:36.376984",
     "status": "completed"
    },
    "tags": []
   },
   "outputs": [
    {
     "data": {
      "text/plain": [
       "array(['happy', 'noglasses', 'normal', 'surprised', 'wink', 'sleepy',\n",
       "       'glasses', 'sad', 'rightlight', 'leftlight', 'centerlight'],\n",
       "      dtype=object)"
      ]
     },
     "execution_count": 9,
     "metadata": {},
     "output_type": "execute_result"
    }
   ],
   "source": [
    "data[\"category\"].unique()"
   ]
  },
  {
   "cell_type": "code",
   "execution_count": 10,
   "id": "8cbf9b67",
   "metadata": {
    "execution": {
     "iopub.execute_input": "2022-04-30T21:30:36.436973Z",
     "iopub.status.busy": "2022-04-30T21:30:36.436142Z",
     "iopub.status.idle": "2022-04-30T21:30:36.443020Z",
     "shell.execute_reply": "2022-04-30T21:30:36.442189Z"
    },
    "papermill": {
     "duration": 0.025846,
     "end_time": "2022-04-30T21:30:36.444979",
     "exception": false,
     "start_time": "2022-04-30T21:30:36.419133",
     "status": "completed"
    },
    "tags": []
   },
   "outputs": [
    {
     "data": {
      "text/plain": [
       "array([15, 13,  1, 14, 11,  6, 12,  2,  3, 10,  8,  7,  5,  9,  4])"
      ]
     },
     "execution_count": 10,
     "metadata": {},
     "output_type": "execute_result"
    }
   ],
   "source": [
    "data[\"subject\"].unique()"
   ]
  },
  {
   "cell_type": "code",
   "execution_count": 11,
   "id": "9b378ad7",
   "metadata": {
    "execution": {
     "iopub.execute_input": "2022-04-30T21:30:36.479439Z",
     "iopub.status.busy": "2022-04-30T21:30:36.479140Z",
     "iopub.status.idle": "2022-04-30T21:30:36.733098Z",
     "shell.execute_reply": "2022-04-30T21:30:36.732456Z"
    },
    "papermill": {
     "duration": 0.273268,
     "end_time": "2022-04-30T21:30:36.735103",
     "exception": false,
     "start_time": "2022-04-30T21:30:36.461835",
     "status": "completed"
    },
    "tags": []
   },
   "outputs": [
    {
     "name": "stdout",
     "output_type": "stream",
     "text": [
      "(243, 320, 3)\n"
     ]
    },
    {
     "data": {
      "image/png": "[encoded data removed]",
      "text/plain": [
       "<Figure size 432x288 with 1 Axes>"
      ]
     },
     "metadata": {},
     "output_type": "display_data"
    }
   ],
   "source": [
    "filename = \"../input/opencv-facial-recognition-lbph/yalefaces/test/subject03.glasses.gif\"\n",
    "pixels = plt.imread(filename)\n",
    "\n",
    "rgb_pixels = np.stack((pixels, pixels, pixels), axis=2)\n",
    "print(rgb_pixels.shape)\n",
    "plt.imshow(pixels)\n",
    "plt.show()"
   ]
  },
  {
   "cell_type": "code",
   "execution_count": 12,
   "id": "284a0f8a",
   "metadata": {
    "execution": {
     "iopub.execute_input": "2022-04-30T21:30:36.774661Z",
     "iopub.status.busy": "2022-04-30T21:30:36.773996Z",
     "iopub.status.idle": "2022-04-30T21:30:36.778475Z",
     "shell.execute_reply": "2022-04-30T21:30:36.777740Z"
    },
    "papermill": {
     "duration": 0.026493,
     "end_time": "2022-04-30T21:30:36.780572",
     "exception": false,
     "start_time": "2022-04-30T21:30:36.754079",
     "status": "completed"
    },
    "tags": []
   },
   "outputs": [],
   "source": [
    "# path = '../input/opencv-facial-recognition-lbph/yalefaces/train'\n",
    "# fig,(ax1, ax2, ax3, ax4) = plt.subplots(1, 4, figsize=(15, 10))\n",
    "# ax = [ax1, ax2, ax3, ax4]\n",
    "# for i in range(4):\n",
    "#     img = mpimg.imread(path+data['filename'])\n",
    "#     ax[i].imshow(img)\n",
    "#     ax[i].set_title(data['Name'][i**3])\n",
    "#     ax[i].axis('off')\n",
    "# plt.tight_layout()\n",
    "# plt.show()"
   ]
  },
  {
   "cell_type": "code",
   "execution_count": null,
   "id": "3571c2b0",
   "metadata": {
    "papermill": {
     "duration": 0.017751,
     "end_time": "2022-04-30T21:30:36.816858",
     "exception": false,
     "start_time": "2022-04-30T21:30:36.799107",
     "status": "completed"
    },
    "tags": []
   },
   "outputs": [],
   "source": []
  }
 ],
 "metadata": {
  "kernelspec": {
   "display_name": "Python 3",
   "language": "python",
   "name": "python3"
  },
  "language_info": {
   "codemirror_mode": {
    "name": "ipython",
    "version": 3
   },
   "file_extension": ".py",
   "mimetype": "text/x-python",
   "name": "python",
   "nbconvert_exporter": "python",
   "pygments_lexer": "ipython3",
   "version": "3.7.12"
  },
  "papermill": {
   "default_parameters": {},
   "duration": 21.555118,
   "end_time": "2022-04-30T21:30:40.153846",
   "environment_variables": {},
   "exception": null,
   "input_path": "__notebook__.ipynb",
   "output_path": "__notebook__.ipynb",
   "parameters": {},
   "start_time": "2022-04-30T21:30:18.598728",
   "version": "2.3.4"
  }
 },
 "nbformat": 4,
 "nbformat_minor": 5
}
