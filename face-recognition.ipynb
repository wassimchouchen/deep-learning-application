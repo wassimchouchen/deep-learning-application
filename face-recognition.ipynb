{
 "cells": [
  {
   "cell_type": "code",
   "execution_count": 1,
   "id": "5b2bcdcf",
   "metadata": {
    "_cell_guid": "b1076dfc-b9ad-4769-8c92-a6c4dae69d19",
    "_uuid": "8f2839f25d086af736a60e9eeb907d3b93b6e0e5",
    "execution": {
     "iopub.execute_input": "2022-04-30T00:54:57.197620Z",
     "iopub.status.busy": "2022-04-30T00:54:57.197179Z",
     "iopub.status.idle": "2022-04-30T00:55:04.450127Z",
     "shell.execute_reply": "2022-04-30T00:55:04.448990Z"
    },
    "papermill": {
     "duration": 7.262633,
     "end_time": "2022-04-30T00:55:04.452705",
     "exception": false,
     "start_time": "2022-04-30T00:54:57.190072",
     "status": "completed"
    },
    "tags": []
   },
   "outputs": [],
   "source": [
    "import tensorflow as tf\n",
    "from tensorflow import keras as ks\n",
    "import pandas as pd\n",
    "import numpy as np\n",
    "import matplotlib.pyplot as plt\n",
    "import matplotlib.style as stl\n",
    "stl.use(\"ggplot\")\n",
    "import seaborn as sns\n",
    "import os\n",
    "from tqdm import tqdm\n",
    "import cv2\n",
    "\n",
    "from sklearn.model_selection import train_test_split\n",
    "import warnings\n",
    "warnings.filterwarnings('ignore')\n",
    "from tensorflow.keras.utils import to_categorical\n",
    "from keras.preprocessing.image import ImageDataGenerator"
   ]
  },
  {
   "cell_type": "code",
   "execution_count": null,
   "id": "4694d415",
   "metadata": {
    "papermill": {
     "duration": 0.003802,
     "end_time": "2022-04-30T00:55:04.460855",
     "exception": false,
     "start_time": "2022-04-30T00:55:04.457053",
     "status": "completed"
    },
    "tags": []
   },
   "outputs": [],
   "source": []
  },
  {
   "cell_type": "code",
   "execution_count": null,
   "id": "5313da53",
   "metadata": {
    "papermill": {
     "duration": 0.00412,
     "end_time": "2022-04-30T00:55:04.468889",
     "exception": false,
     "start_time": "2022-04-30T00:55:04.464769",
     "status": "completed"
    },
    "tags": []
   },
   "outputs": [],
   "source": []
  },
  {
   "cell_type": "code",
   "execution_count": null,
   "id": "02ee2b2c",
   "metadata": {
    "papermill": {
     "duration": 0.003695,
     "end_time": "2022-04-30T00:55:04.476599",
     "exception": false,
     "start_time": "2022-04-30T00:55:04.472904",
     "status": "completed"
    },
    "tags": []
   },
   "outputs": [],
   "source": []
  }
 ],
 "metadata": {
  "kernelspec": {
   "display_name": "Python 3",
   "language": "python",
   "name": "python3"
  },
  "language_info": {
   "codemirror_mode": {
    "name": "ipython",
    "version": 3
   },
   "file_extension": ".py",
   "mimetype": "text/x-python",
   "name": "python",
   "nbconvert_exporter": "python",
   "pygments_lexer": "ipython3",
   "version": "3.7.12"
  },
  "papermill": {
   "default_parameters": {},
   "duration": 18.449944,
   "end_time": "2022-04-30T00:55:07.172930",
   "environment_variables": {},
   "exception": null,
   "input_path": "__notebook__.ipynb",
   "output_path": "__notebook__.ipynb",
   "parameters": {},
   "start_time": "2022-04-30T00:54:48.722986",
   "version": "2.3.4"
  }
 },
 "nbformat": 4,
 "nbformat_minor": 5
}
