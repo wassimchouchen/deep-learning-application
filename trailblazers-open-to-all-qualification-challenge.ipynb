{
 "cells": [
  {
   "cell_type": "code",
   "execution_count": 1,
   "id": "6a70aad5",
   "metadata": {
    "_cell_guid": "b1076dfc-b9ad-4769-8c92-a6c4dae69d19",
    "_uuid": "8f2839f25d086af736a60e9eeb907d3b93b6e0e5",
    "execution": {
     "iopub.execute_input": "2022-07-22T14:55:09.363868Z",
     "iopub.status.busy": "2022-07-22T14:55:09.363342Z",
     "iopub.status.idle": "2022-07-22T14:55:15.688098Z",
     "shell.execute_reply": "2022-07-22T14:55:15.687106Z"
    },
    "papermill": {
     "duration": 6.342281,
     "end_time": "2022-07-22T14:55:15.690698",
     "exception": false,
     "start_time": "2022-07-22T14:55:09.348417",
     "status": "completed"
    },
    "tags": []
   },
   "outputs": [],
   "source": [
    "import numpy as np\n",
    "import pandas as pd\n",
    "import matplotlib.pyplot as plt\n",
    "import os\n",
    "import shutil\n",
    "import tensorflow as tf\n",
    "import pathlib\n",
    "import PIL\n",
    "import time\n",
    "import zipfile\n",
    "import random\n",
    "from tensorflow import keras as ks\n",
    "from tensorflow.keras.layers import *\n",
    "from keras.utils.np_utils import to_categorical \n",
    "from keras.models import Sequential\n",
    "from keras.preprocessing.image import ImageDataGenerator\n",
    "from keras.callbacks import ReduceLROnPlateau\n",
    "from sklearn.model_selection import train_test_split\n",
    "import warnings\n",
    "warnings.filterwarnings('ignore')\n"
   ]
  },
  {
   "cell_type": "code",
   "execution_count": 2,
   "id": "867c26d6",
   "metadata": {
    "execution": {
     "iopub.execute_input": "2022-07-22T14:55:15.719146Z",
     "iopub.status.busy": "2022-07-22T14:55:15.717314Z",
     "iopub.status.idle": "2022-07-22T14:55:17.122160Z",
     "shell.execute_reply": "2022-07-22T14:55:17.121179Z"
    },
    "papermill": {
     "duration": 1.421032,
     "end_time": "2022-07-22T14:55:17.124442",
     "exception": false,
     "start_time": "2022-07-22T14:55:15.703410",
     "status": "completed"
    },
    "tags": []
   },
   "outputs": [],
   "source": [
    "train_df=pd.read_csv(\"../input/trailblazers-open-to-all-qualification-challenge/Train (3).csv\")\n",
    "test_df=pd.read_csv(\"../input/trailblazers-open-to-all-qualification-challenge/Test (5).csv\")\n",
    "sub=pd.read_csv(\"../input/trailblazers-open-to-all-qualification-challenge/SampleSubmission (1).csv\")"
   ]
  },
  {
   "cell_type": "code",
   "execution_count": 3,
   "id": "fefd0526",
   "metadata": {
    "execution": {
     "iopub.execute_input": "2022-07-22T14:55:17.155046Z",
     "iopub.status.busy": "2022-07-22T14:55:17.153536Z",
     "iopub.status.idle": "2022-07-22T14:55:17.188179Z",
     "shell.execute_reply": "2022-07-22T14:55:17.187338Z"
    },
    "papermill": {
     "duration": 0.050736,
     "end_time": "2022-07-22T14:55:17.190440",
     "exception": false,
     "start_time": "2022-07-22T14:55:17.139704",
     "status": "completed"
    },
    "tags": []
   },
   "outputs": [
    {
     "data": {
      "text/html": [
       "<div>\n",
       "<style scoped>\n",
       "    .dataframe tbody tr th:only-of-type {\n",
       "        vertical-align: middle;\n",
       "    }\n",
       "\n",
       "    .dataframe tbody tr th {\n",
       "        vertical-align: top;\n",
       "    }\n",
       "\n",
       "    .dataframe thead th {\n",
       "        text-align: right;\n",
       "    }\n",
       "</style>\n",
       "<table border=\"1\" class=\"dataframe\">\n",
       "  <thead>\n",
       "    <tr style=\"text-align: right;\">\n",
       "      <th></th>\n",
       "      <th>Place_ID X Date</th>\n",
       "      <th>Date</th>\n",
       "      <th>Place_ID</th>\n",
       "      <th>target</th>\n",
       "      <th>target_min</th>\n",
       "      <th>target_max</th>\n",
       "      <th>target_variance</th>\n",
       "      <th>target_count</th>\n",
       "      <th>precipitable_water_entire_atmosphere</th>\n",
       "      <th>relative_humidity_2m_above_ground</th>\n",
       "      <th>...</th>\n",
       "      <th>L3_SO2_sensor_zenith_angle</th>\n",
       "      <th>L3_SO2_solar_azimuth_angle</th>\n",
       "      <th>L3_SO2_solar_zenith_angle</th>\n",
       "      <th>L3_CH4_CH4_column_volume_mixing_ratio_dry_air</th>\n",
       "      <th>L3_CH4_aerosol_height</th>\n",
       "      <th>L3_CH4_aerosol_optical_depth</th>\n",
       "      <th>L3_CH4_sensor_azimuth_angle</th>\n",
       "      <th>L3_CH4_sensor_zenith_angle</th>\n",
       "      <th>L3_CH4_solar_azimuth_angle</th>\n",
       "      <th>L3_CH4_solar_zenith_angle</th>\n",
       "    </tr>\n",
       "  </thead>\n",
       "  <tbody>\n",
       "    <tr>\n",
       "      <th>0</th>\n",
       "      <td>010Q650 X 2020-01-02</td>\n",
       "      <td>2020-01-02</td>\n",
       "      <td>010Q650</td>\n",
       "      <td>38.0</td>\n",
       "      <td>23.0</td>\n",
       "      <td>53.0</td>\n",
       "      <td>769.50</td>\n",
       "      <td>92</td>\n",
       "      <td>11.000000</td>\n",
       "      <td>60.200001</td>\n",
       "      <td>...</td>\n",
       "      <td>38.593017</td>\n",
       "      <td>-61.752587</td>\n",
       "      <td>22.363665</td>\n",
       "      <td>1793.793579</td>\n",
       "      <td>3227.855469</td>\n",
       "      <td>0.010579</td>\n",
       "      <td>74.481049</td>\n",
       "      <td>37.501499</td>\n",
       "      <td>-62.142639</td>\n",
       "      <td>22.545118</td>\n",
       "    </tr>\n",
       "    <tr>\n",
       "      <th>1</th>\n",
       "      <td>010Q650 X 2020-01-03</td>\n",
       "      <td>2020-01-03</td>\n",
       "      <td>010Q650</td>\n",
       "      <td>39.0</td>\n",
       "      <td>25.0</td>\n",
       "      <td>63.0</td>\n",
       "      <td>1319.85</td>\n",
       "      <td>91</td>\n",
       "      <td>14.600000</td>\n",
       "      <td>48.799999</td>\n",
       "      <td>...</td>\n",
       "      <td>59.624912</td>\n",
       "      <td>-67.693509</td>\n",
       "      <td>28.614804</td>\n",
       "      <td>1789.960449</td>\n",
       "      <td>3384.226562</td>\n",
       "      <td>0.015104</td>\n",
       "      <td>75.630043</td>\n",
       "      <td>55.657486</td>\n",
       "      <td>-53.868134</td>\n",
       "      <td>19.293652</td>\n",
       "    </tr>\n",
       "    <tr>\n",
       "      <th>2</th>\n",
       "      <td>010Q650 X 2020-01-04</td>\n",
       "      <td>2020-01-04</td>\n",
       "      <td>010Q650</td>\n",
       "      <td>24.0</td>\n",
       "      <td>8.0</td>\n",
       "      <td>56.0</td>\n",
       "      <td>1181.96</td>\n",
       "      <td>96</td>\n",
       "      <td>16.400000</td>\n",
       "      <td>33.400002</td>\n",
       "      <td>...</td>\n",
       "      <td>49.839714</td>\n",
       "      <td>-78.342701</td>\n",
       "      <td>34.296977</td>\n",
       "      <td>NaN</td>\n",
       "      <td>NaN</td>\n",
       "      <td>NaN</td>\n",
       "      <td>NaN</td>\n",
       "      <td>NaN</td>\n",
       "      <td>NaN</td>\n",
       "      <td>NaN</td>\n",
       "    </tr>\n",
       "    <tr>\n",
       "      <th>3</th>\n",
       "      <td>010Q650 X 2020-01-05</td>\n",
       "      <td>2020-01-05</td>\n",
       "      <td>010Q650</td>\n",
       "      <td>49.0</td>\n",
       "      <td>10.0</td>\n",
       "      <td>55.0</td>\n",
       "      <td>1113.67</td>\n",
       "      <td>96</td>\n",
       "      <td>6.911948</td>\n",
       "      <td>21.300001</td>\n",
       "      <td>...</td>\n",
       "      <td>29.181258</td>\n",
       "      <td>-73.896588</td>\n",
       "      <td>30.545446</td>\n",
       "      <td>NaN</td>\n",
       "      <td>NaN</td>\n",
       "      <td>NaN</td>\n",
       "      <td>NaN</td>\n",
       "      <td>NaN</td>\n",
       "      <td>NaN</td>\n",
       "      <td>NaN</td>\n",
       "    </tr>\n",
       "    <tr>\n",
       "      <th>4</th>\n",
       "      <td>010Q650 X 2020-01-06</td>\n",
       "      <td>2020-01-06</td>\n",
       "      <td>010Q650</td>\n",
       "      <td>21.0</td>\n",
       "      <td>9.0</td>\n",
       "      <td>52.0</td>\n",
       "      <td>1164.82</td>\n",
       "      <td>95</td>\n",
       "      <td>13.900001</td>\n",
       "      <td>44.700001</td>\n",
       "      <td>...</td>\n",
       "      <td>0.797294</td>\n",
       "      <td>-68.612480</td>\n",
       "      <td>26.899694</td>\n",
       "      <td>NaN</td>\n",
       "      <td>NaN</td>\n",
       "      <td>NaN</td>\n",
       "      <td>NaN</td>\n",
       "      <td>NaN</td>\n",
       "      <td>NaN</td>\n",
       "      <td>NaN</td>\n",
       "    </tr>\n",
       "  </tbody>\n",
       "</table>\n",
       "<p>5 rows × 82 columns</p>\n",
       "</div>"
      ],
      "text/plain": [
       "        Place_ID X Date        Date Place_ID  target  target_min  target_max  \\\n",
       "0  010Q650 X 2020-01-02  2020-01-02  010Q650    38.0        23.0        53.0   \n",
       "1  010Q650 X 2020-01-03  2020-01-03  010Q650    39.0        25.0        63.0   \n",
       "2  010Q650 X 2020-01-04  2020-01-04  010Q650    24.0         8.0        56.0   \n",
       "3  010Q650 X 2020-01-05  2020-01-05  010Q650    49.0        10.0        55.0   \n",
       "4  010Q650 X 2020-01-06  2020-01-06  010Q650    21.0         9.0        52.0   \n",
       "\n",
       "   target_variance  target_count  precipitable_water_entire_atmosphere  \\\n",
       "0           769.50            92                             11.000000   \n",
       "1          1319.85            91                             14.600000   \n",
       "2          1181.96            96                             16.400000   \n",
       "3          1113.67            96                              6.911948   \n",
       "4          1164.82            95                             13.900001   \n",
       "\n",
       "   relative_humidity_2m_above_ground  ...  L3_SO2_sensor_zenith_angle  \\\n",
       "0                          60.200001  ...                   38.593017   \n",
       "1                          48.799999  ...                   59.624912   \n",
       "2                          33.400002  ...                   49.839714   \n",
       "3                          21.300001  ...                   29.181258   \n",
       "4                          44.700001  ...                    0.797294   \n",
       "\n",
       "   L3_SO2_solar_azimuth_angle  L3_SO2_solar_zenith_angle  \\\n",
       "0                  -61.752587                  22.363665   \n",
       "1                  -67.693509                  28.614804   \n",
       "2                  -78.342701                  34.296977   \n",
       "3                  -73.896588                  30.545446   \n",
       "4                  -68.612480                  26.899694   \n",
       "\n",
       "   L3_CH4_CH4_column_volume_mixing_ratio_dry_air  L3_CH4_aerosol_height  \\\n",
       "0                                    1793.793579            3227.855469   \n",
       "1                                    1789.960449            3384.226562   \n",
       "2                                            NaN                    NaN   \n",
       "3                                            NaN                    NaN   \n",
       "4                                            NaN                    NaN   \n",
       "\n",
       "   L3_CH4_aerosol_optical_depth  L3_CH4_sensor_azimuth_angle  \\\n",
       "0                      0.010579                    74.481049   \n",
       "1                      0.015104                    75.630043   \n",
       "2                           NaN                          NaN   \n",
       "3                           NaN                          NaN   \n",
       "4                           NaN                          NaN   \n",
       "\n",
       "   L3_CH4_sensor_zenith_angle  L3_CH4_solar_azimuth_angle  \\\n",
       "0                   37.501499                  -62.142639   \n",
       "1                   55.657486                  -53.868134   \n",
       "2                         NaN                         NaN   \n",
       "3                         NaN                         NaN   \n",
       "4                         NaN                         NaN   \n",
       "\n",
       "   L3_CH4_solar_zenith_angle  \n",
       "0                  22.545118  \n",
       "1                  19.293652  \n",
       "2                        NaN  \n",
       "3                        NaN  \n",
       "4                        NaN  \n",
       "\n",
       "[5 rows x 82 columns]"
      ]
     },
     "execution_count": 3,
     "metadata": {},
     "output_type": "execute_result"
    }
   ],
   "source": [
    "train_df.head()"
   ]
  },
  {
   "cell_type": "code",
   "execution_count": 4,
   "id": "a22f6425",
   "metadata": {
    "execution": {
     "iopub.execute_input": "2022-07-22T14:55:17.217489Z",
     "iopub.status.busy": "2022-07-22T14:55:17.216761Z",
     "iopub.status.idle": "2022-07-22T14:55:17.240055Z",
     "shell.execute_reply": "2022-07-22T14:55:17.239059Z"
    },
    "papermill": {
     "duration": 0.038841,
     "end_time": "2022-07-22T14:55:17.242351",
     "exception": false,
     "start_time": "2022-07-22T14:55:17.203510",
     "status": "completed"
    },
    "tags": []
   },
   "outputs": [
    {
     "data": {
      "text/html": [
       "<div>\n",
       "<style scoped>\n",
       "    .dataframe tbody tr th:only-of-type {\n",
       "        vertical-align: middle;\n",
       "    }\n",
       "\n",
       "    .dataframe tbody tr th {\n",
       "        vertical-align: top;\n",
       "    }\n",
       "\n",
       "    .dataframe thead th {\n",
       "        text-align: right;\n",
       "    }\n",
       "</style>\n",
       "<table border=\"1\" class=\"dataframe\">\n",
       "  <thead>\n",
       "    <tr style=\"text-align: right;\">\n",
       "      <th></th>\n",
       "      <th>Place_ID X Date</th>\n",
       "      <th>Date</th>\n",
       "      <th>Place_ID</th>\n",
       "      <th>precipitable_water_entire_atmosphere</th>\n",
       "      <th>relative_humidity_2m_above_ground</th>\n",
       "      <th>specific_humidity_2m_above_ground</th>\n",
       "      <th>temperature_2m_above_ground</th>\n",
       "      <th>u_component_of_wind_10m_above_ground</th>\n",
       "      <th>v_component_of_wind_10m_above_ground</th>\n",
       "      <th>L3_NO2_NO2_column_number_density</th>\n",
       "      <th>...</th>\n",
       "      <th>L3_SO2_sensor_zenith_angle</th>\n",
       "      <th>L3_SO2_solar_azimuth_angle</th>\n",
       "      <th>L3_SO2_solar_zenith_angle</th>\n",
       "      <th>L3_CH4_CH4_column_volume_mixing_ratio_dry_air</th>\n",
       "      <th>L3_CH4_aerosol_height</th>\n",
       "      <th>L3_CH4_aerosol_optical_depth</th>\n",
       "      <th>L3_CH4_sensor_azimuth_angle</th>\n",
       "      <th>L3_CH4_sensor_zenith_angle</th>\n",
       "      <th>L3_CH4_solar_azimuth_angle</th>\n",
       "      <th>L3_CH4_solar_zenith_angle</th>\n",
       "    </tr>\n",
       "  </thead>\n",
       "  <tbody>\n",
       "    <tr>\n",
       "      <th>0</th>\n",
       "      <td>0OS9LVX X 2020-01-02</td>\n",
       "      <td>2020-01-02</td>\n",
       "      <td>0OS9LVX</td>\n",
       "      <td>11.600000</td>\n",
       "      <td>30.200001</td>\n",
       "      <td>0.00409</td>\n",
       "      <td>14.656824</td>\n",
       "      <td>3.956377</td>\n",
       "      <td>0.712605</td>\n",
       "      <td>0.000053</td>\n",
       "      <td>...</td>\n",
       "      <td>1.445658</td>\n",
       "      <td>-95.984984</td>\n",
       "      <td>22.942019</td>\n",
       "      <td>NaN</td>\n",
       "      <td>NaN</td>\n",
       "      <td>NaN</td>\n",
       "      <td>NaN</td>\n",
       "      <td>NaN</td>\n",
       "      <td>NaN</td>\n",
       "      <td>NaN</td>\n",
       "    </tr>\n",
       "    <tr>\n",
       "      <th>1</th>\n",
       "      <td>0OS9LVX X 2020-01-03</td>\n",
       "      <td>2020-01-03</td>\n",
       "      <td>0OS9LVX</td>\n",
       "      <td>18.300001</td>\n",
       "      <td>42.900002</td>\n",
       "      <td>0.00595</td>\n",
       "      <td>15.026544</td>\n",
       "      <td>4.230430</td>\n",
       "      <td>0.661892</td>\n",
       "      <td>0.000050</td>\n",
       "      <td>...</td>\n",
       "      <td>34.641758</td>\n",
       "      <td>-95.014908</td>\n",
       "      <td>18.539116</td>\n",
       "      <td>NaN</td>\n",
       "      <td>NaN</td>\n",
       "      <td>NaN</td>\n",
       "      <td>NaN</td>\n",
       "      <td>NaN</td>\n",
       "      <td>NaN</td>\n",
       "      <td>NaN</td>\n",
       "    </tr>\n",
       "    <tr>\n",
       "      <th>2</th>\n",
       "      <td>0OS9LVX X 2020-01-04</td>\n",
       "      <td>2020-01-04</td>\n",
       "      <td>0OS9LVX</td>\n",
       "      <td>17.600000</td>\n",
       "      <td>41.299999</td>\n",
       "      <td>0.00590</td>\n",
       "      <td>15.511041</td>\n",
       "      <td>5.245728</td>\n",
       "      <td>1.640559</td>\n",
       "      <td>0.000050</td>\n",
       "      <td>...</td>\n",
       "      <td>55.872276</td>\n",
       "      <td>-94.015418</td>\n",
       "      <td>14.140820</td>\n",
       "      <td>NaN</td>\n",
       "      <td>NaN</td>\n",
       "      <td>NaN</td>\n",
       "      <td>NaN</td>\n",
       "      <td>NaN</td>\n",
       "      <td>NaN</td>\n",
       "      <td>NaN</td>\n",
       "    </tr>\n",
       "    <tr>\n",
       "      <th>3</th>\n",
       "      <td>0OS9LVX X 2020-01-05</td>\n",
       "      <td>2020-01-05</td>\n",
       "      <td>0OS9LVX</td>\n",
       "      <td>15.011948</td>\n",
       "      <td>53.100002</td>\n",
       "      <td>0.00709</td>\n",
       "      <td>14.441858</td>\n",
       "      <td>5.454001</td>\n",
       "      <td>-0.190532</td>\n",
       "      <td>0.000055</td>\n",
       "      <td>...</td>\n",
       "      <td>59.174188</td>\n",
       "      <td>-97.247602</td>\n",
       "      <td>32.730553</td>\n",
       "      <td>NaN</td>\n",
       "      <td>NaN</td>\n",
       "      <td>NaN</td>\n",
       "      <td>NaN</td>\n",
       "      <td>NaN</td>\n",
       "      <td>NaN</td>\n",
       "      <td>NaN</td>\n",
       "    </tr>\n",
       "    <tr>\n",
       "      <th>4</th>\n",
       "      <td>0OS9LVX X 2020-01-06</td>\n",
       "      <td>2020-01-06</td>\n",
       "      <td>0OS9LVX</td>\n",
       "      <td>9.700000</td>\n",
       "      <td>71.599998</td>\n",
       "      <td>0.00808</td>\n",
       "      <td>11.896295</td>\n",
       "      <td>3.511787</td>\n",
       "      <td>-0.279441</td>\n",
       "      <td>0.000055</td>\n",
       "      <td>...</td>\n",
       "      <td>40.925873</td>\n",
       "      <td>-96.057265</td>\n",
       "      <td>28.320527</td>\n",
       "      <td>1831.261597</td>\n",
       "      <td>3229.118652</td>\n",
       "      <td>0.031068</td>\n",
       "      <td>-100.278343</td>\n",
       "      <td>41.84708</td>\n",
       "      <td>-95.910744</td>\n",
       "      <td>28.498789</td>\n",
       "    </tr>\n",
       "  </tbody>\n",
       "</table>\n",
       "<p>5 rows × 77 columns</p>\n",
       "</div>"
      ],
      "text/plain": [
       "        Place_ID X Date        Date Place_ID  \\\n",
       "0  0OS9LVX X 2020-01-02  2020-01-02  0OS9LVX   \n",
       "1  0OS9LVX X 2020-01-03  2020-01-03  0OS9LVX   \n",
       "2  0OS9LVX X 2020-01-04  2020-01-04  0OS9LVX   \n",
       "3  0OS9LVX X 2020-01-05  2020-01-05  0OS9LVX   \n",
       "4  0OS9LVX X 2020-01-06  2020-01-06  0OS9LVX   \n",
       "\n",
       "   precipitable_water_entire_atmosphere  relative_humidity_2m_above_ground  \\\n",
       "0                             11.600000                          30.200001   \n",
       "1                             18.300001                          42.900002   \n",
       "2                             17.600000                          41.299999   \n",
       "3                             15.011948                          53.100002   \n",
       "4                              9.700000                          71.599998   \n",
       "\n",
       "   specific_humidity_2m_above_ground  temperature_2m_above_ground  \\\n",
       "0                            0.00409                    14.656824   \n",
       "1                            0.00595                    15.026544   \n",
       "2                            0.00590                    15.511041   \n",
       "3                            0.00709                    14.441858   \n",
       "4                            0.00808                    11.896295   \n",
       "\n",
       "   u_component_of_wind_10m_above_ground  v_component_of_wind_10m_above_ground  \\\n",
       "0                              3.956377                              0.712605   \n",
       "1                              4.230430                              0.661892   \n",
       "2                              5.245728                              1.640559   \n",
       "3                              5.454001                             -0.190532   \n",
       "4                              3.511787                             -0.279441   \n",
       "\n",
       "   L3_NO2_NO2_column_number_density  ...  L3_SO2_sensor_zenith_angle  \\\n",
       "0                          0.000053  ...                    1.445658   \n",
       "1                          0.000050  ...                   34.641758   \n",
       "2                          0.000050  ...                   55.872276   \n",
       "3                          0.000055  ...                   59.174188   \n",
       "4                          0.000055  ...                   40.925873   \n",
       "\n",
       "   L3_SO2_solar_azimuth_angle  L3_SO2_solar_zenith_angle  \\\n",
       "0                  -95.984984                  22.942019   \n",
       "1                  -95.014908                  18.539116   \n",
       "2                  -94.015418                  14.140820   \n",
       "3                  -97.247602                  32.730553   \n",
       "4                  -96.057265                  28.320527   \n",
       "\n",
       "   L3_CH4_CH4_column_volume_mixing_ratio_dry_air  L3_CH4_aerosol_height  \\\n",
       "0                                            NaN                    NaN   \n",
       "1                                            NaN                    NaN   \n",
       "2                                            NaN                    NaN   \n",
       "3                                            NaN                    NaN   \n",
       "4                                    1831.261597            3229.118652   \n",
       "\n",
       "   L3_CH4_aerosol_optical_depth  L3_CH4_sensor_azimuth_angle  \\\n",
       "0                           NaN                          NaN   \n",
       "1                           NaN                          NaN   \n",
       "2                           NaN                          NaN   \n",
       "3                           NaN                          NaN   \n",
       "4                      0.031068                  -100.278343   \n",
       "\n",
       "   L3_CH4_sensor_zenith_angle  L3_CH4_solar_azimuth_angle  \\\n",
       "0                         NaN                         NaN   \n",
       "1                         NaN                         NaN   \n",
       "2                         NaN                         NaN   \n",
       "3                         NaN                         NaN   \n",
       "4                    41.84708                  -95.910744   \n",
       "\n",
       "   L3_CH4_solar_zenith_angle  \n",
       "0                        NaN  \n",
       "1                        NaN  \n",
       "2                        NaN  \n",
       "3                        NaN  \n",
       "4                  28.498789  \n",
       "\n",
       "[5 rows x 77 columns]"
      ]
     },
     "execution_count": 4,
     "metadata": {},
     "output_type": "execute_result"
    }
   ],
   "source": [
    "test_df.head()"
   ]
  },
  {
   "cell_type": "code",
   "execution_count": 5,
   "id": "4845240e",
   "metadata": {
    "execution": {
     "iopub.execute_input": "2022-07-22T14:55:17.269214Z",
     "iopub.status.busy": "2022-07-22T14:55:17.268967Z",
     "iopub.status.idle": "2022-07-22T14:55:17.276148Z",
     "shell.execute_reply": "2022-07-22T14:55:17.275292Z"
    },
    "papermill": {
     "duration": 0.022558,
     "end_time": "2022-07-22T14:55:17.278163",
     "exception": false,
     "start_time": "2022-07-22T14:55:17.255605",
     "status": "completed"
    },
    "tags": []
   },
   "outputs": [],
   "source": [
    "Id=test_df[\"Place_ID X Date\"]"
   ]
  },
  {
   "cell_type": "code",
   "execution_count": 6,
   "id": "58df3001",
   "metadata": {
    "execution": {
     "iopub.execute_input": "2022-07-22T14:55:17.305291Z",
     "iopub.status.busy": "2022-07-22T14:55:17.305052Z",
     "iopub.status.idle": "2022-07-22T14:55:17.310553Z",
     "shell.execute_reply": "2022-07-22T14:55:17.309662Z"
    },
    "papermill": {
     "duration": 0.020668,
     "end_time": "2022-07-22T14:55:17.312509",
     "exception": false,
     "start_time": "2022-07-22T14:55:17.291841",
     "status": "completed"
    },
    "tags": []
   },
   "outputs": [
    {
     "data": {
      "text/plain": [
       "(30557, 82)"
      ]
     },
     "execution_count": 6,
     "metadata": {},
     "output_type": "execute_result"
    }
   ],
   "source": [
    "train_df.shape"
   ]
  },
  {
   "cell_type": "code",
   "execution_count": 7,
   "id": "c4c540ba",
   "metadata": {
    "execution": {
     "iopub.execute_input": "2022-07-22T14:55:17.339415Z",
     "iopub.status.busy": "2022-07-22T14:55:17.339173Z",
     "iopub.status.idle": "2022-07-22T14:55:17.344852Z",
     "shell.execute_reply": "2022-07-22T14:55:17.343890Z"
    },
    "papermill": {
     "duration": 0.022976,
     "end_time": "2022-07-22T14:55:17.348340",
     "exception": false,
     "start_time": "2022-07-22T14:55:17.325364",
     "status": "completed"
    },
    "tags": []
   },
   "outputs": [
    {
     "data": {
      "text/plain": [
       "(16136, 77)"
      ]
     },
     "execution_count": 7,
     "metadata": {},
     "output_type": "execute_result"
    }
   ],
   "source": [
    "test_df.shape"
   ]
  },
  {
   "cell_type": "code",
   "execution_count": 8,
   "id": "da6ac6b0",
   "metadata": {
    "execution": {
     "iopub.execute_input": "2022-07-22T14:55:17.374751Z",
     "iopub.status.busy": "2022-07-22T14:55:17.374509Z",
     "iopub.status.idle": "2022-07-22T14:55:17.396922Z",
     "shell.execute_reply": "2022-07-22T14:55:17.395857Z"
    },
    "papermill": {
     "duration": 0.038349,
     "end_time": "2022-07-22T14:55:17.399404",
     "exception": false,
     "start_time": "2022-07-22T14:55:17.361055",
     "status": "completed"
    },
    "tags": []
   },
   "outputs": [
    {
     "data": {
      "text/html": [
       "<div>\n",
       "<style scoped>\n",
       "    .dataframe tbody tr th:only-of-type {\n",
       "        vertical-align: middle;\n",
       "    }\n",
       "\n",
       "    .dataframe tbody tr th {\n",
       "        vertical-align: top;\n",
       "    }\n",
       "\n",
       "    .dataframe thead th {\n",
       "        text-align: right;\n",
       "    }\n",
       "</style>\n",
       "<table border=\"1\" class=\"dataframe\">\n",
       "  <thead>\n",
       "    <tr style=\"text-align: right;\">\n",
       "      <th></th>\n",
       "      <th>Place_ID X Date</th>\n",
       "      <th>Date</th>\n",
       "      <th>Place_ID</th>\n",
       "      <th>precipitable_water_entire_atmosphere</th>\n",
       "      <th>relative_humidity_2m_above_ground</th>\n",
       "      <th>specific_humidity_2m_above_ground</th>\n",
       "      <th>temperature_2m_above_ground</th>\n",
       "      <th>u_component_of_wind_10m_above_ground</th>\n",
       "      <th>v_component_of_wind_10m_above_ground</th>\n",
       "      <th>L3_NO2_NO2_column_number_density</th>\n",
       "      <th>...</th>\n",
       "      <th>L3_SO2_sensor_zenith_angle</th>\n",
       "      <th>L3_SO2_solar_azimuth_angle</th>\n",
       "      <th>L3_SO2_solar_zenith_angle</th>\n",
       "      <th>L3_CH4_CH4_column_volume_mixing_ratio_dry_air</th>\n",
       "      <th>L3_CH4_aerosol_height</th>\n",
       "      <th>L3_CH4_aerosol_optical_depth</th>\n",
       "      <th>L3_CH4_sensor_azimuth_angle</th>\n",
       "      <th>L3_CH4_sensor_zenith_angle</th>\n",
       "      <th>L3_CH4_solar_azimuth_angle</th>\n",
       "      <th>L3_CH4_solar_zenith_angle</th>\n",
       "    </tr>\n",
       "  </thead>\n",
       "  <tbody>\n",
       "    <tr>\n",
       "      <th>0</th>\n",
       "      <td>0OS9LVX X 2020-01-02</td>\n",
       "      <td>2020-01-02</td>\n",
       "      <td>0OS9LVX</td>\n",
       "      <td>11.600000</td>\n",
       "      <td>30.200001</td>\n",
       "      <td>0.00409</td>\n",
       "      <td>14.656824</td>\n",
       "      <td>3.956377</td>\n",
       "      <td>0.712605</td>\n",
       "      <td>0.000053</td>\n",
       "      <td>...</td>\n",
       "      <td>1.445658</td>\n",
       "      <td>-95.984984</td>\n",
       "      <td>22.942019</td>\n",
       "      <td>NaN</td>\n",
       "      <td>NaN</td>\n",
       "      <td>NaN</td>\n",
       "      <td>NaN</td>\n",
       "      <td>NaN</td>\n",
       "      <td>NaN</td>\n",
       "      <td>NaN</td>\n",
       "    </tr>\n",
       "    <tr>\n",
       "      <th>1</th>\n",
       "      <td>0OS9LVX X 2020-01-03</td>\n",
       "      <td>2020-01-03</td>\n",
       "      <td>0OS9LVX</td>\n",
       "      <td>18.300001</td>\n",
       "      <td>42.900002</td>\n",
       "      <td>0.00595</td>\n",
       "      <td>15.026544</td>\n",
       "      <td>4.230430</td>\n",
       "      <td>0.661892</td>\n",
       "      <td>0.000050</td>\n",
       "      <td>...</td>\n",
       "      <td>34.641758</td>\n",
       "      <td>-95.014908</td>\n",
       "      <td>18.539116</td>\n",
       "      <td>NaN</td>\n",
       "      <td>NaN</td>\n",
       "      <td>NaN</td>\n",
       "      <td>NaN</td>\n",
       "      <td>NaN</td>\n",
       "      <td>NaN</td>\n",
       "      <td>NaN</td>\n",
       "    </tr>\n",
       "    <tr>\n",
       "      <th>2</th>\n",
       "      <td>0OS9LVX X 2020-01-04</td>\n",
       "      <td>2020-01-04</td>\n",
       "      <td>0OS9LVX</td>\n",
       "      <td>17.600000</td>\n",
       "      <td>41.299999</td>\n",
       "      <td>0.00590</td>\n",
       "      <td>15.511041</td>\n",
       "      <td>5.245728</td>\n",
       "      <td>1.640559</td>\n",
       "      <td>0.000050</td>\n",
       "      <td>...</td>\n",
       "      <td>55.872276</td>\n",
       "      <td>-94.015418</td>\n",
       "      <td>14.140820</td>\n",
       "      <td>NaN</td>\n",
       "      <td>NaN</td>\n",
       "      <td>NaN</td>\n",
       "      <td>NaN</td>\n",
       "      <td>NaN</td>\n",
       "      <td>NaN</td>\n",
       "      <td>NaN</td>\n",
       "    </tr>\n",
       "    <tr>\n",
       "      <th>3</th>\n",
       "      <td>0OS9LVX X 2020-01-05</td>\n",
       "      <td>2020-01-05</td>\n",
       "      <td>0OS9LVX</td>\n",
       "      <td>15.011948</td>\n",
       "      <td>53.100002</td>\n",
       "      <td>0.00709</td>\n",
       "      <td>14.441858</td>\n",
       "      <td>5.454001</td>\n",
       "      <td>-0.190532</td>\n",
       "      <td>0.000055</td>\n",
       "      <td>...</td>\n",
       "      <td>59.174188</td>\n",
       "      <td>-97.247602</td>\n",
       "      <td>32.730553</td>\n",
       "      <td>NaN</td>\n",
       "      <td>NaN</td>\n",
       "      <td>NaN</td>\n",
       "      <td>NaN</td>\n",
       "      <td>NaN</td>\n",
       "      <td>NaN</td>\n",
       "      <td>NaN</td>\n",
       "    </tr>\n",
       "    <tr>\n",
       "      <th>4</th>\n",
       "      <td>0OS9LVX X 2020-01-06</td>\n",
       "      <td>2020-01-06</td>\n",
       "      <td>0OS9LVX</td>\n",
       "      <td>9.700000</td>\n",
       "      <td>71.599998</td>\n",
       "      <td>0.00808</td>\n",
       "      <td>11.896295</td>\n",
       "      <td>3.511787</td>\n",
       "      <td>-0.279441</td>\n",
       "      <td>0.000055</td>\n",
       "      <td>...</td>\n",
       "      <td>40.925873</td>\n",
       "      <td>-96.057265</td>\n",
       "      <td>28.320527</td>\n",
       "      <td>1831.261597</td>\n",
       "      <td>3229.118652</td>\n",
       "      <td>0.031068</td>\n",
       "      <td>-100.278343</td>\n",
       "      <td>41.84708</td>\n",
       "      <td>-95.910744</td>\n",
       "      <td>28.498789</td>\n",
       "    </tr>\n",
       "  </tbody>\n",
       "</table>\n",
       "<p>5 rows × 77 columns</p>\n",
       "</div>"
      ],
      "text/plain": [
       "        Place_ID X Date        Date Place_ID  \\\n",
       "0  0OS9LVX X 2020-01-02  2020-01-02  0OS9LVX   \n",
       "1  0OS9LVX X 2020-01-03  2020-01-03  0OS9LVX   \n",
       "2  0OS9LVX X 2020-01-04  2020-01-04  0OS9LVX   \n",
       "3  0OS9LVX X 2020-01-05  2020-01-05  0OS9LVX   \n",
       "4  0OS9LVX X 2020-01-06  2020-01-06  0OS9LVX   \n",
       "\n",
       "   precipitable_water_entire_atmosphere  relative_humidity_2m_above_ground  \\\n",
       "0                             11.600000                          30.200001   \n",
       "1                             18.300001                          42.900002   \n",
       "2                             17.600000                          41.299999   \n",
       "3                             15.011948                          53.100002   \n",
       "4                              9.700000                          71.599998   \n",
       "\n",
       "   specific_humidity_2m_above_ground  temperature_2m_above_ground  \\\n",
       "0                            0.00409                    14.656824   \n",
       "1                            0.00595                    15.026544   \n",
       "2                            0.00590                    15.511041   \n",
       "3                            0.00709                    14.441858   \n",
       "4                            0.00808                    11.896295   \n",
       "\n",
       "   u_component_of_wind_10m_above_ground  v_component_of_wind_10m_above_ground  \\\n",
       "0                              3.956377                              0.712605   \n",
       "1                              4.230430                              0.661892   \n",
       "2                              5.245728                              1.640559   \n",
       "3                              5.454001                             -0.190532   \n",
       "4                              3.511787                             -0.279441   \n",
       "\n",
       "   L3_NO2_NO2_column_number_density  ...  L3_SO2_sensor_zenith_angle  \\\n",
       "0                          0.000053  ...                    1.445658   \n",
       "1                          0.000050  ...                   34.641758   \n",
       "2                          0.000050  ...                   55.872276   \n",
       "3                          0.000055  ...                   59.174188   \n",
       "4                          0.000055  ...                   40.925873   \n",
       "\n",
       "   L3_SO2_solar_azimuth_angle  L3_SO2_solar_zenith_angle  \\\n",
       "0                  -95.984984                  22.942019   \n",
       "1                  -95.014908                  18.539116   \n",
       "2                  -94.015418                  14.140820   \n",
       "3                  -97.247602                  32.730553   \n",
       "4                  -96.057265                  28.320527   \n",
       "\n",
       "   L3_CH4_CH4_column_volume_mixing_ratio_dry_air  L3_CH4_aerosol_height  \\\n",
       "0                                            NaN                    NaN   \n",
       "1                                            NaN                    NaN   \n",
       "2                                            NaN                    NaN   \n",
       "3                                            NaN                    NaN   \n",
       "4                                    1831.261597            3229.118652   \n",
       "\n",
       "   L3_CH4_aerosol_optical_depth  L3_CH4_sensor_azimuth_angle  \\\n",
       "0                           NaN                          NaN   \n",
       "1                           NaN                          NaN   \n",
       "2                           NaN                          NaN   \n",
       "3                           NaN                          NaN   \n",
       "4                      0.031068                  -100.278343   \n",
       "\n",
       "   L3_CH4_sensor_zenith_angle  L3_CH4_solar_azimuth_angle  \\\n",
       "0                         NaN                         NaN   \n",
       "1                         NaN                         NaN   \n",
       "2                         NaN                         NaN   \n",
       "3                         NaN                         NaN   \n",
       "4                    41.84708                  -95.910744   \n",
       "\n",
       "   L3_CH4_solar_zenith_angle  \n",
       "0                        NaN  \n",
       "1                        NaN  \n",
       "2                        NaN  \n",
       "3                        NaN  \n",
       "4                  28.498789  \n",
       "\n",
       "[5 rows x 77 columns]"
      ]
     },
     "execution_count": 8,
     "metadata": {},
     "output_type": "execute_result"
    }
   ],
   "source": [
    "test_df.head()"
   ]
  },
  {
   "cell_type": "code",
   "execution_count": 9,
   "id": "1017b008",
   "metadata": {
    "execution": {
     "iopub.execute_input": "2022-07-22T14:55:17.427193Z",
     "iopub.status.busy": "2022-07-22T14:55:17.426951Z",
     "iopub.status.idle": "2022-07-22T14:55:17.431298Z",
     "shell.execute_reply": "2022-07-22T14:55:17.430337Z"
    },
    "papermill": {
     "duration": 0.020451,
     "end_time": "2022-07-22T14:55:17.433490",
     "exception": false,
     "start_time": "2022-07-22T14:55:17.413039",
     "status": "completed"
    },
    "tags": []
   },
   "outputs": [],
   "source": [
    "L=[i for i in train_df.columns if i not in test_df.columns]"
   ]
  },
  {
   "cell_type": "code",
   "execution_count": 10,
   "id": "6aa16fe6",
   "metadata": {
    "execution": {
     "iopub.execute_input": "2022-07-22T14:55:17.461176Z",
     "iopub.status.busy": "2022-07-22T14:55:17.460876Z",
     "iopub.status.idle": "2022-07-22T14:55:17.466570Z",
     "shell.execute_reply": "2022-07-22T14:55:17.465603Z"
    },
    "papermill": {
     "duration": 0.023141,
     "end_time": "2022-07-22T14:55:17.469896",
     "exception": false,
     "start_time": "2022-07-22T14:55:17.446755",
     "status": "completed"
    },
    "tags": []
   },
   "outputs": [
    {
     "data": {
      "text/plain": [
       "['target', 'target_min', 'target_max', 'target_variance', 'target_count']"
      ]
     },
     "execution_count": 10,
     "metadata": {},
     "output_type": "execute_result"
    }
   ],
   "source": [
    "L"
   ]
  },
  {
   "cell_type": "code",
   "execution_count": 11,
   "id": "9bacd211",
   "metadata": {
    "execution": {
     "iopub.execute_input": "2022-07-22T14:55:17.497801Z",
     "iopub.status.busy": "2022-07-22T14:55:17.497556Z",
     "iopub.status.idle": "2022-07-22T14:55:17.508687Z",
     "shell.execute_reply": "2022-07-22T14:55:17.507845Z"
    },
    "papermill": {
     "duration": 0.027263,
     "end_time": "2022-07-22T14:55:17.510445",
     "exception": false,
     "start_time": "2022-07-22T14:55:17.483182",
     "status": "completed"
    },
    "tags": []
   },
   "outputs": [
    {
     "data": {
      "text/plain": [
       "375"
      ]
     },
     "execution_count": 11,
     "metadata": {},
     "output_type": "execute_result"
    }
   ],
   "source": [
    "train_df[\"target\"].nunique()"
   ]
  },
  {
   "cell_type": "code",
   "execution_count": 12,
   "id": "c83f3fef",
   "metadata": {
    "execution": {
     "iopub.execute_input": "2022-07-22T14:55:17.538991Z",
     "iopub.status.busy": "2022-07-22T14:55:17.538223Z",
     "iopub.status.idle": "2022-07-22T14:55:17.560029Z",
     "shell.execute_reply": "2022-07-22T14:55:17.558998Z"
    },
    "papermill": {
     "duration": 0.03823,
     "end_time": "2022-07-22T14:55:17.562209",
     "exception": false,
     "start_time": "2022-07-22T14:55:17.523979",
     "status": "completed"
    },
    "tags": []
   },
   "outputs": [
    {
     "data": {
      "text/plain": [
       "L3_CH4_solar_zenith_angle                              24765\n",
       "L3_CH4_solar_azimuth_angle                             24765\n",
       "L3_CH4_sensor_zenith_angle                             24765\n",
       "L3_CH4_sensor_azimuth_angle                            24765\n",
       "L3_CH4_aerosol_optical_depth                           24765\n",
       "L3_CH4_aerosol_height                                  24765\n",
       "L3_CH4_CH4_column_volume_mixing_ratio_dry_air          24765\n",
       "L3_NO2_tropospheric_NO2_column_number_density           8669\n",
       "L3_HCHO_tropospheric_HCHO_column_number_density_amf     7425\n",
       "L3_HCHO_tropospheric_HCHO_column_number_density         7425\n",
       "L3_HCHO_solar_zenith_angle                              7425\n",
       "L3_HCHO_solar_azimuth_angle                             7425\n",
       "L3_HCHO_sensor_zenith_angle                             7425\n",
       "L3_HCHO_sensor_azimuth_angle                            7425\n",
       "L3_HCHO_cloud_fraction                                  7425\n",
       "L3_HCHO_HCHO_slant_column_number_density                7425\n",
       "L3_SO2_absorbing_aerosol_index                          7308\n",
       "L3_SO2_SO2_slant_column_number_density                  7237\n",
       "L3_SO2_solar_zenith_angle                               7237\n",
       "L3_SO2_SO2_column_number_density_amf                    7237\n",
       "dtype: int64"
      ]
     },
     "execution_count": 12,
     "metadata": {},
     "output_type": "execute_result"
    }
   ],
   "source": [
    "train_df.isna().sum().sort_values(ascending =False).head(20)"
   ]
  },
  {
   "cell_type": "code",
   "execution_count": 13,
   "id": "3e9b7672",
   "metadata": {
    "execution": {
     "iopub.execute_input": "2022-07-22T14:55:17.591863Z",
     "iopub.status.busy": "2022-07-22T14:55:17.591606Z",
     "iopub.status.idle": "2022-07-22T14:55:17.614127Z",
     "shell.execute_reply": "2022-07-22T14:55:17.613154Z"
    },
    "papermill": {
     "duration": 0.040037,
     "end_time": "2022-07-22T14:55:17.616178",
     "exception": false,
     "start_time": "2022-07-22T14:55:17.576141",
     "status": "completed"
    },
    "tags": []
   },
   "outputs": [
    {
     "data": {
      "text/plain": [
       "L3_CH4_solar_zenith_angle                              0.810453\n",
       "L3_CH4_solar_azimuth_angle                             0.810453\n",
       "L3_CH4_sensor_zenith_angle                             0.810453\n",
       "L3_CH4_sensor_azimuth_angle                            0.810453\n",
       "L3_CH4_aerosol_optical_depth                           0.810453\n",
       "L3_CH4_aerosol_height                                  0.810453\n",
       "L3_CH4_CH4_column_volume_mixing_ratio_dry_air          0.810453\n",
       "L3_NO2_tropospheric_NO2_column_number_density          0.283699\n",
       "L3_HCHO_tropospheric_HCHO_column_number_density_amf    0.242989\n",
       "L3_HCHO_tropospheric_HCHO_column_number_density        0.242989\n",
       "L3_HCHO_solar_zenith_angle                             0.242989\n",
       "L3_HCHO_solar_azimuth_angle                            0.242989\n",
       "L3_HCHO_sensor_zenith_angle                            0.242989\n",
       "L3_HCHO_sensor_azimuth_angle                           0.242989\n",
       "L3_HCHO_cloud_fraction                                 0.242989\n",
       "L3_HCHO_HCHO_slant_column_number_density               0.242989\n",
       "L3_SO2_absorbing_aerosol_index                         0.239160\n",
       "L3_SO2_SO2_slant_column_number_density                 0.236836\n",
       "L3_SO2_solar_zenith_angle                              0.236836\n",
       "L3_SO2_SO2_column_number_density_amf                   0.236836\n",
       "dtype: float64"
      ]
     },
     "execution_count": 13,
     "metadata": {},
     "output_type": "execute_result"
    }
   ],
   "source": [
    "train_df.isna().sum().sort_values(ascending =False).head(20)/len(train_df)"
   ]
  },
  {
   "cell_type": "code",
   "execution_count": 14,
   "id": "64bd1a33",
   "metadata": {
    "execution": {
     "iopub.execute_input": "2022-07-22T14:55:17.644393Z",
     "iopub.status.busy": "2022-07-22T14:55:17.644143Z",
     "iopub.status.idle": "2022-07-22T14:55:17.657266Z",
     "shell.execute_reply": "2022-07-22T14:55:17.656476Z"
    },
    "papermill": {
     "duration": 0.029619,
     "end_time": "2022-07-22T14:55:17.659261",
     "exception": false,
     "start_time": "2022-07-22T14:55:17.629642",
     "status": "completed"
    },
    "tags": []
   },
   "outputs": [],
   "source": [
    "train_df.drop([\"L3_CH4_solar_zenith_angle\",\"L3_CH4_solar_azimuth_angle\",\"L3_CH4_sensor_zenith_angle\",\"L3_CH4_sensor_azimuth_angle\",\"L3_CH4_aerosol_optical_depth\",\n",
    "             \"L3_CH4_aerosol_height\",\"L3_CH4_CH4_column_volume_mixing_ratio_dry_air\",\"Place_ID X Date\",\"Place_ID\"], axis=1, inplace=True)\n"
   ]
  },
  {
   "cell_type": "code",
   "execution_count": 15,
   "id": "9c2fe0a4",
   "metadata": {
    "execution": {
     "iopub.execute_input": "2022-07-22T14:55:17.687415Z",
     "iopub.status.busy": "2022-07-22T14:55:17.687163Z",
     "iopub.status.idle": "2022-07-22T14:55:17.692435Z",
     "shell.execute_reply": "2022-07-22T14:55:17.691594Z"
    },
    "papermill": {
     "duration": 0.021213,
     "end_time": "2022-07-22T14:55:17.694260",
     "exception": false,
     "start_time": "2022-07-22T14:55:17.673047",
     "status": "completed"
    },
    "tags": []
   },
   "outputs": [
    {
     "data": {
      "text/plain": [
       "(30557, 73)"
      ]
     },
     "execution_count": 15,
     "metadata": {},
     "output_type": "execute_result"
    }
   ],
   "source": [
    "train_df.shape"
   ]
  },
  {
   "cell_type": "code",
   "execution_count": 16,
   "id": "4e7e4a65",
   "metadata": {
    "execution": {
     "iopub.execute_input": "2022-07-22T14:55:17.723082Z",
     "iopub.status.busy": "2022-07-22T14:55:17.722842Z",
     "iopub.status.idle": "2022-07-22T14:55:17.747602Z",
     "shell.execute_reply": "2022-07-22T14:55:17.746618Z"
    },
    "papermill": {
     "duration": 0.042187,
     "end_time": "2022-07-22T14:55:17.750022",
     "exception": false,
     "start_time": "2022-07-22T14:55:17.707835",
     "status": "completed"
    },
    "tags": []
   },
   "outputs": [
    {
     "data": {
      "text/html": [
       "<div>\n",
       "<style scoped>\n",
       "    .dataframe tbody tr th:only-of-type {\n",
       "        vertical-align: middle;\n",
       "    }\n",
       "\n",
       "    .dataframe tbody tr th {\n",
       "        vertical-align: top;\n",
       "    }\n",
       "\n",
       "    .dataframe thead th {\n",
       "        text-align: right;\n",
       "    }\n",
       "</style>\n",
       "<table border=\"1\" class=\"dataframe\">\n",
       "  <thead>\n",
       "    <tr style=\"text-align: right;\">\n",
       "      <th></th>\n",
       "      <th>Date</th>\n",
       "      <th>target</th>\n",
       "      <th>target_min</th>\n",
       "      <th>target_max</th>\n",
       "      <th>target_variance</th>\n",
       "      <th>target_count</th>\n",
       "      <th>precipitable_water_entire_atmosphere</th>\n",
       "      <th>relative_humidity_2m_above_ground</th>\n",
       "      <th>specific_humidity_2m_above_ground</th>\n",
       "      <th>temperature_2m_above_ground</th>\n",
       "      <th>...</th>\n",
       "      <th>L3_AER_AI_solar_zenith_angle</th>\n",
       "      <th>L3_SO2_SO2_column_number_density</th>\n",
       "      <th>L3_SO2_SO2_column_number_density_amf</th>\n",
       "      <th>L3_SO2_SO2_slant_column_number_density</th>\n",
       "      <th>L3_SO2_absorbing_aerosol_index</th>\n",
       "      <th>L3_SO2_cloud_fraction</th>\n",
       "      <th>L3_SO2_sensor_azimuth_angle</th>\n",
       "      <th>L3_SO2_sensor_zenith_angle</th>\n",
       "      <th>L3_SO2_solar_azimuth_angle</th>\n",
       "      <th>L3_SO2_solar_zenith_angle</th>\n",
       "    </tr>\n",
       "  </thead>\n",
       "  <tbody>\n",
       "    <tr>\n",
       "      <th>0</th>\n",
       "      <td>2020-01-02</td>\n",
       "      <td>38.0</td>\n",
       "      <td>23.0</td>\n",
       "      <td>53.0</td>\n",
       "      <td>769.50</td>\n",
       "      <td>92</td>\n",
       "      <td>11.000000</td>\n",
       "      <td>60.200001</td>\n",
       "      <td>0.00804</td>\n",
       "      <td>18.516840</td>\n",
       "      <td>...</td>\n",
       "      <td>22.358167</td>\n",
       "      <td>-0.000127</td>\n",
       "      <td>0.312521</td>\n",
       "      <td>-0.000040</td>\n",
       "      <td>-1.861476</td>\n",
       "      <td>0.000000</td>\n",
       "      <td>76.536426</td>\n",
       "      <td>38.593017</td>\n",
       "      <td>-61.752587</td>\n",
       "      <td>22.363665</td>\n",
       "    </tr>\n",
       "    <tr>\n",
       "      <th>1</th>\n",
       "      <td>2020-01-03</td>\n",
       "      <td>39.0</td>\n",
       "      <td>25.0</td>\n",
       "      <td>63.0</td>\n",
       "      <td>1319.85</td>\n",
       "      <td>91</td>\n",
       "      <td>14.600000</td>\n",
       "      <td>48.799999</td>\n",
       "      <td>0.00839</td>\n",
       "      <td>22.546533</td>\n",
       "      <td>...</td>\n",
       "      <td>28.614804</td>\n",
       "      <td>0.000150</td>\n",
       "      <td>0.433957</td>\n",
       "      <td>0.000050</td>\n",
       "      <td>-1.452612</td>\n",
       "      <td>0.059433</td>\n",
       "      <td>-14.708036</td>\n",
       "      <td>59.624912</td>\n",
       "      <td>-67.693509</td>\n",
       "      <td>28.614804</td>\n",
       "    </tr>\n",
       "    <tr>\n",
       "      <th>2</th>\n",
       "      <td>2020-01-04</td>\n",
       "      <td>24.0</td>\n",
       "      <td>8.0</td>\n",
       "      <td>56.0</td>\n",
       "      <td>1181.96</td>\n",
       "      <td>96</td>\n",
       "      <td>16.400000</td>\n",
       "      <td>33.400002</td>\n",
       "      <td>0.00750</td>\n",
       "      <td>27.031030</td>\n",
       "      <td>...</td>\n",
       "      <td>34.296977</td>\n",
       "      <td>0.000150</td>\n",
       "      <td>0.356925</td>\n",
       "      <td>0.000053</td>\n",
       "      <td>-1.572950</td>\n",
       "      <td>0.082063</td>\n",
       "      <td>-105.201338</td>\n",
       "      <td>49.839714</td>\n",
       "      <td>-78.342701</td>\n",
       "      <td>34.296977</td>\n",
       "    </tr>\n",
       "    <tr>\n",
       "      <th>3</th>\n",
       "      <td>2020-01-05</td>\n",
       "      <td>49.0</td>\n",
       "      <td>10.0</td>\n",
       "      <td>55.0</td>\n",
       "      <td>1113.67</td>\n",
       "      <td>96</td>\n",
       "      <td>6.911948</td>\n",
       "      <td>21.300001</td>\n",
       "      <td>0.00391</td>\n",
       "      <td>23.971857</td>\n",
       "      <td>...</td>\n",
       "      <td>30.545393</td>\n",
       "      <td>0.000227</td>\n",
       "      <td>0.584522</td>\n",
       "      <td>0.000110</td>\n",
       "      <td>-1.239317</td>\n",
       "      <td>0.121261</td>\n",
       "      <td>-104.334066</td>\n",
       "      <td>29.181258</td>\n",
       "      <td>-73.896588</td>\n",
       "      <td>30.545446</td>\n",
       "    </tr>\n",
       "    <tr>\n",
       "      <th>4</th>\n",
       "      <td>2020-01-06</td>\n",
       "      <td>21.0</td>\n",
       "      <td>9.0</td>\n",
       "      <td>52.0</td>\n",
       "      <td>1164.82</td>\n",
       "      <td>95</td>\n",
       "      <td>13.900001</td>\n",
       "      <td>44.700001</td>\n",
       "      <td>0.00535</td>\n",
       "      <td>16.816309</td>\n",
       "      <td>...</td>\n",
       "      <td>26.899694</td>\n",
       "      <td>0.000390</td>\n",
       "      <td>0.408047</td>\n",
       "      <td>0.000159</td>\n",
       "      <td>0.202489</td>\n",
       "      <td>0.037919</td>\n",
       "      <td>58.850179</td>\n",
       "      <td>0.797294</td>\n",
       "      <td>-68.612480</td>\n",
       "      <td>26.899694</td>\n",
       "    </tr>\n",
       "  </tbody>\n",
       "</table>\n",
       "<p>5 rows × 73 columns</p>\n",
       "</div>"
      ],
      "text/plain": [
       "         Date  target  target_min  target_max  target_variance  target_count  \\\n",
       "0  2020-01-02    38.0        23.0        53.0           769.50            92   \n",
       "1  2020-01-03    39.0        25.0        63.0          1319.85            91   \n",
       "2  2020-01-04    24.0         8.0        56.0          1181.96            96   \n",
       "3  2020-01-05    49.0        10.0        55.0          1113.67            96   \n",
       "4  2020-01-06    21.0         9.0        52.0          1164.82            95   \n",
       "\n",
       "   precipitable_water_entire_atmosphere  relative_humidity_2m_above_ground  \\\n",
       "0                             11.000000                          60.200001   \n",
       "1                             14.600000                          48.799999   \n",
       "2                             16.400000                          33.400002   \n",
       "3                              6.911948                          21.300001   \n",
       "4                             13.900001                          44.700001   \n",
       "\n",
       "   specific_humidity_2m_above_ground  temperature_2m_above_ground  ...  \\\n",
       "0                            0.00804                    18.516840  ...   \n",
       "1                            0.00839                    22.546533  ...   \n",
       "2                            0.00750                    27.031030  ...   \n",
       "3                            0.00391                    23.971857  ...   \n",
       "4                            0.00535                    16.816309  ...   \n",
       "\n",
       "   L3_AER_AI_solar_zenith_angle  L3_SO2_SO2_column_number_density  \\\n",
       "0                     22.358167                         -0.000127   \n",
       "1                     28.614804                          0.000150   \n",
       "2                     34.296977                          0.000150   \n",
       "3                     30.545393                          0.000227   \n",
       "4                     26.899694                          0.000390   \n",
       "\n",
       "   L3_SO2_SO2_column_number_density_amf  \\\n",
       "0                              0.312521   \n",
       "1                              0.433957   \n",
       "2                              0.356925   \n",
       "3                              0.584522   \n",
       "4                              0.408047   \n",
       "\n",
       "   L3_SO2_SO2_slant_column_number_density  L3_SO2_absorbing_aerosol_index  \\\n",
       "0                               -0.000040                       -1.861476   \n",
       "1                                0.000050                       -1.452612   \n",
       "2                                0.000053                       -1.572950   \n",
       "3                                0.000110                       -1.239317   \n",
       "4                                0.000159                        0.202489   \n",
       "\n",
       "   L3_SO2_cloud_fraction  L3_SO2_sensor_azimuth_angle  \\\n",
       "0               0.000000                    76.536426   \n",
       "1               0.059433                   -14.708036   \n",
       "2               0.082063                  -105.201338   \n",
       "3               0.121261                  -104.334066   \n",
       "4               0.037919                    58.850179   \n",
       "\n",
       "   L3_SO2_sensor_zenith_angle  L3_SO2_solar_azimuth_angle  \\\n",
       "0                   38.593017                  -61.752587   \n",
       "1                   59.624912                  -67.693509   \n",
       "2                   49.839714                  -78.342701   \n",
       "3                   29.181258                  -73.896588   \n",
       "4                    0.797294                  -68.612480   \n",
       "\n",
       "   L3_SO2_solar_zenith_angle  \n",
       "0                  22.363665  \n",
       "1                  28.614804  \n",
       "2                  34.296977  \n",
       "3                  30.545446  \n",
       "4                  26.899694  \n",
       "\n",
       "[5 rows x 73 columns]"
      ]
     },
     "execution_count": 16,
     "metadata": {},
     "output_type": "execute_result"
    }
   ],
   "source": [
    "train_df.head()"
   ]
  },
  {
   "cell_type": "code",
   "execution_count": 17,
   "id": "66a5e69a",
   "metadata": {
    "execution": {
     "iopub.execute_input": "2022-07-22T14:55:17.780550Z",
     "iopub.status.busy": "2022-07-22T14:55:17.780281Z",
     "iopub.status.idle": "2022-07-22T14:55:17.809649Z",
     "shell.execute_reply": "2022-07-22T14:55:17.808758Z"
    },
    "papermill": {
     "duration": 0.046072,
     "end_time": "2022-07-22T14:55:17.811763",
     "exception": false,
     "start_time": "2022-07-22T14:55:17.765691",
     "status": "completed"
    },
    "tags": []
   },
   "outputs": [
    {
     "name": "stdout",
     "output_type": "stream",
     "text": [
      "<class 'pandas.core.frame.DataFrame'>\n",
      "RangeIndex: 30557 entries, 0 to 30556\n",
      "Data columns (total 73 columns):\n",
      " #   Column                                               Non-Null Count  Dtype  \n",
      "---  ------                                               --------------  -----  \n",
      " 0   Date                                                 30557 non-null  object \n",
      " 1   target                                               30557 non-null  float64\n",
      " 2   target_min                                           30557 non-null  float64\n",
      " 3   target_max                                           30557 non-null  float64\n",
      " 4   target_variance                                      30557 non-null  float64\n",
      " 5   target_count                                         30557 non-null  int64  \n",
      " 6   precipitable_water_entire_atmosphere                 30557 non-null  float64\n",
      " 7   relative_humidity_2m_above_ground                    30557 non-null  float64\n",
      " 8   specific_humidity_2m_above_ground                    30557 non-null  float64\n",
      " 9   temperature_2m_above_ground                          30557 non-null  float64\n",
      " 10  u_component_of_wind_10m_above_ground                 30557 non-null  float64\n",
      " 11  v_component_of_wind_10m_above_ground                 30557 non-null  float64\n",
      " 12  L3_NO2_NO2_column_number_density                     28368 non-null  float64\n",
      " 13  L3_NO2_NO2_slant_column_number_density               28368 non-null  float64\n",
      " 14  L3_NO2_absorbing_aerosol_index                       28368 non-null  float64\n",
      " 15  L3_NO2_cloud_fraction                                28368 non-null  float64\n",
      " 16  L3_NO2_sensor_altitude                               28368 non-null  float64\n",
      " 17  L3_NO2_sensor_azimuth_angle                          28367 non-null  float64\n",
      " 18  L3_NO2_sensor_zenith_angle                           28367 non-null  float64\n",
      " 19  L3_NO2_solar_azimuth_angle                           28367 non-null  float64\n",
      " 20  L3_NO2_solar_zenith_angle                            28367 non-null  float64\n",
      " 21  L3_NO2_stratospheric_NO2_column_number_density       28367 non-null  float64\n",
      " 22  L3_NO2_tropopause_pressure                           28367 non-null  float64\n",
      " 23  L3_NO2_tropospheric_NO2_column_number_density        21888 non-null  float64\n",
      " 24  L3_O3_O3_column_number_density                       30274 non-null  float64\n",
      " 25  L3_O3_O3_effective_temperature                       30274 non-null  float64\n",
      " 26  L3_O3_cloud_fraction                                 30274 non-null  float64\n",
      " 27  L3_O3_sensor_azimuth_angle                           30274 non-null  float64\n",
      " 28  L3_O3_sensor_zenith_angle                            30274 non-null  float64\n",
      " 29  L3_O3_solar_azimuth_angle                            30274 non-null  float64\n",
      " 30  L3_O3_solar_zenith_angle                             30274 non-null  float64\n",
      " 31  L3_CO_CO_column_number_density                       25134 non-null  float64\n",
      " 32  L3_CO_H2O_column_number_density                      25134 non-null  float64\n",
      " 33  L3_CO_cloud_height                                   25134 non-null  float64\n",
      " 34  L3_CO_sensor_altitude                                25134 non-null  float64\n",
      " 35  L3_CO_sensor_azimuth_angle                           25134 non-null  float64\n",
      " 36  L3_CO_sensor_zenith_angle                            25134 non-null  float64\n",
      " 37  L3_CO_solar_azimuth_angle                            25134 non-null  float64\n",
      " 38  L3_CO_solar_zenith_angle                             25134 non-null  float64\n",
      " 39  L3_HCHO_HCHO_slant_column_number_density             23132 non-null  float64\n",
      " 40  L3_HCHO_cloud_fraction                               23132 non-null  float64\n",
      " 41  L3_HCHO_sensor_azimuth_angle                         23132 non-null  float64\n",
      " 42  L3_HCHO_sensor_zenith_angle                          23132 non-null  float64\n",
      " 43  L3_HCHO_solar_azimuth_angle                          23132 non-null  float64\n",
      " 44  L3_HCHO_solar_zenith_angle                           23132 non-null  float64\n",
      " 45  L3_HCHO_tropospheric_HCHO_column_number_density      23132 non-null  float64\n",
      " 46  L3_HCHO_tropospheric_HCHO_column_number_density_amf  23132 non-null  float64\n",
      " 47  L3_CLOUD_cloud_base_height                           29035 non-null  float64\n",
      " 48  L3_CLOUD_cloud_base_pressure                         29035 non-null  float64\n",
      " 49  L3_CLOUD_cloud_fraction                              30183 non-null  float64\n",
      " 50  L3_CLOUD_cloud_optical_depth                         29035 non-null  float64\n",
      " 51  L3_CLOUD_cloud_top_height                            29035 non-null  float64\n",
      " 52  L3_CLOUD_cloud_top_pressure                          29035 non-null  float64\n",
      " 53  L3_CLOUD_sensor_azimuth_angle                        30183 non-null  float64\n",
      " 54  L3_CLOUD_sensor_zenith_angle                         30183 non-null  float64\n",
      " 55  L3_CLOUD_solar_azimuth_angle                         30183 non-null  float64\n",
      " 56  L3_CLOUD_solar_zenith_angle                          30183 non-null  float64\n",
      " 57  L3_CLOUD_surface_albedo                              29035 non-null  float64\n",
      " 58  L3_AER_AI_absorbing_aerosol_index                    30360 non-null  float64\n",
      " 59  L3_AER_AI_sensor_altitude                            30360 non-null  float64\n",
      " 60  L3_AER_AI_sensor_azimuth_angle                       30360 non-null  float64\n",
      " 61  L3_AER_AI_sensor_zenith_angle                        30360 non-null  float64\n",
      " 62  L3_AER_AI_solar_azimuth_angle                        30360 non-null  float64\n",
      " 63  L3_AER_AI_solar_zenith_angle                         30360 non-null  float64\n",
      " 64  L3_SO2_SO2_column_number_density                     23320 non-null  float64\n",
      " 65  L3_SO2_SO2_column_number_density_amf                 23320 non-null  float64\n",
      " 66  L3_SO2_SO2_slant_column_number_density               23320 non-null  float64\n",
      " 67  L3_SO2_absorbing_aerosol_index                       23249 non-null  float64\n",
      " 68  L3_SO2_cloud_fraction                                23320 non-null  float64\n",
      " 69  L3_SO2_sensor_azimuth_angle                          23320 non-null  float64\n",
      " 70  L3_SO2_sensor_zenith_angle                           23320 non-null  float64\n",
      " 71  L3_SO2_solar_azimuth_angle                           23320 non-null  float64\n",
      " 72  L3_SO2_solar_zenith_angle                            23320 non-null  float64\n",
      "dtypes: float64(71), int64(1), object(1)\n",
      "memory usage: 17.0+ MB\n"
     ]
    }
   ],
   "source": [
    "train_df.info()"
   ]
  },
  {
   "cell_type": "code",
   "execution_count": 18,
   "id": "876d25fd",
   "metadata": {
    "execution": {
     "iopub.execute_input": "2022-07-22T14:55:17.842038Z",
     "iopub.status.busy": "2022-07-22T14:55:17.841791Z",
     "iopub.status.idle": "2022-07-22T14:55:17.845822Z",
     "shell.execute_reply": "2022-07-22T14:55:17.844864Z"
    },
    "papermill": {
     "duration": 0.0209,
     "end_time": "2022-07-22T14:55:17.847698",
     "exception": false,
     "start_time": "2022-07-22T14:55:17.826798",
     "status": "completed"
    },
    "tags": []
   },
   "outputs": [],
   "source": [
    "# import caalltegory_encoders as ce\n",
    "# ordenc=ce.OrdinalEncoder(cols=['Espèce'])\n",
    "# train_df=ordenc.fit_transform(train_df)\n",
    "# Test=ordenc.fit_transform(Test)"
   ]
  },
  {
   "cell_type": "code",
   "execution_count": 19,
   "id": "64971968",
   "metadata": {
    "execution": {
     "iopub.execute_input": "2022-07-22T14:55:17.880873Z",
     "iopub.status.busy": "2022-07-22T14:55:17.880630Z",
     "iopub.status.idle": "2022-07-22T14:55:17.911788Z",
     "shell.execute_reply": "2022-07-22T14:55:17.910907Z"
    },
    "papermill": {
     "duration": 0.048955,
     "end_time": "2022-07-22T14:55:17.913742",
     "exception": false,
     "start_time": "2022-07-22T14:55:17.864787",
     "status": "completed"
    },
    "tags": []
   },
   "outputs": [],
   "source": [
    "import datetime as dt\n",
    "train_df[\"Date\"]=pd.to_datetime(train_df[\"Date\"])\n",
    "train_df['Date_year'] =train_df[\"Date\"].dt.year\n",
    "train_df['Date_month'] = train_df[\"Date\"].dt.month\n",
    "train_df['Date_day'] = train_df[\"Date\"].dt.day\n",
    "train_df.drop(\"Date\", axis=1, inplace=True)"
   ]
  },
  {
   "cell_type": "code",
   "execution_count": 20,
   "id": "9a06754c",
   "metadata": {
    "execution": {
     "iopub.execute_input": "2022-07-22T14:55:17.943348Z",
     "iopub.status.busy": "2022-07-22T14:55:17.943095Z",
     "iopub.status.idle": "2022-07-22T14:55:17.946852Z",
     "shell.execute_reply": "2022-07-22T14:55:17.945939Z"
    },
    "papermill": {
     "duration": 0.020856,
     "end_time": "2022-07-22T14:55:17.948738",
     "exception": false,
     "start_time": "2022-07-22T14:55:17.927882",
     "status": "completed"
    },
    "tags": []
   },
   "outputs": [],
   "source": [
    "# from sklearn.experimental import enable_iterative_imputer\n",
    "# from sklearn.impute import IterativeImputer\n",
    "# from sklearn.ensemble import RandomForestRegressor\n",
    "# estimator=RandomForestRegressor(max_depth=8)\n",
    "# mice = IterativeImputer(estimator=estimator,random_state=11,skip_complete=True)\n",
    "# # impdata=mice.fit_transform(train_df)\n",
    "# # impdata=pd.DataFrame(impdata,columns=train_df.columns)"
   ]
  },
  {
   "cell_type": "code",
   "execution_count": 21,
   "id": "41c8eb6e",
   "metadata": {
    "execution": {
     "iopub.execute_input": "2022-07-22T14:55:17.979018Z",
     "iopub.status.busy": "2022-07-22T14:55:17.978195Z",
     "iopub.status.idle": "2022-07-22T14:55:17.989291Z",
     "shell.execute_reply": "2022-07-22T14:55:17.988490Z"
    },
    "papermill": {
     "duration": 0.028347,
     "end_time": "2022-07-22T14:55:17.991210",
     "exception": false,
     "start_time": "2022-07-22T14:55:17.962863",
     "status": "completed"
    },
    "tags": []
   },
   "outputs": [],
   "source": [
    "df_train=train_df.drop(\"target\",axis=1)"
   ]
  },
  {
   "cell_type": "code",
   "execution_count": 22,
   "id": "81af7705",
   "metadata": {
    "execution": {
     "iopub.execute_input": "2022-07-22T14:55:18.020978Z",
     "iopub.status.busy": "2022-07-22T14:55:18.020431Z",
     "iopub.status.idle": "2022-07-22T14:55:18.045246Z",
     "shell.execute_reply": "2022-07-22T14:55:18.044455Z"
    },
    "papermill": {
     "duration": 0.041722,
     "end_time": "2022-07-22T14:55:18.047147",
     "exception": false,
     "start_time": "2022-07-22T14:55:18.005425",
     "status": "completed"
    },
    "tags": []
   },
   "outputs": [],
   "source": [
    "test_df.drop([\"L3_CH4_solar_zenith_angle\",\"L3_CH4_solar_azimuth_angle\",\"L3_CH4_sensor_zenith_angle\",\"L3_CH4_sensor_azimuth_angle\",\"L3_CH4_aerosol_optical_depth\",\n",
    "             \"L3_CH4_aerosol_height\",\"L3_CH4_CH4_column_volume_mixing_ratio_dry_air\",\"Place_ID X Date\",\"Place_ID\"], axis=1, inplace=True)\n",
    "\n",
    "test_df[\"Date\"]=pd.to_datetime(test_df[\"Date\"])\n",
    "test_df['Date_year'] =test_df[\"Date\"].dt.year\n",
    "test_df['Date_month'] = test_df[\"Date\"].dt.month\n",
    "test_df['Date_day'] = test_df[\"Date\"].dt.day\n",
    "test_df.drop(\"Date\", axis=1, inplace=True)\n",
    "# test_impdata=mice.transform(test_df)\n",
    "# test_imputed=pd.DataFrame(test_impdata,columns=train_df.columns)"
   ]
  },
  {
   "cell_type": "code",
   "execution_count": 23,
   "id": "3b915126",
   "metadata": {
    "execution": {
     "iopub.execute_input": "2022-07-22T14:55:18.077354Z",
     "iopub.status.busy": "2022-07-22T14:55:18.077102Z",
     "iopub.status.idle": "2022-07-22T14:55:18.081008Z",
     "shell.execute_reply": "2022-07-22T14:55:18.080102Z"
    },
    "papermill": {
     "duration": 0.020963,
     "end_time": "2022-07-22T14:55:18.082981",
     "exception": false,
     "start_time": "2022-07-22T14:55:18.062018",
     "status": "completed"
    },
    "tags": []
   },
   "outputs": [],
   "source": [
    "df_test=test_df"
   ]
  },
  {
   "cell_type": "code",
   "execution_count": 24,
   "id": "0225190b",
   "metadata": {
    "execution": {
     "iopub.execute_input": "2022-07-22T14:55:18.113398Z",
     "iopub.status.busy": "2022-07-22T14:55:18.113088Z",
     "iopub.status.idle": "2022-07-22T14:55:18.118028Z",
     "shell.execute_reply": "2022-07-22T14:55:18.117051Z"
    },
    "papermill": {
     "duration": 0.022679,
     "end_time": "2022-07-22T14:55:18.120097",
     "exception": false,
     "start_time": "2022-07-22T14:55:18.097418",
     "status": "completed"
    },
    "tags": []
   },
   "outputs": [],
   "source": [
    "y_train = train_df[[\"target\"]]"
   ]
  },
  {
   "cell_type": "code",
   "execution_count": 25,
   "id": "edf4be06",
   "metadata": {
    "execution": {
     "iopub.execute_input": "2022-07-22T14:55:18.153662Z",
     "iopub.status.busy": "2022-07-22T14:55:18.151894Z",
     "iopub.status.idle": "2022-07-22T14:55:18.157058Z",
     "shell.execute_reply": "2022-07-22T14:55:18.156027Z"
    },
    "papermill": {
     "duration": 0.024224,
     "end_time": "2022-07-22T14:55:18.159216",
     "exception": false,
     "start_time": "2022-07-22T14:55:18.134992",
     "status": "completed"
    },
    "tags": []
   },
   "outputs": [],
   "source": [
    "# X_train = np.array(train)\n",
    "# y_train = np.array(train_df[[\"target\"]])\n",
    "# X_test = np.array(test_df)"
   ]
  },
  {
   "cell_type": "code",
   "execution_count": 26,
   "id": "12614370",
   "metadata": {
    "execution": {
     "iopub.execute_input": "2022-07-22T14:55:18.191839Z",
     "iopub.status.busy": "2022-07-22T14:55:18.191563Z",
     "iopub.status.idle": "2022-07-22T14:55:18.205434Z",
     "shell.execute_reply": "2022-07-22T14:55:18.204506Z"
    },
    "papermill": {
     "duration": 0.032611,
     "end_time": "2022-07-22T14:55:18.207592",
     "exception": false,
     "start_time": "2022-07-22T14:55:18.174981",
     "status": "completed"
    },
    "tags": []
   },
   "outputs": [
    {
     "data": {
      "text/plain": [
       "target_min                                 0\n",
       "target_max                                 0\n",
       "target_variance                            0\n",
       "target_count                               0\n",
       "precipitable_water_entire_atmosphere       0\n",
       "                                        ... \n",
       "L3_SO2_solar_azimuth_angle              7237\n",
       "L3_SO2_solar_zenith_angle               7237\n",
       "Date_year                                  0\n",
       "Date_month                                 0\n",
       "Date_day                                   0\n",
       "Length: 74, dtype: int64"
      ]
     },
     "execution_count": 26,
     "metadata": {},
     "output_type": "execute_result"
    }
   ],
   "source": [
    "df_train.isna().sum()"
   ]
  },
  {
   "cell_type": "code",
   "execution_count": 27,
   "id": "c69f301b",
   "metadata": {
    "execution": {
     "iopub.execute_input": "2022-07-22T14:55:18.239979Z",
     "iopub.status.busy": "2022-07-22T14:55:18.239718Z",
     "iopub.status.idle": "2022-07-22T14:56:38.740607Z",
     "shell.execute_reply": "2022-07-22T14:56:38.739637Z"
    },
    "papermill": {
     "duration": 80.520627,
     "end_time": "2022-07-22T14:56:38.743431",
     "exception": false,
     "start_time": "2022-07-22T14:55:18.222804",
     "status": "completed"
    },
    "tags": []
   },
   "outputs": [],
   "source": [
    "import random\n",
    "missing_values = df_train.columns[df_train.isna().any()].to_list()\n",
    "for each in missing_values:\n",
    "    if (df_train[each].dtypes =='float64'):\n",
    "        minimum= int(df_train[each].quantile(0.25))\n",
    "        maximum= int(df_train[each].quantile(0.75))\n",
    "        A=df_train[df_train[each].isnull()].index.tolist()\n",
    "        for i in A:\n",
    "            df_train.loc[i,each]=random.randint(minimum,maximum)\n",
    "        df_train[each]=pd.to_numeric(df_train[each])\n",
    "   \n",
    "\n",
    "    elif(df_train[each].dtypes == 'object'):\n",
    "        if ('True' in str(df_train[each].str.contains('No').unique().tolist())):\n",
    "            df_train[each].fillna('No',inplace=True)\n",
    "        elif('True' in str(df_train[each].str.contains('None').unique().tolist())):\n",
    "            df_train[each].fillna('None',inplace=True)\n",
    "        elif('True' in str(df_train[each].str.contains('Unf').unique().tolist())):\n",
    "            df_train[each].fillna('Unf',inplace=True)\n",
    "        else:\n",
    "            A=df_train[df_train[each].isnull()].index.tolist()\n",
    "            unique = df_train[each].unique().tolist()\n",
    "            unique=pd.Series(unique).dropna().tolist()\n",
    "            for i in A:\n",
    "                df_train.loc[i,each]=random.choice(unique)\n",
    "\n",
    "\n",
    "missing_values = df_test.columns[df_test.isna().any()].to_list()\n",
    "for each in missing_values:\n",
    "    if (df_test[each].dtypes =='float64'):\n",
    "        minimum= int(df_test[each].quantile(0.25))\n",
    "        maximum= int(df_test[each].quantile(0.75))\n",
    "        A=df_test[df_test[each].isnull()].index.tolist()\n",
    "        for i in A:\n",
    "            df_test.loc[i,each]=random.randint(minimum,maximum)\n",
    "        df_test[each]=pd.to_numeric(df_test[each])\n",
    "   \n",
    "\n",
    "    elif(df_test[each].dtypes == 'object'):\n",
    "        if ('True' in str(df_test[each].str.contains('No').unique().tolist())):\n",
    "            df_test[each].fillna('No',inplace=True)\n",
    "        elif('True' in str(df_test[each].str.contains('None').unique().tolist())):\n",
    "            df_test[each].fillna('None',inplace=True)\n",
    "        elif('True' in str(df_test[each].str.contains('Unf').unique().tolist())):\n",
    "            df_test[each].fillna('Unf',inplace=True)\n",
    "        else:\n",
    "            A=df_test[df_test[each].isnull()].index.tolist()\n",
    "            unique = df_test[each].unique().tolist()\n",
    "            unique=pd.Series(unique).dropna().tolist()\n",
    "            for i in A:\n",
    "                df_test.loc[i,each]=random.choice(unique)"
   ]
  },
  {
   "cell_type": "code",
   "execution_count": 28,
   "id": "f0a6ca2e",
   "metadata": {
    "execution": {
     "iopub.execute_input": "2022-07-22T14:56:38.775500Z",
     "iopub.status.busy": "2022-07-22T14:56:38.775179Z",
     "iopub.status.idle": "2022-07-22T14:56:38.821459Z",
     "shell.execute_reply": "2022-07-22T14:56:38.820496Z"
    },
    "papermill": {
     "duration": 0.064865,
     "end_time": "2022-07-22T14:56:38.823865",
     "exception": false,
     "start_time": "2022-07-22T14:56:38.759000",
     "status": "completed"
    },
    "tags": []
   },
   "outputs": [],
   "source": [
    "from sklearn.preprocessing import MinMaxScaler\n",
    "mms = MinMaxScaler()\n",
    "X_train = mms.fit_transform(df_train)\n",
    "X_test = mms.fit_transform(df_test)\n"
   ]
  },
  {
   "cell_type": "code",
   "execution_count": 29,
   "id": "da6eee37",
   "metadata": {
    "execution": {
     "iopub.execute_input": "2022-07-22T14:56:38.855310Z",
     "iopub.status.busy": "2022-07-22T14:56:38.854329Z",
     "iopub.status.idle": "2022-07-22T14:56:38.862277Z",
     "shell.execute_reply": "2022-07-22T14:56:38.861482Z"
    },
    "papermill": {
     "duration": 0.025098,
     "end_time": "2022-07-22T14:56:38.864263",
     "exception": false,
     "start_time": "2022-07-22T14:56:38.839165",
     "status": "completed"
    },
    "tags": []
   },
   "outputs": [],
   "source": [
    "y_train = mms.fit_transform(y_train)"
   ]
  },
  {
   "cell_type": "code",
   "execution_count": 30,
   "id": "8cfc6c29",
   "metadata": {
    "execution": {
     "iopub.execute_input": "2022-07-22T14:56:38.896927Z",
     "iopub.status.busy": "2022-07-22T14:56:38.896657Z",
     "iopub.status.idle": "2022-07-22T14:56:38.903570Z",
     "shell.execute_reply": "2022-07-22T14:56:38.902591Z"
    },
    "papermill": {
     "duration": 0.025861,
     "end_time": "2022-07-22T14:56:38.905766",
     "exception": false,
     "start_time": "2022-07-22T14:56:38.879905",
     "status": "completed"
    },
    "tags": []
   },
   "outputs": [
    {
     "data": {
      "text/plain": [
       "((16136, 70), (30557, 74))"
      ]
     },
     "execution_count": 30,
     "metadata": {},
     "output_type": "execute_result"
    }
   ],
   "source": [
    "X_test.shape, X_train.shape"
   ]
  },
  {
   "cell_type": "code",
   "execution_count": 31,
   "id": "0ecdfe6d",
   "metadata": {
    "execution": {
     "iopub.execute_input": "2022-07-22T14:56:38.936037Z",
     "iopub.status.busy": "2022-07-22T14:56:38.935770Z",
     "iopub.status.idle": "2022-07-22T14:56:38.953953Z",
     "shell.execute_reply": "2022-07-22T14:56:38.953095Z"
    },
    "papermill": {
     "duration": 0.035928,
     "end_time": "2022-07-22T14:56:38.956219",
     "exception": false,
     "start_time": "2022-07-22T14:56:38.920291",
     "status": "completed"
    },
    "tags": []
   },
   "outputs": [],
   "source": [
    "from sklearn.model_selection import train_test_split\n",
    "xtrain, xtest, ytrain, ytest = train_test_split(X_train, y_train, test_size=0.1)"
   ]
  },
  {
   "cell_type": "code",
   "execution_count": 32,
   "id": "d279eeda",
   "metadata": {
    "execution": {
     "iopub.execute_input": "2022-07-22T14:56:38.986247Z",
     "iopub.status.busy": "2022-07-22T14:56:38.985984Z",
     "iopub.status.idle": "2022-07-22T14:56:39.277083Z",
     "shell.execute_reply": "2022-07-22T14:56:39.275738Z"
    },
    "papermill": {
     "duration": 0.309601,
     "end_time": "2022-07-22T14:56:39.280439",
     "exception": false,
     "start_time": "2022-07-22T14:56:38.970838",
     "status": "completed"
    },
    "tags": []
   },
   "outputs": [],
   "source": [
    "from sklearn.decomposition import PCA\n",
    "pca = PCA()\n",
    "rd_xtrain = pca.fit_transform(xtrain)\n",
    "rd_xtest = pca.transform(xtest)"
   ]
  },
  {
   "cell_type": "code",
   "execution_count": 33,
   "id": "15a22547",
   "metadata": {
    "execution": {
     "iopub.execute_input": "2022-07-22T14:56:39.377511Z",
     "iopub.status.busy": "2022-07-22T14:56:39.377018Z",
     "iopub.status.idle": "2022-07-22T14:56:39.480225Z",
     "shell.execute_reply": "2022-07-22T14:56:39.479124Z"
    },
    "papermill": {
     "duration": 0.152906,
     "end_time": "2022-07-22T14:56:39.483158",
     "exception": false,
     "start_time": "2022-07-22T14:56:39.330252",
     "status": "completed"
    },
    "tags": []
   },
   "outputs": [],
   "source": [
    "x_test=pca.fit_transform(X_test)[:,:20]"
   ]
  },
  {
   "cell_type": "code",
   "execution_count": 34,
   "id": "a117d9df",
   "metadata": {
    "execution": {
     "iopub.execute_input": "2022-07-22T14:56:39.539413Z",
     "iopub.status.busy": "2022-07-22T14:56:39.538963Z",
     "iopub.status.idle": "2022-07-22T14:56:39.546076Z",
     "shell.execute_reply": "2022-07-22T14:56:39.545155Z"
    },
    "papermill": {
     "duration": 0.037942,
     "end_time": "2022-07-22T14:56:39.548533",
     "exception": false,
     "start_time": "2022-07-22T14:56:39.510591",
     "status": "completed"
    },
    "tags": []
   },
   "outputs": [
    {
     "data": {
      "text/plain": [
       "(16136, 20)"
      ]
     },
     "execution_count": 34,
     "metadata": {},
     "output_type": "execute_result"
    }
   ],
   "source": [
    "x_test.shape"
   ]
  },
  {
   "cell_type": "code",
   "execution_count": 35,
   "id": "22c40754",
   "metadata": {
    "execution": {
     "iopub.execute_input": "2022-07-22T14:56:39.603301Z",
     "iopub.status.busy": "2022-07-22T14:56:39.602939Z",
     "iopub.status.idle": "2022-07-22T14:56:39.609699Z",
     "shell.execute_reply": "2022-07-22T14:56:39.608788Z"
    },
    "papermill": {
     "duration": 0.036544,
     "end_time": "2022-07-22T14:56:39.611597",
     "exception": false,
     "start_time": "2022-07-22T14:56:39.575053",
     "status": "completed"
    },
    "tags": []
   },
   "outputs": [
    {
     "data": {
      "text/plain": [
       "(70,)"
      ]
     },
     "execution_count": 35,
     "metadata": {},
     "output_type": "execute_result"
    }
   ],
   "source": [
    "explained_variance=pca.explained_variance_ratio_\n",
    "explained_variance.shape"
   ]
  },
  {
   "cell_type": "code",
   "execution_count": 36,
   "id": "7ead641c",
   "metadata": {
    "execution": {
     "iopub.execute_input": "2022-07-22T14:56:39.642575Z",
     "iopub.status.busy": "2022-07-22T14:56:39.641863Z",
     "iopub.status.idle": "2022-07-22T14:56:39.645788Z",
     "shell.execute_reply": "2022-07-22T14:56:39.644854Z"
    },
    "papermill": {
     "duration": 0.021653,
     "end_time": "2022-07-22T14:56:39.647704",
     "exception": false,
     "start_time": "2022-07-22T14:56:39.626051",
     "status": "completed"
    },
    "tags": []
   },
   "outputs": [],
   "source": [
    "# with plt.style.context('dark_background'):\n",
    "#     plt.figure(figsize=(12, 6))\n",
    "\n",
    "#     plt.bar(range(74), explained_variance, alpha=0.5, align='center',label='individual explained variance')\n",
    "#     plt.ylabel('Explained variance ratio')\n",
    "#     plt.xlabel('Principal components')\n",
    "#     plt.legend(loc='best')\n",
    "#     plt.tight_layout()"
   ]
  },
  {
   "cell_type": "code",
   "execution_count": 37,
   "id": "f9d2a8f2",
   "metadata": {
    "execution": {
     "iopub.execute_input": "2022-07-22T14:56:39.678360Z",
     "iopub.status.busy": "2022-07-22T14:56:39.677675Z",
     "iopub.status.idle": "2022-07-22T14:56:39.682219Z",
     "shell.execute_reply": "2022-07-22T14:56:39.681459Z"
    },
    "papermill": {
     "duration": 0.021934,
     "end_time": "2022-07-22T14:56:39.684102",
     "exception": false,
     "start_time": "2022-07-22T14:56:39.662168",
     "status": "completed"
    },
    "tags": []
   },
   "outputs": [],
   "source": [
    "xtrain_ = rd_xtrain[:, :20]\n",
    "xtest_ = rd_xtest[:, :20]"
   ]
  },
  {
   "cell_type": "code",
   "execution_count": 38,
   "id": "01d3ba32",
   "metadata": {
    "execution": {
     "iopub.execute_input": "2022-07-22T14:56:39.715360Z",
     "iopub.status.busy": "2022-07-22T14:56:39.714621Z",
     "iopub.status.idle": "2022-07-22T14:56:39.721089Z",
     "shell.execute_reply": "2022-07-22T14:56:39.720216Z"
    },
    "papermill": {
     "duration": 0.02426,
     "end_time": "2022-07-22T14:56:39.722966",
     "exception": false,
     "start_time": "2022-07-22T14:56:39.698706",
     "status": "completed"
    },
    "tags": []
   },
   "outputs": [
    {
     "data": {
      "text/plain": [
       "((27501, 20), (3056, 20))"
      ]
     },
     "execution_count": 38,
     "metadata": {},
     "output_type": "execute_result"
    }
   ],
   "source": [
    "xtrain_.shape, xtest_.shape"
   ]
  },
  {
   "cell_type": "markdown",
   "id": "e895a438",
   "metadata": {
    "papermill": {
     "duration": 0.014297,
     "end_time": "2022-07-22T14:56:39.751787",
     "exception": false,
     "start_time": "2022-07-22T14:56:39.737490",
     "status": "completed"
    },
    "tags": []
   },
   "source": [
    "****"
   ]
  },
  {
   "cell_type": "code",
   "execution_count": 39,
   "id": "66b2f6f8",
   "metadata": {
    "execution": {
     "iopub.execute_input": "2022-07-22T14:56:39.782519Z",
     "iopub.status.busy": "2022-07-22T14:56:39.782242Z",
     "iopub.status.idle": "2022-07-22T14:57:23.312720Z",
     "shell.execute_reply": "2022-07-22T14:57:23.311680Z"
    },
    "papermill": {
     "duration": 43.548533,
     "end_time": "2022-07-22T14:57:23.315392",
     "exception": false,
     "start_time": "2022-07-22T14:56:39.766859",
     "status": "completed"
    },
    "tags": []
   },
   "outputs": [],
   "source": [
    "from sklearn.ensemble import RandomForestRegressor\n",
    "Rf = RandomForestRegressor(min_samples_split=15)\n",
    "Rf.fit(xtrain_, ytrain)\n",
    "ypred=Rf.predict(xtest_)"
   ]
  },
  {
   "cell_type": "code",
   "execution_count": 40,
   "id": "600c29be",
   "metadata": {
    "execution": {
     "iopub.execute_input": "2022-07-22T14:57:23.347018Z",
     "iopub.status.busy": "2022-07-22T14:57:23.346728Z",
     "iopub.status.idle": "2022-07-22T14:57:23.353370Z",
     "shell.execute_reply": "2022-07-22T14:57:23.352512Z"
    },
    "papermill": {
     "duration": 0.024151,
     "end_time": "2022-07-22T14:57:23.355258",
     "exception": false,
     "start_time": "2022-07-22T14:57:23.331107",
     "status": "completed"
    },
    "tags": []
   },
   "outputs": [
    {
     "data": {
      "text/plain": [
       "0.033585816215595164"
      ]
     },
     "execution_count": 40,
     "metadata": {},
     "output_type": "execute_result"
    }
   ],
   "source": [
    "from sklearn.metrics import mean_absolute_error\n",
    "mean_absolute_error(ytest, ypred)"
   ]
  },
  {
   "cell_type": "code",
   "execution_count": 41,
   "id": "972ec7ad",
   "metadata": {
    "execution": {
     "iopub.execute_input": "2022-07-22T14:57:23.386019Z",
     "iopub.status.busy": "2022-07-22T14:57:23.385752Z",
     "iopub.status.idle": "2022-07-22T14:57:26.760793Z",
     "shell.execute_reply": "2022-07-22T14:57:26.759858Z"
    },
    "papermill": {
     "duration": 3.393129,
     "end_time": "2022-07-22T14:57:26.763253",
     "exception": false,
     "start_time": "2022-07-22T14:57:23.370124",
     "status": "completed"
    },
    "tags": []
   },
   "outputs": [
    {
     "data": {
      "text/plain": [
       "RandomForestRegressor(min_samples_split=15)"
      ]
     },
     "execution_count": 41,
     "metadata": {},
     "output_type": "execute_result"
    }
   ],
   "source": [
    "Rf.fit(xtest_, ytest)"
   ]
  },
  {
   "cell_type": "code",
   "execution_count": 42,
   "id": "0cf276c9",
   "metadata": {
    "execution": {
     "iopub.execute_input": "2022-07-22T14:57:26.795521Z",
     "iopub.status.busy": "2022-07-22T14:57:26.795215Z",
     "iopub.status.idle": "2022-07-22T14:57:26.968630Z",
     "shell.execute_reply": "2022-07-22T14:57:26.967750Z"
    },
    "papermill": {
     "duration": 0.191846,
     "end_time": "2022-07-22T14:57:26.970782",
     "exception": false,
     "start_time": "2022-07-22T14:57:26.778936",
     "status": "completed"
    },
    "tags": []
   },
   "outputs": [],
   "source": [
    "y_pred4 = Rf.predict(x_test) \n",
    "y_pred_original4 = mms.inverse_transform(y_pred4.reshape(-1,1))\n",
    "y_pred_original4=y_pred_original4.tolist()\n",
    "y_pred_original4=[i[0] for i in y_pred_original4]"
   ]
  },
  {
   "cell_type": "code",
   "execution_count": 43,
   "id": "d032230a",
   "metadata": {
    "execution": {
     "iopub.execute_input": "2022-07-22T14:57:27.001913Z",
     "iopub.status.busy": "2022-07-22T14:57:27.001634Z",
     "iopub.status.idle": "2022-07-22T14:57:27.062620Z",
     "shell.execute_reply": "2022-07-22T14:57:27.061682Z"
    },
    "papermill": {
     "duration": 0.078848,
     "end_time": "2022-07-22T14:57:27.064570",
     "exception": false,
     "start_time": "2022-07-22T14:57:26.985722",
     "status": "completed"
    },
    "tags": []
   },
   "outputs": [],
   "source": [
    "submission = pd.DataFrame({'Place_ID X Date\t': Id,'target': y_pred_original4})\n",
    "submission.to_csv('submission4.csv', index=False)"
   ]
  },
  {
   "cell_type": "markdown",
   "id": "a53c57b2",
   "metadata": {
    "papermill": {
     "duration": 0.014408,
     "end_time": "2022-07-22T14:57:27.094188",
     "exception": false,
     "start_time": "2022-07-22T14:57:27.079780",
     "status": "completed"
    },
    "tags": []
   },
   "source": [
    "****"
   ]
  },
  {
   "cell_type": "code",
   "execution_count": 44,
   "id": "c5659f09",
   "metadata": {
    "execution": {
     "iopub.execute_input": "2022-07-22T14:57:27.124800Z",
     "iopub.status.busy": "2022-07-22T14:57:27.124524Z",
     "iopub.status.idle": "2022-07-22T14:57:27.914929Z",
     "shell.execute_reply": "2022-07-22T14:57:27.913774Z"
    },
    "papermill": {
     "duration": 0.80896,
     "end_time": "2022-07-22T14:57:27.917963",
     "exception": false,
     "start_time": "2022-07-22T14:57:27.109003",
     "status": "completed"
    },
    "tags": []
   },
   "outputs": [],
   "source": [
    "from sklearn.tree import DecisionTreeRegressor\n",
    "tree = DecisionTreeRegressor(random_state=1)\n",
    "tree.fit(xtrain_, ytrain)\n",
    "ypredtest =tree.predict(xtest_)"
   ]
  },
  {
   "cell_type": "code",
   "execution_count": 45,
   "id": "94d47b6a",
   "metadata": {
    "execution": {
     "iopub.execute_input": "2022-07-22T14:57:27.950067Z",
     "iopub.status.busy": "2022-07-22T14:57:27.949774Z",
     "iopub.status.idle": "2022-07-22T14:57:27.957336Z",
     "shell.execute_reply": "2022-07-22T14:57:27.956275Z"
    },
    "papermill": {
     "duration": 0.025467,
     "end_time": "2022-07-22T14:57:27.959493",
     "exception": false,
     "start_time": "2022-07-22T14:57:27.934026",
     "status": "completed"
    },
    "tags": []
   },
   "outputs": [
    {
     "data": {
      "text/plain": [
       "0.045359714486023384"
      ]
     },
     "execution_count": 45,
     "metadata": {},
     "output_type": "execute_result"
    }
   ],
   "source": [
    "mean_absolute_error(ytest, ypredtest)"
   ]
  },
  {
   "cell_type": "code",
   "execution_count": 46,
   "id": "bae5dc48",
   "metadata": {
    "execution": {
     "iopub.execute_input": "2022-07-22T14:57:27.992114Z",
     "iopub.status.busy": "2022-07-22T14:57:27.990652Z",
     "iopub.status.idle": "2022-07-22T14:57:28.530726Z",
     "shell.execute_reply": "2022-07-22T14:57:28.529624Z"
    },
    "papermill": {
     "duration": 0.558519,
     "end_time": "2022-07-22T14:57:28.533282",
     "exception": false,
     "start_time": "2022-07-22T14:57:27.974763",
     "status": "completed"
    },
    "tags": []
   },
   "outputs": [],
   "source": [
    "treee = DecisionTreeRegressor(max_depth=20, max_features=0.8, min_samples_split=15,\n",
    "                      random_state=1)\n",
    "treee.fit(xtrain_, ytrain)\n",
    "ypred_tr =treee.predict(xtest_)"
   ]
  },
  {
   "cell_type": "code",
   "execution_count": 47,
   "id": "9f225a72",
   "metadata": {
    "execution": {
     "iopub.execute_input": "2022-07-22T14:57:28.566818Z",
     "iopub.status.busy": "2022-07-22T14:57:28.566533Z",
     "iopub.status.idle": "2022-07-22T14:57:28.573288Z",
     "shell.execute_reply": "2022-07-22T14:57:28.572416Z"
    },
    "papermill": {
     "duration": 0.025621,
     "end_time": "2022-07-22T14:57:28.575234",
     "exception": false,
     "start_time": "2022-07-22T14:57:28.549613",
     "status": "completed"
    },
    "tags": []
   },
   "outputs": [
    {
     "data": {
      "text/plain": [
       "0.041738607444859896"
      ]
     },
     "execution_count": 47,
     "metadata": {},
     "output_type": "execute_result"
    }
   ],
   "source": [
    "mean_absolute_error(ytest, ypred_tr)"
   ]
  },
  {
   "cell_type": "code",
   "execution_count": 48,
   "id": "69c228b7",
   "metadata": {
    "execution": {
     "iopub.execute_input": "2022-07-22T14:57:28.607433Z",
     "iopub.status.busy": "2022-07-22T14:57:28.606645Z",
     "iopub.status.idle": "2022-07-22T14:57:28.619390Z",
     "shell.execute_reply": "2022-07-22T14:57:28.618594Z"
    },
    "papermill": {
     "duration": 0.030394,
     "end_time": "2022-07-22T14:57:28.621238",
     "exception": false,
     "start_time": "2022-07-22T14:57:28.590844",
     "status": "completed"
    },
    "tags": []
   },
   "outputs": [],
   "source": [
    "y_pred4 = treee.predict(x_test) \n",
    "y_pred_original4 = mms.inverse_transform(y_pred4.reshape(-1,1))\n",
    "y_pred_original4=y_pred_original4.tolist()\n",
    "y_pred_original4=[i[0] for i in y_pred_original4]"
   ]
  },
  {
   "cell_type": "code",
   "execution_count": 49,
   "id": "56a9ceea",
   "metadata": {
    "execution": {
     "iopub.execute_input": "2022-07-22T14:57:28.652763Z",
     "iopub.status.busy": "2022-07-22T14:57:28.652514Z",
     "iopub.status.idle": "2022-07-22T14:57:28.709485Z",
     "shell.execute_reply": "2022-07-22T14:57:28.708661Z"
    },
    "papermill": {
     "duration": 0.075252,
     "end_time": "2022-07-22T14:57:28.711247",
     "exception": false,
     "start_time": "2022-07-22T14:57:28.635995",
     "status": "completed"
    },
    "tags": []
   },
   "outputs": [],
   "source": [
    "submission = pd.DataFrame({'Place_ID X Date\t': Id,'target': y_pred_original4})\n",
    "submission.to_csv('submission5.csv', index=False)"
   ]
  },
  {
   "cell_type": "markdown",
   "id": "50adb5b5",
   "metadata": {
    "papermill": {
     "duration": 0.015103,
     "end_time": "2022-07-22T14:57:28.742196",
     "exception": false,
     "start_time": "2022-07-22T14:57:28.727093",
     "status": "completed"
    },
    "tags": []
   },
   "source": [
    "****"
   ]
  },
  {
   "cell_type": "code",
   "execution_count": 50,
   "id": "1743f609",
   "metadata": {
    "execution": {
     "iopub.execute_input": "2022-07-22T14:57:28.773467Z",
     "iopub.status.busy": "2022-07-22T14:57:28.773193Z",
     "iopub.status.idle": "2022-07-22T15:18:34.934146Z",
     "shell.execute_reply": "2022-07-22T15:18:34.933201Z"
    },
    "papermill": {
     "duration": 1266.179867,
     "end_time": "2022-07-22T15:18:34.936888",
     "exception": false,
     "start_time": "2022-07-22T14:57:28.757021",
     "status": "completed"
    },
    "tags": []
   },
   "outputs": [],
   "source": [
    "from sklearn.ensemble import BaggingRegressor, RandomForestRegressor\n",
    "model =BaggingRegressor(base_estimator=RandomForestRegressor(max_depth=8, max_features=0.8, min_samples_split=15,\n",
    "                      random_state=1), n_estimators=100)\n",
    "model.fit(xtrain_, ytrain)\n",
    "\n",
    "bgpred =model.predict(xtest_)\n",
    "mean_absolute_error(ytest, bgpred)\n",
    "y_pred = model.predict(x_test) \n",
    "y_pred_original = mms.inverse_transform(y_pred.reshape(-1,1))\n",
    "y_pred_original=y_pred_original.tolist()\n",
    "y_pred_original=[i[0] for i in y_pred_original]\n",
    "submission = pd.DataFrame({'Place_ID X Date\t': Id,'target': y_pred_original})\n",
    "submission.to_csv('submission6.csv', index=False)"
   ]
  },
  {
   "cell_type": "markdown",
   "id": "b9614ef3",
   "metadata": {
    "papermill": {
     "duration": 0.015479,
     "end_time": "2022-07-22T15:18:34.969553",
     "exception": false,
     "start_time": "2022-07-22T15:18:34.954074",
     "status": "completed"
    },
    "tags": []
   },
   "source": [
    "****"
   ]
  },
  {
   "cell_type": "code",
   "execution_count": 51,
   "id": "cf69b5d3",
   "metadata": {
    "execution": {
     "iopub.execute_input": "2022-07-22T15:18:35.002090Z",
     "iopub.status.busy": "2022-07-22T15:18:35.001526Z",
     "iopub.status.idle": "2022-07-22T15:18:35.005761Z",
     "shell.execute_reply": "2022-07-22T15:18:35.004819Z"
    },
    "papermill": {
     "duration": 0.022699,
     "end_time": "2022-07-22T15:18:35.007575",
     "exception": false,
     "start_time": "2022-07-22T15:18:34.984876",
     "status": "completed"
    },
    "tags": []
   },
   "outputs": [],
   "source": [
    "# from sklearn.ensemble import AdaBoostRegressor, GradientBoostingRegressor\n",
    "# model2= AdaBoostRegressor(n_estimators=100)\n",
    "# model2.fit(xtrain_, ytrain)\n",
    "# dpred =model2.predict(xtest_)\n",
    "# mean_absolute_error(ytest, dpred)\n",
    "# y_predd = model2.predict(x_test) \n",
    "# y_pred_originall = mms.inverse_transform(y_predd.reshape(-1,1))\n",
    "# y_pred_originall=y_pred_originall.tolist()\n",
    "# y_pred_originall=[i[0] for i in y_pred_originall]\n",
    "# submission = pd.DataFrame({'Place_ID X Date\t': Id,'target': y_pred_originall})\n",
    "# submission.to_csv('submission7.csv', index=False)\n",
    "# #nope"
   ]
  },
  {
   "cell_type": "code",
   "execution_count": null,
   "id": "241616a8",
   "metadata": {
    "execution": {
     "iopub.execute_input": "2022-07-22T14:46:24.197382Z",
     "iopub.status.busy": "2022-07-22T14:46:24.196745Z",
     "iopub.status.idle": "2022-07-22T14:46:24.368810Z",
     "shell.execute_reply": "2022-07-22T14:46:24.367852Z",
     "shell.execute_reply.started": "2022-07-22T14:46:24.197341Z"
    },
    "papermill": {
     "duration": 0.015002,
     "end_time": "2022-07-22T15:18:35.037388",
     "exception": false,
     "start_time": "2022-07-22T15:18:35.022386",
     "status": "completed"
    },
    "tags": []
   },
   "outputs": [],
   "source": []
  },
  {
   "cell_type": "code",
   "execution_count": null,
   "id": "a940730d",
   "metadata": {
    "execution": {
     "iopub.execute_input": "2022-07-22T14:52:12.120936Z",
     "iopub.status.busy": "2022-07-22T14:52:12.120555Z",
     "iopub.status.idle": "2022-07-22T14:52:12.189259Z",
     "shell.execute_reply": "2022-07-22T14:52:12.188289Z",
     "shell.execute_reply.started": "2022-07-22T14:52:12.120906Z"
    },
    "papermill": {
     "duration": 0.015107,
     "end_time": "2022-07-22T15:18:35.067777",
     "exception": false,
     "start_time": "2022-07-22T15:18:35.052670",
     "status": "completed"
    },
    "tags": []
   },
   "outputs": [],
   "source": []
  },
  {
   "cell_type": "code",
   "execution_count": null,
   "id": "7c630990",
   "metadata": {
    "papermill": {
     "duration": 0.014843,
     "end_time": "2022-07-22T15:18:35.097475",
     "exception": false,
     "start_time": "2022-07-22T15:18:35.082632",
     "status": "completed"
    },
    "tags": []
   },
   "outputs": [],
   "source": []
  }
 ],
 "metadata": {
  "kernelspec": {
   "display_name": "Python 3",
   "language": "python",
   "name": "python3"
  },
  "language_info": {
   "codemirror_mode": {
    "name": "ipython",
    "version": 3
   },
   "file_extension": ".py",
   "mimetype": "text/x-python",
   "name": "python",
   "nbconvert_exporter": "python",
   "pygments_lexer": "ipython3",
   "version": "3.7.12"
  },
  "papermill": {
   "default_parameters": {},
   "duration": 1416.908837,
   "end_time": "2022-07-22T15:18:38.328863",
   "environment_variables": {},
   "exception": null,
   "input_path": "__notebook__.ipynb",
   "output_path": "__notebook__.ipynb",
   "parameters": {},
   "start_time": "2022-07-22T14:55:01.420026",
   "version": "2.3.4"
  }
 },
 "nbformat": 4,
 "nbformat_minor": 5
}
