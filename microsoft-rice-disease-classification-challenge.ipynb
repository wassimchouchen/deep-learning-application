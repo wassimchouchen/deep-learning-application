{
 "cells": [
  {
   "cell_type": "code",
   "execution_count": 1,
   "id": "cbcff3cb",
   "metadata": {
    "_cell_guid": "b1076dfc-b9ad-4769-8c92-a6c4dae69d19",
    "_uuid": "8f2839f25d086af736a60e9eeb907d3b93b6e0e5",
    "execution": {
     "iopub.execute_input": "2022-08-05T11:42:01.415787Z",
     "iopub.status.busy": "2022-08-05T11:42:01.415047Z",
     "iopub.status.idle": "2022-08-05T11:42:09.304280Z",
     "shell.execute_reply": "2022-08-05T11:42:09.302917Z"
    },
    "papermill": {
     "duration": 7.89811,
     "end_time": "2022-08-05T11:42:09.307611",
     "exception": false,
     "start_time": "2022-08-05T11:42:01.409501",
     "status": "completed"
    },
    "tags": []
   },
   "outputs": [],
   "source": [
    "import numpy as np\n",
    "import pandas as pd\n",
    "import matplotlib.pyplot as plt\n",
    "import os\n",
    "import shutil\n",
    "import tensorflow as tf\n",
    "import pathlib\n",
    "import PIL\n",
    "import time\n",
    "import zipfile\n",
    "import random\n",
    "from tensorflow import keras as ks\n",
    "from tensorflow.keras.layers import *\n",
    "from keras.utils.np_utils import to_categorical \n",
    "from keras.models import Sequential\n",
    "from keras.preprocessing.image import ImageDataGenerator\n",
    "from keras.callbacks import ReduceLROnPlateau\n",
    "from sklearn.model_selection import train_test_split\n",
    "import warnings\n",
    "warnings.filterwarnings('ignore')"
   ]
  },
  {
   "cell_type": "code",
   "execution_count": 2,
   "id": "0b744249",
   "metadata": {
    "execution": {
     "iopub.execute_input": "2022-08-05T11:42:09.315035Z",
     "iopub.status.busy": "2022-08-05T11:42:09.314359Z",
     "iopub.status.idle": "2022-08-05T11:42:09.355281Z",
     "shell.execute_reply": "2022-08-05T11:42:09.354246Z"
    },
    "papermill": {
     "duration": 0.047452,
     "end_time": "2022-08-05T11:42:09.358135",
     "exception": false,
     "start_time": "2022-08-05T11:42:09.310683",
     "status": "completed"
    },
    "tags": []
   },
   "outputs": [],
   "source": [
    "train_df=pd.read_csv(\"../input/microsoft-rice-disease-classification-challenge/Train (6).csv\")\n",
    "test_df=pd.read_csv(\"../input/microsoft-rice-disease-classification-challenge/Test (8).csv\")\n",
    "sub=pd.read_csv(\"../input/microsoft-rice-disease-classification-challenge/SampleSubmission (4).csv\")"
   ]
  },
  {
   "cell_type": "code",
   "execution_count": 3,
   "id": "40e0aaef",
   "metadata": {
    "execution": {
     "iopub.execute_input": "2022-08-05T11:42:09.365000Z",
     "iopub.status.busy": "2022-08-05T11:42:09.364559Z",
     "iopub.status.idle": "2022-08-05T11:42:09.387331Z",
     "shell.execute_reply": "2022-08-05T11:42:09.385945Z"
    },
    "papermill": {
     "duration": 0.029711,
     "end_time": "2022-08-05T11:42:09.390617",
     "exception": false,
     "start_time": "2022-08-05T11:42:09.360906",
     "status": "completed"
    },
    "tags": []
   },
   "outputs": [
    {
     "data": {
      "text/html": [
       "<div>\n",
       "<style scoped>\n",
       "    .dataframe tbody tr th:only-of-type {\n",
       "        vertical-align: middle;\n",
       "    }\n",
       "\n",
       "    .dataframe tbody tr th {\n",
       "        vertical-align: top;\n",
       "    }\n",
       "\n",
       "    .dataframe thead th {\n",
       "        text-align: right;\n",
       "    }\n",
       "</style>\n",
       "<table border=\"1\" class=\"dataframe\">\n",
       "  <thead>\n",
       "    <tr style=\"text-align: right;\">\n",
       "      <th></th>\n",
       "      <th>Image_id</th>\n",
       "      <th>Label</th>\n",
       "    </tr>\n",
       "  </thead>\n",
       "  <tbody>\n",
       "    <tr>\n",
       "      <th>0</th>\n",
       "      <td>id_004wknd7qd.jpg</td>\n",
       "      <td>blast</td>\n",
       "    </tr>\n",
       "    <tr>\n",
       "      <th>1</th>\n",
       "      <td>id_004wknd7qd_rgn.jpg</td>\n",
       "      <td>blast</td>\n",
       "    </tr>\n",
       "    <tr>\n",
       "      <th>2</th>\n",
       "      <td>id_005sitfgr2.jpg</td>\n",
       "      <td>brown</td>\n",
       "    </tr>\n",
       "    <tr>\n",
       "      <th>3</th>\n",
       "      <td>id_005sitfgr2_rgn.jpg</td>\n",
       "      <td>brown</td>\n",
       "    </tr>\n",
       "    <tr>\n",
       "      <th>4</th>\n",
       "      <td>id_00stp9t6m6.jpg</td>\n",
       "      <td>blast</td>\n",
       "    </tr>\n",
       "    <tr>\n",
       "      <th>...</th>\n",
       "      <td>...</td>\n",
       "      <td>...</td>\n",
       "    </tr>\n",
       "    <tr>\n",
       "      <th>5335</th>\n",
       "      <td>id_zz6gzk7p97_rgn.jpg</td>\n",
       "      <td>brown</td>\n",
       "    </tr>\n",
       "    <tr>\n",
       "      <th>5336</th>\n",
       "      <td>id_zz8ca2p67e.jpg</td>\n",
       "      <td>blast</td>\n",
       "    </tr>\n",
       "    <tr>\n",
       "      <th>5337</th>\n",
       "      <td>id_zz8ca2p67e_rgn.jpg</td>\n",
       "      <td>blast</td>\n",
       "    </tr>\n",
       "    <tr>\n",
       "      <th>5338</th>\n",
       "      <td>id_zzt8y9q0x0.jpg</td>\n",
       "      <td>brown</td>\n",
       "    </tr>\n",
       "    <tr>\n",
       "      <th>5339</th>\n",
       "      <td>id_zzt8y9q0x0_rgn.jpg</td>\n",
       "      <td>brown</td>\n",
       "    </tr>\n",
       "  </tbody>\n",
       "</table>\n",
       "<p>5340 rows × 2 columns</p>\n",
       "</div>"
      ],
      "text/plain": [
       "                   Image_id  Label\n",
       "0         id_004wknd7qd.jpg  blast\n",
       "1     id_004wknd7qd_rgn.jpg  blast\n",
       "2         id_005sitfgr2.jpg  brown\n",
       "3     id_005sitfgr2_rgn.jpg  brown\n",
       "4         id_00stp9t6m6.jpg  blast\n",
       "...                     ...    ...\n",
       "5335  id_zz6gzk7p97_rgn.jpg  brown\n",
       "5336      id_zz8ca2p67e.jpg  blast\n",
       "5337  id_zz8ca2p67e_rgn.jpg  blast\n",
       "5338      id_zzt8y9q0x0.jpg  brown\n",
       "5339  id_zzt8y9q0x0_rgn.jpg  brown\n",
       "\n",
       "[5340 rows x 2 columns]"
      ]
     },
     "execution_count": 3,
     "metadata": {},
     "output_type": "execute_result"
    }
   ],
   "source": [
    "train_df"
   ]
  },
  {
   "cell_type": "code",
   "execution_count": 4,
   "id": "5f116be8",
   "metadata": {
    "execution": {
     "iopub.execute_input": "2022-08-05T11:42:09.398073Z",
     "iopub.status.busy": "2022-08-05T11:42:09.397690Z",
     "iopub.status.idle": "2022-08-05T11:42:09.405725Z",
     "shell.execute_reply": "2022-08-05T11:42:09.404422Z"
    },
    "papermill": {
     "duration": 0.014647,
     "end_time": "2022-08-05T11:42:09.408248",
     "exception": false,
     "start_time": "2022-08-05T11:42:09.393601",
     "status": "completed"
    },
    "tags": []
   },
   "outputs": [],
   "source": [
    "Id=test_df[\"Image_id\"]"
   ]
  },
  {
   "cell_type": "code",
   "execution_count": 5,
   "id": "775dc195",
   "metadata": {
    "execution": {
     "iopub.execute_input": "2022-08-05T11:42:09.415313Z",
     "iopub.status.busy": "2022-08-05T11:42:09.414952Z",
     "iopub.status.idle": "2022-08-05T11:42:09.425468Z",
     "shell.execute_reply": "2022-08-05T11:42:09.424418Z"
    },
    "papermill": {
     "duration": 0.016527,
     "end_time": "2022-08-05T11:42:09.427699",
     "exception": false,
     "start_time": "2022-08-05T11:42:09.411172",
     "status": "completed"
    },
    "tags": []
   },
   "outputs": [
    {
     "data": {
      "text/plain": [
       "array(['blast', 'brown', 'healthy'], dtype=object)"
      ]
     },
     "execution_count": 5,
     "metadata": {},
     "output_type": "execute_result"
    }
   ],
   "source": [
    "train_df.Label.unique()"
   ]
  },
  {
   "cell_type": "code",
   "execution_count": 6,
   "id": "aa324fdd",
   "metadata": {
    "execution": {
     "iopub.execute_input": "2022-08-05T11:42:09.435004Z",
     "iopub.status.busy": "2022-08-05T11:42:09.434635Z",
     "iopub.status.idle": "2022-08-05T11:42:09.447079Z",
     "shell.execute_reply": "2022-08-05T11:42:09.445696Z"
    },
    "papermill": {
     "duration": 0.018906,
     "end_time": "2022-08-05T11:42:09.449533",
     "exception": false,
     "start_time": "2022-08-05T11:42:09.430627",
     "status": "completed"
    },
    "tags": []
   },
   "outputs": [
    {
     "data": {
      "text/plain": [
       "blast      2988\n",
       "brown      1532\n",
       "healthy     820\n",
       "Name: Label, dtype: int64"
      ]
     },
     "execution_count": 6,
     "metadata": {},
     "output_type": "execute_result"
    }
   ],
   "source": [
    "train_df.Label.value_counts()"
   ]
  },
  {
   "cell_type": "code",
   "execution_count": null,
   "id": "914e108a",
   "metadata": {
    "papermill": {
     "duration": 0.002613,
     "end_time": "2022-08-05T11:42:09.455209",
     "exception": false,
     "start_time": "2022-08-05T11:42:09.452596",
     "status": "completed"
    },
    "tags": []
   },
   "outputs": [],
   "source": []
  }
 ],
 "metadata": {
  "kernelspec": {
   "display_name": "Python 3",
   "language": "python",
   "name": "python3"
  },
  "language_info": {
   "codemirror_mode": {
    "name": "ipython",
    "version": 3
   },
   "file_extension": ".py",
   "mimetype": "text/x-python",
   "name": "python",
   "nbconvert_exporter": "python",
   "pygments_lexer": "ipython3",
   "version": "3.7.12"
  },
  "papermill": {
   "default_parameters": {},
   "duration": 20.702689,
   "end_time": "2022-08-05T11:42:12.205004",
   "environment_variables": {},
   "exception": null,
   "input_path": "__notebook__.ipynb",
   "output_path": "__notebook__.ipynb",
   "parameters": {},
   "start_time": "2022-08-05T11:41:51.502315",
   "version": "2.3.4"
  }
 },
 "nbformat": 4,
 "nbformat_minor": 5
}
