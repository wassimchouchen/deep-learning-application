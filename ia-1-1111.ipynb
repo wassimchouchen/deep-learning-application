{
 "cells": [
  {
   "cell_type": "code",
   "execution_count": 1,
   "id": "a42e09d8",
   "metadata": {
    "execution": {
     "iopub.execute_input": "2022-07-18T08:16:22.863742Z",
     "iopub.status.busy": "2022-07-18T08:16:22.862949Z",
     "iopub.status.idle": "2022-07-18T08:16:22.880574Z",
     "shell.execute_reply": "2022-07-18T08:16:22.879323Z"
    },
    "papermill": {
     "duration": 0.03249,
     "end_time": "2022-07-18T08:16:22.883269",
     "exception": false,
     "start_time": "2022-07-18T08:16:22.850779",
     "status": "completed"
    },
    "tags": []
   },
   "outputs": [
    {
     "name": "stdout",
     "output_type": "stream",
     "text": [
      "/kaggle/input/ia-hackathonn/SampleSubmission.csv\n",
      "/kaggle/input/ia-hackathonn/Train (2).csv\n",
      "/kaggle/input/ia-hackathonn/Test (4).csv\n"
     ]
    }
   ],
   "source": [
    "import pandas as pd\n",
    "import numpy as np\n",
    "import os\n",
    "for dirname, _, filenames in os.walk('/kaggle/input'):\n",
    "    for filename in filenames:\n",
    "        print(os.path.join(dirname, filename))"
   ]
  },
  {
   "cell_type": "code",
   "execution_count": 2,
   "id": "0858d31a",
   "metadata": {
    "execution": {
     "iopub.execute_input": "2022-07-18T08:16:22.904637Z",
     "iopub.status.busy": "2022-07-18T08:16:22.903656Z",
     "iopub.status.idle": "2022-07-18T08:16:23.981036Z",
     "shell.execute_reply": "2022-07-18T08:16:23.980026Z"
    },
    "papermill": {
     "duration": 1.090358,
     "end_time": "2022-07-18T08:16:23.983828",
     "exception": false,
     "start_time": "2022-07-18T08:16:22.893470",
     "status": "completed"
    },
    "tags": []
   },
   "outputs": [],
   "source": [
    "import pandas as pd\n",
    "import numpy as np\n",
    "import matplotlib.pyplot as plt\n",
    "import seaborn as sns"
   ]
  },
  {
   "cell_type": "markdown",
   "id": "6c5bd8f8",
   "metadata": {
    "papermill": {
     "duration": 0.009472,
     "end_time": "2022-07-18T08:16:24.003630",
     "exception": false,
     "start_time": "2022-07-18T08:16:23.994158",
     "status": "completed"
    },
    "tags": []
   },
   "source": [
    "Importing the dataset"
   ]
  },
  {
   "cell_type": "code",
   "execution_count": 3,
   "id": "33db03c2",
   "metadata": {
    "execution": {
     "iopub.execute_input": "2022-07-18T08:16:24.025282Z",
     "iopub.status.busy": "2022-07-18T08:16:24.023788Z",
     "iopub.status.idle": "2022-07-18T08:16:27.144116Z",
     "shell.execute_reply": "2022-07-18T08:16:27.143151Z"
    },
    "papermill": {
     "duration": 3.13344,
     "end_time": "2022-07-18T08:16:27.146522",
     "exception": false,
     "start_time": "2022-07-18T08:16:24.013082",
     "status": "completed"
    },
    "tags": []
   },
   "outputs": [],
   "source": [
    "df_train = pd.read_csv('../input/ia-hackathonn/Train (2).csv')\n",
    "df_test = pd.read_csv('../input/ia-hackathonn/Test (4).csv')"
   ]
  },
  {
   "cell_type": "code",
   "execution_count": 4,
   "id": "e02bfade",
   "metadata": {
    "execution": {
     "iopub.execute_input": "2022-07-18T08:16:27.169577Z",
     "iopub.status.busy": "2022-07-18T08:16:27.167739Z",
     "iopub.status.idle": "2022-07-18T08:16:27.176721Z",
     "shell.execute_reply": "2022-07-18T08:16:27.175601Z"
    },
    "papermill": {
     "duration": 0.022741,
     "end_time": "2022-07-18T08:16:27.179047",
     "exception": false,
     "start_time": "2022-07-18T08:16:27.156306",
     "status": "completed"
    },
    "tags": []
   },
   "outputs": [
    {
     "data": {
      "text/plain": [
       "(2898, 1795)"
      ]
     },
     "execution_count": 4,
     "metadata": {},
     "output_type": "execute_result"
    }
   ],
   "source": [
    "df_train.shape"
   ]
  },
  {
   "cell_type": "code",
   "execution_count": 5,
   "id": "5cfe57eb",
   "metadata": {
    "execution": {
     "iopub.execute_input": "2022-07-18T08:16:27.201500Z",
     "iopub.status.busy": "2022-07-18T08:16:27.199928Z",
     "iopub.status.idle": "2022-07-18T08:16:27.207867Z",
     "shell.execute_reply": "2022-07-18T08:16:27.207043Z"
    },
    "papermill": {
     "duration": 0.020425,
     "end_time": "2022-07-18T08:16:27.209733",
     "exception": false,
     "start_time": "2022-07-18T08:16:27.189308",
     "status": "completed"
    },
    "tags": []
   },
   "outputs": [
    {
     "data": {
      "text/plain": [
       "(1242, 1793)"
      ]
     },
     "execution_count": 5,
     "metadata": {},
     "output_type": "execute_result"
    }
   ],
   "source": [
    "df_test.shape"
   ]
  },
  {
   "cell_type": "code",
   "execution_count": 6,
   "id": "c18d8d95",
   "metadata": {
    "execution": {
     "iopub.execute_input": "2022-07-18T08:16:27.230655Z",
     "iopub.status.busy": "2022-07-18T08:16:27.230366Z",
     "iopub.status.idle": "2022-07-18T08:16:27.260746Z",
     "shell.execute_reply": "2022-07-18T08:16:27.259684Z"
    },
    "papermill": {
     "duration": 0.04332,
     "end_time": "2022-07-18T08:16:27.263023",
     "exception": false,
     "start_time": "2022-07-18T08:16:27.219703",
     "status": "completed"
    },
    "tags": []
   },
   "outputs": [
    {
     "data": {
      "text/html": [
       "<div>\n",
       "<style scoped>\n",
       "    .dataframe tbody tr th:only-of-type {\n",
       "        vertical-align: middle;\n",
       "    }\n",
       "\n",
       "    .dataframe tbody tr th {\n",
       "        vertical-align: top;\n",
       "    }\n",
       "\n",
       "    .dataframe thead th {\n",
       "        text-align: right;\n",
       "    }\n",
       "</style>\n",
       "<table border=\"1\" class=\"dataframe\">\n",
       "  <thead>\n",
       "    <tr style=\"text-align: right;\">\n",
       "      <th></th>\n",
       "      <th>ID</th>\n",
       "      <th>channel_0_timestep_0</th>\n",
       "      <th>channel_0_timestep_1</th>\n",
       "      <th>channel_0_timestep_2</th>\n",
       "      <th>channel_0_timestep_3</th>\n",
       "      <th>channel_0_timestep_4</th>\n",
       "      <th>channel_0_timestep_5</th>\n",
       "      <th>channel_0_timestep_6</th>\n",
       "      <th>channel_0_timestep_7</th>\n",
       "      <th>channel_0_timestep_8</th>\n",
       "      <th>...</th>\n",
       "      <th>channel_13_timestep_120</th>\n",
       "      <th>channel_13_timestep_121</th>\n",
       "      <th>channel_13_timestep_122</th>\n",
       "      <th>channel_13_timestep_123</th>\n",
       "      <th>channel_13_timestep_124</th>\n",
       "      <th>channel_13_timestep_125</th>\n",
       "      <th>channel_13_timestep_126</th>\n",
       "      <th>channel_13_timestep_127</th>\n",
       "      <th>valence</th>\n",
       "      <th>arousal</th>\n",
       "    </tr>\n",
       "  </thead>\n",
       "  <tbody>\n",
       "    <tr>\n",
       "      <th>0</th>\n",
       "      <td>1826</td>\n",
       "      <td>0.666593</td>\n",
       "      <td>-0.127720</td>\n",
       "      <td>0.030188</td>\n",
       "      <td>0.872432</td>\n",
       "      <td>0.066428</td>\n",
       "      <td>-0.688929</td>\n",
       "      <td>0.351763</td>\n",
       "      <td>0.962038</td>\n",
       "      <td>1.171841</td>\n",
       "      <td>...</td>\n",
       "      <td>4.268692</td>\n",
       "      <td>4.296591</td>\n",
       "      <td>0.405264</td>\n",
       "      <td>-2.827268</td>\n",
       "      <td>-2.004783</td>\n",
       "      <td>1.276288</td>\n",
       "      <td>2.222049</td>\n",
       "      <td>0.158765</td>\n",
       "      <td>5.0</td>\n",
       "      <td>6.0</td>\n",
       "    </tr>\n",
       "    <tr>\n",
       "      <th>1</th>\n",
       "      <td>1959</td>\n",
       "      <td>1.439036</td>\n",
       "      <td>2.939323</td>\n",
       "      <td>4.450541</td>\n",
       "      <td>4.889985</td>\n",
       "      <td>2.808758</td>\n",
       "      <td>0.174926</td>\n",
       "      <td>-0.264143</td>\n",
       "      <td>-0.265241</td>\n",
       "      <td>-2.430413</td>\n",
       "      <td>...</td>\n",
       "      <td>-2.719914</td>\n",
       "      <td>1.040441</td>\n",
       "      <td>0.272578</td>\n",
       "      <td>0.103977</td>\n",
       "      <td>3.468313</td>\n",
       "      <td>6.880353</td>\n",
       "      <td>8.626653</td>\n",
       "      <td>9.982868</td>\n",
       "      <td>1.0</td>\n",
       "      <td>7.0</td>\n",
       "    </tr>\n",
       "    <tr>\n",
       "      <th>2</th>\n",
       "      <td>688</td>\n",
       "      <td>-6.873479</td>\n",
       "      <td>2.620711</td>\n",
       "      <td>6.368775</td>\n",
       "      <td>-0.753867</td>\n",
       "      <td>0.504129</td>\n",
       "      <td>8.989532</td>\n",
       "      <td>6.353325</td>\n",
       "      <td>-0.452068</td>\n",
       "      <td>-1.600631</td>\n",
       "      <td>...</td>\n",
       "      <td>0.051793</td>\n",
       "      <td>-5.156834</td>\n",
       "      <td>-18.325062</td>\n",
       "      <td>2.098055</td>\n",
       "      <td>17.815147</td>\n",
       "      <td>0.043855</td>\n",
       "      <td>-3.858117</td>\n",
       "      <td>17.348724</td>\n",
       "      <td>1.0</td>\n",
       "      <td>6.0</td>\n",
       "    </tr>\n",
       "    <tr>\n",
       "      <th>3</th>\n",
       "      <td>765</td>\n",
       "      <td>7.343672</td>\n",
       "      <td>-1.043033</td>\n",
       "      <td>3.394326</td>\n",
       "      <td>12.075764</td>\n",
       "      <td>2.094330</td>\n",
       "      <td>-6.726448</td>\n",
       "      <td>-2.849046</td>\n",
       "      <td>-2.859351</td>\n",
       "      <td>-3.247879</td>\n",
       "      <td>...</td>\n",
       "      <td>11.696478</td>\n",
       "      <td>5.142235</td>\n",
       "      <td>-2.881666</td>\n",
       "      <td>-3.570459</td>\n",
       "      <td>-4.366352</td>\n",
       "      <td>-4.056002</td>\n",
       "      <td>-1.489292</td>\n",
       "      <td>-2.761847</td>\n",
       "      <td>2.0</td>\n",
       "      <td>8.0</td>\n",
       "    </tr>\n",
       "    <tr>\n",
       "      <th>4</th>\n",
       "      <td>610</td>\n",
       "      <td>8.988179</td>\n",
       "      <td>1.338421</td>\n",
       "      <td>-2.789729</td>\n",
       "      <td>-4.878788</td>\n",
       "      <td>-7.294619</td>\n",
       "      <td>-6.117245</td>\n",
       "      <td>-3.501986</td>\n",
       "      <td>-3.073579</td>\n",
       "      <td>0.061395</td>\n",
       "      <td>...</td>\n",
       "      <td>5.989770</td>\n",
       "      <td>5.809627</td>\n",
       "      <td>4.878367</td>\n",
       "      <td>3.895410</td>\n",
       "      <td>0.987760</td>\n",
       "      <td>0.012008</td>\n",
       "      <td>-0.732414</td>\n",
       "      <td>-3.816425</td>\n",
       "      <td>1.0</td>\n",
       "      <td>7.0</td>\n",
       "    </tr>\n",
       "  </tbody>\n",
       "</table>\n",
       "<p>5 rows × 1795 columns</p>\n",
       "</div>"
      ],
      "text/plain": [
       "     ID  channel_0_timestep_0  channel_0_timestep_1  channel_0_timestep_2  \\\n",
       "0  1826              0.666593             -0.127720              0.030188   \n",
       "1  1959              1.439036              2.939323              4.450541   \n",
       "2   688             -6.873479              2.620711              6.368775   \n",
       "3   765              7.343672             -1.043033              3.394326   \n",
       "4   610              8.988179              1.338421             -2.789729   \n",
       "\n",
       "   channel_0_timestep_3  channel_0_timestep_4  channel_0_timestep_5  \\\n",
       "0              0.872432              0.066428             -0.688929   \n",
       "1              4.889985              2.808758              0.174926   \n",
       "2             -0.753867              0.504129              8.989532   \n",
       "3             12.075764              2.094330             -6.726448   \n",
       "4             -4.878788             -7.294619             -6.117245   \n",
       "\n",
       "   channel_0_timestep_6  channel_0_timestep_7  channel_0_timestep_8  ...  \\\n",
       "0              0.351763              0.962038              1.171841  ...   \n",
       "1             -0.264143             -0.265241             -2.430413  ...   \n",
       "2              6.353325             -0.452068             -1.600631  ...   \n",
       "3             -2.849046             -2.859351             -3.247879  ...   \n",
       "4             -3.501986             -3.073579              0.061395  ...   \n",
       "\n",
       "   channel_13_timestep_120  channel_13_timestep_121  channel_13_timestep_122  \\\n",
       "0                 4.268692                 4.296591                 0.405264   \n",
       "1                -2.719914                 1.040441                 0.272578   \n",
       "2                 0.051793                -5.156834               -18.325062   \n",
       "3                11.696478                 5.142235                -2.881666   \n",
       "4                 5.989770                 5.809627                 4.878367   \n",
       "\n",
       "   channel_13_timestep_123  channel_13_timestep_124  channel_13_timestep_125  \\\n",
       "0                -2.827268                -2.004783                 1.276288   \n",
       "1                 0.103977                 3.468313                 6.880353   \n",
       "2                 2.098055                17.815147                 0.043855   \n",
       "3                -3.570459                -4.366352                -4.056002   \n",
       "4                 3.895410                 0.987760                 0.012008   \n",
       "\n",
       "   channel_13_timestep_126  channel_13_timestep_127  valence  arousal  \n",
       "0                 2.222049                 0.158765      5.0      6.0  \n",
       "1                 8.626653                 9.982868      1.0      7.0  \n",
       "2                -3.858117                17.348724      1.0      6.0  \n",
       "3                -1.489292                -2.761847      2.0      8.0  \n",
       "4                -0.732414                -3.816425      1.0      7.0  \n",
       "\n",
       "[5 rows x 1795 columns]"
      ]
     },
     "execution_count": 6,
     "metadata": {},
     "output_type": "execute_result"
    }
   ],
   "source": [
    "df_train.head()"
   ]
  },
  {
   "cell_type": "code",
   "execution_count": 7,
   "id": "7619706b",
   "metadata": {
    "execution": {
     "iopub.execute_input": "2022-07-18T08:16:27.284660Z",
     "iopub.status.busy": "2022-07-18T08:16:27.284408Z",
     "iopub.status.idle": "2022-07-18T08:16:27.292334Z",
     "shell.execute_reply": "2022-07-18T08:16:27.291504Z"
    },
    "papermill": {
     "duration": 0.021069,
     "end_time": "2022-07-18T08:16:27.294303",
     "exception": false,
     "start_time": "2022-07-18T08:16:27.273234",
     "status": "completed"
    },
    "tags": []
   },
   "outputs": [],
   "source": [
    "v=df_train[\"valence\"]\n",
    "a=df_train[\"arousal\"]"
   ]
  },
  {
   "cell_type": "code",
   "execution_count": 8,
   "id": "fef1abc3",
   "metadata": {
    "execution": {
     "iopub.execute_input": "2022-07-18T08:16:27.315005Z",
     "iopub.status.busy": "2022-07-18T08:16:27.314761Z",
     "iopub.status.idle": "2022-07-18T08:16:27.324256Z",
     "shell.execute_reply": "2022-07-18T08:16:27.323403Z"
    },
    "papermill": {
     "duration": 0.022128,
     "end_time": "2022-07-18T08:16:27.326185",
     "exception": false,
     "start_time": "2022-07-18T08:16:27.304057",
     "status": "completed"
    },
    "tags": []
   },
   "outputs": [
    {
     "data": {
      "text/plain": [
       "array([6., 7., 8., 1., 5., 3., 2., 4., 9.])"
      ]
     },
     "execution_count": 8,
     "metadata": {},
     "output_type": "execute_result"
    }
   ],
   "source": [
    "a.unique()"
   ]
  },
  {
   "cell_type": "code",
   "execution_count": 9,
   "id": "bcb2b0fc",
   "metadata": {
    "execution": {
     "iopub.execute_input": "2022-07-18T08:16:27.348306Z",
     "iopub.status.busy": "2022-07-18T08:16:27.348063Z",
     "iopub.status.idle": "2022-07-18T08:16:27.355916Z",
     "shell.execute_reply": "2022-07-18T08:16:27.355022Z"
    },
    "papermill": {
     "duration": 0.020997,
     "end_time": "2022-07-18T08:16:27.357911",
     "exception": false,
     "start_time": "2022-07-18T08:16:27.336914",
     "status": "completed"
    },
    "tags": []
   },
   "outputs": [
    {
     "data": {
      "text/plain": [
       "array([5., 1., 2., 4., 3., 7.])"
      ]
     },
     "execution_count": 9,
     "metadata": {},
     "output_type": "execute_result"
    }
   ],
   "source": [
    "v.unique()"
   ]
  },
  {
   "cell_type": "code",
   "execution_count": 10,
   "id": "0b76cc08",
   "metadata": {
    "execution": {
     "iopub.execute_input": "2022-07-18T08:16:27.379923Z",
     "iopub.status.busy": "2022-07-18T08:16:27.379663Z",
     "iopub.status.idle": "2022-07-18T08:16:27.386380Z",
     "shell.execute_reply": "2022-07-18T08:16:27.385288Z"
    },
    "papermill": {
     "duration": 0.020033,
     "end_time": "2022-07-18T08:16:27.388426",
     "exception": false,
     "start_time": "2022-07-18T08:16:27.368393",
     "status": "completed"
    },
    "tags": []
   },
   "outputs": [
    {
     "data": {
      "text/plain": [
       "Index(['ID', 'channel_0_timestep_0', 'channel_0_timestep_1',\n",
       "       'channel_0_timestep_2', 'channel_0_timestep_3', 'channel_0_timestep_4',\n",
       "       'channel_0_timestep_5', 'channel_0_timestep_6', 'channel_0_timestep_7',\n",
       "       'channel_0_timestep_8',\n",
       "       ...\n",
       "       'channel_13_timestep_120', 'channel_13_timestep_121',\n",
       "       'channel_13_timestep_122', 'channel_13_timestep_123',\n",
       "       'channel_13_timestep_124', 'channel_13_timestep_125',\n",
       "       'channel_13_timestep_126', 'channel_13_timestep_127', 'valence',\n",
       "       'arousal'],\n",
       "      dtype='object', length=1795)"
      ]
     },
     "execution_count": 10,
     "metadata": {},
     "output_type": "execute_result"
    }
   ],
   "source": [
    "df_train.columns"
   ]
  },
  {
   "cell_type": "code",
   "execution_count": 11,
   "id": "312b991f",
   "metadata": {
    "_kg_hide-output": true,
    "execution": {
     "iopub.execute_input": "2022-07-18T08:16:27.409930Z",
     "iopub.status.busy": "2022-07-18T08:16:27.409661Z",
     "iopub.status.idle": "2022-07-18T08:16:27.496310Z",
     "shell.execute_reply": "2022-07-18T08:16:27.495305Z"
    },
    "papermill": {
     "duration": 0.100468,
     "end_time": "2022-07-18T08:16:27.499093",
     "exception": false,
     "start_time": "2022-07-18T08:16:27.398625",
     "status": "completed"
    },
    "tags": []
   },
   "outputs": [
    {
     "name": "stdout",
     "output_type": "stream",
     "text": [
      "<class 'pandas.core.frame.DataFrame'>\n",
      "RangeIndex: 2898 entries, 0 to 2897\n",
      "Columns: 1795 entries, ID to arousal\n",
      "dtypes: float64(1794), int64(1)\n",
      "memory usage: 39.7 MB\n"
     ]
    }
   ],
   "source": [
    "df_train.info()"
   ]
  },
  {
   "cell_type": "code",
   "execution_count": 12,
   "id": "f9a5c796",
   "metadata": {
    "execution": {
     "iopub.execute_input": "2022-07-18T08:16:27.522192Z",
     "iopub.status.busy": "2022-07-18T08:16:27.521917Z",
     "iopub.status.idle": "2022-07-18T08:16:27.526792Z",
     "shell.execute_reply": "2022-07-18T08:16:27.525809Z"
    },
    "papermill": {
     "duration": 0.018146,
     "end_time": "2022-07-18T08:16:27.528719",
     "exception": false,
     "start_time": "2022-07-18T08:16:27.510573",
     "status": "completed"
    },
    "tags": []
   },
   "outputs": [],
   "source": [
    "Id=df_test[\"ID\"]"
   ]
  },
  {
   "cell_type": "code",
   "execution_count": 13,
   "id": "ca5be7e4",
   "metadata": {
    "execution": {
     "iopub.execute_input": "2022-07-18T08:16:27.550551Z",
     "iopub.status.busy": "2022-07-18T08:16:27.550279Z",
     "iopub.status.idle": "2022-07-18T08:16:27.572375Z",
     "shell.execute_reply": "2022-07-18T08:16:27.571395Z"
    },
    "papermill": {
     "duration": 0.035795,
     "end_time": "2022-07-18T08:16:27.574791",
     "exception": false,
     "start_time": "2022-07-18T08:16:27.538996",
     "status": "completed"
    },
    "tags": []
   },
   "outputs": [
    {
     "data": {
      "text/html": [
       "<div>\n",
       "<style scoped>\n",
       "    .dataframe tbody tr th:only-of-type {\n",
       "        vertical-align: middle;\n",
       "    }\n",
       "\n",
       "    .dataframe tbody tr th {\n",
       "        vertical-align: top;\n",
       "    }\n",
       "\n",
       "    .dataframe thead th {\n",
       "        text-align: right;\n",
       "    }\n",
       "</style>\n",
       "<table border=\"1\" class=\"dataframe\">\n",
       "  <thead>\n",
       "    <tr style=\"text-align: right;\">\n",
       "      <th></th>\n",
       "      <th>ID</th>\n",
       "      <th>channel_0_timestep_0</th>\n",
       "      <th>channel_0_timestep_1</th>\n",
       "      <th>channel_0_timestep_2</th>\n",
       "      <th>channel_0_timestep_3</th>\n",
       "      <th>channel_0_timestep_4</th>\n",
       "      <th>channel_0_timestep_5</th>\n",
       "      <th>channel_0_timestep_6</th>\n",
       "      <th>channel_0_timestep_7</th>\n",
       "      <th>channel_0_timestep_8</th>\n",
       "      <th>...</th>\n",
       "      <th>channel_13_timestep_118</th>\n",
       "      <th>channel_13_timestep_119</th>\n",
       "      <th>channel_13_timestep_120</th>\n",
       "      <th>channel_13_timestep_121</th>\n",
       "      <th>channel_13_timestep_122</th>\n",
       "      <th>channel_13_timestep_123</th>\n",
       "      <th>channel_13_timestep_124</th>\n",
       "      <th>channel_13_timestep_125</th>\n",
       "      <th>channel_13_timestep_126</th>\n",
       "      <th>channel_13_timestep_127</th>\n",
       "    </tr>\n",
       "  </thead>\n",
       "  <tbody>\n",
       "    <tr>\n",
       "      <th>0</th>\n",
       "      <td>2649</td>\n",
       "      <td>0.726739</td>\n",
       "      <td>1.326801</td>\n",
       "      <td>0.419562</td>\n",
       "      <td>0.362655</td>\n",
       "      <td>1.877844</td>\n",
       "      <td>2.177589</td>\n",
       "      <td>0.881530</td>\n",
       "      <td>-0.177988</td>\n",
       "      <td>-0.107699</td>\n",
       "      <td>...</td>\n",
       "      <td>-4.538226</td>\n",
       "      <td>-6.132041</td>\n",
       "      <td>-4.516711</td>\n",
       "      <td>-4.155573</td>\n",
       "      <td>-6.451481</td>\n",
       "      <td>-5.906953</td>\n",
       "      <td>-1.217648</td>\n",
       "      <td>2.809138</td>\n",
       "      <td>5.387832</td>\n",
       "      <td>7.240309</td>\n",
       "    </tr>\n",
       "    <tr>\n",
       "      <th>1</th>\n",
       "      <td>1897</td>\n",
       "      <td>-2.290174</td>\n",
       "      <td>-1.321119</td>\n",
       "      <td>-4.212674</td>\n",
       "      <td>-2.404299</td>\n",
       "      <td>3.280274</td>\n",
       "      <td>5.224883</td>\n",
       "      <td>5.204860</td>\n",
       "      <td>3.618460</td>\n",
       "      <td>-2.801359</td>\n",
       "      <td>...</td>\n",
       "      <td>0.414722</td>\n",
       "      <td>3.437341</td>\n",
       "      <td>2.709642</td>\n",
       "      <td>-4.540618</td>\n",
       "      <td>-8.604247</td>\n",
       "      <td>-8.877815</td>\n",
       "      <td>-5.269321</td>\n",
       "      <td>4.677503</td>\n",
       "      <td>11.745440</td>\n",
       "      <td>11.366855</td>\n",
       "    </tr>\n",
       "    <tr>\n",
       "      <th>2</th>\n",
       "      <td>3973</td>\n",
       "      <td>-0.403232</td>\n",
       "      <td>-1.047966</td>\n",
       "      <td>-0.414630</td>\n",
       "      <td>-1.139564</td>\n",
       "      <td>-3.021573</td>\n",
       "      <td>-1.477372</td>\n",
       "      <td>0.307533</td>\n",
       "      <td>0.156880</td>\n",
       "      <td>0.410522</td>\n",
       "      <td>...</td>\n",
       "      <td>3.059209</td>\n",
       "      <td>0.482465</td>\n",
       "      <td>-0.488242</td>\n",
       "      <td>2.093967</td>\n",
       "      <td>0.955976</td>\n",
       "      <td>-1.962847</td>\n",
       "      <td>-0.305406</td>\n",
       "      <td>2.123710</td>\n",
       "      <td>2.303813</td>\n",
       "      <td>1.377429</td>\n",
       "    </tr>\n",
       "    <tr>\n",
       "      <th>3</th>\n",
       "      <td>3038</td>\n",
       "      <td>2.900014</td>\n",
       "      <td>0.531952</td>\n",
       "      <td>-1.543073</td>\n",
       "      <td>-2.262296</td>\n",
       "      <td>3.178448</td>\n",
       "      <td>5.404681</td>\n",
       "      <td>1.022172</td>\n",
       "      <td>1.415055</td>\n",
       "      <td>2.566809</td>\n",
       "      <td>...</td>\n",
       "      <td>-1.019735</td>\n",
       "      <td>1.108618</td>\n",
       "      <td>-1.554358</td>\n",
       "      <td>-6.510234</td>\n",
       "      <td>-8.960296</td>\n",
       "      <td>-3.087777</td>\n",
       "      <td>6.820467</td>\n",
       "      <td>12.740038</td>\n",
       "      <td>12.078416</td>\n",
       "      <td>2.254736</td>\n",
       "    </tr>\n",
       "    <tr>\n",
       "      <th>4</th>\n",
       "      <td>494</td>\n",
       "      <td>-3.372348</td>\n",
       "      <td>-1.855444</td>\n",
       "      <td>4.717225</td>\n",
       "      <td>1.641804</td>\n",
       "      <td>-8.900145</td>\n",
       "      <td>-11.168015</td>\n",
       "      <td>-9.589520</td>\n",
       "      <td>-12.598769</td>\n",
       "      <td>-9.765525</td>\n",
       "      <td>...</td>\n",
       "      <td>-12.035542</td>\n",
       "      <td>-12.719938</td>\n",
       "      <td>-9.132347</td>\n",
       "      <td>-10.269296</td>\n",
       "      <td>-6.274572</td>\n",
       "      <td>1.645681</td>\n",
       "      <td>-2.948617</td>\n",
       "      <td>-10.918031</td>\n",
       "      <td>-5.863556</td>\n",
       "      <td>-1.668832</td>\n",
       "    </tr>\n",
       "  </tbody>\n",
       "</table>\n",
       "<p>5 rows × 1793 columns</p>\n",
       "</div>"
      ],
      "text/plain": [
       "     ID  channel_0_timestep_0  channel_0_timestep_1  channel_0_timestep_2  \\\n",
       "0  2649              0.726739              1.326801              0.419562   \n",
       "1  1897             -2.290174             -1.321119             -4.212674   \n",
       "2  3973             -0.403232             -1.047966             -0.414630   \n",
       "3  3038              2.900014              0.531952             -1.543073   \n",
       "4   494             -3.372348             -1.855444              4.717225   \n",
       "\n",
       "   channel_0_timestep_3  channel_0_timestep_4  channel_0_timestep_5  \\\n",
       "0              0.362655              1.877844              2.177589   \n",
       "1             -2.404299              3.280274              5.224883   \n",
       "2             -1.139564             -3.021573             -1.477372   \n",
       "3             -2.262296              3.178448              5.404681   \n",
       "4              1.641804             -8.900145            -11.168015   \n",
       "\n",
       "   channel_0_timestep_6  channel_0_timestep_7  channel_0_timestep_8  ...  \\\n",
       "0              0.881530             -0.177988             -0.107699  ...   \n",
       "1              5.204860              3.618460             -2.801359  ...   \n",
       "2              0.307533              0.156880              0.410522  ...   \n",
       "3              1.022172              1.415055              2.566809  ...   \n",
       "4             -9.589520            -12.598769             -9.765525  ...   \n",
       "\n",
       "   channel_13_timestep_118  channel_13_timestep_119  channel_13_timestep_120  \\\n",
       "0                -4.538226                -6.132041                -4.516711   \n",
       "1                 0.414722                 3.437341                 2.709642   \n",
       "2                 3.059209                 0.482465                -0.488242   \n",
       "3                -1.019735                 1.108618                -1.554358   \n",
       "4               -12.035542               -12.719938                -9.132347   \n",
       "\n",
       "   channel_13_timestep_121  channel_13_timestep_122  channel_13_timestep_123  \\\n",
       "0                -4.155573                -6.451481                -5.906953   \n",
       "1                -4.540618                -8.604247                -8.877815   \n",
       "2                 2.093967                 0.955976                -1.962847   \n",
       "3                -6.510234                -8.960296                -3.087777   \n",
       "4               -10.269296                -6.274572                 1.645681   \n",
       "\n",
       "   channel_13_timestep_124  channel_13_timestep_125  channel_13_timestep_126  \\\n",
       "0                -1.217648                 2.809138                 5.387832   \n",
       "1                -5.269321                 4.677503                11.745440   \n",
       "2                -0.305406                 2.123710                 2.303813   \n",
       "3                 6.820467                12.740038                12.078416   \n",
       "4                -2.948617               -10.918031                -5.863556   \n",
       "\n",
       "   channel_13_timestep_127  \n",
       "0                 7.240309  \n",
       "1                11.366855  \n",
       "2                 1.377429  \n",
       "3                 2.254736  \n",
       "4                -1.668832  \n",
       "\n",
       "[5 rows x 1793 columns]"
      ]
     },
     "execution_count": 13,
     "metadata": {},
     "output_type": "execute_result"
    }
   ],
   "source": [
    "df_test.head()"
   ]
  },
  {
   "cell_type": "code",
   "execution_count": 14,
   "id": "81f15fed",
   "metadata": {
    "execution": {
     "iopub.execute_input": "2022-07-18T08:16:27.597310Z",
     "iopub.status.busy": "2022-07-18T08:16:27.597070Z",
     "iopub.status.idle": "2022-07-18T08:16:27.624461Z",
     "shell.execute_reply": "2022-07-18T08:16:27.623494Z"
    },
    "papermill": {
     "duration": 0.040896,
     "end_time": "2022-07-18T08:16:27.626534",
     "exception": false,
     "start_time": "2022-07-18T08:16:27.585638",
     "status": "completed"
    },
    "tags": []
   },
   "outputs": [],
   "source": [
    "df_train.drop(\"ID\" , axis=1, inplace=True)\n",
    "df_test.drop(\"ID\" , axis=1, inplace=True)"
   ]
  },
  {
   "cell_type": "markdown",
   "id": "6271f95e",
   "metadata": {
    "papermill": {
     "duration": 0.01131,
     "end_time": "2022-07-18T08:16:27.649309",
     "exception": false,
     "start_time": "2022-07-18T08:16:27.637999",
     "status": "completed"
    },
    "tags": []
   },
   "source": [
    "Processing missing values"
   ]
  },
  {
   "cell_type": "code",
   "execution_count": 15,
   "id": "4ccb1690",
   "metadata": {
    "execution": {
     "iopub.execute_input": "2022-07-18T08:16:27.672212Z",
     "iopub.status.busy": "2022-07-18T08:16:27.671935Z",
     "iopub.status.idle": "2022-07-18T08:16:27.693139Z",
     "shell.execute_reply": "2022-07-18T08:16:27.692178Z"
    },
    "papermill": {
     "duration": 0.034636,
     "end_time": "2022-07-18T08:16:27.695068",
     "exception": false,
     "start_time": "2022-07-18T08:16:27.660432",
     "status": "completed"
    },
    "tags": []
   },
   "outputs": [
    {
     "data": {
      "text/plain": [
       "channel_0_timestep_0      0\n",
       "channel_10_timestep_65    0\n",
       "channel_9_timestep_51     0\n",
       "channel_9_timestep_50     0\n",
       "channel_9_timestep_49     0\n",
       "dtype: int64"
      ]
     },
     "execution_count": 15,
     "metadata": {},
     "output_type": "execute_result"
    }
   ],
   "source": [
    "df_train.isnull().sum().sort_values(ascending =False).head(5)"
   ]
  },
  {
   "cell_type": "markdown",
   "id": "f5ab8f80",
   "metadata": {
    "papermill": {
     "duration": 0.011253,
     "end_time": "2022-07-18T08:16:27.717619",
     "exception": false,
     "start_time": "2022-07-18T08:16:27.706366",
     "status": "completed"
    },
    "tags": []
   },
   "source": [
    "Percentage of missing data"
   ]
  },
  {
   "cell_type": "markdown",
   "id": "5747196e",
   "metadata": {
    "papermill": {
     "duration": 0.010851,
     "end_time": "2022-07-18T08:16:27.739619",
     "exception": false,
     "start_time": "2022-07-18T08:16:27.728768",
     "status": "completed"
    },
    "tags": []
   },
   "source": [
    "Treatment of left parameters having missing values"
   ]
  },
  {
   "cell_type": "markdown",
   "id": "33b9a537",
   "metadata": {
    "papermill": {
     "duration": 0.01048,
     "end_time": "2022-07-18T08:16:27.761785",
     "exception": false,
     "start_time": "2022-07-18T08:16:27.751305",
     "status": "completed"
    },
    "tags": []
   },
   "source": [
    "Removing the Id column"
   ]
  },
  {
   "cell_type": "markdown",
   "id": "fe5e7462",
   "metadata": {
    "papermill": {
     "duration": 0.010342,
     "end_time": "2022-07-18T08:16:27.782702",
     "exception": false,
     "start_time": "2022-07-18T08:16:27.772360",
     "status": "completed"
    },
    "tags": []
   },
   "source": [
    "# Artificial Neural Network"
   ]
  },
  {
   "cell_type": "code",
   "execution_count": 16,
   "id": "c2e07f2a",
   "metadata": {
    "execution": {
     "iopub.execute_input": "2022-07-18T08:16:27.805789Z",
     "iopub.status.busy": "2022-07-18T08:16:27.805504Z",
     "iopub.status.idle": "2022-07-18T08:16:27.823924Z",
     "shell.execute_reply": "2022-07-18T08:16:27.823025Z"
    },
    "papermill": {
     "duration": 0.032295,
     "end_time": "2022-07-18T08:16:27.825862",
     "exception": false,
     "start_time": "2022-07-18T08:16:27.793567",
     "status": "completed"
    },
    "tags": []
   },
   "outputs": [],
   "source": [
    "trainn=df_train.drop(\"valence\",axis=1)"
   ]
  },
  {
   "cell_type": "code",
   "execution_count": 17,
   "id": "4f316ab8",
   "metadata": {
    "execution": {
     "iopub.execute_input": "2022-07-18T08:16:27.849826Z",
     "iopub.status.busy": "2022-07-18T08:16:27.849054Z",
     "iopub.status.idle": "2022-07-18T08:16:27.878505Z",
     "shell.execute_reply": "2022-07-18T08:16:27.877535Z"
    },
    "papermill": {
     "duration": 0.043169,
     "end_time": "2022-07-18T08:16:27.880484",
     "exception": false,
     "start_time": "2022-07-18T08:16:27.837315",
     "status": "completed"
    },
    "tags": []
   },
   "outputs": [
    {
     "data": {
      "text/html": [
       "<div>\n",
       "<style scoped>\n",
       "    .dataframe tbody tr th:only-of-type {\n",
       "        vertical-align: middle;\n",
       "    }\n",
       "\n",
       "    .dataframe tbody tr th {\n",
       "        vertical-align: top;\n",
       "    }\n",
       "\n",
       "    .dataframe thead th {\n",
       "        text-align: right;\n",
       "    }\n",
       "</style>\n",
       "<table border=\"1\" class=\"dataframe\">\n",
       "  <thead>\n",
       "    <tr style=\"text-align: right;\">\n",
       "      <th></th>\n",
       "      <th>channel_0_timestep_0</th>\n",
       "      <th>channel_0_timestep_1</th>\n",
       "      <th>channel_0_timestep_2</th>\n",
       "      <th>channel_0_timestep_3</th>\n",
       "      <th>channel_0_timestep_4</th>\n",
       "      <th>channel_0_timestep_5</th>\n",
       "      <th>channel_0_timestep_6</th>\n",
       "      <th>channel_0_timestep_7</th>\n",
       "      <th>channel_0_timestep_8</th>\n",
       "      <th>channel_0_timestep_9</th>\n",
       "      <th>...</th>\n",
       "      <th>channel_13_timestep_119</th>\n",
       "      <th>channel_13_timestep_120</th>\n",
       "      <th>channel_13_timestep_121</th>\n",
       "      <th>channel_13_timestep_122</th>\n",
       "      <th>channel_13_timestep_123</th>\n",
       "      <th>channel_13_timestep_124</th>\n",
       "      <th>channel_13_timestep_125</th>\n",
       "      <th>channel_13_timestep_126</th>\n",
       "      <th>channel_13_timestep_127</th>\n",
       "      <th>arousal</th>\n",
       "    </tr>\n",
       "  </thead>\n",
       "  <tbody>\n",
       "    <tr>\n",
       "      <th>0</th>\n",
       "      <td>0.666593</td>\n",
       "      <td>-0.127720</td>\n",
       "      <td>0.030188</td>\n",
       "      <td>0.872432</td>\n",
       "      <td>0.066428</td>\n",
       "      <td>-0.688929</td>\n",
       "      <td>0.351763</td>\n",
       "      <td>0.962038</td>\n",
       "      <td>1.171841</td>\n",
       "      <td>2.323957</td>\n",
       "      <td>...</td>\n",
       "      <td>1.378793</td>\n",
       "      <td>4.268692</td>\n",
       "      <td>4.296591</td>\n",
       "      <td>0.405264</td>\n",
       "      <td>-2.827268</td>\n",
       "      <td>-2.004783</td>\n",
       "      <td>1.276288</td>\n",
       "      <td>2.222049</td>\n",
       "      <td>0.158765</td>\n",
       "      <td>6.0</td>\n",
       "    </tr>\n",
       "    <tr>\n",
       "      <th>1</th>\n",
       "      <td>1.439036</td>\n",
       "      <td>2.939323</td>\n",
       "      <td>4.450541</td>\n",
       "      <td>4.889985</td>\n",
       "      <td>2.808758</td>\n",
       "      <td>0.174926</td>\n",
       "      <td>-0.264143</td>\n",
       "      <td>-0.265241</td>\n",
       "      <td>-2.430413</td>\n",
       "      <td>-4.575553</td>\n",
       "      <td>...</td>\n",
       "      <td>-6.864929</td>\n",
       "      <td>-2.719914</td>\n",
       "      <td>1.040441</td>\n",
       "      <td>0.272578</td>\n",
       "      <td>0.103977</td>\n",
       "      <td>3.468313</td>\n",
       "      <td>6.880353</td>\n",
       "      <td>8.626653</td>\n",
       "      <td>9.982868</td>\n",
       "      <td>7.0</td>\n",
       "    </tr>\n",
       "    <tr>\n",
       "      <th>2</th>\n",
       "      <td>-6.873479</td>\n",
       "      <td>2.620711</td>\n",
       "      <td>6.368775</td>\n",
       "      <td>-0.753867</td>\n",
       "      <td>0.504129</td>\n",
       "      <td>8.989532</td>\n",
       "      <td>6.353325</td>\n",
       "      <td>-0.452068</td>\n",
       "      <td>-1.600631</td>\n",
       "      <td>-5.637474</td>\n",
       "      <td>...</td>\n",
       "      <td>-14.872344</td>\n",
       "      <td>0.051793</td>\n",
       "      <td>-5.156834</td>\n",
       "      <td>-18.325062</td>\n",
       "      <td>2.098055</td>\n",
       "      <td>17.815147</td>\n",
       "      <td>0.043855</td>\n",
       "      <td>-3.858117</td>\n",
       "      <td>17.348724</td>\n",
       "      <td>6.0</td>\n",
       "    </tr>\n",
       "    <tr>\n",
       "      <th>3</th>\n",
       "      <td>7.343672</td>\n",
       "      <td>-1.043033</td>\n",
       "      <td>3.394326</td>\n",
       "      <td>12.075764</td>\n",
       "      <td>2.094330</td>\n",
       "      <td>-6.726448</td>\n",
       "      <td>-2.849046</td>\n",
       "      <td>-2.859351</td>\n",
       "      <td>-3.247879</td>\n",
       "      <td>3.040648</td>\n",
       "      <td>...</td>\n",
       "      <td>6.079260</td>\n",
       "      <td>11.696478</td>\n",
       "      <td>5.142235</td>\n",
       "      <td>-2.881666</td>\n",
       "      <td>-3.570459</td>\n",
       "      <td>-4.366352</td>\n",
       "      <td>-4.056002</td>\n",
       "      <td>-1.489292</td>\n",
       "      <td>-2.761847</td>\n",
       "      <td>8.0</td>\n",
       "    </tr>\n",
       "    <tr>\n",
       "      <th>4</th>\n",
       "      <td>8.988179</td>\n",
       "      <td>1.338421</td>\n",
       "      <td>-2.789729</td>\n",
       "      <td>-4.878788</td>\n",
       "      <td>-7.294619</td>\n",
       "      <td>-6.117245</td>\n",
       "      <td>-3.501986</td>\n",
       "      <td>-3.073579</td>\n",
       "      <td>0.061395</td>\n",
       "      <td>6.580954</td>\n",
       "      <td>...</td>\n",
       "      <td>1.013592</td>\n",
       "      <td>5.989770</td>\n",
       "      <td>5.809627</td>\n",
       "      <td>4.878367</td>\n",
       "      <td>3.895410</td>\n",
       "      <td>0.987760</td>\n",
       "      <td>0.012008</td>\n",
       "      <td>-0.732414</td>\n",
       "      <td>-3.816425</td>\n",
       "      <td>7.0</td>\n",
       "    </tr>\n",
       "    <tr>\n",
       "      <th>...</th>\n",
       "      <td>...</td>\n",
       "      <td>...</td>\n",
       "      <td>...</td>\n",
       "      <td>...</td>\n",
       "      <td>...</td>\n",
       "      <td>...</td>\n",
       "      <td>...</td>\n",
       "      <td>...</td>\n",
       "      <td>...</td>\n",
       "      <td>...</td>\n",
       "      <td>...</td>\n",
       "      <td>...</td>\n",
       "      <td>...</td>\n",
       "      <td>...</td>\n",
       "      <td>...</td>\n",
       "      <td>...</td>\n",
       "      <td>...</td>\n",
       "      <td>...</td>\n",
       "      <td>...</td>\n",
       "      <td>...</td>\n",
       "      <td>...</td>\n",
       "    </tr>\n",
       "    <tr>\n",
       "      <th>2893</th>\n",
       "      <td>2.597523</td>\n",
       "      <td>-5.404371</td>\n",
       "      <td>-7.261963</td>\n",
       "      <td>-5.821558</td>\n",
       "      <td>-6.905499</td>\n",
       "      <td>-3.372167</td>\n",
       "      <td>-0.098528</td>\n",
       "      <td>-4.118333</td>\n",
       "      <td>-2.304121</td>\n",
       "      <td>2.807478</td>\n",
       "      <td>...</td>\n",
       "      <td>-11.493681</td>\n",
       "      <td>-8.553452</td>\n",
       "      <td>-4.326558</td>\n",
       "      <td>-2.547905</td>\n",
       "      <td>1.256500</td>\n",
       "      <td>8.988491</td>\n",
       "      <td>12.065654</td>\n",
       "      <td>9.896533</td>\n",
       "      <td>7.962224</td>\n",
       "      <td>3.0</td>\n",
       "    </tr>\n",
       "    <tr>\n",
       "      <th>2894</th>\n",
       "      <td>0.023456</td>\n",
       "      <td>-5.002498</td>\n",
       "      <td>-6.201032</td>\n",
       "      <td>-0.268211</td>\n",
       "      <td>1.768780</td>\n",
       "      <td>-2.178749</td>\n",
       "      <td>0.325151</td>\n",
       "      <td>7.422237</td>\n",
       "      <td>7.472040</td>\n",
       "      <td>4.527164</td>\n",
       "      <td>...</td>\n",
       "      <td>0.105220</td>\n",
       "      <td>-0.876480</td>\n",
       "      <td>1.165987</td>\n",
       "      <td>3.133366</td>\n",
       "      <td>2.900286</td>\n",
       "      <td>3.563294</td>\n",
       "      <td>3.955818</td>\n",
       "      <td>4.124920</td>\n",
       "      <td>7.065790</td>\n",
       "      <td>8.0</td>\n",
       "    </tr>\n",
       "    <tr>\n",
       "      <th>2895</th>\n",
       "      <td>0.418006</td>\n",
       "      <td>0.489591</td>\n",
       "      <td>0.399380</td>\n",
       "      <td>0.076094</td>\n",
       "      <td>-0.080600</td>\n",
       "      <td>0.114078</td>\n",
       "      <td>0.445269</td>\n",
       "      <td>0.719440</td>\n",
       "      <td>0.730063</td>\n",
       "      <td>0.520684</td>\n",
       "      <td>...</td>\n",
       "      <td>0.971298</td>\n",
       "      <td>2.296222</td>\n",
       "      <td>2.376399</td>\n",
       "      <td>1.750293</td>\n",
       "      <td>0.803550</td>\n",
       "      <td>-2.585437</td>\n",
       "      <td>-4.914431</td>\n",
       "      <td>-2.477296</td>\n",
       "      <td>-0.020557</td>\n",
       "      <td>5.0</td>\n",
       "    </tr>\n",
       "    <tr>\n",
       "      <th>2896</th>\n",
       "      <td>2.673160</td>\n",
       "      <td>1.955546</td>\n",
       "      <td>0.872103</td>\n",
       "      <td>-0.888802</td>\n",
       "      <td>-1.995294</td>\n",
       "      <td>-0.695374</td>\n",
       "      <td>1.180189</td>\n",
       "      <td>1.196407</td>\n",
       "      <td>0.016508</td>\n",
       "      <td>-1.190031</td>\n",
       "      <td>...</td>\n",
       "      <td>-5.766486</td>\n",
       "      <td>-6.545377</td>\n",
       "      <td>-3.103716</td>\n",
       "      <td>0.014929</td>\n",
       "      <td>-0.295690</td>\n",
       "      <td>1.441595</td>\n",
       "      <td>10.695235</td>\n",
       "      <td>12.365301</td>\n",
       "      <td>-1.123650</td>\n",
       "      <td>7.0</td>\n",
       "    </tr>\n",
       "    <tr>\n",
       "      <th>2897</th>\n",
       "      <td>-15.531085</td>\n",
       "      <td>-13.170703</td>\n",
       "      <td>-13.555800</td>\n",
       "      <td>-17.565762</td>\n",
       "      <td>-16.688934</td>\n",
       "      <td>-10.048054</td>\n",
       "      <td>-0.383483</td>\n",
       "      <td>14.014765</td>\n",
       "      <td>28.323889</td>\n",
       "      <td>38.613426</td>\n",
       "      <td>...</td>\n",
       "      <td>8.686493</td>\n",
       "      <td>7.239271</td>\n",
       "      <td>13.926379</td>\n",
       "      <td>20.090885</td>\n",
       "      <td>15.222136</td>\n",
       "      <td>8.454310</td>\n",
       "      <td>0.836808</td>\n",
       "      <td>-4.991370</td>\n",
       "      <td>0.566707</td>\n",
       "      <td>7.0</td>\n",
       "    </tr>\n",
       "  </tbody>\n",
       "</table>\n",
       "<p>2898 rows × 1793 columns</p>\n",
       "</div>"
      ],
      "text/plain": [
       "      channel_0_timestep_0  channel_0_timestep_1  channel_0_timestep_2  \\\n",
       "0                 0.666593             -0.127720              0.030188   \n",
       "1                 1.439036              2.939323              4.450541   \n",
       "2                -6.873479              2.620711              6.368775   \n",
       "3                 7.343672             -1.043033              3.394326   \n",
       "4                 8.988179              1.338421             -2.789729   \n",
       "...                    ...                   ...                   ...   \n",
       "2893              2.597523             -5.404371             -7.261963   \n",
       "2894              0.023456             -5.002498             -6.201032   \n",
       "2895              0.418006              0.489591              0.399380   \n",
       "2896              2.673160              1.955546              0.872103   \n",
       "2897            -15.531085            -13.170703            -13.555800   \n",
       "\n",
       "      channel_0_timestep_3  channel_0_timestep_4  channel_0_timestep_5  \\\n",
       "0                 0.872432              0.066428             -0.688929   \n",
       "1                 4.889985              2.808758              0.174926   \n",
       "2                -0.753867              0.504129              8.989532   \n",
       "3                12.075764              2.094330             -6.726448   \n",
       "4                -4.878788             -7.294619             -6.117245   \n",
       "...                    ...                   ...                   ...   \n",
       "2893             -5.821558             -6.905499             -3.372167   \n",
       "2894             -0.268211              1.768780             -2.178749   \n",
       "2895              0.076094             -0.080600              0.114078   \n",
       "2896             -0.888802             -1.995294             -0.695374   \n",
       "2897            -17.565762            -16.688934            -10.048054   \n",
       "\n",
       "      channel_0_timestep_6  channel_0_timestep_7  channel_0_timestep_8  \\\n",
       "0                 0.351763              0.962038              1.171841   \n",
       "1                -0.264143             -0.265241             -2.430413   \n",
       "2                 6.353325             -0.452068             -1.600631   \n",
       "3                -2.849046             -2.859351             -3.247879   \n",
       "4                -3.501986             -3.073579              0.061395   \n",
       "...                    ...                   ...                   ...   \n",
       "2893             -0.098528             -4.118333             -2.304121   \n",
       "2894              0.325151              7.422237              7.472040   \n",
       "2895              0.445269              0.719440              0.730063   \n",
       "2896              1.180189              1.196407              0.016508   \n",
       "2897             -0.383483             14.014765             28.323889   \n",
       "\n",
       "      channel_0_timestep_9  ...  channel_13_timestep_119  \\\n",
       "0                 2.323957  ...                 1.378793   \n",
       "1                -4.575553  ...                -6.864929   \n",
       "2                -5.637474  ...               -14.872344   \n",
       "3                 3.040648  ...                 6.079260   \n",
       "4                 6.580954  ...                 1.013592   \n",
       "...                    ...  ...                      ...   \n",
       "2893              2.807478  ...               -11.493681   \n",
       "2894              4.527164  ...                 0.105220   \n",
       "2895              0.520684  ...                 0.971298   \n",
       "2896             -1.190031  ...                -5.766486   \n",
       "2897             38.613426  ...                 8.686493   \n",
       "\n",
       "      channel_13_timestep_120  channel_13_timestep_121  \\\n",
       "0                    4.268692                 4.296591   \n",
       "1                   -2.719914                 1.040441   \n",
       "2                    0.051793                -5.156834   \n",
       "3                   11.696478                 5.142235   \n",
       "4                    5.989770                 5.809627   \n",
       "...                       ...                      ...   \n",
       "2893                -8.553452                -4.326558   \n",
       "2894                -0.876480                 1.165987   \n",
       "2895                 2.296222                 2.376399   \n",
       "2896                -6.545377                -3.103716   \n",
       "2897                 7.239271                13.926379   \n",
       "\n",
       "      channel_13_timestep_122  channel_13_timestep_123  \\\n",
       "0                    0.405264                -2.827268   \n",
       "1                    0.272578                 0.103977   \n",
       "2                  -18.325062                 2.098055   \n",
       "3                   -2.881666                -3.570459   \n",
       "4                    4.878367                 3.895410   \n",
       "...                       ...                      ...   \n",
       "2893                -2.547905                 1.256500   \n",
       "2894                 3.133366                 2.900286   \n",
       "2895                 1.750293                 0.803550   \n",
       "2896                 0.014929                -0.295690   \n",
       "2897                20.090885                15.222136   \n",
       "\n",
       "      channel_13_timestep_124  channel_13_timestep_125  \\\n",
       "0                   -2.004783                 1.276288   \n",
       "1                    3.468313                 6.880353   \n",
       "2                   17.815147                 0.043855   \n",
       "3                   -4.366352                -4.056002   \n",
       "4                    0.987760                 0.012008   \n",
       "...                       ...                      ...   \n",
       "2893                 8.988491                12.065654   \n",
       "2894                 3.563294                 3.955818   \n",
       "2895                -2.585437                -4.914431   \n",
       "2896                 1.441595                10.695235   \n",
       "2897                 8.454310                 0.836808   \n",
       "\n",
       "      channel_13_timestep_126  channel_13_timestep_127  arousal  \n",
       "0                    2.222049                 0.158765      6.0  \n",
       "1                    8.626653                 9.982868      7.0  \n",
       "2                   -3.858117                17.348724      6.0  \n",
       "3                   -1.489292                -2.761847      8.0  \n",
       "4                   -0.732414                -3.816425      7.0  \n",
       "...                       ...                      ...      ...  \n",
       "2893                 9.896533                 7.962224      3.0  \n",
       "2894                 4.124920                 7.065790      8.0  \n",
       "2895                -2.477296                -0.020557      5.0  \n",
       "2896                12.365301                -1.123650      7.0  \n",
       "2897                -4.991370                 0.566707      7.0  \n",
       "\n",
       "[2898 rows x 1793 columns]"
      ]
     },
     "execution_count": 17,
     "metadata": {},
     "output_type": "execute_result"
    }
   ],
   "source": [
    "trainn"
   ]
  },
  {
   "cell_type": "code",
   "execution_count": 18,
   "id": "f6921e65",
   "metadata": {
    "execution": {
     "iopub.execute_input": "2022-07-18T08:16:27.906123Z",
     "iopub.status.busy": "2022-07-18T08:16:27.904620Z",
     "iopub.status.idle": "2022-07-18T08:16:27.923972Z",
     "shell.execute_reply": "2022-07-18T08:16:27.923085Z"
    },
    "papermill": {
     "duration": 0.033784,
     "end_time": "2022-07-18T08:16:27.925929",
     "exception": false,
     "start_time": "2022-07-18T08:16:27.892145",
     "status": "completed"
    },
    "tags": []
   },
   "outputs": [],
   "source": [
    "trainn=trainn.drop(\"arousal\" , axis=1 )"
   ]
  },
  {
   "cell_type": "code",
   "execution_count": 19,
   "id": "05a920d6",
   "metadata": {
    "execution": {
     "iopub.execute_input": "2022-07-18T08:16:27.950707Z",
     "iopub.status.busy": "2022-07-18T08:16:27.950022Z",
     "iopub.status.idle": "2022-07-18T08:16:27.956328Z",
     "shell.execute_reply": "2022-07-18T08:16:27.955403Z"
    },
    "papermill": {
     "duration": 0.020379,
     "end_time": "2022-07-18T08:16:27.958228",
     "exception": false,
     "start_time": "2022-07-18T08:16:27.937849",
     "status": "completed"
    },
    "tags": []
   },
   "outputs": [
    {
     "data": {
      "text/plain": [
       "(2898, 1792)"
      ]
     },
     "execution_count": 19,
     "metadata": {},
     "output_type": "execute_result"
    }
   ],
   "source": [
    "trainn.shape"
   ]
  },
  {
   "cell_type": "code",
   "execution_count": 20,
   "id": "06b76105",
   "metadata": {
    "execution": {
     "iopub.execute_input": "2022-07-18T08:16:27.982983Z",
     "iopub.status.busy": "2022-07-18T08:16:27.982152Z",
     "iopub.status.idle": "2022-07-18T08:16:28.011069Z",
     "shell.execute_reply": "2022-07-18T08:16:28.010170Z"
    },
    "papermill": {
     "duration": 0.043376,
     "end_time": "2022-07-18T08:16:28.013026",
     "exception": false,
     "start_time": "2022-07-18T08:16:27.969650",
     "status": "completed"
    },
    "tags": []
   },
   "outputs": [],
   "source": [
    "X_train = np.array(trainn)\n",
    "y_train = np.array(df_train[[\"valence\",\"arousal\"]])\n",
    "X_test = np.array(df_test)"
   ]
  },
  {
   "cell_type": "code",
   "execution_count": 21,
   "id": "489fcddc",
   "metadata": {
    "execution": {
     "iopub.execute_input": "2022-07-18T08:16:28.038680Z",
     "iopub.status.busy": "2022-07-18T08:16:28.038248Z",
     "iopub.status.idle": "2022-07-18T08:16:28.043109Z",
     "shell.execute_reply": "2022-07-18T08:16:28.042221Z"
    },
    "papermill": {
     "duration": 0.020537,
     "end_time": "2022-07-18T08:16:28.045714",
     "exception": false,
     "start_time": "2022-07-18T08:16:28.025177",
     "status": "completed"
    },
    "tags": []
   },
   "outputs": [
    {
     "name": "stdout",
     "output_type": "stream",
     "text": [
      "Shape of X_train (2898, 1792) \n",
      "Shape of y_test (2898, 2)\n",
      "Shape of X_test (1242, 1792)\n"
     ]
    }
   ],
   "source": [
    "print('Shape of X_train {} \\nShape of y_test {}\\nShape of X_test {}'.format(X_train.shape,y_train.shape,X_test.shape))"
   ]
  },
  {
   "cell_type": "markdown",
   "id": "614da450",
   "metadata": {
    "papermill": {
     "duration": 0.011294,
     "end_time": "2022-07-18T08:16:28.069464",
     "exception": false,
     "start_time": "2022-07-18T08:16:28.058170",
     "status": "completed"
    },
    "tags": []
   },
   "source": [
    "#### Feature Scaling"
   ]
  },
  {
   "cell_type": "code",
   "execution_count": 22,
   "id": "c761daa9",
   "metadata": {
    "execution": {
     "iopub.execute_input": "2022-07-18T08:16:28.094551Z",
     "iopub.status.busy": "2022-07-18T08:16:28.093927Z",
     "iopub.status.idle": "2022-07-18T08:16:28.281481Z",
     "shell.execute_reply": "2022-07-18T08:16:28.280265Z"
    },
    "papermill": {
     "duration": 0.202905,
     "end_time": "2022-07-18T08:16:28.283960",
     "exception": false,
     "start_time": "2022-07-18T08:16:28.081055",
     "status": "completed"
    },
    "tags": []
   },
   "outputs": [],
   "source": [
    "from sklearn.preprocessing import MinMaxScaler\n",
    "mms = MinMaxScaler()\n",
    "X_train = mms.fit_transform(X_train)\n",
    "X_test = mms.transform(X_test)"
   ]
  },
  {
   "cell_type": "code",
   "execution_count": 23,
   "id": "588a6dc8",
   "metadata": {
    "execution": {
     "iopub.execute_input": "2022-07-18T08:16:28.309140Z",
     "iopub.status.busy": "2022-07-18T08:16:28.308310Z",
     "iopub.status.idle": "2022-07-18T08:16:28.315736Z",
     "shell.execute_reply": "2022-07-18T08:16:28.314708Z"
    },
    "papermill": {
     "duration": 0.02221,
     "end_time": "2022-07-18T08:16:28.318077",
     "exception": false,
     "start_time": "2022-07-18T08:16:28.295867",
     "status": "completed"
    },
    "tags": []
   },
   "outputs": [
    {
     "data": {
      "text/plain": [
       "array([[5., 6.],\n",
       "       [1., 7.],\n",
       "       [1., 6.],\n",
       "       ...,\n",
       "       [5., 5.],\n",
       "       [4., 7.],\n",
       "       [1., 7.]])"
      ]
     },
     "execution_count": 23,
     "metadata": {},
     "output_type": "execute_result"
    }
   ],
   "source": [
    "y_train"
   ]
  },
  {
   "cell_type": "code",
   "execution_count": 24,
   "id": "e8d85889",
   "metadata": {
    "execution": {
     "iopub.execute_input": "2022-07-18T08:16:28.342940Z",
     "iopub.status.busy": "2022-07-18T08:16:28.342666Z",
     "iopub.status.idle": "2022-07-18T08:16:28.349260Z",
     "shell.execute_reply": "2022-07-18T08:16:28.348391Z"
    },
    "papermill": {
     "duration": 0.02105,
     "end_time": "2022-07-18T08:16:28.351263",
     "exception": false,
     "start_time": "2022-07-18T08:16:28.330213",
     "status": "completed"
    },
    "tags": []
   },
   "outputs": [],
   "source": [
    "y_train = mms.fit_transform(y_train.reshape(-1,2))"
   ]
  },
  {
   "cell_type": "code",
   "execution_count": 25,
   "id": "1a20b6e7",
   "metadata": {
    "execution": {
     "iopub.execute_input": "2022-07-18T08:16:28.376058Z",
     "iopub.status.busy": "2022-07-18T08:16:28.375797Z",
     "iopub.status.idle": "2022-07-18T08:16:28.381913Z",
     "shell.execute_reply": "2022-07-18T08:16:28.381016Z"
    },
    "papermill": {
     "duration": 0.021022,
     "end_time": "2022-07-18T08:16:28.384000",
     "exception": false,
     "start_time": "2022-07-18T08:16:28.362978",
     "status": "completed"
    },
    "tags": []
   },
   "outputs": [
    {
     "data": {
      "text/plain": [
       "array([[0.66666667, 0.625     ],\n",
       "       [0.        , 0.75      ],\n",
       "       [0.        , 0.625     ],\n",
       "       ...,\n",
       "       [0.66666667, 0.5       ],\n",
       "       [0.5       , 0.75      ],\n",
       "       [0.        , 0.75      ]])"
      ]
     },
     "execution_count": 25,
     "metadata": {},
     "output_type": "execute_result"
    }
   ],
   "source": [
    "y_train"
   ]
  },
  {
   "cell_type": "code",
   "execution_count": 26,
   "id": "8d33cac2",
   "metadata": {
    "execution": {
     "iopub.execute_input": "2022-07-18T08:16:28.408938Z",
     "iopub.status.busy": "2022-07-18T08:16:28.408676Z",
     "iopub.status.idle": "2022-07-18T08:16:33.753946Z",
     "shell.execute_reply": "2022-07-18T08:16:33.752972Z"
    },
    "papermill": {
     "duration": 5.360112,
     "end_time": "2022-07-18T08:16:33.756435",
     "exception": false,
     "start_time": "2022-07-18T08:16:28.396323",
     "status": "completed"
    },
    "tags": []
   },
   "outputs": [],
   "source": [
    "from keras.models import Sequential\n",
    "from keras.layers import Dense,Dropout"
   ]
  },
  {
   "cell_type": "code",
   "execution_count": 27,
   "id": "35ae93d6",
   "metadata": {
    "execution": {
     "iopub.execute_input": "2022-07-18T08:16:33.782452Z",
     "iopub.status.busy": "2022-07-18T08:16:33.781836Z",
     "iopub.status.idle": "2022-07-18T08:16:33.786373Z",
     "shell.execute_reply": "2022-07-18T08:16:33.785406Z"
    },
    "papermill": {
     "duration": 0.019371,
     "end_time": "2022-07-18T08:16:33.788442",
     "exception": false,
     "start_time": "2022-07-18T08:16:33.769071",
     "status": "completed"
    },
    "tags": []
   },
   "outputs": [],
   "source": [
    "# regressor = Sequential()\n",
    "# regressor.add(Dense(units=512,activation='relu',kernel_initializer='uniform'))\n",
    "# regressor.add(Dense(units=256,activation='relu',kernel_initializer='uniform'))\n",
    "# regressor.add(Dense(units=128,activation='relu',kernel_initializer='uniform'))\n",
    "# regressor.add(Dense(units=64,activation='relu',kernel_initializer='uniform'))\n",
    "# regressor.add(Dense(units=2,activation='relu',kernel_initializer='uniform'))"
   ]
  },
  {
   "cell_type": "code",
   "execution_count": 28,
   "id": "a2486a4c",
   "metadata": {
    "execution": {
     "iopub.execute_input": "2022-07-18T08:16:33.814144Z",
     "iopub.status.busy": "2022-07-18T08:16:33.813872Z",
     "iopub.status.idle": "2022-07-18T08:16:33.817900Z",
     "shell.execute_reply": "2022-07-18T08:16:33.816884Z"
    },
    "papermill": {
     "duration": 0.019587,
     "end_time": "2022-07-18T08:16:33.820113",
     "exception": false,
     "start_time": "2022-07-18T08:16:33.800526",
     "status": "completed"
    },
    "tags": []
   },
   "outputs": [],
   "source": [
    "# regressor.compile(optimizer='adam',loss='mean_absolute_error',metrics=['mean_absolute_error'])"
   ]
  },
  {
   "cell_type": "code",
   "execution_count": 29,
   "id": "f22e047d",
   "metadata": {
    "execution": {
     "iopub.execute_input": "2022-07-18T08:16:33.844243Z",
     "iopub.status.busy": "2022-07-18T08:16:33.843980Z",
     "iopub.status.idle": "2022-07-18T08:16:33.848114Z",
     "shell.execute_reply": "2022-07-18T08:16:33.847302Z"
    },
    "papermill": {
     "duration": 0.018467,
     "end_time": "2022-07-18T08:16:33.850028",
     "exception": false,
     "start_time": "2022-07-18T08:16:33.831561",
     "status": "completed"
    },
    "tags": []
   },
   "outputs": [],
   "source": [
    "# regressor.fit(X_train,y_train,epochs=250,batch_size=15)"
   ]
  },
  {
   "cell_type": "code",
   "execution_count": 30,
   "id": "af1b1bef",
   "metadata": {
    "execution": {
     "iopub.execute_input": "2022-07-18T08:16:33.874688Z",
     "iopub.status.busy": "2022-07-18T08:16:33.874019Z",
     "iopub.status.idle": "2022-07-18T08:16:33.878207Z",
     "shell.execute_reply": "2022-07-18T08:16:33.877395Z"
    },
    "papermill": {
     "duration": 0.018597,
     "end_time": "2022-07-18T08:16:33.880114",
     "exception": false,
     "start_time": "2022-07-18T08:16:33.861517",
     "status": "completed"
    },
    "tags": []
   },
   "outputs": [],
   "source": [
    "# losses = regressor.history.history\n",
    "# losses = np.array(pd.DataFrame(losses))\n",
    "# plt.plot(losses)\n",
    "# plt.xlabel('Epochs')\n",
    "# plt.ylabel('loss')"
   ]
  },
  {
   "cell_type": "code",
   "execution_count": 31,
   "id": "84a27a7f",
   "metadata": {
    "execution": {
     "iopub.execute_input": "2022-07-18T08:16:33.905034Z",
     "iopub.status.busy": "2022-07-18T08:16:33.904790Z",
     "iopub.status.idle": "2022-07-18T08:16:33.908594Z",
     "shell.execute_reply": "2022-07-18T08:16:33.907614Z"
    },
    "papermill": {
     "duration": 0.018537,
     "end_time": "2022-07-18T08:16:33.910812",
     "exception": false,
     "start_time": "2022-07-18T08:16:33.892275",
     "status": "completed"
    },
    "tags": []
   },
   "outputs": [],
   "source": [
    "# y_pred = regressor.predict(X_test) \n",
    "# y_pred_original = mms.inverse_transform(y_pred.reshape(-1,2))\n",
    "# y_pred_original = y_pred_original.tolist()"
   ]
  },
  {
   "cell_type": "code",
   "execution_count": null,
   "id": "a57f48b6",
   "metadata": {
    "papermill": {
     "duration": 0.01135,
     "end_time": "2022-07-18T08:16:33.933642",
     "exception": false,
     "start_time": "2022-07-18T08:16:33.922292",
     "status": "completed"
    },
    "tags": []
   },
   "outputs": [],
   "source": []
  },
  {
   "cell_type": "code",
   "execution_count": 32,
   "id": "ba189905",
   "metadata": {
    "execution": {
     "iopub.execute_input": "2022-07-18T08:16:33.957701Z",
     "iopub.status.busy": "2022-07-18T08:16:33.957458Z",
     "iopub.status.idle": "2022-07-18T08:16:33.962394Z",
     "shell.execute_reply": "2022-07-18T08:16:33.961566Z"
    },
    "papermill": {
     "duration": 0.019126,
     "end_time": "2022-07-18T08:16:33.964276",
     "exception": false,
     "start_time": "2022-07-18T08:16:33.945150",
     "status": "completed"
    },
    "tags": []
   },
   "outputs": [],
   "source": [
    "# x=[i[0] for i in y_pred_original]\n",
    "# y=[i[1] for i in y_pred_original]"
   ]
  },
  {
   "cell_type": "code",
   "execution_count": 33,
   "id": "e58c2656",
   "metadata": {
    "execution": {
     "iopub.execute_input": "2022-07-18T08:16:33.988250Z",
     "iopub.status.busy": "2022-07-18T08:16:33.988004Z",
     "iopub.status.idle": "2022-07-18T08:16:33.991884Z",
     "shell.execute_reply": "2022-07-18T08:16:33.990994Z"
    },
    "papermill": {
     "duration": 0.017952,
     "end_time": "2022-07-18T08:16:33.993750",
     "exception": false,
     "start_time": "2022-07-18T08:16:33.975798",
     "status": "completed"
    },
    "tags": []
   },
   "outputs": [],
   "source": [
    "# df=pd.DataFrame({\"ID\":Id,\"x\":x,\"y\":y})"
   ]
  },
  {
   "cell_type": "code",
   "execution_count": 34,
   "id": "865593f4",
   "metadata": {
    "execution": {
     "iopub.execute_input": "2022-07-18T08:16:34.019095Z",
     "iopub.status.busy": "2022-07-18T08:16:34.018851Z",
     "iopub.status.idle": "2022-07-18T08:16:34.022396Z",
     "shell.execute_reply": "2022-07-18T08:16:34.021523Z"
    },
    "papermill": {
     "duration": 0.018315,
     "end_time": "2022-07-18T08:16:34.024271",
     "exception": false,
     "start_time": "2022-07-18T08:16:34.005956",
     "status": "completed"
    },
    "tags": []
   },
   "outputs": [],
   "source": [
    "# sub1=df.to_csv(\"sub3.csv\", index=False)"
   ]
  },
  {
   "cell_type": "markdown",
   "id": "28fe2d45",
   "metadata": {
    "papermill": {
     "duration": 0.011833,
     "end_time": "2022-07-18T08:16:34.047925",
     "exception": false,
     "start_time": "2022-07-18T08:16:34.036092",
     "status": "completed"
    },
    "tags": []
   },
   "source": [
    "****"
   ]
  },
  {
   "cell_type": "markdown",
   "id": "595e7e06",
   "metadata": {
    "papermill": {
     "duration": 0.011561,
     "end_time": "2022-07-18T08:16:34.071214",
     "exception": false,
     "start_time": "2022-07-18T08:16:34.059653",
     "status": "completed"
    },
    "tags": []
   },
   "source": [
    "****"
   ]
  },
  {
   "cell_type": "code",
   "execution_count": 35,
   "id": "e0f22db8",
   "metadata": {
    "execution": {
     "iopub.execute_input": "2022-07-18T08:16:34.095624Z",
     "iopub.status.busy": "2022-07-18T08:16:34.095377Z",
     "iopub.status.idle": "2022-07-18T08:16:36.679357Z",
     "shell.execute_reply": "2022-07-18T08:16:36.678363Z"
    },
    "papermill": {
     "duration": 2.599385,
     "end_time": "2022-07-18T08:16:36.682087",
     "exception": false,
     "start_time": "2022-07-18T08:16:34.082702",
     "status": "completed"
    },
    "tags": []
   },
   "outputs": [
    {
     "data": {
      "text/html": [
       "<style type='text/css'>\n",
       ".datatable table.frame { margin-bottom: 0; }\n",
       ".datatable table.frame thead { border-bottom: none; }\n",
       ".datatable table.frame tr.coltypes td {  color: #FFFFFF;  line-height: 6px;  padding: 0 0.5em;}\n",
       ".datatable .bool    { background: #DDDD99; }\n",
       ".datatable .object  { background: #565656; }\n",
       ".datatable .int     { background: #5D9E5D; }\n",
       ".datatable .float   { background: #4040CC; }\n",
       ".datatable .str     { background: #CC4040; }\n",
       ".datatable .time    { background: #40CC40; }\n",
       ".datatable .row_index {  background: var(--jp-border-color3);  border-right: 1px solid var(--jp-border-color0);  color: var(--jp-ui-font-color3);  font-size: 9px;}\n",
       ".datatable .frame tbody td { text-align: left; }\n",
       ".datatable .frame tr.coltypes .row_index {  background: var(--jp-border-color0);}\n",
       ".datatable th:nth-child(2) { padding-left: 12px; }\n",
       ".datatable .hellipsis {  color: var(--jp-cell-editor-border-color);}\n",
       ".datatable .vellipsis {  background: var(--jp-layout-color0);  color: var(--jp-cell-editor-border-color);}\n",
       ".datatable .na {  color: var(--jp-cell-editor-border-color);  font-size: 80%;}\n",
       ".datatable .sp {  opacity: 0.25;}\n",
       ".datatable .footer { font-size: 9px; }\n",
       ".datatable .frame_dimensions {  background: var(--jp-border-color3);  border-top: 1px solid var(--jp-border-color0);  color: var(--jp-ui-font-color3);  display: inline-block;  opacity: 0.6;  padding: 1px 10px 1px 5px;}\n",
       "</style>\n"
      ],
      "text/plain": [
       "<IPython.core.display.HTML object>"
      ]
     },
     "metadata": {},
     "output_type": "display_data"
    }
   ],
   "source": [
    "from sklearn.linear_model import ElasticNet, Lasso,  BayesianRidge, LassoLarsIC\n",
    "from sklearn.ensemble import RandomForestRegressor,  GradientBoostingRegressor\n",
    "from sklearn.kernel_ridge import KernelRidge\n",
    "from sklearn.pipeline import make_pipeline\n",
    "from sklearn.preprocessing import RobustScaler\n",
    "from sklearn.base import BaseEstimator, TransformerMixin, RegressorMixin, clone\n",
    "from sklearn.model_selection import KFold, cross_val_score, train_test_split\n",
    "from sklearn.metrics import mean_squared_error\n",
    "import xgboost as xgb\n",
    "import lightgbm as lgb"
   ]
  },
  {
   "cell_type": "code",
   "execution_count": 36,
   "id": "c76bcf50",
   "metadata": {
    "execution": {
     "iopub.execute_input": "2022-07-18T08:16:36.708557Z",
     "iopub.status.busy": "2022-07-18T08:16:36.706768Z",
     "iopub.status.idle": "2022-07-18T08:16:36.713087Z",
     "shell.execute_reply": "2022-07-18T08:16:36.712224Z"
    },
    "papermill": {
     "duration": 0.020839,
     "end_time": "2022-07-18T08:16:36.715058",
     "exception": false,
     "start_time": "2022-07-18T08:16:36.694219",
     "status": "completed"
    },
    "tags": []
   },
   "outputs": [],
   "source": [
    "#Validation function\n",
    "n_folds = 5\n",
    "\n",
    "def mae_cv(model):\n",
    "    kf = KFold(n_folds, shuffle=True, random_state=42).get_n_splits(X_train)\n",
    "    mae= (-cross_val_score(model, X_train, y_train, scoring=\"neg_mean_absolute_error\", cv = kf))\n",
    "    return(mae)"
   ]
  },
  {
   "cell_type": "code",
   "execution_count": 37,
   "id": "06531cd8",
   "metadata": {
    "execution": {
     "iopub.execute_input": "2022-07-18T08:16:36.741331Z",
     "iopub.status.busy": "2022-07-18T08:16:36.739801Z",
     "iopub.status.idle": "2022-07-18T08:16:36.745030Z",
     "shell.execute_reply": "2022-07-18T08:16:36.744116Z"
    },
    "papermill": {
     "duration": 0.019882,
     "end_time": "2022-07-18T08:16:36.747016",
     "exception": false,
     "start_time": "2022-07-18T08:16:36.727134",
     "status": "completed"
    },
    "tags": []
   },
   "outputs": [],
   "source": [
    "lasso = make_pipeline(RobustScaler(), Lasso(alpha =0.0005, random_state=1))"
   ]
  }
 ],
 "metadata": {
  "kernelspec": {
   "display_name": "Python 3",
   "language": "python",
   "name": "python3"
  },
  "language_info": {
   "codemirror_mode": {
    "name": "ipython",
    "version": 3
   },
   "file_extension": ".py",
   "mimetype": "text/x-python",
   "name": "python",
   "nbconvert_exporter": "python",
   "pygments_lexer": "ipython3",
   "version": "3.7.12"
  },
  "papermill": {
   "default_parameters": {},
   "duration": 25.463772,
   "end_time": "2022-07-18T08:16:39.710183",
   "environment_variables": {},
   "exception": null,
   "input_path": "__notebook__.ipynb",
   "output_path": "__notebook__.ipynb",
   "parameters": {},
   "start_time": "2022-07-18T08:16:14.246411",
   "version": "2.3.4"
  }
 },
 "nbformat": 4,
 "nbformat_minor": 5
}
